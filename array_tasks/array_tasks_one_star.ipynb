{
  "nbformat": 4,
  "nbformat_minor": 0,
  "metadata": {
    "colab": {
      "name": "basic-tasks.ipynb",
      "provenance": [],
      "collapsed_sections": []
    },
    "kernelspec": {
      "display_name": "Julia",
      "language": "julia",
      "name": "julia"
    },
    "language_info": {
      "file_extension": ".jl",
      "mimetype": "application/julia",
      "name": "julia"
    }
  },
  "cells": [
    {
      "cell_type": "markdown",
      "metadata": {
        "id": "f_1dr-2W5iSU"
      },
      "source": [
        "# Getting Started with Julia in Colab/Jupyter\n",
        "You can either run this notebook in Google Colab, or using Jupyter on your own machine."
      ]
    },
    {
      "cell_type": "markdown",
      "metadata": {
        "id": "6ew60wXrZM0W"
      },
      "source": [
        "## Running on Google Colab\n",
        "1. Work on a copy of this notebook: _File_ > _Save a copy in Drive_ (you will need a Google account). Alternatively, you can download the notebook using _File_ > _Download .ipynb_, then upload it to [Colab](https://colab.research.google.com/).\n",
        "2. Execute the following cell (click on it and press Ctrl+Enter) to install Julia, IJulia (the Jupyter kernel for Julia) and other packages. You can update `JULIA_VERSION` and the other parameters, if you know what you're doing. Installation takes 2-3 minutes.\n",
        "3. Reload this page (press Ctrl+R, or ⌘+R, or the F5 key) and continue to the _Checking the Installation_ section.\n",
        "\n",
        "* _Note_: If your Colab Runtime gets reset (e.g., due to inactivity), repeat steps 2 and 3."
      ]
    },
    {
      "cell_type": "code",
      "metadata": {
        "id": "GIeFXS0F0zww",
        "colab": {
          "base_uri": "https://localhost:8080/"
        },
        "outputId": "3c622082-3057-44c1-9f62-164aed1ec1ee"
      },
      "source": [
        "%%shell\n",
        "set -e\n",
        "\n",
        "#---------------------------------------------------#\n",
        "JULIA_VERSION=\"1.6.0\" # any version ≥ 0.7.0\n",
        "JULIA_PACKAGES=\"IJulia\"\n",
        "JULIA_PACKAGES_IF_GPU=\"CUDA\"\n",
        "JULIA_NUM_THREADS=4\n",
        "#---------------------------------------------------#\n",
        "\n",
        "if [ -n \"$COLAB_GPU\" ] && [ -z `which julia` ]; then\n",
        "  # Install Julia\n",
        "  JULIA_VER=`cut -d '.' -f -2 <<< \"$JULIA_VERSION\"`\n",
        "  echo \"Installing Julia $JULIA_VERSION on the current Colab Runtime...\"\n",
        "  BASE_URL=\"https://julialang-s3.julialang.org/bin/linux/x64\"\n",
        "  URL=\"$BASE_URL/$JULIA_VER/julia-$JULIA_VERSION-linux-x86_64.tar.gz\"\n",
        "  wget -nv $URL -O /tmp/julia.tar.gz # -nv means \"not verbose\"\n",
        "  tar -x -f /tmp/julia.tar.gz -C /usr/local --strip-components 1\n",
        "  rm /tmp/julia.tar.gz\n",
        "\n",
        "  # Install Packages\n",
        "  if [ \"$COLAB_GPU\" = \"1\" ]; then\n",
        "      JULIA_PACKAGES=\"$JULIA_PACKAGES $JULIA_PACKAGES_IF_GPU\"\n",
        "  fi\n",
        "  for PKG in `echo $JULIA_PACKAGES`; do\n",
        "    echo \"Installing Julia package $PKG...\"\n",
        "    julia -e 'using Pkg; pkg\"add '$PKG'; precompile;\"' &> /dev/null\n",
        "  done\n",
        "\n",
        "  # Install kernel and rename it to \"julia\"\n",
        "  echo \"Installing IJulia kernel...\"\n",
        "  julia -e 'using IJulia; IJulia.installkernel(\"julia\", env=Dict(\n",
        "      \"JULIA_NUM_THREADS\"=>\"'\"$JULIA_NUM_THREADS\"'\"))'\n",
        "  KERNEL_DIR=`julia -e \"using IJulia; print(IJulia.kerneldir())\"`\n",
        "  KERNEL_NAME=`ls -d \"$KERNEL_DIR\"/julia*`\n",
        "  mv -f $KERNEL_NAME \"$KERNEL_DIR\"/julia  \n",
        "\n",
        "  echo ''\n",
        "  echo \"Successfully installed `julia -v`!\"\n",
        "  echo \"Please reload this page (press Ctrl+R, ⌘+R, or the F5 key) then\"\n",
        "  echo \"jump to the 'Checking the Installation' section.\"\n",
        "fi"
      ],
      "execution_count": null,
      "outputs": [
        {
          "output_type": "stream",
          "name": "stdout",
          "text": [
            "Installing Julia 1.6.0 on the current Colab Runtime...\n",
            "2021-12-03 12:13:46 URL:https://storage.googleapis.com/julialang2/bin/linux/x64/1.6/julia-1.6.0-linux-x86_64.tar.gz [112838927/112838927] -> \"/tmp/julia.tar.gz\" [1]\n",
            "Installing Julia package IJulia...\n"
          ]
        }
      ]
    },
    {
      "cell_type": "markdown",
      "metadata": {
        "id": "-OS3Ac017T1i"
      },
      "source": [
        "## Checking the Installation\n",
        "The `versioninfo()` function should print your Julia version and some other info about the system (if you ever ask for help or file an issue about Julia, you should always provide this information)."
      ]
    },
    {
      "cell_type": "code",
      "metadata": {
        "id": "EEzvvzCl1i0F",
        "colab": {
          "base_uri": "https://localhost:8080/"
        },
        "outputId": "bcd539af-0455-4077-d568-431cd5d75702"
      },
      "source": [
        "versioninfo()"
      ],
      "execution_count": 1,
      "outputs": [
        {
          "output_type": "stream",
          "name": "stdout",
          "text": [
            "Julia Version 1.6.0\n",
            "Commit f9720dc2eb (2021-03-24 12:55 UTC)\n",
            "Platform Info:\n",
            "  OS: Linux (x86_64-pc-linux-gnu)\n",
            "  CPU: Intel(R) Xeon(R) CPU @ 2.20GHz\n",
            "  WORD_SIZE: 64\n",
            "  LIBM: libopenlibm\n",
            "  LLVM: libLLVM-11.0.1 (ORCJIT, broadwell)\n",
            "Environment:\n",
            "  JULIA_NUM_THREADS = 4\n"
          ]
        }
      ]
    },
    {
      "cell_type": "code",
      "metadata": {
        "id": "vjhJb4Yj8Jv4"
      },
      "source": [
        "using LinearAlgebra\n",
        "using Statistics\n",
        "using Dates"
      ],
      "execution_count": 2,
      "outputs": []
    },
    {
      "cell_type": "markdown",
      "metadata": {
        "id": "YNUbXSrbrFH6"
      },
      "source": [
        "# Create a null vector of size 10"
      ]
    },
    {
      "cell_type": "code",
      "metadata": {
        "colab": {
          "base_uri": "https://localhost:8080/"
        },
        "id": "ktUgYaE9q7rr",
        "outputId": "282c1357-49c9-4a10-c40f-df2eb59c0c5f"
      },
      "source": [
        "Z = zeros(Int8,10)\n",
        "Z"
      ],
      "execution_count": null,
      "outputs": [
        {
          "output_type": "execute_result",
          "data": {
            "text/plain": [
              "10-element Vector{Int8}:\n",
              " 0\n",
              " 0\n",
              " 0\n",
              " 0\n",
              " 0\n",
              " 0\n",
              " 0\n",
              " 0\n",
              " 0\n",
              " 0"
            ]
          },
          "metadata": {},
          "execution_count": 3
        }
      ]
    },
    {
      "cell_type": "markdown",
      "metadata": {
        "id": "ckMUoBWCs4ik"
      },
      "source": [
        "# How to find the memory size of any array"
      ]
    },
    {
      "cell_type": "code",
      "metadata": {
        "colab": {
          "base_uri": "https://localhost:8080/"
        },
        "id": "ncra38mTrZav",
        "outputId": "4f890a6c-d5a2-48be-ba16-d0f892a7f17d"
      },
      "source": [
        "Z = zeros(Int8,10,10)\n",
        "Z"
      ],
      "execution_count": null,
      "outputs": [
        {
          "output_type": "execute_result",
          "data": {
            "text/plain": [
              "10×10 Matrix{Int8}:\n",
              " 0  0  0  0  0  0  0  0  0  0\n",
              " 0  0  0  0  0  0  0  0  0  0\n",
              " 0  0  0  0  0  0  0  0  0  0\n",
              " 0  0  0  0  0  0  0  0  0  0\n",
              " 0  0  0  0  0  0  0  0  0  0\n",
              " 0  0  0  0  0  0  0  0  0  0\n",
              " 0  0  0  0  0  0  0  0  0  0\n",
              " 0  0  0  0  0  0  0  0  0  0\n",
              " 0  0  0  0  0  0  0  0  0  0\n",
              " 0  0  0  0  0  0  0  0  0  0"
            ]
          },
          "metadata": {},
          "execution_count": 4
        }
      ]
    },
    {
      "cell_type": "code",
      "metadata": {
        "colab": {
          "base_uri": "https://localhost:8080/"
        },
        "id": "-Vd4GK5Qs5qg",
        "outputId": "7e3ec4a0-32f8-4503-b7d1-5b4006dc1409"
      },
      "source": [
        "size_bytes(x) = Base.format_bytes(Base.summarysize(x))\n",
        "size_bytes(Z)"
      ],
      "execution_count": null,
      "outputs": [
        {
          "output_type": "execute_result",
          "data": {
            "text/plain": [
              "\"140 bytes\""
            ]
          },
          "metadata": {},
          "execution_count": 5
        }
      ]
    },
    {
      "cell_type": "markdown",
      "metadata": {
        "id": "MSk9oEiIt0Xa"
      },
      "source": [
        "# How to get the documentation of the numpy add function from the command line?"
      ]
    },
    {
      "cell_type": "code",
      "metadata": {
        "colab": {
          "base_uri": "https://localhost:8080/",
          "height": 317
        },
        "id": "b-FX4GdVtRIY",
        "outputId": "79ea1569-0c07-40b3-e10d-ae6680a7bf95"
      },
      "source": [
        "? +"
      ],
      "execution_count": null,
      "outputs": [
        {
          "output_type": "stream",
          "name": "stdout",
          "text": [
            "search: \u001b[0m\u001b[1m+\u001b[22m\n",
            "\n"
          ]
        },
        {
          "output_type": "execute_result",
          "data": {
            "text/latex": "\\begin{verbatim}\n+(x, y...)\n\\end{verbatim}\nAddition operator. \\texttt{x+y+z+...} calls this function with all arguments, i.e. \\texttt{+(x, y, z, ...)}.\n\n\\section{Examples}\n\\begin{verbatim}\njulia> 1 + 20 + 4\n25\n\njulia> +(1, 20, 4)\n25\n\\end{verbatim}\n\\rule{\\textwidth}{1pt}\n\\begin{verbatim}\ndt::Date + t::Time -> DateTime\n\\end{verbatim}\nThe addition of a \\texttt{Date} with a \\texttt{Time} produces a \\texttt{DateTime}. The hour, minute, second, and millisecond parts of the \\texttt{Time} are used along with the year, month, and day of the \\texttt{Date} to create the new \\texttt{DateTime}. Non-zero microseconds or nanoseconds in the \\texttt{Time} type will result in an \\texttt{InexactError} being thrown.\n\n",
            "text/markdown": "```\n+(x, y...)\n```\n\nAddition operator. `x+y+z+...` calls this function with all arguments, i.e. `+(x, y, z, ...)`.\n\n# Examples\n\n```jldoctest\njulia> 1 + 20 + 4\n25\n\njulia> +(1, 20, 4)\n25\n```\n\n---\n\n```\ndt::Date + t::Time -> DateTime\n```\n\nThe addition of a `Date` with a `Time` produces a `DateTime`. The hour, minute, second, and millisecond parts of the `Time` are used along with the year, month, and day of the `Date` to create the new `DateTime`. Non-zero microseconds or nanoseconds in the `Time` type will result in an `InexactError` being thrown.\n",
            "text/plain": [
              "\u001b[36m  +(x, y...)\u001b[39m\n",
              "\n",
              "  Addition operator. \u001b[36mx+y+z+...\u001b[39m calls this function with all arguments, i.e.\n",
              "  \u001b[36m+(x, y, z, ...)\u001b[39m.\n",
              "\n",
              "\u001b[1m  Examples\u001b[22m\n",
              "\u001b[1m  ≡≡≡≡≡≡≡≡≡≡\u001b[22m\n",
              "\n",
              "\u001b[36m  julia> 1 + 20 + 4\u001b[39m\n",
              "\u001b[36m  25\u001b[39m\n",
              "\u001b[36m  \u001b[39m\n",
              "\u001b[36m  julia> +(1, 20, 4)\u001b[39m\n",
              "\u001b[36m  25\u001b[39m\n",
              "\n",
              "  ────────────────────────────────────────────────────────────────────────────\n",
              "\n",
              "\u001b[36m  dt::Date + t::Time -> DateTime\u001b[39m\n",
              "\n",
              "  The addition of a \u001b[36mDate\u001b[39m with a \u001b[36mTime\u001b[39m produces a \u001b[36mDateTime\u001b[39m. The hour, minute,\n",
              "  second, and millisecond parts of the \u001b[36mTime\u001b[39m are used along with the year,\n",
              "  month, and day of the \u001b[36mDate\u001b[39m to create the new \u001b[36mDateTime\u001b[39m. Non-zero microseconds\n",
              "  or nanoseconds in the \u001b[36mTime\u001b[39m type will result in an \u001b[36mInexactError\u001b[39m being thrown."
            ]
          },
          "metadata": {},
          "execution_count": 6
        }
      ]
    },
    {
      "cell_type": "code",
      "metadata": {
        "colab": {
          "base_uri": "https://localhost:8080/",
          "height": 341
        },
        "id": "20_FEMS_t6j_",
        "outputId": "93531a2c-c46c-443a-bafe-5db106edf864"
      },
      "source": [
        "? zero"
      ],
      "execution_count": null,
      "outputs": [
        {
          "output_type": "stream",
          "name": "stdout",
          "text": [
            "search: \u001b[0m\u001b[1mz\u001b[22m\u001b[0m\u001b[1me\u001b[22m\u001b[0m\u001b[1mr\u001b[22m\u001b[0m\u001b[1mo\u001b[22m \u001b[0m\u001b[1mz\u001b[22m\u001b[0m\u001b[1me\u001b[22m\u001b[0m\u001b[1mr\u001b[22m\u001b[0m\u001b[1mo\u001b[22ms \u001b[0m\u001b[1mZ\u001b[22m\u001b[0m\u001b[1me\u001b[22m\u001b[0m\u001b[1mr\u001b[22m\u001b[0m\u001b[1mo\u001b[22mPivotException is\u001b[0m\u001b[1mz\u001b[22m\u001b[0m\u001b[1me\u001b[22m\u001b[0m\u001b[1mr\u001b[22m\u001b[0m\u001b[1mo\u001b[22m set_\u001b[0m\u001b[1mz\u001b[22m\u001b[0m\u001b[1me\u001b[22m\u001b[0m\u001b[1mr\u001b[22m\u001b[0m\u001b[1mo\u001b[22m_subnormals\n",
            "\n"
          ]
        },
        {
          "output_type": "execute_result",
          "data": {
            "text/latex": "\\begin{verbatim}\nzero(x)\nzero(::Type)\n\\end{verbatim}\nGet the additive identity element for the type of \\texttt{x} (\\texttt{x} can also specify the type itself).\n\n\\section{Examples}\n\\begin{verbatim}\njulia> zero(1)\n0\n\njulia> zero(big\"2.0\")\n0.0\n\njulia> zero(rand(2,2))\n2×2 Matrix{Float64}:\n 0.0  0.0\n 0.0  0.0\n\\end{verbatim}\n",
            "text/markdown": "```\nzero(x)\nzero(::Type)\n```\n\nGet the additive identity element for the type of `x` (`x` can also specify the type itself).\n\n# Examples\n\n```jldoctest\njulia> zero(1)\n0\n\njulia> zero(big\"2.0\")\n0.0\n\njulia> zero(rand(2,2))\n2×2 Matrix{Float64}:\n 0.0  0.0\n 0.0  0.0\n```\n",
            "text/plain": [
              "\u001b[36m  zero(x)\u001b[39m\n",
              "\u001b[36m  zero(::Type)\u001b[39m\n",
              "\n",
              "  Get the additive identity element for the type of \u001b[36mx\u001b[39m (\u001b[36mx\u001b[39m can also specify the\n",
              "  type itself).\n",
              "\n",
              "\u001b[1m  Examples\u001b[22m\n",
              "\u001b[1m  ≡≡≡≡≡≡≡≡≡≡\u001b[22m\n",
              "\n",
              "\u001b[36m  julia> zero(1)\u001b[39m\n",
              "\u001b[36m  0\u001b[39m\n",
              "\u001b[36m  \u001b[39m\n",
              "\u001b[36m  julia> zero(big\"2.0\")\u001b[39m\n",
              "\u001b[36m  0.0\u001b[39m\n",
              "\u001b[36m  \u001b[39m\n",
              "\u001b[36m  julia> zero(rand(2,2))\u001b[39m\n",
              "\u001b[36m  2×2 Matrix{Float64}:\u001b[39m\n",
              "\u001b[36m   0.0  0.0\u001b[39m\n",
              "\u001b[36m   0.0  0.0\u001b[39m"
            ]
          },
          "metadata": {},
          "execution_count": 7
        }
      ]
    },
    {
      "cell_type": "markdown",
      "metadata": {
        "id": "tqV6MXJGuhlt"
      },
      "source": [
        "# Create a null vector of size 10 but the fifth value which is 1"
      ]
    },
    {
      "cell_type": "code",
      "metadata": {
        "colab": {
          "base_uri": "https://localhost:8080/"
        },
        "id": "qBR39lGQtsiA",
        "outputId": "b205b052-44e0-41b3-d0da-977aa682489a"
      },
      "source": [
        "Z = zeros(Int8,10)\n",
        "Z[5] = 1\n",
        "Z"
      ],
      "execution_count": null,
      "outputs": [
        {
          "output_type": "execute_result",
          "data": {
            "text/plain": [
              "10-element Vector{Int8}:\n",
              " 0\n",
              " 0\n",
              " 0\n",
              " 0\n",
              " 1\n",
              " 0\n",
              " 0\n",
              " 0\n",
              " 0\n",
              " 0"
            ]
          },
          "metadata": {},
          "execution_count": 8
        }
      ]
    },
    {
      "cell_type": "markdown",
      "metadata": {
        "id": "aal97XluvVFr"
      },
      "source": [
        "# Create a vector with values ranging from 10 to 49"
      ]
    },
    {
      "cell_type": "code",
      "metadata": {
        "colab": {
          "base_uri": "https://localhost:8080/"
        },
        "id": "CbgL9Je7uj9y",
        "outputId": "130a3394-629d-4242-aad2-5bcfa1889cd6"
      },
      "source": [
        "Z = [10:50]"
      ],
      "execution_count": null,
      "outputs": [
        {
          "output_type": "execute_result",
          "data": {
            "text/plain": [
              "1-element Vector{UnitRange{Int64}}:\n",
              " 10:50"
            ]
          },
          "metadata": {},
          "execution_count": 9
        }
      ]
    },
    {
      "cell_type": "code",
      "metadata": {
        "id": "GoVilD6MvV2e",
        "colab": {
          "base_uri": "https://localhost:8080/"
        },
        "outputId": "b1b552e3-a320-4102-e014-9390352a2cee"
      },
      "source": [
        "# If you actually want it as an array for some reason \n",
        "Z = [10:50;]\n",
        "Z"
      ],
      "execution_count": null,
      "outputs": [
        {
          "output_type": "execute_result",
          "data": {
            "text/plain": [
              "41-element Vector{Int64}:\n",
              " 10\n",
              " 11\n",
              " 12\n",
              " 13\n",
              " 14\n",
              " 15\n",
              " 16\n",
              " 17\n",
              " 18\n",
              " 19\n",
              " 20\n",
              " 21\n",
              " 22\n",
              "  ⋮\n",
              " 39\n",
              " 40\n",
              " 41\n",
              " 42\n",
              " 43\n",
              " 44\n",
              " 45\n",
              " 46\n",
              " 47\n",
              " 48\n",
              " 49\n",
              " 50"
            ]
          },
          "metadata": {},
          "execution_count": 10
        }
      ]
    },
    {
      "cell_type": "markdown",
      "metadata": {
        "id": "PR_DkJ_x1ZlZ"
      },
      "source": [
        "# Reverse a vector (first element becomes last)"
      ]
    },
    {
      "cell_type": "code",
      "metadata": {
        "colab": {
          "base_uri": "https://localhost:8080/"
        },
        "id": "Q5DQN6fm1CfK",
        "outputId": "b8263830-ebe3-48fb-aaa5-5b33415cfa57"
      },
      "source": [
        "Z = zeros(Int8,10)\n",
        "Z[1] = 1\n",
        "print(Z)\n",
        "reverse!(Z)\n",
        "Z"
      ],
      "execution_count": null,
      "outputs": [
        {
          "output_type": "stream",
          "name": "stdout",
          "text": [
            "Int8[1, 0, 0, 0, 0, 0, 0, 0, 0, 0]"
          ]
        },
        {
          "output_type": "execute_result",
          "data": {
            "text/plain": [
              "10-element Vector{Int8}:\n",
              " 0\n",
              " 0\n",
              " 0\n",
              " 0\n",
              " 0\n",
              " 0\n",
              " 0\n",
              " 0\n",
              " 0\n",
              " 1"
            ]
          },
          "metadata": {},
          "execution_count": 11
        }
      ]
    },
    {
      "cell_type": "markdown",
      "metadata": {
        "id": "_ASaMwmO2c-U"
      },
      "source": [
        "# Create a 3x3 matrix with values ranging from 0 to 8\n"
      ]
    },
    {
      "cell_type": "code",
      "metadata": {
        "colab": {
          "base_uri": "https://localhost:8080/"
        },
        "id": "3k0L3Khw1VER",
        "outputId": "625d942b-3d49-48a3-bfb3-4bac4fbb1062"
      },
      "source": [
        "Z = [0:8;]\n",
        "Z = reshape(Z,(3,3))"
      ],
      "execution_count": null,
      "outputs": [
        {
          "output_type": "execute_result",
          "data": {
            "text/plain": [
              "3×3 Matrix{Int64}:\n",
              " 0  3  6\n",
              " 1  4  7\n",
              " 2  5  8"
            ]
          },
          "metadata": {},
          "execution_count": 12
        }
      ]
    },
    {
      "cell_type": "code",
      "metadata": {
        "colab": {
          "base_uri": "https://localhost:8080/"
        },
        "id": "cEJv-vvW3Tzi",
        "outputId": "6e8bfae5-e5f2-4988-827e-bcc95bf51016"
      },
      "source": [
        "# This is likely a more efficient method\n",
        "Z = reshape(Vector(0:8),(3,3))"
      ],
      "execution_count": null,
      "outputs": [
        {
          "output_type": "execute_result",
          "data": {
            "text/plain": [
              "3×3 Matrix{Int64}:\n",
              " 0  3  6\n",
              " 1  4  7\n",
              " 2  5  8"
            ]
          },
          "metadata": {},
          "execution_count": 13
        }
      ]
    },
    {
      "cell_type": "markdown",
      "metadata": {
        "id": "Sm6St9E67L_J"
      },
      "source": [
        "# Find indices of non-zero elements from [1,2,0,0,4,0]"
      ]
    },
    {
      "cell_type": "code",
      "metadata": {
        "colab": {
          "base_uri": "https://localhost:8080/"
        },
        "id": "kbOWwBTI2And",
        "outputId": "7fd42d75-6f4a-4a6a-a492-b6b00d79db25"
      },
      "source": [
        "Z = [1,2,0,0,4,0]\n",
        "print(findall(iszero,Z))\n",
        "Z[findall(iszero,Z)]"
      ],
      "execution_count": null,
      "outputs": [
        {
          "output_type": "stream",
          "name": "stdout",
          "text": [
            "[3, 4, 6]"
          ]
        },
        {
          "output_type": "execute_result",
          "data": {
            "text/plain": [
              "3-element Vector{Int64}:\n",
              " 0\n",
              " 0\n",
              " 0"
            ]
          },
          "metadata": {},
          "execution_count": 14
        }
      ]
    },
    {
      "cell_type": "markdown",
      "metadata": {
        "id": "kQzMo5b27g-3"
      },
      "source": [
        "\n",
        "# Create a 3x3 identity matrix"
      ]
    },
    {
      "cell_type": "code",
      "metadata": {
        "colab": {
          "base_uri": "https://localhost:8080/"
        },
        "id": "HJnjEbRL7yH1",
        "outputId": "37b25fe8-8506-486b-83eb-7f68a62abc35"
      },
      "source": [
        "1.0I\n",
        "\n",
        "# This is a really profound answer to the question involving a deep dive into Julia's philosophy and computing in general \n",
        "# https://stackoverflow.com/a/57270841/14274188 you should probably read this answer before using this particular code."
      ],
      "execution_count": null,
      "outputs": [
        {
          "output_type": "execute_result",
          "data": {
            "text/plain": [
              "UniformScaling{Float64}\n",
              "1.0*I"
            ]
          },
          "metadata": {},
          "execution_count": 15
        }
      ]
    },
    {
      "cell_type": "code",
      "metadata": {
        "colab": {
          "base_uri": "https://localhost:8080/"
        },
        "id": "9UVjwrQZ4iMK",
        "outputId": "7b718793-1adb-4cc0-8109-5de27d545d09"
      },
      "source": [
        "Z = Matrix{Int8}(I,3,3)"
      ],
      "execution_count": null,
      "outputs": [
        {
          "output_type": "execute_result",
          "data": {
            "text/plain": [
              "3×3 Matrix{Int8}:\n",
              " 1  0  0\n",
              " 0  1  0\n",
              " 0  0  1"
            ]
          },
          "metadata": {},
          "execution_count": 16
        }
      ]
    },
    {
      "cell_type": "markdown",
      "metadata": {
        "id": "LubcByao_biM"
      },
      "source": [
        "# Create a 3x3x3 array with random values"
      ]
    },
    {
      "cell_type": "code",
      "metadata": {
        "colab": {
          "base_uri": "https://localhost:8080/"
        },
        "id": "RAdInOyL7bPY",
        "outputId": "f84ee016-272a-469d-c2cf-744e23e8fbde"
      },
      "source": [
        "Z = rand(Int,(3,3,3))\n",
        "Z"
      ],
      "execution_count": null,
      "outputs": [
        {
          "output_type": "execute_result",
          "data": {
            "text/plain": [
              "3×3×3 Array{Int64, 3}:\n",
              "[:, :, 1] =\n",
              "  4462908829605962438    134302792482007180  -7956179272859891739\n",
              "  2981306165387387579   3581256372772647984   8606531549616035471\n",
              " -6097961447878653192  -8858731737544484284    830913414455537103\n",
              "\n",
              "[:, :, 2] =\n",
              " -4472004227723680912  -1630895733236584839   6553962686451055036\n",
              " -5914603710251515434   5080995073221745262  -4291374127656017696\n",
              "  -765633332705086920   8530467140906831049  -1944869856493258312\n",
              "\n",
              "[:, :, 3] =\n",
              "  2911047806318721060  -3916778472331591230  4668299566307002197\n",
              "  4347163637967513912   1155511578770476134  7726494007386633838\n",
              " -2161395321096942034   3276861275716063211  1700942163756210471"
            ]
          },
          "metadata": {},
          "execution_count": 17
        }
      ]
    },
    {
      "cell_type": "markdown",
      "metadata": {
        "id": "GET81_nm_9gs"
      },
      "source": [
        "# Create a 10x10 array with random values and find the minimum and maximum values"
      ]
    },
    {
      "cell_type": "code",
      "metadata": {
        "colab": {
          "base_uri": "https://localhost:8080/"
        },
        "id": "18y5VMYc_gYn",
        "outputId": "e5d126aa-ac8b-4312-b50f-29ff8331d835"
      },
      "source": [
        "Z = rand(Int,(10,10))"
      ],
      "execution_count": null,
      "outputs": [
        {
          "output_type": "execute_result",
          "data": {
            "text/plain": [
              "10×10 Matrix{Int64}:\n",
              "   105678209628116255    458421571942946441  …  -8046476735864562858\n",
              " -6700661862063558822   1035403805771218935      7382587930512975098\n",
              " -9125283499761694147   2318493393881934630      5014774468533236524\n",
              "  8437137691564160817  -7972308997102519223     -1399364942828559626\n",
              "  3430478179138309682    657734625547908440      9036488159156928476\n",
              " -6888822698525268022   3149960591336803417  …   3895098868142242616\n",
              " -5857357756736695334   5605354194626360352      1852440565676658040\n",
              " -7157657714130360465   6216124641877313875      7017030997042407279\n",
              " -5345135659082176900  -6738613632553321418      3388480646439948835\n",
              " -4173666456499112126   -891379073152200568     -6292615590098464107"
            ]
          },
          "metadata": {},
          "execution_count": 18
        }
      ]
    },
    {
      "cell_type": "code",
      "metadata": {
        "colab": {
          "base_uri": "https://localhost:8080/"
        },
        "id": "YASAiEel_9Gg",
        "outputId": "7a6a5ef4-7ffb-4bd8-bc39-913b2fd01015"
      },
      "source": [
        "minimum(Z)"
      ],
      "execution_count": null,
      "outputs": [
        {
          "output_type": "execute_result",
          "data": {
            "text/plain": [
              "-9132762714347779880"
            ]
          },
          "metadata": {},
          "execution_count": 19
        }
      ]
    },
    {
      "cell_type": "code",
      "metadata": {
        "colab": {
          "base_uri": "https://localhost:8080/"
        },
        "id": "PPRQlhRJAEGi",
        "outputId": "42720077-802a-4ee3-9aa5-e15e85d9f2fd"
      },
      "source": [
        "maximum(Z)"
      ],
      "execution_count": null,
      "outputs": [
        {
          "output_type": "execute_result",
          "data": {
            "text/plain": [
              "9076002593816569733"
            ]
          },
          "metadata": {},
          "execution_count": 20
        }
      ]
    },
    {
      "cell_type": "markdown",
      "metadata": {
        "id": "auQoAl7L8SmU"
      },
      "source": [
        "# Create a random vector of size 30 and find the mean value"
      ]
    },
    {
      "cell_type": "code",
      "metadata": {
        "id": "w7yyzaanAU-y",
        "colab": {
          "base_uri": "https://localhost:8080/"
        },
        "outputId": "a4a1c7c9-e890-41e5-ef12-adbe29dafbb8"
      },
      "source": [
        "Z = Vector(rand(Int,10))\n",
        "\n",
        "# Kinda basic method\n",
        "sum(Z)/length(Z)"
      ],
      "execution_count": null,
      "outputs": [
        {
          "output_type": "execute_result",
          "data": {
            "text/plain": [
              "3.5199879376014406e17"
            ]
          },
          "metadata": {},
          "execution_count": 21
        }
      ]
    },
    {
      "cell_type": "code",
      "metadata": {
        "colab": {
          "base_uri": "https://localhost:8080/"
        },
        "id": "i4vPIMFT7GX3",
        "outputId": "5e147822-e0da-45dc-f8af-159e8782f71b"
      },
      "source": [
        "# This is not a part of the standard library and is instead imported from Statistics, yes not one of the best decisions Julia ever made\n",
        "mean(Z)"
      ],
      "execution_count": null,
      "outputs": [
        {
          "output_type": "execute_result",
          "data": {
            "text/plain": [
              "-1.492675613610811e18"
            ]
          },
          "metadata": {},
          "execution_count": 22
        }
      ]
    },
    {
      "cell_type": "markdown",
      "metadata": {
        "id": "nmdHOcbMDDjY"
      },
      "source": [
        "# Create a 2d array with 1 on the border and 0 inside"
      ]
    },
    {
      "cell_type": "code",
      "metadata": {
        "colab": {
          "base_uri": "https://localhost:8080/"
        },
        "id": "DcCGl1z4_7Dc",
        "outputId": "85aa2c3f-4551-40f8-c76b-64d7fc7708fd"
      },
      "source": [
        "Z = ones(10, 10)\n",
        "Z[2:end-1, 2:end-1] .= 0\n",
        "Z\n",
        "# Okay there are a few bits here that we have to address:\n",
        "# Right of the bat Julia uses 1-based indexing as you probably already know\n",
        "# The end keyword represents the end of a dimension in Julia, It provides a more explicit way to specify indexes.\n",
        "# Finally the . operator is used for broadcasting. Julia does not automatically write 0 everywhere if you use just the assignment operator. This can often trip people and instead the . operator provides an explicit broadcasting method"
      ],
      "execution_count": null,
      "outputs": [
        {
          "output_type": "execute_result",
          "data": {
            "text/plain": [
              "10×10 Matrix{Float64}:\n",
              " 1.0  1.0  1.0  1.0  1.0  1.0  1.0  1.0  1.0  1.0\n",
              " 1.0  0.0  0.0  0.0  0.0  0.0  0.0  0.0  0.0  1.0\n",
              " 1.0  0.0  0.0  0.0  0.0  0.0  0.0  0.0  0.0  1.0\n",
              " 1.0  0.0  0.0  0.0  0.0  0.0  0.0  0.0  0.0  1.0\n",
              " 1.0  0.0  0.0  0.0  0.0  0.0  0.0  0.0  0.0  1.0\n",
              " 1.0  0.0  0.0  0.0  0.0  0.0  0.0  0.0  0.0  1.0\n",
              " 1.0  0.0  0.0  0.0  0.0  0.0  0.0  0.0  0.0  1.0\n",
              " 1.0  0.0  0.0  0.0  0.0  0.0  0.0  0.0  0.0  1.0\n",
              " 1.0  0.0  0.0  0.0  0.0  0.0  0.0  0.0  0.0  1.0\n",
              " 1.0  1.0  1.0  1.0  1.0  1.0  1.0  1.0  1.0  1.0"
            ]
          },
          "metadata": {},
          "execution_count": 23
        }
      ]
    },
    {
      "cell_type": "markdown",
      "metadata": {
        "id": "oX3zV-7PKx-M"
      },
      "source": [
        "# How to add a border (filled with 0's) around an existing array?"
      ]
    },
    {
      "cell_type": "code",
      "metadata": {
        "colab": {
          "base_uri": "https://localhost:8080/"
        },
        "id": "ZAXy_nP9ABuq",
        "outputId": "63567bdc-c568-4f8e-ed8c-cdd72e1597ed"
      },
      "source": [
        "len_mat = 9\n",
        "Z = ones(Int8, len_mat, len_mat)\n",
        "borderZ = zeros(Int8, len_mat + 2, len_mat + 2)\n",
        "borderZ[2:end-1, 2:end-1] = Z\n",
        "borderZ\n",
        "# Ok so this is very much an extremely hacky way to do this but I could find a good way to go about this.\n",
        "# If you are using this in a context of images processing then Image Filtering has a way described here https://discourse.julialang.org/t/is-there-any-padding-function-available-to-pad-a-matrix-or-array/8521/3\n",
        "# PaddedViews.jl might be an option too if you are using this a lot"
      ],
      "execution_count": null,
      "outputs": [
        {
          "output_type": "execute_result",
          "data": {
            "text/plain": [
              "11×11 Matrix{Int8}:\n",
              " 0  0  0  0  0  0  0  0  0  0  0\n",
              " 0  1  1  1  1  1  1  1  1  1  0\n",
              " 0  1  1  1  1  1  1  1  1  1  0\n",
              " 0  1  1  1  1  1  1  1  1  1  0\n",
              " 0  1  1  1  1  1  1  1  1  1  0\n",
              " 0  1  1  1  1  1  1  1  1  1  0\n",
              " 0  1  1  1  1  1  1  1  1  1  0\n",
              " 0  1  1  1  1  1  1  1  1  1  0\n",
              " 0  1  1  1  1  1  1  1  1  1  0\n",
              " 0  1  1  1  1  1  1  1  1  1  0\n",
              " 0  0  0  0  0  0  0  0  0  0  0"
            ]
          },
          "metadata": {},
          "execution_count": 24
        }
      ]
    },
    {
      "cell_type": "code",
      "metadata": {
        "colab": {
          "base_uri": "https://localhost:8080/"
        },
        "id": "tBfiaXdBHuHI",
        "outputId": "c5e07957-8e1d-4f7c-895d-e195ea6c6f24"
      },
      "source": [
        "Z = ones(Int8,9,9)"
      ],
      "execution_count": null,
      "outputs": [
        {
          "output_type": "execute_result",
          "data": {
            "text/plain": [
              "9×9 Matrix{Int8}:\n",
              " 1  1  1  1  1  1  1  1  1\n",
              " 1  1  1  1  1  1  1  1  1\n",
              " 1  1  1  1  1  1  1  1  1\n",
              " 1  1  1  1  1  1  1  1  1\n",
              " 1  1  1  1  1  1  1  1  1\n",
              " 1  1  1  1  1  1  1  1  1\n",
              " 1  1  1  1  1  1  1  1  1\n",
              " 1  1  1  1  1  1  1  1  1\n",
              " 1  1  1  1  1  1  1  1  1"
            ]
          },
          "metadata": {},
          "execution_count": 25
        }
      ]
    },
    {
      "cell_type": "markdown",
      "metadata": {
        "id": "y73N7CgOZqav"
      },
      "source": [
        "# Create a 5x5 matrix with values 1,2,3,4 just below the diagonal "
      ]
    },
    {
      "cell_type": "code",
      "metadata": {
        "id": "QIqrenkVIqxc",
        "colab": {
          "base_uri": "https://localhost:8080/"
        },
        "outputId": "f13b7bfd-ecfc-4b34-bcff-332813d4501e"
      },
      "source": [
        "diagonal = [1, 2, 3, 4]\n",
        "ld = Bidiagonal(zeros(5), diagonal, :L)\n",
        "# : in this context is an identifier essentially used to identify an entity. Here if you use :U instead, that uses a different implementation which would place the diagonal vector on top of zeros instead"
      ],
      "execution_count": null,
      "outputs": [
        {
          "output_type": "execute_result",
          "data": {
            "text/plain": [
              "5×5 Bidiagonal{Float64, Vector{Float64}}:\n",
              " 0.0   ⋅    ⋅    ⋅    ⋅ \n",
              " 1.0  0.0   ⋅    ⋅    ⋅ \n",
              "  ⋅   2.0  0.0   ⋅    ⋅ \n",
              "  ⋅    ⋅   3.0  0.0   ⋅ \n",
              "  ⋅    ⋅    ⋅   4.0  0.0"
            ]
          },
          "metadata": {},
          "execution_count": 26
        }
      ]
    },
    {
      "cell_type": "markdown",
      "metadata": {
        "id": "Ng5RGcEcYrUi"
      },
      "source": [
        "# Consider a (6,7,8) shape array, what is the index (x,y,z) of the 100th element?"
      ]
    },
    {
      "cell_type": "code",
      "metadata": {
        "colab": {
          "base_uri": "https://localhost:8080/"
        },
        "id": "jegJCYNdS-Tf",
        "outputId": "1ff1b770-9707-430e-e485-84281c15a4e9"
      },
      "source": [
        "arr = rand(Int8, (6, 7, 8))\n",
        "c_x = CartesianIndices(arr)\n",
        "arr[c_x[100]]"
      ],
      "execution_count": null,
      "outputs": [
        {
          "output_type": "execute_result",
          "data": {
            "text/plain": [
              "68"
            ]
          },
          "metadata": {},
          "execution_count": 27
        }
      ]
    },
    {
      "cell_type": "markdown",
      "metadata": {
        "id": "dXPD2vb0aJ5S"
      },
      "source": [
        "# Create a checkerboard 8x8 matrix using the tile function"
      ]
    },
    {
      "cell_type": "code",
      "metadata": {
        "colab": {
          "base_uri": "https://localhost:8080/"
        },
        "id": "guPBbWhqXyI9",
        "outputId": "2075a936-718a-4a0f-fea3-18844de34732"
      },
      "source": [
        "base_mat = [[1, 0] [0, 1]]\n",
        "repeat(base_mat,4,4)"
      ],
      "execution_count": null,
      "outputs": [
        {
          "output_type": "execute_result",
          "data": {
            "text/plain": [
              "8×8 Matrix{Int64}:\n",
              " 1  0  1  0  1  0  1  0\n",
              " 0  1  0  1  0  1  0  1\n",
              " 1  0  1  0  1  0  1  0\n",
              " 0  1  0  1  0  1  0  1\n",
              " 1  0  1  0  1  0  1  0\n",
              " 0  1  0  1  0  1  0  1\n",
              " 1  0  1  0  1  0  1  0\n",
              " 0  1  0  1  0  1  0  1"
            ]
          },
          "metadata": {},
          "execution_count": 28
        }
      ]
    },
    {
      "cell_type": "markdown",
      "metadata": {
        "id": "LSX66Vy6iV6U"
      },
      "source": [
        "# Normalize a 5x5 random matrix"
      ]
    },
    {
      "cell_type": "code",
      "metadata": {
        "id": "w2gdfqaSaAfn",
        "colab": {
          "base_uri": "https://localhost:8080/"
        },
        "outputId": "b141da0c-2c20-418c-bcf0-5837a4f62fb6"
      },
      "source": [
        "Z = 2rand(5,5)"
      ],
      "execution_count": null,
      "outputs": [
        {
          "output_type": "execute_result",
          "data": {
            "text/plain": [
              "5×5 Matrix{Float64}:\n",
              " 0.300465  1.1871    1.24643   1.69243   0.421033\n",
              " 0.309838  0.094943  1.30473   1.06546   1.58777\n",
              " 1.54115   1.56349   1.6445    1.44416   0.0296642\n",
              " 0.123874  1.75054   0.716102  0.366441  0.232255\n",
              " 1.83308   1.23933   1.5344    0.379556  1.90608"
            ]
          },
          "metadata": {},
          "execution_count": 29
        }
      ]
    },
    {
      "cell_type": "code",
      "metadata": {
        "colab": {
          "base_uri": "https://localhost:8080/"
        },
        "id": "1_RooLQ8iabC",
        "outputId": "aa6195c3-9c88-4211-e439-0d2f197fc145"
      },
      "source": [
        "normalize!(Z)"
      ],
      "execution_count": null,
      "outputs": [
        {
          "output_type": "execute_result",
          "data": {
            "text/plain": [
              "5×5 Matrix{Float64}:\n",
              " 0.0500934  0.197913   0.207804  0.282161   0.0701943\n",
              " 0.051656   0.0158289  0.217524  0.177633   0.264713\n",
              " 0.25694    0.260664   0.27417   0.24077    0.0049456\n",
              " 0.0206522  0.29185    0.119388  0.0610928  0.0387214\n",
              " 0.305609   0.20662    0.255815  0.0632794  0.317781"
            ]
          },
          "metadata": {},
          "execution_count": 30
        }
      ]
    },
    {
      "cell_type": "markdown",
      "metadata": {
        "id": "mrpTDRI9kDpx"
      },
      "source": [
        "# Multiply a 5x3 matrix by a 3x2 matrix (real matrix product)"
      ]
    },
    {
      "cell_type": "code",
      "metadata": {
        "colab": {
          "base_uri": "https://localhost:8080/"
        },
        "id": "D6Whb9E7id2d",
        "outputId": "baef07a7-3bbb-44dc-85e8-5a33e49462a0"
      },
      "source": [
        "Z₁ = ones(5,3)\n",
        "Z₂ = ones(3,2)\n",
        "Z₁*Z₂\n",
        "# Yeah bit of a show off but that's just objectively cool"
      ],
      "execution_count": null,
      "outputs": [
        {
          "output_type": "execute_result",
          "data": {
            "text/plain": [
              "5×2 Matrix{Float64}:\n",
              " 3.0  3.0\n",
              " 3.0  3.0\n",
              " 3.0  3.0\n",
              " 3.0  3.0\n",
              " 3.0  3.0"
            ]
          },
          "metadata": {},
          "execution_count": 31
        }
      ]
    },
    {
      "cell_type": "markdown",
      "metadata": {
        "id": "DIGIwGP1lOc5"
      },
      "source": [
        "# Given a 1D array, negate all elements which are between 3 and 8, in place."
      ]
    },
    {
      "cell_type": "code",
      "metadata": {
        "colab": {
          "base_uri": "https://localhost:8080/"
        },
        "id": "a8As6bEYlJtl",
        "outputId": "419730a4-a828-4add-b9e7-c418b4607af8"
      },
      "source": [
        "Z = [1:11;]\n",
        "replace!(x -> (3 .<= x .<= 8) ? -x : x,Z)"
      ],
      "execution_count": null,
      "outputs": [
        {
          "output_type": "execute_result",
          "data": {
            "text/plain": [
              "11-element Vector{Int64}:\n",
              "  1\n",
              "  2\n",
              " -3\n",
              " -4\n",
              " -5\n",
              " -6\n",
              " -7\n",
              " -8\n",
              "  9\n",
              " 10\n",
              " 11"
            ]
          },
          "metadata": {},
          "execution_count": 32
        }
      ]
    },
    {
      "cell_type": "markdown",
      "metadata": {
        "id": "F5F92NW09smE"
      },
      "source": [
        "# How to round away from zero a float array ?"
      ]
    },
    {
      "cell_type": "code",
      "metadata": {
        "id": "VSmKnPqKqO9U",
        "colab": {
          "base_uri": "https://localhost:8080/"
        },
        "outputId": "64e00719-59b0-493d-aecf-9a7239e3608e"
      },
      "source": [
        "Z = [-0.5:0.1:0.5;]\n",
        "replace!(x -> x > 0 ? ceil(x) : floor(x), Z)"
      ],
      "execution_count": null,
      "outputs": [
        {
          "output_type": "execute_result",
          "data": {
            "text/plain": [
              "11-element Vector{Float64}:\n",
              " -1.0\n",
              " -1.0\n",
              " -1.0\n",
              " -1.0\n",
              " -1.0\n",
              "  0.0\n",
              "  1.0\n",
              "  1.0\n",
              "  1.0\n",
              "  1.0\n",
              "  1.0"
            ]
          },
          "metadata": {},
          "execution_count": 35
        }
      ]
    },
    {
      "cell_type": "markdown",
      "metadata": {
        "id": "JoUBeKCu9xPA"
      },
      "source": [
        "# How to find common values between two arrays?"
      ]
    },
    {
      "cell_type": "code",
      "metadata": {
        "colab": {
          "base_uri": "https://localhost:8080/"
        },
        "id": "YdBIEkLS7Jbv",
        "outputId": "9d8ec278-cb1d-4463-e41a-42ce75054c09"
      },
      "source": [
        "Z₁ = rand(1:10, 10)\n",
        "Z₂ = rand(1:10, 10)\n",
        "intersect(Z₁, Z₂)"
      ],
      "execution_count": null,
      "outputs": [
        {
          "output_type": "execute_result",
          "data": {
            "text/plain": [
              "4-element Vector{Int64}:\n",
              " 2\n",
              " 6\n",
              " 8\n",
              " 5"
            ]
          },
          "metadata": {},
          "execution_count": 36
        }
      ]
    },
    {
      "cell_type": "markdown",
      "metadata": {
        "id": "vMhDwb9KApOZ"
      },
      "source": [
        "# How to get the dates of yesterday, today and tomorrow?"
      ]
    },
    {
      "cell_type": "code",
      "metadata": {
        "colab": {
          "base_uri": "https://localhost:8080/"
        },
        "id": "shE4WJmm9WxV",
        "outputId": "c194aeb1-6a76-4a05-9cf2-5182592a34ff"
      },
      "source": [
        "today = Dates.today()\n",
        "print(\"$(today)\\n\")\n",
        "yesterday = today - Dates.Day(1)\n",
        "print(\"$(yesterday)\\n\")\n",
        "tomorrow = today + Dates.Day(1)\n",
        "print(\"$(tomorrow)\\n\")"
      ],
      "execution_count": null,
      "outputs": [
        {
          "output_type": "stream",
          "name": "stdout",
          "text": [
            "2021-11-30\n",
            "2021-11-29\n",
            "2021-12-01\n"
          ]
        }
      ]
    },
    {
      "cell_type": "markdown",
      "metadata": {
        "id": "tLzX9ns8OTPR"
      },
      "source": [
        "# Consider a generator function that generates 10 integers and use it to build an array"
      ]
    },
    {
      "cell_type": "code",
      "metadata": {
        "colab": {
          "base_uri": "https://localhost:8080/"
        },
        "id": "0-FebJ_hOO6K",
        "outputId": "ae5db732-9087-44f6-8f30-c2a8fc75b3fd"
      },
      "source": [
        "int_gen = (x for x = 1:10)\n",
        "collect(int_gen)"
      ],
      "execution_count": 5,
      "outputs": [
        {
          "output_type": "execute_result",
          "data": {
            "text/plain": [
              "10-element Vector{Int64}:\n",
              "  1\n",
              "  2\n",
              "  3\n",
              "  4\n",
              "  5\n",
              "  6\n",
              "  7\n",
              "  8\n",
              "  9\n",
              " 10"
            ]
          },
          "metadata": {},
          "execution_count": 5
        }
      ]
    },
    {
      "cell_type": "code",
      "metadata": {
        "id": "pF1naqhmOPzR"
      },
      "source": [
        ""
      ],
      "execution_count": null,
      "outputs": []
    }
  ]
}