{
  "nbformat": 4,
  "nbformat_minor": 0,
  "metadata": {
    "colab": {
      "name": "array_tasks_two_star.ipynb",
      "provenance": [],
      "collapsed_sections": [],
      "toc_visible": true
    },
    "kernelspec": {
      "display_name": "Julia",
      "language": "julia",
      "name": "julia"
    },
    "language_info": {
      "file_extension": ".jl",
      "mimetype": "application/julia",
      "name": "julia"
    }
  },
  "cells": [
    {
      "cell_type": "markdown",
      "metadata": {
        "id": "f_1dr-2W5iSU"
      },
      "source": [
        "# Getting Started with Julia in Colab/Jupyter\n",
        "You can either run this notebook in Google Colab, or using Jupyter on your own machine."
      ]
    },
    {
      "cell_type": "markdown",
      "metadata": {
        "id": "6ew60wXrZM0W"
      },
      "source": [
        "## Running on Google Colab\n",
        "1. Work on a copy of this notebook: _File_ > _Save a copy in Drive_ (you will need a Google account). Alternatively, you can download the notebook using _File_ > _Download .ipynb_, then upload it to [Colab](https://colab.research.google.com/).\n",
        "2. Execute the following cell (click on it and press Ctrl+Enter) to install Julia, IJulia (the Jupyter kernel for Julia) and other packages. You can update `JULIA_VERSION` and the other parameters, if you know what you're doing. Installation takes 2-3 minutes.\n",
        "3. Reload this page (press Ctrl+R, or ⌘+R, or the F5 key) and continue to the _Checking the Installation_ section.\n",
        "\n",
        "* _Note_: If your Colab Runtime gets reset (e.g., due to inactivity), repeat steps 2 and 3."
      ]
    },
    {
      "cell_type": "code",
      "metadata": {
        "id": "GIeFXS0F0zww",
        "colab": {
          "base_uri": "https://localhost:8080/"
        },
        "outputId": "8d3b107d-93f2-4b12-cfe6-f568d988f1e5"
      },
      "source": [
        "%%shell\n",
        "set -e\n",
        "\n",
        "#---------------------------------------------------#\n",
        "JULIA_VERSION=\"1.6.0\" # any version ≥ 0.7.0\n",
        "JULIA_PACKAGES=\"IJulia\"\n",
        "JULIA_PACKAGES_IF_GPU=\"CUDA\"\n",
        "JULIA_NUM_THREADS=4\n",
        "#---------------------------------------------------#\n",
        "\n",
        "if [ -n \"$COLAB_GPU\" ] && [ -z `which julia` ]; then\n",
        "  # Install Julia\n",
        "  JULIA_VER=`cut -d '.' -f -2 <<< \"$JULIA_VERSION\"`\n",
        "  echo \"Installing Julia $JULIA_VERSION on the current Colab Runtime...\"\n",
        "  BASE_URL=\"https://julialang-s3.julialang.org/bin/linux/x64\"\n",
        "  URL=\"$BASE_URL/$JULIA_VER/julia-$JULIA_VERSION-linux-x86_64.tar.gz\"\n",
        "  wget -nv $URL -O /tmp/julia.tar.gz # -nv means \"not verbose\"\n",
        "  tar -x -f /tmp/julia.tar.gz -C /usr/local --strip-components 1\n",
        "  rm /tmp/julia.tar.gz\n",
        "\n",
        "  # Install Packages\n",
        "  if [ \"$COLAB_GPU\" = \"1\" ]; then\n",
        "      JULIA_PACKAGES=\"$JULIA_PACKAGES $JULIA_PACKAGES_IF_GPU\"\n",
        "  fi\n",
        "  for PKG in `echo $JULIA_PACKAGES`; do\n",
        "    echo \"Installing Julia package $PKG...\"\n",
        "    julia -e 'using Pkg; pkg\"add '$PKG'; precompile;\"' &> /dev/null\n",
        "  done\n",
        "\n",
        "  # Install kernel and rename it to \"julia\"\n",
        "  echo \"Installing IJulia kernel...\"\n",
        "  julia -e 'using IJulia; IJulia.installkernel(\"julia\", env=Dict(\n",
        "      \"JULIA_NUM_THREADS\"=>\"'\"$JULIA_NUM_THREADS\"'\"))'\n",
        "  KERNEL_DIR=`julia -e \"using IJulia; print(IJulia.kerneldir())\"`\n",
        "  KERNEL_NAME=`ls -d \"$KERNEL_DIR\"/julia*`\n",
        "  mv -f $KERNEL_NAME \"$KERNEL_DIR\"/julia  \n",
        "\n",
        "  echo ''\n",
        "  echo \"Successfully installed `julia -v`!\"\n",
        "  echo \"Please reload this page (press Ctrl+R, ⌘+R, or the F5 key) then\"\n",
        "  echo \"jump to the 'Checking the Installation' section.\"\n",
        "fi"
      ],
      "execution_count": null,
      "outputs": [
        {
          "output_type": "stream",
          "name": "stdout",
          "text": [
            "Installing Julia 1.6.0 on the current Colab Runtime...\n",
            "2021-12-04 11:32:02 URL:https://storage.googleapis.com/julialang2/bin/linux/x64/1.6/julia-1.6.0-linux-x86_64.tar.gz [112838927/112838927] -> \"/tmp/julia.tar.gz\" [1]\n",
            "Installing Julia package IJulia...\n"
          ]
        }
      ]
    },
    {
      "cell_type": "markdown",
      "metadata": {
        "id": "-OS3Ac017T1i"
      },
      "source": [
        "## Checking the Installation\n",
        "The `versioninfo()` function should print your Julia version and some other info about the system (if you ever ask for help or file an issue about Julia, you should always provide this information)."
      ]
    },
    {
      "cell_type": "code",
      "metadata": {
        "id": "EEzvvzCl1i0F",
        "colab": {
          "base_uri": "https://localhost:8080/"
        },
        "outputId": "04c5581e-6887-45d0-b186-9e0b3cdfed3a"
      },
      "source": [
        "versioninfo()"
      ],
      "execution_count": 1,
      "outputs": [
        {
          "output_type": "stream",
          "name": "stdout",
          "text": [
            "Julia Version 1.6.0\n",
            "Commit f9720dc2eb (2021-03-24 12:55 UTC)\n",
            "Platform Info:\n",
            "  OS: Linux (x86_64-pc-linux-gnu)\n",
            "  CPU: Intel(R) Xeon(R) CPU @ 2.20GHz\n",
            "  WORD_SIZE: 64\n",
            "  LIBM: libopenlibm\n",
            "  LLVM: libLLVM-11.0.1 (ORCJIT, broadwell)\n",
            "Environment:\n",
            "  JULIA_NUM_THREADS = 4\n"
          ]
        }
      ]
    },
    {
      "cell_type": "markdown",
      "metadata": {
        "id": "02Bzqiz31qfO"
      },
      "source": [
        "# Imports"
      ]
    },
    {
      "cell_type": "code",
      "metadata": {
        "id": "HHh7DtlP1PX9"
      },
      "source": [
        "using LinearAlgebra\n",
        "using Statistics\n",
        "using Dates"
      ],
      "execution_count": 2,
      "outputs": []
    },
    {
      "cell_type": "markdown",
      "metadata": {
        "id": "WMCpyA2f1wNj"
      },
      "source": [
        "# How to get all the dates corresponding to the month of July 2016?"
      ]
    },
    {
      "cell_type": "code",
      "metadata": {
        "colab": {
          "base_uri": "https://localhost:8080/"
        },
        "id": "lfd6x4KH1rl2",
        "outputId": "7b533824-22df-415f-a0e5-9d3cc6ff6836"
      },
      "source": [
        "dr = Date(\"2016-07-01\"):Day(1):Date(\"2016-07-31\")"
      ],
      "execution_count": 3,
      "outputs": [
        {
          "output_type": "execute_result",
          "data": {
            "text/plain": [
              "Date(\"2016-07-01\"):Day(1):Date(\"2016-07-31\")"
            ]
          },
          "metadata": {},
          "execution_count": 3
        }
      ]
    },
    {
      "cell_type": "code",
      "metadata": {
        "colab": {
          "base_uri": "https://localhost:8080/"
        },
        "id": "NApwjCC_1w2J",
        "outputId": "59946f8f-f784-4f24-c75e-0e1baf109840"
      },
      "source": [
        "# The above is probably all you need but if if do need to get the dates individually then this works\n",
        "dr = [Date(\"2016-07-01\"):Day(1):Date(\"2016-07-31\");]"
      ],
      "execution_count": 4,
      "outputs": [
        {
          "output_type": "execute_result",
          "data": {
            "text/plain": [
              "31-element Vector{Date}:\n",
              " 2016-07-01\n",
              " 2016-07-02\n",
              " 2016-07-03\n",
              " 2016-07-04\n",
              " 2016-07-05\n",
              " 2016-07-06\n",
              " 2016-07-07\n",
              " 2016-07-08\n",
              " 2016-07-09\n",
              " 2016-07-10\n",
              " 2016-07-11\n",
              " 2016-07-12\n",
              " 2016-07-13\n",
              " ⋮\n",
              " 2016-07-20\n",
              " 2016-07-21\n",
              " 2016-07-22\n",
              " 2016-07-23\n",
              " 2016-07-24\n",
              " 2016-07-25\n",
              " 2016-07-26\n",
              " 2016-07-27\n",
              " 2016-07-28\n",
              " 2016-07-29\n",
              " 2016-07-30\n",
              " 2016-07-31"
            ]
          },
          "metadata": {},
          "execution_count": 4
        }
      ]
    },
    {
      "cell_type": "markdown",
      "metadata": {
        "id": "4vcnlp-73Uxc"
      },
      "source": [
        "# How to compute ((A+B)*(-A/2)) in place (without copy)?"
      ]
    },
    {
      "cell_type": "code",
      "metadata": {
        "colab": {
          "base_uri": "https://localhost:8080/"
        },
        "id": "6-zb557Z2A1L",
        "outputId": "fe3febb7-abdb-4380-97e9-351f716b98d3"
      },
      "source": [
        "A = ones(3)\n",
        "B = 2ones(3)\n",
        "\n",
        "(A + B) .* (-A / 2)"
      ],
      "execution_count": 5,
      "outputs": [
        {
          "output_type": "execute_result",
          "data": {
            "text/plain": [
              "3-element Vector{Float64}:\n",
              " -1.5\n",
              " -1.5\n",
              " -1.5"
            ]
          },
          "metadata": {},
          "execution_count": 5
        }
      ]
    },
    {
      "cell_type": "markdown",
      "metadata": {
        "id": "UMxII1pvE_5E"
      },
      "source": [
        "# Extract the integer part of a random array of positive numbers?"
      ]
    },
    {
      "cell_type": "code",
      "metadata": {
        "colab": {
          "base_uri": "https://localhost:8080/"
        },
        "id": "yHaXTxCL-GWN",
        "outputId": "45c15f1b-9407-475a-bebf-34dc78bd2f3a"
      },
      "source": [
        "Z = rand(0:0.01:100,20)\n",
        "make_int(x) = trunc(Int,x)\n",
        "make_int.(Z)"
      ],
      "execution_count": 6,
      "outputs": [
        {
          "output_type": "execute_result",
          "data": {
            "text/plain": [
              "20-element Vector{Int64}:\n",
              " 52\n",
              " 79\n",
              " 35\n",
              " 81\n",
              " 45\n",
              " 93\n",
              " 23\n",
              " 74\n",
              "  5\n",
              " 74\n",
              " 74\n",
              " 96\n",
              " 36\n",
              " 98\n",
              " 48\n",
              " 20\n",
              " 57\n",
              " 57\n",
              " 69\n",
              " 76"
            ]
          },
          "metadata": {},
          "execution_count": 6
        }
      ]
    },
    {
      "cell_type": "markdown",
      "metadata": {
        "id": "yADSmt52AtUy"
      },
      "source": [
        "# Create a 5x5 matrix with row values ranging from 0 to 4 "
      ]
    },
    {
      "cell_type": "code",
      "metadata": {
        "colab": {
          "base_uri": "https://localhost:8080/"
        },
        "id": "PqYgtQFvAE5q",
        "outputId": "9193bf66-6520-4d8d-b5eb-0f5e6d49a052"
      },
      "source": [
        "A = fill([0:4;], 5)\n",
        "# This is the solution if you want a array of arrays"
      ],
      "execution_count": 7,
      "outputs": [
        {
          "output_type": "execute_result",
          "data": {
            "text/plain": [
              "5-element Vector{Vector{Int64}}:\n",
              " [0, 1, 2, 3, 4]\n",
              " [0, 1, 2, 3, 4]\n",
              " [0, 1, 2, 3, 4]\n",
              " [0, 1, 2, 3, 4]\n",
              " [0, 1, 2, 3, 4]"
            ]
          },
          "metadata": {},
          "execution_count": 7
        }
      ]
    },
    {
      "cell_type": "code",
      "metadata": {
        "colab": {
          "base_uri": "https://localhost:8080/"
        },
        "id": "elPAUI8dC7BU",
        "outputId": "7567bb2c-9886-49c0-b195-b7f9d20b0fa2"
      },
      "source": [
        "# The solution for this particular problem\n",
        "A = [0 1 2 3 4]\n",
        "repeat(A, 5)"
      ],
      "execution_count": 8,
      "outputs": [
        {
          "output_type": "execute_result",
          "data": {
            "text/plain": [
              "5×5 Matrix{Int64}:\n",
              " 0  1  2  3  4\n",
              " 0  1  2  3  4\n",
              " 0  1  2  3  4\n",
              " 0  1  2  3  4\n",
              " 0  1  2  3  4"
            ]
          },
          "metadata": {},
          "execution_count": 8
        }
      ]
    },
    {
      "cell_type": "code",
      "metadata": {
        "colab": {
          "base_uri": "https://localhost:8080/"
        },
        "id": "VQNqtqE8IdWr",
        "outputId": "f009091a-f95b-4064-bfac-d01e0df65152"
      },
      "source": [
        "# This is a more generic solution but slightly more involved\n",
        "repeat(reshape([0:4;], 1, :), 5)\n",
        "# Lets break down as so \n",
        "# * [0:4;] creates a vector [0,1,2,3,4], by default Julia makes a column vector\n",
        "# * reshape([0:4;], 1, :) converts to 1x5 row vector from the column vector\n",
        "# * The repeat function basically copies it five times"
      ],
      "execution_count": 9,
      "outputs": [
        {
          "output_type": "execute_result",
          "data": {
            "text/plain": [
              "5×5 Matrix{Int64}:\n",
              " 0  1  2  3  4\n",
              " 0  1  2  3  4\n",
              " 0  1  2  3  4\n",
              " 0  1  2  3  4\n",
              " 0  1  2  3  4"
            ]
          },
          "metadata": {},
          "execution_count": 9
        }
      ]
    },
    {
      "cell_type": "markdown",
      "metadata": {
        "id": "BCU-zFIDSVqO"
      },
      "source": [
        "# Create a vector of size 10 with values ranging from 0 to 1, both excluded\n"
      ]
    },
    {
      "cell_type": "code",
      "metadata": {
        "id": "-MJ_ZpasLj5F",
        "colab": {
          "base_uri": "https://localhost:8080/"
        },
        "outputId": "acc9d9c3-a97d-4929-8592-c2984b57a8b0"
      },
      "source": [
        "Z = [rand(Float64) for i in 1:10]\n",
        "# Most of the time this will work. I don't really see the need to actually exclude 0 as well from this code but if you do, then"
      ],
      "execution_count": 10,
      "outputs": [
        {
          "output_type": "execute_result",
          "data": {
            "text/plain": [
              "10-element Vector{Float64}:\n",
              " 0.519234816475314\n",
              " 0.1804018403309362\n",
              " 0.2714710388811914\n",
              " 0.35461677764030086\n",
              " 0.08009917672939149\n",
              " 0.9305222309809507\n",
              " 0.28936220584069217\n",
              " 0.48734320898935457\n",
              " 0.2669961508581793\n",
              " 0.7919648984699672"
            ]
          },
          "metadata": {},
          "execution_count": 10
        }
      ]
    },
    {
      "cell_type": "code",
      "metadata": {
        "id": "DJr5kaSoSalP",
        "colab": {
          "base_uri": "https://localhost:8080/"
        },
        "outputId": "d2e39909-3e8e-4603-c26d-2f72460d2735"
      },
      "source": [
        "Z = [prevfloat(1.0) * (1 - rand(Float64)) for i in 1:10]\n",
        "# Again its pretty extremely unlikely you'd actually need it but if you do, then you please read this discussion as well before going in https://discourse.julialang.org/t/how-to-create-a-random-uniform-distribution-between-but-excluding-0-and-10"
      ],
      "execution_count": 11,
      "outputs": [
        {
          "output_type": "execute_result",
          "data": {
            "text/plain": [
              "10-element Vector{Float64}:\n",
              " 0.11902292487378528\n",
              " 0.39693991467233797\n",
              " 0.8267670874453369\n",
              " 0.6650298362130401\n",
              " 0.09483749555455011\n",
              " 0.005386419491226534\n",
              " 0.5306254899868136\n",
              " 0.6896840714116771\n",
              " 0.8213758126865102\n",
              " 0.4126411266446692"
            ]
          },
          "metadata": {},
          "execution_count": 11
        }
      ]
    },
    {
      "cell_type": "markdown",
      "metadata": {
        "id": "gU7AImNpoOvp"
      },
      "source": [
        "# Create a random vector of size 10 and sort it"
      ]
    },
    {
      "cell_type": "code",
      "metadata": {
        "colab": {
          "base_uri": "https://localhost:8080/"
        },
        "id": "K-Jc-2kMnfWY",
        "outputId": "e83841c3-95bc-45ff-b62d-2c323783fd43"
      },
      "source": [
        "Z = rand(Int,10)\n",
        "sort!(Z)"
      ],
      "execution_count": 12,
      "outputs": [
        {
          "output_type": "execute_result",
          "data": {
            "text/plain": [
              "10-element Vector{Int64}:\n",
              " -8411824846715949776\n",
              " -6326224349634966082\n",
              " -3490684567412628900\n",
              " -2913127372745197841\n",
              "  1957564238359123547\n",
              "  3727372096049137269\n",
              "  4200831978661953860\n",
              "  5285333814077719815\n",
              "  5893104628279371421\n",
              "  9144175940540116357"
            ]
          },
          "metadata": {},
          "execution_count": 12
        }
      ]
    },
    {
      "cell_type": "markdown",
      "metadata": {
        "id": "e-QrIGFlOmKf"
      },
      "source": [
        "# Consider two random array A and B, check if they are equal"
      ]
    },
    {
      "cell_type": "code",
      "metadata": {
        "id": "rtOTla8uoLlF",
        "colab": {
          "base_uri": "https://localhost:8080/"
        },
        "outputId": "a49ad86c-e41f-44eb-ab7a-32c0de06eed2"
      },
      "source": [
        "A = rand(1:5, 10)\n",
        "B = rand(1:5, 10)\n",
        "\n",
        "# To check if the arrays are completely equal\n",
        "A == B"
      ],
      "execution_count": 25,
      "outputs": [
        {
          "output_type": "execute_result",
          "data": {
            "text/plain": [
              "false"
            ]
          },
          "metadata": {},
          "execution_count": 25
        }
      ]
    },
    {
      "cell_type": "code",
      "metadata": {
        "colab": {
          "base_uri": "https://localhost:8080/"
        },
        "id": "QKMM-m-dPTPX",
        "outputId": "55cef679-b1a3-4571-f3d0-6efbc6b1c386"
      },
      "source": [
        "A = rand(1:5, 10)\n",
        "B = rand(1:5, 10)\n",
        "A,B"
      ],
      "execution_count": 27,
      "outputs": [
        {
          "output_type": "execute_result",
          "data": {
            "text/plain": [
              "([5, 3, 2, 4, 1, 3, 4, 4, 4, 1], [1, 2, 4, 2, 5, 3, 4, 2, 3, 3])"
            ]
          },
          "metadata": {},
          "execution_count": 27
        }
      ]
    },
    {
      "cell_type": "code",
      "metadata": {
        "colab": {
          "base_uri": "https://localhost:8080/"
        },
        "id": "AFHO1zx0OlHh",
        "outputId": "674b5000-1131-4da4-aff9-b26edda9cfb1"
      },
      "source": [
        "# To check if the elements in the arrays are equal\n",
        "A .== B"
      ],
      "execution_count": 29,
      "outputs": [
        {
          "output_type": "execute_result",
          "data": {
            "text/plain": [
              "10-element BitVector:\n",
              " 0\n",
              " 0\n",
              " 0\n",
              " 0\n",
              " 0\n",
              " 1\n",
              " 1\n",
              " 0\n",
              " 0\n",
              " 0"
            ]
          },
          "metadata": {},
          "execution_count": 29
        }
      ]
    },
    {
      "cell_type": "markdown",
      "metadata": {
        "id": "XxNVlrtfhSRu"
      },
      "source": [
        "# Consider a random 10x2 matrix representing cartesian coordinates, convert them to polar coordinates\n"
      ]
    },
    {
      "cell_type": "code",
      "metadata": {
        "colab": {
          "base_uri": "https://localhost:8080/"
        },
        "id": "hg5xGtBHPP7H",
        "outputId": "24f42b2d-2f5e-4f1f-951a-75c06a087cf8"
      },
      "source": [
        "struct cartesian_point\n",
        "    X::Float32\n",
        "    Y::Float32\n",
        "end\n",
        "points = [cartesian_point(rand(-900:0.01:900), rand(-900:0.01:900)) for _ = 1:10]"
      ],
      "execution_count": 32,
      "outputs": [
        {
          "output_type": "execute_result",
          "data": {
            "text/plain": [
              "10-element Vector{cartesian_point}:\n",
              " cartesian_point(-277.35f0, -792.09f0)\n",
              " cartesian_point(225.68f0, -57.51f0)\n",
              " cartesian_point(679.32f0, 523.94f0)\n",
              " cartesian_point(-696.6f0, 839.61f0)\n",
              " cartesian_point(-831.72f0, -657.35f0)\n",
              " cartesian_point(712.21f0, 220.42f0)\n",
              " cartesian_point(722.01f0, -607.81f0)\n",
              " cartesian_point(531.93f0, -763.26f0)\n",
              " cartesian_point(-323.1f0, 688.0f0)\n",
              " cartesian_point(-112.85f0, 29.74f0)"
            ]
          },
          "metadata": {},
          "execution_count": 32
        }
      ]
    },
    {
      "cell_type": "code",
      "metadata": {
        "colab": {
          "base_uri": "https://localhost:8080/"
        },
        "id": "Z2HWLVtSYsR1",
        "outputId": "fff6c2fa-bf47-4cdc-8465-730b9247dcf3"
      },
      "source": [
        "points = [cartesian_point(rand(), rand()) for _ = 1:10]\n",
        "Xpoints = [point.X for point in points]\n",
        "Ypoints = [point.Y for point in points]"
      ],
      "execution_count": 42,
      "outputs": [
        {
          "output_type": "execute_result",
          "data": {
            "text/plain": [
              "10-element Vector{Float32}:\n",
              " 0.30145374\n",
              " 0.63208747\n",
              " 0.5519679\n",
              " 0.9418608\n",
              " 0.033966314\n",
              " 0.5044402\n",
              " 0.21350227\n",
              " 0.97808915\n",
              " 0.5539718\n",
              " 0.65762746"
            ]
          },
          "metadata": {},
          "execution_count": 42
        }
      ]
    },
    {
      "cell_type": "code",
      "metadata": {
        "colab": {
          "base_uri": "https://localhost:8080/"
        },
        "id": "DE_q8QSraZ9o",
        "outputId": "d2e52c2b-587a-44c1-a5c3-f3d3ca719dee"
      },
      "source": [
        "radians(x, y) = sqrt(x^2 + y^2)\n",
        "theta(x, y) = atan(y, x)"
      ],
      "execution_count": 43,
      "outputs": [
        {
          "output_type": "execute_result",
          "data": {
            "text/plain": [
              "theta (generic function with 1 method)"
            ]
          },
          "metadata": {},
          "execution_count": 43
        }
      ]
    },
    {
      "cell_type": "code",
      "metadata": {
        "colab": {
          "base_uri": "https://localhost:8080/"
        },
        "id": "DSfmyKgxacvl",
        "outputId": "79ef6205-1680-4148-bbe7-3648a6d1629b"
      },
      "source": [
        "radians.(Xpoints, Ypoints)\n",
        "theta.(Xpoints, Ypoints)"
      ],
      "execution_count": 44,
      "outputs": [
        {
          "output_type": "execute_result",
          "data": {
            "text/plain": [
              "10-element Vector{Float32}:\n",
              " 0.68233347\n",
              " 1.3096839\n",
              " 0.7383515\n",
              " 0.85909283\n",
              " 0.04828144\n",
              " 0.5720019\n",
              " 0.26204243\n",
              " 0.9820394\n",
              " 0.56690085\n",
              " 0.89639544"
            ]
          },
          "metadata": {},
          "execution_count": 44
        }
      ]
    },
    {
      "cell_type": "code",
      "metadata": {
        "id": "qvtpXJ-1bJYN"
      },
      "source": [
        ""
      ],
      "execution_count": null,
      "outputs": []
    }
  ]
}