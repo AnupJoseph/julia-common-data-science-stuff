{
  "nbformat": 4,
  "nbformat_minor": 0,
  "metadata": {
    "colab": {
      "name": "array_tasks_two_star.ipynb",
      "provenance": [],
      "collapsed_sections": []
    },
    "kernelspec": {
      "display_name": "Julia",
      "language": "julia",
      "name": "julia"
    },
    "language_info": {
      "file_extension": ".jl",
      "mimetype": "application/julia",
      "name": "julia"
    }
  },
  "cells": [
    {
      "cell_type": "markdown",
      "metadata": {
        "id": "f_1dr-2W5iSU"
      },
      "source": [
        "# Getting Started with Julia in Colab/Jupyter\n",
        "You can either run this notebook in Google Colab, or using Jupyter on your own machine."
      ]
    },
    {
      "cell_type": "markdown",
      "metadata": {
        "id": "6ew60wXrZM0W"
      },
      "source": [
        "## Running on Google Colab\n",
        "1. Work on a copy of this notebook: _File_ > _Save a copy in Drive_ (you will need a Google account). Alternatively, you can download the notebook using _File_ > _Download .ipynb_, then upload it to [Colab](https://colab.research.google.com/).\n",
        "2. Execute the following cell (click on it and press Ctrl+Enter) to install Julia, IJulia (the Jupyter kernel for Julia) and other packages. You can update `JULIA_VERSION` and the other parameters, if you know what you're doing. Installation takes 2-3 minutes.\n",
        "3. Reload this page (press Ctrl+R, or ⌘+R, or the F5 key) and continue to the _Checking the Installation_ section.\n",
        "\n",
        "* _Note_: If your Colab Runtime gets reset (e.g., due to inactivity), repeat steps 2 and 3."
      ]
    },
    {
      "cell_type": "code",
      "metadata": {
        "id": "GIeFXS0F0zww",
        "colab": {
          "base_uri": "https://localhost:8080/"
        },
        "outputId": "73804745-bd50-4cba-c68b-7e6a8b599fe6"
      },
      "source": [
        "%%shell\n",
        "set -e\n",
        "\n",
        "#---------------------------------------------------#\n",
        "JULIA_VERSION=\"1.6.0\" # any version ≥ 0.7.0\n",
        "JULIA_PACKAGES=\"IJulia\"\n",
        "JULIA_PACKAGES_IF_GPU=\"CUDA\"\n",
        "JULIA_NUM_THREADS=4\n",
        "#---------------------------------------------------#\n",
        "\n",
        "if [ -n \"$COLAB_GPU\" ] && [ -z `which julia` ]; then\n",
        "  # Install Julia\n",
        "  JULIA_VER=`cut -d '.' -f -2 <<< \"$JULIA_VERSION\"`\n",
        "  echo \"Installing Julia $JULIA_VERSION on the current Colab Runtime...\"\n",
        "  BASE_URL=\"https://julialang-s3.julialang.org/bin/linux/x64\"\n",
        "  URL=\"$BASE_URL/$JULIA_VER/julia-$JULIA_VERSION-linux-x86_64.tar.gz\"\n",
        "  wget -nv $URL -O /tmp/julia.tar.gz # -nv means \"not verbose\"\n",
        "  tar -x -f /tmp/julia.tar.gz -C /usr/local --strip-components 1\n",
        "  rm /tmp/julia.tar.gz\n",
        "\n",
        "  # Install Packages\n",
        "  if [ \"$COLAB_GPU\" = \"1\" ]; then\n",
        "      JULIA_PACKAGES=\"$JULIA_PACKAGES $JULIA_PACKAGES_IF_GPU\"\n",
        "  fi\n",
        "  for PKG in `echo $JULIA_PACKAGES`; do\n",
        "    echo \"Installing Julia package $PKG...\"\n",
        "    julia -e 'using Pkg; pkg\"add '$PKG'; precompile;\"' &> /dev/null\n",
        "  done\n",
        "\n",
        "  # Install kernel and rename it to \"julia\"\n",
        "  echo \"Installing IJulia kernel...\"\n",
        "  julia -e 'using IJulia; IJulia.installkernel(\"julia\", env=Dict(\n",
        "      \"JULIA_NUM_THREADS\"=>\"'\"$JULIA_NUM_THREADS\"'\"))'\n",
        "  KERNEL_DIR=`julia -e \"using IJulia; print(IJulia.kerneldir())\"`\n",
        "  KERNEL_NAME=`ls -d \"$KERNEL_DIR\"/julia*`\n",
        "  mv -f $KERNEL_NAME \"$KERNEL_DIR\"/julia  \n",
        "\n",
        "  echo ''\n",
        "  echo \"Successfully installed `julia -v`!\"\n",
        "  echo \"Please reload this page (press Ctrl+R, ⌘+R, or the F5 key) then\"\n",
        "  echo \"jump to the 'Checking the Installation' section.\"\n",
        "fi"
      ],
      "execution_count": null,
      "outputs": [
        {
          "output_type": "stream",
          "name": "stdout",
          "text": [
            "Installing Julia 1.6.0 on the current Colab Runtime...\n",
            "2021-12-05 11:25:02 URL:https://storage.googleapis.com/julialang2/bin/linux/x64/1.6/julia-1.6.0-linux-x86_64.tar.gz [112838927/112838927] -> \"/tmp/julia.tar.gz\" [1]\n",
            "Installing Julia package IJulia...\n"
          ]
        }
      ]
    },
    {
      "cell_type": "markdown",
      "metadata": {
        "id": "-OS3Ac017T1i"
      },
      "source": [
        "## Checking the Installation\n",
        "The `versioninfo()` function should print your Julia version and some other info about the system (if you ever ask for help or file an issue about Julia, you should always provide this information)."
      ]
    },
    {
      "cell_type": "code",
      "metadata": {
        "id": "EEzvvzCl1i0F",
        "colab": {
          "base_uri": "https://localhost:8080/"
        },
        "outputId": "4428540b-ca27-49f4-b39f-706f7ec34314"
      },
      "source": [
        "versioninfo()"
      ],
      "execution_count": 1,
      "outputs": [
        {
          "output_type": "stream",
          "name": "stdout",
          "text": [
            "Julia Version 1.6.0\n",
            "Commit f9720dc2eb (2021-03-24 12:55 UTC)\n",
            "Platform Info:\n",
            "  OS: Linux (x86_64-pc-linux-gnu)\n",
            "  CPU: Intel(R) Xeon(R) CPU @ 2.20GHz\n",
            "  WORD_SIZE: 64\n",
            "  LIBM: libopenlibm\n",
            "  LLVM: libLLVM-11.0.1 (ORCJIT, broadwell)\n",
            "Environment:\n",
            "  JULIA_NUM_THREADS = 4\n"
          ]
        }
      ]
    },
    {
      "cell_type": "markdown",
      "metadata": {
        "id": "02Bzqiz31qfO"
      },
      "source": [
        "# Imports"
      ]
    },
    {
      "cell_type": "code",
      "metadata": {
        "id": "HHh7DtlP1PX9"
      },
      "source": [
        "using LinearAlgebra\n",
        "using Statistics\n",
        "using Dates"
      ],
      "execution_count": 2,
      "outputs": []
    },
    {
      "cell_type": "markdown",
      "metadata": {
        "id": "WMCpyA2f1wNj"
      },
      "source": [
        "# How to get all the dates corresponding to the month of July 2016?"
      ]
    },
    {
      "cell_type": "code",
      "metadata": {
        "colab": {
          "base_uri": "https://localhost:8080/"
        },
        "id": "lfd6x4KH1rl2",
        "outputId": "d435607b-8bbc-42bd-8d02-df29b7f8c572"
      },
      "source": [
        "dr = Date(\"2016-07-01\"):Day(1):Date(\"2016-07-31\")"
      ],
      "execution_count": 3,
      "outputs": [
        {
          "output_type": "execute_result",
          "data": {
            "text/plain": [
              "Date(\"2016-07-01\"):Day(1):Date(\"2016-07-31\")"
            ]
          },
          "metadata": {},
          "execution_count": 3
        }
      ]
    },
    {
      "cell_type": "code",
      "metadata": {
        "colab": {
          "base_uri": "https://localhost:8080/"
        },
        "id": "NApwjCC_1w2J",
        "outputId": "bd97c0e4-faf0-4f0b-d72b-c945ddd7f866"
      },
      "source": [
        "# The above is probably all you need but if if do need to get the dates individually then this works\n",
        "dr = [Date(\"2016-07-01\"):Day(1):Date(\"2016-07-31\");]"
      ],
      "execution_count": 4,
      "outputs": [
        {
          "output_type": "execute_result",
          "data": {
            "text/plain": [
              "31-element Vector{Date}:\n",
              " 2016-07-01\n",
              " 2016-07-02\n",
              " 2016-07-03\n",
              " 2016-07-04\n",
              " 2016-07-05\n",
              " 2016-07-06\n",
              " 2016-07-07\n",
              " 2016-07-08\n",
              " 2016-07-09\n",
              " 2016-07-10\n",
              " 2016-07-11\n",
              " 2016-07-12\n",
              " 2016-07-13\n",
              " ⋮\n",
              " 2016-07-20\n",
              " 2016-07-21\n",
              " 2016-07-22\n",
              " 2016-07-23\n",
              " 2016-07-24\n",
              " 2016-07-25\n",
              " 2016-07-26\n",
              " 2016-07-27\n",
              " 2016-07-28\n",
              " 2016-07-29\n",
              " 2016-07-30\n",
              " 2016-07-31"
            ]
          },
          "metadata": {},
          "execution_count": 4
        }
      ]
    },
    {
      "cell_type": "markdown",
      "metadata": {
        "id": "4vcnlp-73Uxc"
      },
      "source": [
        "# How to compute ((A+B)*(-A/2)) in place (without copy)?"
      ]
    },
    {
      "cell_type": "code",
      "metadata": {
        "colab": {
          "base_uri": "https://localhost:8080/"
        },
        "id": "6-zb557Z2A1L",
        "outputId": "765146c8-19f7-4384-8a0f-608db0674d49"
      },
      "source": [
        "A = ones(3)\n",
        "B = 2ones(3)\n",
        "\n",
        "(A + B) .* (-A / 2)"
      ],
      "execution_count": 5,
      "outputs": [
        {
          "output_type": "execute_result",
          "data": {
            "text/plain": [
              "3-element Vector{Float64}:\n",
              " -1.5\n",
              " -1.5\n",
              " -1.5"
            ]
          },
          "metadata": {},
          "execution_count": 5
        }
      ]
    },
    {
      "cell_type": "markdown",
      "metadata": {
        "id": "UMxII1pvE_5E"
      },
      "source": [
        "# Extract the integer part of a random array of positive numbers?"
      ]
    },
    {
      "cell_type": "code",
      "metadata": {
        "colab": {
          "base_uri": "https://localhost:8080/"
        },
        "id": "yHaXTxCL-GWN",
        "outputId": "6ac9e3d7-8036-44f3-ef04-863b4e3954ad"
      },
      "source": [
        "Z = rand(0:0.01:100,20)\n",
        "make_int(x) = trunc(Int,x)\n",
        "make_int.(Z)"
      ],
      "execution_count": 6,
      "outputs": [
        {
          "output_type": "execute_result",
          "data": {
            "text/plain": [
              "20-element Vector{Int64}:\n",
              "  2\n",
              " 50\n",
              " 77\n",
              " 35\n",
              " 93\n",
              "  5\n",
              " 79\n",
              " 25\n",
              " 86\n",
              " 43\n",
              "  8\n",
              " 62\n",
              " 75\n",
              " 74\n",
              " 34\n",
              " 47\n",
              " 49\n",
              " 76\n",
              " 39\n",
              " 18"
            ]
          },
          "metadata": {},
          "execution_count": 6
        }
      ]
    },
    {
      "cell_type": "markdown",
      "metadata": {
        "id": "yADSmt52AtUy"
      },
      "source": [
        "# Create a 5x5 matrix with row values ranging from 0 to 4 "
      ]
    },
    {
      "cell_type": "code",
      "metadata": {
        "colab": {
          "base_uri": "https://localhost:8080/"
        },
        "id": "PqYgtQFvAE5q",
        "outputId": "7df70db1-b553-4c05-d0e3-5109f20d23fb"
      },
      "source": [
        "A = fill([0:4;], 5)\n",
        "# This is the solution if you want a array of arrays"
      ],
      "execution_count": 7,
      "outputs": [
        {
          "output_type": "execute_result",
          "data": {
            "text/plain": [
              "5-element Vector{Vector{Int64}}:\n",
              " [0, 1, 2, 3, 4]\n",
              " [0, 1, 2, 3, 4]\n",
              " [0, 1, 2, 3, 4]\n",
              " [0, 1, 2, 3, 4]\n",
              " [0, 1, 2, 3, 4]"
            ]
          },
          "metadata": {},
          "execution_count": 7
        }
      ]
    },
    {
      "cell_type": "code",
      "metadata": {
        "colab": {
          "base_uri": "https://localhost:8080/"
        },
        "id": "elPAUI8dC7BU",
        "outputId": "71ae9cd0-32f2-4f1e-8da2-30744f731d4e"
      },
      "source": [
        "# The solution for this particular problem\n",
        "A = [0 1 2 3 4]\n",
        "repeat(A, 5)"
      ],
      "execution_count": 8,
      "outputs": [
        {
          "output_type": "execute_result",
          "data": {
            "text/plain": [
              "5×5 Matrix{Int64}:\n",
              " 0  1  2  3  4\n",
              " 0  1  2  3  4\n",
              " 0  1  2  3  4\n",
              " 0  1  2  3  4\n",
              " 0  1  2  3  4"
            ]
          },
          "metadata": {},
          "execution_count": 8
        }
      ]
    },
    {
      "cell_type": "code",
      "metadata": {
        "colab": {
          "base_uri": "https://localhost:8080/"
        },
        "id": "VQNqtqE8IdWr",
        "outputId": "caaf7fce-b536-4a94-8fb4-aa7dbd1ac282"
      },
      "source": [
        "# This is a more generic solution but slightly more involved\n",
        "repeat(reshape([0:4;], 1, :), 5)\n",
        "# Lets break down as so \n",
        "# * [0:4;] creates a vector [0,1,2,3,4], by default Julia makes a column vector\n",
        "# * reshape([0:4;], 1, :) converts to 1x5 row vector from the column vector\n",
        "# * The repeat function basically copies it five times"
      ],
      "execution_count": 9,
      "outputs": [
        {
          "output_type": "execute_result",
          "data": {
            "text/plain": [
              "5×5 Matrix{Int64}:\n",
              " 0  1  2  3  4\n",
              " 0  1  2  3  4\n",
              " 0  1  2  3  4\n",
              " 0  1  2  3  4\n",
              " 0  1  2  3  4"
            ]
          },
          "metadata": {},
          "execution_count": 9
        }
      ]
    },
    {
      "cell_type": "markdown",
      "metadata": {
        "id": "BCU-zFIDSVqO"
      },
      "source": [
        "# Create a vector of size 10 with values ranging from 0 to 1, both excluded\n"
      ]
    },
    {
      "cell_type": "code",
      "metadata": {
        "id": "-MJ_ZpasLj5F",
        "colab": {
          "base_uri": "https://localhost:8080/"
        },
        "outputId": "ee1fda3e-f224-4cb4-e9cf-681301c588de"
      },
      "source": [
        "Z = [rand(Float64) for i in 1:10]\n",
        "# Most of the time this will work. I don't really see the need to actually exclude 0 as well from this code but if you do, then"
      ],
      "execution_count": 10,
      "outputs": [
        {
          "output_type": "execute_result",
          "data": {
            "text/plain": [
              "10-element Vector{Float64}:\n",
              " 0.19000787831694477\n",
              " 0.6039444959114542\n",
              " 0.08872983241089205\n",
              " 0.1723994800162112\n",
              " 0.9693130473792961\n",
              " 0.8673575670727769\n",
              " 0.3445378747290615\n",
              " 0.8450938033005313\n",
              " 0.5032069225806093\n",
              " 0.3074776052360437"
            ]
          },
          "metadata": {},
          "execution_count": 10
        }
      ]
    },
    {
      "cell_type": "code",
      "metadata": {
        "id": "DJr5kaSoSalP",
        "colab": {
          "base_uri": "https://localhost:8080/"
        },
        "outputId": "120aed6e-2036-4d5d-b5e8-817f5591ca94"
      },
      "source": [
        "Z = [prevfloat(1.0) * (1 - rand(Float64)) for i in 1:10]\n",
        "# Again its pretty extremely unlikely you'd actually need it but if you do, then you please read this discussion as well before going in https://discourse.julialang.org/t/how-to-create-a-random-uniform-distribution-between-but-excluding-0-and-10"
      ],
      "execution_count": 11,
      "outputs": [
        {
          "output_type": "execute_result",
          "data": {
            "text/plain": [
              "10-element Vector{Float64}:\n",
              " 0.3078683099324479\n",
              " 0.5795611647015025\n",
              " 0.3333871555760725\n",
              " 0.158948176245669\n",
              " 0.8328974355511917\n",
              " 0.36319353274695215\n",
              " 0.6579809742224746\n",
              " 0.6023166244809838\n",
              " 0.0291346680950848\n",
              " 0.42114860955266903"
            ]
          },
          "metadata": {},
          "execution_count": 11
        }
      ]
    },
    {
      "cell_type": "markdown",
      "metadata": {
        "id": "gU7AImNpoOvp"
      },
      "source": [
        "# Create a random vector of size 10 and sort it"
      ]
    },
    {
      "cell_type": "code",
      "metadata": {
        "colab": {
          "base_uri": "https://localhost:8080/"
        },
        "id": "K-Jc-2kMnfWY",
        "outputId": "965e0c16-54fd-4a72-ff79-1b486d75fcf7"
      },
      "source": [
        "Z = rand(Int,10)\n",
        "sort!(Z)"
      ],
      "execution_count": 12,
      "outputs": [
        {
          "output_type": "execute_result",
          "data": {
            "text/plain": [
              "10-element Vector{Int64}:\n",
              " -7625865846929508973\n",
              " -4916795749092883684\n",
              " -4416856756873836290\n",
              " -2676359302979412501\n",
              " -2627430425537989624\n",
              "  1654630053374251826\n",
              "  3024451634057404757\n",
              "  4573781989930118390\n",
              "  5606720548413423782\n",
              "  9028789117011591766"
            ]
          },
          "metadata": {},
          "execution_count": 12
        }
      ]
    },
    {
      "cell_type": "markdown",
      "metadata": {
        "id": "e-QrIGFlOmKf"
      },
      "source": [
        "# Consider two random array A and B, check if they are equal"
      ]
    },
    {
      "cell_type": "code",
      "metadata": {
        "id": "rtOTla8uoLlF",
        "colab": {
          "base_uri": "https://localhost:8080/"
        },
        "outputId": "caa613b7-2415-43a0-dc1c-e7f73855d538"
      },
      "source": [
        "A = rand(1:5, 10)\n",
        "B = rand(1:5, 10)\n",
        "\n",
        "# To check if the arrays are completely equal\n",
        "A == B"
      ],
      "execution_count": 13,
      "outputs": [
        {
          "output_type": "execute_result",
          "data": {
            "text/plain": [
              "false"
            ]
          },
          "metadata": {},
          "execution_count": 13
        }
      ]
    },
    {
      "cell_type": "code",
      "metadata": {
        "colab": {
          "base_uri": "https://localhost:8080/"
        },
        "id": "QKMM-m-dPTPX",
        "outputId": "36e4a7cd-7541-46c7-e302-796044784e9b"
      },
      "source": [
        "A = rand(1:5, 10)\n",
        "B = rand(1:5, 10)\n",
        "A,B"
      ],
      "execution_count": 14,
      "outputs": [
        {
          "output_type": "execute_result",
          "data": {
            "text/plain": [
              "([4, 2, 5, 4, 5, 2, 4, 5, 4, 3], [2, 1, 3, 4, 2, 4, 4, 4, 5, 5])"
            ]
          },
          "metadata": {},
          "execution_count": 14
        }
      ]
    },
    {
      "cell_type": "code",
      "metadata": {
        "colab": {
          "base_uri": "https://localhost:8080/"
        },
        "id": "AFHO1zx0OlHh",
        "outputId": "da5326de-31e9-4220-cb1c-10c9e8ffa587"
      },
      "source": [
        "# To check if the elements in the arrays are equal\n",
        "A .== B"
      ],
      "execution_count": 15,
      "outputs": [
        {
          "output_type": "execute_result",
          "data": {
            "text/plain": [
              "10-element BitVector:\n",
              " 0\n",
              " 0\n",
              " 0\n",
              " 1\n",
              " 0\n",
              " 0\n",
              " 1\n",
              " 0\n",
              " 0\n",
              " 0"
            ]
          },
          "metadata": {},
          "execution_count": 15
        }
      ]
    },
    {
      "cell_type": "markdown",
      "metadata": {
        "id": "XxNVlrtfhSRu"
      },
      "source": [
        "# Consider a random 10x2 matrix representing cartesian coordinates, convert them to polar coordinates\n"
      ]
    },
    {
      "cell_type": "code",
      "metadata": {
        "colab": {
          "base_uri": "https://localhost:8080/"
        },
        "id": "hg5xGtBHPP7H",
        "outputId": "4539e169-a4a8-4cee-e611-a4ff96016a44"
      },
      "source": [
        "struct cartesian_point\n",
        "    X::Float32\n",
        "    Y::Float32\n",
        "end\n",
        "points = [cartesian_point(rand(-900:0.01:900), rand(-900:0.01:900)) for _ = 1:10]"
      ],
      "execution_count": 16,
      "outputs": [
        {
          "output_type": "execute_result",
          "data": {
            "text/plain": [
              "10-element Vector{cartesian_point}:\n",
              " cartesian_point(51.79f0, -125.64f0)\n",
              " cartesian_point(-358.75f0, -116.55f0)\n",
              " cartesian_point(-670.25f0, 850.11f0)\n",
              " cartesian_point(-43.68f0, -286.48f0)\n",
              " cartesian_point(-258.89f0, -108.05f0)\n",
              " cartesian_point(-31.74f0, 673.23f0)\n",
              " cartesian_point(213.59f0, 58.86f0)\n",
              " cartesian_point(293.91f0, -44.73f0)\n",
              " cartesian_point(-474.21f0, -777.58f0)\n",
              " cartesian_point(471.99f0, 706.64f0)"
            ]
          },
          "metadata": {},
          "execution_count": 16
        }
      ]
    },
    {
      "cell_type": "code",
      "metadata": {
        "colab": {
          "base_uri": "https://localhost:8080/"
        },
        "id": "Z2HWLVtSYsR1",
        "outputId": "671eb547-e0ae-42b4-9cbf-2e478ce6ee90"
      },
      "source": [
        "points = [cartesian_point(rand(), rand()) for _ = 1:10]\n",
        "Xpoints = [point.X for point in points]\n",
        "Ypoints = [point.Y for point in points]"
      ],
      "execution_count": 17,
      "outputs": [
        {
          "output_type": "execute_result",
          "data": {
            "text/plain": [
              "10-element Vector{Float32}:\n",
              " 0.22506145\n",
              " 0.038344212\n",
              " 0.34813055\n",
              " 0.53168046\n",
              " 0.21243542\n",
              " 0.4196197\n",
              " 0.35155025\n",
              " 0.2258663\n",
              " 0.18064925\n",
              " 0.95632094"
            ]
          },
          "metadata": {},
          "execution_count": 17
        }
      ]
    },
    {
      "cell_type": "code",
      "metadata": {
        "colab": {
          "base_uri": "https://localhost:8080/"
        },
        "id": "DE_q8QSraZ9o",
        "outputId": "31f71d87-cbf9-408c-bf73-d6afc9ab73a9"
      },
      "source": [
        "radians(x, y) = sqrt(x^2 + y^2)\n",
        "theta(x, y) = atan(y, x)"
      ],
      "execution_count": 18,
      "outputs": [
        {
          "output_type": "execute_result",
          "data": {
            "text/plain": [
              "theta (generic function with 1 method)"
            ]
          },
          "metadata": {},
          "execution_count": 18
        }
      ]
    },
    {
      "cell_type": "code",
      "metadata": {
        "colab": {
          "base_uri": "https://localhost:8080/"
        },
        "id": "DSfmyKgxacvl",
        "outputId": "de94dd26-0d86-4134-f614-a7071a5ee4ca"
      },
      "source": [
        "radians.(Xpoints, Ypoints)\n",
        "theta.(Xpoints, Ypoints)"
      ],
      "execution_count": 19,
      "outputs": [
        {
          "output_type": "execute_result",
          "data": {
            "text/plain": [
              "10-element Vector{Float32}:\n",
              " 0.5390877\n",
              " 0.099790566\n",
              " 0.47372916\n",
              " 0.51067334\n",
              " 0.4834638\n",
              " 0.8787195\n",
              " 1.3252045\n",
              " 0.22264798\n",
              " 0.31063473\n",
              " 0.79051477"
            ]
          },
          "metadata": {},
          "execution_count": 19
        }
      ]
    },
    {
      "cell_type": "markdown",
      "metadata": {
        "id": "Gj9RK4NNXSZG"
      },
      "source": [
        "# Create random vector of size 10 and replace the maximum value by 0\n"
      ]
    },
    {
      "cell_type": "code",
      "metadata": {
        "id": "qvtpXJ-1bJYN",
        "colab": {
          "base_uri": "https://localhost:8080/"
        },
        "outputId": "c426309d-3f04-4dd5-cf06-dd2541f7f794"
      },
      "source": [
        "Z = rand(Int8, 10)\n",
        "print(Z)\n",
        "Z[argmax(Z)]"
      ],
      "execution_count": 22,
      "outputs": [
        {
          "output_type": "stream",
          "name": "stdout",
          "text": [
            "Int8[72, -118, 88, -112, 31, 108, -122, 13, 10, -58]"
          ]
        },
        {
          "output_type": "execute_result",
          "data": {
            "text/plain": [
              "108"
            ]
          },
          "metadata": {},
          "execution_count": 22
        }
      ]
    },
    {
      "cell_type": "markdown",
      "metadata": {
        "id": "pI-ZGazIlJUV"
      },
      "source": [
        "# Create a structured array with x and y coordinates covering the [0,1]x[0,1] area\n"
      ]
    },
    {
      "cell_type": "code",
      "metadata": {
        "colab": {
          "base_uri": "https://localhost:8080/"
        },
        "id": "0wy1VlG8XNU8",
        "outputId": "6f4d70a0-a1dc-4b89-edf6-56175e99318e"
      },
      "source": [
        "Z = (X = collect(LinRange(0, 1, 5)), Y = collect(LinRange(0, 1, 5)))"
      ],
      "execution_count": 23,
      "outputs": [
        {
          "output_type": "execute_result",
          "data": {
            "text/plain": [
              "(X = [0.0, 0.25, 0.5, 0.75, 1.0], Y = [0.0, 0.25, 0.5, 0.75, 1.0])"
            ]
          },
          "metadata": {},
          "execution_count": 23
        }
      ]
    },
    {
      "cell_type": "markdown",
      "metadata": {
        "id": "5LnIy3GKlPlW"
      },
      "source": [
        "# Given two arrays, X and Y, construct the Cauchy matrix C (Cᵢⱼ = 1 ÷ (xᵢ - yⱼ))"
      ]
    },
    {
      "cell_type": "code",
      "metadata": {
        "colab": {
          "base_uri": "https://localhost:8080/"
        },
        "id": "GrQnmLgRlN6R",
        "outputId": "b7ce4f7b-02b2-4c9b-c706-c2f3622f7a1d"
      },
      "source": [
        "X = rand(Float32, 10)\n",
        "Y = rand(Float32, 10)"
      ],
      "execution_count": 39,
      "outputs": [
        {
          "output_type": "execute_result",
          "data": {
            "text/plain": [
              "10-element Vector{Float32}:\n",
              " 0.5028175\n",
              " 0.8061949\n",
              " 0.02918017\n",
              " 0.98973334\n",
              " 0.598259\n",
              " 0.9094815\n",
              " 0.42492604\n",
              " 0.12290466\n",
              " 0.37730277\n",
              " 0.9200938"
            ]
          },
          "metadata": {},
          "execution_count": 39
        }
      ]
    },
    {
      "cell_type": "code",
      "metadata": {
        "colab": {
          "base_uri": "https://localhost:8080/"
        },
        "id": "SFnygdu3lRAT",
        "outputId": "94a9be60-eb6f-47ed-cbf2-74d198fa12a7"
      },
      "source": [
        "f(i, j) = 1 ÷ (i - j)\n",
        "C = (f(x, y) for x in X, y in Y)\n",
        "det(collect(C))"
      ],
      "execution_count": 40,
      "outputs": [
        {
          "output_type": "execute_result",
          "data": {
            "text/plain": [
              "-2.7526134f12"
            ]
          },
          "metadata": {},
          "execution_count": 40
        }
      ]
    },
    {
      "cell_type": "code",
      "metadata": {
        "id": "BnD5iqn0mdbH"
      },
      "source": [
        ""
      ],
      "execution_count": null,
      "outputs": []
    }
  ]
}