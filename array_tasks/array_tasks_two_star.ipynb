{
  "nbformat": 4,
  "nbformat_minor": 0,
  "metadata": {
    "colab": {
      "name": "array_tasks_two_star.ipynb",
      "provenance": [],
      "collapsed_sections": [],
      "toc_visible": true
    },
    "kernelspec": {
      "display_name": "Julia",
      "language": "julia",
      "name": "julia"
    },
    "language_info": {
      "file_extension": ".jl",
      "mimetype": "application/julia",
      "name": "julia"
    }
  },
  "cells": [
    {
      "cell_type": "markdown",
      "metadata": {
        "id": "f_1dr-2W5iSU"
      },
      "source": [
        "# Getting Started with Julia in Colab/Jupyter\n",
        "You can either run this notebook in Google Colab, or using Jupyter on your own machine."
      ]
    },
    {
      "cell_type": "markdown",
      "metadata": {
        "id": "6ew60wXrZM0W"
      },
      "source": [
        "## Running on Google Colab\n",
        "1. Work on a copy of this notebook: _File_ > _Save a copy in Drive_ (you will need a Google account). Alternatively, you can download the notebook using _File_ > _Download .ipynb_, then upload it to [Colab](https://colab.research.google.com/).\n",
        "2. Execute the following cell (click on it and press Ctrl+Enter) to install Julia, IJulia (the Jupyter kernel for Julia) and other packages. You can update `JULIA_VERSION` and the other parameters, if you know what you're doing. Installation takes 2-3 minutes.\n",
        "3. Reload this page (press Ctrl+R, or ⌘+R, or the F5 key) and continue to the _Checking the Installation_ section.\n",
        "\n",
        "* _Note_: If your Colab Runtime gets reset (e.g., due to inactivity), repeat steps 2 and 3."
      ]
    },
    {
      "cell_type": "code",
      "metadata": {
        "id": "GIeFXS0F0zww",
        "colab": {
          "base_uri": "https://localhost:8080/"
        },
        "outputId": "831e6fb2-e592-4e3a-9319-67f0d35a4fb3"
      },
      "source": [
        "%%shell\n",
        "set -e\n",
        "\n",
        "#---------------------------------------------------#\n",
        "JULIA_VERSION=\"1.6.0\" # any version ≥ 0.7.0\n",
        "JULIA_PACKAGES=\"IJulia\"\n",
        "JULIA_PACKAGES_IF_GPU=\"CUDA\"\n",
        "JULIA_NUM_THREADS=4\n",
        "#---------------------------------------------------#\n",
        "\n",
        "if [ -n \"$COLAB_GPU\" ] && [ -z `which julia` ]; then\n",
        "  # Install Julia\n",
        "  JULIA_VER=`cut -d '.' -f -2 <<< \"$JULIA_VERSION\"`\n",
        "  echo \"Installing Julia $JULIA_VERSION on the current Colab Runtime...\"\n",
        "  BASE_URL=\"https://julialang-s3.julialang.org/bin/linux/x64\"\n",
        "  URL=\"$BASE_URL/$JULIA_VER/julia-$JULIA_VERSION-linux-x86_64.tar.gz\"\n",
        "  wget -nv $URL -O /tmp/julia.tar.gz # -nv means \"not verbose\"\n",
        "  tar -x -f /tmp/julia.tar.gz -C /usr/local --strip-components 1\n",
        "  rm /tmp/julia.tar.gz\n",
        "\n",
        "  # Install Packages\n",
        "  if [ \"$COLAB_GPU\" = \"1\" ]; then\n",
        "      JULIA_PACKAGES=\"$JULIA_PACKAGES $JULIA_PACKAGES_IF_GPU\"\n",
        "  fi\n",
        "  for PKG in `echo $JULIA_PACKAGES`; do\n",
        "    echo \"Installing Julia package $PKG...\"\n",
        "    julia -e 'using Pkg; pkg\"add '$PKG'; precompile;\"' &> /dev/null\n",
        "  done\n",
        "\n",
        "  # Install kernel and rename it to \"julia\"\n",
        "  echo \"Installing IJulia kernel...\"\n",
        "  julia -e 'using IJulia; IJulia.installkernel(\"julia\", env=Dict(\n",
        "      \"JULIA_NUM_THREADS\"=>\"'\"$JULIA_NUM_THREADS\"'\"))'\n",
        "  KERNEL_DIR=`julia -e \"using IJulia; print(IJulia.kerneldir())\"`\n",
        "  KERNEL_NAME=`ls -d \"$KERNEL_DIR\"/julia*`\n",
        "  mv -f $KERNEL_NAME \"$KERNEL_DIR\"/julia  \n",
        "\n",
        "  echo ''\n",
        "  echo \"Successfully installed `julia -v`!\"\n",
        "  echo \"Please reload this page (press Ctrl+R, ⌘+R, or the F5 key) then\"\n",
        "  echo \"jump to the 'Checking the Installation' section.\"\n",
        "fi"
      ],
      "execution_count": null,
      "outputs": [
        {
          "output_type": "stream",
          "name": "stdout",
          "text": [
            "Installing Julia 1.6.0 on the current Colab Runtime...\n",
            "2021-12-03 13:39:31 URL:https://storage.googleapis.com/julialang2/bin/linux/x64/1.6/julia-1.6.0-linux-x86_64.tar.gz [112838927/112838927] -> \"/tmp/julia.tar.gz\" [1]\n",
            "Installing Julia package IJulia...\n"
          ]
        }
      ]
    },
    {
      "cell_type": "markdown",
      "metadata": {
        "id": "-OS3Ac017T1i"
      },
      "source": [
        "## Checking the Installation\n",
        "The `versioninfo()` function should print your Julia version and some other info about the system (if you ever ask for help or file an issue about Julia, you should always provide this information)."
      ]
    },
    {
      "cell_type": "code",
      "metadata": {
        "id": "EEzvvzCl1i0F",
        "colab": {
          "base_uri": "https://localhost:8080/"
        },
        "outputId": "1b231146-e2f2-48ce-dda6-71c7bb845766"
      },
      "source": [
        "versioninfo()"
      ],
      "execution_count": 1,
      "outputs": [
        {
          "output_type": "stream",
          "name": "stdout",
          "text": [
            "Julia Version 1.6.0\n",
            "Commit f9720dc2eb (2021-03-24 12:55 UTC)\n",
            "Platform Info:\n",
            "  OS: Linux (x86_64-pc-linux-gnu)\n",
            "  CPU: AMD EPYC 7B12\n",
            "  WORD_SIZE: 64\n",
            "  LIBM: libopenlibm\n",
            "  LLVM: libLLVM-11.0.1 (ORCJIT, znver2)\n",
            "Environment:\n",
            "  JULIA_NUM_THREADS = 4\n"
          ]
        }
      ]
    },
    {
      "cell_type": "markdown",
      "metadata": {
        "id": "02Bzqiz31qfO"
      },
      "source": [
        "# Imports"
      ]
    },
    {
      "cell_type": "code",
      "metadata": {
        "id": "HHh7DtlP1PX9"
      },
      "source": [
        "using LinearAlgebra\n",
        "using Statistics\n",
        "using Dates"
      ],
      "execution_count": 2,
      "outputs": []
    },
    {
      "cell_type": "markdown",
      "metadata": {
        "id": "WMCpyA2f1wNj"
      },
      "source": [
        "# How to get all the dates corresponding to the month of July 2016?"
      ]
    },
    {
      "cell_type": "code",
      "metadata": {
        "colab": {
          "base_uri": "https://localhost:8080/"
        },
        "id": "lfd6x4KH1rl2",
        "outputId": "d8048c09-5c54-45ee-d3c6-891425abd537"
      },
      "source": [
        "dr = Date(\"2016-07-01\"):Day(1):Date(\"2016-07-31\")"
      ],
      "execution_count": 3,
      "outputs": [
        {
          "output_type": "execute_result",
          "data": {
            "text/plain": [
              "Date(\"2016-07-01\"):Day(1):Date(\"2016-07-31\")"
            ]
          },
          "metadata": {},
          "execution_count": 3
        }
      ]
    },
    {
      "cell_type": "code",
      "metadata": {
        "colab": {
          "base_uri": "https://localhost:8080/"
        },
        "id": "NApwjCC_1w2J",
        "outputId": "844e617e-66da-43bc-acc1-e0a07bee1280"
      },
      "source": [
        "# The above is probably all you need but if if do need to get the dates individually then this works\n",
        "dr = [Date(\"2016-07-01\"):Day(1):Date(\"2016-07-31\");]"
      ],
      "execution_count": 4,
      "outputs": [
        {
          "output_type": "execute_result",
          "data": {
            "text/plain": [
              "31-element Vector{Date}:\n",
              " 2016-07-01\n",
              " 2016-07-02\n",
              " 2016-07-03\n",
              " 2016-07-04\n",
              " 2016-07-05\n",
              " 2016-07-06\n",
              " 2016-07-07\n",
              " 2016-07-08\n",
              " 2016-07-09\n",
              " 2016-07-10\n",
              " 2016-07-11\n",
              " 2016-07-12\n",
              " 2016-07-13\n",
              " ⋮\n",
              " 2016-07-20\n",
              " 2016-07-21\n",
              " 2016-07-22\n",
              " 2016-07-23\n",
              " 2016-07-24\n",
              " 2016-07-25\n",
              " 2016-07-26\n",
              " 2016-07-27\n",
              " 2016-07-28\n",
              " 2016-07-29\n",
              " 2016-07-30\n",
              " 2016-07-31"
            ]
          },
          "metadata": {},
          "execution_count": 4
        }
      ]
    },
    {
      "cell_type": "markdown",
      "metadata": {
        "id": "4vcnlp-73Uxc"
      },
      "source": [
        "# How to compute ((A+B)*(-A/2)) in place (without copy)?"
      ]
    },
    {
      "cell_type": "code",
      "metadata": {
        "colab": {
          "base_uri": "https://localhost:8080/"
        },
        "id": "6-zb557Z2A1L",
        "outputId": "50e25b2f-828f-4e8e-8265-bff469826943"
      },
      "source": [
        "A = ones(3)\n",
        "B = 2ones(3)\n",
        "\n",
        "(A + B) .* (-A / 2)"
      ],
      "execution_count": 5,
      "outputs": [
        {
          "output_type": "execute_result",
          "data": {
            "text/plain": [
              "3-element Vector{Float64}:\n",
              " -1.5\n",
              " -1.5\n",
              " -1.5"
            ]
          },
          "metadata": {},
          "execution_count": 5
        }
      ]
    },
    {
      "cell_type": "markdown",
      "metadata": {
        "id": "UMxII1pvE_5E"
      },
      "source": [
        "# Extract the integer part of a random array of positive numbers?"
      ]
    },
    {
      "cell_type": "code",
      "metadata": {
        "colab": {
          "base_uri": "https://localhost:8080/"
        },
        "id": "yHaXTxCL-GWN",
        "outputId": "66a44c7a-2280-4ad6-fe70-a2d92829cb8d"
      },
      "source": [
        "Z = rand(0:0.01:100,20)\n",
        "make_int(x) = trunc(Int,x)\n",
        "make_int.(Z)"
      ],
      "execution_count": 6,
      "outputs": [
        {
          "output_type": "execute_result",
          "data": {
            "text/plain": [
              "20-element Vector{Int64}:\n",
              " 41\n",
              " 76\n",
              " 11\n",
              " 41\n",
              " 37\n",
              " 56\n",
              " 77\n",
              "  3\n",
              " 49\n",
              " 20\n",
              " 94\n",
              " 78\n",
              " 90\n",
              " 14\n",
              " 75\n",
              " 22\n",
              " 10\n",
              " 30\n",
              " 81\n",
              " 96"
            ]
          },
          "metadata": {},
          "execution_count": 6
        }
      ]
    },
    {
      "cell_type": "markdown",
      "metadata": {
        "id": "yADSmt52AtUy"
      },
      "source": [
        "# Create a 5x5 matrix with row values ranging from 0 to 4 "
      ]
    },
    {
      "cell_type": "code",
      "metadata": {
        "colab": {
          "base_uri": "https://localhost:8080/"
        },
        "id": "PqYgtQFvAE5q",
        "outputId": "18ac5092-b8aa-4d8f-b1b5-384749a12659"
      },
      "source": [
        "A = fill([0:4;], 5)\n",
        "# This is the solution if you want a array of arrays"
      ],
      "execution_count": 7,
      "outputs": [
        {
          "output_type": "execute_result",
          "data": {
            "text/plain": [
              "5-element Vector{Vector{Int64}}:\n",
              " [0, 1, 2, 3, 4]\n",
              " [0, 1, 2, 3, 4]\n",
              " [0, 1, 2, 3, 4]\n",
              " [0, 1, 2, 3, 4]\n",
              " [0, 1, 2, 3, 4]"
            ]
          },
          "metadata": {},
          "execution_count": 7
        }
      ]
    },
    {
      "cell_type": "code",
      "metadata": {
        "colab": {
          "base_uri": "https://localhost:8080/"
        },
        "id": "elPAUI8dC7BU",
        "outputId": "d0de8ee2-c73e-43f2-bb05-aad80f8039f6"
      },
      "source": [
        "# The solution for this particular problem\n",
        "A = [0 1 2 3 4]\n",
        "repeat(A, 5)"
      ],
      "execution_count": 8,
      "outputs": [
        {
          "output_type": "execute_result",
          "data": {
            "text/plain": [
              "5×5 Matrix{Int64}:\n",
              " 0  1  2  3  4\n",
              " 0  1  2  3  4\n",
              " 0  1  2  3  4\n",
              " 0  1  2  3  4\n",
              " 0  1  2  3  4"
            ]
          },
          "metadata": {},
          "execution_count": 8
        }
      ]
    },
    {
      "cell_type": "code",
      "metadata": {
        "colab": {
          "base_uri": "https://localhost:8080/"
        },
        "id": "VQNqtqE8IdWr",
        "outputId": "04277bf0-65d9-4eb4-f5c8-36db16839796"
      },
      "source": [
        "# This is a more generic solution but slightly more involved\n",
        "repeat(reshape([0:4;], 1, :), 5)\n",
        "# Lets break down as so \n",
        "# * [0:4;] creates a vector [0,1,2,3,4], by default Julia makes a column vector\n",
        "# * reshape([0:4;], 1, :) converts to 1x5 row vector from the column vector\n",
        "# * The repeat function basically copies it five times"
      ],
      "execution_count": 9,
      "outputs": [
        {
          "output_type": "execute_result",
          "data": {
            "text/plain": [
              "5×5 Matrix{Int64}:\n",
              " 0  1  2  3  4\n",
              " 0  1  2  3  4\n",
              " 0  1  2  3  4\n",
              " 0  1  2  3  4\n",
              " 0  1  2  3  4"
            ]
          },
          "metadata": {},
          "execution_count": 9
        }
      ]
    },
    {
      "cell_type": "markdown",
      "metadata": {
        "id": "BCU-zFIDSVqO"
      },
      "source": [
        "# Create a vector of size 10 with values ranging from 0 to 1, both excluded\n"
      ]
    },
    {
      "cell_type": "code",
      "metadata": {
        "id": "-MJ_ZpasLj5F",
        "colab": {
          "base_uri": "https://localhost:8080/"
        },
        "outputId": "91c87007-53e2-46f4-f610-57a5f2c12ce3"
      },
      "source": [
        "Z = [rand(Float64) for i in 1:10]\n",
        "# Most of the time this will work. I don't really see the need to actually exclude 0 as well from this code but if you do, then"
      ],
      "execution_count": 13,
      "outputs": [
        {
          "output_type": "execute_result",
          "data": {
            "text/plain": [
              "10-element Vector{Float64}:\n",
              " 0.5908298567372248\n",
              " 0.11770449053896503\n",
              " 0.9345939083620887\n",
              " 0.9751342403865666\n",
              " 0.3849710002177742\n",
              " 0.04842678997449412\n",
              " 0.9014499981793958\n",
              " 0.4888617015012062\n",
              " 0.5386087131531752\n",
              " 0.12020702642800174"
            ]
          },
          "metadata": {},
          "execution_count": 13
        }
      ]
    },
    {
      "cell_type": "code",
      "metadata": {
        "id": "DJr5kaSoSalP",
        "colab": {
          "base_uri": "https://localhost:8080/"
        },
        "outputId": "0b8297aa-0d46-4844-9ccd-743406af9c0e"
      },
      "source": [
        "Z = [prevfloat(1.0) * (1 - rand(Float64)) for i in 1:10]\n",
        "# Again its pretty extremely unlikely you'd actually need it but if you do, then you please read this discussion as well before going in https://discourse.julialang.org/t/how-to-create-a-random-uniform-distribution-between-but-excluding-0-and-10"
      ],
      "execution_count": 12,
      "outputs": [
        {
          "output_type": "execute_result",
          "data": {
            "text/plain": [
              "10-element Vector{Float64}:\n",
              " 0.04752543556764265\n",
              " 0.4019328530048893\n",
              " 0.4885538584278823\n",
              " 0.4707687059311995\n",
              " 0.7287187163572452\n",
              " 0.19404028925109726\n",
              " 0.34202877199776677\n",
              " 0.6738424229464998\n",
              " 0.6725857984706801\n",
              " 0.16774373440846754"
            ]
          },
          "metadata": {},
          "execution_count": 12
        }
      ]
    },
    {
      "cell_type": "markdown",
      "metadata": {
        "id": "gU7AImNpoOvp"
      },
      "source": [
        "# Create a random vector of size 10 and sort it"
      ]
    },
    {
      "cell_type": "code",
      "metadata": {
        "colab": {
          "base_uri": "https://localhost:8080/"
        },
        "id": "K-Jc-2kMnfWY",
        "outputId": "6abbb7c9-e3f1-45a0-a954-8560c2dbd61e"
      },
      "source": [
        "Z = rand(Int,10)\n",
        "sort!(Z)"
      ],
      "execution_count": 14,
      "outputs": [
        {
          "output_type": "execute_result",
          "data": {
            "text/plain": [
              "10-element Vector{Int64}:\n",
              " -6751342781911246636\n",
              " -5125373811659365406\n",
              " -3405765094255136560\n",
              " -1242400539213238382\n",
              "  -229009074650228276\n",
              "   132061210894599491\n",
              "  3901008989875985513\n",
              "  5809004649136605377\n",
              "  6210227726903313373\n",
              "  6697832639480712521"
            ]
          },
          "metadata": {},
          "execution_count": 14
        }
      ]
    },
    {
      "cell_type": "code",
      "metadata": {
        "id": "rtOTla8uoLlF"
      },
      "source": [
        ""
      ],
      "execution_count": null,
      "outputs": []
    }
  ]
}