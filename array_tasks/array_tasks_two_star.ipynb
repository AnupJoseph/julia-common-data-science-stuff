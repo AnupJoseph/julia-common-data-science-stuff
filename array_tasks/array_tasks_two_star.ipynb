{
  "nbformat": 4,
  "nbformat_minor": 0,
  "metadata": {
    "colab": {
      "name": "array_tasks_two_star.ipynb",
      "provenance": [],
      "collapsed_sections": []
    },
    "kernelspec": {
      "display_name": "Julia",
      "language": "julia",
      "name": "julia"
    },
    "language_info": {
      "file_extension": ".jl",
      "mimetype": "application/julia",
      "name": "julia"
    }
  },
  "cells": [
    {
      "cell_type": "markdown",
      "metadata": {
        "id": "f_1dr-2W5iSU"
      },
      "source": [
        "# Getting Started with Julia in Colab/Jupyter\n",
        "You can either run this notebook in Google Colab, or using Jupyter on your own machine."
      ]
    },
    {
      "cell_type": "markdown",
      "metadata": {
        "id": "6ew60wXrZM0W"
      },
      "source": [
        "## Running on Google Colab\n",
        "1. Work on a copy of this notebook: _File_ > _Save a copy in Drive_ (you will need a Google account). Alternatively, you can download the notebook using _File_ > _Download .ipynb_, then upload it to [Colab](https://colab.research.google.com/).\n",
        "2. Execute the following cell (click on it and press Ctrl+Enter) to install Julia, IJulia (the Jupyter kernel for Julia) and other packages. You can update `JULIA_VERSION` and the other parameters, if you know what you're doing. Installation takes 2-3 minutes.\n",
        "3. Reload this page (press Ctrl+R, or ⌘+R, or the F5 key) and continue to the _Checking the Installation_ section.\n",
        "\n",
        "* _Note_: If your Colab Runtime gets reset (e.g., due to inactivity), repeat steps 2 and 3."
      ]
    },
    {
      "cell_type": "code",
      "metadata": {
        "id": "GIeFXS0F0zww",
        "colab": {
          "base_uri": "https://localhost:8080/"
        },
        "outputId": "76d1acaf-e51c-491c-9360-4acaab515ab2"
      },
      "source": [
        "%%shell\n",
        "set -e\n",
        "\n",
        "#---------------------------------------------------#\n",
        "JULIA_VERSION=\"1.6.0\" # any version ≥ 0.7.0\n",
        "JULIA_PACKAGES=\"IJulia Distances\"\n",
        "JULIA_PACKAGES_IF_GPU=\"CUDA\"\n",
        "JULIA_NUM_THREADS=4\n",
        "#---------------------------------------------------#\n",
        "\n",
        "if [ -n \"$COLAB_GPU\" ] && [ -z `which julia` ]; then\n",
        "  # Install Julia\n",
        "  JULIA_VER=`cut -d '.' -f -2 <<< \"$JULIA_VERSION\"`\n",
        "  echo \"Installing Julia $JULIA_VERSION on the current Colab Runtime...\"\n",
        "  BASE_URL=\"https://julialang-s3.julialang.org/bin/linux/x64\"\n",
        "  URL=\"$BASE_URL/$JULIA_VER/julia-$JULIA_VERSION-linux-x86_64.tar.gz\"\n",
        "  wget -nv $URL -O /tmp/julia.tar.gz # -nv means \"not verbose\"\n",
        "  tar -x -f /tmp/julia.tar.gz -C /usr/local --strip-components 1\n",
        "  rm /tmp/julia.tar.gz\n",
        "\n",
        "  # Install Packages\n",
        "  if [ \"$COLAB_GPU\" = \"1\" ]; then\n",
        "      JULIA_PACKAGES=\"$JULIA_PACKAGES $JULIA_PACKAGES_IF_GPU\"\n",
        "  fi\n",
        "  for PKG in `echo $JULIA_PACKAGES`; do\n",
        "    echo \"Installing Julia package $PKG...\"\n",
        "    julia -e 'using Pkg; pkg\"add '$PKG'; precompile;\"' &> /dev/null\n",
        "  done\n",
        "\n",
        "  # Install kernel and rename it to \"julia\"\n",
        "  echo \"Installing IJulia kernel...\"\n",
        "  julia -e 'using IJulia; IJulia.installkernel(\"julia\", env=Dict(\n",
        "      \"JULIA_NUM_THREADS\"=>\"'\"$JULIA_NUM_THREADS\"'\"))'\n",
        "  KERNEL_DIR=`julia -e \"using IJulia; print(IJulia.kerneldir())\"`\n",
        "  KERNEL_NAME=`ls -d \"$KERNEL_DIR\"/julia*`\n",
        "  mv -f $KERNEL_NAME \"$KERNEL_DIR\"/julia  \n",
        "\n",
        "  echo ''\n",
        "  echo \"Successfully installed `julia -v`!\"\n",
        "  echo \"Please reload this page (press Ctrl+R, ⌘+R, or the F5 key) then\"\n",
        "  echo \"jump to the 'Checking the Installation' section.\"\n",
        "fi"
      ],
      "execution_count": null,
      "outputs": [
        {
          "output_type": "stream",
          "name": "stdout",
          "text": [
            "Installing Julia 1.6.0 on the current Colab Runtime...\n",
            "2021-12-07 05:40:55 URL:https://storage.googleapis.com/julialang2/bin/linux/x64/1.6/julia-1.6.0-linux-x86_64.tar.gz [112838927/112838927] -> \"/tmp/julia.tar.gz\" [1]\n",
            "Installing Julia package IJulia...\n",
            "Installing IJulia kernel...\n",
            "\u001b[36m\u001b[1m[ \u001b[22m\u001b[39m\u001b[36m\u001b[1mInfo: \u001b[22m\u001b[39mInstalling julia kernelspec in /root/.local/share/jupyter/kernels/julia-1.6\n",
            "\n",
            "Successfully installed julia version 1.6.0!\n",
            "Please reload this page (press Ctrl+R, ⌘+R, or the F5 key) then\n",
            "jump to the 'Checking the Installation' section.\n"
          ]
        },
        {
          "output_type": "execute_result",
          "data": {
            "text/plain": [
              ""
            ]
          },
          "metadata": {},
          "execution_count": 1
        }
      ]
    },
    {
      "cell_type": "markdown",
      "metadata": {
        "id": "-OS3Ac017T1i"
      },
      "source": [
        "## Checking the Installation\n",
        "The `versioninfo()` function should print your Julia version and some other info about the system (if you ever ask for help or file an issue about Julia, you should always provide this information)."
      ]
    },
    {
      "cell_type": "code",
      "metadata": {
        "id": "EEzvvzCl1i0F",
        "colab": {
          "base_uri": "https://localhost:8080/"
        },
        "outputId": "127a2ea6-f29d-4110-8156-5d88e0b71afd"
      },
      "source": [
        "versioninfo()"
      ],
      "execution_count": 1,
      "outputs": [
        {
          "output_type": "stream",
          "name": "stdout",
          "text": [
            "Julia Version 1.6.0\n",
            "Commit f9720dc2eb (2021-03-24 12:55 UTC)\n",
            "Platform Info:\n",
            "  OS: Linux (x86_64-pc-linux-gnu)\n",
            "  CPU: Intel(R) Xeon(R) CPU @ 2.20GHz\n",
            "  WORD_SIZE: 64\n",
            "  LIBM: libopenlibm\n",
            "  LLVM: libLLVM-11.0.1 (ORCJIT, broadwell)\n",
            "Environment:\n",
            "  JULIA_NUM_THREADS = 4\n"
          ]
        }
      ]
    },
    {
      "cell_type": "markdown",
      "metadata": {
        "id": "02Bzqiz31qfO"
      },
      "source": [
        "# Imports"
      ]
    },
    {
      "cell_type": "code",
      "metadata": {
        "colab": {
          "base_uri": "https://localhost:8080/"
        },
        "id": "8FahWqu2exHc",
        "outputId": "0306f532-7b50-4c08-e769-3abca0386838"
      },
      "source": [
        "using Pkg\n",
        "Pkg.add(\"Distances\")"
      ],
      "execution_count": 31,
      "outputs": [
        {
          "output_type": "stream",
          "name": "stderr",
          "text": [
            "\u001b[32m\u001b[1m    Updating\u001b[22m\u001b[39m registry at `~/.julia/registries/General`\n",
            "\u001b[32m\u001b[1m   Resolving\u001b[22m\u001b[39m package versions...\n",
            "\u001b[32m\u001b[1m   Installed\u001b[22m\u001b[39m Distances ─ v0.10.7\n",
            "\u001b[32m\u001b[1m   Installed\u001b[22m\u001b[39m StatsAPI ── v1.1.0\n",
            "\u001b[32m\u001b[1m    Updating\u001b[22m\u001b[39m `~/.julia/environments/v1.6/Project.toml`\n",
            " \u001b[90m [b4f34e82] \u001b[39m\u001b[92m+ Distances v0.10.7\u001b[39m\n",
            "\u001b[32m\u001b[1m    Updating\u001b[22m\u001b[39m `~/.julia/environments/v1.6/Manifest.toml`\n",
            " \u001b[90m [b4f34e82] \u001b[39m\u001b[92m+ Distances v0.10.7\u001b[39m\n",
            " \u001b[90m [82ae8749] \u001b[39m\u001b[92m+ StatsAPI v1.1.0\u001b[39m\n",
            " \u001b[90m [37e2e46d] \u001b[39m\u001b[92m+ LinearAlgebra\u001b[39m\n",
            " \u001b[90m [2f01184e] \u001b[39m\u001b[92m+ SparseArrays\u001b[39m\n",
            " \u001b[90m [10745b16] \u001b[39m\u001b[92m+ Statistics\u001b[39m\n",
            "\u001b[32m\u001b[1mPrecompiling\u001b[22m\u001b[39m project...\n",
            "\u001b[32m  ✓ \u001b[39m\u001b[90mStatsAPI\u001b[39m\n",
            "\u001b[32m  ✓ \u001b[39mDistances\n",
            "2 dependencies successfully precompiled in 3 seconds (15 already precompiled)\n"
          ]
        }
      ]
    },
    {
      "cell_type": "code",
      "metadata": {
        "id": "HHh7DtlP1PX9"
      },
      "source": [
        "using LinearAlgebra\n",
        "using Statistics\n",
        "using Dates\n",
        "using Distances"
      ],
      "execution_count": 32,
      "outputs": []
    },
    {
      "cell_type": "markdown",
      "metadata": {
        "id": "WMCpyA2f1wNj"
      },
      "source": [
        "# How to get all the dates corresponding to the month of July 2016?"
      ]
    },
    {
      "cell_type": "code",
      "metadata": {
        "colab": {
          "base_uri": "https://localhost:8080/"
        },
        "id": "lfd6x4KH1rl2",
        "outputId": "d28e47f2-1a80-448f-a031-363e90311437"
      },
      "source": [
        "dr = Date(\"2016-07-01\"):Day(1):Date(\"2016-07-31\")"
      ],
      "execution_count": 3,
      "outputs": [
        {
          "output_type": "execute_result",
          "data": {
            "text/plain": [
              "Date(\"2016-07-01\"):Day(1):Date(\"2016-07-31\")"
            ]
          },
          "metadata": {},
          "execution_count": 3
        }
      ]
    },
    {
      "cell_type": "code",
      "metadata": {
        "colab": {
          "base_uri": "https://localhost:8080/"
        },
        "id": "NApwjCC_1w2J",
        "outputId": "2eeff4cb-068e-4c3d-b736-c63afd6555e4"
      },
      "source": [
        "# The above is probably all you need but if if do need to get the dates individually then this works\n",
        "dr = [Date(\"2016-07-01\"):Day(1):Date(\"2016-07-31\");]"
      ],
      "execution_count": 4,
      "outputs": [
        {
          "output_type": "execute_result",
          "data": {
            "text/plain": [
              "31-element Vector{Date}:\n",
              " 2016-07-01\n",
              " 2016-07-02\n",
              " 2016-07-03\n",
              " 2016-07-04\n",
              " 2016-07-05\n",
              " 2016-07-06\n",
              " 2016-07-07\n",
              " 2016-07-08\n",
              " 2016-07-09\n",
              " 2016-07-10\n",
              " 2016-07-11\n",
              " 2016-07-12\n",
              " 2016-07-13\n",
              " ⋮\n",
              " 2016-07-20\n",
              " 2016-07-21\n",
              " 2016-07-22\n",
              " 2016-07-23\n",
              " 2016-07-24\n",
              " 2016-07-25\n",
              " 2016-07-26\n",
              " 2016-07-27\n",
              " 2016-07-28\n",
              " 2016-07-29\n",
              " 2016-07-30\n",
              " 2016-07-31"
            ]
          },
          "metadata": {},
          "execution_count": 4
        }
      ]
    },
    {
      "cell_type": "markdown",
      "metadata": {
        "id": "4vcnlp-73Uxc"
      },
      "source": [
        "# How to compute ((A+B)*(-A/2)) in place (without copy)?"
      ]
    },
    {
      "cell_type": "code",
      "metadata": {
        "colab": {
          "base_uri": "https://localhost:8080/"
        },
        "id": "6-zb557Z2A1L",
        "outputId": "855c515d-4da4-4222-f95e-458a8f476a75"
      },
      "source": [
        "A = ones(3)\n",
        "B = 2ones(3)\n",
        "\n",
        "(A + B) .* (-A / 2)"
      ],
      "execution_count": 5,
      "outputs": [
        {
          "output_type": "execute_result",
          "data": {
            "text/plain": [
              "3-element Vector{Float64}:\n",
              " -1.5\n",
              " -1.5\n",
              " -1.5"
            ]
          },
          "metadata": {},
          "execution_count": 5
        }
      ]
    },
    {
      "cell_type": "markdown",
      "metadata": {
        "id": "UMxII1pvE_5E"
      },
      "source": [
        "# Extract the integer part of a random array of positive numbers?"
      ]
    },
    {
      "cell_type": "code",
      "metadata": {
        "colab": {
          "base_uri": "https://localhost:8080/"
        },
        "id": "yHaXTxCL-GWN",
        "outputId": "b5a9c78f-8a34-4ce2-b88c-24e334809326"
      },
      "source": [
        "Z = rand(0:0.01:100,20)\n",
        "make_int(x) = trunc(Int,x)\n",
        "make_int.(Z)"
      ],
      "execution_count": 6,
      "outputs": [
        {
          "output_type": "execute_result",
          "data": {
            "text/plain": [
              "20-element Vector{Int64}:\n",
              " 59\n",
              " 30\n",
              "  4\n",
              " 88\n",
              "  3\n",
              " 51\n",
              " 32\n",
              " 95\n",
              " 69\n",
              " 23\n",
              " 24\n",
              " 14\n",
              " 86\n",
              "  9\n",
              " 94\n",
              " 29\n",
              "  8\n",
              " 72\n",
              " 52\n",
              " 79"
            ]
          },
          "metadata": {},
          "execution_count": 6
        }
      ]
    },
    {
      "cell_type": "markdown",
      "metadata": {
        "id": "yADSmt52AtUy"
      },
      "source": [
        "# Create a 5x5 matrix with row values ranging from 0 to 4 "
      ]
    },
    {
      "cell_type": "code",
      "metadata": {
        "colab": {
          "base_uri": "https://localhost:8080/"
        },
        "id": "PqYgtQFvAE5q",
        "outputId": "6835e8e7-91a1-4fb5-bcf0-bbda6d355ef9"
      },
      "source": [
        "A = fill([0:4;], 5)\n",
        "# This is the solution if you want a array of arrays"
      ],
      "execution_count": 7,
      "outputs": [
        {
          "output_type": "execute_result",
          "data": {
            "text/plain": [
              "5-element Vector{Vector{Int64}}:\n",
              " [0, 1, 2, 3, 4]\n",
              " [0, 1, 2, 3, 4]\n",
              " [0, 1, 2, 3, 4]\n",
              " [0, 1, 2, 3, 4]\n",
              " [0, 1, 2, 3, 4]"
            ]
          },
          "metadata": {},
          "execution_count": 7
        }
      ]
    },
    {
      "cell_type": "code",
      "metadata": {
        "colab": {
          "base_uri": "https://localhost:8080/"
        },
        "id": "elPAUI8dC7BU",
        "outputId": "f1ab1006-bf5d-4486-acb6-4531a8cb685d"
      },
      "source": [
        "# The solution for this particular problem\n",
        "A = [0 1 2 3 4]\n",
        "repeat(A, 5)"
      ],
      "execution_count": 8,
      "outputs": [
        {
          "output_type": "execute_result",
          "data": {
            "text/plain": [
              "5×5 Matrix{Int64}:\n",
              " 0  1  2  3  4\n",
              " 0  1  2  3  4\n",
              " 0  1  2  3  4\n",
              " 0  1  2  3  4\n",
              " 0  1  2  3  4"
            ]
          },
          "metadata": {},
          "execution_count": 8
        }
      ]
    },
    {
      "cell_type": "code",
      "metadata": {
        "colab": {
          "base_uri": "https://localhost:8080/"
        },
        "id": "VQNqtqE8IdWr",
        "outputId": "d7a7f2d2-0007-4269-837b-46382c5c1a31"
      },
      "source": [
        "# This is a more generic solution but slightly more involved\n",
        "repeat(reshape([0:4;], 1, :), 5)\n",
        "# Lets break down as so \n",
        "# * [0:4;] creates a vector [0,1,2,3,4], by default Julia makes a column vector\n",
        "# * reshape([0:4;], 1, :) converts to 1x5 row vector from the column vector\n",
        "# * The repeat function basically copies it five times"
      ],
      "execution_count": 9,
      "outputs": [
        {
          "output_type": "execute_result",
          "data": {
            "text/plain": [
              "5×5 Matrix{Int64}:\n",
              " 0  1  2  3  4\n",
              " 0  1  2  3  4\n",
              " 0  1  2  3  4\n",
              " 0  1  2  3  4\n",
              " 0  1  2  3  4"
            ]
          },
          "metadata": {},
          "execution_count": 9
        }
      ]
    },
    {
      "cell_type": "markdown",
      "metadata": {
        "id": "BCU-zFIDSVqO"
      },
      "source": [
        "# Create a vector of size 10 with values ranging from 0 to 1, both excluded\n"
      ]
    },
    {
      "cell_type": "code",
      "metadata": {
        "id": "-MJ_ZpasLj5F",
        "colab": {
          "base_uri": "https://localhost:8080/"
        },
        "outputId": "e4e567b6-f009-4f0a-8c83-b928a56da7d3"
      },
      "source": [
        "Z = [rand(Float64) for i in 1:10]\n",
        "# Most of the time this will work. I don't really see the need to actually exclude 0 as well from this code but if you do, then"
      ],
      "execution_count": 10,
      "outputs": [
        {
          "output_type": "execute_result",
          "data": {
            "text/plain": [
              "10-element Vector{Float64}:\n",
              " 0.7165166080997047\n",
              " 0.2696561325638622\n",
              " 0.8831933496131028\n",
              " 0.6915696847598534\n",
              " 0.4904262840306819\n",
              " 0.07250199202949714\n",
              " 0.3731427785645258\n",
              " 0.5531284289109053\n",
              " 0.7333200435534386\n",
              " 0.21130312349370994"
            ]
          },
          "metadata": {},
          "execution_count": 10
        }
      ]
    },
    {
      "cell_type": "code",
      "metadata": {
        "id": "DJr5kaSoSalP",
        "colab": {
          "base_uri": "https://localhost:8080/"
        },
        "outputId": "597b4c07-18c4-4605-c284-169c7137b6fc"
      },
      "source": [
        "Z = [prevfloat(1.0) * (1 - rand(Float64)) for i in 1:10]\n",
        "# Again its pretty extremely unlikely you'd actually need it but if you do, then you please read this discussion as well before going in https://discourse.julialang.org/t/how-to-create-a-random-uniform-distribution-between-but-excluding-0-and-10"
      ],
      "execution_count": 11,
      "outputs": [
        {
          "output_type": "execute_result",
          "data": {
            "text/plain": [
              "10-element Vector{Float64}:\n",
              " 0.03800248075192369\n",
              " 0.5522688556693326\n",
              " 0.7735801634673164\n",
              " 0.9611256141528276\n",
              " 0.24997884703532255\n",
              " 0.49434921637825163\n",
              " 0.6410719729579945\n",
              " 0.2133674267459684\n",
              " 0.841468068666206\n",
              " 0.8955416655565974"
            ]
          },
          "metadata": {},
          "execution_count": 11
        }
      ]
    },
    {
      "cell_type": "markdown",
      "metadata": {
        "id": "gU7AImNpoOvp"
      },
      "source": [
        "# Create a random vector of size 10 and sort it"
      ]
    },
    {
      "cell_type": "code",
      "metadata": {
        "colab": {
          "base_uri": "https://localhost:8080/"
        },
        "id": "K-Jc-2kMnfWY",
        "outputId": "50aae670-cd31-49b5-f2e8-c3421012c255"
      },
      "source": [
        "Z = rand(Int,10)\n",
        "sort!(Z)"
      ],
      "execution_count": 12,
      "outputs": [
        {
          "output_type": "execute_result",
          "data": {
            "text/plain": [
              "10-element Vector{Int64}:\n",
              " -8105931568320287737\n",
              " -5549860894228175336\n",
              " -2112434236849380150\n",
              "   874346798032584509\n",
              "  2079082836835675050\n",
              "  3830037054528337295\n",
              "  3893757251933956159\n",
              "  5160360531292831239\n",
              "  6184719450628982333\n",
              "  8511439861048190173"
            ]
          },
          "metadata": {},
          "execution_count": 12
        }
      ]
    },
    {
      "cell_type": "markdown",
      "metadata": {
        "id": "e-QrIGFlOmKf"
      },
      "source": [
        "# Consider two random array A and B, check if they are equal"
      ]
    },
    {
      "cell_type": "code",
      "metadata": {
        "id": "rtOTla8uoLlF",
        "colab": {
          "base_uri": "https://localhost:8080/"
        },
        "outputId": "405fb869-3452-4064-eda8-d940c31f727f"
      },
      "source": [
        "A = rand(1:5, 10)\n",
        "B = rand(1:5, 10)\n",
        "\n",
        "# To check if the arrays are completely equal\n",
        "A == B"
      ],
      "execution_count": 13,
      "outputs": [
        {
          "output_type": "execute_result",
          "data": {
            "text/plain": [
              "false"
            ]
          },
          "metadata": {},
          "execution_count": 13
        }
      ]
    },
    {
      "cell_type": "code",
      "metadata": {
        "colab": {
          "base_uri": "https://localhost:8080/"
        },
        "id": "QKMM-m-dPTPX",
        "outputId": "6cbe0fbb-38b7-4067-effa-457d3002e380"
      },
      "source": [
        "A = rand(1:5, 10)\n",
        "B = rand(1:5, 10)\n",
        "A,B"
      ],
      "execution_count": 14,
      "outputs": [
        {
          "output_type": "execute_result",
          "data": {
            "text/plain": [
              "([4, 3, 1, 2, 4, 3, 5, 1, 2, 4], [3, 2, 1, 1, 5, 4, 1, 2, 3, 4])"
            ]
          },
          "metadata": {},
          "execution_count": 14
        }
      ]
    },
    {
      "cell_type": "code",
      "metadata": {
        "colab": {
          "base_uri": "https://localhost:8080/"
        },
        "id": "AFHO1zx0OlHh",
        "outputId": "6819f878-ab0a-4c3a-af7f-3a79d6a86683"
      },
      "source": [
        "# To check if the elements in the arrays are equal\n",
        "A .== B"
      ],
      "execution_count": 15,
      "outputs": [
        {
          "output_type": "execute_result",
          "data": {
            "text/plain": [
              "10-element BitVector:\n",
              " 0\n",
              " 0\n",
              " 1\n",
              " 0\n",
              " 0\n",
              " 0\n",
              " 0\n",
              " 0\n",
              " 0\n",
              " 1"
            ]
          },
          "metadata": {},
          "execution_count": 15
        }
      ]
    },
    {
      "cell_type": "markdown",
      "metadata": {
        "id": "XxNVlrtfhSRu"
      },
      "source": [
        "# Consider a random 10x2 matrix representing cartesian coordinates, convert them to polar coordinates\n"
      ]
    },
    {
      "cell_type": "code",
      "metadata": {
        "colab": {
          "base_uri": "https://localhost:8080/"
        },
        "id": "hg5xGtBHPP7H",
        "outputId": "ef8a3fee-6908-42f8-8142-5ca5d83e9914"
      },
      "source": [
        "struct cartesian_point\n",
        "    X::Float32\n",
        "    Y::Float32\n",
        "end\n",
        "points = [cartesian_point(rand(-900:0.01:900), rand(-900:0.01:900)) for _ = 1:10]"
      ],
      "execution_count": 16,
      "outputs": [
        {
          "output_type": "execute_result",
          "data": {
            "text/plain": [
              "10-element Vector{cartesian_point}:\n",
              " cartesian_point(-733.36f0, -540.92f0)\n",
              " cartesian_point(-303.5f0, -486.86f0)\n",
              " cartesian_point(-172.14f0, 71.91f0)\n",
              " cartesian_point(-801.91f0, -816.82f0)\n",
              " cartesian_point(577.89f0, 837.57f0)\n",
              " cartesian_point(258.95f0, 631.2f0)\n",
              " cartesian_point(-753.47f0, -28.27f0)\n",
              " cartesian_point(-181.49f0, -335.75f0)\n",
              " cartesian_point(873.57f0, -468.53f0)\n",
              " cartesian_point(-408.81f0, -3.4f0)"
            ]
          },
          "metadata": {},
          "execution_count": 16
        }
      ]
    },
    {
      "cell_type": "code",
      "metadata": {
        "colab": {
          "base_uri": "https://localhost:8080/"
        },
        "id": "Z2HWLVtSYsR1",
        "outputId": "f276019e-184c-4123-98b2-477c5349490e"
      },
      "source": [
        "points = [cartesian_point(rand(), rand()) for _ = 1:10]\n",
        "Xpoints = [point.X for point in points]\n",
        "Ypoints = [point.Y for point in points]"
      ],
      "execution_count": 17,
      "outputs": [
        {
          "output_type": "execute_result",
          "data": {
            "text/plain": [
              "10-element Vector{Float32}:\n",
              " 0.59284914\n",
              " 0.87740934\n",
              " 0.5979325\n",
              " 0.86323935\n",
              " 0.41968682\n",
              " 0.926866\n",
              " 0.62350166\n",
              " 0.9527373\n",
              " 0.5619024\n",
              " 0.3643342"
            ]
          },
          "metadata": {},
          "execution_count": 17
        }
      ]
    },
    {
      "cell_type": "code",
      "metadata": {
        "colab": {
          "base_uri": "https://localhost:8080/"
        },
        "id": "DE_q8QSraZ9o",
        "outputId": "531311d4-5bde-4c4e-e596-b746edd1fdc8"
      },
      "source": [
        "radians(x, y) = sqrt(x^2 + y^2)\n",
        "theta(x, y) = atan(y, x)"
      ],
      "execution_count": 18,
      "outputs": [
        {
          "output_type": "execute_result",
          "data": {
            "text/plain": [
              "theta (generic function with 1 method)"
            ]
          },
          "metadata": {},
          "execution_count": 18
        }
      ]
    },
    {
      "cell_type": "code",
      "metadata": {
        "colab": {
          "base_uri": "https://localhost:8080/"
        },
        "id": "DSfmyKgxacvl",
        "outputId": "96366151-c3ce-4d3c-bd08-dae578f2add9"
      },
      "source": [
        "radians.(Xpoints, Ypoints)\n",
        "theta.(Xpoints, Ypoints)"
      ],
      "execution_count": 19,
      "outputs": [
        {
          "output_type": "execute_result",
          "data": {
            "text/plain": [
              "10-element Vector{Float32}:\n",
              " 0.8255184\n",
              " 1.1365886\n",
              " 0.56720984\n",
              " 1.5537957\n",
              " 0.5093731\n",
              " 1.1861624\n",
              " 0.82003444\n",
              " 1.4892243\n",
              " 0.65683484\n",
              " 0.5819314"
            ]
          },
          "metadata": {},
          "execution_count": 19
        }
      ]
    },
    {
      "cell_type": "markdown",
      "metadata": {
        "id": "Gj9RK4NNXSZG"
      },
      "source": [
        "# Create random vector of size 10 and replace the maximum value by 0\n"
      ]
    },
    {
      "cell_type": "code",
      "metadata": {
        "id": "qvtpXJ-1bJYN",
        "colab": {
          "base_uri": "https://localhost:8080/"
        },
        "outputId": "898cdbe1-2248-4550-f6aa-743b0f61b623"
      },
      "source": [
        "Z = rand(Int8, 10)\n",
        "print(Z)\n",
        "Z[argmax(Z)]"
      ],
      "execution_count": 20,
      "outputs": [
        {
          "output_type": "stream",
          "name": "stdout",
          "text": [
            "Int8[10, -125, -84, 48, -48, -95, 85, 42, -86, -42]"
          ]
        },
        {
          "output_type": "execute_result",
          "data": {
            "text/plain": [
              "85"
            ]
          },
          "metadata": {},
          "execution_count": 20
        }
      ]
    },
    {
      "cell_type": "markdown",
      "metadata": {
        "id": "pI-ZGazIlJUV"
      },
      "source": [
        "# Create a structured array with x and y coordinates covering the [0,1]x[0,1] area\n"
      ]
    },
    {
      "cell_type": "code",
      "metadata": {
        "colab": {
          "base_uri": "https://localhost:8080/"
        },
        "id": "0wy1VlG8XNU8",
        "outputId": "2a9e5265-7b8a-410c-a3f5-21ae9006168e"
      },
      "source": [
        "Z = (X = collect(LinRange(0, 1, 5)), Y = collect(LinRange(0, 1, 5)))"
      ],
      "execution_count": 21,
      "outputs": [
        {
          "output_type": "execute_result",
          "data": {
            "text/plain": [
              "(X = [0.0, 0.25, 0.5, 0.75, 1.0], Y = [0.0, 0.25, 0.5, 0.75, 1.0])"
            ]
          },
          "metadata": {},
          "execution_count": 21
        }
      ]
    },
    {
      "cell_type": "markdown",
      "metadata": {
        "id": "5LnIy3GKlPlW"
      },
      "source": [
        "# Given two arrays, X and Y, construct the Cauchy matrix C (Cᵢⱼ = 1 ÷ (xᵢ - yⱼ))"
      ]
    },
    {
      "cell_type": "code",
      "metadata": {
        "colab": {
          "base_uri": "https://localhost:8080/"
        },
        "id": "GrQnmLgRlN6R",
        "outputId": "4588f5d2-fc87-4e47-95f3-960695e1222d"
      },
      "source": [
        "X = rand(Float32, 10)\n",
        "Y = rand(Float32, 10)"
      ],
      "execution_count": 22,
      "outputs": [
        {
          "output_type": "execute_result",
          "data": {
            "text/plain": [
              "10-element Vector{Float32}:\n",
              " 0.91190946\n",
              " 0.07268238\n",
              " 0.045708776\n",
              " 0.19349325\n",
              " 0.80093217\n",
              " 0.46550834\n",
              " 0.30717564\n",
              " 0.9135554\n",
              " 0.6839801\n",
              " 0.3817637"
            ]
          },
          "metadata": {},
          "execution_count": 22
        }
      ]
    },
    {
      "cell_type": "code",
      "metadata": {
        "colab": {
          "base_uri": "https://localhost:8080/"
        },
        "id": "SFnygdu3lRAT",
        "outputId": "225b1493-4c24-4c8b-a207-76579d717457"
      },
      "source": [
        "f(i, j) = 1 ÷ (i - j)\n",
        "C = (f(x, y) for x in X, y in Y)\n",
        "det(collect(C))"
      ],
      "execution_count": 23,
      "outputs": [
        {
          "output_type": "execute_result",
          "data": {
            "text/plain": [
              "-1.5848783f7"
            ]
          },
          "metadata": {},
          "execution_count": 23
        }
      ]
    },
    {
      "cell_type": "markdown",
      "metadata": {
        "id": "zcas8KYNax5y"
      },
      "source": [
        "# How to find the closest value (to a given scalar) in a vector?"
      ]
    },
    {
      "cell_type": "code",
      "metadata": {
        "id": "BnD5iqn0mdbH",
        "colab": {
          "base_uri": "https://localhost:8080/"
        },
        "outputId": "6886d9f8-e69a-487d-a346-7a17ae485f4b"
      },
      "source": [
        "A = rand(Int8, 10)\n",
        "print(A)\n",
        "findnearest(A, x) = argmin(abs.(A .- x))"
      ],
      "execution_count": 25,
      "outputs": [
        {
          "output_type": "stream",
          "name": "stdout",
          "text": [
            "Int8[-3, 91, 105, 2, -114, 95, 52, 85, 106, 11]"
          ]
        },
        {
          "output_type": "execute_result",
          "data": {
            "text/plain": [
              "findnearest (generic function with 1 method)"
            ]
          },
          "metadata": {},
          "execution_count": 25
        }
      ]
    },
    {
      "cell_type": "code",
      "metadata": {
        "colab": {
          "base_uri": "https://localhost:8080/"
        },
        "id": "5U0BhIvRa2fF",
        "outputId": "d9dafdd8-3e5f-40ba-d98e-ef99fa53d9e1"
      },
      "source": [
        "A[findnearest(A,0)]"
      ],
      "execution_count": 27,
      "outputs": [
        {
          "output_type": "execute_result",
          "data": {
            "text/plain": [
              "2"
            ]
          },
          "metadata": {},
          "execution_count": 27
        }
      ]
    },
    {
      "cell_type": "markdown",
      "metadata": {
        "id": "YwZI_6NhfTa8"
      },
      "source": [
        "# Consider a random vector with shape (100,2) representing coordinates, find point by point distances"
      ]
    },
    {
      "cell_type": "code",
      "metadata": {
        "colab": {
          "base_uri": "https://localhost:8080/"
        },
        "id": "XBdXR6fydmyb",
        "outputId": "f7c9caba-984c-4a8a-edfd-b64d7c849a38"
      },
      "source": [
        "A = rand(Int8, (10, 2))\n",
        "B = rand(Int8, (10, 2))"
      ],
      "execution_count": 40,
      "outputs": [
        {
          "output_type": "execute_result",
          "data": {
            "text/plain": [
              "0.0"
            ]
          },
          "metadata": {},
          "execution_count": 40
        }
      ]
    },
    {
      "cell_type": "code",
      "metadata": {
        "colab": {
          "base_uri": "https://localhost:8080/"
        },
        "id": "elPfUxFSi9U9",
        "outputId": "32d01b93-2e12-463c-ad22-1a53e9fe5a4a"
      },
      "source": [
        "pairwise(Euclidean(), A, B, dims=1)"
      ],
      "execution_count": 42,
      "outputs": [
        {
          "output_type": "execute_result",
          "data": {
            "text/plain": [
              "10×10 Matrix{Float64}:\n",
              "  0.0      0.0       0.0      …  14.8661  0.0       0.0      0.0\n",
              "  0.0     21.2132    0.0          0.0     0.0       0.0      0.0\n",
              "  0.0     17.0      18.4391      17.5499  9.16515  13.0384   8.06226\n",
              " 15.6205  10.8167   10.0         12.1655  0.0       0.0      0.0\n",
              " 11.8743   8.60233   0.0          0.0     0.0       8.544    0.0\n",
              "  0.0     15.2971    9.43398  …   0.0     0.0       0.0      0.0\n",
              "  0.0      8.544     0.0          0.0     0.0       6.48074  0.0\n",
              " 16.2788   0.0      13.3041       5.0     7.0       0.0      0.0\n",
              " 18.1108   0.0       0.0          0.0     0.0       5.83095  0.0\n",
              "  0.0     13.8924    2.82843     10.198   0.0       0.0      0.0"
            ]
          },
          "metadata": {},
          "execution_count": 42
        }
      ]
    },
    {
      "cell_type": "markdown",
      "metadata": {
        "id": "QnptQ4QHqBL5"
      },
      "source": [
        "# How to convert a float (32 bits) array into an integer (32 bits) in place"
      ]
    },
    {
      "cell_type": "code",
      "metadata": {
        "colab": {
          "base_uri": "https://localhost:8080/"
        },
        "id": "TZ3_hs1JmZSd",
        "outputId": "0401244e-adfa-4419-fe45-c1f158622698"
      },
      "source": [
        "A = rand(Float32, 10)\n",
        "trunc.(Int, A)"
      ],
      "execution_count": 43,
      "outputs": [
        {
          "output_type": "execute_result",
          "data": {
            "text/plain": [
              "10-element Vector{Int64}:\n",
              " 0\n",
              " 0\n",
              " 0\n",
              " 0\n",
              " 0\n",
              " 0\n",
              " 0\n",
              " 0\n",
              " 0\n",
              " 0"
            ]
          },
          "metadata": {},
          "execution_count": 43
        }
      ]
    },
    {
      "cell_type": "code",
      "metadata": {
        "id": "0UqRqgzBqB8X"
      },
      "source": [
        ""
      ],
      "execution_count": null,
      "outputs": []
    }
  ]
}