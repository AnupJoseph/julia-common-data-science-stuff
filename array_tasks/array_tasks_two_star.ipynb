{
  "nbformat": 4,
  "nbformat_minor": 0,
  "metadata": {
    "colab": {
      "name": "array_tasks_two_star.ipynb",
      "provenance": [],
      "collapsed_sections": []
    },
    "kernelspec": {
      "display_name": "Julia",
      "language": "julia",
      "name": "julia"
    },
    "language_info": {
      "file_extension": ".jl",
      "mimetype": "application/julia",
      "name": "julia"
    }
  },
  "cells": [
    {
      "cell_type": "markdown",
      "metadata": {
        "id": "f_1dr-2W5iSU"
      },
      "source": [
        "# Getting Started with Julia in Colab/Jupyter\n",
        "You can either run this notebook in Google Colab, or using Jupyter on your own machine."
      ]
    },
    {
      "cell_type": "markdown",
      "metadata": {
        "id": "6ew60wXrZM0W"
      },
      "source": [
        "## Running on Google Colab\n",
        "1. Work on a copy of this notebook: _File_ > _Save a copy in Drive_ (you will need a Google account). Alternatively, you can download the notebook using _File_ > _Download .ipynb_, then upload it to [Colab](https://colab.research.google.com/).\n",
        "2. Execute the following cell (click on it and press Ctrl+Enter) to install Julia, IJulia (the Jupyter kernel for Julia) and other packages. You can update `JULIA_VERSION` and the other parameters, if you know what you're doing. Installation takes 2-3 minutes.\n",
        "3. Reload this page (press Ctrl+R, or ⌘+R, or the F5 key) and continue to the _Checking the Installation_ section.\n",
        "\n",
        "* _Note_: If your Colab Runtime gets reset (e.g., due to inactivity), repeat steps 2 and 3."
      ]
    },
    {
      "cell_type": "code",
      "metadata": {
        "id": "GIeFXS0F0zww",
        "colab": {
          "base_uri": "https://localhost:8080/"
        },
        "outputId": "dccfb894-9600-4161-b563-c50578af0aa3"
      },
      "source": [
        "%%shell\n",
        "set -e\n",
        "\n",
        "#---------------------------------------------------#\n",
        "JULIA_VERSION=\"1.6.0\" # any version ≥ 0.7.0\n",
        "JULIA_PACKAGES=\"IJulia Distances\"\n",
        "JULIA_PACKAGES_IF_GPU=\"CUDA\"\n",
        "JULIA_NUM_THREADS=4\n",
        "#---------------------------------------------------#\n",
        "\n",
        "if [ -n \"$COLAB_GPU\" ] && [ -z `which julia` ]; then\n",
        "  # Install Julia\n",
        "  JULIA_VER=`cut -d '.' -f -2 <<< \"$JULIA_VERSION\"`\n",
        "  echo \"Installing Julia $JULIA_VERSION on the current Colab Runtime...\"\n",
        "  BASE_URL=\"https://julialang-s3.julialang.org/bin/linux/x64\"\n",
        "  URL=\"$BASE_URL/$JULIA_VER/julia-$JULIA_VERSION-linux-x86_64.tar.gz\"\n",
        "  wget -nv $URL -O /tmp/julia.tar.gz # -nv means \"not verbose\"\n",
        "  tar -x -f /tmp/julia.tar.gz -C /usr/local --strip-components 1\n",
        "  rm /tmp/julia.tar.gz\n",
        "\n",
        "  # Install Packages\n",
        "  if [ \"$COLAB_GPU\" = \"1\" ]; then\n",
        "      JULIA_PACKAGES=\"$JULIA_PACKAGES $JULIA_PACKAGES_IF_GPU\"\n",
        "  fi\n",
        "  for PKG in `echo $JULIA_PACKAGES`; do\n",
        "    echo \"Installing Julia package $PKG...\"\n",
        "    julia -e 'using Pkg; pkg\"add '$PKG'; precompile;\"' &> /dev/null\n",
        "  done\n",
        "\n",
        "  # Install kernel and rename it to \"julia\"\n",
        "  echo \"Installing IJulia kernel...\"\n",
        "  julia -e 'using IJulia; IJulia.installkernel(\"julia\", env=Dict(\n",
        "      \"JULIA_NUM_THREADS\"=>\"'\"$JULIA_NUM_THREADS\"'\"))'\n",
        "  KERNEL_DIR=`julia -e \"using IJulia; print(IJulia.kerneldir())\"`\n",
        "  KERNEL_NAME=`ls -d \"$KERNEL_DIR\"/julia*`\n",
        "  mv -f $KERNEL_NAME \"$KERNEL_DIR\"/julia  \n",
        "\n",
        "  echo ''\n",
        "  echo \"Successfully installed `julia -v`!\"\n",
        "  echo \"Please reload this page (press Ctrl+R, ⌘+R, or the F5 key) then\"\n",
        "  echo \"jump to the 'Checking the Installation' section.\"\n",
        "fi"
      ],
      "execution_count": null,
      "outputs": [
        {
          "output_type": "stream",
          "name": "stdout",
          "text": [
            "Installing Julia 1.6.0 on the current Colab Runtime...\n",
            "2021-12-09 12:27:19 URL:https://storage.googleapis.com/julialang2/bin/linux/x64/1.6/julia-1.6.0-linux-x86_64.tar.gz [112838927/112838927] -> \"/tmp/julia.tar.gz\" [1]\n",
            "Installing Julia package IJulia...\n",
            "Installing Julia package Distances...\n",
            "Installing IJulia kernel...\n",
            "\u001b[36m\u001b[1m[ \u001b[22m\u001b[39m\u001b[36m\u001b[1mInfo: \u001b[22m\u001b[39mInstalling julia kernelspec in /root/.local/share/jupyter/kernels/julia-1.6\n",
            "\n",
            "Successfully installed julia version 1.6.0!\n",
            "Please reload this page (press Ctrl+R, ⌘+R, or the F5 key) then\n",
            "jump to the 'Checking the Installation' section.\n"
          ]
        },
        {
          "output_type": "execute_result",
          "data": {
            "text/plain": [
              ""
            ]
          },
          "metadata": {},
          "execution_count": 1
        }
      ]
    },
    {
      "cell_type": "markdown",
      "metadata": {
        "id": "-OS3Ac017T1i"
      },
      "source": [
        "## Checking the Installation\n",
        "The `versioninfo()` function should print your Julia version and some other info about the system (if you ever ask for help or file an issue about Julia, you should always provide this information)."
      ]
    },
    {
      "cell_type": "code",
      "metadata": {
        "id": "EEzvvzCl1i0F",
        "colab": {
          "base_uri": "https://localhost:8080/"
        },
        "outputId": "972dc1da-6757-4179-b1d3-4717d648a696"
      },
      "source": [
        "versioninfo()"
      ],
      "execution_count": 1,
      "outputs": [
        {
          "output_type": "stream",
          "name": "stdout",
          "text": [
            "Julia Version 1.6.0\n",
            "Commit f9720dc2eb (2021-03-24 12:55 UTC)\n",
            "Platform Info:\n",
            "  OS: Linux (x86_64-pc-linux-gnu)\n",
            "  CPU: Intel(R) Xeon(R) CPU @ 2.20GHz\n",
            "  WORD_SIZE: 64\n",
            "  LIBM: libopenlibm\n",
            "  LLVM: libLLVM-11.0.1 (ORCJIT, broadwell)\n",
            "Environment:\n",
            "  JULIA_NUM_THREADS = 4\n"
          ]
        }
      ]
    },
    {
      "cell_type": "markdown",
      "metadata": {
        "id": "02Bzqiz31qfO"
      },
      "source": [
        "# Imports"
      ]
    },
    {
      "cell_type": "code",
      "metadata": {
        "colab": {
          "base_uri": "https://localhost:8080/"
        },
        "id": "8FahWqu2exHc",
        "outputId": "8c03abf9-4b0a-4833-dc3d-c5f93e9217f9"
      },
      "source": [
        "using Pkg\n",
        "Pkg.add(\"Distances\")"
      ],
      "execution_count": null,
      "outputs": [
        {
          "output_type": "stream",
          "name": "stderr",
          "text": [
            "\u001b[32m\u001b[1m    Updating\u001b[22m\u001b[39m registry at `~/.julia/registries/General`\n",
            "\u001b[32m\u001b[1m   Resolving\u001b[22m\u001b[39m package versions...\n",
            "\u001b[32m\u001b[1m  No Changes\u001b[22m\u001b[39m to `~/.julia/environments/v1.6/Project.toml`\n",
            "\u001b[32m\u001b[1m  No Changes\u001b[22m\u001b[39m to `~/.julia/environments/v1.6/Manifest.toml`\n"
          ]
        }
      ]
    },
    {
      "cell_type": "code",
      "metadata": {
        "id": "HHh7DtlP1PX9"
      },
      "source": [
        "using LinearAlgebra\n",
        "using Statistics\n",
        "using Dates\n",
        "using Distances\n",
        "using DelimitedFiles"
      ],
      "execution_count": 2,
      "outputs": []
    },
    {
      "cell_type": "markdown",
      "metadata": {
        "id": "WMCpyA2f1wNj"
      },
      "source": [
        "# How to get all the dates corresponding to the month of July 2016?"
      ]
    },
    {
      "cell_type": "code",
      "metadata": {
        "colab": {
          "base_uri": "https://localhost:8080/"
        },
        "id": "lfd6x4KH1rl2",
        "outputId": "9c7e16fd-b627-4bf9-e5f2-2f046235a06c"
      },
      "source": [
        "dr = Date(\"2016-07-01\"):Day(1):Date(\"2016-07-31\")"
      ],
      "execution_count": null,
      "outputs": [
        {
          "output_type": "execute_result",
          "data": {
            "text/plain": [
              "Date(\"2016-07-01\"):Day(1):Date(\"2016-07-31\")"
            ]
          },
          "metadata": {},
          "execution_count": 4
        }
      ]
    },
    {
      "cell_type": "code",
      "metadata": {
        "colab": {
          "base_uri": "https://localhost:8080/"
        },
        "id": "NApwjCC_1w2J",
        "outputId": "0099cd2a-7620-48a5-db7c-fc668dab4d11"
      },
      "source": [
        "# The above is probably all you need but if if do need to get the dates individually then this works\n",
        "dr = [Date(\"2016-07-01\"):Day(1):Date(\"2016-07-31\");]"
      ],
      "execution_count": null,
      "outputs": [
        {
          "output_type": "execute_result",
          "data": {
            "text/plain": [
              "31-element Vector{Date}:\n",
              " 2016-07-01\n",
              " 2016-07-02\n",
              " 2016-07-03\n",
              " 2016-07-04\n",
              " 2016-07-05\n",
              " 2016-07-06\n",
              " 2016-07-07\n",
              " 2016-07-08\n",
              " 2016-07-09\n",
              " 2016-07-10\n",
              " 2016-07-11\n",
              " 2016-07-12\n",
              " 2016-07-13\n",
              " ⋮\n",
              " 2016-07-20\n",
              " 2016-07-21\n",
              " 2016-07-22\n",
              " 2016-07-23\n",
              " 2016-07-24\n",
              " 2016-07-25\n",
              " 2016-07-26\n",
              " 2016-07-27\n",
              " 2016-07-28\n",
              " 2016-07-29\n",
              " 2016-07-30\n",
              " 2016-07-31"
            ]
          },
          "metadata": {},
          "execution_count": 5
        }
      ]
    },
    {
      "cell_type": "markdown",
      "metadata": {
        "id": "4vcnlp-73Uxc"
      },
      "source": [
        "# How to compute ((A+B)*(-A/2)) in place (without copy)?"
      ]
    },
    {
      "cell_type": "code",
      "metadata": {
        "colab": {
          "base_uri": "https://localhost:8080/"
        },
        "id": "6-zb557Z2A1L",
        "outputId": "33ba9829-9e4a-4997-8d51-e770971a27be"
      },
      "source": [
        "A = ones(3)\n",
        "B = 2ones(3)\n",
        "\n",
        "(A + B) .* (-A / 2)"
      ],
      "execution_count": null,
      "outputs": [
        {
          "output_type": "execute_result",
          "data": {
            "text/plain": [
              "3-element Vector{Float64}:\n",
              " -1.5\n",
              " -1.5\n",
              " -1.5"
            ]
          },
          "metadata": {},
          "execution_count": 6
        }
      ]
    },
    {
      "cell_type": "markdown",
      "metadata": {
        "id": "UMxII1pvE_5E"
      },
      "source": [
        "# Extract the integer part of a random array of positive numbers?"
      ]
    },
    {
      "cell_type": "code",
      "metadata": {
        "colab": {
          "base_uri": "https://localhost:8080/"
        },
        "id": "yHaXTxCL-GWN",
        "outputId": "029ad11d-3731-47e1-e91b-cb3d715e097b"
      },
      "source": [
        "Z = rand(0:0.01:100,20)\n",
        "make_int(x) = trunc(Int,x)\n",
        "make_int.(Z)"
      ],
      "execution_count": null,
      "outputs": [
        {
          "output_type": "execute_result",
          "data": {
            "text/plain": [
              "20-element Vector{Int64}:\n",
              " 31\n",
              "  8\n",
              " 51\n",
              "  2\n",
              " 67\n",
              " 67\n",
              " 96\n",
              " 27\n",
              " 23\n",
              " 55\n",
              " 90\n",
              " 62\n",
              " 80\n",
              " 79\n",
              " 72\n",
              " 96\n",
              "  2\n",
              " 99\n",
              " 81\n",
              " 66"
            ]
          },
          "metadata": {},
          "execution_count": 7
        }
      ]
    },
    {
      "cell_type": "markdown",
      "metadata": {
        "id": "yADSmt52AtUy"
      },
      "source": [
        "# Create a 5x5 matrix with row values ranging from 0 to 4 "
      ]
    },
    {
      "cell_type": "code",
      "metadata": {
        "colab": {
          "base_uri": "https://localhost:8080/"
        },
        "id": "PqYgtQFvAE5q",
        "outputId": "b57e0d81-6d54-416b-caaa-0ef7202cb148"
      },
      "source": [
        "A = fill([0:4;], 5)\n",
        "# This is the solution if you want a array of arrays"
      ],
      "execution_count": null,
      "outputs": [
        {
          "output_type": "execute_result",
          "data": {
            "text/plain": [
              "5-element Vector{Vector{Int64}}:\n",
              " [0, 1, 2, 3, 4]\n",
              " [0, 1, 2, 3, 4]\n",
              " [0, 1, 2, 3, 4]\n",
              " [0, 1, 2, 3, 4]\n",
              " [0, 1, 2, 3, 4]"
            ]
          },
          "metadata": {},
          "execution_count": 8
        }
      ]
    },
    {
      "cell_type": "code",
      "metadata": {
        "colab": {
          "base_uri": "https://localhost:8080/"
        },
        "id": "elPAUI8dC7BU",
        "outputId": "35e35236-3e27-411d-99f3-ce5bda2ca23b"
      },
      "source": [
        "# The solution for this particular problem\n",
        "A = [0 1 2 3 4]\n",
        "repeat(A, 5)"
      ],
      "execution_count": null,
      "outputs": [
        {
          "output_type": "execute_result",
          "data": {
            "text/plain": [
              "5×5 Matrix{Int64}:\n",
              " 0  1  2  3  4\n",
              " 0  1  2  3  4\n",
              " 0  1  2  3  4\n",
              " 0  1  2  3  4\n",
              " 0  1  2  3  4"
            ]
          },
          "metadata": {},
          "execution_count": 9
        }
      ]
    },
    {
      "cell_type": "code",
      "metadata": {
        "colab": {
          "base_uri": "https://localhost:8080/"
        },
        "id": "VQNqtqE8IdWr",
        "outputId": "b805a2c3-574c-470e-c823-33ccf4e845d2"
      },
      "source": [
        "# This is a more generic solution but slightly more involved\n",
        "repeat(reshape([0:4;], 1, :), 5)\n",
        "# Lets break down as so \n",
        "# * [0:4;] creates a vector [0,1,2,3,4], by default Julia makes a column vector\n",
        "# * reshape([0:4;], 1, :) converts to 1x5 row vector from the column vector\n",
        "# * The repeat function basically copies it five times"
      ],
      "execution_count": null,
      "outputs": [
        {
          "output_type": "execute_result",
          "data": {
            "text/plain": [
              "5×5 Matrix{Int64}:\n",
              " 0  1  2  3  4\n",
              " 0  1  2  3  4\n",
              " 0  1  2  3  4\n",
              " 0  1  2  3  4\n",
              " 0  1  2  3  4"
            ]
          },
          "metadata": {},
          "execution_count": 10
        }
      ]
    },
    {
      "cell_type": "markdown",
      "metadata": {
        "id": "BCU-zFIDSVqO"
      },
      "source": [
        "# Create a vector of size 10 with values ranging from 0 to 1, both excluded\n"
      ]
    },
    {
      "cell_type": "code",
      "metadata": {
        "id": "-MJ_ZpasLj5F",
        "colab": {
          "base_uri": "https://localhost:8080/"
        },
        "outputId": "cc67d06e-c9eb-4f13-8da4-437ff88b2dad"
      },
      "source": [
        "Z = [rand(Float64) for i in 1:10]\n",
        "# Most of the time this will work. I don't really see the need to actually exclude 0 as well from this code but if you do, then"
      ],
      "execution_count": null,
      "outputs": [
        {
          "output_type": "execute_result",
          "data": {
            "text/plain": [
              "10-element Vector{Float64}:\n",
              " 0.9478563957814803\n",
              " 0.3681345922908852\n",
              " 0.9466226475652395\n",
              " 0.32830168650621605\n",
              " 0.13552218264472882\n",
              " 0.3725138334370284\n",
              " 0.26594496448031135\n",
              " 0.4846630817427868\n",
              " 0.31655588034825044\n",
              " 0.23482281703174124"
            ]
          },
          "metadata": {},
          "execution_count": 11
        }
      ]
    },
    {
      "cell_type": "code",
      "metadata": {
        "id": "DJr5kaSoSalP",
        "colab": {
          "base_uri": "https://localhost:8080/"
        },
        "outputId": "fd693217-23ab-4295-9ef9-169e015d9051"
      },
      "source": [
        "Z = [prevfloat(1.0) * (1 - rand(Float64)) for i in 1:10]\n",
        "# Again its pretty extremely unlikely you'd actually need it but if you do, then you please read this discussion as well before going in https://discourse.julialang.org/t/how-to-create-a-random-uniform-distribution-between-but-excluding-0-and-10"
      ],
      "execution_count": null,
      "outputs": [
        {
          "output_type": "execute_result",
          "data": {
            "text/plain": [
              "10-element Vector{Float64}:\n",
              " 0.8950004928306984\n",
              " 0.48374977088077004\n",
              " 0.5743165302063554\n",
              " 0.494740148104344\n",
              " 0.766577429100738\n",
              " 0.1264097879765251\n",
              " 0.14311948702355523\n",
              " 0.7060538166200595\n",
              " 0.7366933075979046\n",
              " 0.21902266150031433"
            ]
          },
          "metadata": {},
          "execution_count": 12
        }
      ]
    },
    {
      "cell_type": "markdown",
      "metadata": {
        "id": "gU7AImNpoOvp"
      },
      "source": [
        "# Create a random vector of size 10 and sort it"
      ]
    },
    {
      "cell_type": "code",
      "metadata": {
        "colab": {
          "base_uri": "https://localhost:8080/"
        },
        "id": "K-Jc-2kMnfWY",
        "outputId": "71da3d79-deff-41fd-9b58-095b7b7e7e9c"
      },
      "source": [
        "Z = rand(Int,10)\n",
        "sort!(Z)"
      ],
      "execution_count": null,
      "outputs": [
        {
          "output_type": "execute_result",
          "data": {
            "text/plain": [
              "10-element Vector{Int64}:\n",
              " -9041140746689117840\n",
              " -3093580306631053862\n",
              " -2498274159621103025\n",
              "  -974743244451864736\n",
              "  -838093373416532481\n",
              "  1692886258340319378\n",
              "  3878597274144826153\n",
              "  4423030593399157736\n",
              "  7117114196519941441\n",
              "  8511203450520194029"
            ]
          },
          "metadata": {},
          "execution_count": 13
        }
      ]
    },
    {
      "cell_type": "markdown",
      "metadata": {
        "id": "e-QrIGFlOmKf"
      },
      "source": [
        "# Consider two random array A and B, check if they are equal"
      ]
    },
    {
      "cell_type": "code",
      "metadata": {
        "id": "rtOTla8uoLlF",
        "colab": {
          "base_uri": "https://localhost:8080/"
        },
        "outputId": "cff0ba99-d82a-4741-a63a-1e71a4ed4537"
      },
      "source": [
        "A = rand(1:5, 10)\n",
        "B = rand(1:5, 10)\n",
        "\n",
        "# To check if the arrays are completely equal\n",
        "A == B"
      ],
      "execution_count": null,
      "outputs": [
        {
          "output_type": "execute_result",
          "data": {
            "text/plain": [
              "false"
            ]
          },
          "metadata": {},
          "execution_count": 14
        }
      ]
    },
    {
      "cell_type": "code",
      "metadata": {
        "colab": {
          "base_uri": "https://localhost:8080/"
        },
        "id": "QKMM-m-dPTPX",
        "outputId": "7023927d-fd61-4756-94ed-a859f1c6eb77"
      },
      "source": [
        "A = rand(1:5, 10)\n",
        "B = rand(1:5, 10)\n",
        "A,B"
      ],
      "execution_count": null,
      "outputs": [
        {
          "output_type": "execute_result",
          "data": {
            "text/plain": [
              "([4, 5, 3, 2, 3, 4, 1, 4, 5, 4], [3, 5, 4, 1, 5, 5, 4, 3, 2, 5])"
            ]
          },
          "metadata": {},
          "execution_count": 15
        }
      ]
    },
    {
      "cell_type": "code",
      "metadata": {
        "colab": {
          "base_uri": "https://localhost:8080/"
        },
        "id": "AFHO1zx0OlHh",
        "outputId": "59f137a9-c726-4060-dddd-2244b9aadc95"
      },
      "source": [
        "# To check if the elements in the arrays are equal\n",
        "A .== B"
      ],
      "execution_count": null,
      "outputs": [
        {
          "output_type": "execute_result",
          "data": {
            "text/plain": [
              "10-element BitVector:\n",
              " 0\n",
              " 1\n",
              " 0\n",
              " 0\n",
              " 0\n",
              " 0\n",
              " 0\n",
              " 0\n",
              " 0\n",
              " 0"
            ]
          },
          "metadata": {},
          "execution_count": 16
        }
      ]
    },
    {
      "cell_type": "markdown",
      "metadata": {
        "id": "XxNVlrtfhSRu"
      },
      "source": [
        "# Consider a random 10x2 matrix representing cartesian coordinates, convert them to polar coordinates\n"
      ]
    },
    {
      "cell_type": "code",
      "metadata": {
        "colab": {
          "base_uri": "https://localhost:8080/"
        },
        "id": "hg5xGtBHPP7H",
        "outputId": "b9851e4e-1da3-49f3-a25e-88c49e78ea93"
      },
      "source": [
        "struct cartesian_point\n",
        "    X::Float32\n",
        "    Y::Float32\n",
        "end\n",
        "points = [cartesian_point(rand(-900:0.01:900), rand(-900:0.01:900)) for _ = 1:10]"
      ],
      "execution_count": null,
      "outputs": [
        {
          "output_type": "execute_result",
          "data": {
            "text/plain": [
              "10-element Vector{cartesian_point}:\n",
              " cartesian_point(-825.77f0, -415.34f0)\n",
              " cartesian_point(564.0f0, -786.35f0)\n",
              " cartesian_point(644.91f0, 622.28f0)\n",
              " cartesian_point(637.28f0, -607.35f0)\n",
              " cartesian_point(-884.21f0, 595.98f0)\n",
              " cartesian_point(-344.43f0, -383.8f0)\n",
              " cartesian_point(466.89f0, 142.59f0)\n",
              " cartesian_point(826.8f0, -31.75f0)\n",
              " cartesian_point(503.26f0, 119.27f0)\n",
              " cartesian_point(-164.78f0, 390.93f0)"
            ]
          },
          "metadata": {},
          "execution_count": 17
        }
      ]
    },
    {
      "cell_type": "code",
      "metadata": {
        "colab": {
          "base_uri": "https://localhost:8080/"
        },
        "id": "Z2HWLVtSYsR1",
        "outputId": "4fd19c10-73a2-43aa-fa56-435b2be3fd6f"
      },
      "source": [
        "points = [cartesian_point(rand(), rand()) for _ = 1:10]\n",
        "Xpoints = [point.X for point in points]\n",
        "Ypoints = [point.Y for point in points]"
      ],
      "execution_count": null,
      "outputs": [
        {
          "output_type": "execute_result",
          "data": {
            "text/plain": [
              "10-element Vector{Float32}:\n",
              " 0.8835904\n",
              " 0.6172397\n",
              " 0.2685333\n",
              " 0.28536692\n",
              " 0.19637123\n",
              " 0.75644255\n",
              " 0.25275177\n",
              " 0.2707322\n",
              " 0.3931539\n",
              " 0.3624934"
            ]
          },
          "metadata": {},
          "execution_count": 18
        }
      ]
    },
    {
      "cell_type": "code",
      "metadata": {
        "colab": {
          "base_uri": "https://localhost:8080/"
        },
        "id": "DE_q8QSraZ9o",
        "outputId": "c154e2a1-8448-4f76-b957-612f7925dc57"
      },
      "source": [
        "radians(x, y) = sqrt(x^2 + y^2)\n",
        "theta(x, y) = atan(y, x)"
      ],
      "execution_count": null,
      "outputs": [
        {
          "output_type": "execute_result",
          "data": {
            "text/plain": [
              "theta (generic function with 1 method)"
            ]
          },
          "metadata": {},
          "execution_count": 19
        }
      ]
    },
    {
      "cell_type": "code",
      "metadata": {
        "colab": {
          "base_uri": "https://localhost:8080/"
        },
        "id": "DSfmyKgxacvl",
        "outputId": "644bc6a9-30e9-4d52-b868-4d5b456a4fd7"
      },
      "source": [
        "radians.(Xpoints, Ypoints)\n",
        "theta.(Xpoints, Ypoints)"
      ],
      "execution_count": null,
      "outputs": [
        {
          "output_type": "execute_result",
          "data": {
            "text/plain": [
              "10-element Vector{Float32}:\n",
              " 0.9560654\n",
              " 1.0856395\n",
              " 0.430988\n",
              " 0.5912352\n",
              " 0.35861602\n",
              " 0.7840849\n",
              " 0.9235012\n",
              " 0.32013956\n",
              " 0.9817336\n",
              " 1.5228384"
            ]
          },
          "metadata": {},
          "execution_count": 20
        }
      ]
    },
    {
      "cell_type": "markdown",
      "metadata": {
        "id": "Gj9RK4NNXSZG"
      },
      "source": [
        "# Create random vector of size 10 and replace the maximum value by 0\n"
      ]
    },
    {
      "cell_type": "code",
      "metadata": {
        "id": "qvtpXJ-1bJYN",
        "colab": {
          "base_uri": "https://localhost:8080/"
        },
        "outputId": "d7af7044-edf6-4767-b08a-46beb6687b51"
      },
      "source": [
        "Z = rand(Int8, 10)\n",
        "print(Z)\n",
        "Z[argmax(Z)]"
      ],
      "execution_count": null,
      "outputs": [
        {
          "output_type": "stream",
          "name": "stdout",
          "text": [
            "Int8[14, -90, -126, 37, -114, -48, -101, 74, 115, -92]"
          ]
        },
        {
          "output_type": "execute_result",
          "data": {
            "text/plain": [
              "115"
            ]
          },
          "metadata": {},
          "execution_count": 21
        }
      ]
    },
    {
      "cell_type": "markdown",
      "metadata": {
        "id": "pI-ZGazIlJUV"
      },
      "source": [
        "# Create a structured array with x and y coordinates covering the [0,1]x[0,1] area\n"
      ]
    },
    {
      "cell_type": "code",
      "metadata": {
        "colab": {
          "base_uri": "https://localhost:8080/"
        },
        "id": "0wy1VlG8XNU8",
        "outputId": "b025de47-7b7b-428f-e686-dc1dbcf63753"
      },
      "source": [
        "Z = (X = collect(LinRange(0, 1, 5)), Y = collect(LinRange(0, 1, 5)))"
      ],
      "execution_count": null,
      "outputs": [
        {
          "output_type": "execute_result",
          "data": {
            "text/plain": [
              "(X = [0.0, 0.25, 0.5, 0.75, 1.0], Y = [0.0, 0.25, 0.5, 0.75, 1.0])"
            ]
          },
          "metadata": {},
          "execution_count": 22
        }
      ]
    },
    {
      "cell_type": "markdown",
      "metadata": {
        "id": "5LnIy3GKlPlW"
      },
      "source": [
        "# Given two arrays, X and Y, construct the Cauchy matrix C (Cᵢⱼ = 1 ÷ (xᵢ - yⱼ))"
      ]
    },
    {
      "cell_type": "code",
      "metadata": {
        "colab": {
          "base_uri": "https://localhost:8080/"
        },
        "id": "GrQnmLgRlN6R",
        "outputId": "1c349828-8e1d-49e8-8545-307bdfcf9381"
      },
      "source": [
        "X = rand(Float32, 10)\n",
        "Y = rand(Float32, 10)"
      ],
      "execution_count": null,
      "outputs": [
        {
          "output_type": "execute_result",
          "data": {
            "text/plain": [
              "10-element Vector{Float32}:\n",
              " 0.97117007\n",
              " 0.094693065\n",
              " 0.20137191\n",
              " 0.44516134\n",
              " 0.26422274\n",
              " 0.39019406\n",
              " 0.13884974\n",
              " 0.6820953\n",
              " 0.9912721\n",
              " 0.35667324"
            ]
          },
          "metadata": {},
          "execution_count": 23
        }
      ]
    },
    {
      "cell_type": "code",
      "metadata": {
        "colab": {
          "base_uri": "https://localhost:8080/"
        },
        "id": "SFnygdu3lRAT",
        "outputId": "10f1a9e1-81b3-4a39-f556-6b069595f552"
      },
      "source": [
        "f(i, j) = 1 ÷ (i - j)\n",
        "C = (f(x, y) for x in X, y in Y)\n",
        "det(collect(C))"
      ],
      "execution_count": null,
      "outputs": [
        {
          "output_type": "execute_result",
          "data": {
            "text/plain": [
              "-5.3118444f13"
            ]
          },
          "metadata": {},
          "execution_count": 24
        }
      ]
    },
    {
      "cell_type": "markdown",
      "metadata": {
        "id": "zcas8KYNax5y"
      },
      "source": [
        "# How to find the closest value (to a given scalar) in a vector?"
      ]
    },
    {
      "cell_type": "code",
      "metadata": {
        "id": "BnD5iqn0mdbH",
        "colab": {
          "base_uri": "https://localhost:8080/"
        },
        "outputId": "c5201bfe-d2ce-448e-c679-9402f42bbc98"
      },
      "source": [
        "A = rand(Int8, 10)\n",
        "print(A)\n",
        "findnearest(A, x) = argmin(abs.(A .- x))"
      ],
      "execution_count": null,
      "outputs": [
        {
          "output_type": "stream",
          "name": "stdout",
          "text": [
            "Int8[-20, -111, -119, -112, -26, 36, -63, 84, 101, -46]"
          ]
        },
        {
          "output_type": "execute_result",
          "data": {
            "text/plain": [
              "findnearest (generic function with 1 method)"
            ]
          },
          "metadata": {},
          "execution_count": 25
        }
      ]
    },
    {
      "cell_type": "code",
      "metadata": {
        "colab": {
          "base_uri": "https://localhost:8080/"
        },
        "id": "5U0BhIvRa2fF",
        "outputId": "aa272d0b-baf1-4cbd-85b7-48a9c74b5faa"
      },
      "source": [
        "A[findnearest(A,0)]"
      ],
      "execution_count": null,
      "outputs": [
        {
          "output_type": "execute_result",
          "data": {
            "text/plain": [
              "-20"
            ]
          },
          "metadata": {},
          "execution_count": 26
        }
      ]
    },
    {
      "cell_type": "markdown",
      "metadata": {
        "id": "YwZI_6NhfTa8"
      },
      "source": [
        "# Consider a random vector with shape (100,2) representing coordinates, find point by point distances"
      ]
    },
    {
      "cell_type": "code",
      "metadata": {
        "colab": {
          "base_uri": "https://localhost:8080/"
        },
        "id": "XBdXR6fydmyb",
        "outputId": "1f92adf7-740e-496d-8a9c-42e7d42727d1"
      },
      "source": [
        "A = rand(Int8, (10, 2))\n",
        "B = rand(Int8, (10, 2))"
      ],
      "execution_count": null,
      "outputs": [
        {
          "output_type": "execute_result",
          "data": {
            "text/plain": [
              "10×2 Matrix{Int8}:\n",
              "  -3   -10\n",
              " 107   -31\n",
              "  -4   -69\n",
              " -58   -41\n",
              "  74   -65\n",
              " -43    46\n",
              "  17   -89\n",
              "  83    48\n",
              "  28   -84\n",
              "  25  -127"
            ]
          },
          "metadata": {},
          "execution_count": 27
        }
      ]
    },
    {
      "cell_type": "code",
      "metadata": {
        "colab": {
          "base_uri": "https://localhost:8080/"
        },
        "id": "elPfUxFSi9U9",
        "outputId": "8170b250-2703-4eb9-9023-055fafae43fe"
      },
      "source": [
        "pairwise(Euclidean(), A, B, dims=1)"
      ],
      "execution_count": null,
      "outputs": [
        {
          "output_type": "execute_result",
          "data": {
            "text/plain": [
              "10×10 Matrix{Float64}:\n",
              " 24.2074   0.0       9.16515  4.0       0.0     …   0.0     12.53     25.3969\n",
              "  0.0      0.0       0.0      8.30662   0.0         0.0      0.0       0.0\n",
              " 15.5563   0.0       4.0      0.0       0.0         0.0      0.0      13.1529\n",
              "  0.0      0.0      10.6771   0.0      12.7279      0.0      0.0       0.0\n",
              " 15.7797   0.0       0.0      0.0       0.0         0.0      0.0      20.0\n",
              "  6.48074  0.0       0.0      0.0      12.1655  …  15.2971  14.8661    8.544\n",
              "  0.0      0.0       0.0      9.64365   0.0         0.0      0.0      11.4891\n",
              "  0.0      0.0       9.16515  0.0       0.0         0.0     16.7631   10.6301\n",
              " 10.6301   0.0       0.0      0.0      13.4536     11.1803   0.0       0.0\n",
              "  0.0      6.40312   0.0      0.0      18.3848      0.0      7.54983   0.0"
            ]
          },
          "metadata": {},
          "execution_count": 28
        }
      ]
    },
    {
      "cell_type": "markdown",
      "metadata": {
        "id": "QnptQ4QHqBL5"
      },
      "source": [
        "# How to convert a float (32 bits) array into an integer (32 bits) in place"
      ]
    },
    {
      "cell_type": "code",
      "metadata": {
        "colab": {
          "base_uri": "https://localhost:8080/"
        },
        "id": "TZ3_hs1JmZSd",
        "outputId": "a1697496-9675-45f1-b2f8-07fa5fc2997b"
      },
      "source": [
        "A = rand(Float32, 10)\n",
        "trunc.(Int, A)"
      ],
      "execution_count": null,
      "outputs": [
        {
          "output_type": "execute_result",
          "data": {
            "text/plain": [
              "10-element Vector{Int64}:\n",
              " 0\n",
              " 0\n",
              " 0\n",
              " 0\n",
              " 0\n",
              " 0\n",
              " 0\n",
              " 0\n",
              " 0\n",
              " 0"
            ]
          },
          "metadata": {},
          "execution_count": 29
        }
      ]
    },
    {
      "cell_type": "markdown",
      "source": [
        "# How to read the following file?\n",
        "\"\"\"\n",
        "1, 2, 3, 4, 5\n",
        "6,  ,  , 7, 8\n",
        " ,  , 9,10,11\n",
        "\"\"\"\n",
        "\n",
        "Upload the file here before running"
      ],
      "metadata": {
        "id": "2T6kT_s62-TR"
      }
    },
    {
      "cell_type": "code",
      "source": [
        "data = readdlm(\"num_fle.txt\", ',')\n",
        "data"
      ],
      "metadata": {
        "colab": {
          "base_uri": "https://localhost:8080/"
        },
        "id": "I4aLP2YH3E1y",
        "outputId": "d9585fd5-a1ff-423c-b1ac-00c289281d1c"
      },
      "execution_count": null,
      "outputs": [
        {
          "output_type": "execute_result",
          "data": {
            "text/plain": [
              "3×5 Matrix{Any}:\n",
              " 1     2      3       4   5\n",
              " 6      \"  \"   \"  \"   7   8\n",
              "  \" \"   \"  \"  9      10  11"
            ]
          },
          "metadata": {},
          "execution_count": 36
        }
      ]
    },
    {
      "cell_type": "markdown",
      "source": [
        "# What is the equivalent of enumerate for Julia arrays?"
      ],
      "metadata": {
        "id": "Hv0_Zmw55XoE"
      }
    },
    {
      "cell_type": "code",
      "metadata": {
        "id": "0UqRqgzBqB8X",
        "colab": {
          "base_uri": "https://localhost:8080/"
        },
        "outputId": "a9749cfc-b7ba-4448-c5e7-4253f1a3616b"
      },
      "source": [
        "# Enumerate is just enumerate in Julia\n",
        "Z = [1:9;]\n",
        "squared = [i^2 for (i, num) in enumerate(Z)]"
      ],
      "execution_count": null,
      "outputs": [
        {
          "output_type": "execute_result",
          "data": {
            "text/plain": [
              "9-element Vector{Int64}:\n",
              "  1\n",
              "  4\n",
              "  9\n",
              " 16\n",
              " 25\n",
              " 36\n",
              " 49\n",
              " 64\n",
              " 81"
            ]
          },
          "metadata": {},
          "execution_count": 39
        }
      ]
    },
    {
      "cell_type": "markdown",
      "source": [
        "# Generate a generic 2D Gaussian-like array"
      ],
      "metadata": {
        "id": "cyaGygyC_kcS"
      }
    },
    {
      "cell_type": "code",
      "source": [
        "σ, μ = 1.0, 0.0\n",
        "X, Y = LinRange(-1, 1, 10), LinRange(-1, 1, 10)\n",
        "G(x, y, μ, σ) = exp(-(x - μ) .^ 2 / (2.0 * σ^2) - (y - μ) .^ 2 / (2.0 * σ^2))\n",
        "mat = [G(x, y, μ, σ) for x in X, y in Y]"
      ],
      "metadata": {
        "colab": {
          "base_uri": "https://localhost:8080/"
        },
        "id": "OjONDio15UxP",
        "outputId": "cfa65515-60cf-400b-f4bf-2534164dea76"
      },
      "execution_count": null,
      "outputs": [
        {
          "output_type": "execute_result",
          "data": {
            "text/plain": [
              "10×10 Matrix{Float64}:\n",
              " 0.367879  0.448221  0.519795  0.573753  …  0.519795  0.448221  0.367879\n",
              " 0.448221  0.546108  0.633313  0.699056     0.633313  0.546108  0.448221\n",
              " 0.519795  0.633313  0.734444  0.810684     0.734444  0.633313  0.519795\n",
              " 0.573753  0.699056  0.810684  0.894839     0.810684  0.699056  0.573753\n",
              " 0.602798  0.734444  0.851723  0.940138     0.851723  0.734444  0.602798\n",
              " 0.602798  0.734444  0.851723  0.940138  …  0.851723  0.734444  0.602798\n",
              " 0.573753  0.699056  0.810684  0.894839     0.810684  0.699056  0.573753\n",
              " 0.519795  0.633313  0.734444  0.810684     0.734444  0.633313  0.519795\n",
              " 0.448221  0.546108  0.633313  0.699056     0.633313  0.546108  0.448221\n",
              " 0.367879  0.448221  0.519795  0.573753     0.519795  0.448221  0.367879"
            ]
          },
          "metadata": {},
          "execution_count": 44
        }
      ]
    },
    {
      "cell_type": "markdown",
      "source": [
        "# How to randomly place p elements in a 2D array?"
      ],
      "metadata": {
        "id": "ugxCzOLsMjeo"
      }
    },
    {
      "cell_type": "code",
      "source": [
        "n, p = 10, 3\n",
        "Z = zeros(Int8, n, n)\n",
        "Z[rand(1:n*n, p)] .= 1\n",
        "# So this is kind of a hack but I think its okay."
      ],
      "metadata": {
        "id": "6bJfxWpX8xPg",
        "colab": {
          "base_uri": "https://localhost:8080/"
        },
        "outputId": "e1f8a83c-6800-4843-ba26-be1f62c00dca"
      },
      "execution_count": 9,
      "outputs": [
        {
          "output_type": "execute_result",
          "data": {
            "text/plain": [
              "3-element view(::Vector{Int8}, [15, 91, 23]) with eltype Int8:\n",
              " 1\n",
              " 1\n",
              " 1"
            ]
          },
          "metadata": {},
          "execution_count": 9
        }
      ]
    },
    {
      "cell_type": "code",
      "source": [
        "Z"
      ],
      "metadata": {
        "colab": {
          "base_uri": "https://localhost:8080/"
        },
        "id": "T0c9YniCMkFc",
        "outputId": "8be6bbb0-670b-43d9-9673-357726c55857"
      },
      "execution_count": 12,
      "outputs": [
        {
          "output_type": "execute_result",
          "data": {
            "text/plain": [
              "10×10 Matrix{Int8}:\n",
              " 0  0  0  0  0  0  0  0  0  1\n",
              " 0  0  0  0  0  0  0  0  0  0\n",
              " 0  0  1  0  0  0  0  0  0  0\n",
              " 0  0  0  0  0  0  0  0  0  0\n",
              " 0  1  0  0  0  0  0  0  0  0\n",
              " 0  0  0  0  0  0  0  0  0  0\n",
              " 0  0  0  0  0  0  0  0  0  0\n",
              " 0  0  0  0  0  0  0  0  0  0\n",
              " 0  0  0  0  0  0  0  0  0  0\n",
              " 0  0  0  0  0  0  0  0  0  0"
            ]
          },
          "metadata": {},
          "execution_count": 12
        }
      ]
    },
    {
      "cell_type": "markdown",
      "source": [
        "# Subtract the mean of each row of a matrix"
      ],
      "metadata": {
        "id": "OwTnJq1DQ6mI"
      }
    },
    {
      "cell_type": "code",
      "source": [
        "Z = rand(1:100, 10, 10)\n",
        "remove_mean(A) = A .- mean(A)\n",
        "mapslices(remove_mean, Z, dims = 1)"
      ],
      "metadata": {
        "colab": {
          "base_uri": "https://localhost:8080/"
        },
        "id": "juQ1-j4MMmoI",
        "outputId": "d9a8d79d-5d81-449b-b2fb-49016e8741a7"
      },
      "execution_count": 15,
      "outputs": [
        {
          "output_type": "execute_result",
          "data": {
            "text/plain": [
              "10×10 Matrix{Float64}:\n",
              " -24.4    5.2   22.8    2.1   21.3   26.4   36.0    3.4   10.8  -15.6\n",
              "   5.6  -17.8  -38.2   15.1   21.3   19.4   16.0  -12.6   41.8   35.4\n",
              "  14.6   23.2   32.8  -24.9   14.3  -16.6  -26.0   -5.6   -8.2  -22.6\n",
              " -33.4   46.2   -1.2  -25.9   28.3  -16.6  -31.0  -21.6   19.8  -23.6\n",
              "  28.6    8.2    1.8   39.1  -24.7  -39.6    6.0   -8.6  -43.2   23.4\n",
              " -31.4  -19.8  -41.2   12.1  -58.7   30.4   23.0   24.4   44.8    5.4\n",
              "   4.6   40.2  -49.2   32.1  -10.7   -4.6  -36.0   28.4   19.8  -14.6\n",
              "  21.6  -15.8    2.8  -27.9   -4.7  -12.6   -2.0  -36.6  -46.2   28.4\n",
              "  -1.4  -46.8   42.8  -43.9   31.3    9.4    9.0   18.4   -6.2  -46.6\n",
              "  15.6  -22.8   26.8   22.1  -17.7    4.4    5.0   10.4  -33.2   30.4"
            ]
          },
          "metadata": {},
          "execution_count": 15
        }
      ]
    },
    {
      "cell_type": "markdown",
      "source": [
        "# How to sort an array by the nth column?"
      ],
      "metadata": {
        "id": "Jb0m-wvLTCik"
      }
    },
    {
      "cell_type": "code",
      "source": [
        "Z = rand(1:100, 10, 10)\n",
        "nᵗʰ = 3\n",
        "sort(Z, by = Z[:,nᵗʰ],dims=1)"
      ],
      "metadata": {
        "colab": {
          "base_uri": "https://localhost:8080/",
          "height": 408
        },
        "id": "uYzLi43MNpVf",
        "outputId": "07d117bd-4da7-4008-f34c-f3ca3687c677"
      },
      "execution_count": 19,
      "outputs": [
        {
          "output_type": "error",
          "ename": "LoadError",
          "evalue": "ignored",
          "traceback": [
            "MethodError: objects of type Vector{Int64} are not callable\nUse square brackets [] for indexing an Array.",
            "",
            "Stacktrace:",
            " [1] lt(o::Base.Order.By{Vector{Int64}, Base.Order.ForwardOrdering}, a::Int64, b::Int64)",
            "   @ Base.Order ./ordering.jl:111",
            " [2] sort!",
            "   @ ./sort.jl:532 [inlined]",
            " [3] sort!",
            "   @ ./sort.jl:599 [inlined]",
            " [4] sort_chunks!(Av::Vector{Int64}, n::Int64, alg::Base.Sort.QuickSortAlg, order::Base.Order.By{Vector{Int64}, Base.Order.ForwardOrdering})",
            "   @ Base.Sort ./sort.jl:1078",
            " [5] sort(A::Matrix{Int64}; dims::Int64, alg::Base.Sort.QuickSortAlg, lt::Function, by::Vector{Int64}, rev::Nothing, order::Base.Order.ForwardOrdering)",
            "   @ Base.Sort ./sort.jl:1070",
            " [6] top-level scope",
            "   @ In[19]:3",
            " [7] eval",
            "   @ ./boot.jl:360 [inlined]",
            " [8] include_string(mapexpr::typeof(REPL.softscope), mod::Module, code::String, filename::String)",
            "   @ Base ./loading.jl:1094"
          ]
        }
      ]
    },
    {
      "cell_type": "code",
      "source": [
        ""
      ],
      "metadata": {
        "id": "K9XZaZWYTDVc"
      },
      "execution_count": null,
      "outputs": []
    }
  ]
}