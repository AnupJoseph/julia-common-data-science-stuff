{
  "nbformat": 4,
  "nbformat_minor": 0,
  "metadata": {
    "colab": {
      "name": "basic-tasks.ipynb",
      "provenance": [],
      "collapsed_sections": []
    },
    "kernelspec": {
      "display_name": "Julia",
      "language": "julia",
      "name": "julia"
    },
    "language_info": {
      "file_extension": ".jl",
      "mimetype": "application/julia",
      "name": "julia"
    }
  },
  "cells": [
    {
      "cell_type": "markdown",
      "metadata": {
        "id": "f_1dr-2W5iSU"
      },
      "source": [
        "# Getting Started with Julia in Colab/Jupyter\n",
        "You can either run this notebook in Google Colab, or using Jupyter on your own machine."
      ]
    },
    {
      "cell_type": "markdown",
      "metadata": {
        "id": "6ew60wXrZM0W"
      },
      "source": [
        "## Running on Google Colab\n",
        "1. Work on a copy of this notebook: _File_ > _Save a copy in Drive_ (you will need a Google account). Alternatively, you can download the notebook using _File_ > _Download .ipynb_, then upload it to [Colab](https://colab.research.google.com/).\n",
        "2. Execute the following cell (click on it and press Ctrl+Enter) to install Julia, IJulia (the Jupyter kernel for Julia) and other packages. You can update `JULIA_VERSION` and the other parameters, if you know what you're doing. Installation takes 2-3 minutes.\n",
        "3. Reload this page (press Ctrl+R, or ⌘+R, or the F5 key) and continue to the _Checking the Installation_ section.\n",
        "\n",
        "* _Note_: If your Colab Runtime gets reset (e.g., due to inactivity), repeat steps 2 and 3."
      ]
    },
    {
      "cell_type": "code",
      "metadata": {
        "id": "GIeFXS0F0zww",
        "colab": {
          "base_uri": "https://localhost:8080/"
        },
        "outputId": "5bf62c77-6946-41d1-8153-0444f8089e85"
      },
      "source": [
        "%%shell\n",
        "set -e\n",
        "\n",
        "#---------------------------------------------------#\n",
        "JULIA_VERSION=\"1.6.0\" # any version ≥ 0.7.0\n",
        "JULIA_PACKAGES=\"IJulia\"\n",
        "JULIA_PACKAGES_IF_GPU=\"CUDA\"\n",
        "JULIA_NUM_THREADS=4\n",
        "#---------------------------------------------------#\n",
        "\n",
        "if [ -n \"$COLAB_GPU\" ] && [ -z `which julia` ]; then\n",
        "  # Install Julia\n",
        "  JULIA_VER=`cut -d '.' -f -2 <<< \"$JULIA_VERSION\"`\n",
        "  echo \"Installing Julia $JULIA_VERSION on the current Colab Runtime...\"\n",
        "  BASE_URL=\"https://julialang-s3.julialang.org/bin/linux/x64\"\n",
        "  URL=\"$BASE_URL/$JULIA_VER/julia-$JULIA_VERSION-linux-x86_64.tar.gz\"\n",
        "  wget -nv $URL -O /tmp/julia.tar.gz # -nv means \"not verbose\"\n",
        "  tar -x -f /tmp/julia.tar.gz -C /usr/local --strip-components 1\n",
        "  rm /tmp/julia.tar.gz\n",
        "\n",
        "  # Install Packages\n",
        "  if [ \"$COLAB_GPU\" = \"1\" ]; then\n",
        "      JULIA_PACKAGES=\"$JULIA_PACKAGES $JULIA_PACKAGES_IF_GPU\"\n",
        "  fi\n",
        "  for PKG in `echo $JULIA_PACKAGES`; do\n",
        "    echo \"Installing Julia package $PKG...\"\n",
        "    julia -e 'using Pkg; pkg\"add '$PKG'; precompile;\"' &> /dev/null\n",
        "  done\n",
        "\n",
        "  # Install kernel and rename it to \"julia\"\n",
        "  echo \"Installing IJulia kernel...\"\n",
        "  julia -e 'using IJulia; IJulia.installkernel(\"julia\", env=Dict(\n",
        "      \"JULIA_NUM_THREADS\"=>\"'\"$JULIA_NUM_THREADS\"'\"))'\n",
        "  KERNEL_DIR=`julia -e \"using IJulia; print(IJulia.kerneldir())\"`\n",
        "  KERNEL_NAME=`ls -d \"$KERNEL_DIR\"/julia*`\n",
        "  mv -f $KERNEL_NAME \"$KERNEL_DIR\"/julia  \n",
        "\n",
        "  echo ''\n",
        "  echo \"Successfully installed `julia -v`!\"\n",
        "  echo \"Please reload this page (press Ctrl+R, ⌘+R, or the F5 key) then\"\n",
        "  echo \"jump to the 'Checking the Installation' section.\"\n",
        "fi"
      ],
      "execution_count": null,
      "outputs": [
        {
          "output_type": "stream",
          "name": "stdout",
          "text": [
            "Installing Julia 1.6.0 on the current Colab Runtime...\n",
            "2021-11-24 11:58:33 URL:https://storage.googleapis.com/julialang2/bin/linux/x64/1.6/julia-1.6.0-linux-x86_64.tar.gz [112838927/112838927] -> \"/tmp/julia.tar.gz\" [1]\n",
            "Installing Julia package IJulia...\n",
            "Installing IJulia kernel...\n",
            "\u001b[36m\u001b[1m[ \u001b[22m\u001b[39m\u001b[36m\u001b[1mInfo: \u001b[22m\u001b[39mInstalling julia kernelspec in /root/.local/share/jupyter/kernels/julia-1.6\n",
            "\n",
            "Successfully installed julia version 1.6.0!\n",
            "Please reload this page (press Ctrl+R, ⌘+R, or the F5 key) then\n",
            "jump to the 'Checking the Installation' section.\n"
          ]
        },
        {
          "output_type": "execute_result",
          "data": {
            "text/plain": [
              ""
            ]
          },
          "metadata": {},
          "execution_count": 1
        }
      ]
    },
    {
      "cell_type": "markdown",
      "metadata": {
        "id": "-OS3Ac017T1i"
      },
      "source": [
        "## Checking the Installation\n",
        "The `versioninfo()` function should print your Julia version and some other info about the system (if you ever ask for help or file an issue about Julia, you should always provide this information)."
      ]
    },
    {
      "cell_type": "code",
      "metadata": {
        "id": "EEzvvzCl1i0F",
        "colab": {
          "base_uri": "https://localhost:8080/"
        },
        "outputId": "a3e8028c-6a18-4e7e-a697-0d9b2d8ef75e"
      },
      "source": [
        "versioninfo()"
      ],
      "execution_count": 1,
      "outputs": [
        {
          "output_type": "stream",
          "name": "stdout",
          "text": [
            "Julia Version 1.6.0\n",
            "Commit f9720dc2eb (2021-03-24 12:55 UTC)\n",
            "Platform Info:\n",
            "  OS: Linux (x86_64-pc-linux-gnu)\n",
            "  CPU: Intel(R) Xeon(R) CPU @ 2.20GHz\n",
            "  WORD_SIZE: 64\n",
            "  LIBM: libopenlibm\n",
            "  LLVM: libLLVM-11.0.1 (ORCJIT, broadwell)\n",
            "Environment:\n",
            "  JULIA_NUM_THREADS = 4\n"
          ]
        }
      ]
    },
    {
      "cell_type": "markdown",
      "metadata": {
        "id": "YNUbXSrbrFH6"
      },
      "source": [
        "# Create a null vector of size 10"
      ]
    },
    {
      "cell_type": "code",
      "metadata": {
        "colab": {
          "base_uri": "https://localhost:8080/"
        },
        "id": "ktUgYaE9q7rr",
        "outputId": "ae3491e5-3080-4b0b-9e73-24a5e27a55f2"
      },
      "source": [
        "Z = zeros(Int8,10)\n",
        "Z"
      ],
      "execution_count": 2,
      "outputs": [
        {
          "output_type": "execute_result",
          "data": {
            "text/plain": [
              "10-element Vector{Int8}:\n",
              " 0\n",
              " 0\n",
              " 0\n",
              " 0\n",
              " 0\n",
              " 0\n",
              " 0\n",
              " 0\n",
              " 0\n",
              " 0"
            ]
          },
          "metadata": {},
          "execution_count": 2
        }
      ]
    },
    {
      "cell_type": "markdown",
      "metadata": {
        "id": "ckMUoBWCs4ik"
      },
      "source": [
        "# How to find the memory size of any array"
      ]
    },
    {
      "cell_type": "code",
      "metadata": {
        "colab": {
          "base_uri": "https://localhost:8080/"
        },
        "id": "ncra38mTrZav",
        "outputId": "fb9f7e8c-dc7c-4d5d-b46c-0fd7c5ea7d7f"
      },
      "source": [
        "Z = zeros(Int8,10,10)\n",
        "Z"
      ],
      "execution_count": 3,
      "outputs": [
        {
          "output_type": "execute_result",
          "data": {
            "text/plain": [
              "10×10 Matrix{Int8}:\n",
              " 0  0  0  0  0  0  0  0  0  0\n",
              " 0  0  0  0  0  0  0  0  0  0\n",
              " 0  0  0  0  0  0  0  0  0  0\n",
              " 0  0  0  0  0  0  0  0  0  0\n",
              " 0  0  0  0  0  0  0  0  0  0\n",
              " 0  0  0  0  0  0  0  0  0  0\n",
              " 0  0  0  0  0  0  0  0  0  0\n",
              " 0  0  0  0  0  0  0  0  0  0\n",
              " 0  0  0  0  0  0  0  0  0  0\n",
              " 0  0  0  0  0  0  0  0  0  0"
            ]
          },
          "metadata": {},
          "execution_count": 3
        }
      ]
    },
    {
      "cell_type": "code",
      "metadata": {
        "colab": {
          "base_uri": "https://localhost:8080/"
        },
        "id": "-Vd4GK5Qs5qg",
        "outputId": "86a00b05-a9e2-4b29-93fa-5f0c75425f2d"
      },
      "source": [
        "size_bytes(x) = Base.format_bytes(Base.summarysize(x))\n",
        "size_bytes(Z)"
      ],
      "execution_count": 4,
      "outputs": [
        {
          "output_type": "execute_result",
          "data": {
            "text/plain": [
              "\"140 bytes\""
            ]
          },
          "metadata": {},
          "execution_count": 4
        }
      ]
    },
    {
      "cell_type": "markdown",
      "metadata": {
        "id": "MSk9oEiIt0Xa"
      },
      "source": [
        "# How to get the documentation of the numpy add function from the command line?"
      ]
    },
    {
      "cell_type": "code",
      "metadata": {
        "colab": {
          "base_uri": "https://localhost:8080/",
          "height": 317
        },
        "id": "b-FX4GdVtRIY",
        "outputId": "8ee6012f-3417-497a-8d22-5365814b8517"
      },
      "source": [
        "? +"
      ],
      "execution_count": 5,
      "outputs": [
        {
          "output_type": "stream",
          "name": "stdout",
          "text": [
            "search: \u001b[0m\u001b[1m+\u001b[22m\n",
            "\n"
          ]
        },
        {
          "output_type": "execute_result",
          "data": {
            "text/latex": "\\begin{verbatim}\n+(x, y...)\n\\end{verbatim}\nAddition operator. \\texttt{x+y+z+...} calls this function with all arguments, i.e. \\texttt{+(x, y, z, ...)}.\n\n\\section{Examples}\n\\begin{verbatim}\njulia> 1 + 20 + 4\n25\n\njulia> +(1, 20, 4)\n25\n\\end{verbatim}\n\\rule{\\textwidth}{1pt}\n\\begin{verbatim}\ndt::Date + t::Time -> DateTime\n\\end{verbatim}\nThe addition of a \\texttt{Date} with a \\texttt{Time} produces a \\texttt{DateTime}. The hour, minute, second, and millisecond parts of the \\texttt{Time} are used along with the year, month, and day of the \\texttt{Date} to create the new \\texttt{DateTime}. Non-zero microseconds or nanoseconds in the \\texttt{Time} type will result in an \\texttt{InexactError} being thrown.\n\n",
            "text/markdown": "```\n+(x, y...)\n```\n\nAddition operator. `x+y+z+...` calls this function with all arguments, i.e. `+(x, y, z, ...)`.\n\n# Examples\n\n```jldoctest\njulia> 1 + 20 + 4\n25\n\njulia> +(1, 20, 4)\n25\n```\n\n---\n\n```\ndt::Date + t::Time -> DateTime\n```\n\nThe addition of a `Date` with a `Time` produces a `DateTime`. The hour, minute, second, and millisecond parts of the `Time` are used along with the year, month, and day of the `Date` to create the new `DateTime`. Non-zero microseconds or nanoseconds in the `Time` type will result in an `InexactError` being thrown.\n",
            "text/plain": [
              "\u001b[36m  +(x, y...)\u001b[39m\n",
              "\n",
              "  Addition operator. \u001b[36mx+y+z+...\u001b[39m calls this function with all arguments, i.e.\n",
              "  \u001b[36m+(x, y, z, ...)\u001b[39m.\n",
              "\n",
              "\u001b[1m  Examples\u001b[22m\n",
              "\u001b[1m  ≡≡≡≡≡≡≡≡≡≡\u001b[22m\n",
              "\n",
              "\u001b[36m  julia> 1 + 20 + 4\u001b[39m\n",
              "\u001b[36m  25\u001b[39m\n",
              "\u001b[36m  \u001b[39m\n",
              "\u001b[36m  julia> +(1, 20, 4)\u001b[39m\n",
              "\u001b[36m  25\u001b[39m\n",
              "\n",
              "  ────────────────────────────────────────────────────────────────────────────\n",
              "\n",
              "\u001b[36m  dt::Date + t::Time -> DateTime\u001b[39m\n",
              "\n",
              "  The addition of a \u001b[36mDate\u001b[39m with a \u001b[36mTime\u001b[39m produces a \u001b[36mDateTime\u001b[39m. The hour, minute,\n",
              "  second, and millisecond parts of the \u001b[36mTime\u001b[39m are used along with the year,\n",
              "  month, and day of the \u001b[36mDate\u001b[39m to create the new \u001b[36mDateTime\u001b[39m. Non-zero microseconds\n",
              "  or nanoseconds in the \u001b[36mTime\u001b[39m type will result in an \u001b[36mInexactError\u001b[39m being thrown."
            ]
          },
          "metadata": {},
          "execution_count": 5
        }
      ]
    },
    {
      "cell_type": "code",
      "metadata": {
        "colab": {
          "base_uri": "https://localhost:8080/",
          "height": 341
        },
        "id": "20_FEMS_t6j_",
        "outputId": "a4dc7ac8-863c-4f59-d0c0-64ae7a3643f7"
      },
      "source": [
        "? zero"
      ],
      "execution_count": 6,
      "outputs": [
        {
          "output_type": "stream",
          "name": "stdout",
          "text": [
            "search: \u001b[0m\u001b[1mz\u001b[22m\u001b[0m\u001b[1me\u001b[22m\u001b[0m\u001b[1mr\u001b[22m\u001b[0m\u001b[1mo\u001b[22m \u001b[0m\u001b[1mz\u001b[22m\u001b[0m\u001b[1me\u001b[22m\u001b[0m\u001b[1mr\u001b[22m\u001b[0m\u001b[1mo\u001b[22ms is\u001b[0m\u001b[1mz\u001b[22m\u001b[0m\u001b[1me\u001b[22m\u001b[0m\u001b[1mr\u001b[22m\u001b[0m\u001b[1mo\u001b[22m set_\u001b[0m\u001b[1mz\u001b[22m\u001b[0m\u001b[1me\u001b[22m\u001b[0m\u001b[1mr\u001b[22m\u001b[0m\u001b[1mo\u001b[22m_subnormals get_\u001b[0m\u001b[1mz\u001b[22m\u001b[0m\u001b[1me\u001b[22m\u001b[0m\u001b[1mr\u001b[22m\u001b[0m\u001b[1mo\u001b[22m_subnormals count_\u001b[0m\u001b[1mz\u001b[22m\u001b[0m\u001b[1me\u001b[22m\u001b[0m\u001b[1mr\u001b[22m\u001b[0m\u001b[1mo\u001b[22ms\n",
            "\n"
          ]
        },
        {
          "output_type": "execute_result",
          "data": {
            "text/latex": "\\begin{verbatim}\nzero(x)\nzero(::Type)\n\\end{verbatim}\nGet the additive identity element for the type of \\texttt{x} (\\texttt{x} can also specify the type itself).\n\n\\section{Examples}\n\\begin{verbatim}\njulia> zero(1)\n0\n\njulia> zero(big\"2.0\")\n0.0\n\njulia> zero(rand(2,2))\n2×2 Matrix{Float64}:\n 0.0  0.0\n 0.0  0.0\n\\end{verbatim}\n",
            "text/markdown": "```\nzero(x)\nzero(::Type)\n```\n\nGet the additive identity element for the type of `x` (`x` can also specify the type itself).\n\n# Examples\n\n```jldoctest\njulia> zero(1)\n0\n\njulia> zero(big\"2.0\")\n0.0\n\njulia> zero(rand(2,2))\n2×2 Matrix{Float64}:\n 0.0  0.0\n 0.0  0.0\n```\n",
            "text/plain": [
              "\u001b[36m  zero(x)\u001b[39m\n",
              "\u001b[36m  zero(::Type)\u001b[39m\n",
              "\n",
              "  Get the additive identity element for the type of \u001b[36mx\u001b[39m (\u001b[36mx\u001b[39m can also specify the\n",
              "  type itself).\n",
              "\n",
              "\u001b[1m  Examples\u001b[22m\n",
              "\u001b[1m  ≡≡≡≡≡≡≡≡≡≡\u001b[22m\n",
              "\n",
              "\u001b[36m  julia> zero(1)\u001b[39m\n",
              "\u001b[36m  0\u001b[39m\n",
              "\u001b[36m  \u001b[39m\n",
              "\u001b[36m  julia> zero(big\"2.0\")\u001b[39m\n",
              "\u001b[36m  0.0\u001b[39m\n",
              "\u001b[36m  \u001b[39m\n",
              "\u001b[36m  julia> zero(rand(2,2))\u001b[39m\n",
              "\u001b[36m  2×2 Matrix{Float64}:\u001b[39m\n",
              "\u001b[36m   0.0  0.0\u001b[39m\n",
              "\u001b[36m   0.0  0.0\u001b[39m"
            ]
          },
          "metadata": {},
          "execution_count": 6
        }
      ]
    },
    {
      "cell_type": "markdown",
      "metadata": {
        "id": "tqV6MXJGuhlt"
      },
      "source": [
        "# Create a null vector of size 10 but the fifth value which is 1"
      ]
    },
    {
      "cell_type": "code",
      "metadata": {
        "colab": {
          "base_uri": "https://localhost:8080/"
        },
        "id": "qBR39lGQtsiA",
        "outputId": "fb516284-c2f7-415d-b414-81b6dd7b4f71"
      },
      "source": [
        "Z = zeros(Int8,10)\n",
        "Z[5] = 1\n",
        "Z"
      ],
      "execution_count": 7,
      "outputs": [
        {
          "output_type": "execute_result",
          "data": {
            "text/plain": [
              "10-element Vector{Int8}:\n",
              " 0\n",
              " 0\n",
              " 0\n",
              " 0\n",
              " 1\n",
              " 0\n",
              " 0\n",
              " 0\n",
              " 0\n",
              " 0"
            ]
          },
          "metadata": {},
          "execution_count": 7
        }
      ]
    },
    {
      "cell_type": "markdown",
      "metadata": {
        "id": "aal97XluvVFr"
      },
      "source": [
        "# Create a vector with values ranging from 10 to 49"
      ]
    },
    {
      "cell_type": "code",
      "metadata": {
        "colab": {
          "base_uri": "https://localhost:8080/"
        },
        "id": "CbgL9Je7uj9y",
        "outputId": "1cd20ee4-6f76-4426-d1a0-d7cf8333d07f"
      },
      "source": [
        "Z = [10:50]"
      ],
      "execution_count": 8,
      "outputs": [
        {
          "output_type": "execute_result",
          "data": {
            "text/plain": [
              "1-element Vector{UnitRange{Int64}}:\n",
              " 10:50"
            ]
          },
          "metadata": {},
          "execution_count": 8
        }
      ]
    },
    {
      "cell_type": "code",
      "metadata": {
        "id": "GoVilD6MvV2e",
        "colab": {
          "base_uri": "https://localhost:8080/"
        },
        "outputId": "73806e02-27da-40e6-c506-1aa71d4430d8"
      },
      "source": [
        "# If you actually want it as an array for some reason \n",
        "Z = [10:50;]\n",
        "Z"
      ],
      "execution_count": 9,
      "outputs": [
        {
          "output_type": "execute_result",
          "data": {
            "text/plain": [
              "41-element Vector{Int64}:\n",
              " 10\n",
              " 11\n",
              " 12\n",
              " 13\n",
              " 14\n",
              " 15\n",
              " 16\n",
              " 17\n",
              " 18\n",
              " 19\n",
              " 20\n",
              " 21\n",
              " 22\n",
              "  ⋮\n",
              " 39\n",
              " 40\n",
              " 41\n",
              " 42\n",
              " 43\n",
              " 44\n",
              " 45\n",
              " 46\n",
              " 47\n",
              " 48\n",
              " 49\n",
              " 50"
            ]
          },
          "metadata": {},
          "execution_count": 9
        }
      ]
    },
    {
      "cell_type": "markdown",
      "metadata": {
        "id": "PR_DkJ_x1ZlZ"
      },
      "source": [
        "# Reverse a vector (first element becomes last)"
      ]
    },
    {
      "cell_type": "code",
      "metadata": {
        "colab": {
          "base_uri": "https://localhost:8080/"
        },
        "id": "Q5DQN6fm1CfK",
        "outputId": "8544fefe-12ec-4d49-91d7-8c4fe32a1297"
      },
      "source": [
        "Z = zeros(Int8,10)\n",
        "Z[1] = 1\n",
        "print(Z)\n",
        "reverse!(Z)\n",
        "Z"
      ],
      "execution_count": 14,
      "outputs": [
        {
          "output_type": "stream",
          "name": "stdout",
          "text": [
            "Int8[1, 0, 0, 0, 0, 0, 0, 0, 0, 0]"
          ]
        },
        {
          "output_type": "execute_result",
          "data": {
            "text/plain": [
              "10-element Vector{Int8}:\n",
              " 0\n",
              " 0\n",
              " 0\n",
              " 0\n",
              " 0\n",
              " 0\n",
              " 0\n",
              " 0\n",
              " 0\n",
              " 1"
            ]
          },
          "metadata": {},
          "execution_count": 14
        }
      ]
    },
    {
      "cell_type": "markdown",
      "metadata": {
        "id": "_ASaMwmO2c-U"
      },
      "source": [
        "# Create a 3x3 matrix with values ranging from 0 to 8\n"
      ]
    },
    {
      "cell_type": "code",
      "metadata": {
        "colab": {
          "base_uri": "https://localhost:8080/"
        },
        "id": "3k0L3Khw1VER",
        "outputId": "ff6e25b6-c699-47d2-cfd8-475fb6a37088"
      },
      "source": [
        "Z = [0:8;]\n",
        "Z = reshape(Z,(3,3))"
      ],
      "execution_count": 15,
      "outputs": [
        {
          "output_type": "execute_result",
          "data": {
            "text/plain": [
              "3×3 Matrix{Int64}:\n",
              " 0  3  6\n",
              " 1  4  7\n",
              " 2  5  8"
            ]
          },
          "metadata": {},
          "execution_count": 15
        }
      ]
    },
    {
      "cell_type": "code",
      "metadata": {
        "colab": {
          "base_uri": "https://localhost:8080/"
        },
        "id": "cEJv-vvW3Tzi",
        "outputId": "b5ec8b67-fd6f-49e6-f7c9-99793348d437"
      },
      "source": [
        "# This is likely a more efficient method\n",
        "Z = reshape(Vector(0:8),(3,3))"
      ],
      "execution_count": 16,
      "outputs": [
        {
          "output_type": "execute_result",
          "data": {
            "text/plain": [
              "3×3 Matrix{Int64}:\n",
              " 0  3  6\n",
              " 1  4  7\n",
              " 2  5  8"
            ]
          },
          "metadata": {},
          "execution_count": 16
        }
      ]
    },
    {
      "cell_type": "markdown",
      "metadata": {
        "id": "Sm6St9E67L_J"
      },
      "source": [
        "# Find indices of non-zero elements from [1,2,0,0,4,0]"
      ]
    },
    {
      "cell_type": "code",
      "metadata": {
        "colab": {
          "base_uri": "https://localhost:8080/"
        },
        "id": "kbOWwBTI2And",
        "outputId": "55dc282e-b128-41a7-b297-e140f73aff17"
      },
      "source": [
        "Z = [1,2,0,0,4,0]\n",
        "print(findall(iszero,Z))\n",
        "Z[findall(iszero,Z)]"
      ],
      "execution_count": 18,
      "outputs": [
        {
          "output_type": "stream",
          "name": "stdout",
          "text": [
            "[3, 4, 6]"
          ]
        },
        {
          "output_type": "execute_result",
          "data": {
            "text/plain": [
              "3-element Vector{Int64}:\n",
              " 0\n",
              " 0\n",
              " 0"
            ]
          },
          "metadata": {},
          "execution_count": 18
        }
      ]
    },
    {
      "cell_type": "markdown",
      "metadata": {
        "id": "kQzMo5b27g-3"
      },
      "source": [
        "\n",
        "# Create a 3x3 identity matrix"
      ]
    },
    {
      "cell_type": "code",
      "metadata": {
        "id": "BzHJBE_C7ORF"
      },
      "source": [
        "using LinearAlgebra"
      ],
      "execution_count": 19,
      "outputs": []
    },
    {
      "cell_type": "code",
      "metadata": {
        "colab": {
          "base_uri": "https://localhost:8080/"
        },
        "id": "HJnjEbRL7yH1",
        "outputId": "42198903-2fc6-45c0-f1ab-c16363e0f203"
      },
      "source": [
        "1.0I\n",
        "\n",
        "# This is a really profound answer to the question involving a deep dive into Julia's philosophy and computing in general \n",
        "# https://stackoverflow.com/a/57270841/14274188 you should probably read this answer before using this particular code."
      ],
      "execution_count": 24,
      "outputs": [
        {
          "output_type": "execute_result",
          "data": {
            "text/plain": [
              "UniformScaling{Float64}\n",
              "1.0*I"
            ]
          },
          "metadata": {},
          "execution_count": 24
        }
      ]
    },
    {
      "cell_type": "code",
      "metadata": {
        "colab": {
          "base_uri": "https://localhost:8080/"
        },
        "id": "9UVjwrQZ4iMK",
        "outputId": "ea58133b-fd9d-4e10-ae90-44f237be4931"
      },
      "source": [
        "Z = Matrix{Int8}(I,3,3)"
      ],
      "execution_count": 21,
      "outputs": [
        {
          "output_type": "execute_result",
          "data": {
            "text/plain": [
              "3×3 Matrix{Int8}:\n",
              " 1  0  0\n",
              " 0  1  0\n",
              " 0  0  1"
            ]
          },
          "metadata": {},
          "execution_count": 21
        }
      ]
    },
    {
      "cell_type": "markdown",
      "metadata": {
        "id": "LubcByao_biM"
      },
      "source": [
        "# Create a 3x3x3 array with random values"
      ]
    },
    {
      "cell_type": "code",
      "metadata": {
        "colab": {
          "base_uri": "https://localhost:8080/"
        },
        "id": "RAdInOyL7bPY",
        "outputId": "8f23caab-bf7d-40f6-f3b2-1066f20b4363"
      },
      "source": [
        "Z = rand(Int,(3,3,3))\n",
        "Z"
      ],
      "execution_count": 25,
      "outputs": [
        {
          "output_type": "execute_result",
          "data": {
            "text/plain": [
              "3×3×3 Array{Int64, 3}:\n",
              "[:, :, 1] =\n",
              "  2025818545162491277  -5004011121947301337     78510478484776030\n",
              " -6986836098498421102  -1927082601144293780  -6230548228136311590\n",
              " -1119470681674100077   1274727972511866118   1376793071672476938\n",
              "\n",
              "[:, :, 2] =\n",
              " 2485290277997527646   2698916363140861372   6481284117334849602\n",
              " 6539159975492403814  -6932536654876002036  -5369097617728840068\n",
              " 9029265133378003206   2013576055005798960   5792702691108009525\n",
              "\n",
              "[:, :, 3] =\n",
              " -1905665437470542490   2043647704604339633  7894209513326539539\n",
              " -9081042175198700342  -8821711965611780600  -762520677764284151\n",
              "  -602323526464656665  -5535305010381233077  1903472580713990027"
            ]
          },
          "metadata": {},
          "execution_count": 25
        }
      ]
    },
    {
      "cell_type": "markdown",
      "metadata": {
        "id": "GET81_nm_9gs"
      },
      "source": [
        "# Create a 10x10 array with random values and find the minimum and maximum values"
      ]
    },
    {
      "cell_type": "code",
      "metadata": {
        "colab": {
          "base_uri": "https://localhost:8080/"
        },
        "id": "18y5VMYc_gYn",
        "outputId": "d5c5d0f8-6443-4a46-8c08-0fd43c71de98"
      },
      "source": [
        "Z = rand(Int,(10,10))"
      ],
      "execution_count": 26,
      "outputs": [
        {
          "output_type": "execute_result",
          "data": {
            "text/plain": [
              "10×10 Matrix{Int64}:\n",
              " -4990422968709066729   8494069964343846394  …    115981381765040620\n",
              "  6839189018105029596   5500788885065196375      6542314436410627193\n",
              "  1754370153137028899  -3394508504459115049     -7133721600978812261\n",
              "  5615605781107970765  -2109525245717529388     -5261698418702985856\n",
              "  6431924159725991864   7332250437803522119     -4898134576404984865\n",
              " -6829416285815620346    204178758579116297  …   7593025634835331158\n",
              " -4757683895678537377   1267903546629301037     -2116264688230408196\n",
              " -7803412813320467779  -4815402684195215086     -2301460803809973263\n",
              "  2324980312156152153  -4603970734305999429      1894553696248987463\n",
              "  -757305464848934221   5474673657578226709      8705440285181533479"
            ]
          },
          "metadata": {},
          "execution_count": 26
        }
      ]
    },
    {
      "cell_type": "code",
      "metadata": {
        "colab": {
          "base_uri": "https://localhost:8080/"
        },
        "id": "YASAiEel_9Gg",
        "outputId": "d518e9b3-46c0-4fca-b836-9fe37b46bb0f"
      },
      "source": [
        "minimum(Z)"
      ],
      "execution_count": 28,
      "outputs": [
        {
          "output_type": "execute_result",
          "data": {
            "text/plain": [
              "-9060217979172525793"
            ]
          },
          "metadata": {},
          "execution_count": 28
        }
      ]
    },
    {
      "cell_type": "code",
      "metadata": {
        "colab": {
          "base_uri": "https://localhost:8080/"
        },
        "id": "PPRQlhRJAEGi",
        "outputId": "bb29f0c1-5c4c-429c-da9f-9db9fa67eed8"
      },
      "source": [
        "maximum(Z)"
      ],
      "execution_count": 29,
      "outputs": [
        {
          "output_type": "execute_result",
          "data": {
            "text/plain": [
              "9145675291967614126"
            ]
          },
          "metadata": {},
          "execution_count": 29
        }
      ]
    },
    {
      "cell_type": "code",
      "metadata": {
        "id": "w7yyzaanAU-y"
      },
      "source": [
        ""
      ],
      "execution_count": null,
      "outputs": []
    }
  ]
}