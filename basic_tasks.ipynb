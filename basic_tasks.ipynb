{
  "nbformat": 4,
  "nbformat_minor": 0,
  "metadata": {
    "colab": {
      "name": "basic-tasks.ipynb",
      "provenance": [],
      "collapsed_sections": []
    },
    "kernelspec": {
      "display_name": "Julia",
      "language": "julia",
      "name": "julia"
    },
    "language_info": {
      "file_extension": ".jl",
      "mimetype": "application/julia",
      "name": "julia"
    }
  },
  "cells": [
    {
      "cell_type": "markdown",
      "metadata": {
        "id": "f_1dr-2W5iSU"
      },
      "source": [
        "# Getting Started with Julia in Colab/Jupyter\n",
        "You can either run this notebook in Google Colab, or using Jupyter on your own machine."
      ]
    },
    {
      "cell_type": "markdown",
      "metadata": {
        "id": "6ew60wXrZM0W"
      },
      "source": [
        "## Running on Google Colab\n",
        "1. Work on a copy of this notebook: _File_ > _Save a copy in Drive_ (you will need a Google account). Alternatively, you can download the notebook using _File_ > _Download .ipynb_, then upload it to [Colab](https://colab.research.google.com/).\n",
        "2. Execute the following cell (click on it and press Ctrl+Enter) to install Julia, IJulia (the Jupyter kernel for Julia) and other packages. You can update `JULIA_VERSION` and the other parameters, if you know what you're doing. Installation takes 2-3 minutes.\n",
        "3. Reload this page (press Ctrl+R, or ⌘+R, or the F5 key) and continue to the _Checking the Installation_ section.\n",
        "\n",
        "* _Note_: If your Colab Runtime gets reset (e.g., due to inactivity), repeat steps 2 and 3."
      ]
    },
    {
      "cell_type": "code",
      "metadata": {
        "id": "GIeFXS0F0zww",
        "colab": {
          "base_uri": "https://localhost:8080/"
        },
        "outputId": "df2fd9aa-2884-49a8-faf8-aa8f32cc7b07"
      },
      "source": [
        "%%shell\n",
        "set -e\n",
        "\n",
        "#---------------------------------------------------#\n",
        "JULIA_VERSION=\"1.6.0\" # any version ≥ 0.7.0\n",
        "JULIA_PACKAGES=\"IJulia\"\n",
        "JULIA_PACKAGES_IF_GPU=\"CUDA\"\n",
        "JULIA_NUM_THREADS=4\n",
        "#---------------------------------------------------#\n",
        "\n",
        "if [ -n \"$COLAB_GPU\" ] && [ -z `which julia` ]; then\n",
        "  # Install Julia\n",
        "  JULIA_VER=`cut -d '.' -f -2 <<< \"$JULIA_VERSION\"`\n",
        "  echo \"Installing Julia $JULIA_VERSION on the current Colab Runtime...\"\n",
        "  BASE_URL=\"https://julialang-s3.julialang.org/bin/linux/x64\"\n",
        "  URL=\"$BASE_URL/$JULIA_VER/julia-$JULIA_VERSION-linux-x86_64.tar.gz\"\n",
        "  wget -nv $URL -O /tmp/julia.tar.gz # -nv means \"not verbose\"\n",
        "  tar -x -f /tmp/julia.tar.gz -C /usr/local --strip-components 1\n",
        "  rm /tmp/julia.tar.gz\n",
        "\n",
        "  # Install Packages\n",
        "  if [ \"$COLAB_GPU\" = \"1\" ]; then\n",
        "      JULIA_PACKAGES=\"$JULIA_PACKAGES $JULIA_PACKAGES_IF_GPU\"\n",
        "  fi\n",
        "  for PKG in `echo $JULIA_PACKAGES`; do\n",
        "    echo \"Installing Julia package $PKG...\"\n",
        "    julia -e 'using Pkg; pkg\"add '$PKG'; precompile;\"' &> /dev/null\n",
        "  done\n",
        "\n",
        "  # Install kernel and rename it to \"julia\"\n",
        "  echo \"Installing IJulia kernel...\"\n",
        "  julia -e 'using IJulia; IJulia.installkernel(\"julia\", env=Dict(\n",
        "      \"JULIA_NUM_THREADS\"=>\"'\"$JULIA_NUM_THREADS\"'\"))'\n",
        "  KERNEL_DIR=`julia -e \"using IJulia; print(IJulia.kerneldir())\"`\n",
        "  KERNEL_NAME=`ls -d \"$KERNEL_DIR\"/julia*`\n",
        "  mv -f $KERNEL_NAME \"$KERNEL_DIR\"/julia  \n",
        "\n",
        "  echo ''\n",
        "  echo \"Successfully installed `julia -v`!\"\n",
        "  echo \"Please reload this page (press Ctrl+R, ⌘+R, or the F5 key) then\"\n",
        "  echo \"jump to the 'Checking the Installation' section.\"\n",
        "fi"
      ],
      "execution_count": null,
      "outputs": [
        {
          "output_type": "stream",
          "name": "stdout",
          "text": [
            "Installing Julia 1.6.0 on the current Colab Runtime...\n",
            "2021-11-25 11:35:28 URL:https://storage.googleapis.com/julialang2/bin/linux/x64/1.6/julia-1.6.0-linux-x86_64.tar.gz [112838927/112838927] -> \"/tmp/julia.tar.gz\" [1]\n",
            "Installing Julia package IJulia...\n",
            "Installing IJulia kernel...\n",
            "\u001b[36m\u001b[1m[ \u001b[22m\u001b[39m\u001b[36m\u001b[1mInfo: \u001b[22m\u001b[39mInstalling julia kernelspec in /root/.local/share/jupyter/kernels/julia-1.6\n",
            "\n",
            "Successfully installed julia version 1.6.0!\n",
            "Please reload this page (press Ctrl+R, ⌘+R, or the F5 key) then\n",
            "jump to the 'Checking the Installation' section.\n"
          ]
        },
        {
          "output_type": "execute_result",
          "data": {
            "text/plain": [
              ""
            ]
          },
          "metadata": {},
          "execution_count": 1
        }
      ]
    },
    {
      "cell_type": "markdown",
      "metadata": {
        "id": "-OS3Ac017T1i"
      },
      "source": [
        "## Checking the Installation\n",
        "The `versioninfo()` function should print your Julia version and some other info about the system (if you ever ask for help or file an issue about Julia, you should always provide this information)."
      ]
    },
    {
      "cell_type": "code",
      "metadata": {
        "id": "EEzvvzCl1i0F",
        "colab": {
          "base_uri": "https://localhost:8080/"
        },
        "outputId": "b4414fda-ab2a-4c59-b314-9a4fcd0d9d7e"
      },
      "source": [
        "versioninfo()"
      ],
      "execution_count": 1,
      "outputs": [
        {
          "output_type": "stream",
          "name": "stdout",
          "text": [
            "Julia Version 1.6.0\n",
            "Commit f9720dc2eb (2021-03-24 12:55 UTC)\n",
            "Platform Info:\n",
            "  OS: Linux (x86_64-pc-linux-gnu)\n",
            "  CPU: Intel(R) Xeon(R) CPU @ 2.20GHz\n",
            "  WORD_SIZE: 64\n",
            "  LIBM: libopenlibm\n",
            "  LLVM: libLLVM-11.0.1 (ORCJIT, broadwell)\n",
            "Environment:\n",
            "  JULIA_NUM_THREADS = 4\n"
          ]
        }
      ]
    },
    {
      "cell_type": "code",
      "metadata": {
        "id": "vjhJb4Yj8Jv4"
      },
      "source": [
        "using Statistics\n",
        "using LinearAlgebra"
      ],
      "execution_count": 23,
      "outputs": []
    },
    {
      "cell_type": "markdown",
      "metadata": {
        "id": "YNUbXSrbrFH6"
      },
      "source": [
        "# Create a null vector of size 10"
      ]
    },
    {
      "cell_type": "code",
      "metadata": {
        "colab": {
          "base_uri": "https://localhost:8080/"
        },
        "id": "ktUgYaE9q7rr",
        "outputId": "bb626864-238d-40be-f660-570d9f410c18"
      },
      "source": [
        "Z = zeros(Int8,10)\n",
        "Z"
      ],
      "execution_count": 2,
      "outputs": [
        {
          "output_type": "execute_result",
          "data": {
            "text/plain": [
              "10-element Vector{Int8}:\n",
              " 0\n",
              " 0\n",
              " 0\n",
              " 0\n",
              " 0\n",
              " 0\n",
              " 0\n",
              " 0\n",
              " 0\n",
              " 0"
            ]
          },
          "metadata": {},
          "execution_count": 2
        }
      ]
    },
    {
      "cell_type": "markdown",
      "metadata": {
        "id": "ckMUoBWCs4ik"
      },
      "source": [
        "# How to find the memory size of any array"
      ]
    },
    {
      "cell_type": "code",
      "metadata": {
        "colab": {
          "base_uri": "https://localhost:8080/"
        },
        "id": "ncra38mTrZav",
        "outputId": "3df05534-da30-41d2-c153-c63101996fac"
      },
      "source": [
        "Z = zeros(Int8,10,10)\n",
        "Z"
      ],
      "execution_count": 3,
      "outputs": [
        {
          "output_type": "execute_result",
          "data": {
            "text/plain": [
              "10×10 Matrix{Int8}:\n",
              " 0  0  0  0  0  0  0  0  0  0\n",
              " 0  0  0  0  0  0  0  0  0  0\n",
              " 0  0  0  0  0  0  0  0  0  0\n",
              " 0  0  0  0  0  0  0  0  0  0\n",
              " 0  0  0  0  0  0  0  0  0  0\n",
              " 0  0  0  0  0  0  0  0  0  0\n",
              " 0  0  0  0  0  0  0  0  0  0\n",
              " 0  0  0  0  0  0  0  0  0  0\n",
              " 0  0  0  0  0  0  0  0  0  0\n",
              " 0  0  0  0  0  0  0  0  0  0"
            ]
          },
          "metadata": {},
          "execution_count": 3
        }
      ]
    },
    {
      "cell_type": "code",
      "metadata": {
        "colab": {
          "base_uri": "https://localhost:8080/"
        },
        "id": "-Vd4GK5Qs5qg",
        "outputId": "769fc083-abc2-49d7-a00c-de1c8534e175"
      },
      "source": [
        "size_bytes(x) = Base.format_bytes(Base.summarysize(x))\n",
        "size_bytes(Z)"
      ],
      "execution_count": 4,
      "outputs": [
        {
          "output_type": "execute_result",
          "data": {
            "text/plain": [
              "\"140 bytes\""
            ]
          },
          "metadata": {},
          "execution_count": 4
        }
      ]
    },
    {
      "cell_type": "markdown",
      "metadata": {
        "id": "MSk9oEiIt0Xa"
      },
      "source": [
        "# How to get the documentation of the numpy add function from the command line?"
      ]
    },
    {
      "cell_type": "code",
      "metadata": {
        "colab": {
          "base_uri": "https://localhost:8080/",
          "height": 317
        },
        "id": "b-FX4GdVtRIY",
        "outputId": "1ff29900-154b-4498-b39d-8910f5c62848"
      },
      "source": [
        "? +"
      ],
      "execution_count": 5,
      "outputs": [
        {
          "output_type": "stream",
          "name": "stdout",
          "text": [
            "search: \u001b[0m\u001b[1m+\u001b[22m\n",
            "\n"
          ]
        },
        {
          "output_type": "execute_result",
          "data": {
            "text/latex": "\\begin{verbatim}\n+(x, y...)\n\\end{verbatim}\nAddition operator. \\texttt{x+y+z+...} calls this function with all arguments, i.e. \\texttt{+(x, y, z, ...)}.\n\n\\section{Examples}\n\\begin{verbatim}\njulia> 1 + 20 + 4\n25\n\njulia> +(1, 20, 4)\n25\n\\end{verbatim}\n\\rule{\\textwidth}{1pt}\n\\begin{verbatim}\ndt::Date + t::Time -> DateTime\n\\end{verbatim}\nThe addition of a \\texttt{Date} with a \\texttt{Time} produces a \\texttt{DateTime}. The hour, minute, second, and millisecond parts of the \\texttt{Time} are used along with the year, month, and day of the \\texttt{Date} to create the new \\texttt{DateTime}. Non-zero microseconds or nanoseconds in the \\texttt{Time} type will result in an \\texttt{InexactError} being thrown.\n\n",
            "text/markdown": "```\n+(x, y...)\n```\n\nAddition operator. `x+y+z+...` calls this function with all arguments, i.e. `+(x, y, z, ...)`.\n\n# Examples\n\n```jldoctest\njulia> 1 + 20 + 4\n25\n\njulia> +(1, 20, 4)\n25\n```\n\n---\n\n```\ndt::Date + t::Time -> DateTime\n```\n\nThe addition of a `Date` with a `Time` produces a `DateTime`. The hour, minute, second, and millisecond parts of the `Time` are used along with the year, month, and day of the `Date` to create the new `DateTime`. Non-zero microseconds or nanoseconds in the `Time` type will result in an `InexactError` being thrown.\n",
            "text/plain": [
              "\u001b[36m  +(x, y...)\u001b[39m\n",
              "\n",
              "  Addition operator. \u001b[36mx+y+z+...\u001b[39m calls this function with all arguments, i.e.\n",
              "  \u001b[36m+(x, y, z, ...)\u001b[39m.\n",
              "\n",
              "\u001b[1m  Examples\u001b[22m\n",
              "\u001b[1m  ≡≡≡≡≡≡≡≡≡≡\u001b[22m\n",
              "\n",
              "\u001b[36m  julia> 1 + 20 + 4\u001b[39m\n",
              "\u001b[36m  25\u001b[39m\n",
              "\u001b[36m  \u001b[39m\n",
              "\u001b[36m  julia> +(1, 20, 4)\u001b[39m\n",
              "\u001b[36m  25\u001b[39m\n",
              "\n",
              "  ────────────────────────────────────────────────────────────────────────────\n",
              "\n",
              "\u001b[36m  dt::Date + t::Time -> DateTime\u001b[39m\n",
              "\n",
              "  The addition of a \u001b[36mDate\u001b[39m with a \u001b[36mTime\u001b[39m produces a \u001b[36mDateTime\u001b[39m. The hour, minute,\n",
              "  second, and millisecond parts of the \u001b[36mTime\u001b[39m are used along with the year,\n",
              "  month, and day of the \u001b[36mDate\u001b[39m to create the new \u001b[36mDateTime\u001b[39m. Non-zero microseconds\n",
              "  or nanoseconds in the \u001b[36mTime\u001b[39m type will result in an \u001b[36mInexactError\u001b[39m being thrown."
            ]
          },
          "metadata": {},
          "execution_count": 5
        }
      ]
    },
    {
      "cell_type": "code",
      "metadata": {
        "colab": {
          "base_uri": "https://localhost:8080/",
          "height": 341
        },
        "id": "20_FEMS_t6j_",
        "outputId": "ffc9f1bf-7833-47a6-9ae3-2f82e2728f76"
      },
      "source": [
        "? zero"
      ],
      "execution_count": 6,
      "outputs": [
        {
          "output_type": "stream",
          "name": "stdout",
          "text": [
            "search: \u001b[0m\u001b[1mz\u001b[22m\u001b[0m\u001b[1me\u001b[22m\u001b[0m\u001b[1mr\u001b[22m\u001b[0m\u001b[1mo\u001b[22m \u001b[0m\u001b[1mz\u001b[22m\u001b[0m\u001b[1me\u001b[22m\u001b[0m\u001b[1mr\u001b[22m\u001b[0m\u001b[1mo\u001b[22ms is\u001b[0m\u001b[1mz\u001b[22m\u001b[0m\u001b[1me\u001b[22m\u001b[0m\u001b[1mr\u001b[22m\u001b[0m\u001b[1mo\u001b[22m set_\u001b[0m\u001b[1mz\u001b[22m\u001b[0m\u001b[1me\u001b[22m\u001b[0m\u001b[1mr\u001b[22m\u001b[0m\u001b[1mo\u001b[22m_subnormals get_\u001b[0m\u001b[1mz\u001b[22m\u001b[0m\u001b[1me\u001b[22m\u001b[0m\u001b[1mr\u001b[22m\u001b[0m\u001b[1mo\u001b[22m_subnormals count_\u001b[0m\u001b[1mz\u001b[22m\u001b[0m\u001b[1me\u001b[22m\u001b[0m\u001b[1mr\u001b[22m\u001b[0m\u001b[1mo\u001b[22ms\n",
            "\n"
          ]
        },
        {
          "output_type": "execute_result",
          "data": {
            "text/latex": "\\begin{verbatim}\nzero(x)\nzero(::Type)\n\\end{verbatim}\nGet the additive identity element for the type of \\texttt{x} (\\texttt{x} can also specify the type itself).\n\n\\section{Examples}\n\\begin{verbatim}\njulia> zero(1)\n0\n\njulia> zero(big\"2.0\")\n0.0\n\njulia> zero(rand(2,2))\n2×2 Matrix{Float64}:\n 0.0  0.0\n 0.0  0.0\n\\end{verbatim}\n",
            "text/markdown": "```\nzero(x)\nzero(::Type)\n```\n\nGet the additive identity element for the type of `x` (`x` can also specify the type itself).\n\n# Examples\n\n```jldoctest\njulia> zero(1)\n0\n\njulia> zero(big\"2.0\")\n0.0\n\njulia> zero(rand(2,2))\n2×2 Matrix{Float64}:\n 0.0  0.0\n 0.0  0.0\n```\n",
            "text/plain": [
              "\u001b[36m  zero(x)\u001b[39m\n",
              "\u001b[36m  zero(::Type)\u001b[39m\n",
              "\n",
              "  Get the additive identity element for the type of \u001b[36mx\u001b[39m (\u001b[36mx\u001b[39m can also specify the\n",
              "  type itself).\n",
              "\n",
              "\u001b[1m  Examples\u001b[22m\n",
              "\u001b[1m  ≡≡≡≡≡≡≡≡≡≡\u001b[22m\n",
              "\n",
              "\u001b[36m  julia> zero(1)\u001b[39m\n",
              "\u001b[36m  0\u001b[39m\n",
              "\u001b[36m  \u001b[39m\n",
              "\u001b[36m  julia> zero(big\"2.0\")\u001b[39m\n",
              "\u001b[36m  0.0\u001b[39m\n",
              "\u001b[36m  \u001b[39m\n",
              "\u001b[36m  julia> zero(rand(2,2))\u001b[39m\n",
              "\u001b[36m  2×2 Matrix{Float64}:\u001b[39m\n",
              "\u001b[36m   0.0  0.0\u001b[39m\n",
              "\u001b[36m   0.0  0.0\u001b[39m"
            ]
          },
          "metadata": {},
          "execution_count": 6
        }
      ]
    },
    {
      "cell_type": "markdown",
      "metadata": {
        "id": "tqV6MXJGuhlt"
      },
      "source": [
        "# Create a null vector of size 10 but the fifth value which is 1"
      ]
    },
    {
      "cell_type": "code",
      "metadata": {
        "colab": {
          "base_uri": "https://localhost:8080/"
        },
        "id": "qBR39lGQtsiA",
        "outputId": "2e8eb085-a457-47ef-a7f4-d8b4a64e43c5"
      },
      "source": [
        "Z = zeros(Int8,10)\n",
        "Z[5] = 1\n",
        "Z"
      ],
      "execution_count": 7,
      "outputs": [
        {
          "output_type": "execute_result",
          "data": {
            "text/plain": [
              "10-element Vector{Int8}:\n",
              " 0\n",
              " 0\n",
              " 0\n",
              " 0\n",
              " 1\n",
              " 0\n",
              " 0\n",
              " 0\n",
              " 0\n",
              " 0"
            ]
          },
          "metadata": {},
          "execution_count": 7
        }
      ]
    },
    {
      "cell_type": "markdown",
      "metadata": {
        "id": "aal97XluvVFr"
      },
      "source": [
        "# Create a vector with values ranging from 10 to 49"
      ]
    },
    {
      "cell_type": "code",
      "metadata": {
        "colab": {
          "base_uri": "https://localhost:8080/"
        },
        "id": "CbgL9Je7uj9y",
        "outputId": "9ef0df27-cf93-4ba5-a992-369254b921f5"
      },
      "source": [
        "Z = [10:50]"
      ],
      "execution_count": 8,
      "outputs": [
        {
          "output_type": "execute_result",
          "data": {
            "text/plain": [
              "1-element Vector{UnitRange{Int64}}:\n",
              " 10:50"
            ]
          },
          "metadata": {},
          "execution_count": 8
        }
      ]
    },
    {
      "cell_type": "code",
      "metadata": {
        "id": "GoVilD6MvV2e",
        "colab": {
          "base_uri": "https://localhost:8080/"
        },
        "outputId": "c1294191-a147-482b-88a7-21741136f7ff"
      },
      "source": [
        "# If you actually want it as an array for some reason \n",
        "Z = [10:50;]\n",
        "Z"
      ],
      "execution_count": 9,
      "outputs": [
        {
          "output_type": "execute_result",
          "data": {
            "text/plain": [
              "41-element Vector{Int64}:\n",
              " 10\n",
              " 11\n",
              " 12\n",
              " 13\n",
              " 14\n",
              " 15\n",
              " 16\n",
              " 17\n",
              " 18\n",
              " 19\n",
              " 20\n",
              " 21\n",
              " 22\n",
              "  ⋮\n",
              " 39\n",
              " 40\n",
              " 41\n",
              " 42\n",
              " 43\n",
              " 44\n",
              " 45\n",
              " 46\n",
              " 47\n",
              " 48\n",
              " 49\n",
              " 50"
            ]
          },
          "metadata": {},
          "execution_count": 9
        }
      ]
    },
    {
      "cell_type": "markdown",
      "metadata": {
        "id": "PR_DkJ_x1ZlZ"
      },
      "source": [
        "# Reverse a vector (first element becomes last)"
      ]
    },
    {
      "cell_type": "code",
      "metadata": {
        "colab": {
          "base_uri": "https://localhost:8080/"
        },
        "id": "Q5DQN6fm1CfK",
        "outputId": "6b918f1a-b69e-4cb9-dc63-77ad2d969f53"
      },
      "source": [
        "Z = zeros(Int8,10)\n",
        "Z[1] = 1\n",
        "print(Z)\n",
        "reverse!(Z)\n",
        "Z"
      ],
      "execution_count": 10,
      "outputs": [
        {
          "output_type": "stream",
          "name": "stdout",
          "text": [
            "Int8[1, 0, 0, 0, 0, 0, 0, 0, 0, 0]"
          ]
        },
        {
          "output_type": "execute_result",
          "data": {
            "text/plain": [
              "10-element Vector{Int8}:\n",
              " 0\n",
              " 0\n",
              " 0\n",
              " 0\n",
              " 0\n",
              " 0\n",
              " 0\n",
              " 0\n",
              " 0\n",
              " 1"
            ]
          },
          "metadata": {},
          "execution_count": 10
        }
      ]
    },
    {
      "cell_type": "markdown",
      "metadata": {
        "id": "_ASaMwmO2c-U"
      },
      "source": [
        "# Create a 3x3 matrix with values ranging from 0 to 8\n"
      ]
    },
    {
      "cell_type": "code",
      "metadata": {
        "colab": {
          "base_uri": "https://localhost:8080/"
        },
        "id": "3k0L3Khw1VER",
        "outputId": "408b2802-2950-4f6e-9bb8-7606277c6aca"
      },
      "source": [
        "Z = [0:8;]\n",
        "Z = reshape(Z,(3,3))"
      ],
      "execution_count": 11,
      "outputs": [
        {
          "output_type": "execute_result",
          "data": {
            "text/plain": [
              "3×3 Matrix{Int64}:\n",
              " 0  3  6\n",
              " 1  4  7\n",
              " 2  5  8"
            ]
          },
          "metadata": {},
          "execution_count": 11
        }
      ]
    },
    {
      "cell_type": "code",
      "metadata": {
        "colab": {
          "base_uri": "https://localhost:8080/"
        },
        "id": "cEJv-vvW3Tzi",
        "outputId": "4b75962e-624a-4011-cd22-ff151fc92637"
      },
      "source": [
        "# This is likely a more efficient method\n",
        "Z = reshape(Vector(0:8),(3,3))"
      ],
      "execution_count": 12,
      "outputs": [
        {
          "output_type": "execute_result",
          "data": {
            "text/plain": [
              "3×3 Matrix{Int64}:\n",
              " 0  3  6\n",
              " 1  4  7\n",
              " 2  5  8"
            ]
          },
          "metadata": {},
          "execution_count": 12
        }
      ]
    },
    {
      "cell_type": "markdown",
      "metadata": {
        "id": "Sm6St9E67L_J"
      },
      "source": [
        "# Find indices of non-zero elements from [1,2,0,0,4,0]"
      ]
    },
    {
      "cell_type": "code",
      "metadata": {
        "colab": {
          "base_uri": "https://localhost:8080/"
        },
        "id": "kbOWwBTI2And",
        "outputId": "77a43d7b-e8c4-4dc1-b671-196fab915cc5"
      },
      "source": [
        "Z = [1,2,0,0,4,0]\n",
        "print(findall(iszero,Z))\n",
        "Z[findall(iszero,Z)]"
      ],
      "execution_count": 13,
      "outputs": [
        {
          "output_type": "stream",
          "name": "stdout",
          "text": [
            "[3, 4, 6]"
          ]
        },
        {
          "output_type": "execute_result",
          "data": {
            "text/plain": [
              "3-element Vector{Int64}:\n",
              " 0\n",
              " 0\n",
              " 0"
            ]
          },
          "metadata": {},
          "execution_count": 13
        }
      ]
    },
    {
      "cell_type": "markdown",
      "metadata": {
        "id": "kQzMo5b27g-3"
      },
      "source": [
        "\n",
        "# Create a 3x3 identity matrix"
      ]
    },
    {
      "cell_type": "code",
      "metadata": {
        "colab": {
          "base_uri": "https://localhost:8080/"
        },
        "id": "HJnjEbRL7yH1",
        "outputId": "6e405c8a-7904-416c-98ac-e26c17cd8def"
      },
      "source": [
        "1.0I\n",
        "\n",
        "# This is a really profound answer to the question involving a deep dive into Julia's philosophy and computing in general \n",
        "# https://stackoverflow.com/a/57270841/14274188 you should probably read this answer before using this particular code."
      ],
      "execution_count": 15,
      "outputs": [
        {
          "output_type": "execute_result",
          "data": {
            "text/plain": [
              "UniformScaling{Float64}\n",
              "1.0*I"
            ]
          },
          "metadata": {},
          "execution_count": 15
        }
      ]
    },
    {
      "cell_type": "code",
      "metadata": {
        "colab": {
          "base_uri": "https://localhost:8080/"
        },
        "id": "9UVjwrQZ4iMK",
        "outputId": "9008dd23-5574-4a20-b830-e43015a493c5"
      },
      "source": [
        "Z = Matrix{Int8}(I,3,3)"
      ],
      "execution_count": 16,
      "outputs": [
        {
          "output_type": "execute_result",
          "data": {
            "text/plain": [
              "3×3 Matrix{Int8}:\n",
              " 1  0  0\n",
              " 0  1  0\n",
              " 0  0  1"
            ]
          },
          "metadata": {},
          "execution_count": 16
        }
      ]
    },
    {
      "cell_type": "markdown",
      "metadata": {
        "id": "LubcByao_biM"
      },
      "source": [
        "# Create a 3x3x3 array with random values"
      ]
    },
    {
      "cell_type": "code",
      "metadata": {
        "colab": {
          "base_uri": "https://localhost:8080/"
        },
        "id": "RAdInOyL7bPY",
        "outputId": "832dadc6-b35f-4204-95ae-7028740db93f"
      },
      "source": [
        "Z = rand(Int,(3,3,3))\n",
        "Z"
      ],
      "execution_count": 17,
      "outputs": [
        {
          "output_type": "execute_result",
          "data": {
            "text/plain": [
              "3×3×3 Array{Int64, 3}:\n",
              "[:, :, 1] =\n",
              "  4649380487668320894  -2067609935911406775  -9052330451448747045\n",
              "  8628971687186939769   -867815689261577562   1840202765238402212\n",
              " -4884528182175607249  -4404521423747731278  -8998852740546798404\n",
              "\n",
              "[:, :, 2] =\n",
              "  8590037858733402229  1321212195272907057  -2478173318768669627\n",
              "   593013185004534170  -245860346644374951  -1987782186870759815\n",
              " -3650865187632392047  3736581548044767584    -82465049361832386\n",
              "\n",
              "[:, :, 3] =\n",
              "  7060433879426830401   6360487648502011630  -1202246491082184836\n",
              " -2589852269349299233  -8760731057040967125   4038173716668623663\n",
              " -8348191426236813985   3542268372806661333   7248309638494795629"
            ]
          },
          "metadata": {},
          "execution_count": 17
        }
      ]
    },
    {
      "cell_type": "markdown",
      "metadata": {
        "id": "GET81_nm_9gs"
      },
      "source": [
        "# Create a 10x10 array with random values and find the minimum and maximum values"
      ]
    },
    {
      "cell_type": "code",
      "metadata": {
        "colab": {
          "base_uri": "https://localhost:8080/"
        },
        "id": "18y5VMYc_gYn",
        "outputId": "d5a4c51e-12ac-42d4-cd51-2a5cc35d7811"
      },
      "source": [
        "Z = rand(Int,(10,10))"
      ],
      "execution_count": 18,
      "outputs": [
        {
          "output_type": "execute_result",
          "data": {
            "text/plain": [
              "10×10 Matrix{Int64}:\n",
              "  6698386989330676646  -5910630967838983425  …   3051058284729132481\n",
              "  3515562006200034419   4900246215548472729      5647151162714783914\n",
              "  4298296650232372604  -9015867304391303047     -7174884628780340071\n",
              "  2507721041720753525   5481647304366426025      7522880679136050118\n",
              " -7444607153175415232   1390221328696253109     -3749349230553727548\n",
              "  2214116093327203255   1144548660292033624  …  -7512426415199545077\n",
              " -8029317399591488123  -6964477807991941775     -3624178711240662728\n",
              " -9160061762521676002     85645186292344738      3778561982328676231\n",
              " -6405483611013440016  -5884717771638824377      2440070257791391101\n",
              " -7958762338775552828   7885801063505875059       573685350737470165"
            ]
          },
          "metadata": {},
          "execution_count": 18
        }
      ]
    },
    {
      "cell_type": "code",
      "metadata": {
        "colab": {
          "base_uri": "https://localhost:8080/"
        },
        "id": "YASAiEel_9Gg",
        "outputId": "209bc512-7f12-4ceb-8ef9-8c213e31946b"
      },
      "source": [
        "minimum(Z)"
      ],
      "execution_count": 19,
      "outputs": [
        {
          "output_type": "execute_result",
          "data": {
            "text/plain": [
              "-9160061762521676002"
            ]
          },
          "metadata": {},
          "execution_count": 19
        }
      ]
    },
    {
      "cell_type": "code",
      "metadata": {
        "colab": {
          "base_uri": "https://localhost:8080/"
        },
        "id": "PPRQlhRJAEGi",
        "outputId": "4ca7b82f-2e9b-474a-f284-0a517d7605e0"
      },
      "source": [
        "maximum(Z)"
      ],
      "execution_count": 20,
      "outputs": [
        {
          "output_type": "execute_result",
          "data": {
            "text/plain": [
              "9149309764848341522"
            ]
          },
          "metadata": {},
          "execution_count": 20
        }
      ]
    },
    {
      "cell_type": "markdown",
      "metadata": {
        "id": "auQoAl7L8SmU"
      },
      "source": [
        "# Create a random vector of size 30 and find the mean value"
      ]
    },
    {
      "cell_type": "code",
      "metadata": {
        "id": "w7yyzaanAU-y",
        "colab": {
          "base_uri": "https://localhost:8080/"
        },
        "outputId": "bae2635c-ac45-43eb-9161-35708e0a1ced"
      },
      "source": [
        "Z = Vector(rand(Int,10))\n",
        "\n",
        "# Kinda basic method\n",
        "sum(Z)/length(Z)"
      ],
      "execution_count": 24,
      "outputs": [
        {
          "output_type": "execute_result",
          "data": {
            "text/plain": [
              "3.608860241905671e17"
            ]
          },
          "metadata": {},
          "execution_count": 24
        }
      ]
    },
    {
      "cell_type": "code",
      "metadata": {
        "colab": {
          "base_uri": "https://localhost:8080/"
        },
        "id": "i4vPIMFT7GX3",
        "outputId": "5e4b03f1-c314-4504-af26-977f8fc3d21c"
      },
      "source": [
        "# This is not a part of the standard library and is instead imported from Statistics, yes not one of the best decisions Julia ever made\n",
        "mean(Z)"
      ],
      "execution_count": 25,
      "outputs": [
        {
          "output_type": "execute_result",
          "data": {
            "text/plain": [
              "3.608860241905672e17"
            ]
          },
          "metadata": {},
          "execution_count": 25
        }
      ]
    },
    {
      "cell_type": "markdown",
      "metadata": {
        "id": "nmdHOcbMDDjY"
      },
      "source": [
        "# Create a 2d array with 1 on the border and 0 inside"
      ]
    },
    {
      "cell_type": "code",
      "metadata": {
        "colab": {
          "base_uri": "https://localhost:8080/"
        },
        "id": "DcCGl1z4_7Dc",
        "outputId": "a974d162-a7bd-4244-bcbc-3b6a4d553eac"
      },
      "source": [
        "Z = ones(10, 10)\n",
        "Z[2:end-1, 2:end-1] .= 0\n",
        "Z\n",
        "# Okay there are a few bits here that we have to address:\n",
        "# Right of the bat Julia uses 1-based indexing as you probably already know\n",
        "# The end keyword represents the end of a dimension in Julia, It provides a more explicit way to specify indexes.\n",
        "# Finally the . operator is used for broadcasting. Julia does not automatically write 0 everywhere if you use just the assignment operator. This can often trip people and instead the . operator provides an explicit broadcasting method"
      ],
      "execution_count": 35,
      "outputs": [
        {
          "output_type": "execute_result",
          "data": {
            "text/plain": [
              "10×10 Matrix{Float64}:\n",
              " 1.0  1.0  1.0  1.0  1.0  1.0  1.0  1.0  1.0  1.0\n",
              " 1.0  0.0  0.0  0.0  0.0  0.0  0.0  0.0  0.0  1.0\n",
              " 1.0  0.0  0.0  0.0  0.0  0.0  0.0  0.0  0.0  1.0\n",
              " 1.0  0.0  0.0  0.0  0.0  0.0  0.0  0.0  0.0  1.0\n",
              " 1.0  0.0  0.0  0.0  0.0  0.0  0.0  0.0  0.0  1.0\n",
              " 1.0  0.0  0.0  0.0  0.0  0.0  0.0  0.0  0.0  1.0\n",
              " 1.0  0.0  0.0  0.0  0.0  0.0  0.0  0.0  0.0  1.0\n",
              " 1.0  0.0  0.0  0.0  0.0  0.0  0.0  0.0  0.0  1.0\n",
              " 1.0  0.0  0.0  0.0  0.0  0.0  0.0  0.0  0.0  1.0\n",
              " 1.0  1.0  1.0  1.0  1.0  1.0  1.0  1.0  1.0  1.0"
            ]
          },
          "metadata": {},
          "execution_count": 35
        }
      ]
    },
    {
      "cell_type": "markdown",
      "metadata": {
        "id": "oX3zV-7PKx-M"
      },
      "source": [
        "# How to add a border (filled with 0's) around an existing array?"
      ]
    },
    {
      "cell_type": "code",
      "metadata": {
        "colab": {
          "base_uri": "https://localhost:8080/"
        },
        "id": "ZAXy_nP9ABuq",
        "outputId": "dcd89aff-4b22-4c64-baea-bbfb247ce7d1"
      },
      "source": [
        "len_mat = 9\n",
        "Z = ones(Int8, len_mat, len_mat)\n",
        "borderZ = zeros(Int8, len_mat + 2, len_mat + 2)\n",
        "borderZ[2:end-1, 2:end-1] = Z\n",
        "borderZ\n",
        "# Ok so this is very much an extremely hacky way to do this but I could find a good way to go about this.\n",
        "# If you are using this in a context of images processing then Image Filtering has a way described here https://discourse.julialang.org/t/is-there-any-padding-function-available-to-pad-a-matrix-or-array/8521/3\n",
        "# PaddedViews.jl might be an option too if you are using this a lot"
      ],
      "execution_count": 41,
      "outputs": [
        {
          "output_type": "execute_result",
          "data": {
            "text/plain": [
              "11×11 Matrix{Int8}:\n",
              " 0  0  0  0  0  0  0  0  0  0  0\n",
              " 0  1  1  1  1  1  1  1  1  1  0\n",
              " 0  1  1  1  1  1  1  1  1  1  0\n",
              " 0  1  1  1  1  1  1  1  1  1  0\n",
              " 0  1  1  1  1  1  1  1  1  1  0\n",
              " 0  1  1  1  1  1  1  1  1  1  0\n",
              " 0  1  1  1  1  1  1  1  1  1  0\n",
              " 0  1  1  1  1  1  1  1  1  1  0\n",
              " 0  1  1  1  1  1  1  1  1  1  0\n",
              " 0  1  1  1  1  1  1  1  1  1  0\n",
              " 0  0  0  0  0  0  0  0  0  0  0"
            ]
          },
          "metadata": {},
          "execution_count": 41
        }
      ]
    },
    {
      "cell_type": "code",
      "metadata": {
        "colab": {
          "base_uri": "https://localhost:8080/"
        },
        "id": "tBfiaXdBHuHI",
        "outputId": "63070c43-bd91-45a5-da10-34d1b3c71695"
      },
      "source": [
        "Z = ones(Int8,9,9)"
      ],
      "execution_count": 39,
      "outputs": [
        {
          "output_type": "execute_result",
          "data": {
            "text/plain": [
              "9×9 Matrix{Int8}:\n",
              " 1  1  1  1  1  1  1  1  1\n",
              " 1  1  1  1  1  1  1  1  1\n",
              " 1  1  1  1  1  1  1  1  1\n",
              " 1  1  1  1  1  1  1  1  1\n",
              " 1  1  1  1  1  1  1  1  1\n",
              " 1  1  1  1  1  1  1  1  1\n",
              " 1  1  1  1  1  1  1  1  1\n",
              " 1  1  1  1  1  1  1  1  1\n",
              " 1  1  1  1  1  1  1  1  1"
            ]
          },
          "metadata": {},
          "execution_count": 39
        }
      ]
    },
    {
      "cell_type": "code",
      "metadata": {
        "id": "QIqrenkVIqxc"
      },
      "source": [
        ""
      ],
      "execution_count": null,
      "outputs": []
    }
  ]
}