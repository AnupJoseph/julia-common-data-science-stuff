{
  "nbformat": 4,
  "nbformat_minor": 0,
  "metadata": {
    "colab": {
      "name": "basic-tasks.ipynb",
      "provenance": [],
      "collapsed_sections": []
    },
    "kernelspec": {
      "display_name": "Julia",
      "language": "julia",
      "name": "julia"
    },
    "language_info": {
      "file_extension": ".jl",
      "mimetype": "application/julia",
      "name": "julia"
    }
  },
  "cells": [
    {
      "cell_type": "markdown",
      "metadata": {
        "id": "f_1dr-2W5iSU"
      },
      "source": [
        "# Getting Started with Julia in Colab/Jupyter\n",
        "You can either run this notebook in Google Colab, or using Jupyter on your own machine."
      ]
    },
    {
      "cell_type": "markdown",
      "metadata": {
        "id": "6ew60wXrZM0W"
      },
      "source": [
        "## Running on Google Colab\n",
        "1. Work on a copy of this notebook: _File_ > _Save a copy in Drive_ (you will need a Google account). Alternatively, you can download the notebook using _File_ > _Download .ipynb_, then upload it to [Colab](https://colab.research.google.com/).\n",
        "2. Execute the following cell (click on it and press Ctrl+Enter) to install Julia, IJulia (the Jupyter kernel for Julia) and other packages. You can update `JULIA_VERSION` and the other parameters, if you know what you're doing. Installation takes 2-3 minutes.\n",
        "3. Reload this page (press Ctrl+R, or ⌘+R, or the F5 key) and continue to the _Checking the Installation_ section.\n",
        "\n",
        "* _Note_: If your Colab Runtime gets reset (e.g., due to inactivity), repeat steps 2 and 3."
      ]
    },
    {
      "cell_type": "code",
      "metadata": {
        "id": "GIeFXS0F0zww",
        "colab": {
          "base_uri": "https://localhost:8080/"
        },
        "outputId": "1730d160-caa7-44b4-f2f2-8fcc7010601c"
      },
      "source": [
        "%%shell\n",
        "set -e\n",
        "\n",
        "#---------------------------------------------------#\n",
        "JULIA_VERSION=\"1.6.0\" # any version ≥ 0.7.0\n",
        "JULIA_PACKAGES=\"IJulia\"\n",
        "JULIA_PACKAGES_IF_GPU=\"CUDA\"\n",
        "JULIA_NUM_THREADS=4\n",
        "#---------------------------------------------------#\n",
        "\n",
        "if [ -n \"$COLAB_GPU\" ] && [ -z `which julia` ]; then\n",
        "  # Install Julia\n",
        "  JULIA_VER=`cut -d '.' -f -2 <<< \"$JULIA_VERSION\"`\n",
        "  echo \"Installing Julia $JULIA_VERSION on the current Colab Runtime...\"\n",
        "  BASE_URL=\"https://julialang-s3.julialang.org/bin/linux/x64\"\n",
        "  URL=\"$BASE_URL/$JULIA_VER/julia-$JULIA_VERSION-linux-x86_64.tar.gz\"\n",
        "  wget -nv $URL -O /tmp/julia.tar.gz # -nv means \"not verbose\"\n",
        "  tar -x -f /tmp/julia.tar.gz -C /usr/local --strip-components 1\n",
        "  rm /tmp/julia.tar.gz\n",
        "\n",
        "  # Install Packages\n",
        "  if [ \"$COLAB_GPU\" = \"1\" ]; then\n",
        "      JULIA_PACKAGES=\"$JULIA_PACKAGES $JULIA_PACKAGES_IF_GPU\"\n",
        "  fi\n",
        "  for PKG in `echo $JULIA_PACKAGES`; do\n",
        "    echo \"Installing Julia package $PKG...\"\n",
        "    julia -e 'using Pkg; pkg\"add '$PKG'; precompile;\"' &> /dev/null\n",
        "  done\n",
        "\n",
        "  # Install kernel and rename it to \"julia\"\n",
        "  echo \"Installing IJulia kernel...\"\n",
        "  julia -e 'using IJulia; IJulia.installkernel(\"julia\", env=Dict(\n",
        "      \"JULIA_NUM_THREADS\"=>\"'\"$JULIA_NUM_THREADS\"'\"))'\n",
        "  KERNEL_DIR=`julia -e \"using IJulia; print(IJulia.kerneldir())\"`\n",
        "  KERNEL_NAME=`ls -d \"$KERNEL_DIR\"/julia*`\n",
        "  mv -f $KERNEL_NAME \"$KERNEL_DIR\"/julia  \n",
        "\n",
        "  echo ''\n",
        "  echo \"Successfully installed `julia -v`!\"\n",
        "  echo \"Please reload this page (press Ctrl+R, ⌘+R, or the F5 key) then\"\n",
        "  echo \"jump to the 'Checking the Installation' section.\"\n",
        "fi"
      ],
      "execution_count": null,
      "outputs": [
        {
          "output_type": "stream",
          "name": "stdout",
          "text": [
            "Installing Julia 1.6.0 on the current Colab Runtime...\n",
            "2021-11-29 11:50:07 URL:https://storage.googleapis.com/julialang2/bin/linux/x64/1.6/julia-1.6.0-linux-x86_64.tar.gz [112838927/112838927] -> \"/tmp/julia.tar.gz\" [1]\n",
            "Installing Julia package IJulia...\n"
          ]
        }
      ]
    },
    {
      "cell_type": "markdown",
      "metadata": {
        "id": "-OS3Ac017T1i"
      },
      "source": [
        "## Checking the Installation\n",
        "The `versioninfo()` function should print your Julia version and some other info about the system (if you ever ask for help or file an issue about Julia, you should always provide this information)."
      ]
    },
    {
      "cell_type": "code",
      "metadata": {
        "id": "EEzvvzCl1i0F",
        "colab": {
          "base_uri": "https://localhost:8080/"
        },
        "outputId": "e0f1bfa5-48d1-4f3e-f4d6-c9aae3162f1e"
      },
      "source": [
        "versioninfo()"
      ],
      "execution_count": 1,
      "outputs": [
        {
          "output_type": "stream",
          "name": "stdout",
          "text": [
            "Julia Version 1.6.0\n",
            "Commit f9720dc2eb (2021-03-24 12:55 UTC)\n",
            "Platform Info:\n",
            "  OS: Linux (x86_64-pc-linux-gnu)\n",
            "  CPU: Intel(R) Xeon(R) CPU @ 2.20GHz\n",
            "  WORD_SIZE: 64\n",
            "  LIBM: libopenlibm\n",
            "  LLVM: libLLVM-11.0.1 (ORCJIT, broadwell)\n",
            "Environment:\n",
            "  JULIA_NUM_THREADS = 4\n"
          ]
        }
      ]
    },
    {
      "cell_type": "code",
      "metadata": {
        "id": "vjhJb4Yj8Jv4"
      },
      "source": [
        "using Statistics\n",
        "using LinearAlgebra"
      ],
      "execution_count": 2,
      "outputs": []
    },
    {
      "cell_type": "markdown",
      "metadata": {
        "id": "YNUbXSrbrFH6"
      },
      "source": [
        "# Create a null vector of size 10"
      ]
    },
    {
      "cell_type": "code",
      "metadata": {
        "colab": {
          "base_uri": "https://localhost:8080/"
        },
        "id": "ktUgYaE9q7rr",
        "outputId": "bd621910-a831-4e3d-86cd-24af4ee3e556"
      },
      "source": [
        "Z = zeros(Int8,10)\n",
        "Z"
      ],
      "execution_count": 3,
      "outputs": [
        {
          "output_type": "execute_result",
          "data": {
            "text/plain": [
              "10-element Vector{Int8}:\n",
              " 0\n",
              " 0\n",
              " 0\n",
              " 0\n",
              " 0\n",
              " 0\n",
              " 0\n",
              " 0\n",
              " 0\n",
              " 0"
            ]
          },
          "metadata": {},
          "execution_count": 3
        }
      ]
    },
    {
      "cell_type": "markdown",
      "metadata": {
        "id": "ckMUoBWCs4ik"
      },
      "source": [
        "# How to find the memory size of any array"
      ]
    },
    {
      "cell_type": "code",
      "metadata": {
        "colab": {
          "base_uri": "https://localhost:8080/"
        },
        "id": "ncra38mTrZav",
        "outputId": "7c1d2975-40d6-418f-b853-c4f50a96b7d9"
      },
      "source": [
        "Z = zeros(Int8,10,10)\n",
        "Z"
      ],
      "execution_count": 4,
      "outputs": [
        {
          "output_type": "execute_result",
          "data": {
            "text/plain": [
              "10×10 Matrix{Int8}:\n",
              " 0  0  0  0  0  0  0  0  0  0\n",
              " 0  0  0  0  0  0  0  0  0  0\n",
              " 0  0  0  0  0  0  0  0  0  0\n",
              " 0  0  0  0  0  0  0  0  0  0\n",
              " 0  0  0  0  0  0  0  0  0  0\n",
              " 0  0  0  0  0  0  0  0  0  0\n",
              " 0  0  0  0  0  0  0  0  0  0\n",
              " 0  0  0  0  0  0  0  0  0  0\n",
              " 0  0  0  0  0  0  0  0  0  0\n",
              " 0  0  0  0  0  0  0  0  0  0"
            ]
          },
          "metadata": {},
          "execution_count": 4
        }
      ]
    },
    {
      "cell_type": "code",
      "metadata": {
        "colab": {
          "base_uri": "https://localhost:8080/"
        },
        "id": "-Vd4GK5Qs5qg",
        "outputId": "7660c913-57ca-45b7-c0b2-345a1ac30b42"
      },
      "source": [
        "size_bytes(x) = Base.format_bytes(Base.summarysize(x))\n",
        "size_bytes(Z)"
      ],
      "execution_count": 5,
      "outputs": [
        {
          "output_type": "execute_result",
          "data": {
            "text/plain": [
              "\"140 bytes\""
            ]
          },
          "metadata": {},
          "execution_count": 5
        }
      ]
    },
    {
      "cell_type": "markdown",
      "metadata": {
        "id": "MSk9oEiIt0Xa"
      },
      "source": [
        "# How to get the documentation of the numpy add function from the command line?"
      ]
    },
    {
      "cell_type": "code",
      "metadata": {
        "colab": {
          "base_uri": "https://localhost:8080/",
          "height": 317
        },
        "id": "b-FX4GdVtRIY",
        "outputId": "4dc7ae2d-5ad3-4fb8-cf8a-016d671e6fc1"
      },
      "source": [
        "? +"
      ],
      "execution_count": 6,
      "outputs": [
        {
          "output_type": "stream",
          "name": "stdout",
          "text": [
            "search: \u001b[0m\u001b[1m+\u001b[22m\n",
            "\n"
          ]
        },
        {
          "output_type": "execute_result",
          "data": {
            "text/latex": "\\begin{verbatim}\n+(x, y...)\n\\end{verbatim}\nAddition operator. \\texttt{x+y+z+...} calls this function with all arguments, i.e. \\texttt{+(x, y, z, ...)}.\n\n\\section{Examples}\n\\begin{verbatim}\njulia> 1 + 20 + 4\n25\n\njulia> +(1, 20, 4)\n25\n\\end{verbatim}\n\\rule{\\textwidth}{1pt}\n\\begin{verbatim}\ndt::Date + t::Time -> DateTime\n\\end{verbatim}\nThe addition of a \\texttt{Date} with a \\texttt{Time} produces a \\texttt{DateTime}. The hour, minute, second, and millisecond parts of the \\texttt{Time} are used along with the year, month, and day of the \\texttt{Date} to create the new \\texttt{DateTime}. Non-zero microseconds or nanoseconds in the \\texttt{Time} type will result in an \\texttt{InexactError} being thrown.\n\n",
            "text/markdown": "```\n+(x, y...)\n```\n\nAddition operator. `x+y+z+...` calls this function with all arguments, i.e. `+(x, y, z, ...)`.\n\n# Examples\n\n```jldoctest\njulia> 1 + 20 + 4\n25\n\njulia> +(1, 20, 4)\n25\n```\n\n---\n\n```\ndt::Date + t::Time -> DateTime\n```\n\nThe addition of a `Date` with a `Time` produces a `DateTime`. The hour, minute, second, and millisecond parts of the `Time` are used along with the year, month, and day of the `Date` to create the new `DateTime`. Non-zero microseconds or nanoseconds in the `Time` type will result in an `InexactError` being thrown.\n",
            "text/plain": [
              "\u001b[36m  +(x, y...)\u001b[39m\n",
              "\n",
              "  Addition operator. \u001b[36mx+y+z+...\u001b[39m calls this function with all arguments, i.e.\n",
              "  \u001b[36m+(x, y, z, ...)\u001b[39m.\n",
              "\n",
              "\u001b[1m  Examples\u001b[22m\n",
              "\u001b[1m  ≡≡≡≡≡≡≡≡≡≡\u001b[22m\n",
              "\n",
              "\u001b[36m  julia> 1 + 20 + 4\u001b[39m\n",
              "\u001b[36m  25\u001b[39m\n",
              "\u001b[36m  \u001b[39m\n",
              "\u001b[36m  julia> +(1, 20, 4)\u001b[39m\n",
              "\u001b[36m  25\u001b[39m\n",
              "\n",
              "  ────────────────────────────────────────────────────────────────────────────\n",
              "\n",
              "\u001b[36m  dt::Date + t::Time -> DateTime\u001b[39m\n",
              "\n",
              "  The addition of a \u001b[36mDate\u001b[39m with a \u001b[36mTime\u001b[39m produces a \u001b[36mDateTime\u001b[39m. The hour, minute,\n",
              "  second, and millisecond parts of the \u001b[36mTime\u001b[39m are used along with the year,\n",
              "  month, and day of the \u001b[36mDate\u001b[39m to create the new \u001b[36mDateTime\u001b[39m. Non-zero microseconds\n",
              "  or nanoseconds in the \u001b[36mTime\u001b[39m type will result in an \u001b[36mInexactError\u001b[39m being thrown."
            ]
          },
          "metadata": {},
          "execution_count": 6
        }
      ]
    },
    {
      "cell_type": "code",
      "metadata": {
        "colab": {
          "base_uri": "https://localhost:8080/",
          "height": 341
        },
        "id": "20_FEMS_t6j_",
        "outputId": "cedabbd1-b364-4e03-a8c7-81eec58ca6f2"
      },
      "source": [
        "? zero"
      ],
      "execution_count": 7,
      "outputs": [
        {
          "output_type": "stream",
          "name": "stdout",
          "text": [
            "search: \u001b[0m\u001b[1mz\u001b[22m\u001b[0m\u001b[1me\u001b[22m\u001b[0m\u001b[1mr\u001b[22m\u001b[0m\u001b[1mo\u001b[22m \u001b[0m\u001b[1mz\u001b[22m\u001b[0m\u001b[1me\u001b[22m\u001b[0m\u001b[1mr\u001b[22m\u001b[0m\u001b[1mo\u001b[22ms \u001b[0m\u001b[1mZ\u001b[22m\u001b[0m\u001b[1me\u001b[22m\u001b[0m\u001b[1mr\u001b[22m\u001b[0m\u001b[1mo\u001b[22mPivotException is\u001b[0m\u001b[1mz\u001b[22m\u001b[0m\u001b[1me\u001b[22m\u001b[0m\u001b[1mr\u001b[22m\u001b[0m\u001b[1mo\u001b[22m set_\u001b[0m\u001b[1mz\u001b[22m\u001b[0m\u001b[1me\u001b[22m\u001b[0m\u001b[1mr\u001b[22m\u001b[0m\u001b[1mo\u001b[22m_subnormals\n",
            "\n"
          ]
        },
        {
          "output_type": "execute_result",
          "data": {
            "text/latex": "\\begin{verbatim}\nzero(x)\nzero(::Type)\n\\end{verbatim}\nGet the additive identity element for the type of \\texttt{x} (\\texttt{x} can also specify the type itself).\n\n\\section{Examples}\n\\begin{verbatim}\njulia> zero(1)\n0\n\njulia> zero(big\"2.0\")\n0.0\n\njulia> zero(rand(2,2))\n2×2 Matrix{Float64}:\n 0.0  0.0\n 0.0  0.0\n\\end{verbatim}\n",
            "text/markdown": "```\nzero(x)\nzero(::Type)\n```\n\nGet the additive identity element for the type of `x` (`x` can also specify the type itself).\n\n# Examples\n\n```jldoctest\njulia> zero(1)\n0\n\njulia> zero(big\"2.0\")\n0.0\n\njulia> zero(rand(2,2))\n2×2 Matrix{Float64}:\n 0.0  0.0\n 0.0  0.0\n```\n",
            "text/plain": [
              "\u001b[36m  zero(x)\u001b[39m\n",
              "\u001b[36m  zero(::Type)\u001b[39m\n",
              "\n",
              "  Get the additive identity element for the type of \u001b[36mx\u001b[39m (\u001b[36mx\u001b[39m can also specify the\n",
              "  type itself).\n",
              "\n",
              "\u001b[1m  Examples\u001b[22m\n",
              "\u001b[1m  ≡≡≡≡≡≡≡≡≡≡\u001b[22m\n",
              "\n",
              "\u001b[36m  julia> zero(1)\u001b[39m\n",
              "\u001b[36m  0\u001b[39m\n",
              "\u001b[36m  \u001b[39m\n",
              "\u001b[36m  julia> zero(big\"2.0\")\u001b[39m\n",
              "\u001b[36m  0.0\u001b[39m\n",
              "\u001b[36m  \u001b[39m\n",
              "\u001b[36m  julia> zero(rand(2,2))\u001b[39m\n",
              "\u001b[36m  2×2 Matrix{Float64}:\u001b[39m\n",
              "\u001b[36m   0.0  0.0\u001b[39m\n",
              "\u001b[36m   0.0  0.0\u001b[39m"
            ]
          },
          "metadata": {},
          "execution_count": 7
        }
      ]
    },
    {
      "cell_type": "markdown",
      "metadata": {
        "id": "tqV6MXJGuhlt"
      },
      "source": [
        "# Create a null vector of size 10 but the fifth value which is 1"
      ]
    },
    {
      "cell_type": "code",
      "metadata": {
        "colab": {
          "base_uri": "https://localhost:8080/"
        },
        "id": "qBR39lGQtsiA",
        "outputId": "d8fc8ad8-b36a-4364-e35c-6707901c0e10"
      },
      "source": [
        "Z = zeros(Int8,10)\n",
        "Z[5] = 1\n",
        "Z"
      ],
      "execution_count": 8,
      "outputs": [
        {
          "output_type": "execute_result",
          "data": {
            "text/plain": [
              "10-element Vector{Int8}:\n",
              " 0\n",
              " 0\n",
              " 0\n",
              " 0\n",
              " 1\n",
              " 0\n",
              " 0\n",
              " 0\n",
              " 0\n",
              " 0"
            ]
          },
          "metadata": {},
          "execution_count": 8
        }
      ]
    },
    {
      "cell_type": "markdown",
      "metadata": {
        "id": "aal97XluvVFr"
      },
      "source": [
        "# Create a vector with values ranging from 10 to 49"
      ]
    },
    {
      "cell_type": "code",
      "metadata": {
        "colab": {
          "base_uri": "https://localhost:8080/"
        },
        "id": "CbgL9Je7uj9y",
        "outputId": "79a4d43f-4b10-423e-f5fd-18747fb9d14b"
      },
      "source": [
        "Z = [10:50]"
      ],
      "execution_count": 9,
      "outputs": [
        {
          "output_type": "execute_result",
          "data": {
            "text/plain": [
              "1-element Vector{UnitRange{Int64}}:\n",
              " 10:50"
            ]
          },
          "metadata": {},
          "execution_count": 9
        }
      ]
    },
    {
      "cell_type": "code",
      "metadata": {
        "id": "GoVilD6MvV2e",
        "colab": {
          "base_uri": "https://localhost:8080/"
        },
        "outputId": "267d5e17-89f2-48a8-81eb-47bcde338865"
      },
      "source": [
        "# If you actually want it as an array for some reason \n",
        "Z = [10:50;]\n",
        "Z"
      ],
      "execution_count": 10,
      "outputs": [
        {
          "output_type": "execute_result",
          "data": {
            "text/plain": [
              "41-element Vector{Int64}:\n",
              " 10\n",
              " 11\n",
              " 12\n",
              " 13\n",
              " 14\n",
              " 15\n",
              " 16\n",
              " 17\n",
              " 18\n",
              " 19\n",
              " 20\n",
              " 21\n",
              " 22\n",
              "  ⋮\n",
              " 39\n",
              " 40\n",
              " 41\n",
              " 42\n",
              " 43\n",
              " 44\n",
              " 45\n",
              " 46\n",
              " 47\n",
              " 48\n",
              " 49\n",
              " 50"
            ]
          },
          "metadata": {},
          "execution_count": 10
        }
      ]
    },
    {
      "cell_type": "markdown",
      "metadata": {
        "id": "PR_DkJ_x1ZlZ"
      },
      "source": [
        "# Reverse a vector (first element becomes last)"
      ]
    },
    {
      "cell_type": "code",
      "metadata": {
        "colab": {
          "base_uri": "https://localhost:8080/"
        },
        "id": "Q5DQN6fm1CfK",
        "outputId": "af070707-8a7d-499f-d872-6f5f2838884b"
      },
      "source": [
        "Z = zeros(Int8,10)\n",
        "Z[1] = 1\n",
        "print(Z)\n",
        "reverse!(Z)\n",
        "Z"
      ],
      "execution_count": 11,
      "outputs": [
        {
          "output_type": "stream",
          "name": "stdout",
          "text": [
            "Int8[1, 0, 0, 0, 0, 0, 0, 0, 0, 0]"
          ]
        },
        {
          "output_type": "execute_result",
          "data": {
            "text/plain": [
              "10-element Vector{Int8}:\n",
              " 0\n",
              " 0\n",
              " 0\n",
              " 0\n",
              " 0\n",
              " 0\n",
              " 0\n",
              " 0\n",
              " 0\n",
              " 1"
            ]
          },
          "metadata": {},
          "execution_count": 11
        }
      ]
    },
    {
      "cell_type": "markdown",
      "metadata": {
        "id": "_ASaMwmO2c-U"
      },
      "source": [
        "# Create a 3x3 matrix with values ranging from 0 to 8\n"
      ]
    },
    {
      "cell_type": "code",
      "metadata": {
        "colab": {
          "base_uri": "https://localhost:8080/"
        },
        "id": "3k0L3Khw1VER",
        "outputId": "616c2e21-067f-44a8-ff06-cfc39e1f5c05"
      },
      "source": [
        "Z = [0:8;]\n",
        "Z = reshape(Z,(3,3))"
      ],
      "execution_count": 12,
      "outputs": [
        {
          "output_type": "execute_result",
          "data": {
            "text/plain": [
              "3×3 Matrix{Int64}:\n",
              " 0  3  6\n",
              " 1  4  7\n",
              " 2  5  8"
            ]
          },
          "metadata": {},
          "execution_count": 12
        }
      ]
    },
    {
      "cell_type": "code",
      "metadata": {
        "colab": {
          "base_uri": "https://localhost:8080/"
        },
        "id": "cEJv-vvW3Tzi",
        "outputId": "758b240a-1577-42ca-b10b-b4517a6a4c6f"
      },
      "source": [
        "# This is likely a more efficient method\n",
        "Z = reshape(Vector(0:8),(3,3))"
      ],
      "execution_count": 13,
      "outputs": [
        {
          "output_type": "execute_result",
          "data": {
            "text/plain": [
              "3×3 Matrix{Int64}:\n",
              " 0  3  6\n",
              " 1  4  7\n",
              " 2  5  8"
            ]
          },
          "metadata": {},
          "execution_count": 13
        }
      ]
    },
    {
      "cell_type": "markdown",
      "metadata": {
        "id": "Sm6St9E67L_J"
      },
      "source": [
        "# Find indices of non-zero elements from [1,2,0,0,4,0]"
      ]
    },
    {
      "cell_type": "code",
      "metadata": {
        "colab": {
          "base_uri": "https://localhost:8080/"
        },
        "id": "kbOWwBTI2And",
        "outputId": "7f29bc3e-f7c2-4e09-8080-b628eb47df95"
      },
      "source": [
        "Z = [1,2,0,0,4,0]\n",
        "print(findall(iszero,Z))\n",
        "Z[findall(iszero,Z)]"
      ],
      "execution_count": 14,
      "outputs": [
        {
          "output_type": "stream",
          "name": "stdout",
          "text": [
            "[3, 4, 6]"
          ]
        },
        {
          "output_type": "execute_result",
          "data": {
            "text/plain": [
              "3-element Vector{Int64}:\n",
              " 0\n",
              " 0\n",
              " 0"
            ]
          },
          "metadata": {},
          "execution_count": 14
        }
      ]
    },
    {
      "cell_type": "markdown",
      "metadata": {
        "id": "kQzMo5b27g-3"
      },
      "source": [
        "\n",
        "# Create a 3x3 identity matrix"
      ]
    },
    {
      "cell_type": "code",
      "metadata": {
        "colab": {
          "base_uri": "https://localhost:8080/"
        },
        "id": "HJnjEbRL7yH1",
        "outputId": "972db169-ad01-4c25-ec27-19889aedbb5f"
      },
      "source": [
        "1.0I\n",
        "\n",
        "# This is a really profound answer to the question involving a deep dive into Julia's philosophy and computing in general \n",
        "# https://stackoverflow.com/a/57270841/14274188 you should probably read this answer before using this particular code."
      ],
      "execution_count": 15,
      "outputs": [
        {
          "output_type": "execute_result",
          "data": {
            "text/plain": [
              "UniformScaling{Float64}\n",
              "1.0*I"
            ]
          },
          "metadata": {},
          "execution_count": 15
        }
      ]
    },
    {
      "cell_type": "code",
      "metadata": {
        "colab": {
          "base_uri": "https://localhost:8080/"
        },
        "id": "9UVjwrQZ4iMK",
        "outputId": "bb39d404-94d2-48be-ac6b-1a3741cc3f49"
      },
      "source": [
        "Z = Matrix{Int8}(I,3,3)"
      ],
      "execution_count": 16,
      "outputs": [
        {
          "output_type": "execute_result",
          "data": {
            "text/plain": [
              "3×3 Matrix{Int8}:\n",
              " 1  0  0\n",
              " 0  1  0\n",
              " 0  0  1"
            ]
          },
          "metadata": {},
          "execution_count": 16
        }
      ]
    },
    {
      "cell_type": "markdown",
      "metadata": {
        "id": "LubcByao_biM"
      },
      "source": [
        "# Create a 3x3x3 array with random values"
      ]
    },
    {
      "cell_type": "code",
      "metadata": {
        "colab": {
          "base_uri": "https://localhost:8080/"
        },
        "id": "RAdInOyL7bPY",
        "outputId": "88db7fa6-08ac-4111-b6a9-fe44fd4c5d49"
      },
      "source": [
        "Z = rand(Int,(3,3,3))\n",
        "Z"
      ],
      "execution_count": 17,
      "outputs": [
        {
          "output_type": "execute_result",
          "data": {
            "text/plain": [
              "3×3×3 Array{Int64, 3}:\n",
              "[:, :, 1] =\n",
              " -8256703737528188950   1394692683640299653  -1189500521292870627\n",
              "  7617712784565729170  -2245526996519471630   2034540011288260978\n",
              "  7219763992562110900  -1101003317557733122   2082529645388415730\n",
              "\n",
              "[:, :, 2] =\n",
              "  3456068601264514747  2440469809693543504   3148999289058691899\n",
              " -6647107438700649538  4287912972608105062  -5971115822647636929\n",
              "    49461717585334702  6023849243641078602   4324241011587377169\n",
              "\n",
              "[:, :, 3] =\n",
              "  7048270689293475682  -9005068027181725867   9132830545355469994\n",
              " -6934732739891674508   8950722776083279824   -460229056516456923\n",
              "  2621127760443490381   4338291894234633671  -6631956438026973628"
            ]
          },
          "metadata": {},
          "execution_count": 17
        }
      ]
    },
    {
      "cell_type": "markdown",
      "metadata": {
        "id": "GET81_nm_9gs"
      },
      "source": [
        "# Create a 10x10 array with random values and find the minimum and maximum values"
      ]
    },
    {
      "cell_type": "code",
      "metadata": {
        "colab": {
          "base_uri": "https://localhost:8080/"
        },
        "id": "18y5VMYc_gYn",
        "outputId": "7eb80499-b51f-4993-ade6-43571198df87"
      },
      "source": [
        "Z = rand(Int,(10,10))"
      ],
      "execution_count": 18,
      "outputs": [
        {
          "output_type": "execute_result",
          "data": {
            "text/plain": [
              "10×10 Matrix{Int64}:\n",
              "  3426058487764615921  -7035133869488045731  …  -2369536187607755231\n",
              " -6802436546650682443    954277926499280434     -1250909151763192457\n",
              "  3867782567260032369  -8399008502013792087      6133022319373047235\n",
              "  7998685179370904134   5218101146423205012       586439792002949281\n",
              " -9165916128682622693  -2881567001900688868      8894015419992135618\n",
              " -1261582839315080947   8349300995804241461  …   4491626385988202838\n",
              " -6931519337177881120  -2608225662300391475     -3512379889895926061\n",
              "  2195806743954096081  -4755433013121841986      7682655932705135579\n",
              "  3242977712179839618  -7123779267057535198       639611427072246915\n",
              " -6666238143181501671   9062354053597734272      3556129174089640428"
            ]
          },
          "metadata": {},
          "execution_count": 18
        }
      ]
    },
    {
      "cell_type": "code",
      "metadata": {
        "colab": {
          "base_uri": "https://localhost:8080/"
        },
        "id": "YASAiEel_9Gg",
        "outputId": "10d5eacf-f027-42cf-b046-33bfe4c5f627"
      },
      "source": [
        "minimum(Z)"
      ],
      "execution_count": 19,
      "outputs": [
        {
          "output_type": "execute_result",
          "data": {
            "text/plain": [
              "-9194799497573751938"
            ]
          },
          "metadata": {},
          "execution_count": 19
        }
      ]
    },
    {
      "cell_type": "code",
      "metadata": {
        "colab": {
          "base_uri": "https://localhost:8080/"
        },
        "id": "PPRQlhRJAEGi",
        "outputId": "17d8cffd-1919-4e8c-f171-e1be02b37c4f"
      },
      "source": [
        "maximum(Z)"
      ],
      "execution_count": 20,
      "outputs": [
        {
          "output_type": "execute_result",
          "data": {
            "text/plain": [
              "9207812304578395777"
            ]
          },
          "metadata": {},
          "execution_count": 20
        }
      ]
    },
    {
      "cell_type": "markdown",
      "metadata": {
        "id": "auQoAl7L8SmU"
      },
      "source": [
        "# Create a random vector of size 30 and find the mean value"
      ]
    },
    {
      "cell_type": "code",
      "metadata": {
        "id": "w7yyzaanAU-y",
        "colab": {
          "base_uri": "https://localhost:8080/"
        },
        "outputId": "25f7ffce-2156-42dc-ae98-643ae51b5b57"
      },
      "source": [
        "Z = Vector(rand(Int,10))\n",
        "\n",
        "# Kinda basic method\n",
        "sum(Z)/length(Z)"
      ],
      "execution_count": 21,
      "outputs": [
        {
          "output_type": "execute_result",
          "data": {
            "text/plain": [
              "2.3489890101955012e16"
            ]
          },
          "metadata": {},
          "execution_count": 21
        }
      ]
    },
    {
      "cell_type": "code",
      "metadata": {
        "colab": {
          "base_uri": "https://localhost:8080/"
        },
        "id": "i4vPIMFT7GX3",
        "outputId": "42603000-bf25-4125-9681-f05d31a9820d"
      },
      "source": [
        "# This is not a part of the standard library and is instead imported from Statistics, yes not one of the best decisions Julia ever made\n",
        "mean(Z)"
      ],
      "execution_count": 22,
      "outputs": [
        {
          "output_type": "execute_result",
          "data": {
            "text/plain": [
              "1.86816429747291e18"
            ]
          },
          "metadata": {},
          "execution_count": 22
        }
      ]
    },
    {
      "cell_type": "markdown",
      "metadata": {
        "id": "nmdHOcbMDDjY"
      },
      "source": [
        "# Create a 2d array with 1 on the border and 0 inside"
      ]
    },
    {
      "cell_type": "code",
      "metadata": {
        "colab": {
          "base_uri": "https://localhost:8080/"
        },
        "id": "DcCGl1z4_7Dc",
        "outputId": "b37d1319-d101-4c72-d23e-5a5c75ba2add"
      },
      "source": [
        "Z = ones(10, 10)\n",
        "Z[2:end-1, 2:end-1] .= 0\n",
        "Z\n",
        "# Okay there are a few bits here that we have to address:\n",
        "# Right of the bat Julia uses 1-based indexing as you probably already know\n",
        "# The end keyword represents the end of a dimension in Julia, It provides a more explicit way to specify indexes.\n",
        "# Finally the . operator is used for broadcasting. Julia does not automatically write 0 everywhere if you use just the assignment operator. This can often trip people and instead the . operator provides an explicit broadcasting method"
      ],
      "execution_count": 23,
      "outputs": [
        {
          "output_type": "execute_result",
          "data": {
            "text/plain": [
              "10×10 Matrix{Float64}:\n",
              " 1.0  1.0  1.0  1.0  1.0  1.0  1.0  1.0  1.0  1.0\n",
              " 1.0  0.0  0.0  0.0  0.0  0.0  0.0  0.0  0.0  1.0\n",
              " 1.0  0.0  0.0  0.0  0.0  0.0  0.0  0.0  0.0  1.0\n",
              " 1.0  0.0  0.0  0.0  0.0  0.0  0.0  0.0  0.0  1.0\n",
              " 1.0  0.0  0.0  0.0  0.0  0.0  0.0  0.0  0.0  1.0\n",
              " 1.0  0.0  0.0  0.0  0.0  0.0  0.0  0.0  0.0  1.0\n",
              " 1.0  0.0  0.0  0.0  0.0  0.0  0.0  0.0  0.0  1.0\n",
              " 1.0  0.0  0.0  0.0  0.0  0.0  0.0  0.0  0.0  1.0\n",
              " 1.0  0.0  0.0  0.0  0.0  0.0  0.0  0.0  0.0  1.0\n",
              " 1.0  1.0  1.0  1.0  1.0  1.0  1.0  1.0  1.0  1.0"
            ]
          },
          "metadata": {},
          "execution_count": 23
        }
      ]
    },
    {
      "cell_type": "markdown",
      "metadata": {
        "id": "oX3zV-7PKx-M"
      },
      "source": [
        "# How to add a border (filled with 0's) around an existing array?"
      ]
    },
    {
      "cell_type": "code",
      "metadata": {
        "colab": {
          "base_uri": "https://localhost:8080/"
        },
        "id": "ZAXy_nP9ABuq",
        "outputId": "a027d3ed-82b5-4a7f-b146-a683e1a79c39"
      },
      "source": [
        "len_mat = 9\n",
        "Z = ones(Int8, len_mat, len_mat)\n",
        "borderZ = zeros(Int8, len_mat + 2, len_mat + 2)\n",
        "borderZ[2:end-1, 2:end-1] = Z\n",
        "borderZ\n",
        "# Ok so this is very much an extremely hacky way to do this but I could find a good way to go about this.\n",
        "# If you are using this in a context of images processing then Image Filtering has a way described here https://discourse.julialang.org/t/is-there-any-padding-function-available-to-pad-a-matrix-or-array/8521/3\n",
        "# PaddedViews.jl might be an option too if you are using this a lot"
      ],
      "execution_count": 24,
      "outputs": [
        {
          "output_type": "execute_result",
          "data": {
            "text/plain": [
              "11×11 Matrix{Int8}:\n",
              " 0  0  0  0  0  0  0  0  0  0  0\n",
              " 0  1  1  1  1  1  1  1  1  1  0\n",
              " 0  1  1  1  1  1  1  1  1  1  0\n",
              " 0  1  1  1  1  1  1  1  1  1  0\n",
              " 0  1  1  1  1  1  1  1  1  1  0\n",
              " 0  1  1  1  1  1  1  1  1  1  0\n",
              " 0  1  1  1  1  1  1  1  1  1  0\n",
              " 0  1  1  1  1  1  1  1  1  1  0\n",
              " 0  1  1  1  1  1  1  1  1  1  0\n",
              " 0  1  1  1  1  1  1  1  1  1  0\n",
              " 0  0  0  0  0  0  0  0  0  0  0"
            ]
          },
          "metadata": {},
          "execution_count": 24
        }
      ]
    },
    {
      "cell_type": "code",
      "metadata": {
        "colab": {
          "base_uri": "https://localhost:8080/"
        },
        "id": "tBfiaXdBHuHI",
        "outputId": "790fd852-57c5-4392-ecc7-ffbd0eb23938"
      },
      "source": [
        "Z = ones(Int8,9,9)"
      ],
      "execution_count": 25,
      "outputs": [
        {
          "output_type": "execute_result",
          "data": {
            "text/plain": [
              "9×9 Matrix{Int8}:\n",
              " 1  1  1  1  1  1  1  1  1\n",
              " 1  1  1  1  1  1  1  1  1\n",
              " 1  1  1  1  1  1  1  1  1\n",
              " 1  1  1  1  1  1  1  1  1\n",
              " 1  1  1  1  1  1  1  1  1\n",
              " 1  1  1  1  1  1  1  1  1\n",
              " 1  1  1  1  1  1  1  1  1\n",
              " 1  1  1  1  1  1  1  1  1\n",
              " 1  1  1  1  1  1  1  1  1"
            ]
          },
          "metadata": {},
          "execution_count": 25
        }
      ]
    },
    {
      "cell_type": "markdown",
      "metadata": {
        "id": "y73N7CgOZqav"
      },
      "source": [
        "# Create a 5x5 matrix with values 1,2,3,4 just below the diagonal "
      ]
    },
    {
      "cell_type": "code",
      "metadata": {
        "id": "QIqrenkVIqxc",
        "colab": {
          "base_uri": "https://localhost:8080/"
        },
        "outputId": "54142fce-d421-447c-bc7c-d16af6cf8a28"
      },
      "source": [
        "diagonal = [1, 2, 3, 4]\n",
        "ld = Bidiagonal(zeros(5), diagonal, :L)\n",
        "# : in this context is an identifier essentially used to identify an entity. Here if you use :U instead, that uses a different implementation which would place the diagonal vector on top of zeros instead"
      ],
      "execution_count": 26,
      "outputs": [
        {
          "output_type": "execute_result",
          "data": {
            "text/plain": [
              "5×5 Bidiagonal{Float64, Vector{Float64}}:\n",
              " 0.0   ⋅    ⋅    ⋅    ⋅ \n",
              " 1.0  0.0   ⋅    ⋅    ⋅ \n",
              "  ⋅   2.0  0.0   ⋅    ⋅ \n",
              "  ⋅    ⋅   3.0  0.0   ⋅ \n",
              "  ⋅    ⋅    ⋅   4.0  0.0"
            ]
          },
          "metadata": {},
          "execution_count": 26
        }
      ]
    },
    {
      "cell_type": "markdown",
      "metadata": {
        "id": "Ng5RGcEcYrUi"
      },
      "source": [
        "# Consider a (6,7,8) shape array, what is the index (x,y,z) of the 100th element?"
      ]
    },
    {
      "cell_type": "code",
      "metadata": {
        "colab": {
          "base_uri": "https://localhost:8080/"
        },
        "id": "jegJCYNdS-Tf",
        "outputId": "7c8d5caa-ba27-468a-e652-b68c3f723106"
      },
      "source": [
        "arr = rand(Int8, (6, 7, 8))\n",
        "c_x = CartesianIndices(arr)\n",
        "arr[c_x[100]]"
      ],
      "execution_count": 27,
      "outputs": [
        {
          "output_type": "execute_result",
          "data": {
            "text/plain": [
              "-89"
            ]
          },
          "metadata": {},
          "execution_count": 27
        }
      ]
    },
    {
      "cell_type": "markdown",
      "metadata": {
        "id": "dXPD2vb0aJ5S"
      },
      "source": [
        "# Create a checkerboard 8x8 matrix using the tile function"
      ]
    },
    {
      "cell_type": "code",
      "metadata": {
        "colab": {
          "base_uri": "https://localhost:8080/"
        },
        "id": "guPBbWhqXyI9",
        "outputId": "344c8584-fd6d-4103-af11-9f88f8e5bc3a"
      },
      "source": [
        "base_mat = [[1, 0] [0, 1]]\n",
        "repeat(base_mat,4,4)"
      ],
      "execution_count": 28,
      "outputs": [
        {
          "output_type": "execute_result",
          "data": {
            "text/plain": [
              "8×8 Matrix{Int64}:\n",
              " 1  0  1  0  1  0  1  0\n",
              " 0  1  0  1  0  1  0  1\n",
              " 1  0  1  0  1  0  1  0\n",
              " 0  1  0  1  0  1  0  1\n",
              " 1  0  1  0  1  0  1  0\n",
              " 0  1  0  1  0  1  0  1\n",
              " 1  0  1  0  1  0  1  0\n",
              " 0  1  0  1  0  1  0  1"
            ]
          },
          "metadata": {},
          "execution_count": 28
        }
      ]
    },
    {
      "cell_type": "markdown",
      "metadata": {
        "id": "LSX66Vy6iV6U"
      },
      "source": [
        "# Normalize a 5x5 random matrix"
      ]
    },
    {
      "cell_type": "code",
      "metadata": {
        "id": "w2gdfqaSaAfn",
        "colab": {
          "base_uri": "https://localhost:8080/"
        },
        "outputId": "89b857ff-4f2c-4f6f-8045-1a75e0472c44"
      },
      "source": [
        "Z = 2rand(5,5)"
      ],
      "execution_count": 33,
      "outputs": [
        {
          "output_type": "execute_result",
          "data": {
            "text/plain": [
              "5×5 Matrix{Float64}:\n",
              " 1.70084   0.928701   0.583323  0.954439  0.192044\n",
              " 1.21564   0.749247   1.86456   1.90508   1.94866\n",
              " 1.54496   0.0350824  0.585315  0.196124  1.70807\n",
              " 0.774875  0.621097   1.8204    1.6112    1.63568\n",
              " 1.96227   0.452761   0.417139  1.14688   0.972317"
            ]
          },
          "metadata": {},
          "execution_count": 33
        }
      ]
    },
    {
      "cell_type": "code",
      "metadata": {
        "colab": {
          "base_uri": "https://localhost:8080/"
        },
        "id": "1_RooLQ8iabC",
        "outputId": "0554faa4-8435-48d7-8ec4-f612fec87c9e"
      },
      "source": [
        "normalize!(Z)"
      ],
      "execution_count": 34,
      "outputs": [
        {
          "output_type": "execute_result",
          "data": {
            "text/plain": [
              "5×5 Matrix{Float64}:\n",
              " 0.269825  0.147331    0.0925394  0.151414   0.0304662\n",
              " 0.192851  0.118862    0.295797   0.302226   0.309139\n",
              " 0.245095  0.00556554  0.0928553  0.0311134  0.270972\n",
              " 0.122927  0.098532    0.288791   0.255604   0.259487\n",
              " 0.311298  0.0718268   0.0661756  0.181943   0.15425"
            ]
          },
          "metadata": {},
          "execution_count": 34
        }
      ]
    },
    {
      "cell_type": "markdown",
      "metadata": {
        "id": "mrpTDRI9kDpx"
      },
      "source": [
        "# Multiply a 5x3 matrix by a 3x2 matrix (real matrix product)"
      ]
    },
    {
      "cell_type": "code",
      "metadata": {
        "colab": {
          "base_uri": "https://localhost:8080/"
        },
        "id": "D6Whb9E7id2d",
        "outputId": "16f358f9-b047-43a4-ee74-60123b902249"
      },
      "source": [
        "Z₁ = ones(5,3)\n",
        "Z₂ = ones(3,2)\n",
        "Z₁*Z₂\n",
        "# Yeah bit of a show off but that's just objectively cool"
      ],
      "execution_count": 37,
      "outputs": [
        {
          "output_type": "execute_result",
          "data": {
            "text/plain": [
              "5×2 Matrix{Float64}:\n",
              " 3.0  3.0\n",
              " 3.0  3.0\n",
              " 3.0  3.0\n",
              " 3.0  3.0\n",
              " 3.0  3.0"
            ]
          },
          "metadata": {},
          "execution_count": 37
        }
      ]
    },
    {
      "cell_type": "markdown",
      "metadata": {
        "id": "DIGIwGP1lOc5"
      },
      "source": [
        "# Given a 1D array, negate all elements which are between 3 and 8, in place."
      ]
    },
    {
      "cell_type": "code",
      "metadata": {
        "colab": {
          "base_uri": "https://localhost:8080/"
        },
        "id": "a8As6bEYlJtl",
        "outputId": "de610807-78b4-452b-cecb-47fd75e19708"
      },
      "source": [
        "Z = [1:11;]\n",
        "replace!(x -> (3 .<= x .<= 8) ? -x : x,Z)"
      ],
      "execution_count": 58,
      "outputs": [
        {
          "output_type": "execute_result",
          "data": {
            "text/plain": [
              "11-element Vector{Int64}:\n",
              "  1\n",
              "  2\n",
              " -3\n",
              " -4\n",
              " -5\n",
              " -6\n",
              " -7\n",
              " -8\n",
              "  9\n",
              " 10\n",
              " 11"
            ]
          },
          "metadata": {},
          "execution_count": 58
        }
      ]
    },
    {
      "cell_type": "code",
      "metadata": {
        "id": "VSmKnPqKqO9U"
      },
      "source": [
        ""
      ],
      "execution_count": null,
      "outputs": []
    }
  ]
}