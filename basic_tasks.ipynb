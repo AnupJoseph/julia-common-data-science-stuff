{
  "nbformat": 4,
  "nbformat_minor": 0,
  "metadata": {
    "colab": {
      "name": "basic-tasks.ipynb",
      "provenance": [],
      "collapsed_sections": []
    },
    "kernelspec": {
      "display_name": "Julia",
      "language": "julia",
      "name": "julia"
    },
    "language_info": {
      "file_extension": ".jl",
      "mimetype": "application/julia",
      "name": "julia"
    }
  },
  "cells": [
    {
      "cell_type": "markdown",
      "metadata": {
        "id": "f_1dr-2W5iSU"
      },
      "source": [
        "# Getting Started with Julia in Colab/Jupyter\n",
        "You can either run this notebook in Google Colab, or using Jupyter on your own machine."
      ]
    },
    {
      "cell_type": "markdown",
      "metadata": {
        "id": "6ew60wXrZM0W"
      },
      "source": [
        "## Running on Google Colab\n",
        "1. Work on a copy of this notebook: _File_ > _Save a copy in Drive_ (you will need a Google account). Alternatively, you can download the notebook using _File_ > _Download .ipynb_, then upload it to [Colab](https://colab.research.google.com/).\n",
        "2. Execute the following cell (click on it and press Ctrl+Enter) to install Julia, IJulia (the Jupyter kernel for Julia) and other packages. You can update `JULIA_VERSION` and the other parameters, if you know what you're doing. Installation takes 2-3 minutes.\n",
        "3. Reload this page (press Ctrl+R, or ⌘+R, or the F5 key) and continue to the _Checking the Installation_ section.\n",
        "\n",
        "* _Note_: If your Colab Runtime gets reset (e.g., due to inactivity), repeat steps 2 and 3."
      ]
    },
    {
      "cell_type": "code",
      "metadata": {
        "id": "GIeFXS0F0zww",
        "colab": {
          "base_uri": "https://localhost:8080/"
        },
        "outputId": "aac30b45-d99a-48e4-e7e3-9ab05e60ab51"
      },
      "source": [
        "%%shell\n",
        "set -e\n",
        "\n",
        "#---------------------------------------------------#\n",
        "JULIA_VERSION=\"1.6.0\" # any version ≥ 0.7.0\n",
        "JULIA_PACKAGES=\"IJulia\"\n",
        "JULIA_PACKAGES_IF_GPU=\"CUDA\"\n",
        "JULIA_NUM_THREADS=4\n",
        "#---------------------------------------------------#\n",
        "\n",
        "if [ -n \"$COLAB_GPU\" ] && [ -z `which julia` ]; then\n",
        "  # Install Julia\n",
        "  JULIA_VER=`cut -d '.' -f -2 <<< \"$JULIA_VERSION\"`\n",
        "  echo \"Installing Julia $JULIA_VERSION on the current Colab Runtime...\"\n",
        "  BASE_URL=\"https://julialang-s3.julialang.org/bin/linux/x64\"\n",
        "  URL=\"$BASE_URL/$JULIA_VER/julia-$JULIA_VERSION-linux-x86_64.tar.gz\"\n",
        "  wget -nv $URL -O /tmp/julia.tar.gz # -nv means \"not verbose\"\n",
        "  tar -x -f /tmp/julia.tar.gz -C /usr/local --strip-components 1\n",
        "  rm /tmp/julia.tar.gz\n",
        "\n",
        "  # Install Packages\n",
        "  if [ \"$COLAB_GPU\" = \"1\" ]; then\n",
        "      JULIA_PACKAGES=\"$JULIA_PACKAGES $JULIA_PACKAGES_IF_GPU\"\n",
        "  fi\n",
        "  for PKG in `echo $JULIA_PACKAGES`; do\n",
        "    echo \"Installing Julia package $PKG...\"\n",
        "    julia -e 'using Pkg; pkg\"add '$PKG'; precompile;\"' &> /dev/null\n",
        "  done\n",
        "\n",
        "  # Install kernel and rename it to \"julia\"\n",
        "  echo \"Installing IJulia kernel...\"\n",
        "  julia -e 'using IJulia; IJulia.installkernel(\"julia\", env=Dict(\n",
        "      \"JULIA_NUM_THREADS\"=>\"'\"$JULIA_NUM_THREADS\"'\"))'\n",
        "  KERNEL_DIR=`julia -e \"using IJulia; print(IJulia.kerneldir())\"`\n",
        "  KERNEL_NAME=`ls -d \"$KERNEL_DIR\"/julia*`\n",
        "  mv -f $KERNEL_NAME \"$KERNEL_DIR\"/julia  \n",
        "\n",
        "  echo ''\n",
        "  echo \"Successfully installed `julia -v`!\"\n",
        "  echo \"Please reload this page (press Ctrl+R, ⌘+R, or the F5 key) then\"\n",
        "  echo \"jump to the 'Checking the Installation' section.\"\n",
        "fi"
      ],
      "execution_count": null,
      "outputs": [
        {
          "output_type": "stream",
          "name": "stdout",
          "text": [
            "Installing Julia 1.6.0 on the current Colab Runtime...\n",
            "2021-11-28 06:40:27 URL:https://storage.googleapis.com/julialang2/bin/linux/x64/1.6/julia-1.6.0-linux-x86_64.tar.gz [112838927/112838927] -> \"/tmp/julia.tar.gz\" [1]\n",
            "Installing Julia package IJulia...\n"
          ]
        }
      ]
    },
    {
      "cell_type": "markdown",
      "metadata": {
        "id": "-OS3Ac017T1i"
      },
      "source": [
        "## Checking the Installation\n",
        "The `versioninfo()` function should print your Julia version and some other info about the system (if you ever ask for help or file an issue about Julia, you should always provide this information)."
      ]
    },
    {
      "cell_type": "code",
      "metadata": {
        "id": "EEzvvzCl1i0F",
        "colab": {
          "base_uri": "https://localhost:8080/"
        },
        "outputId": "adb23a77-b5cb-4843-e020-00ddb2e152bf"
      },
      "source": [
        "versioninfo()"
      ],
      "execution_count": 1,
      "outputs": [
        {
          "output_type": "stream",
          "name": "stdout",
          "text": [
            "Julia Version 1.6.0\n",
            "Commit f9720dc2eb (2021-03-24 12:55 UTC)\n",
            "Platform Info:\n",
            "  OS: Linux (x86_64-pc-linux-gnu)\n",
            "  CPU: Intel(R) Xeon(R) CPU @ 2.20GHz\n",
            "  WORD_SIZE: 64\n",
            "  LIBM: libopenlibm\n",
            "  LLVM: libLLVM-11.0.1 (ORCJIT, broadwell)\n",
            "Environment:\n",
            "  JULIA_NUM_THREADS = 4\n"
          ]
        }
      ]
    },
    {
      "cell_type": "code",
      "metadata": {
        "id": "vjhJb4Yj8Jv4"
      },
      "source": [
        "using Statistics\n",
        "using LinearAlgebra"
      ],
      "execution_count": 2,
      "outputs": []
    },
    {
      "cell_type": "markdown",
      "metadata": {
        "id": "YNUbXSrbrFH6"
      },
      "source": [
        "# Create a null vector of size 10"
      ]
    },
    {
      "cell_type": "code",
      "metadata": {
        "colab": {
          "base_uri": "https://localhost:8080/"
        },
        "id": "ktUgYaE9q7rr",
        "outputId": "7dfec427-1b18-4977-ed9c-b474356d467a"
      },
      "source": [
        "Z = zeros(Int8,10)\n",
        "Z"
      ],
      "execution_count": 3,
      "outputs": [
        {
          "output_type": "execute_result",
          "data": {
            "text/plain": [
              "10-element Vector{Int8}:\n",
              " 0\n",
              " 0\n",
              " 0\n",
              " 0\n",
              " 0\n",
              " 0\n",
              " 0\n",
              " 0\n",
              " 0\n",
              " 0"
            ]
          },
          "metadata": {},
          "execution_count": 3
        }
      ]
    },
    {
      "cell_type": "markdown",
      "metadata": {
        "id": "ckMUoBWCs4ik"
      },
      "source": [
        "# How to find the memory size of any array"
      ]
    },
    {
      "cell_type": "code",
      "metadata": {
        "colab": {
          "base_uri": "https://localhost:8080/"
        },
        "id": "ncra38mTrZav",
        "outputId": "46cf1ce2-0160-422e-f686-906e445e41c9"
      },
      "source": [
        "Z = zeros(Int8,10,10)\n",
        "Z"
      ],
      "execution_count": 4,
      "outputs": [
        {
          "output_type": "execute_result",
          "data": {
            "text/plain": [
              "10×10 Matrix{Int8}:\n",
              " 0  0  0  0  0  0  0  0  0  0\n",
              " 0  0  0  0  0  0  0  0  0  0\n",
              " 0  0  0  0  0  0  0  0  0  0\n",
              " 0  0  0  0  0  0  0  0  0  0\n",
              " 0  0  0  0  0  0  0  0  0  0\n",
              " 0  0  0  0  0  0  0  0  0  0\n",
              " 0  0  0  0  0  0  0  0  0  0\n",
              " 0  0  0  0  0  0  0  0  0  0\n",
              " 0  0  0  0  0  0  0  0  0  0\n",
              " 0  0  0  0  0  0  0  0  0  0"
            ]
          },
          "metadata": {},
          "execution_count": 4
        }
      ]
    },
    {
      "cell_type": "code",
      "metadata": {
        "colab": {
          "base_uri": "https://localhost:8080/"
        },
        "id": "-Vd4GK5Qs5qg",
        "outputId": "ce8f718c-a4ce-4b85-d53d-26bc0e17b75c"
      },
      "source": [
        "size_bytes(x) = Base.format_bytes(Base.summarysize(x))\n",
        "size_bytes(Z)"
      ],
      "execution_count": 5,
      "outputs": [
        {
          "output_type": "execute_result",
          "data": {
            "text/plain": [
              "\"140 bytes\""
            ]
          },
          "metadata": {},
          "execution_count": 5
        }
      ]
    },
    {
      "cell_type": "markdown",
      "metadata": {
        "id": "MSk9oEiIt0Xa"
      },
      "source": [
        "# How to get the documentation of the numpy add function from the command line?"
      ]
    },
    {
      "cell_type": "code",
      "metadata": {
        "colab": {
          "base_uri": "https://localhost:8080/",
          "height": 317
        },
        "id": "b-FX4GdVtRIY",
        "outputId": "de2dd4e4-3b5e-4881-b74e-7f445ee12a0c"
      },
      "source": [
        "? +"
      ],
      "execution_count": 6,
      "outputs": [
        {
          "output_type": "stream",
          "name": "stdout",
          "text": [
            "search: \u001b[0m\u001b[1m+\u001b[22m\n",
            "\n"
          ]
        },
        {
          "output_type": "execute_result",
          "data": {
            "text/latex": "\\begin{verbatim}\n+(x, y...)\n\\end{verbatim}\nAddition operator. \\texttt{x+y+z+...} calls this function with all arguments, i.e. \\texttt{+(x, y, z, ...)}.\n\n\\section{Examples}\n\\begin{verbatim}\njulia> 1 + 20 + 4\n25\n\njulia> +(1, 20, 4)\n25\n\\end{verbatim}\n\\rule{\\textwidth}{1pt}\n\\begin{verbatim}\ndt::Date + t::Time -> DateTime\n\\end{verbatim}\nThe addition of a \\texttt{Date} with a \\texttt{Time} produces a \\texttt{DateTime}. The hour, minute, second, and millisecond parts of the \\texttt{Time} are used along with the year, month, and day of the \\texttt{Date} to create the new \\texttt{DateTime}. Non-zero microseconds or nanoseconds in the \\texttt{Time} type will result in an \\texttt{InexactError} being thrown.\n\n",
            "text/markdown": "```\n+(x, y...)\n```\n\nAddition operator. `x+y+z+...` calls this function with all arguments, i.e. `+(x, y, z, ...)`.\n\n# Examples\n\n```jldoctest\njulia> 1 + 20 + 4\n25\n\njulia> +(1, 20, 4)\n25\n```\n\n---\n\n```\ndt::Date + t::Time -> DateTime\n```\n\nThe addition of a `Date` with a `Time` produces a `DateTime`. The hour, minute, second, and millisecond parts of the `Time` are used along with the year, month, and day of the `Date` to create the new `DateTime`. Non-zero microseconds or nanoseconds in the `Time` type will result in an `InexactError` being thrown.\n",
            "text/plain": [
              "\u001b[36m  +(x, y...)\u001b[39m\n",
              "\n",
              "  Addition operator. \u001b[36mx+y+z+...\u001b[39m calls this function with all arguments, i.e.\n",
              "  \u001b[36m+(x, y, z, ...)\u001b[39m.\n",
              "\n",
              "\u001b[1m  Examples\u001b[22m\n",
              "\u001b[1m  ≡≡≡≡≡≡≡≡≡≡\u001b[22m\n",
              "\n",
              "\u001b[36m  julia> 1 + 20 + 4\u001b[39m\n",
              "\u001b[36m  25\u001b[39m\n",
              "\u001b[36m  \u001b[39m\n",
              "\u001b[36m  julia> +(1, 20, 4)\u001b[39m\n",
              "\u001b[36m  25\u001b[39m\n",
              "\n",
              "  ────────────────────────────────────────────────────────────────────────────\n",
              "\n",
              "\u001b[36m  dt::Date + t::Time -> DateTime\u001b[39m\n",
              "\n",
              "  The addition of a \u001b[36mDate\u001b[39m with a \u001b[36mTime\u001b[39m produces a \u001b[36mDateTime\u001b[39m. The hour, minute,\n",
              "  second, and millisecond parts of the \u001b[36mTime\u001b[39m are used along with the year,\n",
              "  month, and day of the \u001b[36mDate\u001b[39m to create the new \u001b[36mDateTime\u001b[39m. Non-zero microseconds\n",
              "  or nanoseconds in the \u001b[36mTime\u001b[39m type will result in an \u001b[36mInexactError\u001b[39m being thrown."
            ]
          },
          "metadata": {},
          "execution_count": 6
        }
      ]
    },
    {
      "cell_type": "code",
      "metadata": {
        "colab": {
          "base_uri": "https://localhost:8080/",
          "height": 341
        },
        "id": "20_FEMS_t6j_",
        "outputId": "81a55964-c98f-48fb-f4b5-ae16df45588d"
      },
      "source": [
        "? zero"
      ],
      "execution_count": 7,
      "outputs": [
        {
          "output_type": "stream",
          "name": "stdout",
          "text": [
            "search: \u001b[0m\u001b[1mz\u001b[22m\u001b[0m\u001b[1me\u001b[22m\u001b[0m\u001b[1mr\u001b[22m\u001b[0m\u001b[1mo\u001b[22m \u001b[0m\u001b[1mz\u001b[22m\u001b[0m\u001b[1me\u001b[22m\u001b[0m\u001b[1mr\u001b[22m\u001b[0m\u001b[1mo\u001b[22ms \u001b[0m\u001b[1mZ\u001b[22m\u001b[0m\u001b[1me\u001b[22m\u001b[0m\u001b[1mr\u001b[22m\u001b[0m\u001b[1mo\u001b[22mPivotException is\u001b[0m\u001b[1mz\u001b[22m\u001b[0m\u001b[1me\u001b[22m\u001b[0m\u001b[1mr\u001b[22m\u001b[0m\u001b[1mo\u001b[22m set_\u001b[0m\u001b[1mz\u001b[22m\u001b[0m\u001b[1me\u001b[22m\u001b[0m\u001b[1mr\u001b[22m\u001b[0m\u001b[1mo\u001b[22m_subnormals\n",
            "\n"
          ]
        },
        {
          "output_type": "execute_result",
          "data": {
            "text/latex": "\\begin{verbatim}\nzero(x)\nzero(::Type)\n\\end{verbatim}\nGet the additive identity element for the type of \\texttt{x} (\\texttt{x} can also specify the type itself).\n\n\\section{Examples}\n\\begin{verbatim}\njulia> zero(1)\n0\n\njulia> zero(big\"2.0\")\n0.0\n\njulia> zero(rand(2,2))\n2×2 Matrix{Float64}:\n 0.0  0.0\n 0.0  0.0\n\\end{verbatim}\n",
            "text/markdown": "```\nzero(x)\nzero(::Type)\n```\n\nGet the additive identity element for the type of `x` (`x` can also specify the type itself).\n\n# Examples\n\n```jldoctest\njulia> zero(1)\n0\n\njulia> zero(big\"2.0\")\n0.0\n\njulia> zero(rand(2,2))\n2×2 Matrix{Float64}:\n 0.0  0.0\n 0.0  0.0\n```\n",
            "text/plain": [
              "\u001b[36m  zero(x)\u001b[39m\n",
              "\u001b[36m  zero(::Type)\u001b[39m\n",
              "\n",
              "  Get the additive identity element for the type of \u001b[36mx\u001b[39m (\u001b[36mx\u001b[39m can also specify the\n",
              "  type itself).\n",
              "\n",
              "\u001b[1m  Examples\u001b[22m\n",
              "\u001b[1m  ≡≡≡≡≡≡≡≡≡≡\u001b[22m\n",
              "\n",
              "\u001b[36m  julia> zero(1)\u001b[39m\n",
              "\u001b[36m  0\u001b[39m\n",
              "\u001b[36m  \u001b[39m\n",
              "\u001b[36m  julia> zero(big\"2.0\")\u001b[39m\n",
              "\u001b[36m  0.0\u001b[39m\n",
              "\u001b[36m  \u001b[39m\n",
              "\u001b[36m  julia> zero(rand(2,2))\u001b[39m\n",
              "\u001b[36m  2×2 Matrix{Float64}:\u001b[39m\n",
              "\u001b[36m   0.0  0.0\u001b[39m\n",
              "\u001b[36m   0.0  0.0\u001b[39m"
            ]
          },
          "metadata": {},
          "execution_count": 7
        }
      ]
    },
    {
      "cell_type": "markdown",
      "metadata": {
        "id": "tqV6MXJGuhlt"
      },
      "source": [
        "# Create a null vector of size 10 but the fifth value which is 1"
      ]
    },
    {
      "cell_type": "code",
      "metadata": {
        "colab": {
          "base_uri": "https://localhost:8080/"
        },
        "id": "qBR39lGQtsiA",
        "outputId": "246c5be6-e6ea-40a1-d40f-5cfcf5027431"
      },
      "source": [
        "Z = zeros(Int8,10)\n",
        "Z[5] = 1\n",
        "Z"
      ],
      "execution_count": 8,
      "outputs": [
        {
          "output_type": "execute_result",
          "data": {
            "text/plain": [
              "10-element Vector{Int8}:\n",
              " 0\n",
              " 0\n",
              " 0\n",
              " 0\n",
              " 1\n",
              " 0\n",
              " 0\n",
              " 0\n",
              " 0\n",
              " 0"
            ]
          },
          "metadata": {},
          "execution_count": 8
        }
      ]
    },
    {
      "cell_type": "markdown",
      "metadata": {
        "id": "aal97XluvVFr"
      },
      "source": [
        "# Create a vector with values ranging from 10 to 49"
      ]
    },
    {
      "cell_type": "code",
      "metadata": {
        "colab": {
          "base_uri": "https://localhost:8080/"
        },
        "id": "CbgL9Je7uj9y",
        "outputId": "c2e31ded-0a68-4976-a9e0-0c2f659ddb09"
      },
      "source": [
        "Z = [10:50]"
      ],
      "execution_count": 9,
      "outputs": [
        {
          "output_type": "execute_result",
          "data": {
            "text/plain": [
              "1-element Vector{UnitRange{Int64}}:\n",
              " 10:50"
            ]
          },
          "metadata": {},
          "execution_count": 9
        }
      ]
    },
    {
      "cell_type": "code",
      "metadata": {
        "id": "GoVilD6MvV2e",
        "colab": {
          "base_uri": "https://localhost:8080/"
        },
        "outputId": "bae87aac-5e78-4e54-b94f-7bb393b0eaea"
      },
      "source": [
        "# If you actually want it as an array for some reason \n",
        "Z = [10:50;]\n",
        "Z"
      ],
      "execution_count": 10,
      "outputs": [
        {
          "output_type": "execute_result",
          "data": {
            "text/plain": [
              "41-element Vector{Int64}:\n",
              " 10\n",
              " 11\n",
              " 12\n",
              " 13\n",
              " 14\n",
              " 15\n",
              " 16\n",
              " 17\n",
              " 18\n",
              " 19\n",
              " 20\n",
              " 21\n",
              " 22\n",
              "  ⋮\n",
              " 39\n",
              " 40\n",
              " 41\n",
              " 42\n",
              " 43\n",
              " 44\n",
              " 45\n",
              " 46\n",
              " 47\n",
              " 48\n",
              " 49\n",
              " 50"
            ]
          },
          "metadata": {},
          "execution_count": 10
        }
      ]
    },
    {
      "cell_type": "markdown",
      "metadata": {
        "id": "PR_DkJ_x1ZlZ"
      },
      "source": [
        "# Reverse a vector (first element becomes last)"
      ]
    },
    {
      "cell_type": "code",
      "metadata": {
        "colab": {
          "base_uri": "https://localhost:8080/"
        },
        "id": "Q5DQN6fm1CfK",
        "outputId": "aa4c35d9-b6b7-4bf0-b07f-a0f9b3a763f6"
      },
      "source": [
        "Z = zeros(Int8,10)\n",
        "Z[1] = 1\n",
        "print(Z)\n",
        "reverse!(Z)\n",
        "Z"
      ],
      "execution_count": 11,
      "outputs": [
        {
          "output_type": "stream",
          "name": "stdout",
          "text": [
            "Int8[1, 0, 0, 0, 0, 0, 0, 0, 0, 0]"
          ]
        },
        {
          "output_type": "execute_result",
          "data": {
            "text/plain": [
              "10-element Vector{Int8}:\n",
              " 0\n",
              " 0\n",
              " 0\n",
              " 0\n",
              " 0\n",
              " 0\n",
              " 0\n",
              " 0\n",
              " 0\n",
              " 1"
            ]
          },
          "metadata": {},
          "execution_count": 11
        }
      ]
    },
    {
      "cell_type": "markdown",
      "metadata": {
        "id": "_ASaMwmO2c-U"
      },
      "source": [
        "# Create a 3x3 matrix with values ranging from 0 to 8\n"
      ]
    },
    {
      "cell_type": "code",
      "metadata": {
        "colab": {
          "base_uri": "https://localhost:8080/"
        },
        "id": "3k0L3Khw1VER",
        "outputId": "c0f207dc-01aa-44ad-bc14-20195f41f346"
      },
      "source": [
        "Z = [0:8;]\n",
        "Z = reshape(Z,(3,3))"
      ],
      "execution_count": 12,
      "outputs": [
        {
          "output_type": "execute_result",
          "data": {
            "text/plain": [
              "3×3 Matrix{Int64}:\n",
              " 0  3  6\n",
              " 1  4  7\n",
              " 2  5  8"
            ]
          },
          "metadata": {},
          "execution_count": 12
        }
      ]
    },
    {
      "cell_type": "code",
      "metadata": {
        "colab": {
          "base_uri": "https://localhost:8080/"
        },
        "id": "cEJv-vvW3Tzi",
        "outputId": "b2701201-10f4-4282-81ff-f447db40e547"
      },
      "source": [
        "# This is likely a more efficient method\n",
        "Z = reshape(Vector(0:8),(3,3))"
      ],
      "execution_count": 13,
      "outputs": [
        {
          "output_type": "execute_result",
          "data": {
            "text/plain": [
              "3×3 Matrix{Int64}:\n",
              " 0  3  6\n",
              " 1  4  7\n",
              " 2  5  8"
            ]
          },
          "metadata": {},
          "execution_count": 13
        }
      ]
    },
    {
      "cell_type": "markdown",
      "metadata": {
        "id": "Sm6St9E67L_J"
      },
      "source": [
        "# Find indices of non-zero elements from [1,2,0,0,4,0]"
      ]
    },
    {
      "cell_type": "code",
      "metadata": {
        "colab": {
          "base_uri": "https://localhost:8080/"
        },
        "id": "kbOWwBTI2And",
        "outputId": "17d9746f-da3f-4c98-b590-160ae8c8a16f"
      },
      "source": [
        "Z = [1,2,0,0,4,0]\n",
        "print(findall(iszero,Z))\n",
        "Z[findall(iszero,Z)]"
      ],
      "execution_count": 14,
      "outputs": [
        {
          "output_type": "stream",
          "name": "stdout",
          "text": [
            "[3, 4, 6]"
          ]
        },
        {
          "output_type": "execute_result",
          "data": {
            "text/plain": [
              "3-element Vector{Int64}:\n",
              " 0\n",
              " 0\n",
              " 0"
            ]
          },
          "metadata": {},
          "execution_count": 14
        }
      ]
    },
    {
      "cell_type": "markdown",
      "metadata": {
        "id": "kQzMo5b27g-3"
      },
      "source": [
        "\n",
        "# Create a 3x3 identity matrix"
      ]
    },
    {
      "cell_type": "code",
      "metadata": {
        "colab": {
          "base_uri": "https://localhost:8080/"
        },
        "id": "HJnjEbRL7yH1",
        "outputId": "548f805a-31b1-4cb4-b413-4edfa543b1ee"
      },
      "source": [
        "1.0I\n",
        "\n",
        "# This is a really profound answer to the question involving a deep dive into Julia's philosophy and computing in general \n",
        "# https://stackoverflow.com/a/57270841/14274188 you should probably read this answer before using this particular code."
      ],
      "execution_count": 15,
      "outputs": [
        {
          "output_type": "execute_result",
          "data": {
            "text/plain": [
              "UniformScaling{Float64}\n",
              "1.0*I"
            ]
          },
          "metadata": {},
          "execution_count": 15
        }
      ]
    },
    {
      "cell_type": "code",
      "metadata": {
        "colab": {
          "base_uri": "https://localhost:8080/"
        },
        "id": "9UVjwrQZ4iMK",
        "outputId": "2d68e77d-b370-452a-e234-8e133b186213"
      },
      "source": [
        "Z = Matrix{Int8}(I,3,3)"
      ],
      "execution_count": 16,
      "outputs": [
        {
          "output_type": "execute_result",
          "data": {
            "text/plain": [
              "3×3 Matrix{Int8}:\n",
              " 1  0  0\n",
              " 0  1  0\n",
              " 0  0  1"
            ]
          },
          "metadata": {},
          "execution_count": 16
        }
      ]
    },
    {
      "cell_type": "markdown",
      "metadata": {
        "id": "LubcByao_biM"
      },
      "source": [
        "# Create a 3x3x3 array with random values"
      ]
    },
    {
      "cell_type": "code",
      "metadata": {
        "colab": {
          "base_uri": "https://localhost:8080/"
        },
        "id": "RAdInOyL7bPY",
        "outputId": "b14d2b8e-4659-47b5-8bb8-e94b8d80f7f9"
      },
      "source": [
        "Z = rand(Int,(3,3,3))\n",
        "Z"
      ],
      "execution_count": 17,
      "outputs": [
        {
          "output_type": "execute_result",
          "data": {
            "text/plain": [
              "3×3×3 Array{Int64, 3}:\n",
              "[:, :, 1] =\n",
              "  3806894042569051247   4101518327781929558  -1150304688222447421\n",
              " -3277525164774597182  -6463279504882795793  -7980997582630556490\n",
              "  7826772888706282894    306054472605053367  -5371480206392349910\n",
              "\n",
              "[:, :, 2] =\n",
              "  1289977229484553236   3938500722541033500   4876974976525267036\n",
              " -1576304082926897534   4385421370996008294  -2949257984507509891\n",
              "  6001675682280131504  -1274535198128224250  -1288257064502693070\n",
              "\n",
              "[:, :, 3] =\n",
              " -1951704615192023486  7716636441803374061   2706844704943953045\n",
              "  8929345148110218645  5856962545594183628  -8286584318678297752\n",
              " -9221840343158891798  5923754033697200389  -7403669699682711298"
            ]
          },
          "metadata": {},
          "execution_count": 17
        }
      ]
    },
    {
      "cell_type": "markdown",
      "metadata": {
        "id": "GET81_nm_9gs"
      },
      "source": [
        "# Create a 10x10 array with random values and find the minimum and maximum values"
      ]
    },
    {
      "cell_type": "code",
      "metadata": {
        "colab": {
          "base_uri": "https://localhost:8080/"
        },
        "id": "18y5VMYc_gYn",
        "outputId": "24bf7c4d-bb5f-4034-d948-4bbf9b1fb4dc"
      },
      "source": [
        "Z = rand(Int,(10,10))"
      ],
      "execution_count": 18,
      "outputs": [
        {
          "output_type": "execute_result",
          "data": {
            "text/plain": [
              "10×10 Matrix{Int64}:\n",
              "  8186878226763047473  -9061253665245106535  …   4584911385175654579\n",
              "   789579274104018425  -2711451338804233736      5855255920722501793\n",
              " -3130357512898994843   5155091658295721044       411872609743282525\n",
              " -8163891628722545989   7173529375598747128       983983685559597096\n",
              "  5796772511379017056   6897643672438189765     -7787755882843258119\n",
              "  5831733614204122863  -3740915373095645012  …   3457290088962158358\n",
              "  8682247887719888501   2603803061889133125     -2422754672030248713\n",
              "  -388178716004715686  -7949075524816915036      -572782547475185482\n",
              "  1587668665691496384   5463984260434844336      3918008123423433399\n",
              "  8688559849993981569   1927903474735859516     -2358643879546315615"
            ]
          },
          "metadata": {},
          "execution_count": 18
        }
      ]
    },
    {
      "cell_type": "code",
      "metadata": {
        "colab": {
          "base_uri": "https://localhost:8080/"
        },
        "id": "YASAiEel_9Gg",
        "outputId": "2ea8f4f7-c968-4074-9ad1-8137d0a23fb6"
      },
      "source": [
        "minimum(Z)"
      ],
      "execution_count": 19,
      "outputs": [
        {
          "output_type": "execute_result",
          "data": {
            "text/plain": [
              "-9061253665245106535"
            ]
          },
          "metadata": {},
          "execution_count": 19
        }
      ]
    },
    {
      "cell_type": "code",
      "metadata": {
        "colab": {
          "base_uri": "https://localhost:8080/"
        },
        "id": "PPRQlhRJAEGi",
        "outputId": "daf3776b-dd4b-4b4f-81f3-cf5c6c46e052"
      },
      "source": [
        "maximum(Z)"
      ],
      "execution_count": 20,
      "outputs": [
        {
          "output_type": "execute_result",
          "data": {
            "text/plain": [
              "8857838714455764006"
            ]
          },
          "metadata": {},
          "execution_count": 20
        }
      ]
    },
    {
      "cell_type": "markdown",
      "metadata": {
        "id": "auQoAl7L8SmU"
      },
      "source": [
        "# Create a random vector of size 30 and find the mean value"
      ]
    },
    {
      "cell_type": "code",
      "metadata": {
        "id": "w7yyzaanAU-y",
        "colab": {
          "base_uri": "https://localhost:8080/"
        },
        "outputId": "627037fb-a8ca-4107-f588-ead22e836c67"
      },
      "source": [
        "Z = Vector(rand(Int,10))\n",
        "\n",
        "# Kinda basic method\n",
        "sum(Z)/length(Z)"
      ],
      "execution_count": 21,
      "outputs": [
        {
          "output_type": "execute_result",
          "data": {
            "text/plain": [
              "-8.140793158410106e17"
            ]
          },
          "metadata": {},
          "execution_count": 21
        }
      ]
    },
    {
      "cell_type": "code",
      "metadata": {
        "colab": {
          "base_uri": "https://localhost:8080/"
        },
        "id": "i4vPIMFT7GX3",
        "outputId": "b2c1e284-4c0e-4d41-eeac-02afdeeddf44"
      },
      "source": [
        "# This is not a part of the standard library and is instead imported from Statistics, yes not one of the best decisions Julia ever made\n",
        "mean(Z)"
      ],
      "execution_count": 22,
      "outputs": [
        {
          "output_type": "execute_result",
          "data": {
            "text/plain": [
              "-2.658753723211966e18"
            ]
          },
          "metadata": {},
          "execution_count": 22
        }
      ]
    },
    {
      "cell_type": "markdown",
      "metadata": {
        "id": "nmdHOcbMDDjY"
      },
      "source": [
        "# Create a 2d array with 1 on the border and 0 inside"
      ]
    },
    {
      "cell_type": "code",
      "metadata": {
        "colab": {
          "base_uri": "https://localhost:8080/"
        },
        "id": "DcCGl1z4_7Dc",
        "outputId": "f8f34ced-0699-42f2-a4d7-be05ba320d4b"
      },
      "source": [
        "Z = ones(10, 10)\n",
        "Z[2:end-1, 2:end-1] .= 0\n",
        "Z\n",
        "# Okay there are a few bits here that we have to address:\n",
        "# Right of the bat Julia uses 1-based indexing as you probably already know\n",
        "# The end keyword represents the end of a dimension in Julia, It provides a more explicit way to specify indexes.\n",
        "# Finally the . operator is used for broadcasting. Julia does not automatically write 0 everywhere if you use just the assignment operator. This can often trip people and instead the . operator provides an explicit broadcasting method"
      ],
      "execution_count": 23,
      "outputs": [
        {
          "output_type": "execute_result",
          "data": {
            "text/plain": [
              "10×10 Matrix{Float64}:\n",
              " 1.0  1.0  1.0  1.0  1.0  1.0  1.0  1.0  1.0  1.0\n",
              " 1.0  0.0  0.0  0.0  0.0  0.0  0.0  0.0  0.0  1.0\n",
              " 1.0  0.0  0.0  0.0  0.0  0.0  0.0  0.0  0.0  1.0\n",
              " 1.0  0.0  0.0  0.0  0.0  0.0  0.0  0.0  0.0  1.0\n",
              " 1.0  0.0  0.0  0.0  0.0  0.0  0.0  0.0  0.0  1.0\n",
              " 1.0  0.0  0.0  0.0  0.0  0.0  0.0  0.0  0.0  1.0\n",
              " 1.0  0.0  0.0  0.0  0.0  0.0  0.0  0.0  0.0  1.0\n",
              " 1.0  0.0  0.0  0.0  0.0  0.0  0.0  0.0  0.0  1.0\n",
              " 1.0  0.0  0.0  0.0  0.0  0.0  0.0  0.0  0.0  1.0\n",
              " 1.0  1.0  1.0  1.0  1.0  1.0  1.0  1.0  1.0  1.0"
            ]
          },
          "metadata": {},
          "execution_count": 23
        }
      ]
    },
    {
      "cell_type": "markdown",
      "metadata": {
        "id": "oX3zV-7PKx-M"
      },
      "source": [
        "# How to add a border (filled with 0's) around an existing array?"
      ]
    },
    {
      "cell_type": "code",
      "metadata": {
        "colab": {
          "base_uri": "https://localhost:8080/"
        },
        "id": "ZAXy_nP9ABuq",
        "outputId": "8201ced5-2b22-48d8-d900-b8ac2934028a"
      },
      "source": [
        "len_mat = 9\n",
        "Z = ones(Int8, len_mat, len_mat)\n",
        "borderZ = zeros(Int8, len_mat + 2, len_mat + 2)\n",
        "borderZ[2:end-1, 2:end-1] = Z\n",
        "borderZ\n",
        "# Ok so this is very much an extremely hacky way to do this but I could find a good way to go about this.\n",
        "# If you are using this in a context of images processing then Image Filtering has a way described here https://discourse.julialang.org/t/is-there-any-padding-function-available-to-pad-a-matrix-or-array/8521/3\n",
        "# PaddedViews.jl might be an option too if you are using this a lot"
      ],
      "execution_count": 24,
      "outputs": [
        {
          "output_type": "execute_result",
          "data": {
            "text/plain": [
              "11×11 Matrix{Int8}:\n",
              " 0  0  0  0  0  0  0  0  0  0  0\n",
              " 0  1  1  1  1  1  1  1  1  1  0\n",
              " 0  1  1  1  1  1  1  1  1  1  0\n",
              " 0  1  1  1  1  1  1  1  1  1  0\n",
              " 0  1  1  1  1  1  1  1  1  1  0\n",
              " 0  1  1  1  1  1  1  1  1  1  0\n",
              " 0  1  1  1  1  1  1  1  1  1  0\n",
              " 0  1  1  1  1  1  1  1  1  1  0\n",
              " 0  1  1  1  1  1  1  1  1  1  0\n",
              " 0  1  1  1  1  1  1  1  1  1  0\n",
              " 0  0  0  0  0  0  0  0  0  0  0"
            ]
          },
          "metadata": {},
          "execution_count": 24
        }
      ]
    },
    {
      "cell_type": "code",
      "metadata": {
        "colab": {
          "base_uri": "https://localhost:8080/"
        },
        "id": "tBfiaXdBHuHI",
        "outputId": "3ffa652f-0eba-462a-fe76-a07abaf66d5c"
      },
      "source": [
        "Z = ones(Int8,9,9)"
      ],
      "execution_count": 25,
      "outputs": [
        {
          "output_type": "execute_result",
          "data": {
            "text/plain": [
              "9×9 Matrix{Int8}:\n",
              " 1  1  1  1  1  1  1  1  1\n",
              " 1  1  1  1  1  1  1  1  1\n",
              " 1  1  1  1  1  1  1  1  1\n",
              " 1  1  1  1  1  1  1  1  1\n",
              " 1  1  1  1  1  1  1  1  1\n",
              " 1  1  1  1  1  1  1  1  1\n",
              " 1  1  1  1  1  1  1  1  1\n",
              " 1  1  1  1  1  1  1  1  1\n",
              " 1  1  1  1  1  1  1  1  1"
            ]
          },
          "metadata": {},
          "execution_count": 25
        }
      ]
    },
    {
      "cell_type": "markdown",
      "metadata": {
        "id": "y73N7CgOZqav"
      },
      "source": [
        "# Create a 5x5 matrix with values 1,2,3,4 just below the diagonal "
      ]
    },
    {
      "cell_type": "code",
      "metadata": {
        "id": "QIqrenkVIqxc",
        "colab": {
          "base_uri": "https://localhost:8080/"
        },
        "outputId": "014e3b07-07c2-4ae3-dfd8-bf6a25cd7d24"
      },
      "source": [
        "diagonal = [1, 2, 3, 4]\n",
        "ld = Bidiagonal(zeros(5), diagonal, :L)\n",
        "# : in this context is an identifier essentially used to identify an entity. Here if you use :U instead, that uses a different implementation which would place the diagonal vector on top of zeros instead"
      ],
      "execution_count": 29,
      "outputs": [
        {
          "output_type": "execute_result",
          "data": {
            "text/plain": [
              "5×5 Bidiagonal{Float64, Vector{Float64}}:\n",
              " 0.0   ⋅    ⋅    ⋅    ⋅ \n",
              " 1.0  0.0   ⋅    ⋅    ⋅ \n",
              "  ⋅   2.0  0.0   ⋅    ⋅ \n",
              "  ⋅    ⋅   3.0  0.0   ⋅ \n",
              "  ⋅    ⋅    ⋅   4.0  0.0"
            ]
          },
          "metadata": {},
          "execution_count": 29
        }
      ]
    },
    {
      "cell_type": "markdown",
      "metadata": {
        "id": "Ng5RGcEcYrUi"
      },
      "source": [
        "# Consider a (6,7,8) shape array, what is the index (x,y,z) of the 100th element?"
      ]
    },
    {
      "cell_type": "code",
      "metadata": {
        "colab": {
          "base_uri": "https://localhost:8080/"
        },
        "id": "jegJCYNdS-Tf",
        "outputId": "4898090d-0e11-4b29-b431-2bf373e24d1e"
      },
      "source": [
        "arr = rand(Int8, (6, 7, 8))\n",
        "c_x = CartesianIndices(arr)\n",
        "arr[c_x[100]]"
      ],
      "execution_count": 36,
      "outputs": [
        {
          "output_type": "execute_result",
          "data": {
            "text/plain": [
              "66"
            ]
          },
          "metadata": {},
          "execution_count": 36
        }
      ]
    },
    {
      "cell_type": "markdown",
      "metadata": {
        "id": "dXPD2vb0aJ5S"
      },
      "source": [
        "# Create a checkerboard 8x8 matrix using the tile function"
      ]
    },
    {
      "cell_type": "code",
      "metadata": {
        "colab": {
          "base_uri": "https://localhost:8080/"
        },
        "id": "guPBbWhqXyI9",
        "outputId": "a0a5ce33-0212-41f8-8f72-89ac3a36f898"
      },
      "source": [
        "base_mat = [[1, 0] [0, 1]]\n",
        "repeat(base_mat,4,4)"
      ],
      "execution_count": 38,
      "outputs": [
        {
          "output_type": "execute_result",
          "data": {
            "text/plain": [
              "8×8 Matrix{Int64}:\n",
              " 1  0  1  0  1  0  1  0\n",
              " 0  1  0  1  0  1  0  1\n",
              " 1  0  1  0  1  0  1  0\n",
              " 0  1  0  1  0  1  0  1\n",
              " 1  0  1  0  1  0  1  0\n",
              " 0  1  0  1  0  1  0  1\n",
              " 1  0  1  0  1  0  1  0\n",
              " 0  1  0  1  0  1  0  1"
            ]
          },
          "metadata": {},
          "execution_count": 38
        }
      ]
    },
    {
      "cell_type": "code",
      "metadata": {
        "id": "w2gdfqaSaAfn"
      },
      "source": [
        ""
      ],
      "execution_count": null,
      "outputs": []
    }
  ]
}