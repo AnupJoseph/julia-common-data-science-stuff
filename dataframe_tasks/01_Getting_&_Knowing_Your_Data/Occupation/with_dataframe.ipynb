{
  "nbformat": 4,
  "nbformat_minor": 0,
  "metadata": {
    "colab": {
      "name": "01_Getting_&_Knowing_Your_Data_Occupation.ipynb",
      "provenance": [],
      "collapsed_sections": []
    },
    "kernelspec": {
      "display_name": "Julia",
      "language": "julia",
      "name": "julia"
    },
    "language_info": {
      "file_extension": ".jl",
      "mimetype": "application/julia",
      "name": "julia"
    }
  },
  "cells": [
    {
      "cell_type": "markdown",
      "metadata": {
        "id": "f_1dr-2W5iSU"
      },
      "source": [
        "# Getting Started with Julia in Colab/Jupyter\n",
        "You can either run this notebook in Google Colab, or using Jupyter on your own machine."
      ]
    },
    {
      "cell_type": "markdown",
      "metadata": {
        "id": "6ew60wXrZM0W"
      },
      "source": [
        "## Running on Google Colab\n",
        "1. Work on a copy of this notebook: _File_ > _Save a copy in Drive_ (you will need a Google account). Alternatively, you can download the notebook using _File_ > _Download .ipynb_, then upload it to [Colab](https://colab.research.google.com/).\n",
        "2. Execute the following cell (click on it and press Ctrl+Enter) to install Julia, IJulia (the Jupyter kernel for Julia) and other packages. You can update `JULIA_VERSION` and the other parameters, if you know what you're doing. Installation takes 2-3 minutes.\n",
        "3. Reload this page (press Ctrl+R, or ⌘+R, or the F5 key) and continue to the _Checking the Installation_ section.\n",
        "\n",
        "* _Note_: If your Colab Runtime gets reset (e.g., due to inactivity), repeat steps 2 and 3."
      ]
    },
    {
      "cell_type": "code",
      "metadata": {
        "id": "GIeFXS0F0zww",
        "colab": {
          "base_uri": "https://localhost:8080/"
        },
        "outputId": "392e158e-84e0-471a-b973-a9a75c23773b"
      },
      "source": [
        "%%shell\n",
        "set -e\n",
        "\n",
        "#---------------------------------------------------#\n",
        "JULIA_VERSION=\"1.6.0\" # any version ≥ 0.7.0\n",
        "JULIA_PACKAGES=\"IJulia DataFrames CSV Pipe StatsBase\"\n",
        "JULIA_PACKAGES_IF_GPU=\"CUDA\"\n",
        "JULIA_NUM_THREADS=4\n",
        "#---------------------------------------------------#\n",
        "\n",
        "if [ -n \"$COLAB_GPU\" ] && [ -z `which julia` ]; then\n",
        "  # Install Julia\n",
        "  JULIA_VER=`cut -d '.' -f -2 <<< \"$JULIA_VERSION\"`\n",
        "  echo \"Installing Julia $JULIA_VERSION on the current Colab Runtime...\"\n",
        "  BASE_URL=\"https://julialang-s3.julialang.org/bin/linux/x64\"\n",
        "  URL=\"$BASE_URL/$JULIA_VER/julia-$JULIA_VERSION-linux-x86_64.tar.gz\"\n",
        "  wget -nv $URL -O /tmp/julia.tar.gz # -nv means \"not verbose\"\n",
        "  tar -x -f /tmp/julia.tar.gz -C /usr/local --strip-components 1\n",
        "  rm /tmp/julia.tar.gz\n",
        "\n",
        "  # Install Packages\n",
        "  if [ \"$COLAB_GPU\" = \"1\" ]; then\n",
        "      JULIA_PACKAGES=\"$JULIA_PACKAGES $JULIA_PACKAGES_IF_GPU\"\n",
        "  fi\n",
        "  for PKG in `echo $JULIA_PACKAGES`; do\n",
        "    echo \"Installing Julia package $PKG...\"\n",
        "    julia -e 'using Pkg; pkg\"add '$PKG'; precompile;\"' &> /dev/null\n",
        "  done\n",
        "\n",
        "  # Install kernel and rename it to \"julia\"\n",
        "  echo \"Installing IJulia kernel...\"\n",
        "  julia -e 'using IJulia; IJulia.installkernel(\"julia\", env=Dict(\n",
        "      \"JULIA_NUM_THREADS\"=>\"'\"$JULIA_NUM_THREADS\"'\"))'\n",
        "  KERNEL_DIR=`julia -e \"using IJulia; print(IJulia.kerneldir())\"`\n",
        "  KERNEL_NAME=`ls -d \"$KERNEL_DIR\"/julia*`\n",
        "  mv -f $KERNEL_NAME \"$KERNEL_DIR\"/julia  \n",
        "\n",
        "  echo ''\n",
        "  echo \"Successfully installed `julia -v`!\"\n",
        "  echo \"Please reload this page (press Ctrl+R, ⌘+R, or the F5 key) then\"\n",
        "  echo \"jump to the 'Checking the Installation' section.\"\n",
        "fi"
      ],
      "execution_count": null,
      "outputs": [
        {
          "output_type": "stream",
          "name": "stdout",
          "text": [
            "Installing Julia 1.6.0 on the current Colab Runtime...\n",
            "2022-01-07 04:16:21 URL:https://julialang-s3.julialang.org/bin/linux/x64/1.6/julia-1.6.0-linux-x86_64.tar.gz [112838927/112838927] -> \"/tmp/julia.tar.gz\" [1]\n",
            "Installing Julia package IJulia...\n",
            "Installing Julia package DataFrames...\n",
            "Installing Julia package CSV...\n",
            "Installing Julia package Pipe...\n",
            "Installing Julia package StatsBase...\n",
            "Installing IJulia kernel...\n",
            "\u001b[36m\u001b[1m[ \u001b[22m\u001b[39m\u001b[36m\u001b[1mInfo: \u001b[22m\u001b[39mInstalling julia kernelspec in /root/.local/share/jupyter/kernels/julia-1.6\n",
            "\n",
            "Successfully installed julia version 1.6.0!\n",
            "Please reload this page (press Ctrl+R, ⌘+R, or the F5 key) then\n",
            "jump to the 'Checking the Installation' section.\n"
          ]
        },
        {
          "output_type": "execute_result",
          "data": {
            "text/plain": [
              ""
            ]
          },
          "metadata": {},
          "execution_count": 1
        }
      ]
    },
    {
      "cell_type": "markdown",
      "metadata": {
        "id": "-OS3Ac017T1i"
      },
      "source": [
        "## Checking the Installation\n",
        "The `versioninfo()` function should print your Julia version and some other info about the system (if you ever ask for help or file an issue about Julia, you should always provide this information)."
      ]
    },
    {
      "cell_type": "code",
      "metadata": {
        "id": "EEzvvzCl1i0F",
        "colab": {
          "base_uri": "https://localhost:8080/"
        },
        "outputId": "aaae34ab-e656-44da-b6ca-dd7bd37a061b"
      },
      "source": [
        "versioninfo()"
      ],
      "execution_count": 1,
      "outputs": [
        {
          "output_type": "stream",
          "name": "stdout",
          "text": [
            "Julia Version 1.6.0\n",
            "Commit f9720dc2eb (2021-03-24 12:55 UTC)\n",
            "Platform Info:\n",
            "  OS: Linux (x86_64-pc-linux-gnu)\n",
            "  CPU: Intel(R) Xeon(R) CPU @ 2.20GHz\n",
            "  WORD_SIZE: 64\n",
            "  LIBM: libopenlibm\n",
            "  LLVM: libLLVM-11.0.1 (ORCJIT, broadwell)\n",
            "Environment:\n",
            "  JULIA_NUM_THREADS = 4\n"
          ]
        }
      ]
    },
    {
      "cell_type": "markdown",
      "source": [
        "# Step 1. Import the necessary libraries"
      ],
      "metadata": {
        "id": "CbIvqXQ5US64"
      }
    },
    {
      "cell_type": "code",
      "source": [
        "using CSV\n",
        "using DataFrames\n",
        "using Pipe\n",
        "using Statistics\n",
        "using StatsBase"
      ],
      "metadata": {
        "id": "HtlL0IXoUPRT"
      },
      "execution_count": 2,
      "outputs": []
    },
    {
      "cell_type": "markdown",
      "source": [
        "# Step 2. Import the dataset from this [address](https://raw.githubusercontent.com/justmarkham/DAT8/master/data/u.user)."
      ],
      "metadata": {
        "id": "EDw41deiUW6H"
      }
    },
    {
      "cell_type": "code",
      "source": [
        "URL = \"https://raw.githubusercontent.com/justmarkham/DAT8/master/data/u.user\"\n",
        "download(URL, \"user.dsv\")"
      ],
      "metadata": {
        "colab": {
          "base_uri": "https://localhost:8080/"
        },
        "id": "QDp10PmCUTrr",
        "outputId": "1c1de484-ded0-457c-94a6-cbacff69870f"
      },
      "execution_count": 3,
      "outputs": [
        {
          "output_type": "execute_result",
          "data": {
            "text/plain": [
              "\"user.dsv\""
            ]
          },
          "metadata": {},
          "execution_count": 3
        }
      ]
    },
    {
      "cell_type": "markdown",
      "source": [
        "# Step 3. Assign it to a variable called users and use the 'user_id' as index"
      ],
      "metadata": {
        "id": "8nCN5zLbU_VT"
      }
    },
    {
      "cell_type": "code",
      "source": [
        "users = CSV.read(\"user.dsv\",DataFrame,delim=\"|\")\n",
        "users\n",
        "# Indices don't really exist in Julia DataFrames"
      ],
      "metadata": {
        "colab": {
          "base_uri": "https://localhost:8080/",
          "height": 753
        },
        "id": "kq9sxRnMUmXu",
        "outputId": "979a5cfe-bbf0-4d2c-8118-4e915c1cc480"
      },
      "execution_count": 4,
      "outputs": [
        {
          "output_type": "execute_result",
          "data": {
            "text/latex": "\\begin{tabular}{r|ccccc}\n\t& user\\_id & age & gender & occupation & zip\\_code\\\\\n\t\\hline\n\t& Int64 & Int64 & String1 & String15 & String7\\\\\n\t\\hline\n\t1 & 1 & 24 & M & technician & 85711 \\\\\n\t2 & 2 & 53 & F & other & 94043 \\\\\n\t3 & 3 & 23 & M & writer & 32067 \\\\\n\t4 & 4 & 24 & M & technician & 43537 \\\\\n\t5 & 5 & 33 & F & other & 15213 \\\\\n\t6 & 6 & 42 & M & executive & 98101 \\\\\n\t7 & 7 & 57 & M & administrator & 91344 \\\\\n\t8 & 8 & 36 & M & administrator & 05201 \\\\\n\t9 & 9 & 29 & M & student & 01002 \\\\\n\t10 & 10 & 53 & M & lawyer & 90703 \\\\\n\t11 & 11 & 39 & F & other & 30329 \\\\\n\t12 & 12 & 28 & F & other & 06405 \\\\\n\t13 & 13 & 47 & M & educator & 29206 \\\\\n\t14 & 14 & 45 & M & scientist & 55106 \\\\\n\t15 & 15 & 49 & F & educator & 97301 \\\\\n\t16 & 16 & 21 & M & entertainment & 10309 \\\\\n\t17 & 17 & 30 & M & programmer & 06355 \\\\\n\t18 & 18 & 35 & F & other & 37212 \\\\\n\t19 & 19 & 40 & M & librarian & 02138 \\\\\n\t20 & 20 & 42 & F & homemaker & 95660 \\\\\n\t21 & 21 & 26 & M & writer & 30068 \\\\\n\t22 & 22 & 25 & M & writer & 40206 \\\\\n\t23 & 23 & 30 & F & artist & 48197 \\\\\n\t24 & 24 & 21 & F & artist & 94533 \\\\\n\t25 & 25 & 39 & M & engineer & 55107 \\\\\n\t26 & 26 & 49 & M & engineer & 21044 \\\\\n\t27 & 27 & 40 & F & librarian & 30030 \\\\\n\t28 & 28 & 32 & M & writer & 55369 \\\\\n\t29 & 29 & 41 & M & programmer & 94043 \\\\\n\t30 & 30 & 7 & M & student & 55436 \\\\\n\t$\\dots$ & $\\dots$ & $\\dots$ & $\\dots$ & $\\dots$ & $\\dots$ \\\\\n\\end{tabular}\n",
            "text/html": [
              "<div class=\"data-frame\"><p>943 rows × 5 columns</p><table class=\"data-frame\"><thead><tr><th></th><th>user_id</th><th>age</th><th>gender</th><th>occupation</th><th>zip_code</th></tr><tr><th></th><th title=\"Int64\">Int64</th><th title=\"Int64\">Int64</th><th title=\"String1\">String1</th><th title=\"String15\">String15</th><th title=\"String7\">String7</th></tr></thead><tbody><tr><th>1</th><td>1</td><td>24</td><td>M</td><td>technician</td><td>85711</td></tr><tr><th>2</th><td>2</td><td>53</td><td>F</td><td>other</td><td>94043</td></tr><tr><th>3</th><td>3</td><td>23</td><td>M</td><td>writer</td><td>32067</td></tr><tr><th>4</th><td>4</td><td>24</td><td>M</td><td>technician</td><td>43537</td></tr><tr><th>5</th><td>5</td><td>33</td><td>F</td><td>other</td><td>15213</td></tr><tr><th>6</th><td>6</td><td>42</td><td>M</td><td>executive</td><td>98101</td></tr><tr><th>7</th><td>7</td><td>57</td><td>M</td><td>administrator</td><td>91344</td></tr><tr><th>8</th><td>8</td><td>36</td><td>M</td><td>administrator</td><td>05201</td></tr><tr><th>9</th><td>9</td><td>29</td><td>M</td><td>student</td><td>01002</td></tr><tr><th>10</th><td>10</td><td>53</td><td>M</td><td>lawyer</td><td>90703</td></tr><tr><th>11</th><td>11</td><td>39</td><td>F</td><td>other</td><td>30329</td></tr><tr><th>12</th><td>12</td><td>28</td><td>F</td><td>other</td><td>06405</td></tr><tr><th>13</th><td>13</td><td>47</td><td>M</td><td>educator</td><td>29206</td></tr><tr><th>14</th><td>14</td><td>45</td><td>M</td><td>scientist</td><td>55106</td></tr><tr><th>15</th><td>15</td><td>49</td><td>F</td><td>educator</td><td>97301</td></tr><tr><th>16</th><td>16</td><td>21</td><td>M</td><td>entertainment</td><td>10309</td></tr><tr><th>17</th><td>17</td><td>30</td><td>M</td><td>programmer</td><td>06355</td></tr><tr><th>18</th><td>18</td><td>35</td><td>F</td><td>other</td><td>37212</td></tr><tr><th>19</th><td>19</td><td>40</td><td>M</td><td>librarian</td><td>02138</td></tr><tr><th>20</th><td>20</td><td>42</td><td>F</td><td>homemaker</td><td>95660</td></tr><tr><th>21</th><td>21</td><td>26</td><td>M</td><td>writer</td><td>30068</td></tr><tr><th>22</th><td>22</td><td>25</td><td>M</td><td>writer</td><td>40206</td></tr><tr><th>23</th><td>23</td><td>30</td><td>F</td><td>artist</td><td>48197</td></tr><tr><th>24</th><td>24</td><td>21</td><td>F</td><td>artist</td><td>94533</td></tr><tr><th>25</th><td>25</td><td>39</td><td>M</td><td>engineer</td><td>55107</td></tr><tr><th>26</th><td>26</td><td>49</td><td>M</td><td>engineer</td><td>21044</td></tr><tr><th>27</th><td>27</td><td>40</td><td>F</td><td>librarian</td><td>30030</td></tr><tr><th>28</th><td>28</td><td>32</td><td>M</td><td>writer</td><td>55369</td></tr><tr><th>29</th><td>29</td><td>41</td><td>M</td><td>programmer</td><td>94043</td></tr><tr><th>30</th><td>30</td><td>7</td><td>M</td><td>student</td><td>55436</td></tr><tr><th>&vellip;</th><td>&vellip;</td><td>&vellip;</td><td>&vellip;</td><td>&vellip;</td><td>&vellip;</td></tr></tbody></table></div>"
            ],
            "text/plain": [
              "\u001b[1m943×5 DataFrame\u001b[0m\n",
              "\u001b[1m Row \u001b[0m│\u001b[1m user_id \u001b[0m\u001b[1m age   \u001b[0m\u001b[1m gender  \u001b[0m\u001b[1m occupation    \u001b[0m\u001b[1m zip_code \u001b[0m\n",
              "\u001b[1m     \u001b[0m│\u001b[90m Int64   \u001b[0m\u001b[90m Int64 \u001b[0m\u001b[90m String1 \u001b[0m\u001b[90m String15      \u001b[0m\u001b[90m String7  \u001b[0m\n",
              "─────┼──────────────────────────────────────────────────\n",
              "   1 │       1     24  M        technician     85711\n",
              "   2 │       2     53  F        other          94043\n",
              "   3 │       3     23  M        writer         32067\n",
              "   4 │       4     24  M        technician     43537\n",
              "   5 │       5     33  F        other          15213\n",
              "   6 │       6     42  M        executive      98101\n",
              "   7 │       7     57  M        administrator  91344\n",
              "   8 │       8     36  M        administrator  05201\n",
              "   9 │       9     29  M        student        01002\n",
              "  10 │      10     53  M        lawyer         90703\n",
              "  11 │      11     39  F        other          30329\n",
              "  ⋮  │    ⋮       ⋮       ⋮           ⋮           ⋮\n",
              " 934 │     934     61  M        engineer       22902\n",
              " 935 │     935     42  M        doctor         66221\n",
              " 936 │     936     24  M        other          32789\n",
              " 937 │     937     48  M        educator       98072\n",
              " 938 │     938     38  F        technician     55038\n",
              " 939 │     939     26  F        student        33319\n",
              " 940 │     940     32  M        administrator  02215\n",
              " 941 │     941     20  M        student        97229\n",
              " 942 │     942     48  F        librarian      78209\n",
              " 943 │     943     22  M        student        77841\n",
              "\u001b[36m                                        922 rows omitted\u001b[0m"
            ]
          },
          "metadata": {},
          "execution_count": 4
        }
      ]
    },
    {
      "cell_type": "markdown",
      "source": [
        "# Step 4. See the first 25 entries"
      ],
      "metadata": {
        "id": "BJf8KhQTVmOS"
      }
    },
    {
      "cell_type": "code",
      "source": [
        "first(users, 25)"
      ],
      "metadata": {
        "colab": {
          "base_uri": "https://localhost:8080/",
          "height": 625
        },
        "id": "l3m6PRJcVkYI",
        "outputId": "8d02fddf-f3a4-45ad-b288-19aa743a9b15"
      },
      "execution_count": 5,
      "outputs": [
        {
          "output_type": "execute_result",
          "data": {
            "text/latex": "\\begin{tabular}{r|ccccc}\n\t& user\\_id & age & gender & occupation & zip\\_code\\\\\n\t\\hline\n\t& Int64 & Int64 & String1 & String15 & String7\\\\\n\t\\hline\n\t1 & 1 & 24 & M & technician & 85711 \\\\\n\t2 & 2 & 53 & F & other & 94043 \\\\\n\t3 & 3 & 23 & M & writer & 32067 \\\\\n\t4 & 4 & 24 & M & technician & 43537 \\\\\n\t5 & 5 & 33 & F & other & 15213 \\\\\n\t6 & 6 & 42 & M & executive & 98101 \\\\\n\t7 & 7 & 57 & M & administrator & 91344 \\\\\n\t8 & 8 & 36 & M & administrator & 05201 \\\\\n\t9 & 9 & 29 & M & student & 01002 \\\\\n\t10 & 10 & 53 & M & lawyer & 90703 \\\\\n\t11 & 11 & 39 & F & other & 30329 \\\\\n\t12 & 12 & 28 & F & other & 06405 \\\\\n\t13 & 13 & 47 & M & educator & 29206 \\\\\n\t14 & 14 & 45 & M & scientist & 55106 \\\\\n\t15 & 15 & 49 & F & educator & 97301 \\\\\n\t16 & 16 & 21 & M & entertainment & 10309 \\\\\n\t17 & 17 & 30 & M & programmer & 06355 \\\\\n\t18 & 18 & 35 & F & other & 37212 \\\\\n\t19 & 19 & 40 & M & librarian & 02138 \\\\\n\t20 & 20 & 42 & F & homemaker & 95660 \\\\\n\t21 & 21 & 26 & M & writer & 30068 \\\\\n\t22 & 22 & 25 & M & writer & 40206 \\\\\n\t23 & 23 & 30 & F & artist & 48197 \\\\\n\t24 & 24 & 21 & F & artist & 94533 \\\\\n\t25 & 25 & 39 & M & engineer & 55107 \\\\\n\\end{tabular}\n",
            "text/html": [
              "<div class=\"data-frame\"><p>25 rows × 5 columns</p><table class=\"data-frame\"><thead><tr><th></th><th>user_id</th><th>age</th><th>gender</th><th>occupation</th><th>zip_code</th></tr><tr><th></th><th title=\"Int64\">Int64</th><th title=\"Int64\">Int64</th><th title=\"String1\">String1</th><th title=\"String15\">String15</th><th title=\"String7\">String7</th></tr></thead><tbody><tr><th>1</th><td>1</td><td>24</td><td>M</td><td>technician</td><td>85711</td></tr><tr><th>2</th><td>2</td><td>53</td><td>F</td><td>other</td><td>94043</td></tr><tr><th>3</th><td>3</td><td>23</td><td>M</td><td>writer</td><td>32067</td></tr><tr><th>4</th><td>4</td><td>24</td><td>M</td><td>technician</td><td>43537</td></tr><tr><th>5</th><td>5</td><td>33</td><td>F</td><td>other</td><td>15213</td></tr><tr><th>6</th><td>6</td><td>42</td><td>M</td><td>executive</td><td>98101</td></tr><tr><th>7</th><td>7</td><td>57</td><td>M</td><td>administrator</td><td>91344</td></tr><tr><th>8</th><td>8</td><td>36</td><td>M</td><td>administrator</td><td>05201</td></tr><tr><th>9</th><td>9</td><td>29</td><td>M</td><td>student</td><td>01002</td></tr><tr><th>10</th><td>10</td><td>53</td><td>M</td><td>lawyer</td><td>90703</td></tr><tr><th>11</th><td>11</td><td>39</td><td>F</td><td>other</td><td>30329</td></tr><tr><th>12</th><td>12</td><td>28</td><td>F</td><td>other</td><td>06405</td></tr><tr><th>13</th><td>13</td><td>47</td><td>M</td><td>educator</td><td>29206</td></tr><tr><th>14</th><td>14</td><td>45</td><td>M</td><td>scientist</td><td>55106</td></tr><tr><th>15</th><td>15</td><td>49</td><td>F</td><td>educator</td><td>97301</td></tr><tr><th>16</th><td>16</td><td>21</td><td>M</td><td>entertainment</td><td>10309</td></tr><tr><th>17</th><td>17</td><td>30</td><td>M</td><td>programmer</td><td>06355</td></tr><tr><th>18</th><td>18</td><td>35</td><td>F</td><td>other</td><td>37212</td></tr><tr><th>19</th><td>19</td><td>40</td><td>M</td><td>librarian</td><td>02138</td></tr><tr><th>20</th><td>20</td><td>42</td><td>F</td><td>homemaker</td><td>95660</td></tr><tr><th>21</th><td>21</td><td>26</td><td>M</td><td>writer</td><td>30068</td></tr><tr><th>22</th><td>22</td><td>25</td><td>M</td><td>writer</td><td>40206</td></tr><tr><th>23</th><td>23</td><td>30</td><td>F</td><td>artist</td><td>48197</td></tr><tr><th>24</th><td>24</td><td>21</td><td>F</td><td>artist</td><td>94533</td></tr><tr><th>25</th><td>25</td><td>39</td><td>M</td><td>engineer</td><td>55107</td></tr></tbody></table></div>"
            ],
            "text/plain": [
              "\u001b[1m25×5 DataFrame\u001b[0m\n",
              "\u001b[1m Row \u001b[0m│\u001b[1m user_id \u001b[0m\u001b[1m age   \u001b[0m\u001b[1m gender  \u001b[0m\u001b[1m occupation    \u001b[0m\u001b[1m zip_code \u001b[0m\n",
              "\u001b[1m     \u001b[0m│\u001b[90m Int64   \u001b[0m\u001b[90m Int64 \u001b[0m\u001b[90m String1 \u001b[0m\u001b[90m String15      \u001b[0m\u001b[90m String7  \u001b[0m\n",
              "─────┼──────────────────────────────────────────────────\n",
              "   1 │       1     24  M        technician     85711\n",
              "   2 │       2     53  F        other          94043\n",
              "   3 │       3     23  M        writer         32067\n",
              "   4 │       4     24  M        technician     43537\n",
              "   5 │       5     33  F        other          15213\n",
              "   6 │       6     42  M        executive      98101\n",
              "   7 │       7     57  M        administrator  91344\n",
              "   8 │       8     36  M        administrator  05201\n",
              "   9 │       9     29  M        student        01002\n",
              "  10 │      10     53  M        lawyer         90703\n",
              "  11 │      11     39  F        other          30329\n",
              "  ⋮  │    ⋮       ⋮       ⋮           ⋮           ⋮\n",
              "  16 │      16     21  M        entertainment  10309\n",
              "  17 │      17     30  M        programmer     06355\n",
              "  18 │      18     35  F        other          37212\n",
              "  19 │      19     40  M        librarian      02138\n",
              "  20 │      20     42  F        homemaker      95660\n",
              "  21 │      21     26  M        writer         30068\n",
              "  22 │      22     25  M        writer         40206\n",
              "  23 │      23     30  F        artist         48197\n",
              "  24 │      24     21  F        artist         94533\n",
              "  25 │      25     39  M        engineer       55107\n",
              "\u001b[36m                                          4 rows omitted\u001b[0m"
            ]
          },
          "metadata": {},
          "execution_count": 5
        }
      ]
    },
    {
      "cell_type": "markdown",
      "source": [
        "# Step 5. See the last 10 entries"
      ],
      "metadata": {
        "id": "BlUbh_MQVp3r"
      }
    },
    {
      "cell_type": "code",
      "source": [
        "last(users, 10)"
      ],
      "metadata": {
        "colab": {
          "base_uri": "https://localhost:8080/",
          "height": 305
        },
        "id": "dYzKT236U9Qp",
        "outputId": "a3049fac-6d3e-4391-de40-05021c20ff0b"
      },
      "execution_count": 6,
      "outputs": [
        {
          "output_type": "execute_result",
          "data": {
            "text/latex": "\\begin{tabular}{r|ccccc}\n\t& user\\_id & age & gender & occupation & zip\\_code\\\\\n\t\\hline\n\t& Int64 & Int64 & String1 & String15 & String7\\\\\n\t\\hline\n\t1 & 934 & 61 & M & engineer & 22902 \\\\\n\t2 & 935 & 42 & M & doctor & 66221 \\\\\n\t3 & 936 & 24 & M & other & 32789 \\\\\n\t4 & 937 & 48 & M & educator & 98072 \\\\\n\t5 & 938 & 38 & F & technician & 55038 \\\\\n\t6 & 939 & 26 & F & student & 33319 \\\\\n\t7 & 940 & 32 & M & administrator & 02215 \\\\\n\t8 & 941 & 20 & M & student & 97229 \\\\\n\t9 & 942 & 48 & F & librarian & 78209 \\\\\n\t10 & 943 & 22 & M & student & 77841 \\\\\n\\end{tabular}\n",
            "text/html": [
              "<div class=\"data-frame\"><p>10 rows × 5 columns</p><table class=\"data-frame\"><thead><tr><th></th><th>user_id</th><th>age</th><th>gender</th><th>occupation</th><th>zip_code</th></tr><tr><th></th><th title=\"Int64\">Int64</th><th title=\"Int64\">Int64</th><th title=\"String1\">String1</th><th title=\"String15\">String15</th><th title=\"String7\">String7</th></tr></thead><tbody><tr><th>1</th><td>934</td><td>61</td><td>M</td><td>engineer</td><td>22902</td></tr><tr><th>2</th><td>935</td><td>42</td><td>M</td><td>doctor</td><td>66221</td></tr><tr><th>3</th><td>936</td><td>24</td><td>M</td><td>other</td><td>32789</td></tr><tr><th>4</th><td>937</td><td>48</td><td>M</td><td>educator</td><td>98072</td></tr><tr><th>5</th><td>938</td><td>38</td><td>F</td><td>technician</td><td>55038</td></tr><tr><th>6</th><td>939</td><td>26</td><td>F</td><td>student</td><td>33319</td></tr><tr><th>7</th><td>940</td><td>32</td><td>M</td><td>administrator</td><td>02215</td></tr><tr><th>8</th><td>941</td><td>20</td><td>M</td><td>student</td><td>97229</td></tr><tr><th>9</th><td>942</td><td>48</td><td>F</td><td>librarian</td><td>78209</td></tr><tr><th>10</th><td>943</td><td>22</td><td>M</td><td>student</td><td>77841</td></tr></tbody></table></div>"
            ],
            "text/plain": [
              "\u001b[1m10×5 DataFrame\u001b[0m\n",
              "\u001b[1m Row \u001b[0m│\u001b[1m user_id \u001b[0m\u001b[1m age   \u001b[0m\u001b[1m gender  \u001b[0m\u001b[1m occupation    \u001b[0m\u001b[1m zip_code \u001b[0m\n",
              "\u001b[1m     \u001b[0m│\u001b[90m Int64   \u001b[0m\u001b[90m Int64 \u001b[0m\u001b[90m String1 \u001b[0m\u001b[90m String15      \u001b[0m\u001b[90m String7  \u001b[0m\n",
              "─────┼──────────────────────────────────────────────────\n",
              "   1 │     934     61  M        engineer       22902\n",
              "   2 │     935     42  M        doctor         66221\n",
              "   3 │     936     24  M        other          32789\n",
              "   4 │     937     48  M        educator       98072\n",
              "   5 │     938     38  F        technician     55038\n",
              "   6 │     939     26  F        student        33319\n",
              "   7 │     940     32  M        administrator  02215\n",
              "   8 │     941     20  M        student        97229\n",
              "   9 │     942     48  F        librarian      78209\n",
              "  10 │     943     22  M        student        77841"
            ]
          },
          "metadata": {},
          "execution_count": 6
        }
      ]
    },
    {
      "cell_type": "markdown",
      "source": [
        "# Step 6. What is the number of observations in the dataset?"
      ],
      "metadata": {
        "id": "-6P8AIMeWruj"
      }
    },
    {
      "cell_type": "code",
      "source": [
        "nrow(users)"
      ],
      "metadata": {
        "colab": {
          "base_uri": "https://localhost:8080/"
        },
        "id": "G2UVHKi1VuTB",
        "outputId": "d84d7a33-963c-4929-fc13-d5297aa5cc2a"
      },
      "execution_count": 7,
      "outputs": [
        {
          "output_type": "execute_result",
          "data": {
            "text/plain": [
              "943"
            ]
          },
          "metadata": {},
          "execution_count": 7
        }
      ]
    },
    {
      "cell_type": "markdown",
      "source": [
        "# Step 7. What is the number of columns in the dataset?"
      ],
      "metadata": {
        "id": "6bPkLXHhYcle"
      }
    },
    {
      "cell_type": "code",
      "source": [
        "size(users)[2]"
      ],
      "metadata": {
        "colab": {
          "base_uri": "https://localhost:8080/"
        },
        "id": "fQitIuXSWsYx",
        "outputId": "b876755a-baf6-464a-b9db-0c7806b741ae"
      },
      "execution_count": 8,
      "outputs": [
        {
          "output_type": "execute_result",
          "data": {
            "text/plain": [
              "5"
            ]
          },
          "metadata": {},
          "execution_count": 8
        }
      ]
    },
    {
      "cell_type": "markdown",
      "source": [
        "# Step 8. Print the name of all the columns."
      ],
      "metadata": {
        "id": "Ztx4ytm0ZJGR"
      }
    },
    {
      "cell_type": "code",
      "source": [
        "names(users)"
      ],
      "metadata": {
        "colab": {
          "base_uri": "https://localhost:8080/"
        },
        "id": "1ts048TbYdT2",
        "outputId": "ec1248aa-97c9-4fc7-f8b7-bfaa5a36bf73"
      },
      "execution_count": 9,
      "outputs": [
        {
          "output_type": "execute_result",
          "data": {
            "text/plain": [
              "5-element Vector{String}:\n",
              " \"user_id\"\n",
              " \"age\"\n",
              " \"gender\"\n",
              " \"occupation\"\n",
              " \"zip_code\""
            ]
          },
          "metadata": {},
          "execution_count": 9
        }
      ]
    },
    {
      "cell_type": "markdown",
      "source": [
        "# Step 10. What is the data type of each column?\n"
      ],
      "metadata": {
        "id": "q3l1PAqmatip"
      }
    },
    {
      "cell_type": "code",
      "source": [
        "eltype.(eachcol(users))"
      ],
      "metadata": {
        "colab": {
          "base_uri": "https://localhost:8080/"
        },
        "id": "V-U6z5wrY662",
        "outputId": "3600e8f1-cff2-4693-8b7a-edd103c25b32"
      },
      "execution_count": 10,
      "outputs": [
        {
          "output_type": "execute_result",
          "data": {
            "text/plain": [
              "5-element Vector{DataType}:\n",
              " Int64\n",
              " Int64\n",
              " String1\n",
              " String15\n",
              " String7"
            ]
          },
          "metadata": {},
          "execution_count": 10
        }
      ]
    },
    {
      "cell_type": "markdown",
      "source": [
        "# Step 11. Print only the occupation column"
      ],
      "metadata": {
        "id": "H4JCVrBEa_Zf"
      }
    },
    {
      "cell_type": "code",
      "source": [
        "users[!,:occupation]"
      ],
      "metadata": {
        "colab": {
          "base_uri": "https://localhost:8080/"
        },
        "id": "M-ObVG_RZ3KG",
        "outputId": "5183202f-b586-4eb5-d31a-4739dee0222f"
      },
      "execution_count": 11,
      "outputs": [
        {
          "output_type": "execute_result",
          "data": {
            "text/plain": [
              "943-element PooledArrays.PooledVector{String15, UInt32, SentinelArrays.ChainedVector{UInt32, Vector{UInt32}}}:\n",
              " \"technician\"\n",
              " \"other\"\n",
              " \"writer\"\n",
              " \"technician\"\n",
              " \"other\"\n",
              " \"executive\"\n",
              " \"administrator\"\n",
              " \"administrator\"\n",
              " \"student\"\n",
              " \"lawyer\"\n",
              " \"other\"\n",
              " \"other\"\n",
              " \"educator\"\n",
              " ⋮\n",
              " \"educator\"\n",
              " \"student\"\n",
              " \"engineer\"\n",
              " \"doctor\"\n",
              " \"other\"\n",
              " \"educator\"\n",
              " \"technician\"\n",
              " \"student\"\n",
              " \"administrator\"\n",
              " \"student\"\n",
              " \"librarian\"\n",
              " \"student\""
            ]
          },
          "metadata": {},
          "execution_count": 11
        }
      ]
    },
    {
      "cell_type": "markdown",
      "source": [
        "# Step 12. How many different occupations are in this dataset?"
      ],
      "metadata": {
        "id": "l0Ap5dA_bPUJ"
      }
    },
    {
      "cell_type": "code",
      "source": [
        "size(unique(users[!,:occupation]))"
      ],
      "metadata": {
        "colab": {
          "base_uri": "https://localhost:8080/"
        },
        "id": "dA7dfN631Q_f",
        "outputId": "072028e5-0b23-49c8-dd02-9519688a9f27"
      },
      "execution_count": 20,
      "outputs": [
        {
          "output_type": "execute_result",
          "data": {
            "text/plain": [
              "(21,)"
            ]
          },
          "metadata": {},
          "execution_count": 20
        }
      ]
    },
    {
      "cell_type": "markdown",
      "source": [
        "# Step 13. What is the most frequent occupation?"
      ],
      "metadata": {
        "id": "jSQdVtYW1Vcy"
      }
    },
    {
      "cell_type": "code",
      "source": [
        "value_counts(dataframe, column) = sort!(collect(countmap(dataframe[!, column])), by = x -> x[2], rev = true)"
      ],
      "metadata": {
        "colab": {
          "base_uri": "https://localhost:8080/"
        },
        "id": "l8i-GnNB25vC",
        "outputId": "73755a6d-0733-4a88-da50-7351f1ca4984"
      },
      "execution_count": 27,
      "outputs": [
        {
          "output_type": "execute_result",
          "data": {
            "text/plain": [
              "value_counts (generic function with 1 method)"
            ]
          },
          "metadata": {},
          "execution_count": 27
        }
      ]
    },
    {
      "cell_type": "code",
      "source": [
        "value_counts(users,\"occupation\")[1]"
      ],
      "metadata": {
        "id": "w4lR_SD9dpb_",
        "colab": {
          "base_uri": "https://localhost:8080/"
        },
        "outputId": "007688aa-134f-425b-b6d9-0713178e459f"
      },
      "execution_count": 28,
      "outputs": [
        {
          "output_type": "execute_result",
          "data": {
            "text/plain": [
              "\"student\" => 196"
            ]
          },
          "metadata": {},
          "execution_count": 28
        }
      ]
    },
    {
      "cell_type": "markdown",
      "source": [
        "# Step 14. Summarize the DataFrame.\n"
      ],
      "metadata": {
        "id": "3yXHjYDi2Agk"
      }
    },
    {
      "cell_type": "code",
      "source": [
        "describe(users)"
      ],
      "metadata": {
        "colab": {
          "base_uri": "https://localhost:8080/",
          "height": 198
        },
        "id": "jTNl7p7Jy7KL",
        "outputId": "15aa3b34-92ef-4797-baa6-e80ec60e30fb"
      },
      "execution_count": 23,
      "outputs": [
        {
          "output_type": "execute_result",
          "data": {
            "text/latex": "\\begin{tabular}{r|ccccccc}\n\t& variable & mean & min & median & max & nmissing & eltype\\\\\n\t\\hline\n\t& Symbol & Union… & Any & Union… & Any & Int64 & DataType\\\\\n\t\\hline\n\t1 & user\\_id & 472.0 & 1 & 472.0 & 943 & 0 & Int64 \\\\\n\t2 & age & 34.052 & 7 & 31.0 & 73 & 0 & Int64 \\\\\n\t3 & gender &  & F &  & M & 0 & String1 \\\\\n\t4 & occupation &  & administrator &  & writer & 0 & String15 \\\\\n\t5 & zip\\_code &  & 00000 &  & Y1A6B & 0 & String7 \\\\\n\\end{tabular}\n",
            "text/html": [
              "<div class=\"data-frame\"><p>5 rows × 7 columns</p><table class=\"data-frame\"><thead><tr><th></th><th>variable</th><th>mean</th><th>min</th><th>median</th><th>max</th><th>nmissing</th><th>eltype</th></tr><tr><th></th><th title=\"Symbol\">Symbol</th><th title=\"Union{Nothing, Float64}\">Union…</th><th title=\"Any\">Any</th><th title=\"Union{Nothing, Float64}\">Union…</th><th title=\"Any\">Any</th><th title=\"Int64\">Int64</th><th title=\"DataType\">DataType</th></tr></thead><tbody><tr><th>1</th><td>user_id</td><td>472.0</td><td>1</td><td>472.0</td><td>943</td><td>0</td><td>Int64</td></tr><tr><th>2</th><td>age</td><td>34.052</td><td>7</td><td>31.0</td><td>73</td><td>0</td><td>Int64</td></tr><tr><th>3</th><td>gender</td><td></td><td>F</td><td></td><td>M</td><td>0</td><td>String1</td></tr><tr><th>4</th><td>occupation</td><td></td><td>administrator</td><td></td><td>writer</td><td>0</td><td>String15</td></tr><tr><th>5</th><td>zip_code</td><td></td><td>00000</td><td></td><td>Y1A6B</td><td>0</td><td>String7</td></tr></tbody></table></div>"
            ],
            "text/plain": [
              "\u001b[1m5×7 DataFrame\u001b[0m\n",
              "\u001b[1m Row \u001b[0m│\u001b[1m variable   \u001b[0m\u001b[1m mean   \u001b[0m\u001b[1m min           \u001b[0m\u001b[1m median \u001b[0m\u001b[1m max    \u001b[0m\u001b[1m nmissing \u001b[0m\u001b[1m eltype   \u001b[0m\n",
              "\u001b[1m     \u001b[0m│\u001b[90m Symbol     \u001b[0m\u001b[90m Union… \u001b[0m\u001b[90m Any           \u001b[0m\u001b[90m Union… \u001b[0m\u001b[90m Any    \u001b[0m\u001b[90m Int64    \u001b[0m\u001b[90m DataType \u001b[0m\n",
              "─────┼───────────────────────────────────────────────────────────────────────\n",
              "   1 │ user_id     472.0   1              472.0   943            0  Int64\n",
              "   2 │ age         34.052  7              31.0    73             0  Int64\n",
              "   3 │ gender     \u001b[90m        \u001b[0m F             \u001b[90m        \u001b[0m M              0  String1\n",
              "   4 │ occupation \u001b[90m        \u001b[0m administrator \u001b[90m        \u001b[0m writer         0  String15\n",
              "   5 │ zip_code   \u001b[90m        \u001b[0m 00000         \u001b[90m        \u001b[0m Y1A6B          0  String7"
            ]
          },
          "metadata": {},
          "execution_count": 23
        }
      ]
    },
    {
      "cell_type": "markdown",
      "source": [
        "# Step 16. Summarize only the occupation column\n"
      ],
      "metadata": {
        "id": "HtBPSfZ93Kqz"
      }
    },
    {
      "cell_type": "code",
      "source": [
        "describe(users.occupation)"
      ],
      "metadata": {
        "colab": {
          "base_uri": "https://localhost:8080/"
        },
        "id": "ykKVkrYw1p8H",
        "outputId": "960dc1d2-efc3-400e-f4e2-d67ff40aafc0"
      },
      "execution_count": 24,
      "outputs": [
        {
          "output_type": "stream",
          "name": "stdout",
          "text": [
            "Summary Stats:\n",
            "Length:         943\n",
            "Type:           String15\n",
            "Number Unique:  21\n"
          ]
        }
      ]
    },
    {
      "cell_type": "markdown",
      "source": [
        "# Step 17. What is the mean age of users?\n"
      ],
      "metadata": {
        "id": "lVtwsltf3NEu"
      }
    },
    {
      "cell_type": "code",
      "source": [
        "mean(users[!,:age])"
      ],
      "metadata": {
        "colab": {
          "base_uri": "https://localhost:8080/"
        },
        "id": "gjKv4omA2LXT",
        "outputId": "e3ec05d4-e59f-4174-f441-f77222426ef3"
      },
      "execution_count": 30,
      "outputs": [
        {
          "output_type": "execute_result",
          "data": {
            "text/plain": [
              "34.05196182396607"
            ]
          },
          "metadata": {},
          "execution_count": 30
        }
      ]
    },
    {
      "cell_type": "markdown",
      "source": [
        "# Step 18. What is the age with least occurrence?\n"
      ],
      "metadata": {
        "id": "bDsiu-IB3kJq"
      }
    },
    {
      "cell_type": "code",
      "source": [
        "value_counts(users,\"age\")[end]"
      ],
      "metadata": {
        "colab": {
          "base_uri": "https://localhost:8080/"
        },
        "id": "M6TpZ1uy3F-D",
        "outputId": "5020235f-9961-4b75-81d0-462005e07bb2"
      },
      "execution_count": 32,
      "outputs": [
        {
          "output_type": "execute_result",
          "data": {
            "text/plain": [
              "10 => 1"
            ]
          },
          "metadata": {},
          "execution_count": 32
        }
      ]
    }
  ]
}