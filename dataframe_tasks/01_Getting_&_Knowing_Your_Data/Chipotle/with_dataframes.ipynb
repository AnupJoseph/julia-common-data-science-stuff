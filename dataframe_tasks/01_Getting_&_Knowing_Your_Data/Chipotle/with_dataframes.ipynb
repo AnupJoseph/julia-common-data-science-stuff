{
  "nbformat": 4,
  "nbformat_minor": 0,
  "metadata": {
    "colab": {
      "name": "01_Getting_&_Knowing_Your_Data_Chipotle.ipynb",
      "provenance": [],
      "collapsed_sections": []
    },
    "kernelspec": {
      "display_name": "Julia",
      "language": "julia",
      "name": "julia"
    },
    "language_info": {
      "file_extension": ".jl",
      "mimetype": "application/julia",
      "name": "julia"
    }
  },
  "cells": [
    {
      "cell_type": "markdown",
      "metadata": {
        "id": "f_1dr-2W5iSU"
      },
      "source": [
        "# Getting Started with Julia in Colab/Jupyter\n",
        "You can either run this notebook in Google Colab, or using Jupyter on your own machine."
      ]
    },
    {
      "cell_type": "markdown",
      "metadata": {
        "id": "6ew60wXrZM0W"
      },
      "source": [
        "## Running on Google Colab\n",
        "1. Work on a copy of this notebook: _File_ > _Save a copy in Drive_ (you will need a Google account). Alternatively, you can download the notebook using _File_ > _Download .ipynb_, then upload it to [Colab](https://colab.research.google.com/).\n",
        "2. Execute the following cell (click on it and press Ctrl+Enter) to install Julia, IJulia (the Jupyter kernel for Julia) and other packages. You can update `JULIA_VERSION` and the other parameters, if you know what you're doing. Installation takes 2-3 minutes.\n",
        "3. Reload this page (press Ctrl+R, or ⌘+R, or the F5 key) and continue to the _Checking the Installation_ section.\n",
        "\n",
        "* _Note_: If your Colab Runtime gets reset (e.g., due to inactivity), repeat steps 2 and 3."
      ]
    },
    {
      "cell_type": "code",
      "metadata": {
        "id": "GIeFXS0F0zww",
        "colab": {
          "base_uri": "https://localhost:8080/"
        },
        "outputId": "1fa1ec63-9550-4f9d-cad4-f1f5e353f7eb"
      },
      "source": [
        "%%shell\n",
        "set -e\n",
        "\n",
        "#---------------------------------------------------#\n",
        "JULIA_VERSION=\"1.6.0\" # any version ≥ 0.7.0\n",
        "JULIA_PACKAGES=\"IJulia DataFrames CSV Pipe\"\n",
        "JULIA_PACKAGES_IF_GPU=\"CUDA\"\n",
        "JULIA_NUM_THREADS=4\n",
        "#---------------------------------------------------#\n",
        "\n",
        "if [ -n \"$COLAB_GPU\" ] && [ -z `which julia` ]; then\n",
        "  # Install Julia\n",
        "  JULIA_VER=`cut -d '.' -f -2 <<< \"$JULIA_VERSION\"`\n",
        "  echo \"Installing Julia $JULIA_VERSION on the current Colab Runtime...\"\n",
        "  BASE_URL=\"https://julialang-s3.julialang.org/bin/linux/x64\"\n",
        "  URL=\"$BASE_URL/$JULIA_VER/julia-$JULIA_VERSION-linux-x86_64.tar.gz\"\n",
        "  wget -nv $URL -O /tmp/julia.tar.gz # -nv means \"not verbose\"\n",
        "  tar -x -f /tmp/julia.tar.gz -C /usr/local --strip-components 1\n",
        "  rm /tmp/julia.tar.gz\n",
        "\n",
        "  # Install Packages\n",
        "  if [ \"$COLAB_GPU\" = \"1\" ]; then\n",
        "      JULIA_PACKAGES=\"$JULIA_PACKAGES $JULIA_PACKAGES_IF_GPU\"\n",
        "  fi\n",
        "  for PKG in `echo $JULIA_PACKAGES`; do\n",
        "    echo \"Installing Julia package $PKG...\"\n",
        "    julia -e 'using Pkg; pkg\"add '$PKG'; precompile;\"' &> /dev/null\n",
        "  done\n",
        "\n",
        "  # Install kernel and rename it to \"julia\"\n",
        "  echo \"Installing IJulia kernel...\"\n",
        "  julia -e 'using IJulia; IJulia.installkernel(\"julia\", env=Dict(\n",
        "      \"JULIA_NUM_THREADS\"=>\"'\"$JULIA_NUM_THREADS\"'\"))'\n",
        "  KERNEL_DIR=`julia -e \"using IJulia; print(IJulia.kerneldir())\"`\n",
        "  KERNEL_NAME=`ls -d \"$KERNEL_DIR\"/julia*`\n",
        "  mv -f $KERNEL_NAME \"$KERNEL_DIR\"/julia  \n",
        "\n",
        "  echo ''\n",
        "  echo \"Successfully installed `julia -v`!\"\n",
        "  echo \"Please reload this page (press Ctrl+R, ⌘+R, or the F5 key) then\"\n",
        "  echo \"jump to the 'Checking the Installation' section.\"\n",
        "fi"
      ],
      "execution_count": null,
      "outputs": [
        {
          "output_type": "stream",
          "name": "stdout",
          "text": [
            "Installing Julia 1.6.0 on the current Colab Runtime...\n",
            "2022-01-04 12:47:32 URL:https://storage.googleapis.com/julialang2/bin/linux/x64/1.6/julia-1.6.0-linux-x86_64.tar.gz [112838927/112838927] -> \"/tmp/julia.tar.gz\" [1]\n",
            "Installing Julia package IJulia...\n",
            "Installing Julia package DataFrames...\n",
            "Installing Julia package CSV...\n",
            "Installing Julia package Pipe...\n"
          ]
        }
      ]
    },
    {
      "cell_type": "markdown",
      "metadata": {
        "id": "-OS3Ac017T1i"
      },
      "source": [
        "## Checking the Installation\n",
        "The `versioninfo()` function should print your Julia version and some other info about the system (if you ever ask for help or file an issue about Julia, you should always provide this information)."
      ]
    },
    {
      "cell_type": "code",
      "metadata": {
        "id": "EEzvvzCl1i0F",
        "colab": {
          "base_uri": "https://localhost:8080/"
        },
        "outputId": "ad91a9a4-1de3-433e-bcd4-c98ef5728959"
      },
      "source": [
        "versioninfo()"
      ],
      "execution_count": 1,
      "outputs": [
        {
          "output_type": "stream",
          "name": "stdout",
          "text": [
            "Julia Version 1.6.0\n",
            "Commit f9720dc2eb (2021-03-24 12:55 UTC)\n",
            "Platform Info:\n",
            "  OS: Linux (x86_64-pc-linux-gnu)\n",
            "  CPU: Intel(R) Xeon(R) CPU @ 2.20GHz\n",
            "  WORD_SIZE: 64\n",
            "  LIBM: libopenlibm\n",
            "  LLVM: libLLVM-11.0.1 (ORCJIT, broadwell)\n",
            "Environment:\n",
            "  JULIA_NUM_THREADS = 4\n"
          ]
        }
      ]
    },
    {
      "cell_type": "markdown",
      "source": [
        "# Step 1. Import the necessary libraries"
      ],
      "metadata": {
        "id": "fhzRk5AMa8BX"
      }
    },
    {
      "cell_type": "code",
      "source": [
        "using CSV\n",
        "using DataFrames\n",
        "using Pipe\n",
        "using Statistics"
      ],
      "metadata": {
        "id": "LfTEPQpPZ-SP"
      },
      "execution_count": 2,
      "outputs": []
    },
    {
      "cell_type": "markdown",
      "source": [
        "# Step 2. Import the dataset from this [chipotle](https://raw.githubusercontent.com/justmarkham/DAT8/master/data/chipotle.tsv)."
      ],
      "metadata": {
        "id": "GABXBjvebKcT"
      }
    },
    {
      "cell_type": "code",
      "source": [
        "URL = \"https://raw.githubusercontent.com/justmarkham/DAT8/master/data/chipotle.tsv\"\n",
        "download(URL, \"chipotle.tsv\")"
      ],
      "metadata": {
        "colab": {
          "base_uri": "https://localhost:8080/"
        },
        "id": "SJw-tQ7Ra7eV",
        "outputId": "97af9832-2117-4ae6-e9d6-d6a69e176028"
      },
      "execution_count": 3,
      "outputs": [
        {
          "output_type": "execute_result",
          "data": {
            "text/plain": [
              "\"chipotle.tsv\""
            ]
          },
          "metadata": {},
          "execution_count": 3
        }
      ]
    },
    {
      "cell_type": "markdown",
      "source": [
        "# Step 3. Assign it to a variable called chipo."
      ],
      "metadata": {
        "id": "JUdRfXVsbw8w"
      }
    },
    {
      "cell_type": "code",
      "source": [
        "chipo = CSV.read(\"chipotle.tsv\", DataFrame, delim = \"\\t\")"
      ],
      "metadata": {
        "colab": {
          "base_uri": "https://localhost:8080/",
          "height": 753
        },
        "id": "m5bqn4ItbMGd",
        "outputId": "27d34d35-ae74-44da-8791-1371b49d12a5"
      },
      "execution_count": 4,
      "outputs": [
        {
          "output_type": "execute_result",
          "data": {
            "text/latex": "\\begin{tabular}{r|ccccc}\n\t& order\\_id & quantity & item\\_name & choice\\_description & \\\\\n\t\\hline\n\t& Int64 & Int64 & String & String & \\\\\n\t\\hline\n\t1 & 1 & 1 & Chips and Fresh Tomato Salsa & NULL & $\\dots$ \\\\\n\t2 & 1 & 1 & Izze & [Clementine] & $\\dots$ \\\\\n\t3 & 1 & 1 & Nantucket Nectar & [Apple] & $\\dots$ \\\\\n\t4 & 1 & 1 & Chips and Tomatillo-Green Chili Salsa & NULL & $\\dots$ \\\\\n\t5 & 2 & 2 & Chicken Bowl & [Tomatillo-Red Chili Salsa (Hot), [Black Beans, Rice, Cheese, Sour Cream]] & $\\dots$ \\\\\n\t6 & 3 & 1 & Chicken Bowl & [Fresh Tomato Salsa (Mild), [Rice, Cheese, Sour Cream, Guacamole, Lettuce]] & $\\dots$ \\\\\n\t7 & 3 & 1 & Side of Chips & NULL & $\\dots$ \\\\\n\t8 & 4 & 1 & Steak Burrito & [Tomatillo Red Chili Salsa, [Fajita Vegetables, Black Beans, Pinto Beans, Cheese, Sour Cream, Guacamole, Lettuce]] & $\\dots$ \\\\\n\t9 & 4 & 1 & Steak Soft Tacos & [Tomatillo Green Chili Salsa, [Pinto Beans, Cheese, Sour Cream, Lettuce]] & $\\dots$ \\\\\n\t10 & 5 & 1 & Steak Burrito & [Fresh Tomato Salsa, [Rice, Black Beans, Pinto Beans, Cheese, Sour Cream, Lettuce]] & $\\dots$ \\\\\n\t11 & 5 & 1 & Chips and Guacamole & NULL & $\\dots$ \\\\\n\t12 & 6 & 1 & Chicken Crispy Tacos & [Roasted Chili Corn Salsa, [Fajita Vegetables, Rice, Black Beans, Cheese, Sour Cream]] & $\\dots$ \\\\\n\t13 & 6 & 1 & Chicken Soft Tacos & [Roasted Chili Corn Salsa, [Rice, Black Beans, Cheese, Sour Cream]] & $\\dots$ \\\\\n\t14 & 7 & 1 & Chicken Bowl & [Fresh Tomato Salsa, [Fajita Vegetables, Rice, Cheese, Sour Cream, Guacamole]] & $\\dots$ \\\\\n\t15 & 7 & 1 & Chips and Guacamole & NULL & $\\dots$ \\\\\n\t16 & 8 & 1 & Chips and Tomatillo-Green Chili Salsa & NULL & $\\dots$ \\\\\n\t17 & 8 & 1 & Chicken Burrito & [Tomatillo-Green Chili Salsa (Medium), [Pinto Beans, Cheese, Sour Cream]] & $\\dots$ \\\\\n\t18 & 9 & 1 & Chicken Burrito & [Fresh Tomato Salsa (Mild), [Black Beans, Rice, Cheese, Sour Cream, Lettuce]] & $\\dots$ \\\\\n\t19 & 9 & 2 & Canned Soda & [Sprite] & $\\dots$ \\\\\n\t20 & 10 & 1 & Chicken Bowl & [Tomatillo Red Chili Salsa, [Fajita Vegetables, Black Beans, Sour Cream, Cheese, Lettuce]] & $\\dots$ \\\\\n\t21 & 10 & 1 & Chips and Guacamole & NULL & $\\dots$ \\\\\n\t22 & 11 & 1 & Barbacoa Burrito & [[Fresh Tomato Salsa (Mild), Tomatillo-Green Chili Salsa (Medium), Tomatillo-Red Chili Salsa (Hot)], [Rice, Cheese, Sour Cream, Lettuce]] & $\\dots$ \\\\\n\t23 & 11 & 1 & Nantucket Nectar & [Pomegranate Cherry] & $\\dots$ \\\\\n\t24 & 12 & 1 & Chicken Burrito & [[Tomatillo-Green Chili Salsa (Medium), Tomatillo-Red Chili Salsa (Hot)], [Pinto Beans, Rice, Cheese, Sour Cream, Guacamole, Lettuce]] & $\\dots$ \\\\\n\t25 & 12 & 1 & Izze & [Grapefruit] & $\\dots$ \\\\\n\t26 & 13 & 1 & Chips and Fresh Tomato Salsa & NULL & $\\dots$ \\\\\n\t27 & 13 & 1 & Chicken Bowl & [Roasted Chili Corn Salsa (Medium), [Pinto Beans, Rice, Fajita Veggies, Cheese, Sour Cream, Lettuce]] & $\\dots$ \\\\\n\t28 & 14 & 1 & Carnitas Burrito & [[Tomatillo-Green Chili Salsa (Medium), Roasted Chili Corn Salsa (Medium)], [Black Beans, Rice, Sour Cream, Lettuce]] & $\\dots$ \\\\\n\t29 & 14 & 1 & Canned Soda & [Dr. Pepper] & $\\dots$ \\\\\n\t30 & 15 & 1 & Chicken Burrito & [Tomatillo-Green Chili Salsa (Medium), [Pinto Beans, Rice, Cheese, Sour Cream]] & $\\dots$ \\\\\n\t$\\dots$ & $\\dots$ & $\\dots$ & $\\dots$ & $\\dots$ &  \\\\\n\\end{tabular}\n",
            "text/html": [
              "<div class=\"data-frame\"><p>4,622 rows × 5 columns (omitted printing of 1 columns)</p><table class=\"data-frame\"><thead><tr><th></th><th>order_id</th><th>quantity</th><th>item_name</th><th>choice_description</th></tr><tr><th></th><th title=\"Int64\">Int64</th><th title=\"Int64\">Int64</th><th title=\"String\">String</th><th title=\"String\">String</th></tr></thead><tbody><tr><th>1</th><td>1</td><td>1</td><td>Chips and Fresh Tomato Salsa</td><td>NULL</td></tr><tr><th>2</th><td>1</td><td>1</td><td>Izze</td><td>[Clementine]</td></tr><tr><th>3</th><td>1</td><td>1</td><td>Nantucket Nectar</td><td>[Apple]</td></tr><tr><th>4</th><td>1</td><td>1</td><td>Chips and Tomatillo-Green Chili Salsa</td><td>NULL</td></tr><tr><th>5</th><td>2</td><td>2</td><td>Chicken Bowl</td><td>[Tomatillo-Red Chili Salsa (Hot), [Black Beans, Rice, Cheese, Sour Cream]]</td></tr><tr><th>6</th><td>3</td><td>1</td><td>Chicken Bowl</td><td>[Fresh Tomato Salsa (Mild), [Rice, Cheese, Sour Cream, Guacamole, Lettuce]]</td></tr><tr><th>7</th><td>3</td><td>1</td><td>Side of Chips</td><td>NULL</td></tr><tr><th>8</th><td>4</td><td>1</td><td>Steak Burrito</td><td>[Tomatillo Red Chili Salsa, [Fajita Vegetables, Black Beans, Pinto Beans, Cheese, Sour Cream, Guacamole, Lettuce]]</td></tr><tr><th>9</th><td>4</td><td>1</td><td>Steak Soft Tacos</td><td>[Tomatillo Green Chili Salsa, [Pinto Beans, Cheese, Sour Cream, Lettuce]]</td></tr><tr><th>10</th><td>5</td><td>1</td><td>Steak Burrito</td><td>[Fresh Tomato Salsa, [Rice, Black Beans, Pinto Beans, Cheese, Sour Cream, Lettuce]]</td></tr><tr><th>11</th><td>5</td><td>1</td><td>Chips and Guacamole</td><td>NULL</td></tr><tr><th>12</th><td>6</td><td>1</td><td>Chicken Crispy Tacos</td><td>[Roasted Chili Corn Salsa, [Fajita Vegetables, Rice, Black Beans, Cheese, Sour Cream]]</td></tr><tr><th>13</th><td>6</td><td>1</td><td>Chicken Soft Tacos</td><td>[Roasted Chili Corn Salsa, [Rice, Black Beans, Cheese, Sour Cream]]</td></tr><tr><th>14</th><td>7</td><td>1</td><td>Chicken Bowl</td><td>[Fresh Tomato Salsa, [Fajita Vegetables, Rice, Cheese, Sour Cream, Guacamole]]</td></tr><tr><th>15</th><td>7</td><td>1</td><td>Chips and Guacamole</td><td>NULL</td></tr><tr><th>16</th><td>8</td><td>1</td><td>Chips and Tomatillo-Green Chili Salsa</td><td>NULL</td></tr><tr><th>17</th><td>8</td><td>1</td><td>Chicken Burrito</td><td>[Tomatillo-Green Chili Salsa (Medium), [Pinto Beans, Cheese, Sour Cream]]</td></tr><tr><th>18</th><td>9</td><td>1</td><td>Chicken Burrito</td><td>[Fresh Tomato Salsa (Mild), [Black Beans, Rice, Cheese, Sour Cream, Lettuce]]</td></tr><tr><th>19</th><td>9</td><td>2</td><td>Canned Soda</td><td>[Sprite]</td></tr><tr><th>20</th><td>10</td><td>1</td><td>Chicken Bowl</td><td>[Tomatillo Red Chili Salsa, [Fajita Vegetables, Black Beans, Sour Cream, Cheese, Lettuce]]</td></tr><tr><th>21</th><td>10</td><td>1</td><td>Chips and Guacamole</td><td>NULL</td></tr><tr><th>22</th><td>11</td><td>1</td><td>Barbacoa Burrito</td><td>[[Fresh Tomato Salsa (Mild), Tomatillo-Green Chili Salsa (Medium), Tomatillo-Red Chili Salsa (Hot)], [Rice, Cheese, Sour Cream, Lettuce]]</td></tr><tr><th>23</th><td>11</td><td>1</td><td>Nantucket Nectar</td><td>[Pomegranate Cherry]</td></tr><tr><th>24</th><td>12</td><td>1</td><td>Chicken Burrito</td><td>[[Tomatillo-Green Chili Salsa (Medium), Tomatillo-Red Chili Salsa (Hot)], [Pinto Beans, Rice, Cheese, Sour Cream, Guacamole, Lettuce]]</td></tr><tr><th>25</th><td>12</td><td>1</td><td>Izze</td><td>[Grapefruit]</td></tr><tr><th>26</th><td>13</td><td>1</td><td>Chips and Fresh Tomato Salsa</td><td>NULL</td></tr><tr><th>27</th><td>13</td><td>1</td><td>Chicken Bowl</td><td>[Roasted Chili Corn Salsa (Medium), [Pinto Beans, Rice, Fajita Veggies, Cheese, Sour Cream, Lettuce]]</td></tr><tr><th>28</th><td>14</td><td>1</td><td>Carnitas Burrito</td><td>[[Tomatillo-Green Chili Salsa (Medium), Roasted Chili Corn Salsa (Medium)], [Black Beans, Rice, Sour Cream, Lettuce]]</td></tr><tr><th>29</th><td>14</td><td>1</td><td>Canned Soda</td><td>[Dr. Pepper]</td></tr><tr><th>30</th><td>15</td><td>1</td><td>Chicken Burrito</td><td>[Tomatillo-Green Chili Salsa (Medium), [Pinto Beans, Rice, Cheese, Sour Cream]]</td></tr><tr><th>&vellip;</th><td>&vellip;</td><td>&vellip;</td><td>&vellip;</td><td>&vellip;</td></tr></tbody></table></div>"
            ],
            "text/plain": [
              "\u001b[1m4622×5 DataFrame\u001b[0m\n",
              "\u001b[1m  Row \u001b[0m│\u001b[1m order_id \u001b[0m\u001b[1m quantity \u001b[0m\u001b[1m item_name                         \u001b[0m\u001b[1m choice_descript\u001b[0m ⋯\n",
              "\u001b[1m      \u001b[0m│\u001b[90m Int64    \u001b[0m\u001b[90m Int64    \u001b[0m\u001b[90m String                            \u001b[0m\u001b[90m String         \u001b[0m ⋯\n",
              "──────┼─────────────────────────────────────────────────────────────────────────\n",
              "    1 │        1         1  Chips and Fresh Tomato Salsa       NULL            ⋯\n",
              "    2 │        1         1  Izze                               [Clementine]\n",
              "    3 │        1         1  Nantucket Nectar                   [Apple]\n",
              "    4 │        1         1  Chips and Tomatillo-Green Chili …  NULL\n",
              "    5 │        2         2  Chicken Bowl                       [Tomatillo-Red  ⋯\n",
              "    6 │        3         1  Chicken Bowl                       [Fresh Tomato S\n",
              "    7 │        3         1  Side of Chips                      NULL\n",
              "    8 │        4         1  Steak Burrito                      [Tomatillo Red\n",
              "    9 │        4         1  Steak Soft Tacos                   [Tomatillo Gree ⋯\n",
              "   10 │        5         1  Steak Burrito                      [Fresh Tomato S\n",
              "   11 │        5         1  Chips and Guacamole                NULL\n",
              "  ⋮   │    ⋮         ⋮                      ⋮                                  ⋱\n",
              " 4613 │     1831         1  Carnitas Bowl                      [Fresh Tomato S\n",
              " 4614 │     1831         1  Chips                              NULL            ⋯\n",
              " 4615 │     1831         1  Bottled Water                      NULL\n",
              " 4616 │     1832         1  Chicken Soft Tacos                 [Fresh Tomato S\n",
              " 4617 │     1832         1  Chips and Guacamole                NULL\n",
              " 4618 │     1833         1  Steak Burrito                      [Fresh Tomato S ⋯\n",
              " 4619 │     1833         1  Steak Burrito                      [Fresh Tomato S\n",
              " 4620 │     1834         1  Chicken Salad Bowl                 [Fresh Tomato S\n",
              " 4621 │     1834         1  Chicken Salad Bowl                 [Fresh Tomato S\n",
              " 4622 │     1834         1  Chicken Salad Bowl                 [Fresh Tomato S ⋯\n",
              "\u001b[36m                                                 2 columns and 4601 rows omitted\u001b[0m"
            ]
          },
          "metadata": {},
          "execution_count": 4
        }
      ]
    },
    {
      "cell_type": "markdown",
      "source": [
        "# Step 4. See the first 10 entries"
      ],
      "metadata": {
        "id": "a8aDPyZJdf0Z"
      }
    },
    {
      "cell_type": "code",
      "source": [
        "first(chipo, 10)"
      ],
      "metadata": {
        "colab": {
          "base_uri": "https://localhost:8080/",
          "height": 305
        },
        "id": "qWRavmr3b1uX",
        "outputId": "49243d91-770b-47f5-d1ef-913e5f698f12"
      },
      "execution_count": 5,
      "outputs": [
        {
          "output_type": "execute_result",
          "data": {
            "text/latex": "\\begin{tabular}{r|ccccc}\n\t& order\\_id & quantity & item\\_name & choice\\_description & \\\\\n\t\\hline\n\t& Int64 & Int64 & String & String & \\\\\n\t\\hline\n\t1 & 1 & 1 & Chips and Fresh Tomato Salsa & NULL & $\\dots$ \\\\\n\t2 & 1 & 1 & Izze & [Clementine] & $\\dots$ \\\\\n\t3 & 1 & 1 & Nantucket Nectar & [Apple] & $\\dots$ \\\\\n\t4 & 1 & 1 & Chips and Tomatillo-Green Chili Salsa & NULL & $\\dots$ \\\\\n\t5 & 2 & 2 & Chicken Bowl & [Tomatillo-Red Chili Salsa (Hot), [Black Beans, Rice, Cheese, Sour Cream]] & $\\dots$ \\\\\n\t6 & 3 & 1 & Chicken Bowl & [Fresh Tomato Salsa (Mild), [Rice, Cheese, Sour Cream, Guacamole, Lettuce]] & $\\dots$ \\\\\n\t7 & 3 & 1 & Side of Chips & NULL & $\\dots$ \\\\\n\t8 & 4 & 1 & Steak Burrito & [Tomatillo Red Chili Salsa, [Fajita Vegetables, Black Beans, Pinto Beans, Cheese, Sour Cream, Guacamole, Lettuce]] & $\\dots$ \\\\\n\t9 & 4 & 1 & Steak Soft Tacos & [Tomatillo Green Chili Salsa, [Pinto Beans, Cheese, Sour Cream, Lettuce]] & $\\dots$ \\\\\n\t10 & 5 & 1 & Steak Burrito & [Fresh Tomato Salsa, [Rice, Black Beans, Pinto Beans, Cheese, Sour Cream, Lettuce]] & $\\dots$ \\\\\n\\end{tabular}\n",
            "text/html": [
              "<div class=\"data-frame\"><p>10 rows × 5 columns (omitted printing of 1 columns)</p><table class=\"data-frame\"><thead><tr><th></th><th>order_id</th><th>quantity</th><th>item_name</th><th>choice_description</th></tr><tr><th></th><th title=\"Int64\">Int64</th><th title=\"Int64\">Int64</th><th title=\"String\">String</th><th title=\"String\">String</th></tr></thead><tbody><tr><th>1</th><td>1</td><td>1</td><td>Chips and Fresh Tomato Salsa</td><td>NULL</td></tr><tr><th>2</th><td>1</td><td>1</td><td>Izze</td><td>[Clementine]</td></tr><tr><th>3</th><td>1</td><td>1</td><td>Nantucket Nectar</td><td>[Apple]</td></tr><tr><th>4</th><td>1</td><td>1</td><td>Chips and Tomatillo-Green Chili Salsa</td><td>NULL</td></tr><tr><th>5</th><td>2</td><td>2</td><td>Chicken Bowl</td><td>[Tomatillo-Red Chili Salsa (Hot), [Black Beans, Rice, Cheese, Sour Cream]]</td></tr><tr><th>6</th><td>3</td><td>1</td><td>Chicken Bowl</td><td>[Fresh Tomato Salsa (Mild), [Rice, Cheese, Sour Cream, Guacamole, Lettuce]]</td></tr><tr><th>7</th><td>3</td><td>1</td><td>Side of Chips</td><td>NULL</td></tr><tr><th>8</th><td>4</td><td>1</td><td>Steak Burrito</td><td>[Tomatillo Red Chili Salsa, [Fajita Vegetables, Black Beans, Pinto Beans, Cheese, Sour Cream, Guacamole, Lettuce]]</td></tr><tr><th>9</th><td>4</td><td>1</td><td>Steak Soft Tacos</td><td>[Tomatillo Green Chili Salsa, [Pinto Beans, Cheese, Sour Cream, Lettuce]]</td></tr><tr><th>10</th><td>5</td><td>1</td><td>Steak Burrito</td><td>[Fresh Tomato Salsa, [Rice, Black Beans, Pinto Beans, Cheese, Sour Cream, Lettuce]]</td></tr></tbody></table></div>"
            ],
            "text/plain": [
              "\u001b[1m10×5 DataFrame\u001b[0m\n",
              "\u001b[1m Row \u001b[0m│\u001b[1m order_id \u001b[0m\u001b[1m quantity \u001b[0m\u001b[1m item_name                         \u001b[0m\u001b[1m choice_descripti\u001b[0m ⋯\n",
              "\u001b[1m     \u001b[0m│\u001b[90m Int64    \u001b[0m\u001b[90m Int64    \u001b[0m\u001b[90m String                            \u001b[0m\u001b[90m String          \u001b[0m ⋯\n",
              "─────┼──────────────────────────────────────────────────────────────────────────\n",
              "   1 │        1         1  Chips and Fresh Tomato Salsa       NULL             ⋯\n",
              "   2 │        1         1  Izze                               [Clementine]\n",
              "   3 │        1         1  Nantucket Nectar                   [Apple]\n",
              "   4 │        1         1  Chips and Tomatillo-Green Chili …  NULL\n",
              "   5 │        2         2  Chicken Bowl                       [Tomatillo-Red C ⋯\n",
              "   6 │        3         1  Chicken Bowl                       [Fresh Tomato Sa\n",
              "   7 │        3         1  Side of Chips                      NULL\n",
              "   8 │        4         1  Steak Burrito                      [Tomatillo Red C\n",
              "   9 │        4         1  Steak Soft Tacos                   [Tomatillo Green ⋯\n",
              "  10 │        5         1  Steak Burrito                      [Fresh Tomato Sa\n",
              "\u001b[36m                                                               2 columns omitted\u001b[0m"
            ]
          },
          "metadata": {},
          "execution_count": 5
        }
      ]
    },
    {
      "cell_type": "markdown",
      "source": [
        "# Step 5. What is the number of observations in the dataset?"
      ],
      "metadata": {
        "id": "OZnf-DwxdrLP"
      }
    },
    {
      "cell_type": "code",
      "source": [
        "nrow(chipo)"
      ],
      "metadata": {
        "colab": {
          "base_uri": "https://localhost:8080/"
        },
        "id": "-c95wq0TdgjR",
        "outputId": "2fd72686-aada-47b6-b8b9-853a19659ea5"
      },
      "execution_count": 6,
      "outputs": [
        {
          "output_type": "execute_result",
          "data": {
            "text/plain": [
              "4622"
            ]
          },
          "metadata": {},
          "execution_count": 6
        }
      ]
    },
    {
      "cell_type": "markdown",
      "source": [
        "# Step 6. What is the number of columns in the dataset?"
      ],
      "metadata": {
        "id": "fiGhZtQLd0x2"
      }
    },
    {
      "cell_type": "code",
      "source": [
        "ncol(chipo)"
      ],
      "metadata": {
        "colab": {
          "base_uri": "https://localhost:8080/"
        },
        "id": "1OSj5CFXdoej",
        "outputId": "78b66463-5e59-4b54-ff4e-01dec373802a"
      },
      "execution_count": 7,
      "outputs": [
        {
          "output_type": "execute_result",
          "data": {
            "text/plain": [
              "5"
            ]
          },
          "metadata": {},
          "execution_count": 7
        }
      ]
    },
    {
      "cell_type": "markdown",
      "source": [
        "# Step 7. Print the name of all the columns."
      ],
      "metadata": {
        "id": "HnlYfwj5eXwf"
      }
    },
    {
      "cell_type": "code",
      "source": [
        "names(chipo)"
      ],
      "metadata": {
        "colab": {
          "base_uri": "https://localhost:8080/"
        },
        "id": "JhihoA_zd2XF",
        "outputId": "84e671cf-b48c-40ee-ed55-199bfb593137"
      },
      "execution_count": 8,
      "outputs": [
        {
          "output_type": "execute_result",
          "data": {
            "text/plain": [
              "5-element Vector{String}:\n",
              " \"order_id\"\n",
              " \"quantity\"\n",
              " \"item_name\"\n",
              " \"choice_description\"\n",
              " \"item_price\""
            ]
          },
          "metadata": {},
          "execution_count": 8
        }
      ]
    },
    {
      "cell_type": "code",
      "source": [
        "gchipo = groupby(chipo, :item_name)"
      ],
      "metadata": {
        "colab": {
          "base_uri": "https://localhost:8080/",
          "height": 895
        },
        "id": "aKP9MlkjeWQI",
        "outputId": "e955de65-664a-4129-d763-269b29975844"
      },
      "execution_count": 9,
      "outputs": [
        {
          "output_type": "execute_result",
          "data": {
            "text/latex": "GroupedDataFrame with 50 groups based on key: item\\_name\n\nFirst Group (110 rows): item\\_name = \"Chips and Fresh Tomato Salsa\"\n\n\\begin{tabular}{r|ccccc}\n\t& order\\_id & quantity & item\\_name & choice\\_description & item\\_price\\\\\n\t\\hline\n\t& Int64 & Int64 & String & String & String7\\\\\n\t\\hline\n\t1 & 1 & 1 & Chips and Fresh Tomato Salsa & NULL & \\$2.39  \\\\\n\t2 & 13 & 1 & Chips and Fresh Tomato Salsa & NULL & \\$2.39  \\\\\n\t3 & 25 & 1 & Chips and Fresh Tomato Salsa & NULL & \\$2.39  \\\\\n\t4 & 39 & 1 & Chips and Fresh Tomato Salsa & NULL & \\$2.95  \\\\\n\t5 & 82 & 1 & Chips and Fresh Tomato Salsa & NULL & \\$2.95  \\\\\n\t6 & 86 & 1 & Chips and Fresh Tomato Salsa & NULL & \\$2.95  \\\\\n\t7 & 104 & 1 & Chips and Fresh Tomato Salsa & NULL & \\$2.95  \\\\\n\t8 & 115 & 1 & Chips and Fresh Tomato Salsa & NULL & \\$2.39  \\\\\n\t9 & 116 & 1 & Chips and Fresh Tomato Salsa & NULL & \\$2.95  \\\\\n\t10 & 131 & 1 & Chips and Fresh Tomato Salsa & NULL & \\$2.39  \\\\\n\t11 & 142 & 1 & Chips and Fresh Tomato Salsa & NULL & \\$2.39  \\\\\n\t12 & 149 & 1 & Chips and Fresh Tomato Salsa & NULL & \\$2.95  \\\\\n\t13 & 162 & 1 & Chips and Fresh Tomato Salsa & NULL & \\$2.95  \\\\\n\t14 & 184 & 1 & Chips and Fresh Tomato Salsa & NULL & \\$2.95  \\\\\n\t15 & 196 & 1 & Chips and Fresh Tomato Salsa & NULL & \\$2.95  \\\\\n\t16 & 222 & 1 & Chips and Fresh Tomato Salsa & NULL & \\$2.95  \\\\\n\t17 & 251 & 1 & Chips and Fresh Tomato Salsa & NULL & \\$2.95  \\\\\n\t18 & 299 & 1 & Chips and Fresh Tomato Salsa & NULL & \\$2.95  \\\\\n\t19 & 301 & 1 & Chips and Fresh Tomato Salsa & NULL & \\$2.29  \\\\\n\t20 & 349 & 1 & Chips and Fresh Tomato Salsa & NULL & \\$2.39  \\\\\n\t21 & 389 & 1 & Chips and Fresh Tomato Salsa & NULL & \\$2.95  \\\\\n\t22 & 395 & 1 & Chips and Fresh Tomato Salsa & NULL & \\$2.39  \\\\\n\t23 & 426 & 1 & Chips and Fresh Tomato Salsa & NULL & \\$2.95  \\\\\n\t24 & 448 & 1 & Chips and Fresh Tomato Salsa & NULL & \\$2.95  \\\\\n\t25 & 451 & 1 & Chips and Fresh Tomato Salsa & NULL & \\$2.95  \\\\\n\t26 & 462 & 1 & Chips and Fresh Tomato Salsa & NULL & \\$2.95  \\\\\n\t27 & 469 & 1 & Chips and Fresh Tomato Salsa & NULL & \\$2.95  \\\\\n\t28 & 501 & 1 & Chips and Fresh Tomato Salsa & NULL & \\$2.95  \\\\\n\t29 & 505 & 1 & Chips and Fresh Tomato Salsa & NULL & \\$2.95  \\\\\n\t30 & 506 & 1 & Chips and Fresh Tomato Salsa & NULL & \\$2.95  \\\\\n\t$\\dots$ & $\\dots$ & $\\dots$ & $\\dots$ & $\\dots$ & $\\dots$ \\\\\n\\end{tabular}\n\n$\\dots$\n\nLast Group (1 row): item\\_name = \"Carnitas Salad\"\n\n\\begin{tabular}{r|ccccc}\n\t& order\\_id & quantity & item\\_name & choice\\_description & \\\\\n\t\\hline\n\t& Int64 & Int64 & String & String & \\\\\n\t\\hline\n\t1 & 1500 & 1 & Carnitas Salad & [[Fresh Tomato Salsa (Mild), Roasted Chili Corn Salsa (Medium)], [Black Beans, Rice, Cheese, Sour Cream]] & $\\dots$ \\\\\n\\end{tabular}\n",
            "text/html": [
              "<p><b>GroupedDataFrame with 50 groups based on key: item_name</b></p><p><i>First Group (110 rows): item_name = &quot;Chips and Fresh Tomato Salsa&quot;</i></p><div class=\"data-frame\"><table class=\"data-frame\"><thead><tr><th></th><th>order_id</th><th>quantity</th><th>item_name</th><th>choice_description</th><th>item_price</th></tr><tr><th></th><th title=\"Int64\">Int64</th><th title=\"Int64\">Int64</th><th title=\"String\">String</th><th title=\"String\">String</th><th title=\"String7\">String7</th></tr></thead><tbody><tr><th>1</th><td>1</td><td>1</td><td>Chips and Fresh Tomato Salsa</td><td>NULL</td><td>$2.39 </td></tr><tr><th>2</th><td>13</td><td>1</td><td>Chips and Fresh Tomato Salsa</td><td>NULL</td><td>$2.39 </td></tr><tr><th>3</th><td>25</td><td>1</td><td>Chips and Fresh Tomato Salsa</td><td>NULL</td><td>$2.39 </td></tr><tr><th>4</th><td>39</td><td>1</td><td>Chips and Fresh Tomato Salsa</td><td>NULL</td><td>$2.95 </td></tr><tr><th>5</th><td>82</td><td>1</td><td>Chips and Fresh Tomato Salsa</td><td>NULL</td><td>$2.95 </td></tr><tr><th>6</th><td>86</td><td>1</td><td>Chips and Fresh Tomato Salsa</td><td>NULL</td><td>$2.95 </td></tr><tr><th>7</th><td>104</td><td>1</td><td>Chips and Fresh Tomato Salsa</td><td>NULL</td><td>$2.95 </td></tr><tr><th>8</th><td>115</td><td>1</td><td>Chips and Fresh Tomato Salsa</td><td>NULL</td><td>$2.39 </td></tr><tr><th>9</th><td>116</td><td>1</td><td>Chips and Fresh Tomato Salsa</td><td>NULL</td><td>$2.95 </td></tr><tr><th>10</th><td>131</td><td>1</td><td>Chips and Fresh Tomato Salsa</td><td>NULL</td><td>$2.39 </td></tr><tr><th>11</th><td>142</td><td>1</td><td>Chips and Fresh Tomato Salsa</td><td>NULL</td><td>$2.39 </td></tr><tr><th>12</th><td>149</td><td>1</td><td>Chips and Fresh Tomato Salsa</td><td>NULL</td><td>$2.95 </td></tr><tr><th>13</th><td>162</td><td>1</td><td>Chips and Fresh Tomato Salsa</td><td>NULL</td><td>$2.95 </td></tr><tr><th>14</th><td>184</td><td>1</td><td>Chips and Fresh Tomato Salsa</td><td>NULL</td><td>$2.95 </td></tr><tr><th>15</th><td>196</td><td>1</td><td>Chips and Fresh Tomato Salsa</td><td>NULL</td><td>$2.95 </td></tr><tr><th>16</th><td>222</td><td>1</td><td>Chips and Fresh Tomato Salsa</td><td>NULL</td><td>$2.95 </td></tr><tr><th>17</th><td>251</td><td>1</td><td>Chips and Fresh Tomato Salsa</td><td>NULL</td><td>$2.95 </td></tr><tr><th>18</th><td>299</td><td>1</td><td>Chips and Fresh Tomato Salsa</td><td>NULL</td><td>$2.95 </td></tr><tr><th>19</th><td>301</td><td>1</td><td>Chips and Fresh Tomato Salsa</td><td>NULL</td><td>$2.29 </td></tr><tr><th>20</th><td>349</td><td>1</td><td>Chips and Fresh Tomato Salsa</td><td>NULL</td><td>$2.39 </td></tr><tr><th>21</th><td>389</td><td>1</td><td>Chips and Fresh Tomato Salsa</td><td>NULL</td><td>$2.95 </td></tr><tr><th>22</th><td>395</td><td>1</td><td>Chips and Fresh Tomato Salsa</td><td>NULL</td><td>$2.39 </td></tr><tr><th>23</th><td>426</td><td>1</td><td>Chips and Fresh Tomato Salsa</td><td>NULL</td><td>$2.95 </td></tr><tr><th>24</th><td>448</td><td>1</td><td>Chips and Fresh Tomato Salsa</td><td>NULL</td><td>$2.95 </td></tr><tr><th>25</th><td>451</td><td>1</td><td>Chips and Fresh Tomato Salsa</td><td>NULL</td><td>$2.95 </td></tr><tr><th>26</th><td>462</td><td>1</td><td>Chips and Fresh Tomato Salsa</td><td>NULL</td><td>$2.95 </td></tr><tr><th>27</th><td>469</td><td>1</td><td>Chips and Fresh Tomato Salsa</td><td>NULL</td><td>$2.95 </td></tr><tr><th>28</th><td>501</td><td>1</td><td>Chips and Fresh Tomato Salsa</td><td>NULL</td><td>$2.95 </td></tr><tr><th>29</th><td>505</td><td>1</td><td>Chips and Fresh Tomato Salsa</td><td>NULL</td><td>$2.95 </td></tr><tr><th>30</th><td>506</td><td>1</td><td>Chips and Fresh Tomato Salsa</td><td>NULL</td><td>$2.95 </td></tr><tr><th>&vellip;</th><td>&vellip;</td><td>&vellip;</td><td>&vellip;</td><td>&vellip;</td><td>&vellip;</td></tr></tbody></table></div><p>&vellip;</p><p><i>Last Group (1 row): item_name = &quot;Carnitas Salad&quot;</i></p><div class=\"data-frame\"><table class=\"data-frame\"><thead><tr><th></th><th>order_id</th><th>quantity</th><th>item_name</th><th>choice_description</th></tr><tr><th></th><th title=\"Int64\">Int64</th><th title=\"Int64\">Int64</th><th title=\"String\">String</th><th title=\"String\">String</th></tr></thead><tbody><tr><th>1</th><td>1500</td><td>1</td><td>Carnitas Salad</td><td>[[Fresh Tomato Salsa (Mild), Roasted Chili Corn Salsa (Medium)], [Black Beans, Rice, Cheese, Sour Cream]]</td></tr></tbody></table></div>"
            ],
            "text/plain": [
              "GroupedDataFrame with 50 groups based on key: item_name\n",
              "First Group (110 rows): item_name = \"Chips and Fresh Tomato Salsa\"\n",
              "\u001b[1m Row \u001b[0m│\u001b[1m order_id \u001b[0m\u001b[1m quantity \u001b[0m\u001b[1m item_name                    \u001b[0m\u001b[1m choice_description \u001b[0m\u001b[1m i\u001b[0m ⋯\n",
              "\u001b[1m     \u001b[0m│\u001b[90m Int64    \u001b[0m\u001b[90m Int64    \u001b[0m\u001b[90m String                       \u001b[0m\u001b[90m String             \u001b[0m\u001b[90m S\u001b[0m ⋯\n",
              "─────┼──────────────────────────────────────────────────────────────────────────\n",
              "   1 │        1         1  Chips and Fresh Tomato Salsa  NULL                $ ⋯\n",
              "   2 │       13         1  Chips and Fresh Tomato Salsa  NULL                $\n",
              "   3 │       25         1  Chips and Fresh Tomato Salsa  NULL                $\n",
              "   4 │       39         1  Chips and Fresh Tomato Salsa  NULL                $\n",
              "   5 │       82         1  Chips and Fresh Tomato Salsa  NULL                $ ⋯\n",
              "   6 │       86         1  Chips and Fresh Tomato Salsa  NULL                $\n",
              "   7 │      104         1  Chips and Fresh Tomato Salsa  NULL                $\n",
              "   8 │      115         1  Chips and Fresh Tomato Salsa  NULL                $\n",
              "   9 │      116         1  Chips and Fresh Tomato Salsa  NULL                $ ⋯\n",
              "  10 │      131         1  Chips and Fresh Tomato Salsa  NULL                $\n",
              "  11 │      142         1  Chips and Fresh Tomato Salsa  NULL                $\n",
              "  ⋮  │    ⋮         ⋮                   ⋮                        ⋮             ⋱\n",
              " 100 │     1622         1  Chips and Fresh Tomato Salsa  NULL                $\n",
              " 101 │     1627         1  Chips and Fresh Tomato Salsa  NULL                $ ⋯\n",
              " 102 │     1630         1  Chips and Fresh Tomato Salsa  NULL                $\n",
              " 103 │     1638         1  Chips and Fresh Tomato Salsa  NULL                $\n",
              " 104 │     1643         1  Chips and Fresh Tomato Salsa  NULL                $\n",
              " 105 │     1662         1  Chips and Fresh Tomato Salsa  NULL                $ ⋯\n",
              " 106 │     1689         1  Chips and Fresh Tomato Salsa  NULL                $\n",
              " 107 │     1722         1  Chips and Fresh Tomato Salsa  NULL                $\n",
              " 108 │     1725         1  Chips and Fresh Tomato Salsa  NULL                $\n",
              " 109 │     1764         1  Chips and Fresh Tomato Salsa  NULL                $ ⋯\n",
              " 110 │     1790         1  Chips and Fresh Tomato Salsa  NULL                $\n",
              "\u001b[36m                                                    1 column and 88 rows omitted\u001b[0m\n",
              "⋮\n",
              "Last Group (1 row): item_name = \"Carnitas Salad\"\n",
              "\u001b[1m Row \u001b[0m│\u001b[1m order_id \u001b[0m\u001b[1m quantity \u001b[0m\u001b[1m item_name      \u001b[0m\u001b[1m choice_description                \u001b[0m\u001b[1m \u001b[0m ⋯\n",
              "\u001b[1m     \u001b[0m│\u001b[90m Int64    \u001b[0m\u001b[90m Int64    \u001b[0m\u001b[90m String         \u001b[0m\u001b[90m String                            \u001b[0m\u001b[90m \u001b[0m ⋯\n",
              "─────┼──────────────────────────────────────────────────────────────────────────\n",
              "   1 │     1500         1  Carnitas Salad  [[Fresh Tomato Salsa (Mild), Roa…   ⋯\n",
              "\u001b[36m                                                                1 column omitted\u001b[0m"
            ]
          },
          "metadata": {},
          "execution_count": 9
        }
      ]
    },
    {
      "cell_type": "code",
      "source": [
        "combine(gchipo,nrow)"
      ],
      "metadata": {
        "colab": {
          "base_uri": "https://localhost:8080/",
          "height": 753
        },
        "id": "hC5kAwDKgv8q",
        "outputId": "1ae96b8e-e9bb-4711-a64e-543c33787792"
      },
      "execution_count": 10,
      "outputs": [
        {
          "output_type": "execute_result",
          "data": {
            "text/latex": "\\begin{tabular}{r|cc}\n\t& item\\_name & nrow\\\\\n\t\\hline\n\t& String & Int64\\\\\n\t\\hline\n\t1 & Chips and Fresh Tomato Salsa & 110 \\\\\n\t2 & Izze & 20 \\\\\n\t3 & Nantucket Nectar & 27 \\\\\n\t4 & Chips and Tomatillo-Green Chili Salsa & 31 \\\\\n\t5 & Chicken Bowl & 726 \\\\\n\t6 & Side of Chips & 101 \\\\\n\t7 & Steak Burrito & 368 \\\\\n\t8 & Steak Soft Tacos & 55 \\\\\n\t9 & Chips and Guacamole & 479 \\\\\n\t10 & Chicken Crispy Tacos & 47 \\\\\n\t11 & Chicken Soft Tacos & 115 \\\\\n\t12 & Chicken Burrito & 553 \\\\\n\t13 & Canned Soda & 104 \\\\\n\t14 & Barbacoa Burrito & 91 \\\\\n\t15 & Carnitas Burrito & 59 \\\\\n\t16 & Carnitas Bowl & 68 \\\\\n\t17 & Bottled Water & 162 \\\\\n\t18 & Chips and Tomatillo Green Chili Salsa & 43 \\\\\n\t19 & Barbacoa Bowl & 66 \\\\\n\t20 & Chips & 211 \\\\\n\t21 & Chicken Salad Bowl & 110 \\\\\n\t22 & Steak Bowl & 211 \\\\\n\t23 & Barbacoa Soft Tacos & 25 \\\\\n\t24 & Veggie Burrito & 95 \\\\\n\t25 & Veggie Bowl & 85 \\\\\n\t26 & Steak Crispy Tacos & 35 \\\\\n\t27 & Chips and Tomatillo Red Chili Salsa & 48 \\\\\n\t28 & Barbacoa Crispy Tacos & 11 \\\\\n\t29 & Veggie Salad Bowl & 18 \\\\\n\t30 & Chips and Roasted Chili-Corn Salsa & 18 \\\\\n\t$\\dots$ & $\\dots$ & $\\dots$ \\\\\n\\end{tabular}\n",
            "text/html": [
              "<div class=\"data-frame\"><p>50 rows × 2 columns</p><table class=\"data-frame\"><thead><tr><th></th><th>item_name</th><th>nrow</th></tr><tr><th></th><th title=\"String\">String</th><th title=\"Int64\">Int64</th></tr></thead><tbody><tr><th>1</th><td>Chips and Fresh Tomato Salsa</td><td>110</td></tr><tr><th>2</th><td>Izze</td><td>20</td></tr><tr><th>3</th><td>Nantucket Nectar</td><td>27</td></tr><tr><th>4</th><td>Chips and Tomatillo-Green Chili Salsa</td><td>31</td></tr><tr><th>5</th><td>Chicken Bowl</td><td>726</td></tr><tr><th>6</th><td>Side of Chips</td><td>101</td></tr><tr><th>7</th><td>Steak Burrito</td><td>368</td></tr><tr><th>8</th><td>Steak Soft Tacos</td><td>55</td></tr><tr><th>9</th><td>Chips and Guacamole</td><td>479</td></tr><tr><th>10</th><td>Chicken Crispy Tacos</td><td>47</td></tr><tr><th>11</th><td>Chicken Soft Tacos</td><td>115</td></tr><tr><th>12</th><td>Chicken Burrito</td><td>553</td></tr><tr><th>13</th><td>Canned Soda</td><td>104</td></tr><tr><th>14</th><td>Barbacoa Burrito</td><td>91</td></tr><tr><th>15</th><td>Carnitas Burrito</td><td>59</td></tr><tr><th>16</th><td>Carnitas Bowl</td><td>68</td></tr><tr><th>17</th><td>Bottled Water</td><td>162</td></tr><tr><th>18</th><td>Chips and Tomatillo Green Chili Salsa</td><td>43</td></tr><tr><th>19</th><td>Barbacoa Bowl</td><td>66</td></tr><tr><th>20</th><td>Chips</td><td>211</td></tr><tr><th>21</th><td>Chicken Salad Bowl</td><td>110</td></tr><tr><th>22</th><td>Steak Bowl</td><td>211</td></tr><tr><th>23</th><td>Barbacoa Soft Tacos</td><td>25</td></tr><tr><th>24</th><td>Veggie Burrito</td><td>95</td></tr><tr><th>25</th><td>Veggie Bowl</td><td>85</td></tr><tr><th>26</th><td>Steak Crispy Tacos</td><td>35</td></tr><tr><th>27</th><td>Chips and Tomatillo Red Chili Salsa</td><td>48</td></tr><tr><th>28</th><td>Barbacoa Crispy Tacos</td><td>11</td></tr><tr><th>29</th><td>Veggie Salad Bowl</td><td>18</td></tr><tr><th>30</th><td>Chips and Roasted Chili-Corn Salsa</td><td>18</td></tr><tr><th>&vellip;</th><td>&vellip;</td><td>&vellip;</td></tr></tbody></table></div>"
            ],
            "text/plain": [
              "\u001b[1m50×2 DataFrame\u001b[0m\n",
              "\u001b[1m Row \u001b[0m│\u001b[1m item_name                         \u001b[0m\u001b[1m nrow  \u001b[0m\n",
              "\u001b[1m     \u001b[0m│\u001b[90m String                            \u001b[0m\u001b[90m Int64 \u001b[0m\n",
              "─────┼──────────────────────────────────────────\n",
              "   1 │ Chips and Fresh Tomato Salsa         110\n",
              "   2 │ Izze                                  20\n",
              "   3 │ Nantucket Nectar                      27\n",
              "   4 │ Chips and Tomatillo-Green Chili …     31\n",
              "   5 │ Chicken Bowl                         726\n",
              "   6 │ Side of Chips                        101\n",
              "   7 │ Steak Burrito                        368\n",
              "   8 │ Steak Soft Tacos                      55\n",
              "   9 │ Chips and Guacamole                  479\n",
              "  10 │ Chicken Crispy Tacos                  47\n",
              "  11 │ Chicken Soft Tacos                   115\n",
              "  ⋮  │                 ⋮                    ⋮\n",
              "  41 │ Carnitas Crispy Tacos                  7\n",
              "  42 │ Steak Salad                            4\n",
              "  43 │ Chips and Mild Fresh Tomato Salsa      1\n",
              "  44 │ Veggie Soft Tacos                      7\n",
              "  45 │ Carnitas Salad Bowl                    6\n",
              "  46 │ Veggie Crispy Tacos                    1\n",
              "  47 │ Barbacoa Salad Bowl                   10\n",
              "  48 │ Veggie Salad                           6\n",
              "  49 │ Salad                                  2\n",
              "  50 │ Carnitas Salad                         1\n",
              "\u001b[36m                                 29 rows omitted\u001b[0m"
            ]
          },
          "metadata": {},
          "execution_count": 10
        }
      ]
    },
    {
      "cell_type": "markdown",
      "source": [
        "# Step 9. Which was the most-ordered item?"
      ],
      "metadata": {
        "id": "a5339Nsyt02Y"
      }
    },
    {
      "cell_type": "code",
      "source": [
        "chipo_groupby = @pipe chipo |> groupby(_, :item_name) |> combine(_, :quantity => sum=>:total_quantity)\n",
        "sort(chipo_groupby, :total_quantity, rev = true)"
      ],
      "metadata": {
        "id": "h4VvPZoYhMyl",
        "colab": {
          "base_uri": "https://localhost:8080/",
          "height": 753
        },
        "outputId": "5ec1ca88-d48b-463a-857b-76720661ccae"
      },
      "execution_count": 11,
      "outputs": [
        {
          "output_type": "execute_result",
          "data": {
            "text/latex": "\\begin{tabular}{r|cc}\n\t& item\\_name & total\\_quantity\\\\\n\t\\hline\n\t& String & Int64\\\\\n\t\\hline\n\t1 & Chicken Bowl & 761 \\\\\n\t2 & Chicken Burrito & 591 \\\\\n\t3 & Chips and Guacamole & 506 \\\\\n\t4 & Steak Burrito & 386 \\\\\n\t5 & Canned Soft Drink & 351 \\\\\n\t6 & Chips & 230 \\\\\n\t7 & Steak Bowl & 221 \\\\\n\t8 & Bottled Water & 211 \\\\\n\t9 & Chips and Fresh Tomato Salsa & 130 \\\\\n\t10 & Canned Soda & 126 \\\\\n\t11 & Chicken Salad Bowl & 123 \\\\\n\t12 & Chicken Soft Tacos & 120 \\\\\n\t13 & Side of Chips & 110 \\\\\n\t14 & Veggie Burrito & 97 \\\\\n\t15 & Barbacoa Burrito & 91 \\\\\n\t16 & Veggie Bowl & 87 \\\\\n\t17 & Carnitas Bowl & 71 \\\\\n\t18 & Barbacoa Bowl & 66 \\\\\n\t19 & Carnitas Burrito & 60 \\\\\n\t20 & Steak Soft Tacos & 56 \\\\\n\t21 & 6 Pack Soft Drink & 55 \\\\\n\t22 & Chicken Crispy Tacos & 50 \\\\\n\t23 & Chips and Tomatillo Red Chili Salsa & 50 \\\\\n\t24 & Chips and Tomatillo Green Chili Salsa & 45 \\\\\n\t25 & Carnitas Soft Tacos & 40 \\\\\n\t26 & Steak Crispy Tacos & 36 \\\\\n\t27 & Chips and Tomatillo-Green Chili Salsa & 33 \\\\\n\t28 & Steak Salad Bowl & 31 \\\\\n\t29 & Nantucket Nectar & 29 \\\\\n\t30 & Barbacoa Soft Tacos & 25 \\\\\n\t$\\dots$ & $\\dots$ & $\\dots$ \\\\\n\\end{tabular}\n",
            "text/html": [
              "<div class=\"data-frame\"><p>50 rows × 2 columns</p><table class=\"data-frame\"><thead><tr><th></th><th>item_name</th><th>total_quantity</th></tr><tr><th></th><th title=\"String\">String</th><th title=\"Int64\">Int64</th></tr></thead><tbody><tr><th>1</th><td>Chicken Bowl</td><td>761</td></tr><tr><th>2</th><td>Chicken Burrito</td><td>591</td></tr><tr><th>3</th><td>Chips and Guacamole</td><td>506</td></tr><tr><th>4</th><td>Steak Burrito</td><td>386</td></tr><tr><th>5</th><td>Canned Soft Drink</td><td>351</td></tr><tr><th>6</th><td>Chips</td><td>230</td></tr><tr><th>7</th><td>Steak Bowl</td><td>221</td></tr><tr><th>8</th><td>Bottled Water</td><td>211</td></tr><tr><th>9</th><td>Chips and Fresh Tomato Salsa</td><td>130</td></tr><tr><th>10</th><td>Canned Soda</td><td>126</td></tr><tr><th>11</th><td>Chicken Salad Bowl</td><td>123</td></tr><tr><th>12</th><td>Chicken Soft Tacos</td><td>120</td></tr><tr><th>13</th><td>Side of Chips</td><td>110</td></tr><tr><th>14</th><td>Veggie Burrito</td><td>97</td></tr><tr><th>15</th><td>Barbacoa Burrito</td><td>91</td></tr><tr><th>16</th><td>Veggie Bowl</td><td>87</td></tr><tr><th>17</th><td>Carnitas Bowl</td><td>71</td></tr><tr><th>18</th><td>Barbacoa Bowl</td><td>66</td></tr><tr><th>19</th><td>Carnitas Burrito</td><td>60</td></tr><tr><th>20</th><td>Steak Soft Tacos</td><td>56</td></tr><tr><th>21</th><td>6 Pack Soft Drink</td><td>55</td></tr><tr><th>22</th><td>Chicken Crispy Tacos</td><td>50</td></tr><tr><th>23</th><td>Chips and Tomatillo Red Chili Salsa</td><td>50</td></tr><tr><th>24</th><td>Chips and Tomatillo Green Chili Salsa</td><td>45</td></tr><tr><th>25</th><td>Carnitas Soft Tacos</td><td>40</td></tr><tr><th>26</th><td>Steak Crispy Tacos</td><td>36</td></tr><tr><th>27</th><td>Chips and Tomatillo-Green Chili Salsa</td><td>33</td></tr><tr><th>28</th><td>Steak Salad Bowl</td><td>31</td></tr><tr><th>29</th><td>Nantucket Nectar</td><td>29</td></tr><tr><th>30</th><td>Barbacoa Soft Tacos</td><td>25</td></tr><tr><th>&vellip;</th><td>&vellip;</td><td>&vellip;</td></tr></tbody></table></div>"
            ],
            "text/plain": [
              "\u001b[1m50×2 DataFrame\u001b[0m\n",
              "\u001b[1m Row \u001b[0m│\u001b[1m item_name                         \u001b[0m\u001b[1m total_quantity \u001b[0m\n",
              "\u001b[1m     \u001b[0m│\u001b[90m String                            \u001b[0m\u001b[90m Int64          \u001b[0m\n",
              "─────┼───────────────────────────────────────────────────\n",
              "   1 │ Chicken Bowl                                  761\n",
              "   2 │ Chicken Burrito                               591\n",
              "   3 │ Chips and Guacamole                           506\n",
              "   4 │ Steak Burrito                                 386\n",
              "   5 │ Canned Soft Drink                             351\n",
              "   6 │ Chips                                         230\n",
              "   7 │ Steak Bowl                                    221\n",
              "   8 │ Bottled Water                                 211\n",
              "   9 │ Chips and Fresh Tomato Salsa                  130\n",
              "  10 │ Canned Soda                                   126\n",
              "  11 │ Chicken Salad Bowl                            123\n",
              "  ⋮  │                 ⋮                        ⋮\n",
              "  41 │ Burrito                                         6\n",
              "  42 │ Carnitas Salad Bowl                             6\n",
              "  43 │ Veggie Salad                                    6\n",
              "  44 │ Bowl                                            4\n",
              "  45 │ Steak Salad                                     4\n",
              "  46 │ Crispy Tacos                                    2\n",
              "  47 │ Salad                                           2\n",
              "  48 │ Chips and Mild Fresh Tomato Salsa               1\n",
              "  49 │ Veggie Crispy Tacos                             1\n",
              "  50 │ Carnitas Salad                                  1\n",
              "\u001b[36m                                          29 rows omitted\u001b[0m"
            ]
          },
          "metadata": {},
          "execution_count": 11
        }
      ]
    },
    {
      "cell_type": "markdown",
      "source": [
        "# Step 10. For the most-ordered item, how many items were ordered?\n",
        "Exactly the same as above"
      ],
      "metadata": {
        "id": "C8HPG978unwV"
      }
    },
    {
      "cell_type": "markdown",
      "source": [
        "# Step 11. What was the most ordered item in the choice_description column?"
      ],
      "metadata": {
        "id": "7Ea5g1l2vIqP"
      }
    },
    {
      "cell_type": "code",
      "source": [
        "chipo"
      ],
      "metadata": {
        "colab": {
          "base_uri": "https://localhost:8080/",
          "height": 753
        },
        "id": "gVM8yGlnxbvJ",
        "outputId": "cab4e1f6-e9a8-4044-9822-b8646c97e68c"
      },
      "execution_count": 12,
      "outputs": [
        {
          "output_type": "execute_result",
          "data": {
            "text/latex": "\\begin{tabular}{r|ccccc}\n\t& order\\_id & quantity & item\\_name & choice\\_description & \\\\\n\t\\hline\n\t& Int64 & Int64 & String & String & \\\\\n\t\\hline\n\t1 & 1 & 1 & Chips and Fresh Tomato Salsa & NULL & $\\dots$ \\\\\n\t2 & 1 & 1 & Izze & [Clementine] & $\\dots$ \\\\\n\t3 & 1 & 1 & Nantucket Nectar & [Apple] & $\\dots$ \\\\\n\t4 & 1 & 1 & Chips and Tomatillo-Green Chili Salsa & NULL & $\\dots$ \\\\\n\t5 & 2 & 2 & Chicken Bowl & [Tomatillo-Red Chili Salsa (Hot), [Black Beans, Rice, Cheese, Sour Cream]] & $\\dots$ \\\\\n\t6 & 3 & 1 & Chicken Bowl & [Fresh Tomato Salsa (Mild), [Rice, Cheese, Sour Cream, Guacamole, Lettuce]] & $\\dots$ \\\\\n\t7 & 3 & 1 & Side of Chips & NULL & $\\dots$ \\\\\n\t8 & 4 & 1 & Steak Burrito & [Tomatillo Red Chili Salsa, [Fajita Vegetables, Black Beans, Pinto Beans, Cheese, Sour Cream, Guacamole, Lettuce]] & $\\dots$ \\\\\n\t9 & 4 & 1 & Steak Soft Tacos & [Tomatillo Green Chili Salsa, [Pinto Beans, Cheese, Sour Cream, Lettuce]] & $\\dots$ \\\\\n\t10 & 5 & 1 & Steak Burrito & [Fresh Tomato Salsa, [Rice, Black Beans, Pinto Beans, Cheese, Sour Cream, Lettuce]] & $\\dots$ \\\\\n\t11 & 5 & 1 & Chips and Guacamole & NULL & $\\dots$ \\\\\n\t12 & 6 & 1 & Chicken Crispy Tacos & [Roasted Chili Corn Salsa, [Fajita Vegetables, Rice, Black Beans, Cheese, Sour Cream]] & $\\dots$ \\\\\n\t13 & 6 & 1 & Chicken Soft Tacos & [Roasted Chili Corn Salsa, [Rice, Black Beans, Cheese, Sour Cream]] & $\\dots$ \\\\\n\t14 & 7 & 1 & Chicken Bowl & [Fresh Tomato Salsa, [Fajita Vegetables, Rice, Cheese, Sour Cream, Guacamole]] & $\\dots$ \\\\\n\t15 & 7 & 1 & Chips and Guacamole & NULL & $\\dots$ \\\\\n\t16 & 8 & 1 & Chips and Tomatillo-Green Chili Salsa & NULL & $\\dots$ \\\\\n\t17 & 8 & 1 & Chicken Burrito & [Tomatillo-Green Chili Salsa (Medium), [Pinto Beans, Cheese, Sour Cream]] & $\\dots$ \\\\\n\t18 & 9 & 1 & Chicken Burrito & [Fresh Tomato Salsa (Mild), [Black Beans, Rice, Cheese, Sour Cream, Lettuce]] & $\\dots$ \\\\\n\t19 & 9 & 2 & Canned Soda & [Sprite] & $\\dots$ \\\\\n\t20 & 10 & 1 & Chicken Bowl & [Tomatillo Red Chili Salsa, [Fajita Vegetables, Black Beans, Sour Cream, Cheese, Lettuce]] & $\\dots$ \\\\\n\t21 & 10 & 1 & Chips and Guacamole & NULL & $\\dots$ \\\\\n\t22 & 11 & 1 & Barbacoa Burrito & [[Fresh Tomato Salsa (Mild), Tomatillo-Green Chili Salsa (Medium), Tomatillo-Red Chili Salsa (Hot)], [Rice, Cheese, Sour Cream, Lettuce]] & $\\dots$ \\\\\n\t23 & 11 & 1 & Nantucket Nectar & [Pomegranate Cherry] & $\\dots$ \\\\\n\t24 & 12 & 1 & Chicken Burrito & [[Tomatillo-Green Chili Salsa (Medium), Tomatillo-Red Chili Salsa (Hot)], [Pinto Beans, Rice, Cheese, Sour Cream, Guacamole, Lettuce]] & $\\dots$ \\\\\n\t25 & 12 & 1 & Izze & [Grapefruit] & $\\dots$ \\\\\n\t26 & 13 & 1 & Chips and Fresh Tomato Salsa & NULL & $\\dots$ \\\\\n\t27 & 13 & 1 & Chicken Bowl & [Roasted Chili Corn Salsa (Medium), [Pinto Beans, Rice, Fajita Veggies, Cheese, Sour Cream, Lettuce]] & $\\dots$ \\\\\n\t28 & 14 & 1 & Carnitas Burrito & [[Tomatillo-Green Chili Salsa (Medium), Roasted Chili Corn Salsa (Medium)], [Black Beans, Rice, Sour Cream, Lettuce]] & $\\dots$ \\\\\n\t29 & 14 & 1 & Canned Soda & [Dr. Pepper] & $\\dots$ \\\\\n\t30 & 15 & 1 & Chicken Burrito & [Tomatillo-Green Chili Salsa (Medium), [Pinto Beans, Rice, Cheese, Sour Cream]] & $\\dots$ \\\\\n\t$\\dots$ & $\\dots$ & $\\dots$ & $\\dots$ & $\\dots$ &  \\\\\n\\end{tabular}\n",
            "text/html": [
              "<div class=\"data-frame\"><p>4,622 rows × 5 columns (omitted printing of 1 columns)</p><table class=\"data-frame\"><thead><tr><th></th><th>order_id</th><th>quantity</th><th>item_name</th><th>choice_description</th></tr><tr><th></th><th title=\"Int64\">Int64</th><th title=\"Int64\">Int64</th><th title=\"String\">String</th><th title=\"String\">String</th></tr></thead><tbody><tr><th>1</th><td>1</td><td>1</td><td>Chips and Fresh Tomato Salsa</td><td>NULL</td></tr><tr><th>2</th><td>1</td><td>1</td><td>Izze</td><td>[Clementine]</td></tr><tr><th>3</th><td>1</td><td>1</td><td>Nantucket Nectar</td><td>[Apple]</td></tr><tr><th>4</th><td>1</td><td>1</td><td>Chips and Tomatillo-Green Chili Salsa</td><td>NULL</td></tr><tr><th>5</th><td>2</td><td>2</td><td>Chicken Bowl</td><td>[Tomatillo-Red Chili Salsa (Hot), [Black Beans, Rice, Cheese, Sour Cream]]</td></tr><tr><th>6</th><td>3</td><td>1</td><td>Chicken Bowl</td><td>[Fresh Tomato Salsa (Mild), [Rice, Cheese, Sour Cream, Guacamole, Lettuce]]</td></tr><tr><th>7</th><td>3</td><td>1</td><td>Side of Chips</td><td>NULL</td></tr><tr><th>8</th><td>4</td><td>1</td><td>Steak Burrito</td><td>[Tomatillo Red Chili Salsa, [Fajita Vegetables, Black Beans, Pinto Beans, Cheese, Sour Cream, Guacamole, Lettuce]]</td></tr><tr><th>9</th><td>4</td><td>1</td><td>Steak Soft Tacos</td><td>[Tomatillo Green Chili Salsa, [Pinto Beans, Cheese, Sour Cream, Lettuce]]</td></tr><tr><th>10</th><td>5</td><td>1</td><td>Steak Burrito</td><td>[Fresh Tomato Salsa, [Rice, Black Beans, Pinto Beans, Cheese, Sour Cream, Lettuce]]</td></tr><tr><th>11</th><td>5</td><td>1</td><td>Chips and Guacamole</td><td>NULL</td></tr><tr><th>12</th><td>6</td><td>1</td><td>Chicken Crispy Tacos</td><td>[Roasted Chili Corn Salsa, [Fajita Vegetables, Rice, Black Beans, Cheese, Sour Cream]]</td></tr><tr><th>13</th><td>6</td><td>1</td><td>Chicken Soft Tacos</td><td>[Roasted Chili Corn Salsa, [Rice, Black Beans, Cheese, Sour Cream]]</td></tr><tr><th>14</th><td>7</td><td>1</td><td>Chicken Bowl</td><td>[Fresh Tomato Salsa, [Fajita Vegetables, Rice, Cheese, Sour Cream, Guacamole]]</td></tr><tr><th>15</th><td>7</td><td>1</td><td>Chips and Guacamole</td><td>NULL</td></tr><tr><th>16</th><td>8</td><td>1</td><td>Chips and Tomatillo-Green Chili Salsa</td><td>NULL</td></tr><tr><th>17</th><td>8</td><td>1</td><td>Chicken Burrito</td><td>[Tomatillo-Green Chili Salsa (Medium), [Pinto Beans, Cheese, Sour Cream]]</td></tr><tr><th>18</th><td>9</td><td>1</td><td>Chicken Burrito</td><td>[Fresh Tomato Salsa (Mild), [Black Beans, Rice, Cheese, Sour Cream, Lettuce]]</td></tr><tr><th>19</th><td>9</td><td>2</td><td>Canned Soda</td><td>[Sprite]</td></tr><tr><th>20</th><td>10</td><td>1</td><td>Chicken Bowl</td><td>[Tomatillo Red Chili Salsa, [Fajita Vegetables, Black Beans, Sour Cream, Cheese, Lettuce]]</td></tr><tr><th>21</th><td>10</td><td>1</td><td>Chips and Guacamole</td><td>NULL</td></tr><tr><th>22</th><td>11</td><td>1</td><td>Barbacoa Burrito</td><td>[[Fresh Tomato Salsa (Mild), Tomatillo-Green Chili Salsa (Medium), Tomatillo-Red Chili Salsa (Hot)], [Rice, Cheese, Sour Cream, Lettuce]]</td></tr><tr><th>23</th><td>11</td><td>1</td><td>Nantucket Nectar</td><td>[Pomegranate Cherry]</td></tr><tr><th>24</th><td>12</td><td>1</td><td>Chicken Burrito</td><td>[[Tomatillo-Green Chili Salsa (Medium), Tomatillo-Red Chili Salsa (Hot)], [Pinto Beans, Rice, Cheese, Sour Cream, Guacamole, Lettuce]]</td></tr><tr><th>25</th><td>12</td><td>1</td><td>Izze</td><td>[Grapefruit]</td></tr><tr><th>26</th><td>13</td><td>1</td><td>Chips and Fresh Tomato Salsa</td><td>NULL</td></tr><tr><th>27</th><td>13</td><td>1</td><td>Chicken Bowl</td><td>[Roasted Chili Corn Salsa (Medium), [Pinto Beans, Rice, Fajita Veggies, Cheese, Sour Cream, Lettuce]]</td></tr><tr><th>28</th><td>14</td><td>1</td><td>Carnitas Burrito</td><td>[[Tomatillo-Green Chili Salsa (Medium), Roasted Chili Corn Salsa (Medium)], [Black Beans, Rice, Sour Cream, Lettuce]]</td></tr><tr><th>29</th><td>14</td><td>1</td><td>Canned Soda</td><td>[Dr. Pepper]</td></tr><tr><th>30</th><td>15</td><td>1</td><td>Chicken Burrito</td><td>[Tomatillo-Green Chili Salsa (Medium), [Pinto Beans, Rice, Cheese, Sour Cream]]</td></tr><tr><th>&vellip;</th><td>&vellip;</td><td>&vellip;</td><td>&vellip;</td><td>&vellip;</td></tr></tbody></table></div>"
            ],
            "text/plain": [
              "\u001b[1m4622×5 DataFrame\u001b[0m\n",
              "\u001b[1m  Row \u001b[0m│\u001b[1m order_id \u001b[0m\u001b[1m quantity \u001b[0m\u001b[1m item_name                         \u001b[0m\u001b[1m choice_descript\u001b[0m ⋯\n",
              "\u001b[1m      \u001b[0m│\u001b[90m Int64    \u001b[0m\u001b[90m Int64    \u001b[0m\u001b[90m String                            \u001b[0m\u001b[90m String         \u001b[0m ⋯\n",
              "──────┼─────────────────────────────────────────────────────────────────────────\n",
              "    1 │        1         1  Chips and Fresh Tomato Salsa       NULL            ⋯\n",
              "    2 │        1         1  Izze                               [Clementine]\n",
              "    3 │        1         1  Nantucket Nectar                   [Apple]\n",
              "    4 │        1         1  Chips and Tomatillo-Green Chili …  NULL\n",
              "    5 │        2         2  Chicken Bowl                       [Tomatillo-Red  ⋯\n",
              "    6 │        3         1  Chicken Bowl                       [Fresh Tomato S\n",
              "    7 │        3         1  Side of Chips                      NULL\n",
              "    8 │        4         1  Steak Burrito                      [Tomatillo Red\n",
              "    9 │        4         1  Steak Soft Tacos                   [Tomatillo Gree ⋯\n",
              "   10 │        5         1  Steak Burrito                      [Fresh Tomato S\n",
              "   11 │        5         1  Chips and Guacamole                NULL\n",
              "  ⋮   │    ⋮         ⋮                      ⋮                                  ⋱\n",
              " 4613 │     1831         1  Carnitas Bowl                      [Fresh Tomato S\n",
              " 4614 │     1831         1  Chips                              NULL            ⋯\n",
              " 4615 │     1831         1  Bottled Water                      NULL\n",
              " 4616 │     1832         1  Chicken Soft Tacos                 [Fresh Tomato S\n",
              " 4617 │     1832         1  Chips and Guacamole                NULL\n",
              " 4618 │     1833         1  Steak Burrito                      [Fresh Tomato S ⋯\n",
              " 4619 │     1833         1  Steak Burrito                      [Fresh Tomato S\n",
              " 4620 │     1834         1  Chicken Salad Bowl                 [Fresh Tomato S\n",
              " 4621 │     1834         1  Chicken Salad Bowl                 [Fresh Tomato S\n",
              " 4622 │     1834         1  Chicken Salad Bowl                 [Fresh Tomato S ⋯\n",
              "\u001b[36m                                                 2 columns and 4601 rows omitted\u001b[0m"
            ]
          },
          "metadata": {},
          "execution_count": 12
        }
      ]
    },
    {
      "cell_type": "code",
      "source": [
        "choice_description_groupby = @pipe chipo |> groupby(_, :choice_description) |> combine(_, :quantity => sum => :total_quantity)\n",
        "sort(choice_description_groupby, :total_quantity, rev = true)"
      ],
      "metadata": {
        "colab": {
          "base_uri": "https://localhost:8080/",
          "height": 753
        },
        "id": "BL1-0DJttQm_",
        "outputId": "1c86e1f8-1daf-4327-fb09-3680a8a21ed9"
      },
      "execution_count": 13,
      "outputs": [
        {
          "output_type": "execute_result",
          "data": {
            "text/latex": "\\begin{tabular}{r|cc}\n\t& choice\\_description & \\\\\n\t\\hline\n\t& String & \\\\\n\t\\hline\n\t1 & NULL & $\\dots$ \\\\\n\t2 & [Diet Coke] & $\\dots$ \\\\\n\t3 & [Coke] & $\\dots$ \\\\\n\t4 & [Sprite] & $\\dots$ \\\\\n\t5 & [Fresh Tomato Salsa, [Rice, Black Beans, Cheese, Sour Cream, Lettuce]] & $\\dots$ \\\\\n\t6 & [Fresh Tomato Salsa, [Rice, Black Beans, Cheese, Sour Cream]] & $\\dots$ \\\\\n\t7 & [Fresh Tomato Salsa, [Rice, Black Beans, Cheese, Sour Cream, Guacamole, Lettuce]] & $\\dots$ \\\\\n\t8 & [Lemonade] & $\\dots$ \\\\\n\t9 & [Fresh Tomato Salsa (Mild), [Pinto Beans, Rice, Cheese, Sour Cream]] & $\\dots$ \\\\\n\t10 & [Coca Cola] & $\\dots$ \\\\\n\t11 & [Fresh Tomato Salsa, [Rice, Black Beans, Cheese]] & $\\dots$ \\\\\n\t12 & [Fresh Tomato Salsa, [Rice, Cheese, Sour Cream, Lettuce]] & $\\dots$ \\\\\n\t13 & [Fresh Tomato Salsa, [Rice, Cheese, Lettuce]] & $\\dots$ \\\\\n\t14 & [Fresh Tomato Salsa, [Rice, Black Beans, Cheese, Lettuce]] & $\\dots$ \\\\\n\t15 & [Fresh Tomato Salsa, [Rice, Cheese, Sour Cream]] & $\\dots$ \\\\\n\t16 & [Fresh Tomato Salsa, [Rice, Black Beans, Cheese, Sour Cream, Guacamole]] & $\\dots$ \\\\\n\t17 & [Fresh Tomato Salsa, [Fajita Vegetables, Rice]] & $\\dots$ \\\\\n\t18 & [Fresh Tomato Salsa, Rice] & $\\dots$ \\\\\n\t19 & [Dr. Pepper] & $\\dots$ \\\\\n\t20 & [Roasted Chili Corn Salsa, [Rice, Black Beans, Cheese, Sour Cream, Lettuce]] & $\\dots$ \\\\\n\t21 & [Fresh Tomato Salsa, [Fajita Vegetables, Rice, Black Beans, Cheese, Sour Cream, Lettuce]] & $\\dots$ \\\\\n\t22 & [Fresh Tomato Salsa, [Rice, Black Beans, Cheese, Guacamole, Lettuce]] & $\\dots$ \\\\\n\t23 & [Fresh Tomato Salsa, [Fajita Vegetables, Rice, Black Beans, Cheese, Sour Cream, Guacamole, Lettuce]] & $\\dots$ \\\\\n\t24 & [Tomatillo Red Chili Salsa, [Rice, Cheese, Sour Cream, Lettuce]] & $\\dots$ \\\\\n\t25 & [Tomatillo Red Chili Salsa, [Rice, Cheese, Lettuce]] & $\\dots$ \\\\\n\t26 & [Nestea] & $\\dots$ \\\\\n\t27 & [Roasted Chili Corn Salsa, [Fajita Vegetables, Rice, Black Beans, Cheese, Sour Cream, Guacamole, Lettuce]] & $\\dots$ \\\\\n\t28 & [Fresh Tomato Salsa, [Fajita Vegetables, Rice, Black Beans, Cheese, Guacamole, Lettuce]] & $\\dots$ \\\\\n\t29 & [Fresh Tomato Salsa, [Fajita Vegetables, Rice, Cheese, Sour Cream, Guacamole, Lettuce]] & $\\dots$ \\\\\n\t30 & [Mountain Dew] & $\\dots$ \\\\\n\t$\\dots$ & $\\dots$ &  \\\\\n\\end{tabular}\n",
            "text/html": [
              "<div class=\"data-frame\"><p>1,044 rows × 2 columns (omitted printing of 1 columns)</p><table class=\"data-frame\"><thead><tr><th></th><th>choice_description</th></tr><tr><th></th><th title=\"String\">String</th></tr></thead><tbody><tr><th>1</th><td>NULL</td></tr><tr><th>2</th><td>[Diet Coke]</td></tr><tr><th>3</th><td>[Coke]</td></tr><tr><th>4</th><td>[Sprite]</td></tr><tr><th>5</th><td>[Fresh Tomato Salsa, [Rice, Black Beans, Cheese, Sour Cream, Lettuce]]</td></tr><tr><th>6</th><td>[Fresh Tomato Salsa, [Rice, Black Beans, Cheese, Sour Cream]]</td></tr><tr><th>7</th><td>[Fresh Tomato Salsa, [Rice, Black Beans, Cheese, Sour Cream, Guacamole, Lettuce]]</td></tr><tr><th>8</th><td>[Lemonade]</td></tr><tr><th>9</th><td>[Fresh Tomato Salsa (Mild), [Pinto Beans, Rice, Cheese, Sour Cream]]</td></tr><tr><th>10</th><td>[Coca Cola]</td></tr><tr><th>11</th><td>[Fresh Tomato Salsa, [Rice, Black Beans, Cheese]]</td></tr><tr><th>12</th><td>[Fresh Tomato Salsa, [Rice, Cheese, Sour Cream, Lettuce]]</td></tr><tr><th>13</th><td>[Fresh Tomato Salsa, [Rice, Cheese, Lettuce]]</td></tr><tr><th>14</th><td>[Fresh Tomato Salsa, [Rice, Black Beans, Cheese, Lettuce]]</td></tr><tr><th>15</th><td>[Fresh Tomato Salsa, [Rice, Cheese, Sour Cream]]</td></tr><tr><th>16</th><td>[Fresh Tomato Salsa, [Rice, Black Beans, Cheese, Sour Cream, Guacamole]]</td></tr><tr><th>17</th><td>[Fresh Tomato Salsa, [Fajita Vegetables, Rice]]</td></tr><tr><th>18</th><td>[Fresh Tomato Salsa, Rice]</td></tr><tr><th>19</th><td>[Dr. Pepper]</td></tr><tr><th>20</th><td>[Roasted Chili Corn Salsa, [Rice, Black Beans, Cheese, Sour Cream, Lettuce]]</td></tr><tr><th>21</th><td>[Fresh Tomato Salsa, [Fajita Vegetables, Rice, Black Beans, Cheese, Sour Cream, Lettuce]]</td></tr><tr><th>22</th><td>[Fresh Tomato Salsa, [Rice, Black Beans, Cheese, Guacamole, Lettuce]]</td></tr><tr><th>23</th><td>[Fresh Tomato Salsa, [Fajita Vegetables, Rice, Black Beans, Cheese, Sour Cream, Guacamole, Lettuce]]</td></tr><tr><th>24</th><td>[Tomatillo Red Chili Salsa, [Rice, Cheese, Sour Cream, Lettuce]]</td></tr><tr><th>25</th><td>[Tomatillo Red Chili Salsa, [Rice, Cheese, Lettuce]]</td></tr><tr><th>26</th><td>[Nestea]</td></tr><tr><th>27</th><td>[Roasted Chili Corn Salsa, [Fajita Vegetables, Rice, Black Beans, Cheese, Sour Cream, Guacamole, Lettuce]]</td></tr><tr><th>28</th><td>[Fresh Tomato Salsa, [Fajita Vegetables, Rice, Black Beans, Cheese, Guacamole, Lettuce]]</td></tr><tr><th>29</th><td>[Fresh Tomato Salsa, [Fajita Vegetables, Rice, Cheese, Sour Cream, Guacamole, Lettuce]]</td></tr><tr><th>30</th><td>[Mountain Dew]</td></tr><tr><th>&vellip;</th><td>&vellip;</td></tr></tbody></table></div>"
            ],
            "text/plain": [
              "\u001b[1m1044×2 DataFrame\u001b[0m\n",
              "\u001b[1m  Row \u001b[0m│\u001b[1m choice_description                \u001b[0m\u001b[1m total_quantity \u001b[0m\n",
              "\u001b[1m      \u001b[0m│\u001b[90m String                            \u001b[0m\u001b[90m Int64          \u001b[0m\n",
              "──────┼───────────────────────────────────────────────────\n",
              "    1 │ NULL                                         1382\n",
              "    2 │ [Diet Coke]                                   159\n",
              "    3 │ [Coke]                                        143\n",
              "    4 │ [Sprite]                                       89\n",
              "    5 │ [Fresh Tomato Salsa, [Rice, Blac…              49\n",
              "    6 │ [Fresh Tomato Salsa, [Rice, Blac…              42\n",
              "    7 │ [Fresh Tomato Salsa, [Rice, Blac…              40\n",
              "    8 │ [Lemonade]                                     36\n",
              "    9 │ [Fresh Tomato Salsa (Mild), [Pin…              36\n",
              "   10 │ [Coca Cola]                                    32\n",
              "   11 │ [Fresh Tomato Salsa, [Rice, Blac…              30\n",
              "  ⋮   │                 ⋮                        ⋮\n",
              " 1035 │ [Tomatillo Green Chili Salsa, [F…               1\n",
              " 1036 │ [Fresh Tomato Salsa (Mild), [Faj…               1\n",
              " 1037 │ [Tomatillo Green Chili Salsa, [F…               1\n",
              " 1038 │ [Tomatillo Green Chili Salsa, [F…               1\n",
              " 1039 │ [Roasted Chili Corn Salsa (Mediu…               1\n",
              " 1040 │ [[Lettuce, Rice, Fajita Veggies]]               1\n",
              " 1041 │ [Tomatillo Green Chili (Medium),…               1\n",
              " 1042 │ [Tomatillo Green Chili Salsa, [F…               1\n",
              " 1043 │ [[Fresh Tomato Salsa (Mild), Tom…               1\n",
              " 1044 │ [[Fresh Tomato Salsa (Mild), Roa…               1\n",
              "\u001b[36m                                         1023 rows omitted\u001b[0m"
            ]
          },
          "metadata": {},
          "execution_count": 13
        }
      ]
    },
    {
      "cell_type": "markdown",
      "source": [
        "# Step 12. How many items were orderd in total?"
      ],
      "metadata": {
        "id": "_LDqboSFyj6K"
      }
    },
    {
      "cell_type": "code",
      "source": [
        "sum(chipo[!,:quantity])"
      ],
      "metadata": {
        "colab": {
          "base_uri": "https://localhost:8080/"
        },
        "id": "9svHbAuIvIDu",
        "outputId": "c56a54b4-aef2-4d3d-ca92-a212f09b52ba"
      },
      "execution_count": 14,
      "outputs": [
        {
          "output_type": "execute_result",
          "data": {
            "text/plain": [
              "4972"
            ]
          },
          "metadata": {},
          "execution_count": 14
        }
      ]
    },
    {
      "cell_type": "markdown",
      "source": [
        "# Step 13. Turn the item price into a float"
      ],
      "metadata": {
        "id": "q9VdEd1gzjhq"
      }
    },
    {
      "cell_type": "code",
      "source": [
        "transform!(chipo, :item_price => ByRow(x -> parse(Float64, x[2:end])) => :item_price)"
      ],
      "metadata": {
        "colab": {
          "base_uri": "https://localhost:8080/",
          "height": 753
        },
        "id": "8mMs268Syko-",
        "outputId": "c07b5504-b505-4825-febb-0eaf23a9249c"
      },
      "execution_count": 15,
      "outputs": [
        {
          "output_type": "execute_result",
          "data": {
            "text/latex": "\\begin{tabular}{r|ccccc}\n\t& order\\_id & quantity & item\\_name & choice\\_description & \\\\\n\t\\hline\n\t& Int64 & Int64 & String & String & \\\\\n\t\\hline\n\t1 & 1 & 1 & Chips and Fresh Tomato Salsa & NULL & $\\dots$ \\\\\n\t2 & 1 & 1 & Izze & [Clementine] & $\\dots$ \\\\\n\t3 & 1 & 1 & Nantucket Nectar & [Apple] & $\\dots$ \\\\\n\t4 & 1 & 1 & Chips and Tomatillo-Green Chili Salsa & NULL & $\\dots$ \\\\\n\t5 & 2 & 2 & Chicken Bowl & [Tomatillo-Red Chili Salsa (Hot), [Black Beans, Rice, Cheese, Sour Cream]] & $\\dots$ \\\\\n\t6 & 3 & 1 & Chicken Bowl & [Fresh Tomato Salsa (Mild), [Rice, Cheese, Sour Cream, Guacamole, Lettuce]] & $\\dots$ \\\\\n\t7 & 3 & 1 & Side of Chips & NULL & $\\dots$ \\\\\n\t8 & 4 & 1 & Steak Burrito & [Tomatillo Red Chili Salsa, [Fajita Vegetables, Black Beans, Pinto Beans, Cheese, Sour Cream, Guacamole, Lettuce]] & $\\dots$ \\\\\n\t9 & 4 & 1 & Steak Soft Tacos & [Tomatillo Green Chili Salsa, [Pinto Beans, Cheese, Sour Cream, Lettuce]] & $\\dots$ \\\\\n\t10 & 5 & 1 & Steak Burrito & [Fresh Tomato Salsa, [Rice, Black Beans, Pinto Beans, Cheese, Sour Cream, Lettuce]] & $\\dots$ \\\\\n\t11 & 5 & 1 & Chips and Guacamole & NULL & $\\dots$ \\\\\n\t12 & 6 & 1 & Chicken Crispy Tacos & [Roasted Chili Corn Salsa, [Fajita Vegetables, Rice, Black Beans, Cheese, Sour Cream]] & $\\dots$ \\\\\n\t13 & 6 & 1 & Chicken Soft Tacos & [Roasted Chili Corn Salsa, [Rice, Black Beans, Cheese, Sour Cream]] & $\\dots$ \\\\\n\t14 & 7 & 1 & Chicken Bowl & [Fresh Tomato Salsa, [Fajita Vegetables, Rice, Cheese, Sour Cream, Guacamole]] & $\\dots$ \\\\\n\t15 & 7 & 1 & Chips and Guacamole & NULL & $\\dots$ \\\\\n\t16 & 8 & 1 & Chips and Tomatillo-Green Chili Salsa & NULL & $\\dots$ \\\\\n\t17 & 8 & 1 & Chicken Burrito & [Tomatillo-Green Chili Salsa (Medium), [Pinto Beans, Cheese, Sour Cream]] & $\\dots$ \\\\\n\t18 & 9 & 1 & Chicken Burrito & [Fresh Tomato Salsa (Mild), [Black Beans, Rice, Cheese, Sour Cream, Lettuce]] & $\\dots$ \\\\\n\t19 & 9 & 2 & Canned Soda & [Sprite] & $\\dots$ \\\\\n\t20 & 10 & 1 & Chicken Bowl & [Tomatillo Red Chili Salsa, [Fajita Vegetables, Black Beans, Sour Cream, Cheese, Lettuce]] & $\\dots$ \\\\\n\t21 & 10 & 1 & Chips and Guacamole & NULL & $\\dots$ \\\\\n\t22 & 11 & 1 & Barbacoa Burrito & [[Fresh Tomato Salsa (Mild), Tomatillo-Green Chili Salsa (Medium), Tomatillo-Red Chili Salsa (Hot)], [Rice, Cheese, Sour Cream, Lettuce]] & $\\dots$ \\\\\n\t23 & 11 & 1 & Nantucket Nectar & [Pomegranate Cherry] & $\\dots$ \\\\\n\t24 & 12 & 1 & Chicken Burrito & [[Tomatillo-Green Chili Salsa (Medium), Tomatillo-Red Chili Salsa (Hot)], [Pinto Beans, Rice, Cheese, Sour Cream, Guacamole, Lettuce]] & $\\dots$ \\\\\n\t25 & 12 & 1 & Izze & [Grapefruit] & $\\dots$ \\\\\n\t26 & 13 & 1 & Chips and Fresh Tomato Salsa & NULL & $\\dots$ \\\\\n\t27 & 13 & 1 & Chicken Bowl & [Roasted Chili Corn Salsa (Medium), [Pinto Beans, Rice, Fajita Veggies, Cheese, Sour Cream, Lettuce]] & $\\dots$ \\\\\n\t28 & 14 & 1 & Carnitas Burrito & [[Tomatillo-Green Chili Salsa (Medium), Roasted Chili Corn Salsa (Medium)], [Black Beans, Rice, Sour Cream, Lettuce]] & $\\dots$ \\\\\n\t29 & 14 & 1 & Canned Soda & [Dr. Pepper] & $\\dots$ \\\\\n\t30 & 15 & 1 & Chicken Burrito & [Tomatillo-Green Chili Salsa (Medium), [Pinto Beans, Rice, Cheese, Sour Cream]] & $\\dots$ \\\\\n\t$\\dots$ & $\\dots$ & $\\dots$ & $\\dots$ & $\\dots$ &  \\\\\n\\end{tabular}\n",
            "text/html": [
              "<div class=\"data-frame\"><p>4,622 rows × 5 columns (omitted printing of 1 columns)</p><table class=\"data-frame\"><thead><tr><th></th><th>order_id</th><th>quantity</th><th>item_name</th><th>choice_description</th></tr><tr><th></th><th title=\"Int64\">Int64</th><th title=\"Int64\">Int64</th><th title=\"String\">String</th><th title=\"String\">String</th></tr></thead><tbody><tr><th>1</th><td>1</td><td>1</td><td>Chips and Fresh Tomato Salsa</td><td>NULL</td></tr><tr><th>2</th><td>1</td><td>1</td><td>Izze</td><td>[Clementine]</td></tr><tr><th>3</th><td>1</td><td>1</td><td>Nantucket Nectar</td><td>[Apple]</td></tr><tr><th>4</th><td>1</td><td>1</td><td>Chips and Tomatillo-Green Chili Salsa</td><td>NULL</td></tr><tr><th>5</th><td>2</td><td>2</td><td>Chicken Bowl</td><td>[Tomatillo-Red Chili Salsa (Hot), [Black Beans, Rice, Cheese, Sour Cream]]</td></tr><tr><th>6</th><td>3</td><td>1</td><td>Chicken Bowl</td><td>[Fresh Tomato Salsa (Mild), [Rice, Cheese, Sour Cream, Guacamole, Lettuce]]</td></tr><tr><th>7</th><td>3</td><td>1</td><td>Side of Chips</td><td>NULL</td></tr><tr><th>8</th><td>4</td><td>1</td><td>Steak Burrito</td><td>[Tomatillo Red Chili Salsa, [Fajita Vegetables, Black Beans, Pinto Beans, Cheese, Sour Cream, Guacamole, Lettuce]]</td></tr><tr><th>9</th><td>4</td><td>1</td><td>Steak Soft Tacos</td><td>[Tomatillo Green Chili Salsa, [Pinto Beans, Cheese, Sour Cream, Lettuce]]</td></tr><tr><th>10</th><td>5</td><td>1</td><td>Steak Burrito</td><td>[Fresh Tomato Salsa, [Rice, Black Beans, Pinto Beans, Cheese, Sour Cream, Lettuce]]</td></tr><tr><th>11</th><td>5</td><td>1</td><td>Chips and Guacamole</td><td>NULL</td></tr><tr><th>12</th><td>6</td><td>1</td><td>Chicken Crispy Tacos</td><td>[Roasted Chili Corn Salsa, [Fajita Vegetables, Rice, Black Beans, Cheese, Sour Cream]]</td></tr><tr><th>13</th><td>6</td><td>1</td><td>Chicken Soft Tacos</td><td>[Roasted Chili Corn Salsa, [Rice, Black Beans, Cheese, Sour Cream]]</td></tr><tr><th>14</th><td>7</td><td>1</td><td>Chicken Bowl</td><td>[Fresh Tomato Salsa, [Fajita Vegetables, Rice, Cheese, Sour Cream, Guacamole]]</td></tr><tr><th>15</th><td>7</td><td>1</td><td>Chips and Guacamole</td><td>NULL</td></tr><tr><th>16</th><td>8</td><td>1</td><td>Chips and Tomatillo-Green Chili Salsa</td><td>NULL</td></tr><tr><th>17</th><td>8</td><td>1</td><td>Chicken Burrito</td><td>[Tomatillo-Green Chili Salsa (Medium), [Pinto Beans, Cheese, Sour Cream]]</td></tr><tr><th>18</th><td>9</td><td>1</td><td>Chicken Burrito</td><td>[Fresh Tomato Salsa (Mild), [Black Beans, Rice, Cheese, Sour Cream, Lettuce]]</td></tr><tr><th>19</th><td>9</td><td>2</td><td>Canned Soda</td><td>[Sprite]</td></tr><tr><th>20</th><td>10</td><td>1</td><td>Chicken Bowl</td><td>[Tomatillo Red Chili Salsa, [Fajita Vegetables, Black Beans, Sour Cream, Cheese, Lettuce]]</td></tr><tr><th>21</th><td>10</td><td>1</td><td>Chips and Guacamole</td><td>NULL</td></tr><tr><th>22</th><td>11</td><td>1</td><td>Barbacoa Burrito</td><td>[[Fresh Tomato Salsa (Mild), Tomatillo-Green Chili Salsa (Medium), Tomatillo-Red Chili Salsa (Hot)], [Rice, Cheese, Sour Cream, Lettuce]]</td></tr><tr><th>23</th><td>11</td><td>1</td><td>Nantucket Nectar</td><td>[Pomegranate Cherry]</td></tr><tr><th>24</th><td>12</td><td>1</td><td>Chicken Burrito</td><td>[[Tomatillo-Green Chili Salsa (Medium), Tomatillo-Red Chili Salsa (Hot)], [Pinto Beans, Rice, Cheese, Sour Cream, Guacamole, Lettuce]]</td></tr><tr><th>25</th><td>12</td><td>1</td><td>Izze</td><td>[Grapefruit]</td></tr><tr><th>26</th><td>13</td><td>1</td><td>Chips and Fresh Tomato Salsa</td><td>NULL</td></tr><tr><th>27</th><td>13</td><td>1</td><td>Chicken Bowl</td><td>[Roasted Chili Corn Salsa (Medium), [Pinto Beans, Rice, Fajita Veggies, Cheese, Sour Cream, Lettuce]]</td></tr><tr><th>28</th><td>14</td><td>1</td><td>Carnitas Burrito</td><td>[[Tomatillo-Green Chili Salsa (Medium), Roasted Chili Corn Salsa (Medium)], [Black Beans, Rice, Sour Cream, Lettuce]]</td></tr><tr><th>29</th><td>14</td><td>1</td><td>Canned Soda</td><td>[Dr. Pepper]</td></tr><tr><th>30</th><td>15</td><td>1</td><td>Chicken Burrito</td><td>[Tomatillo-Green Chili Salsa (Medium), [Pinto Beans, Rice, Cheese, Sour Cream]]</td></tr><tr><th>&vellip;</th><td>&vellip;</td><td>&vellip;</td><td>&vellip;</td><td>&vellip;</td></tr></tbody></table></div>"
            ],
            "text/plain": [
              "\u001b[1m4622×5 DataFrame\u001b[0m\n",
              "\u001b[1m  Row \u001b[0m│\u001b[1m order_id \u001b[0m\u001b[1m quantity \u001b[0m\u001b[1m item_name                         \u001b[0m\u001b[1m choice_descript\u001b[0m ⋯\n",
              "\u001b[1m      \u001b[0m│\u001b[90m Int64    \u001b[0m\u001b[90m Int64    \u001b[0m\u001b[90m String                            \u001b[0m\u001b[90m String         \u001b[0m ⋯\n",
              "──────┼─────────────────────────────────────────────────────────────────────────\n",
              "    1 │        1         1  Chips and Fresh Tomato Salsa       NULL            ⋯\n",
              "    2 │        1         1  Izze                               [Clementine]\n",
              "    3 │        1         1  Nantucket Nectar                   [Apple]\n",
              "    4 │        1         1  Chips and Tomatillo-Green Chili …  NULL\n",
              "    5 │        2         2  Chicken Bowl                       [Tomatillo-Red  ⋯\n",
              "    6 │        3         1  Chicken Bowl                       [Fresh Tomato S\n",
              "    7 │        3         1  Side of Chips                      NULL\n",
              "    8 │        4         1  Steak Burrito                      [Tomatillo Red\n",
              "    9 │        4         1  Steak Soft Tacos                   [Tomatillo Gree ⋯\n",
              "   10 │        5         1  Steak Burrito                      [Fresh Tomato S\n",
              "   11 │        5         1  Chips and Guacamole                NULL\n",
              "  ⋮   │    ⋮         ⋮                      ⋮                                  ⋱\n",
              " 4613 │     1831         1  Carnitas Bowl                      [Fresh Tomato S\n",
              " 4614 │     1831         1  Chips                              NULL            ⋯\n",
              " 4615 │     1831         1  Bottled Water                      NULL\n",
              " 4616 │     1832         1  Chicken Soft Tacos                 [Fresh Tomato S\n",
              " 4617 │     1832         1  Chips and Guacamole                NULL\n",
              " 4618 │     1833         1  Steak Burrito                      [Fresh Tomato S ⋯\n",
              " 4619 │     1833         1  Steak Burrito                      [Fresh Tomato S\n",
              " 4620 │     1834         1  Chicken Salad Bowl                 [Fresh Tomato S\n",
              " 4621 │     1834         1  Chicken Salad Bowl                 [Fresh Tomato S\n",
              " 4622 │     1834         1  Chicken Salad Bowl                 [Fresh Tomato S ⋯\n",
              "\u001b[36m                                                 2 columns and 4601 rows omitted\u001b[0m"
            ]
          },
          "metadata": {},
          "execution_count": 15
        }
      ]
    },
    {
      "cell_type": "code",
      "source": [
        "chipo.item_price"
      ],
      "metadata": {
        "colab": {
          "base_uri": "https://localhost:8080/"
        },
        "id": "boHDZyrrzfCF",
        "outputId": "78043437-cf94-42d7-eba6-d9bb7495866a"
      },
      "execution_count": 16,
      "outputs": [
        {
          "output_type": "execute_result",
          "data": {
            "text/plain": [
              "4622-element PooledArrays.PooledVector{Float64, UInt32, SentinelArrays.ChainedVector{UInt32, Vector{UInt32}}}:\n",
              "  2.39\n",
              "  3.39\n",
              "  3.39\n",
              "  2.39\n",
              " 16.98\n",
              " 10.98\n",
              "  1.69\n",
              " 11.75\n",
              "  9.25\n",
              "  9.25\n",
              "  4.45\n",
              "  8.75\n",
              "  8.75\n",
              "  ⋮\n",
              " 11.75\n",
              " 11.25\n",
              "  9.25\n",
              "  2.15\n",
              "  1.5\n",
              "  8.75\n",
              "  4.45\n",
              " 11.75\n",
              " 11.75\n",
              " 11.25\n",
              "  8.75\n",
              "  8.75"
            ]
          },
          "metadata": {},
          "execution_count": 16
        }
      ]
    },
    {
      "cell_type": "markdown",
      "source": [
        "# Step 14. How much was the revenue for the period in the dataset?"
      ],
      "metadata": {
        "id": "GNuMr9xP0ZnP"
      }
    },
    {
      "cell_type": "code",
      "source": [
        "sum(chipo.quantity .* chipo.item_price)"
      ],
      "metadata": {
        "colab": {
          "base_uri": "https://localhost:8080/"
        },
        "id": "A4BjP99Uzl2U",
        "outputId": "f45c3c0f-218e-41e6-ff35-58c740089c3f"
      },
      "execution_count": 17,
      "outputs": [
        {
          "output_type": "execute_result",
          "data": {
            "text/plain": [
              "39237.02"
            ]
          },
          "metadata": {},
          "execution_count": 17
        }
      ]
    },
    {
      "cell_type": "markdown",
      "source": [
        "# Step 15. How many orders were made in the period?"
      ],
      "metadata": {
        "id": "zUJxD0G_2Z7w"
      }
    },
    {
      "cell_type": "code",
      "source": [
        "order_counts = nrow(combine(groupby(chipo, :order_id), nrow => :count_per_order))"
      ],
      "metadata": {
        "colab": {
          "base_uri": "https://localhost:8080/"
        },
        "id": "L4Y9JWtO0WSc",
        "outputId": "8c3fdc5e-0905-481f-b201-eb6f887bf432"
      },
      "execution_count": 18,
      "outputs": [
        {
          "output_type": "execute_result",
          "data": {
            "text/plain": [
              "1834"
            ]
          },
          "metadata": {},
          "execution_count": 18
        }
      ]
    },
    {
      "cell_type": "markdown",
      "source": [
        "# Step 16. What is the average revenue amount per order?"
      ],
      "metadata": {
        "id": "t0gpk-VZJXEa"
      }
    },
    {
      "cell_type": "code",
      "source": [
        "chipo[!, :revenue] = chipo.item_price .* chipo.quantity\n",
        "grouped_by_order_id = combine(groupby(chipo, :order_id),:revenue=>sum)\n",
        "mean(grouped_by_order_id.revenue_sum)"
      ],
      "metadata": {
        "colab": {
          "base_uri": "https://localhost:8080/"
        },
        "id": "N0ePgo0VLXC0",
        "outputId": "aa813ddb-8974-4a2e-ae62-3acba85dad99"
      },
      "execution_count": 31,
      "outputs": [
        {
          "output_type": "execute_result",
          "data": {
            "text/plain": [
              "21.39423118865868"
            ]
          },
          "metadata": {},
          "execution_count": 31
        }
      ]
    },
    {
      "cell_type": "markdown",
      "source": [
        "# Step 17. How many different items are sold?"
      ],
      "metadata": {
        "id": "2glHoP4-Nd5K"
      }
    },
    {
      "cell_type": "code",
      "source": [
        "num_items = nrow(combine(groupby(chipo, :item_name), nrow => :count_item_name))"
      ],
      "metadata": {
        "colab": {
          "base_uri": "https://localhost:8080/"
        },
        "id": "ICrESmdwMZJs",
        "outputId": "85a618d8-0119-417a-d9cf-09269aa8e245"
      },
      "execution_count": 33,
      "outputs": [
        {
          "output_type": "execute_result",
          "data": {
            "text/plain": [
              "50"
            ]
          },
          "metadata": {},
          "execution_count": 33
        }
      ]
    }
  ]
}