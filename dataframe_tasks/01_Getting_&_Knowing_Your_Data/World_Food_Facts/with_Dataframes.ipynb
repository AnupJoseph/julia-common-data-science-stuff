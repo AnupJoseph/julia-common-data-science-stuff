{
  "nbformat": 4,
  "nbformat_minor": 0,
  "metadata": {
    "colab": {
      "name": "01_Getting_&_Knowing_Your_Data_World_Food_Facts.ipynb",
      "provenance": [],
      "collapsed_sections": []
    },
    "kernelspec": {
      "display_name": "Julia",
      "language": "julia",
      "name": "julia"
    },
    "language_info": {
      "file_extension": ".jl",
      "mimetype": "application/julia",
      "name": "julia"
    }
  },
  "cells": [
    {
      "cell_type": "markdown",
      "metadata": {
        "id": "f_1dr-2W5iSU"
      },
      "source": [
        "# Getting Started with Julia in Colab/Jupyter\n",
        "You can either run this notebook in Google Colab, or using Jupyter on your own machine."
      ]
    },
    {
      "cell_type": "markdown",
      "metadata": {
        "id": "6ew60wXrZM0W"
      },
      "source": [
        "## Running on Google Colab\n",
        "1. Work on a copy of this notebook: _File_ > _Save a copy in Drive_ (you will need a Google account). Alternatively, you can download the notebook using _File_ > _Download .ipynb_, then upload it to [Colab](https://colab.research.google.com/).\n",
        "2. Execute the following cell (click on it and press Ctrl+Enter) to install Julia, IJulia (the Jupyter kernel for Julia) and other packages. You can update `JULIA_VERSION` and the other parameters, if you know what you're doing. Installation takes 2-3 minutes.\n",
        "3. Reload this page (press Ctrl+R, or ⌘+R, or the F5 key) and continue to the _Checking the Installation_ section.\n",
        "\n",
        "* _Note_: If your Colab Runtime gets reset (e.g., due to inactivity), repeat steps 2 and 3."
      ]
    },
    {
      "cell_type": "code",
      "metadata": {
        "id": "GIeFXS0F0zww",
        "colab": {
          "base_uri": "https://localhost:8080/"
        },
        "outputId": "d13dca7c-d89a-4895-f24a-64462650f860"
      },
      "source": [
        "%%shell\n",
        "set -e\n",
        "\n",
        "#---------------------------------------------------#\n",
        "JULIA_VERSION=\"1.6.0\" # any version ≥ 0.7.0\n",
        "JULIA_PACKAGES=\"IJulia DataFrames CSV\"\n",
        "JULIA_PACKAGES_IF_GPU=\"CUDA\"\n",
        "JULIA_NUM_THREADS=4\n",
        "#---------------------------------------------------#\n",
        "\n",
        "if [ -n \"$COLAB_GPU\" ] && [ -z `which julia` ]; then\n",
        "  # Install Julia\n",
        "  JULIA_VER=`cut -d '.' -f -2 <<< \"$JULIA_VERSION\"`\n",
        "  echo \"Installing Julia $JULIA_VERSION on the current Colab Runtime...\"\n",
        "  BASE_URL=\"https://julialang-s3.julialang.org/bin/linux/x64\"\n",
        "  URL=\"$BASE_URL/$JULIA_VER/julia-$JULIA_VERSION-linux-x86_64.tar.gz\"\n",
        "  wget -nv $URL -O /tmp/julia.tar.gz # -nv means \"not verbose\"\n",
        "  tar -x -f /tmp/julia.tar.gz -C /usr/local --strip-components 1\n",
        "  rm /tmp/julia.tar.gz\n",
        "\n",
        "  # Install Packages\n",
        "  if [ \"$COLAB_GPU\" = \"1\" ]; then\n",
        "      JULIA_PACKAGES=\"$JULIA_PACKAGES $JULIA_PACKAGES_IF_GPU\"\n",
        "  fi\n",
        "  for PKG in `echo $JULIA_PACKAGES`; do\n",
        "    echo \"Installing Julia package $PKG...\"\n",
        "    julia -e 'using Pkg; pkg\"add '$PKG'; precompile;\"' &> /dev/null\n",
        "  done\n",
        "\n",
        "  # Install kernel and rename it to \"julia\"\n",
        "  echo \"Installing IJulia kernel...\"\n",
        "  julia -e 'using IJulia; IJulia.installkernel(\"julia\", env=Dict(\n",
        "      \"JULIA_NUM_THREADS\"=>\"'\"$JULIA_NUM_THREADS\"'\"))'\n",
        "  KERNEL_DIR=`julia -e \"using IJulia; print(IJulia.kerneldir())\"`\n",
        "  KERNEL_NAME=`ls -d \"$KERNEL_DIR\"/julia*`\n",
        "  mv -f $KERNEL_NAME \"$KERNEL_DIR\"/julia  \n",
        "\n",
        "  echo ''\n",
        "  echo \"Successfully installed `julia -v`!\"\n",
        "  echo \"Please reload this page (press Ctrl+R, ⌘+R, or the F5 key) then\"\n",
        "  echo \"jump to the 'Checking the Installation' section.\"\n",
        "fi"
      ],
      "execution_count": null,
      "outputs": [
        {
          "output_type": "stream",
          "name": "stdout",
          "text": [
            "Installing Julia 1.6.0 on the current Colab Runtime...\n",
            "2021-12-15 11:28:49 URL:https://storage.googleapis.com/julialang2/bin/linux/x64/1.6/julia-1.6.0-linux-x86_64.tar.gz [112838927/112838927] -> \"/tmp/julia.tar.gz\" [1]\n",
            "Installing Julia package IJulia...\n",
            "Installing Julia package DataFrames...\n",
            "Installing Julia package CSV...\n",
            "Installing IJulia kernel...\n",
            "\u001b[36m\u001b[1m[ \u001b[22m\u001b[39m\u001b[36m\u001b[1mInfo: \u001b[22m\u001b[39mInstalling julia kernelspec in /root/.local/share/jupyter/kernels/julia-1.6\n",
            "\n",
            "Successfully installed julia version 1.6.0!\n",
            "Please reload this page (press Ctrl+R, ⌘+R, or the F5 key) then\n",
            "jump to the 'Checking the Installation' section.\n"
          ]
        },
        {
          "output_type": "execute_result",
          "data": {
            "text/plain": [
              ""
            ]
          },
          "metadata": {},
          "execution_count": 1
        }
      ]
    },
    {
      "cell_type": "markdown",
      "metadata": {
        "id": "-OS3Ac017T1i"
      },
      "source": [
        "## Checking the Installation\n",
        "The `versioninfo()` function should print your Julia version and some other info about the system (if you ever ask for help or file an issue about Julia, you should always provide this information)."
      ]
    },
    {
      "cell_type": "code",
      "source": [
        "versioninfo()"
      ],
      "metadata": {
        "colab": {
          "base_uri": "https://localhost:8080/"
        },
        "id": "Rk8yWkNB-I6S",
        "outputId": "ce83bf66-9042-4a76-f10a-347fcf07dfbf"
      },
      "execution_count": 14,
      "outputs": [
        {
          "output_type": "stream",
          "name": "stdout",
          "text": [
            "Julia Version 1.6.0\n",
            "Commit f9720dc2eb (2021-03-24 12:55 UTC)\n",
            "Platform Info:\n",
            "  OS: Linux (x86_64-pc-linux-gnu)\n",
            "  CPU: Intel(R) Xeon(R) CPU @ 2.20GHz\n",
            "  WORD_SIZE: 64\n",
            "  LIBM: libopenlibm\n",
            "  LLVM: libLLVM-11.0.1 (ORCJIT, broadwell)\n",
            "Environment:\n",
            "  JULIA_NUM_THREADS = 4\n"
          ]
        }
      ]
    },
    {
      "cell_type": "markdown",
      "source": [
        "# Step 1. Go to https://www.kaggle.com/openfoodfacts/world-food-facts/data\n",
        "# Step 2. Download the dataset to your computer and unzip it."
      ],
      "metadata": {
        "id": "rZx3ZC3Y-HRB"
      }
    },
    {
      "cell_type": "code",
      "source": [
        "# Got the above link and download the dataset to your local machine and check the URL you have downloaded the zip file from(check the chrome://downloads page).\n",
        "# Paste that URL into URL variable\n",
        "URL = \"\"\n",
        "download(URL, \"archive.zip\")\n",
        "run(`unzip archive.zip`)"
      ],
      "metadata": {
        "id": "kNrprxaEB7Bo"
      },
      "execution_count": null,
      "outputs": []
    },
    {
      "cell_type": "markdown",
      "source": [
        "# Step 1. Import the necessary libraries"
      ],
      "metadata": {
        "id": "-7n2zq7JuJ0f"
      }
    },
    {
      "cell_type": "code",
      "source": [
        "using DataFrames\n",
        "using CSV"
      ],
      "metadata": {
        "id": "e82wYCdPuOlo"
      },
      "execution_count": 17,
      "outputs": []
    },
    {
      "cell_type": "markdown",
      "source": [
        "# Step 3. Use the tsv file and assign it to a dataframe called food"
      ],
      "metadata": {
        "id": "fh-JeuK7BZw0"
      }
    },
    {
      "cell_type": "code",
      "source": [
        "food = CSV.read(\"en.openfoodfacts.org.products.tsv\", DataFrame, delim = \"\\t\")"
      ],
      "metadata": {
        "id": "xc0B7_1q7m_C",
        "colab": {
          "base_uri": "https://localhost:8080/",
          "height": 1000
        },
        "outputId": "5dcf263c-d280-485a-8861-3b2b8bacbcfd"
      },
      "execution_count": 19,
      "outputs": [
        {
          "output_type": "stream",
          "name": "stderr",
          "text": [
            "┌ Warning: thread = 2 warning: only found 27 / 163 columns around data row: 193530. Filling remaining columns with `missing`\n",
            "└ @ CSV /root/.julia/packages/CSV/9LsxT/src/file.jl:634\n",
            "┌ Warning: thread = 2 warning: only found 27 / 163 columns around data row: 193530. Filling remaining columns with `missing`\n",
            "└ @ CSV /root/.julia/packages/CSV/9LsxT/src/file.jl:634\n",
            "┌ Warning: thread = 2 warning: only found 137 / 163 columns around data row: 193531. Filling remaining columns with `missing`\n",
            "└ @ CSV /root/.julia/packages/CSV/9LsxT/src/file.jl:634\n",
            "┌ Warning: thread = 2 warning: only found 27 / 163 columns around data row: 193530. Filling remaining columns with `missing`\n",
            "└ @ CSV /root/.julia/packages/CSV/9LsxT/src/file.jl:634\n",
            "┌ Warning: thread = 2 warning: only found 137 / 163 columns around data row: 193531. Filling remaining columns with `missing`\n",
            "└ @ CSV /root/.julia/packages/CSV/9LsxT/src/file.jl:634\n",
            "┌ Warning: thread = 2 warning: only found 137 / 163 columns around data row: 193531. Filling remaining columns with `missing`\n",
            "└ @ CSV /root/.julia/packages/CSV/9LsxT/src/file.jl:634\n",
            "┌ Warning: thread = 2 warning: only found 27 / 163 columns around data row: 193566. Filling remaining columns with `missing`\n",
            "└ @ CSV /root/.julia/packages/CSV/9LsxT/src/file.jl:634\n",
            "┌ Warning: thread = 2 warning: only found 27 / 163 columns around data row: 193530. Filling remaining columns with `missing`\n",
            "└ @ CSV /root/.julia/packages/CSV/9LsxT/src/file.jl:634\n",
            "┌ Warning: thread = 2 warning: only found 137 / 163 columns around data row: 193531. Filling remaining columns with `missing`\n",
            "└ @ CSV /root/.julia/packages/CSV/9LsxT/src/file.jl:634\n",
            "┌ Warning: thread = 2 warning: only found 27 / 163 columns around data row: 193566. Filling remaining columns with `missing`\n",
            "└ @ CSV /root/.julia/packages/CSV/9LsxT/src/file.jl:634\n",
            "┌ Warning: thread = 2 warning: only found 137 / 163 columns around data row: 193567. Filling remaining columns with `missing`\n",
            "└ @ CSV /root/.julia/packages/CSV/9LsxT/src/file.jl:634\n",
            "┌ Warning: thread = 2 warning: only found 137 / 163 columns around data row: 193567. Filling remaining columns with `missing`\n",
            "└ @ CSV /root/.julia/packages/CSV/9LsxT/src/file.jl:634\n",
            "┌ Warning: thread = 2 warning: only found 27 / 163 columns around data row: 193572. Filling remaining columns with `missing`\n",
            "└ @ CSV /root/.julia/packages/CSV/9LsxT/src/file.jl:634\n",
            "┌ Warning: thread = 2 warning: only found 137 / 163 columns around data row: 193573. Filling remaining columns with `missing`\n",
            "└ @ CSV /root/.julia/packages/CSV/9LsxT/src/file.jl:634\n",
            "┌ Warning: thread = 2 warning: only found 27 / 163 columns around data row: 193582. Filling remaining columns with `missing`\n",
            "└ @ CSV /root/.julia/packages/CSV/9LsxT/src/file.jl:634\n",
            "┌ Warning: thread = 2 warning: only found 137 / 163 columns around data row: 193583. Filling remaining columns with `missing`\n",
            "└ @ CSV /root/.julia/packages/CSV/9LsxT/src/file.jl:634\n",
            "┌ Warning: thread = 2 warning: only found 27 / 163 columns around data row: 193615. Filling remaining columns with `missing`\n",
            "└ @ CSV /root/.julia/packages/CSV/9LsxT/src/file.jl:634\n",
            "┌ Warning: thread = 2 warning: only found 137 / 163 columns around data row: 193616. Filling remaining columns with `missing`\n",
            "└ @ CSV /root/.julia/packages/CSV/9LsxT/src/file.jl:634\n",
            "┌ Warning: thread = 2 warning: only found 27 / 163 columns around data row: 193623. Filling remaining columns with `missing`\n",
            "└ @ CSV /root/.julia/packages/CSV/9LsxT/src/file.jl:634\n",
            "┌ Warning: thread = 2 warning: only found 137 / 163 columns around data row: 193624. Filling remaining columns with `missing`\n",
            "└ @ CSV /root/.julia/packages/CSV/9LsxT/src/file.jl:634\n",
            "┌ Warning: thread = 2 warning: only found 27 / 163 columns around data row: 193625. Filling remaining columns with `missing`\n",
            "└ @ CSV /root/.julia/packages/CSV/9LsxT/src/file.jl:634\n",
            "┌ Warning: thread = 2 warning: only found 137 / 163 columns around data row: 193626. Filling remaining columns with `missing`\n",
            "└ @ CSV /root/.julia/packages/CSV/9LsxT/src/file.jl:634\n",
            "┌ Warning: thread = 2 warning: only found 27 / 163 columns around data row: 193631. Filling remaining columns with `missing`\n",
            "└ @ CSV /root/.julia/packages/CSV/9LsxT/src/file.jl:634\n",
            "┌ Warning: thread = 2 warning: only found 137 / 163 columns around data row: 193632. Filling remaining columns with `missing`\n",
            "└ @ CSV /root/.julia/packages/CSV/9LsxT/src/file.jl:634\n",
            "┌ Warning: thread = 2 warning: only found 27 / 163 columns around data row: 193677. Filling remaining columns with `missing`\n",
            "└ @ CSV /root/.julia/packages/CSV/9LsxT/src/file.jl:634\n",
            "┌ Warning: thread = 2 warning: only found 137 / 163 columns around data row: 193678. Filling remaining columns with `missing`\n",
            "└ @ CSV /root/.julia/packages/CSV/9LsxT/src/file.jl:634\n",
            "┌ Warning: thread = 2 warning: only found 27 / 163 columns around data row: 193706. Filling remaining columns with `missing`\n",
            "└ @ CSV /root/.julia/packages/CSV/9LsxT/src/file.jl:634\n",
            "┌ Warning: thread = 2 warning: only found 137 / 163 columns around data row: 193707. Filling remaining columns with `missing`\n",
            "└ @ CSV /root/.julia/packages/CSV/9LsxT/src/file.jl:634\n",
            "┌ Warning: thread = 2 warning: only found 27 / 163 columns around data row: 193708. Filling remaining columns with `missing`\n",
            "└ @ CSV /root/.julia/packages/CSV/9LsxT/src/file.jl:634\n",
            "┌ Warning: thread = 2 warning: only found 137 / 163 columns around data row: 193709. Filling remaining columns with `missing`\n",
            "└ @ CSV /root/.julia/packages/CSV/9LsxT/src/file.jl:634\n",
            "┌ Warning: thread = 2 warning: only found 27 / 163 columns around data row: 193712. Filling remaining columns with `missing`\n",
            "└ @ CSV /root/.julia/packages/CSV/9LsxT/src/file.jl:634\n",
            "┌ Warning: thread = 2 warning: only found 137 / 163 columns around data row: 193713. Filling remaining columns with `missing`\n",
            "└ @ CSV /root/.julia/packages/CSV/9LsxT/src/file.jl:634\n",
            "┌ Warning: thread = 2 warning: only found 27 / 163 columns around data row: 193714. Filling remaining columns with `missing`\n",
            "└ @ CSV /root/.julia/packages/CSV/9LsxT/src/file.jl:634\n",
            "┌ Warning: thread = 2 warning: only found 137 / 163 columns around data row: 193715. Filling remaining columns with `missing`\n",
            "└ @ CSV /root/.julia/packages/CSV/9LsxT/src/file.jl:634\n",
            "┌ Warning: thread = 2 warning: only found 27 / 163 columns around data row: 193724. Filling remaining columns with `missing`\n",
            "└ @ CSV /root/.julia/packages/CSV/9LsxT/src/file.jl:634\n",
            "┌ Warning: thread = 2 warning: only found 137 / 163 columns around data row: 193725. Filling remaining columns with `missing`\n",
            "└ @ CSV /root/.julia/packages/CSV/9LsxT/src/file.jl:634\n",
            "┌ Warning: thread = 2 warning: only found 27 / 163 columns around data row: 193726. Filling remaining columns with `missing`\n",
            "└ @ CSV /root/.julia/packages/CSV/9LsxT/src/file.jl:634\n",
            "┌ Warning: thread = 2 warning: only found 137 / 163 columns around data row: 193727. Filling remaining columns with `missing`\n",
            "└ @ CSV /root/.julia/packages/CSV/9LsxT/src/file.jl:634\n",
            "┌ Warning: thread = 2 warning: only found 27 / 163 columns around data row: 193733. Filling remaining columns with `missing`\n",
            "└ @ CSV /root/.julia/packages/CSV/9LsxT/src/file.jl:634\n",
            "┌ Warning: thread = 2 warning: only found 137 / 163 columns around data row: 193734. Filling remaining columns with `missing`\n",
            "└ @ CSV /root/.julia/packages/CSV/9LsxT/src/file.jl:634\n",
            "┌ Warning: thread = 2 warning: only found 27 / 163 columns around data row: 193736. Filling remaining columns with `missing`\n",
            "└ @ CSV /root/.julia/packages/CSV/9LsxT/src/file.jl:634\n",
            "┌ Warning: thread = 2 warning: only found 137 / 163 columns around data row: 193737. Filling remaining columns with `missing`\n",
            "└ @ CSV /root/.julia/packages/CSV/9LsxT/src/file.jl:634\n",
            "┌ Warning: thread = 2 warning: only found 27 / 163 columns around data row: 193812. Filling remaining columns with `missing`\n",
            "└ @ CSV /root/.julia/packages/CSV/9LsxT/src/file.jl:634\n",
            "┌ Warning: thread = 2 warning: only found 137 / 163 columns around data row: 193813. Filling remaining columns with `missing`\n",
            "└ @ CSV /root/.julia/packages/CSV/9LsxT/src/file.jl:634\n",
            "┌ Warning: thread = 2 warning: only found 27 / 163 columns around data row: 193832. Filling remaining columns with `missing`\n",
            "└ @ CSV /root/.julia/packages/CSV/9LsxT/src/file.jl:634\n",
            "┌ Warning: thread = 2 warning: only found 137 / 163 columns around data row: 193833. Filling remaining columns with `missing`\n",
            "└ @ CSV /root/.julia/packages/CSV/9LsxT/src/file.jl:634\n",
            "┌ Warning: thread = 2 warning: only found 27 / 163 columns around data row: 193834. Filling remaining columns with `missing`\n",
            "└ @ CSV /root/.julia/packages/CSV/9LsxT/src/file.jl:634\n",
            "┌ Warning: thread = 2 warning: only found 137 / 163 columns around data row: 193835. Filling remaining columns with `missing`\n",
            "└ @ CSV /root/.julia/packages/CSV/9LsxT/src/file.jl:634\n",
            "┌ Warning: thread = 2 warning: only found 27 / 163 columns around data row: 193849. Filling remaining columns with `missing`\n",
            "└ @ CSV /root/.julia/packages/CSV/9LsxT/src/file.jl:634\n",
            "┌ Warning: thread = 2 warning: only found 137 / 163 columns around data row: 193850. Filling remaining columns with `missing`\n",
            "└ @ CSV /root/.julia/packages/CSV/9LsxT/src/file.jl:634\n",
            "┌ Warning: thread = 2 warning: only found 27 / 163 columns around data row: 193877. Filling remaining columns with `missing`\n",
            "└ @ CSV /root/.julia/packages/CSV/9LsxT/src/file.jl:634\n",
            "┌ Warning: thread = 2 warning: only found 137 / 163 columns around data row: 193878. Filling remaining columns with `missing`\n",
            "└ @ CSV /root/.julia/packages/CSV/9LsxT/src/file.jl:634\n",
            "┌ Warning: thread = 2 warning: only found 27 / 163 columns around data row: 193879. Filling remaining columns with `missing`\n",
            "└ @ CSV /root/.julia/packages/CSV/9LsxT/src/file.jl:634\n",
            "┌ Warning: thread = 2 warning: only found 137 / 163 columns around data row: 193880. Filling remaining columns with `missing`\n",
            "└ @ CSV /root/.julia/packages/CSV/9LsxT/src/file.jl:634\n",
            "┌ Warning: thread = 2 warning: only found 27 / 163 columns around data row: 193910. Filling remaining columns with `missing`\n",
            "└ @ CSV /root/.julia/packages/CSV/9LsxT/src/file.jl:634\n",
            "┌ Warning: thread = 2 warning: only found 137 / 163 columns around data row: 193911. Filling remaining columns with `missing`\n",
            "└ @ CSV /root/.julia/packages/CSV/9LsxT/src/file.jl:634\n",
            "┌ Warning: thread = 2 warning: only found 27 / 163 columns around data row: 193933. Filling remaining columns with `missing`\n",
            "└ @ CSV /root/.julia/packages/CSV/9LsxT/src/file.jl:634\n",
            "┌ Warning: thread = 2 warning: only found 137 / 163 columns around data row: 193934. Filling remaining columns with `missing`\n",
            "└ @ CSV /root/.julia/packages/CSV/9LsxT/src/file.jl:634\n",
            "┌ Warning: thread = 2 warning: only found 27 / 163 columns around data row: 193945. Filling remaining columns with `missing`\n",
            "└ @ CSV /root/.julia/packages/CSV/9LsxT/src/file.jl:634\n",
            "┌ Warning: thread = 2 warning: only found 137 / 163 columns around data row: 193946. Filling remaining columns with `missing`\n",
            "└ @ CSV /root/.julia/packages/CSV/9LsxT/src/file.jl:634\n"
          ]
        },
        {
          "output_type": "execute_result",
          "data": {
            "text/latex": "\\begin{tabular}{r|ccc}\n\t& code & url & \\\\\n\t\\hline\n\t& Int128? & String? & \\\\\n\t\\hline\n\t1 & \\emph{missing} & http://world-en.openfoodfacts.org/product/0000000003087/farine-de-ble-noir-ferme-t-y-r-nao & $\\dots$ \\\\\n\t2 & \\emph{missing} & http://world-en.openfoodfacts.org/product/0000000004530/banana-chips-sweetened-whole & $\\dots$ \\\\\n\t3 & \\emph{missing} & http://world-en.openfoodfacts.org/product/0000000004559/peanuts-torn-glasser & $\\dots$ \\\\\n\t4 & \\emph{missing} & http://world-en.openfoodfacts.org/product/0000000016087/organic-salted-nut-mix-grizzlies & $\\dots$ \\\\\n\t5 & \\emph{missing} & http://world-en.openfoodfacts.org/product/0000000016094/organic-polenta-bob-s-red-mill & $\\dots$ \\\\\n\t6 & \\emph{missing} & http://world-en.openfoodfacts.org/product/0000000016100/breadshop-honey-gone-nuts-granola-unfi & $\\dots$ \\\\\n\t7 & \\emph{missing} & http://world-en.openfoodfacts.org/product/0000000016117/organic-long-grain-white-rice-lundberg & $\\dots$ \\\\\n\t8 & \\emph{missing} & http://world-en.openfoodfacts.org/product/0000000016124/organic-muesli-daddy-s-muesli & $\\dots$ \\\\\n\t9 & \\emph{missing} & http://world-en.openfoodfacts.org/product/0000000016193/organic-dark-chocolate-minis-equal-exchange & $\\dots$ \\\\\n\t10 & \\emph{missing} & http://world-en.openfoodfacts.org/product/0000000016513/organic-sunflower-oil-napa-valley-naturals & $\\dots$ \\\\\n\t11 & \\emph{missing} & http://world-en.openfoodfacts.org/product/0000000016612/organic-adzuki-beans-unfi & $\\dots$ \\\\\n\t12 & \\emph{missing} & http://world-en.openfoodfacts.org/product/0000000016650/organic-penne-pasta-gardentime & $\\dots$ \\\\\n\t13 & \\emph{missing} & http://world-en.openfoodfacts.org/product/0000000016872/zen-party-mix-sunridge & $\\dots$ \\\\\n\t14 & \\emph{missing} & http://world-en.openfoodfacts.org/product/0000000016933/organic-golden-flax-seeds-unfi & $\\dots$ \\\\\n\t15 & \\emph{missing} & http://world-en.openfoodfacts.org/product/0000000017497/organic-spicy-punks-eden & $\\dots$ \\\\\n\t16 & \\emph{missing} & http://world-en.openfoodfacts.org/product/0000000018012/cinnamon-nut-granola-grizzlies & $\\dots$ \\\\\n\t17 & \\emph{missing} & http://world-en.openfoodfacts.org/product/0000000018050/organic-hazelnuts-grizzlies & $\\dots$ \\\\\n\t18 & \\emph{missing} & http://world-en.openfoodfacts.org/product/0000000018173/organic-sweetened-banana-chips-unfi & $\\dots$ \\\\\n\t19 & \\emph{missing} & http://world-en.openfoodfacts.org/product/0000000018197/lotus-organic-brown-jasmine-rice-unfi & $\\dots$ \\\\\n\t20 & \\emph{missing} & http://world-en.openfoodfacts.org/product/0000000018227/organic-oat-groats-pcc & $\\dots$ \\\\\n\t21 & \\emph{missing} & http://world-en.openfoodfacts.org/product/0000000018265/energy-power-mix-sunridge & $\\dots$ \\\\\n\t22 & \\emph{missing} & http://world-en.openfoodfacts.org/product/0000000018289/antioxidant-mix-berries-chocolate-sunridge & $\\dots$ \\\\\n\t23 & \\emph{missing} & http://world-en.openfoodfacts.org/product/0000000018319/organic-quinoa-coconut-granola-with-mango-sunridge & $\\dots$ \\\\\n\t24 & \\emph{missing} & http://world-en.openfoodfacts.org/product/0000000018340/fire-roasted-hatch-green-chile-almonds-sunridge & $\\dots$ \\\\\n\t25 & \\emph{missing} & http://world-en.openfoodfacts.org/product/0000000018357/peanut-butter-power-chews-sunridge & $\\dots$ \\\\\n\t26 & \\emph{missing} & http://world-en.openfoodfacts.org/product/0000000018371/real-salt-granular-redmond & $\\dots$ \\\\\n\t27 & \\emph{missing} & http://world-en.openfoodfacts.org/product/0000000018388/organic-unswt-berry-coconut-granola-new-england-naturals & $\\dots$ \\\\\n\t28 & \\emph{missing} & http://world-en.openfoodfacts.org/product/0000000018395/roasted-salted-black-pepper-cashews-sunridge & $\\dots$ \\\\\n\t29 & \\emph{missing} & http://world-en.openfoodfacts.org/product/0000000018401/thai-curry-roasted-cashews-sunridge & $\\dots$ \\\\\n\t30 & \\emph{missing} & http://world-en.openfoodfacts.org/product/0000000018418/wasabi-tamari-almonds-sunridge & $\\dots$ \\\\\n\t$\\dots$ & $\\dots$ & $\\dots$ &  \\\\\n\\end{tabular}\n",
            "text/html": [
              "<div class=\"data-frame\"><p>356,027 rows × 163 columns (omitted printing of 161 columns)</p><table class=\"data-frame\"><thead><tr><th></th><th>code</th><th>url</th></tr><tr><th></th><th title=\"Union{Missing, Int128}\">Int128?</th><th title=\"Union{Missing, String}\">String?</th></tr></thead><tbody><tr><th>1</th><td><em>missing</em></td><td>http://world-en.openfoodfacts.org/product/0000000003087/farine-de-ble-noir-ferme-t-y-r-nao</td></tr><tr><th>2</th><td><em>missing</em></td><td>http://world-en.openfoodfacts.org/product/0000000004530/banana-chips-sweetened-whole</td></tr><tr><th>3</th><td><em>missing</em></td><td>http://world-en.openfoodfacts.org/product/0000000004559/peanuts-torn-glasser</td></tr><tr><th>4</th><td><em>missing</em></td><td>http://world-en.openfoodfacts.org/product/0000000016087/organic-salted-nut-mix-grizzlies</td></tr><tr><th>5</th><td><em>missing</em></td><td>http://world-en.openfoodfacts.org/product/0000000016094/organic-polenta-bob-s-red-mill</td></tr><tr><th>6</th><td><em>missing</em></td><td>http://world-en.openfoodfacts.org/product/0000000016100/breadshop-honey-gone-nuts-granola-unfi</td></tr><tr><th>7</th><td><em>missing</em></td><td>http://world-en.openfoodfacts.org/product/0000000016117/organic-long-grain-white-rice-lundberg</td></tr><tr><th>8</th><td><em>missing</em></td><td>http://world-en.openfoodfacts.org/product/0000000016124/organic-muesli-daddy-s-muesli</td></tr><tr><th>9</th><td><em>missing</em></td><td>http://world-en.openfoodfacts.org/product/0000000016193/organic-dark-chocolate-minis-equal-exchange</td></tr><tr><th>10</th><td><em>missing</em></td><td>http://world-en.openfoodfacts.org/product/0000000016513/organic-sunflower-oil-napa-valley-naturals</td></tr><tr><th>11</th><td><em>missing</em></td><td>http://world-en.openfoodfacts.org/product/0000000016612/organic-adzuki-beans-unfi</td></tr><tr><th>12</th><td><em>missing</em></td><td>http://world-en.openfoodfacts.org/product/0000000016650/organic-penne-pasta-gardentime</td></tr><tr><th>13</th><td><em>missing</em></td><td>http://world-en.openfoodfacts.org/product/0000000016872/zen-party-mix-sunridge</td></tr><tr><th>14</th><td><em>missing</em></td><td>http://world-en.openfoodfacts.org/product/0000000016933/organic-golden-flax-seeds-unfi</td></tr><tr><th>15</th><td><em>missing</em></td><td>http://world-en.openfoodfacts.org/product/0000000017497/organic-spicy-punks-eden</td></tr><tr><th>16</th><td><em>missing</em></td><td>http://world-en.openfoodfacts.org/product/0000000018012/cinnamon-nut-granola-grizzlies</td></tr><tr><th>17</th><td><em>missing</em></td><td>http://world-en.openfoodfacts.org/product/0000000018050/organic-hazelnuts-grizzlies</td></tr><tr><th>18</th><td><em>missing</em></td><td>http://world-en.openfoodfacts.org/product/0000000018173/organic-sweetened-banana-chips-unfi</td></tr><tr><th>19</th><td><em>missing</em></td><td>http://world-en.openfoodfacts.org/product/0000000018197/lotus-organic-brown-jasmine-rice-unfi</td></tr><tr><th>20</th><td><em>missing</em></td><td>http://world-en.openfoodfacts.org/product/0000000018227/organic-oat-groats-pcc</td></tr><tr><th>21</th><td><em>missing</em></td><td>http://world-en.openfoodfacts.org/product/0000000018265/energy-power-mix-sunridge</td></tr><tr><th>22</th><td><em>missing</em></td><td>http://world-en.openfoodfacts.org/product/0000000018289/antioxidant-mix-berries-chocolate-sunridge</td></tr><tr><th>23</th><td><em>missing</em></td><td>http://world-en.openfoodfacts.org/product/0000000018319/organic-quinoa-coconut-granola-with-mango-sunridge</td></tr><tr><th>24</th><td><em>missing</em></td><td>http://world-en.openfoodfacts.org/product/0000000018340/fire-roasted-hatch-green-chile-almonds-sunridge</td></tr><tr><th>25</th><td><em>missing</em></td><td>http://world-en.openfoodfacts.org/product/0000000018357/peanut-butter-power-chews-sunridge</td></tr><tr><th>26</th><td><em>missing</em></td><td>http://world-en.openfoodfacts.org/product/0000000018371/real-salt-granular-redmond</td></tr><tr><th>27</th><td><em>missing</em></td><td>http://world-en.openfoodfacts.org/product/0000000018388/organic-unswt-berry-coconut-granola-new-england-naturals</td></tr><tr><th>28</th><td><em>missing</em></td><td>http://world-en.openfoodfacts.org/product/0000000018395/roasted-salted-black-pepper-cashews-sunridge</td></tr><tr><th>29</th><td><em>missing</em></td><td>http://world-en.openfoodfacts.org/product/0000000018401/thai-curry-roasted-cashews-sunridge</td></tr><tr><th>30</th><td><em>missing</em></td><td>http://world-en.openfoodfacts.org/product/0000000018418/wasabi-tamari-almonds-sunridge</td></tr><tr><th>&vellip;</th><td>&vellip;</td><td>&vellip;</td></tr></tbody></table></div>"
            ],
            "text/plain": [
              "\u001b[1m356027×163 DataFrame\u001b[0m\n",
              "\u001b[1m    Row \u001b[0m│\u001b[1m code          \u001b[0m\u001b[1m url                               \u001b[0m\u001b[1m creator           \u001b[0m ⋯\n",
              "\u001b[1m        \u001b[0m│\u001b[90m Int128?       \u001b[0m\u001b[90m String?                           \u001b[0m\u001b[90m String?           \u001b[0m ⋯\n",
              "────────┼───────────────────────────────────────────────────────────────────────\n",
              "      1 │\u001b[90m       missing \u001b[0m http://world-en.openfoodfacts.or…  openfoodfacts-cont ⋯\n",
              "      2 │\u001b[90m       missing \u001b[0m http://world-en.openfoodfacts.or…  usda-ndb-import\n",
              "      3 │\u001b[90m       missing \u001b[0m http://world-en.openfoodfacts.or…  usda-ndb-import\n",
              "      4 │\u001b[90m       missing \u001b[0m http://world-en.openfoodfacts.or…  usda-ndb-import\n",
              "      5 │\u001b[90m       missing \u001b[0m http://world-en.openfoodfacts.or…  usda-ndb-import    ⋯\n",
              "      6 │\u001b[90m       missing \u001b[0m http://world-en.openfoodfacts.or…  usda-ndb-import\n",
              "      7 │\u001b[90m       missing \u001b[0m http://world-en.openfoodfacts.or…  usda-ndb-import\n",
              "      8 │\u001b[90m       missing \u001b[0m http://world-en.openfoodfacts.or…  usda-ndb-import\n",
              "      9 │\u001b[90m       missing \u001b[0m http://world-en.openfoodfacts.or…  usda-ndb-import    ⋯\n",
              "     10 │\u001b[90m       missing \u001b[0m http://world-en.openfoodfacts.or…  usda-ndb-import\n",
              "     11 │\u001b[90m       missing \u001b[0m http://world-en.openfoodfacts.or…  usda-ndb-import\n",
              "   ⋮    │       ⋮                        ⋮                              ⋮      ⋱\n",
              " 356018 │      99111250  http://world-en.openfoodfacts.or…  balooval\n",
              " 356019 │          9918  http://world-en.openfoodfacts.or…  woshilapin         ⋯\n",
              " 356020 │ 9935010000003  http://world-en.openfoodfacts.or…  sebleouf\n",
              " 356021 │      99410148  http://world-en.openfoodfacts.or…  date-limite-app\n",
              " 356022 │ 9948282780603  http://world-en.openfoodfacts.or…  openfoodfacts-cont\n",
              " 356023 │      99567453  http://world-en.openfoodfacts.or…  usda-ndb-import    ⋯\n",
              " 356024 │ 9970229501521  http://world-en.openfoodfacts.or…  tomato\n",
              " 356025 │ 9977471758307  http://world-en.openfoodfacts.or…  openfoodfacts-cont\n",
              " 356026 │ 9980282863788  http://world-en.openfoodfacts.or…  openfoodfacts-cont\n",
              " 356027 │  999990026839  http://world-en.openfoodfacts.or…  usda-ndb-import    ⋯\n",
              "\u001b[36m                                             161 columns and 356006 rows omitted\u001b[0m"
            ]
          },
          "metadata": {},
          "execution_count": 19
        }
      ]
    },
    {
      "cell_type": "markdown",
      "source": [
        "# Step 4. See the first 5 entries"
      ],
      "metadata": {
        "id": "b8Qk25H3EGK_"
      }
    },
    {
      "cell_type": "code",
      "source": [
        "first(food, 5)"
      ],
      "metadata": {
        "colab": {
          "base_uri": "https://localhost:8080/",
          "height": 198
        },
        "id": "SxoZgnA4BUyf",
        "outputId": "c6285e53-3ebc-447f-e7cd-af5d7c4f0249"
      },
      "execution_count": 20,
      "outputs": [
        {
          "output_type": "execute_result",
          "data": {
            "text/latex": "\\begin{tabular}{r|ccc}\n\t& code & url & \\\\\n\t\\hline\n\t& Int128? & String? & \\\\\n\t\\hline\n\t1 & \\emph{missing} & http://world-en.openfoodfacts.org/product/0000000003087/farine-de-ble-noir-ferme-t-y-r-nao & $\\dots$ \\\\\n\t2 & \\emph{missing} & http://world-en.openfoodfacts.org/product/0000000004530/banana-chips-sweetened-whole & $\\dots$ \\\\\n\t3 & \\emph{missing} & http://world-en.openfoodfacts.org/product/0000000004559/peanuts-torn-glasser & $\\dots$ \\\\\n\t4 & \\emph{missing} & http://world-en.openfoodfacts.org/product/0000000016087/organic-salted-nut-mix-grizzlies & $\\dots$ \\\\\n\t5 & \\emph{missing} & http://world-en.openfoodfacts.org/product/0000000016094/organic-polenta-bob-s-red-mill & $\\dots$ \\\\\n\\end{tabular}\n",
            "text/html": [
              "<div class=\"data-frame\"><p>5 rows × 163 columns (omitted printing of 161 columns)</p><table class=\"data-frame\"><thead><tr><th></th><th>code</th><th>url</th></tr><tr><th></th><th title=\"Union{Missing, Int128}\">Int128?</th><th title=\"Union{Missing, String}\">String?</th></tr></thead><tbody><tr><th>1</th><td><em>missing</em></td><td>http://world-en.openfoodfacts.org/product/0000000003087/farine-de-ble-noir-ferme-t-y-r-nao</td></tr><tr><th>2</th><td><em>missing</em></td><td>http://world-en.openfoodfacts.org/product/0000000004530/banana-chips-sweetened-whole</td></tr><tr><th>3</th><td><em>missing</em></td><td>http://world-en.openfoodfacts.org/product/0000000004559/peanuts-torn-glasser</td></tr><tr><th>4</th><td><em>missing</em></td><td>http://world-en.openfoodfacts.org/product/0000000016087/organic-salted-nut-mix-grizzlies</td></tr><tr><th>5</th><td><em>missing</em></td><td>http://world-en.openfoodfacts.org/product/0000000016094/organic-polenta-bob-s-red-mill</td></tr></tbody></table></div>"
            ],
            "text/plain": [
              "\u001b[1m5×163 DataFrame\u001b[0m\n",
              "\u001b[1m Row \u001b[0m│\u001b[1m code    \u001b[0m\u001b[1m url                               \u001b[0m\u001b[1m creator                    \u001b[0m\u001b[1m\u001b[0m ⋯\n",
              "\u001b[1m     \u001b[0m│\u001b[90m Int128? \u001b[0m\u001b[90m String?                           \u001b[0m\u001b[90m String?                    \u001b[0m\u001b[90m\u001b[0m ⋯\n",
              "─────┼──────────────────────────────────────────────────────────────────────────\n",
              "   1 │\u001b[90m missing \u001b[0m http://world-en.openfoodfacts.or…  openfoodfacts-contributors  ⋯\n",
              "   2 │\u001b[90m missing \u001b[0m http://world-en.openfoodfacts.or…  usda-ndb-import\n",
              "   3 │\u001b[90m missing \u001b[0m http://world-en.openfoodfacts.or…  usda-ndb-import\n",
              "   4 │\u001b[90m missing \u001b[0m http://world-en.openfoodfacts.or…  usda-ndb-import\n",
              "   5 │\u001b[90m missing \u001b[0m http://world-en.openfoodfacts.or…  usda-ndb-import             ⋯\n",
              "\u001b[36m                                                             160 columns omitted\u001b[0m"
            ]
          },
          "metadata": {},
          "execution_count": 20
        }
      ]
    },
    {
      "cell_type": "markdown",
      "source": [
        "# Step 5. What is the number of observations in the dataset?"
      ],
      "metadata": {
        "id": "_GUhyiycFNdg"
      }
    },
    {
      "cell_type": "code",
      "source": [
        "# We already have it but I guess it wouldn't hurt to do it?\n",
        "nrow(food)"
      ],
      "metadata": {
        "colab": {
          "base_uri": "https://localhost:8080/"
        },
        "id": "PkvhxPzoEGsN",
        "outputId": "6c8c4aa2-3192-4b93-c8a6-8366b3ddf4a0"
      },
      "execution_count": 21,
      "outputs": [
        {
          "output_type": "execute_result",
          "data": {
            "text/plain": [
              "356027"
            ]
          },
          "metadata": {},
          "execution_count": 21
        }
      ]
    },
    {
      "cell_type": "markdown",
      "source": [
        "# Step 6. What is the number of columns in the dataset?"
      ],
      "metadata": {
        "id": "8ZiOQsgBH6pN"
      }
    },
    {
      "cell_type": "code",
      "source": [
        "ncol(food)"
      ],
      "metadata": {
        "colab": {
          "base_uri": "https://localhost:8080/"
        },
        "id": "9oDLsiy0FIIe",
        "outputId": "4979472d-fa2e-49b1-9bce-1d5885f0d479"
      },
      "execution_count": 22,
      "outputs": [
        {
          "output_type": "execute_result",
          "data": {
            "text/plain": [
              "163"
            ]
          },
          "metadata": {},
          "execution_count": 22
        }
      ]
    },
    {
      "cell_type": "markdown",
      "source": [
        "# Step 7. Print the name of all the columns."
      ],
      "metadata": {
        "id": "Yjri3gRsIWP3"
      }
    },
    {
      "cell_type": "code",
      "source": [
        "names(food)"
      ],
      "metadata": {
        "colab": {
          "base_uri": "https://localhost:8080/"
        },
        "id": "zAC7jwIRH2MI",
        "outputId": "3f00a4bf-cce4-4fac-cdc1-f000bc88c71e"
      },
      "execution_count": 23,
      "outputs": [
        {
          "output_type": "execute_result",
          "data": {
            "text/plain": [
              "163-element Vector{String}:\n",
              " \"code\"\n",
              " \"url\"\n",
              " \"creator\"\n",
              " \"created_t\"\n",
              " \"created_datetime\"\n",
              " \"last_modified_t\"\n",
              " \"last_modified_datetime\"\n",
              " \"product_name\"\n",
              " \"generic_name\"\n",
              " \"quantity\"\n",
              " \"packaging\"\n",
              " \"packaging_tags\"\n",
              " \"brands\"\n",
              " ⋮\n",
              " \"taurine_100g\"\n",
              " \"ph_100g\"\n",
              " \"fruits-vegetables-nuts_100g\"\n",
              " \"fruits-vegetables-nuts-estimate_100g\"\n",
              " \"collagen-meat-protein-ratio_100g\"\n",
              " \"cocoa_100g\"\n",
              " \"chlorophyl_100g\"\n",
              " \"carbon-footprint_100g\"\n",
              " \"nutrition-score-fr_100g\"\n",
              " \"nutrition-score-uk_100g\"\n",
              " \"glycemic-index_100g\"\n",
              " \"water-hardness_100g\""
            ]
          },
          "metadata": {},
          "execution_count": 23
        }
      ]
    },
    {
      "cell_type": "markdown",
      "source": [
        "# Step 8. What is the name of 105th column?"
      ],
      "metadata": {
        "id": "YJ930rQ0LSO-"
      }
    },
    {
      "cell_type": "code",
      "source": [
        "# Always remember that Julia is 1-indexed and you don't have to apply the minus one thing everywhere\n",
        "names(food)[105]"
      ],
      "metadata": {
        "colab": {
          "base_uri": "https://localhost:8080/"
        },
        "id": "jkxnMaUWITYP",
        "outputId": "004a313f-67d7-4968-9bd6-2ef4444d66fb"
      },
      "execution_count": 27,
      "outputs": [
        {
          "output_type": "execute_result",
          "data": {
            "text/plain": [
              "\"-glucose_100g\""
            ]
          },
          "metadata": {},
          "execution_count": 27
        }
      ]
    },
    {
      "cell_type": "markdown",
      "source": [
        "# Step 9. What is the type of the observations of the 105th column?"
      ],
      "metadata": {
        "id": "NgRBpLLSMUCw"
      }
    },
    {
      "cell_type": "code",
      "source": [
        "col_name = names(food)[105]\n",
        "eltype(food[!, col_name])\n",
        "\n",
        "# OR since we just found that\n",
        "eltype(food[!,\"-glucose_100g\"])\n",
        "# Not sure about what's missing here"
      ],
      "metadata": {
        "colab": {
          "base_uri": "https://localhost:8080/"
        },
        "id": "8oa4CqG_Lqvs",
        "outputId": "0e9964f6-2bfb-45a1-a164-898ff3ec6597"
      },
      "execution_count": 33,
      "outputs": [
        {
          "output_type": "execute_result",
          "data": {
            "text/plain": [
              "Union{Missing, Float64}"
            ]
          },
          "metadata": {},
          "execution_count": 33
        }
      ]
    },
    {
      "cell_type": "markdown",
      "source": [
        "# Step 10. How is the dataset indexed?"
      ],
      "metadata": {
        "id": "e8SqQZjnOBjc"
      }
    },
    {
      "cell_type": "code",
      "source": [
        "# DataFrames.jl doesn't have table indexing. \n",
        "# It differs very sharply from pandas on this philosophically. Using grouby is the way if you necessarily need index."
      ],
      "metadata": {
        "id": "l5N2yV-tOEQt"
      },
      "execution_count": null,
      "outputs": []
    },
    {
      "cell_type": "markdown",
      "source": [
        "# Step 11. What is the product name of the 19th observation?"
      ],
      "metadata": {
        "id": "eRp4rXwjOM7L"
      }
    },
    {
      "cell_type": "code",
      "source": [
        "food[19, \"product_name\"]"
      ],
      "metadata": {
        "colab": {
          "base_uri": "https://localhost:8080/"
        },
        "id": "CVPEjDWFMHfA",
        "outputId": "7123f4d4-02ea-4ec3-da12-528816fa9aba"
      },
      "execution_count": 35,
      "outputs": [
        {
          "output_type": "execute_result",
          "data": {
            "text/plain": [
              "\"Lotus Organic Brown Jasmine Rice\""
            ]
          },
          "metadata": {},
          "execution_count": 35
        }
      ]
    }
  ]
}