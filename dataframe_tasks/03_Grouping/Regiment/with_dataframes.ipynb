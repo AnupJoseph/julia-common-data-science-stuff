{
  "cells": [
    {
      "cell_type": "markdown",
      "metadata": {
        "id": "f_1dr-2W5iSU"
      },
      "source": [
        "# Getting Started with Julia in Colab/Jupyter\n",
        "You can either run this notebook in Google Colab, or using Jupyter on your own machine."
      ]
    },
    {
      "cell_type": "markdown",
      "metadata": {
        "id": "6ew60wXrZM0W"
      },
      "source": [
        "## Running on Google Colab\n",
        "1. Work on a copy of this notebook: _File_ > _Save a copy in Drive_ (you will need a Google account). Alternatively, you can download the notebook using _File_ > _Download .ipynb_, then upload it to [Colab](https://colab.research.google.com/).\n",
        "2. Execute the following cell (click on it and press Ctrl+Enter) to install Julia, IJulia (the Jupyter kernel for Julia) and other packages. You can update `JULIA_VERSION` and the other parameters, if you know what you're doing. Installation takes 2-3 minutes.\n",
        "3. Reload this page (press Ctrl+R, or ⌘+R, or the F5 key) and continue to the _Checking the Installation_ section.\n",
        "\n",
        "* _Note_: If your Colab Runtime gets reset (e.g., due to inactivity), repeat steps 2 and 3."
      ]
    },
    {
      "cell_type": "code",
      "execution_count": null,
      "metadata": {
        "colab": {
          "base_uri": "https://localhost:8080/"
        },
        "id": "GIeFXS0F0zww",
        "outputId": "f5320fef-d345-4b6a-b242-cdfa337e7e78"
      },
      "outputs": [
        {
          "output_type": "stream",
          "name": "stdout",
          "text": [
            "Installing Julia 1.6.0 on the current Colab Runtime...\n",
            "2022-01-28 12:06:14 URL:https://storage.googleapis.com/julialang2/bin/linux/x64/1.6/julia-1.6.0-linux-x86_64.tar.gz [112838927/112838927] -> \"/tmp/julia.tar.gz\" [1]\n",
            "Installing Julia package IJulia...\n",
            "Installing Julia package DataFrames...\n",
            "Installing Julia package CSV...\n",
            "Installing Julia package Pipe...\n",
            "Installing Julia package DataFramesMeta...\n",
            "Installing IJulia kernel...\n",
            "\u001b[36m\u001b[1m[ \u001b[22m\u001b[39m\u001b[36m\u001b[1mInfo: \u001b[22m\u001b[39mInstalling julia kernelspec in /root/.local/share/jupyter/kernels/julia-1.6\n",
            "\n",
            "Successfully installed julia version 1.6.0!\n",
            "Please reload this page (press Ctrl+R, ⌘+R, or the F5 key) then\n",
            "jump to the 'Checking the Installation' section.\n"
          ]
        },
        {
          "output_type": "execute_result",
          "data": {
            "text/plain": [
              ""
            ]
          },
          "metadata": {},
          "execution_count": 1
        }
      ],
      "source": [
        "%%shell\n",
        "set -e\n",
        "\n",
        "#---------------------------------------------------#\n",
        "JULIA_VERSION=\"1.6.0\" # any version ≥ 0.7.0\n",
        "JULIA_PACKAGES=\"IJulia DataFrames CSV Pipe DataFramesMeta\"\n",
        "JULIA_PACKAGES_IF_GPU=\"CUDA\"\n",
        "JULIA_NUM_THREADS=4\n",
        "#---------------------------------------------------#\n",
        "\n",
        "if [ -n \"$COLAB_GPU\" ] && [ -z `which julia` ]; then\n",
        "  # Install Julia\n",
        "  JULIA_VER=`cut -d '.' -f -2 <<< \"$JULIA_VERSION\"`\n",
        "  echo \"Installing Julia $JULIA_VERSION on the current Colab Runtime...\"\n",
        "  BASE_URL=\"https://julialang-s3.julialang.org/bin/linux/x64\"\n",
        "  URL=\"$BASE_URL/$JULIA_VER/julia-$JULIA_VERSION-linux-x86_64.tar.gz\"\n",
        "  wget -nv $URL -O /tmp/julia.tar.gz # -nv means \"not verbose\"\n",
        "  tar -x -f /tmp/julia.tar.gz -C /usr/local --strip-components 1\n",
        "  rm /tmp/julia.tar.gz\n",
        "\n",
        "  # Install Packages\n",
        "  if [ \"$COLAB_GPU\" = \"1\" ]; then\n",
        "      JULIA_PACKAGES=\"$JULIA_PACKAGES $JULIA_PACKAGES_IF_GPU\"\n",
        "  fi\n",
        "  for PKG in `echo $JULIA_PACKAGES`; do\n",
        "    echo \"Installing Julia package $PKG...\"\n",
        "    julia -e 'using Pkg; pkg\"add '$PKG'; precompile;\"' &> /dev/null\n",
        "  done\n",
        "\n",
        "  # Install kernel and rename it to \"julia\"\n",
        "  echo \"Installing IJulia kernel...\"\n",
        "  julia -e 'using IJulia; IJulia.installkernel(\"julia\", env=Dict(\n",
        "      \"JULIA_NUM_THREADS\"=>\"'\"$JULIA_NUM_THREADS\"'\"))'\n",
        "  KERNEL_DIR=`julia -e \"using IJulia; print(IJulia.kerneldir())\"`\n",
        "  KERNEL_NAME=`ls -d \"$KERNEL_DIR\"/julia*`\n",
        "  mv -f $KERNEL_NAME \"$KERNEL_DIR\"/julia  \n",
        "\n",
        "  echo ''\n",
        "  echo \"Successfully installed `julia -v`!\"\n",
        "  echo \"Please reload this page (press Ctrl+R, ⌘+R, or the F5 key) then\"\n",
        "  echo \"jump to the 'Checking the Installation' section.\"\n",
        "fi"
      ]
    },
    {
      "cell_type": "markdown",
      "metadata": {
        "id": "-OS3Ac017T1i"
      },
      "source": [
        "## Checking the Installation\n",
        "The `versioninfo()` function should print your Julia version and some other info about the system (if you ever ask for help or file an issue about Julia, you should always provide this information)."
      ]
    },
    {
      "cell_type": "code",
      "execution_count": 1,
      "metadata": {
        "colab": {
          "base_uri": "https://localhost:8080/"
        },
        "id": "EEzvvzCl1i0F",
        "outputId": "312e6891-43d8-4ef6-ca6c-e9bf999a4dc1"
      },
      "outputs": [
        {
          "output_type": "stream",
          "name": "stdout",
          "text": [
            "Julia Version 1.6.0\n",
            "Commit f9720dc2eb (2021-03-24 12:55 UTC)\n",
            "Platform Info:\n",
            "  OS: Linux (x86_64-pc-linux-gnu)\n",
            "  CPU: Intel(R) Xeon(R) CPU @ 2.20GHz\n",
            "  WORD_SIZE: 64\n",
            "  LIBM: libopenlibm\n",
            "  LLVM: libLLVM-11.0.1 (ORCJIT, broadwell)\n",
            "Environment:\n",
            "  JULIA_NUM_THREADS = 4\n"
          ]
        }
      ],
      "source": [
        "versioninfo()"
      ]
    },
    {
      "cell_type": "markdown",
      "source": [
        "# Step 1. Import the necessary libraries"
      ],
      "metadata": {
        "id": "dQIL9-RPmUMi"
      }
    },
    {
      "cell_type": "code",
      "source": [
        "using DataFrames\n",
        "using CSV\n",
        "using Pipe\n",
        "using Statistics\n",
        "using DataFramesMeta"
      ],
      "metadata": {
        "id": "lToD-JQAmRVi"
      },
      "execution_count": 2,
      "outputs": []
    },
    {
      "cell_type": "markdown",
      "source": [
        "# Step 2. Create the DataFrame with the following values:"
      ],
      "metadata": {
        "id": "F2AmPtu8mbiB"
      }
    },
    {
      "cell_type": "code",
      "source": [
        "raw_data = Dict(:regiment => [\"Nighthawks\", \"Nighthawks\", \"Nighthawks\", \"Nighthawks\", \"Dragoons\", \"Dragoons\", \"Dragoons\", \"Dragoons\", \"Scouts\", \"Scouts\", \"Scouts\", \"Scouts\"],\n",
        "    :company => [\"1st\", \"1st\", \"2nd\", \"2nd\", \"1st\", \"1st\", \"2nd\", \"2nd\", \"1st\", \"1st\", \"2nd\", \"2nd\"],\n",
        "    :name => [\"Miller\", \"Jacobson\", \"Ali\", \"Milner\", \"Cooze\", \"Jacon\", \"Ryaner\", \"Sone\", \"Sloan\", \"Piger\", \"Riani\", \"Ali\"],\n",
        "    :preTestScore => [4, 24, 31, 2, 3, 4, 24, 31, 2, 3, 2, 3],\n",
        "    :postTestScore => [25, 94, 57, 62, 70, 25, 94, 57, 62, 70, 62, 70])"
      ],
      "metadata": {
        "colab": {
          "base_uri": "https://localhost:8080/"
        },
        "id": "gWOh7NyDmU7M",
        "outputId": "e0377d1a-ada9-4e53-fdb7-c98aededb366"
      },
      "execution_count": 3,
      "outputs": [
        {
          "output_type": "execute_result",
          "data": {
            "text/plain": [
              "Dict{Symbol, Vector{T} where T} with 5 entries:\n",
              "  :company       => [\"1st\", \"1st\", \"2nd\", \"2nd\", \"1st\", \"1st\", \"2nd\", \"2nd\", \"1…\n",
              "  :name          => [\"Miller\", \"Jacobson\", \"Ali\", \"Milner\", \"Cooze\", \"Jacon\", \"…\n",
              "  :preTestScore  => [4, 24, 31, 2, 3, 4, 24, 31, 2, 3, 2, 3]\n",
              "  :postTestScore => [25, 94, 57, 62, 70, 25, 94, 57, 62, 70, 62, 70]\n",
              "  :regiment      => [\"Nighthawks\", \"Nighthawks\", \"Nighthawks\", \"Nighthawks\", \"D…"
            ]
          },
          "metadata": {},
          "execution_count": 3
        }
      ]
    },
    {
      "cell_type": "markdown",
      "source": [
        "# Step 3. Assign it to a variable called regiment."
      ],
      "metadata": {
        "id": "JWbLwdOcmwbJ"
      }
    },
    {
      "cell_type": "code",
      "source": [
        "regiment = DataFrame(; raw_data...)"
      ],
      "metadata": {
        "colab": {
          "base_uri": "https://localhost:8080/",
          "height": 347
        },
        "id": "r7L1ihROmesA",
        "outputId": "d6e46501-6410-45dd-9480-8ca12b60935b"
      },
      "execution_count": 4,
      "outputs": [
        {
          "output_type": "execute_result",
          "data": {
            "text/latex": "\\begin{tabular}{r|ccccc}\n\t& company & name & preTestScore & postTestScore & regiment\\\\\n\t\\hline\n\t& String & String & Int64 & Int64 & String\\\\\n\t\\hline\n\t1 & 1st & Miller & 4 & 25 & Nighthawks \\\\\n\t2 & 1st & Jacobson & 24 & 94 & Nighthawks \\\\\n\t3 & 2nd & Ali & 31 & 57 & Nighthawks \\\\\n\t4 & 2nd & Milner & 2 & 62 & Nighthawks \\\\\n\t5 & 1st & Cooze & 3 & 70 & Dragoons \\\\\n\t6 & 1st & Jacon & 4 & 25 & Dragoons \\\\\n\t7 & 2nd & Ryaner & 24 & 94 & Dragoons \\\\\n\t8 & 2nd & Sone & 31 & 57 & Dragoons \\\\\n\t9 & 1st & Sloan & 2 & 62 & Scouts \\\\\n\t10 & 1st & Piger & 3 & 70 & Scouts \\\\\n\t11 & 2nd & Riani & 2 & 62 & Scouts \\\\\n\t12 & 2nd & Ali & 3 & 70 & Scouts \\\\\n\\end{tabular}\n",
            "text/html": [
              "<div class=\"data-frame\"><p>12 rows × 5 columns</p><table class=\"data-frame\"><thead><tr><th></th><th>company</th><th>name</th><th>preTestScore</th><th>postTestScore</th><th>regiment</th></tr><tr><th></th><th title=\"String\">String</th><th title=\"String\">String</th><th title=\"Int64\">Int64</th><th title=\"Int64\">Int64</th><th title=\"String\">String</th></tr></thead><tbody><tr><th>1</th><td>1st</td><td>Miller</td><td>4</td><td>25</td><td>Nighthawks</td></tr><tr><th>2</th><td>1st</td><td>Jacobson</td><td>24</td><td>94</td><td>Nighthawks</td></tr><tr><th>3</th><td>2nd</td><td>Ali</td><td>31</td><td>57</td><td>Nighthawks</td></tr><tr><th>4</th><td>2nd</td><td>Milner</td><td>2</td><td>62</td><td>Nighthawks</td></tr><tr><th>5</th><td>1st</td><td>Cooze</td><td>3</td><td>70</td><td>Dragoons</td></tr><tr><th>6</th><td>1st</td><td>Jacon</td><td>4</td><td>25</td><td>Dragoons</td></tr><tr><th>7</th><td>2nd</td><td>Ryaner</td><td>24</td><td>94</td><td>Dragoons</td></tr><tr><th>8</th><td>2nd</td><td>Sone</td><td>31</td><td>57</td><td>Dragoons</td></tr><tr><th>9</th><td>1st</td><td>Sloan</td><td>2</td><td>62</td><td>Scouts</td></tr><tr><th>10</th><td>1st</td><td>Piger</td><td>3</td><td>70</td><td>Scouts</td></tr><tr><th>11</th><td>2nd</td><td>Riani</td><td>2</td><td>62</td><td>Scouts</td></tr><tr><th>12</th><td>2nd</td><td>Ali</td><td>3</td><td>70</td><td>Scouts</td></tr></tbody></table></div>"
            ],
            "text/plain": [
              "\u001b[1m12×5 DataFrame\u001b[0m\n",
              "\u001b[1m Row \u001b[0m│\u001b[1m company \u001b[0m\u001b[1m name     \u001b[0m\u001b[1m preTestScore \u001b[0m\u001b[1m postTestScore \u001b[0m\u001b[1m regiment   \u001b[0m\n",
              "\u001b[1m     \u001b[0m│\u001b[90m String  \u001b[0m\u001b[90m String   \u001b[0m\u001b[90m Int64        \u001b[0m\u001b[90m Int64         \u001b[0m\u001b[90m String     \u001b[0m\n",
              "─────┼────────────────────────────────────────────────────────────\n",
              "   1 │ 1st      Miller               4             25  Nighthawks\n",
              "   2 │ 1st      Jacobson            24             94  Nighthawks\n",
              "   3 │ 2nd      Ali                 31             57  Nighthawks\n",
              "   4 │ 2nd      Milner               2             62  Nighthawks\n",
              "   5 │ 1st      Cooze                3             70  Dragoons\n",
              "   6 │ 1st      Jacon                4             25  Dragoons\n",
              "   7 │ 2nd      Ryaner              24             94  Dragoons\n",
              "   8 │ 2nd      Sone                31             57  Dragoons\n",
              "   9 │ 1st      Sloan                2             62  Scouts\n",
              "  10 │ 1st      Piger                3             70  Scouts\n",
              "  11 │ 2nd      Riani                2             62  Scouts\n",
              "  12 │ 2nd      Ali                  3             70  Scouts"
            ]
          },
          "metadata": {},
          "execution_count": 4
        }
      ]
    },
    {
      "cell_type": "markdown",
      "source": [
        "# Step 4. What is the mean preTestScore from the regiment Nighthawks?"
      ],
      "metadata": {
        "id": "DlotMPgypRLa"
      }
    },
    {
      "cell_type": "code",
      "source": [
        "nighthawks = filter(x -> x.regiment != \"Nighthawks\", regiment)\n",
        "mean(nighthawks[!,:preTestScore])"
      ],
      "metadata": {
        "colab": {
          "base_uri": "https://localhost:8080/"
        },
        "id": "LCaGViJFnuhA",
        "outputId": "9794de98-3dad-45c7-ff6a-a1a7ac1a618d"
      },
      "execution_count": 8,
      "outputs": [
        {
          "output_type": "execute_result",
          "data": {
            "text/plain": [
              "9.0"
            ]
          },
          "metadata": {},
          "execution_count": 8
        }
      ]
    },
    {
      "cell_type": "markdown",
      "source": [
        "# Step 5. Present general statistics by company"
      ],
      "metadata": {
        "id": "UCdz_Twkq0Pi"
      }
    },
    {
      "cell_type": "code",
      "source": [
        "company_group = groupby(regiment, :company)"
      ],
      "metadata": {
        "id": "fAN1b0BdrN-3"
      },
      "execution_count": null,
      "outputs": []
    },
    {
      "cell_type": "code",
      "source": [
        "combine(company_group, describe)"
      ],
      "metadata": {
        "colab": {
          "base_uri": "https://localhost:8080/",
          "height": 305
        },
        "id": "Z9YRYWNDo_ly",
        "outputId": "a5d21755-328a-4ac4-9644-f4f0f23e49a5"
      },
      "execution_count": 10,
      "outputs": [
        {
          "output_type": "execute_result",
          "data": {
            "text/latex": "\\begin{tabular}{r|cccccccc}\n\t& company & variable & mean & min & median & max & nmissing & eltype\\\\\n\t\\hline\n\t& String & Symbol & Union… & Any & Union… & Any & Int64 & DataType\\\\\n\t\\hline\n\t1 & 1st & company &  & 1st &  & 1st & 0 & String \\\\\n\t2 & 1st & name &  & Cooze &  & Sloan & 0 & String \\\\\n\t3 & 1st & preTestScore & 6.66667 & 2 & 3.5 & 24 & 0 & Int64 \\\\\n\t4 & 1st & postTestScore & 57.6667 & 25 & 66.0 & 94 & 0 & Int64 \\\\\n\t5 & 1st & regiment &  & Dragoons &  & Scouts & 0 & String \\\\\n\t6 & 2nd & company &  & 2nd &  & 2nd & 0 & String \\\\\n\t7 & 2nd & name &  & Ali &  & Sone & 0 & String \\\\\n\t8 & 2nd & preTestScore & 15.5 & 2 & 13.5 & 31 & 0 & Int64 \\\\\n\t9 & 2nd & postTestScore & 67.0 & 57 & 62.0 & 94 & 0 & Int64 \\\\\n\t10 & 2nd & regiment &  & Dragoons &  & Scouts & 0 & String \\\\\n\\end{tabular}\n",
            "text/html": [
              "<div class=\"data-frame\"><p>10 rows × 8 columns</p><table class=\"data-frame\"><thead><tr><th></th><th>company</th><th>variable</th><th>mean</th><th>min</th><th>median</th><th>max</th><th>nmissing</th><th>eltype</th></tr><tr><th></th><th title=\"String\">String</th><th title=\"Symbol\">Symbol</th><th title=\"Union{Nothing, Float64}\">Union…</th><th title=\"Any\">Any</th><th title=\"Union{Nothing, Float64}\">Union…</th><th title=\"Any\">Any</th><th title=\"Int64\">Int64</th><th title=\"DataType\">DataType</th></tr></thead><tbody><tr><th>1</th><td>1st</td><td>company</td><td></td><td>1st</td><td></td><td>1st</td><td>0</td><td>String</td></tr><tr><th>2</th><td>1st</td><td>name</td><td></td><td>Cooze</td><td></td><td>Sloan</td><td>0</td><td>String</td></tr><tr><th>3</th><td>1st</td><td>preTestScore</td><td>6.66667</td><td>2</td><td>3.5</td><td>24</td><td>0</td><td>Int64</td></tr><tr><th>4</th><td>1st</td><td>postTestScore</td><td>57.6667</td><td>25</td><td>66.0</td><td>94</td><td>0</td><td>Int64</td></tr><tr><th>5</th><td>1st</td><td>regiment</td><td></td><td>Dragoons</td><td></td><td>Scouts</td><td>0</td><td>String</td></tr><tr><th>6</th><td>2nd</td><td>company</td><td></td><td>2nd</td><td></td><td>2nd</td><td>0</td><td>String</td></tr><tr><th>7</th><td>2nd</td><td>name</td><td></td><td>Ali</td><td></td><td>Sone</td><td>0</td><td>String</td></tr><tr><th>8</th><td>2nd</td><td>preTestScore</td><td>15.5</td><td>2</td><td>13.5</td><td>31</td><td>0</td><td>Int64</td></tr><tr><th>9</th><td>2nd</td><td>postTestScore</td><td>67.0</td><td>57</td><td>62.0</td><td>94</td><td>0</td><td>Int64</td></tr><tr><th>10</th><td>2nd</td><td>regiment</td><td></td><td>Dragoons</td><td></td><td>Scouts</td><td>0</td><td>String</td></tr></tbody></table></div>"
            ],
            "text/plain": [
              "\u001b[1m10×8 DataFrame\u001b[0m\n",
              "\u001b[1m Row \u001b[0m│\u001b[1m company \u001b[0m\u001b[1m variable      \u001b[0m\u001b[1m mean    \u001b[0m\u001b[1m min      \u001b[0m\u001b[1m median \u001b[0m\u001b[1m max    \u001b[0m\u001b[1m nmissing \u001b[0m\u001b[1m el\u001b[0m ⋯\n",
              "\u001b[1m     \u001b[0m│\u001b[90m String  \u001b[0m\u001b[90m Symbol        \u001b[0m\u001b[90m Union…  \u001b[0m\u001b[90m Any      \u001b[0m\u001b[90m Union… \u001b[0m\u001b[90m Any    \u001b[0m\u001b[90m Int64    \u001b[0m\u001b[90m Da\u001b[0m ⋯\n",
              "─────┼──────────────────────────────────────────────────────────────────────────\n",
              "   1 │ 1st      company       \u001b[90m         \u001b[0m 1st      \u001b[90m        \u001b[0m 1st            0  St ⋯\n",
              "   2 │ 1st      name          \u001b[90m         \u001b[0m Cooze    \u001b[90m        \u001b[0m Sloan          0  St\n",
              "   3 │ 1st      preTestScore   6.66667  2         3.5     24             0  In\n",
              "   4 │ 1st      postTestScore  57.6667  25        66.0    94             0  In\n",
              "   5 │ 1st      regiment      \u001b[90m         \u001b[0m Dragoons \u001b[90m        \u001b[0m Scouts         0  St ⋯\n",
              "   6 │ 2nd      company       \u001b[90m         \u001b[0m 2nd      \u001b[90m        \u001b[0m 2nd            0  St\n",
              "   7 │ 2nd      name          \u001b[90m         \u001b[0m Ali      \u001b[90m        \u001b[0m Sone           0  St\n",
              "   8 │ 2nd      preTestScore   15.5     2         13.5    31             0  In\n",
              "   9 │ 2nd      postTestScore  67.0     57        62.0    94             0  In ⋯\n",
              "  10 │ 2nd      regiment      \u001b[90m         \u001b[0m Dragoons \u001b[90m        \u001b[0m Scouts         0  St\n",
              "\u001b[36m                                                                1 column omitted\u001b[0m"
            ]
          },
          "metadata": {},
          "execution_count": 10
        }
      ]
    },
    {
      "cell_type": "markdown",
      "source": [
        "# Step 6. What is the mean of each company's preTestScore?\n"
      ],
      "metadata": {
        "id": "qirXJTXUrQmK"
      }
    },
    {
      "cell_type": "code",
      "source": [
        "combine(company_group, :preTestScore => mean)"
      ],
      "metadata": {
        "colab": {
          "base_uri": "https://localhost:8080/",
          "height": 134
        },
        "id": "0KJ0cIV3qeNG",
        "outputId": "c04aac47-1676-4252-d65b-95941c9fb695"
      },
      "execution_count": 11,
      "outputs": [
        {
          "output_type": "execute_result",
          "data": {
            "text/latex": "\\begin{tabular}{r|cc}\n\t& company & preTestScore\\_mean\\\\\n\t\\hline\n\t& String & Float64\\\\\n\t\\hline\n\t1 & 1st & 6.66667 \\\\\n\t2 & 2nd & 15.5 \\\\\n\\end{tabular}\n",
            "text/html": [
              "<div class=\"data-frame\"><p>2 rows × 2 columns</p><table class=\"data-frame\"><thead><tr><th></th><th>company</th><th>preTestScore_mean</th></tr><tr><th></th><th title=\"String\">String</th><th title=\"Float64\">Float64</th></tr></thead><tbody><tr><th>1</th><td>1st</td><td>6.66667</td></tr><tr><th>2</th><td>2nd</td><td>15.5</td></tr></tbody></table></div>"
            ],
            "text/plain": [
              "\u001b[1m2×2 DataFrame\u001b[0m\n",
              "\u001b[1m Row \u001b[0m│\u001b[1m company \u001b[0m\u001b[1m preTestScore_mean \u001b[0m\n",
              "\u001b[1m     \u001b[0m│\u001b[90m String  \u001b[0m\u001b[90m Float64           \u001b[0m\n",
              "─────┼────────────────────────────\n",
              "   1 │ 1st                6.66667\n",
              "   2 │ 2nd               15.5"
            ]
          },
          "metadata": {},
          "execution_count": 11
        }
      ]
    },
    {
      "cell_type": "markdown",
      "source": [
        "# Step 7. Present the mean preTestScores grouped by regiment and company"
      ],
      "metadata": {
        "id": "zf0FDvM2rzct"
      }
    },
    {
      "cell_type": "code",
      "source": [
        "regiment_company_group = groupby(regiment, [:regiment, :company])\n",
        "combine(regiment_company_group, :preTestScore => mean)"
      ],
      "metadata": {
        "colab": {
          "base_uri": "https://localhost:8080/",
          "height": 219
        },
        "id": "OO2vufQ5rKkP",
        "outputId": "fa63f3a6-ea86-4f1d-fd1e-ff97247a341b"
      },
      "execution_count": 12,
      "outputs": [
        {
          "output_type": "execute_result",
          "data": {
            "text/latex": "\\begin{tabular}{r|ccc}\n\t& regiment & company & preTestScore\\_mean\\\\\n\t\\hline\n\t& String & String & Float64\\\\\n\t\\hline\n\t1 & Nighthawks & 1st & 14.0 \\\\\n\t2 & Nighthawks & 2nd & 16.5 \\\\\n\t3 & Dragoons & 1st & 3.5 \\\\\n\t4 & Dragoons & 2nd & 27.5 \\\\\n\t5 & Scouts & 1st & 2.5 \\\\\n\t6 & Scouts & 2nd & 2.5 \\\\\n\\end{tabular}\n",
            "text/html": [
              "<div class=\"data-frame\"><p>6 rows × 3 columns</p><table class=\"data-frame\"><thead><tr><th></th><th>regiment</th><th>company</th><th>preTestScore_mean</th></tr><tr><th></th><th title=\"String\">String</th><th title=\"String\">String</th><th title=\"Float64\">Float64</th></tr></thead><tbody><tr><th>1</th><td>Nighthawks</td><td>1st</td><td>14.0</td></tr><tr><th>2</th><td>Nighthawks</td><td>2nd</td><td>16.5</td></tr><tr><th>3</th><td>Dragoons</td><td>1st</td><td>3.5</td></tr><tr><th>4</th><td>Dragoons</td><td>2nd</td><td>27.5</td></tr><tr><th>5</th><td>Scouts</td><td>1st</td><td>2.5</td></tr><tr><th>6</th><td>Scouts</td><td>2nd</td><td>2.5</td></tr></tbody></table></div>"
            ],
            "text/plain": [
              "\u001b[1m6×3 DataFrame\u001b[0m\n",
              "\u001b[1m Row \u001b[0m│\u001b[1m regiment   \u001b[0m\u001b[1m company \u001b[0m\u001b[1m preTestScore_mean \u001b[0m\n",
              "\u001b[1m     \u001b[0m│\u001b[90m String     \u001b[0m\u001b[90m String  \u001b[0m\u001b[90m Float64           \u001b[0m\n",
              "─────┼────────────────────────────────────────\n",
              "   1 │ Nighthawks  1st                   14.0\n",
              "   2 │ Nighthawks  2nd                   16.5\n",
              "   3 │ Dragoons    1st                    3.5\n",
              "   4 │ Dragoons    2nd                   27.5\n",
              "   5 │ Scouts      1st                    2.5\n",
              "   6 │ Scouts      2nd                    2.5"
            ]
          },
          "metadata": {},
          "execution_count": 12
        }
      ]
    },
    {
      "cell_type": "markdown",
      "source": [
        "# Step 8. Present the mean preTestScores grouped by regiment and company without heirarchical indexing"
      ],
      "metadata": {
        "id": "HU1mN0ORtCBP"
      }
    },
    {
      "cell_type": "code",
      "source": [
        "combine(regiment_company_group, :preTestScore => mean, ungroup = false)"
      ],
      "metadata": {
        "colab": {
          "base_uri": "https://localhost:8080/",
          "height": 255
        },
        "id": "1ZLCqhq4ru6D",
        "outputId": "c6d0e440-8187-4857-dc23-190eb5a11a09"
      },
      "execution_count": 13,
      "outputs": [
        {
          "output_type": "execute_result",
          "data": {
            "text/latex": "GroupedDataFrame with 6 groups based on keys: regiment, company\n\nFirst Group (1 row): regiment = \"Nighthawks\", company = \"1st\"\n\n\\begin{tabular}{r|ccc}\n\t& regiment & company & preTestScore\\_mean\\\\\n\t\\hline\n\t& String & String & Float64\\\\\n\t\\hline\n\t1 & Nighthawks & 1st & 14.0 \\\\\n\\end{tabular}\n\n$\\dots$\n\nLast Group (1 row): regiment = \"Scouts\", company = \"2nd\"\n\n\\begin{tabular}{r|ccc}\n\t& regiment & company & preTestScore\\_mean\\\\\n\t\\hline\n\t& String & String & Float64\\\\\n\t\\hline\n\t1 & Scouts & 2nd & 2.5 \\\\\n\\end{tabular}\n",
            "text/html": [
              "<p><b>GroupedDataFrame with 6 groups based on keys: regiment, company</b></p><p><i>First Group (1 row): regiment = &quot;Nighthawks&quot;, company = &quot;1st&quot;</i></p><div class=\"data-frame\"><table class=\"data-frame\"><thead><tr><th></th><th>regiment</th><th>company</th><th>preTestScore_mean</th></tr><tr><th></th><th title=\"String\">String</th><th title=\"String\">String</th><th title=\"Float64\">Float64</th></tr></thead><tbody><tr><th>1</th><td>Nighthawks</td><td>1st</td><td>14.0</td></tr></tbody></table></div><p>&vellip;</p><p><i>Last Group (1 row): regiment = &quot;Scouts&quot;, company = &quot;2nd&quot;</i></p><div class=\"data-frame\"><table class=\"data-frame\"><thead><tr><th></th><th>regiment</th><th>company</th><th>preTestScore_mean</th></tr><tr><th></th><th title=\"String\">String</th><th title=\"String\">String</th><th title=\"Float64\">Float64</th></tr></thead><tbody><tr><th>1</th><td>Scouts</td><td>2nd</td><td>2.5</td></tr></tbody></table></div>"
            ],
            "text/plain": [
              "GroupedDataFrame with 6 groups based on keys: regiment, company\n",
              "First Group (1 row): regiment = \"Nighthawks\", company = \"1st\"\n",
              "\u001b[1m Row \u001b[0m│\u001b[1m regiment   \u001b[0m\u001b[1m company \u001b[0m\u001b[1m preTestScore_mean \u001b[0m\n",
              "\u001b[1m     \u001b[0m│\u001b[90m String     \u001b[0m\u001b[90m String  \u001b[0m\u001b[90m Float64           \u001b[0m\n",
              "─────┼────────────────────────────────────────\n",
              "   1 │ Nighthawks  1st                   14.0\n",
              "⋮\n",
              "Last Group (1 row): regiment = \"Scouts\", company = \"2nd\"\n",
              "\u001b[1m Row \u001b[0m│\u001b[1m regiment \u001b[0m\u001b[1m company \u001b[0m\u001b[1m preTestScore_mean \u001b[0m\n",
              "\u001b[1m     \u001b[0m│\u001b[90m String   \u001b[0m\u001b[90m String  \u001b[0m\u001b[90m Float64           \u001b[0m\n",
              "─────┼──────────────────────────────────────\n",
              "   1 │ Scouts    2nd                    2.5"
            ]
          },
          "metadata": {},
          "execution_count": 13
        }
      ]
    },
    {
      "cell_type": "markdown",
      "source": [
        "# Step 10. What is the number of observations in each regiment and company\n"
      ],
      "metadata": {
        "id": "qaN12CantZW4"
      }
    },
    {
      "cell_type": "code",
      "source": [
        "combine(regiment_company_group, :preTestScore => size)"
      ],
      "metadata": {
        "colab": {
          "base_uri": "https://localhost:8080/",
          "height": 219
        },
        "id": "CoqYt2XMse7J",
        "outputId": "f6210fb9-d5a7-4bce-e422-0d62366b1bef"
      },
      "execution_count": 14,
      "outputs": [
        {
          "output_type": "execute_result",
          "data": {
            "text/latex": "\\begin{tabular}{r|ccc}\n\t& regiment & company & preTestScore\\_size\\\\\n\t\\hline\n\t& String & String & Tuple…\\\\\n\t\\hline\n\t1 & Nighthawks & 1st & (2,) \\\\\n\t2 & Nighthawks & 2nd & (2,) \\\\\n\t3 & Dragoons & 1st & (2,) \\\\\n\t4 & Dragoons & 2nd & (2,) \\\\\n\t5 & Scouts & 1st & (2,) \\\\\n\t6 & Scouts & 2nd & (2,) \\\\\n\\end{tabular}\n",
            "text/html": [
              "<div class=\"data-frame\"><p>6 rows × 3 columns</p><table class=\"data-frame\"><thead><tr><th></th><th>regiment</th><th>company</th><th>preTestScore_size</th></tr><tr><th></th><th title=\"String\">String</th><th title=\"String\">String</th><th title=\"Tuple{Int64}\">Tuple…</th></tr></thead><tbody><tr><th>1</th><td>Nighthawks</td><td>1st</td><td>(2,)</td></tr><tr><th>2</th><td>Nighthawks</td><td>2nd</td><td>(2,)</td></tr><tr><th>3</th><td>Dragoons</td><td>1st</td><td>(2,)</td></tr><tr><th>4</th><td>Dragoons</td><td>2nd</td><td>(2,)</td></tr><tr><th>5</th><td>Scouts</td><td>1st</td><td>(2,)</td></tr><tr><th>6</th><td>Scouts</td><td>2nd</td><td>(2,)</td></tr></tbody></table></div>"
            ],
            "text/plain": [
              "\u001b[1m6×3 DataFrame\u001b[0m\n",
              "\u001b[1m Row \u001b[0m│\u001b[1m regiment   \u001b[0m\u001b[1m company \u001b[0m\u001b[1m preTestScore_size \u001b[0m\n",
              "\u001b[1m     \u001b[0m│\u001b[90m String     \u001b[0m\u001b[90m String  \u001b[0m\u001b[90m Tuple{Int64}      \u001b[0m\n",
              "─────┼────────────────────────────────────────\n",
              "   1 │ Nighthawks  1st      (2,)\n",
              "   2 │ Nighthawks  2nd      (2,)\n",
              "   3 │ Dragoons    1st      (2,)\n",
              "   4 │ Dragoons    2nd      (2,)\n",
              "   5 │ Scouts      1st      (2,)\n",
              "   6 │ Scouts      2nd      (2,)"
            ]
          },
          "metadata": {},
          "execution_count": 14
        }
      ]
    },
    {
      "cell_type": "code",
      "source": [
        "regiment_group = groupby(regiment, :regiment)\n",
        "\n",
        "for group in regiment_group\n",
        "    print(group)\n",
        "end"
      ],
      "metadata": {
        "colab": {
          "base_uri": "https://localhost:8080/"
        },
        "id": "a1s0EMsktVmf",
        "outputId": "6b0787b6-0935-43fe-eeef-afad356067d7"
      },
      "execution_count": 16,
      "outputs": [
        {
          "output_type": "stream",
          "name": "stdout",
          "text": [
            "\u001b[1m4×5 SubDataFrame\u001b[0m\n",
            "\u001b[1m Row \u001b[0m│\u001b[1m company \u001b[0m\u001b[1m name     \u001b[0m\u001b[1m preTestScore \u001b[0m\u001b[1m postTestScore \u001b[0m\u001b[1m regiment   \u001b[0m\n",
            "\u001b[1m     \u001b[0m│\u001b[90m String  \u001b[0m\u001b[90m String   \u001b[0m\u001b[90m Int64        \u001b[0m\u001b[90m Int64         \u001b[0m\u001b[90m String     \u001b[0m\n",
            "─────┼────────────────────────────────────────────────────────────\n",
            "   1 │ 1st      Miller               4             25  Nighthawks\n",
            "   2 │ 1st      Jacobson            24             94  Nighthawks\n",
            "   3 │ 2nd      Ali                 31             57  Nighthawks\n",
            "   4 │ 2nd      Milner               2             62  Nighthawks\u001b[1m4×5 SubDataFrame\u001b[0m\n",
            "\u001b[1m Row \u001b[0m│\u001b[1m company \u001b[0m\u001b[1m name   \u001b[0m\u001b[1m preTestScore \u001b[0m\u001b[1m postTestScore \u001b[0m\u001b[1m regiment \u001b[0m\n",
            "\u001b[1m     \u001b[0m│\u001b[90m String  \u001b[0m\u001b[90m String \u001b[0m\u001b[90m Int64        \u001b[0m\u001b[90m Int64         \u001b[0m\u001b[90m String   \u001b[0m\n",
            "─────┼────────────────────────────────────────────────────────\n",
            "   1 │ 1st      Cooze              3             70  Dragoons\n",
            "   2 │ 1st      Jacon              4             25  Dragoons\n",
            "   3 │ 2nd      Ryaner            24             94  Dragoons\n",
            "   4 │ 2nd      Sone              31             57  Dragoons\u001b[1m4×5 SubDataFrame\u001b[0m\n",
            "\u001b[1m Row \u001b[0m│\u001b[1m company \u001b[0m\u001b[1m name   \u001b[0m\u001b[1m preTestScore \u001b[0m\u001b[1m postTestScore \u001b[0m\u001b[1m regiment \u001b[0m\n",
            "\u001b[1m     \u001b[0m│\u001b[90m String  \u001b[0m\u001b[90m String \u001b[0m\u001b[90m Int64        \u001b[0m\u001b[90m Int64         \u001b[0m\u001b[90m String   \u001b[0m\n",
            "─────┼────────────────────────────────────────────────────────\n",
            "   1 │ 1st      Sloan              2             62  Scouts\n",
            "   2 │ 1st      Piger              3             70  Scouts\n",
            "   3 │ 2nd      Riani              2             62  Scouts\n",
            "   4 │ 2nd      Ali                3             70  Scouts"
          ]
        }
      ]
    }
  ],
  "metadata": {
    "colab": {
      "collapsed_sections": [],
      "name": "03_Grouping_Regiment.ipynb",
      "provenance": []
    },
    "kernelspec": {
      "display_name": "Julia",
      "language": "julia",
      "name": "julia"
    },
    "language_info": {
      "file_extension": ".jl",
      "mimetype": "application/julia",
      "name": "julia"
    }
  },
  "nbformat": 4,
  "nbformat_minor": 0
}