{
  "nbformat": 4,
  "nbformat_minor": 0,
  "metadata": {
    "colab": {
      "name": "03_Grouping_Alcohol_Consumption.ipynb",
      "provenance": [],
      "collapsed_sections": []
    },
    "kernelspec": {
      "display_name": "Julia",
      "language": "julia",
      "name": "julia"
    },
    "language_info": {
      "file_extension": ".jl",
      "mimetype": "application/julia",
      "name": "julia"
    }
  },
  "cells": [
    {
      "cell_type": "markdown",
      "metadata": {
        "id": "f_1dr-2W5iSU"
      },
      "source": [
        "# Getting Started with Julia in Colab/Jupyter\n",
        "You can either run this notebook in Google Colab, or using Jupyter on your own machine."
      ]
    },
    {
      "cell_type": "markdown",
      "metadata": {
        "id": "6ew60wXrZM0W"
      },
      "source": [
        "## Running on Google Colab\n",
        "1. Work on a copy of this notebook: _File_ > _Save a copy in Drive_ (you will need a Google account). Alternatively, you can download the notebook using _File_ > _Download .ipynb_, then upload it to [Colab](https://colab.research.google.com/).\n",
        "2. Execute the following cell (click on it and press Ctrl+Enter) to install Julia, IJulia (the Jupyter kernel for Julia) and other packages. You can update `JULIA_VERSION` and the other parameters, if you know what you're doing. Installation takes 2-3 minutes.\n",
        "3. Reload this page (press Ctrl+R, or ⌘+R, or the F5 key) and continue to the _Checking the Installation_ section.\n",
        "\n",
        "* _Note_: If your Colab Runtime gets reset (e.g., due to inactivity), repeat steps 2 and 3."
      ]
    },
    {
      "cell_type": "code",
      "metadata": {
        "id": "GIeFXS0F0zww",
        "colab": {
          "base_uri": "https://localhost:8080/"
        },
        "outputId": "c606e5b5-9b07-4a60-d905-fe139a602712"
      },
      "source": [
        "%%shell\n",
        "set -e\n",
        "\n",
        "#---------------------------------------------------#\n",
        "JULIA_VERSION=\"1.6.0\" # any version ≥ 0.7.0\n",
        "JULIA_PACKAGES=\"IJulia DataFrames CSV Pipe\"\n",
        "JULIA_PACKAGES_IF_GPU=\"CUDA\"\n",
        "JULIA_NUM_THREADS=4\n",
        "#---------------------------------------------------#\n",
        "\n",
        "if [ -n \"$COLAB_GPU\" ] && [ -z `which julia` ]; then\n",
        "  # Install Julia\n",
        "  JULIA_VER=`cut -d '.' -f -2 <<< \"$JULIA_VERSION\"`\n",
        "  echo \"Installing Julia $JULIA_VERSION on the current Colab Runtime...\"\n",
        "  BASE_URL=\"https://julialang-s3.julialang.org/bin/linux/x64\"\n",
        "  URL=\"$BASE_URL/$JULIA_VER/julia-$JULIA_VERSION-linux-x86_64.tar.gz\"\n",
        "  wget -nv $URL -O /tmp/julia.tar.gz # -nv means \"not verbose\"\n",
        "  tar -x -f /tmp/julia.tar.gz -C /usr/local --strip-components 1\n",
        "  rm /tmp/julia.tar.gz\n",
        "\n",
        "  # Install Packages\n",
        "  if [ \"$COLAB_GPU\" = \"1\" ]; then\n",
        "      JULIA_PACKAGES=\"$JULIA_PACKAGES $JULIA_PACKAGES_IF_GPU\"\n",
        "  fi\n",
        "  for PKG in `echo $JULIA_PACKAGES`; do\n",
        "    echo \"Installing Julia package $PKG...\"\n",
        "    julia -e 'using Pkg; pkg\"add '$PKG'; precompile;\"' &> /dev/null\n",
        "  done\n",
        "\n",
        "  # Install kernel and rename it to \"julia\"\n",
        "  echo \"Installing IJulia kernel...\"\n",
        "  julia -e 'using IJulia; IJulia.installkernel(\"julia\", env=Dict(\n",
        "      \"JULIA_NUM_THREADS\"=>\"'\"$JULIA_NUM_THREADS\"'\"))'\n",
        "  KERNEL_DIR=`julia -e \"using IJulia; print(IJulia.kerneldir())\"`\n",
        "  KERNEL_NAME=`ls -d \"$KERNEL_DIR\"/julia*`\n",
        "  mv -f $KERNEL_NAME \"$KERNEL_DIR\"/julia  \n",
        "\n",
        "  echo ''\n",
        "  echo \"Successfully installed `julia -v`!\"\n",
        "  echo \"Please reload this page (press Ctrl+R, ⌘+R, or the F5 key) then\"\n",
        "  echo \"jump to the 'Checking the Installation' section.\"\n",
        "fi"
      ],
      "execution_count": null,
      "outputs": [
        {
          "output_type": "stream",
          "name": "stdout",
          "text": [
            "Installing Julia 1.6.0 on the current Colab Runtime...\n",
            "2022-01-22 11:49:03 URL:https://storage.googleapis.com/julialang2/bin/linux/x64/1.6/julia-1.6.0-linux-x86_64.tar.gz [112838927/112838927] -> \"/tmp/julia.tar.gz\" [1]\n",
            "Installing Julia package IJulia...\n",
            "Installing Julia package DataFrames...\n",
            "Installing Julia package CSV...\n",
            "Installing Julia package Pipe...\n",
            "Installing IJulia kernel...\n",
            "\u001b[36m\u001b[1m[ \u001b[22m\u001b[39m\u001b[36m\u001b[1mInfo: \u001b[22m\u001b[39mInstalling julia kernelspec in /root/.local/share/jupyter/kernels/julia-1.6\n",
            "\n",
            "Successfully installed julia version 1.6.0!\n",
            "Please reload this page (press Ctrl+R, ⌘+R, or the F5 key) then\n",
            "jump to the 'Checking the Installation' section.\n"
          ]
        },
        {
          "output_type": "execute_result",
          "data": {
            "text/plain": [
              ""
            ]
          },
          "metadata": {},
          "execution_count": 1
        }
      ]
    },
    {
      "cell_type": "markdown",
      "metadata": {
        "id": "-OS3Ac017T1i"
      },
      "source": [
        "## Checking the Installation\n",
        "The `versioninfo()` function should print your Julia version and some other info about the system (if you ever ask for help or file an issue about Julia, you should always provide this information)."
      ]
    },
    {
      "cell_type": "code",
      "metadata": {
        "id": "EEzvvzCl1i0F",
        "colab": {
          "base_uri": "https://localhost:8080/"
        },
        "outputId": "764cd8be-d3dc-4258-bb14-370ae83e8a7e"
      },
      "source": [
        "versioninfo()"
      ],
      "execution_count": 1,
      "outputs": [
        {
          "output_type": "stream",
          "name": "stdout",
          "text": [
            "Julia Version 1.6.0\n",
            "Commit f9720dc2eb (2021-03-24 12:55 UTC)\n",
            "Platform Info:\n",
            "  OS: Linux (x86_64-pc-linux-gnu)\n",
            "  CPU: Intel(R) Xeon(R) CPU @ 2.20GHz\n",
            "  WORD_SIZE: 64\n",
            "  LIBM: libopenlibm\n",
            "  LLVM: libLLVM-11.0.1 (ORCJIT, broadwell)\n",
            "Environment:\n",
            "  JULIA_NUM_THREADS = 4\n"
          ]
        }
      ]
    },
    {
      "cell_type": "markdown",
      "source": [
        "# Step 1. Import the necessary libraries"
      ],
      "metadata": {
        "id": "qbWTwNk_D5cD"
      }
    },
    {
      "cell_type": "code",
      "source": [
        "using DataFrames\n",
        "using CSV\n",
        "using Pipe\n",
        "using Statistics"
      ],
      "metadata": {
        "id": "DOuXkBOJD3ru"
      },
      "execution_count": 2,
      "outputs": []
    },
    {
      "cell_type": "markdown",
      "source": [
        "# Step 2. Import the dataset from this [address](https://raw.githubusercontent.com/justmarkham/DAT8/master/data/drinks.csv).\n"
      ],
      "metadata": {
        "id": "0UhukW8QD_CB"
      }
    },
    {
      "cell_type": "code",
      "source": [
        "URL = \"https://raw.githubusercontent.com/justmarkham/DAT8/master/data/drinks.csv\"\n",
        "download(URL,\"drinks.csv\")"
      ],
      "metadata": {
        "colab": {
          "base_uri": "https://localhost:8080/"
        },
        "id": "Bs6u9ycCD85H",
        "outputId": "8af6b6ca-ee74-455b-ad91-904130eb211d"
      },
      "execution_count": 3,
      "outputs": [
        {
          "output_type": "execute_result",
          "data": {
            "text/plain": [
              "\"drinks.csv\""
            ]
          },
          "metadata": {},
          "execution_count": 3
        }
      ]
    },
    {
      "cell_type": "markdown",
      "source": [
        "# Step 3. Assign it to a variable called drinks.\n"
      ],
      "metadata": {
        "id": "v2W4ijSmEDHq"
      }
    },
    {
      "cell_type": "code",
      "source": [
        "drinks = CSV.read(\"drinks.csv\",DataFrame)"
      ],
      "metadata": {
        "id": "JapyDNW14UCB",
        "colab": {
          "base_uri": "https://localhost:8080/",
          "height": 753
        },
        "outputId": "9cb28ee7-d32a-4af0-82e7-65be4a667dad"
      },
      "execution_count": 4,
      "outputs": [
        {
          "output_type": "execute_result",
          "data": {
            "text/latex": "\\begin{tabular}{r|cccccc}\n\t& country & beer\\_servings & spirit\\_servings & wine\\_servings & total\\_litres\\_of\\_pure\\_alcohol & \\\\\n\t\\hline\n\t& String31 & Int64 & Int64 & Int64 & Float64 & \\\\\n\t\\hline\n\t1 & Afghanistan & 0 & 0 & 0 & 0.0 & $\\dots$ \\\\\n\t2 & Albania & 89 & 132 & 54 & 4.9 & $\\dots$ \\\\\n\t3 & Algeria & 25 & 0 & 14 & 0.7 & $\\dots$ \\\\\n\t4 & Andorra & 245 & 138 & 312 & 12.4 & $\\dots$ \\\\\n\t5 & Angola & 217 & 57 & 45 & 5.9 & $\\dots$ \\\\\n\t6 & Antigua \\& Barbuda & 102 & 128 & 45 & 4.9 & $\\dots$ \\\\\n\t7 & Argentina & 193 & 25 & 221 & 8.3 & $\\dots$ \\\\\n\t8 & Armenia & 21 & 179 & 11 & 3.8 & $\\dots$ \\\\\n\t9 & Australia & 261 & 72 & 212 & 10.4 & $\\dots$ \\\\\n\t10 & Austria & 279 & 75 & 191 & 9.7 & $\\dots$ \\\\\n\t11 & Azerbaijan & 21 & 46 & 5 & 1.3 & $\\dots$ \\\\\n\t12 & Bahamas & 122 & 176 & 51 & 6.3 & $\\dots$ \\\\\n\t13 & Bahrain & 42 & 63 & 7 & 2.0 & $\\dots$ \\\\\n\t14 & Bangladesh & 0 & 0 & 0 & 0.0 & $\\dots$ \\\\\n\t15 & Barbados & 143 & 173 & 36 & 6.3 & $\\dots$ \\\\\n\t16 & Belarus & 142 & 373 & 42 & 14.4 & $\\dots$ \\\\\n\t17 & Belgium & 295 & 84 & 212 & 10.5 & $\\dots$ \\\\\n\t18 & Belize & 263 & 114 & 8 & 6.8 & $\\dots$ \\\\\n\t19 & Benin & 34 & 4 & 13 & 1.1 & $\\dots$ \\\\\n\t20 & Bhutan & 23 & 0 & 0 & 0.4 & $\\dots$ \\\\\n\t21 & Bolivia & 167 & 41 & 8 & 3.8 & $\\dots$ \\\\\n\t22 & Bosnia-Herzegovina & 76 & 173 & 8 & 4.6 & $\\dots$ \\\\\n\t23 & Botswana & 173 & 35 & 35 & 5.4 & $\\dots$ \\\\\n\t24 & Brazil & 245 & 145 & 16 & 7.2 & $\\dots$ \\\\\n\t25 & Brunei & 31 & 2 & 1 & 0.6 & $\\dots$ \\\\\n\t26 & Bulgaria & 231 & 252 & 94 & 10.3 & $\\dots$ \\\\\n\t27 & Burkina Faso & 25 & 7 & 7 & 4.3 & $\\dots$ \\\\\n\t28 & Burundi & 88 & 0 & 0 & 6.3 & $\\dots$ \\\\\n\t29 & Cote d'Ivoire & 37 & 1 & 7 & 4.0 & $\\dots$ \\\\\n\t30 & Cabo Verde & 144 & 56 & 16 & 4.0 & $\\dots$ \\\\\n\t$\\dots$ & $\\dots$ & $\\dots$ & $\\dots$ & $\\dots$ & $\\dots$ &  \\\\\n\\end{tabular}\n",
            "text/html": [
              "<div class=\"data-frame\"><p>193 rows × 6 columns (omitted printing of 1 columns)</p><table class=\"data-frame\"><thead><tr><th></th><th>country</th><th>beer_servings</th><th>spirit_servings</th><th>wine_servings</th><th>total_litres_of_pure_alcohol</th></tr><tr><th></th><th title=\"String31\">String31</th><th title=\"Int64\">Int64</th><th title=\"Int64\">Int64</th><th title=\"Int64\">Int64</th><th title=\"Float64\">Float64</th></tr></thead><tbody><tr><th>1</th><td>Afghanistan</td><td>0</td><td>0</td><td>0</td><td>0.0</td></tr><tr><th>2</th><td>Albania</td><td>89</td><td>132</td><td>54</td><td>4.9</td></tr><tr><th>3</th><td>Algeria</td><td>25</td><td>0</td><td>14</td><td>0.7</td></tr><tr><th>4</th><td>Andorra</td><td>245</td><td>138</td><td>312</td><td>12.4</td></tr><tr><th>5</th><td>Angola</td><td>217</td><td>57</td><td>45</td><td>5.9</td></tr><tr><th>6</th><td>Antigua &amp; Barbuda</td><td>102</td><td>128</td><td>45</td><td>4.9</td></tr><tr><th>7</th><td>Argentina</td><td>193</td><td>25</td><td>221</td><td>8.3</td></tr><tr><th>8</th><td>Armenia</td><td>21</td><td>179</td><td>11</td><td>3.8</td></tr><tr><th>9</th><td>Australia</td><td>261</td><td>72</td><td>212</td><td>10.4</td></tr><tr><th>10</th><td>Austria</td><td>279</td><td>75</td><td>191</td><td>9.7</td></tr><tr><th>11</th><td>Azerbaijan</td><td>21</td><td>46</td><td>5</td><td>1.3</td></tr><tr><th>12</th><td>Bahamas</td><td>122</td><td>176</td><td>51</td><td>6.3</td></tr><tr><th>13</th><td>Bahrain</td><td>42</td><td>63</td><td>7</td><td>2.0</td></tr><tr><th>14</th><td>Bangladesh</td><td>0</td><td>0</td><td>0</td><td>0.0</td></tr><tr><th>15</th><td>Barbados</td><td>143</td><td>173</td><td>36</td><td>6.3</td></tr><tr><th>16</th><td>Belarus</td><td>142</td><td>373</td><td>42</td><td>14.4</td></tr><tr><th>17</th><td>Belgium</td><td>295</td><td>84</td><td>212</td><td>10.5</td></tr><tr><th>18</th><td>Belize</td><td>263</td><td>114</td><td>8</td><td>6.8</td></tr><tr><th>19</th><td>Benin</td><td>34</td><td>4</td><td>13</td><td>1.1</td></tr><tr><th>20</th><td>Bhutan</td><td>23</td><td>0</td><td>0</td><td>0.4</td></tr><tr><th>21</th><td>Bolivia</td><td>167</td><td>41</td><td>8</td><td>3.8</td></tr><tr><th>22</th><td>Bosnia-Herzegovina</td><td>76</td><td>173</td><td>8</td><td>4.6</td></tr><tr><th>23</th><td>Botswana</td><td>173</td><td>35</td><td>35</td><td>5.4</td></tr><tr><th>24</th><td>Brazil</td><td>245</td><td>145</td><td>16</td><td>7.2</td></tr><tr><th>25</th><td>Brunei</td><td>31</td><td>2</td><td>1</td><td>0.6</td></tr><tr><th>26</th><td>Bulgaria</td><td>231</td><td>252</td><td>94</td><td>10.3</td></tr><tr><th>27</th><td>Burkina Faso</td><td>25</td><td>7</td><td>7</td><td>4.3</td></tr><tr><th>28</th><td>Burundi</td><td>88</td><td>0</td><td>0</td><td>6.3</td></tr><tr><th>29</th><td>Cote d&apos;Ivoire</td><td>37</td><td>1</td><td>7</td><td>4.0</td></tr><tr><th>30</th><td>Cabo Verde</td><td>144</td><td>56</td><td>16</td><td>4.0</td></tr><tr><th>&vellip;</th><td>&vellip;</td><td>&vellip;</td><td>&vellip;</td><td>&vellip;</td><td>&vellip;</td></tr></tbody></table></div>"
            ],
            "text/plain": [
              "\u001b[1m193×6 DataFrame\u001b[0m\n",
              "\u001b[1m Row \u001b[0m│\u001b[1m country              \u001b[0m\u001b[1m beer_servings \u001b[0m\u001b[1m spirit_servings \u001b[0m\u001b[1m wine_servings \u001b[0m\u001b[1m to\u001b[0m ⋯\n",
              "\u001b[1m     \u001b[0m│\u001b[90m String31             \u001b[0m\u001b[90m Int64         \u001b[0m\u001b[90m Int64           \u001b[0m\u001b[90m Int64         \u001b[0m\u001b[90m Fl\u001b[0m ⋯\n",
              "─────┼──────────────────────────────────────────────────────────────────────────\n",
              "   1 │ Afghanistan                       0                0              0     ⋯\n",
              "   2 │ Albania                          89              132             54\n",
              "   3 │ Algeria                          25                0             14\n",
              "   4 │ Andorra                         245              138            312\n",
              "   5 │ Angola                          217               57             45     ⋯\n",
              "   6 │ Antigua & Barbuda               102              128             45\n",
              "   7 │ Argentina                       193               25            221\n",
              "   8 │ Armenia                          21              179             11\n",
              "   9 │ Australia                       261               72            212     ⋯\n",
              "  10 │ Austria                         279               75            191\n",
              "  11 │ Azerbaijan                       21               46              5\n",
              "  ⋮  │          ⋮                  ⋮               ⋮               ⋮           ⋱\n",
              " 184 │ Tanzania                         36                6              1\n",
              " 185 │ USA                             249              158             84     ⋯\n",
              " 186 │ Uruguay                         115               35            220\n",
              " 187 │ Uzbekistan                       25              101              8\n",
              " 188 │ Vanuatu                          21               18             11\n",
              " 189 │ Venezuela                       333              100              3     ⋯\n",
              " 190 │ Vietnam                         111                2              1\n",
              " 191 │ Yemen                             6                0              0\n",
              " 192 │ Zambia                           32               19              4\n",
              " 193 │ Zimbabwe                         64               18              4     ⋯\n",
              "\u001b[36m                                                  2 columns and 172 rows omitted\u001b[0m"
            ]
          },
          "metadata": {},
          "execution_count": 4
        }
      ]
    },
    {
      "cell_type": "markdown",
      "source": [
        "# Step 4. Which continent drinks more beer on average?"
      ],
      "metadata": {
        "id": "eIFEHBbcFEfS"
      }
    },
    {
      "cell_type": "code",
      "source": [
        "continents = @pipe drinks |> groupby(_, :continent) |> combine(_, :beer_servings => mean)"
      ],
      "metadata": {
        "colab": {
          "base_uri": "https://localhost:8080/",
          "height": 219
        },
        "id": "_-bhZyAHESP0",
        "outputId": "8ce00903-21f2-4090-8e1d-f27c9258d819"
      },
      "execution_count": 5,
      "outputs": [
        {
          "output_type": "execute_result",
          "data": {
            "text/latex": "\\begin{tabular}{r|cc}\n\t& continent & beer\\_servings\\_mean\\\\\n\t\\hline\n\t& String3 & Float64\\\\\n\t\\hline\n\t1 & AS & 37.0455 \\\\\n\t2 & EU & 193.778 \\\\\n\t3 & AF & 61.4717 \\\\\n\t4 & NA & 145.435 \\\\\n\t5 & SA & 175.083 \\\\\n\t6 & OC & 89.6875 \\\\\n\\end{tabular}\n",
            "text/html": [
              "<div class=\"data-frame\"><p>6 rows × 2 columns</p><table class=\"data-frame\"><thead><tr><th></th><th>continent</th><th>beer_servings_mean</th></tr><tr><th></th><th title=\"String3\">String3</th><th title=\"Float64\">Float64</th></tr></thead><tbody><tr><th>1</th><td>AS</td><td>37.0455</td></tr><tr><th>2</th><td>EU</td><td>193.778</td></tr><tr><th>3</th><td>AF</td><td>61.4717</td></tr><tr><th>4</th><td>NA</td><td>145.435</td></tr><tr><th>5</th><td>SA</td><td>175.083</td></tr><tr><th>6</th><td>OC</td><td>89.6875</td></tr></tbody></table></div>"
            ],
            "text/plain": [
              "\u001b[1m6×2 DataFrame\u001b[0m\n",
              "\u001b[1m Row \u001b[0m│\u001b[1m continent \u001b[0m\u001b[1m beer_servings_mean \u001b[0m\n",
              "\u001b[1m     \u001b[0m│\u001b[90m String3   \u001b[0m\u001b[90m Float64            \u001b[0m\n",
              "─────┼───────────────────────────────\n",
              "   1 │ AS                    37.0455\n",
              "   2 │ EU                   193.778\n",
              "   3 │ AF                    61.4717\n",
              "   4 │ NA                   145.435\n",
              "   5 │ SA                   175.083\n",
              "   6 │ OC                    89.6875"
            ]
          },
          "metadata": {},
          "execution_count": 5
        }
      ]
    },
    {
      "cell_type": "markdown",
      "source": [
        "# Step 5. For each continent print the statistics for wine consumption."
      ],
      "metadata": {
        "id": "BgIBHXtkmey2"
      }
    },
    {
      "cell_type": "code",
      "source": [
        "# Can't figure out a way now will get back to this at some point"
      ],
      "metadata": {
        "id": "l_7tM-GQSf7W"
      },
      "execution_count": 6,
      "outputs": []
    },
    {
      "cell_type": "markdown",
      "source": [
        "# Step 6. Print the mean alcohol consumption per continent for every column"
      ],
      "metadata": {
        "id": "qMp_bV3Br0Ih"
      }
    },
    {
      "cell_type": "markdown",
      "source": [
        "There has to be a better way to do this"
      ],
      "metadata": {
        "id": "GO2rc-rbxN_J"
      }
    },
    {
      "cell_type": "code",
      "source": [
        "continents = @pipe drinks |> groupby(_, :continent) |> combine(_, valuecols(_)[2:end] .=> mean)"
      ],
      "metadata": {
        "colab": {
          "base_uri": "https://localhost:8080/",
          "height": 219
        },
        "id": "4TusiUHowQeP",
        "outputId": "31a1957f-5489-48e4-bdc5-b34dbf415383"
      },
      "execution_count": 24,
      "outputs": [
        {
          "output_type": "execute_result",
          "data": {
            "text/latex": "\\begin{tabular}{r|ccccc}\n\t& continent & beer\\_servings\\_mean & spirit\\_servings\\_mean & wine\\_servings\\_mean & total\\_litres\\_of\\_pure\\_alcohol\\_mean\\\\\n\t\\hline\n\t& String3 & Float64 & Float64 & Float64 & Float64\\\\\n\t\\hline\n\t1 & AS & 37.0455 & 60.8409 & 9.06818 & 2.17045 \\\\\n\t2 & EU & 193.778 & 132.556 & 142.222 & 8.61778 \\\\\n\t3 & AF & 61.4717 & 16.3396 & 16.2642 & 3.00755 \\\\\n\t4 & NA & 145.435 & 165.739 & 24.5217 & 5.99565 \\\\\n\t5 & SA & 175.083 & 114.75 & 62.4167 & 6.30833 \\\\\n\t6 & OC & 89.6875 & 58.4375 & 35.625 & 3.38125 \\\\\n\\end{tabular}\n",
            "text/html": [
              "<div class=\"data-frame\"><p>6 rows × 5 columns</p><table class=\"data-frame\"><thead><tr><th></th><th>continent</th><th>beer_servings_mean</th><th>spirit_servings_mean</th><th>wine_servings_mean</th><th>total_litres_of_pure_alcohol_mean</th></tr><tr><th></th><th title=\"String3\">String3</th><th title=\"Float64\">Float64</th><th title=\"Float64\">Float64</th><th title=\"Float64\">Float64</th><th title=\"Float64\">Float64</th></tr></thead><tbody><tr><th>1</th><td>AS</td><td>37.0455</td><td>60.8409</td><td>9.06818</td><td>2.17045</td></tr><tr><th>2</th><td>EU</td><td>193.778</td><td>132.556</td><td>142.222</td><td>8.61778</td></tr><tr><th>3</th><td>AF</td><td>61.4717</td><td>16.3396</td><td>16.2642</td><td>3.00755</td></tr><tr><th>4</th><td>NA</td><td>145.435</td><td>165.739</td><td>24.5217</td><td>5.99565</td></tr><tr><th>5</th><td>SA</td><td>175.083</td><td>114.75</td><td>62.4167</td><td>6.30833</td></tr><tr><th>6</th><td>OC</td><td>89.6875</td><td>58.4375</td><td>35.625</td><td>3.38125</td></tr></tbody></table></div>"
            ],
            "text/plain": [
              "\u001b[1m6×5 DataFrame\u001b[0m\n",
              "\u001b[1m Row \u001b[0m│\u001b[1m continent \u001b[0m\u001b[1m beer_servings_mean \u001b[0m\u001b[1m spirit_servings_mean \u001b[0m\u001b[1m wine_servings_mean\u001b[0m ⋯\n",
              "\u001b[1m     \u001b[0m│\u001b[90m String3   \u001b[0m\u001b[90m Float64            \u001b[0m\u001b[90m Float64              \u001b[0m\u001b[90m Float64           \u001b[0m ⋯\n",
              "─────┼──────────────────────────────────────────────────────────────────────────\n",
              "   1 │ AS                    37.0455               60.8409             9.06818 ⋯\n",
              "   2 │ EU                   193.778               132.556            142.222\n",
              "   3 │ AF                    61.4717               16.3396            16.2642\n",
              "   4 │ NA                   145.435               165.739             24.5217\n",
              "   5 │ SA                   175.083               114.75              62.4167  ⋯\n",
              "   6 │ OC                    89.6875               58.4375            35.625\n",
              "\u001b[36m                                                                1 column omitted\u001b[0m"
            ]
          },
          "metadata": {},
          "execution_count": 24
        }
      ]
    },
    {
      "cell_type": "markdown",
      "source": [
        "# Step 7. Print the median alcohol consumption per continent for every column"
      ],
      "metadata": {
        "id": "OzC7OxoN5iHT"
      }
    },
    {
      "cell_type": "code",
      "source": [
        "@pipe drinks |> groupby(_, :continent) |> combine(_, valuecols(_)[2:end] .=> median)"
      ],
      "metadata": {
        "colab": {
          "base_uri": "https://localhost:8080/",
          "height": 219
        },
        "id": "qpVGpveEyt_j",
        "outputId": "c393b922-a758-4ae8-f488-342ed0c8c6bb"
      },
      "execution_count": 25,
      "outputs": [
        {
          "output_type": "execute_result",
          "data": {
            "text/latex": "\\begin{tabular}{r|ccccc}\n\t& continent & beer\\_servings\\_median & spirit\\_servings\\_median & wine\\_servings\\_median & total\\_litres\\_of\\_pure\\_alcohol\\_median\\\\\n\t\\hline\n\t& String3 & Float64 & Float64 & Float64 & Float64\\\\\n\t\\hline\n\t1 & AS & 17.5 & 16.0 & 1.0 & 1.2 \\\\\n\t2 & EU & 219.0 & 122.0 & 128.0 & 10.0 \\\\\n\t3 & AF & 32.0 & 3.0 & 2.0 & 2.3 \\\\\n\t4 & NA & 143.0 & 137.0 & 11.0 & 6.3 \\\\\n\t5 & SA & 162.5 & 108.5 & 12.0 & 6.85 \\\\\n\t6 & OC & 52.5 & 37.0 & 8.5 & 1.75 \\\\\n\\end{tabular}\n",
            "text/html": [
              "<div class=\"data-frame\"><p>6 rows × 5 columns</p><table class=\"data-frame\"><thead><tr><th></th><th>continent</th><th>beer_servings_median</th><th>spirit_servings_median</th><th>wine_servings_median</th><th>total_litres_of_pure_alcohol_median</th></tr><tr><th></th><th title=\"String3\">String3</th><th title=\"Float64\">Float64</th><th title=\"Float64\">Float64</th><th title=\"Float64\">Float64</th><th title=\"Float64\">Float64</th></tr></thead><tbody><tr><th>1</th><td>AS</td><td>17.5</td><td>16.0</td><td>1.0</td><td>1.2</td></tr><tr><th>2</th><td>EU</td><td>219.0</td><td>122.0</td><td>128.0</td><td>10.0</td></tr><tr><th>3</th><td>AF</td><td>32.0</td><td>3.0</td><td>2.0</td><td>2.3</td></tr><tr><th>4</th><td>NA</td><td>143.0</td><td>137.0</td><td>11.0</td><td>6.3</td></tr><tr><th>5</th><td>SA</td><td>162.5</td><td>108.5</td><td>12.0</td><td>6.85</td></tr><tr><th>6</th><td>OC</td><td>52.5</td><td>37.0</td><td>8.5</td><td>1.75</td></tr></tbody></table></div>"
            ],
            "text/plain": [
              "\u001b[1m6×5 DataFrame\u001b[0m\n",
              "\u001b[1m Row \u001b[0m│\u001b[1m continent \u001b[0m\u001b[1m beer_servings_median \u001b[0m\u001b[1m spirit_servings_median \u001b[0m\u001b[1m wine_servings_\u001b[0m ⋯\n",
              "\u001b[1m     \u001b[0m│\u001b[90m String3   \u001b[0m\u001b[90m Float64              \u001b[0m\u001b[90m Float64                \u001b[0m\u001b[90m Float64       \u001b[0m ⋯\n",
              "─────┼──────────────────────────────────────────────────────────────────────────\n",
              "   1 │ AS                         17.5                    16.0                 ⋯\n",
              "   2 │ EU                        219.0                   122.0\n",
              "   3 │ AF                         32.0                     3.0\n",
              "   4 │ NA                        143.0                   137.0\n",
              "   5 │ SA                        162.5                   108.5                 ⋯\n",
              "   6 │ OC                         52.5                    37.0\n",
              "\u001b[36m                                                               2 columns omitted\u001b[0m"
            ]
          },
          "metadata": {},
          "execution_count": 25
        }
      ]
    },
    {
      "cell_type": "code",
      "source": [
        "@pipe drinks |> groupby(_, :continent) |> combine(_, :spirit_servings => mean, min, max)"
      ],
      "metadata": {
        "id": "09Lc0wWp5eF-"
      },
      "execution_count": null,
      "outputs": []
    },
    {
      "cell_type": "code",
      "source": [
        ""
      ],
      "metadata": {
        "id": "Tb0Tr8hi6MWY"
      },
      "execution_count": null,
      "outputs": []
    }
  ]
}