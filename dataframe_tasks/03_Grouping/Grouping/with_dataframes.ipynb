{
  "nbformat": 4,
  "nbformat_minor": 0,
  "metadata": {
    "colab": {
      "name": "03_Grouping_Occupation.ipynb",
      "provenance": [],
      "collapsed_sections": []
    },
    "kernelspec": {
      "display_name": "Julia",
      "language": "julia",
      "name": "julia"
    },
    "language_info": {
      "file_extension": ".jl",
      "mimetype": "application/julia",
      "name": "julia"
    }
  },
  "cells": [
    {
      "cell_type": "markdown",
      "metadata": {
        "id": "f_1dr-2W5iSU"
      },
      "source": [
        "# Getting Started with Julia in Colab/Jupyter\n",
        "You can either run this notebook in Google Colab, or using Jupyter on your own machine."
      ]
    },
    {
      "cell_type": "markdown",
      "metadata": {
        "id": "6ew60wXrZM0W"
      },
      "source": [
        "## Running on Google Colab\n",
        "1. Work on a copy of this notebook: _File_ > _Save a copy in Drive_ (you will need a Google account). Alternatively, you can download the notebook using _File_ > _Download .ipynb_, then upload it to [Colab](https://colab.research.google.com/).\n",
        "2. Execute the following cell (click on it and press Ctrl+Enter) to install Julia, IJulia (the Jupyter kernel for Julia) and other packages. You can update `JULIA_VERSION` and the other parameters, if you know what you're doing. Installation takes 2-3 minutes.\n",
        "3. Reload this page (press Ctrl+R, or ⌘+R, or the F5 key) and continue to the _Checking the Installation_ section.\n",
        "\n",
        "* _Note_: If your Colab Runtime gets reset (e.g., due to inactivity), repeat steps 2 and 3."
      ]
    },
    {
      "cell_type": "code",
      "metadata": {
        "id": "GIeFXS0F0zww",
        "colab": {
          "base_uri": "https://localhost:8080/"
        },
        "outputId": "49c57c16-cd43-4d74-976c-ea3550de885e"
      },
      "source": [
        "%%shell\n",
        "set -e\n",
        "\n",
        "#---------------------------------------------------#\n",
        "JULIA_VERSION=\"1.6.0\" # any version ≥ 0.7.0\n",
        "JULIA_PACKAGES=\"IJulia DataFrames CSV Pipe\"\n",
        "JULIA_PACKAGES_IF_GPU=\"CUDA\"\n",
        "JULIA_NUM_THREADS=4\n",
        "#---------------------------------------------------#\n",
        "\n",
        "if [ -n \"$COLAB_GPU\" ] && [ -z `which julia` ]; then\n",
        "  # Install Julia\n",
        "  JULIA_VER=`cut -d '.' -f -2 <<< \"$JULIA_VERSION\"`\n",
        "  echo \"Installing Julia $JULIA_VERSION on the current Colab Runtime...\"\n",
        "  BASE_URL=\"https://julialang-s3.julialang.org/bin/linux/x64\"\n",
        "  URL=\"$BASE_URL/$JULIA_VER/julia-$JULIA_VERSION-linux-x86_64.tar.gz\"\n",
        "  wget -nv $URL -O /tmp/julia.tar.gz # -nv means \"not verbose\"\n",
        "  tar -x -f /tmp/julia.tar.gz -C /usr/local --strip-components 1\n",
        "  rm /tmp/julia.tar.gz\n",
        "\n",
        "  # Install Packages\n",
        "  if [ \"$COLAB_GPU\" = \"1\" ]; then\n",
        "      JULIA_PACKAGES=\"$JULIA_PACKAGES $JULIA_PACKAGES_IF_GPU\"\n",
        "  fi\n",
        "  for PKG in `echo $JULIA_PACKAGES`; do\n",
        "    echo \"Installing Julia package $PKG...\"\n",
        "    julia -e 'using Pkg; pkg\"add '$PKG'; precompile;\"' &> /dev/null\n",
        "  done\n",
        "\n",
        "  # Install kernel and rename it to \"julia\"\n",
        "  echo \"Installing IJulia kernel...\"\n",
        "  julia -e 'using IJulia; IJulia.installkernel(\"julia\", env=Dict(\n",
        "      \"JULIA_NUM_THREADS\"=>\"'\"$JULIA_NUM_THREADS\"'\"))'\n",
        "  KERNEL_DIR=`julia -e \"using IJulia; print(IJulia.kerneldir())\"`\n",
        "  KERNEL_NAME=`ls -d \"$KERNEL_DIR\"/julia*`\n",
        "  mv -f $KERNEL_NAME \"$KERNEL_DIR\"/julia  \n",
        "\n",
        "  echo ''\n",
        "  echo \"Successfully installed `julia -v`!\"\n",
        "  echo \"Please reload this page (press Ctrl+R, ⌘+R, or the F5 key) then\"\n",
        "  echo \"jump to the 'Checking the Installation' section.\"\n",
        "fi"
      ],
      "execution_count": null,
      "outputs": [
        {
          "output_type": "stream",
          "name": "stdout",
          "text": [
            "Installing Julia 1.6.0 on the current Colab Runtime...\n",
            "2022-01-26 12:01:23 URL:https://storage.googleapis.com/julialang2/bin/linux/x64/1.6/julia-1.6.0-linux-x86_64.tar.gz [112838927/112838927] -> \"/tmp/julia.tar.gz\" [1]\n",
            "Installing Julia package IJulia...\n",
            "Installing Julia package DataFrames...\n",
            "Installing Julia package CSV...\n",
            "Installing IJulia kernel...\n",
            "\u001b[36m\u001b[1m[ \u001b[22m\u001b[39m\u001b[36m\u001b[1mInfo: \u001b[22m\u001b[39mInstalling julia kernelspec in /root/.local/share/jupyter/kernels/julia-1.6\n",
            "\n",
            "Successfully installed julia version 1.6.0!\n",
            "Please reload this page (press Ctrl+R, ⌘+R, or the F5 key) then\n",
            "jump to the 'Checking the Installation' section.\n"
          ]
        },
        {
          "output_type": "execute_result",
          "data": {
            "text/plain": [
              ""
            ]
          },
          "metadata": {},
          "execution_count": 1
        }
      ]
    },
    {
      "cell_type": "markdown",
      "metadata": {
        "id": "-OS3Ac017T1i"
      },
      "source": [
        "## Checking the Installation\n",
        "The `versioninfo()` function should print your Julia version and some other info about the system (if you ever ask for help or file an issue about Julia, you should always provide this information)."
      ]
    },
    {
      "cell_type": "code",
      "metadata": {
        "id": "EEzvvzCl1i0F",
        "colab": {
          "base_uri": "https://localhost:8080/"
        },
        "outputId": "fade31a0-ebad-486b-a934-b3694f0dee75"
      },
      "source": [
        "versioninfo()"
      ],
      "execution_count": 1,
      "outputs": [
        {
          "output_type": "stream",
          "name": "stdout",
          "text": [
            "Julia Version 1.6.0\n",
            "Commit f9720dc2eb (2021-03-24 12:55 UTC)\n",
            "Platform Info:\n",
            "  OS: Linux (x86_64-pc-linux-gnu)\n",
            "  CPU: Intel(R) Xeon(R) CPU @ 2.20GHz\n",
            "  WORD_SIZE: 64\n",
            "  LIBM: libopenlibm\n",
            "  LLVM: libLLVM-11.0.1 (ORCJIT, broadwell)\n",
            "Environment:\n",
            "  JULIA_NUM_THREADS = 4\n"
          ]
        }
      ]
    },
    {
      "cell_type": "markdown",
      "source": [
        "# Step 1. Import the necessary libraries"
      ],
      "metadata": {
        "id": "oPRbHDKt6725"
      }
    },
    {
      "cell_type": "code",
      "source": [
        "using DataFrames\n",
        "using CSV\n",
        "using Pipe\n",
        "using Statistics"
      ],
      "metadata": {
        "id": "D3pJa9Gl66X-"
      },
      "execution_count": 2,
      "outputs": []
    },
    {
      "cell_type": "markdown",
      "source": [
        "# Step 2. Import the dataset from this [address](https://raw.githubusercontent.com/justmarkham/DAT8/master/data/u.user).\n"
      ],
      "metadata": {
        "id": "7S2MOpsI6-UA"
      }
    },
    {
      "cell_type": "code",
      "source": [
        "URL = \"https://raw.githubusercontent.com/justmarkham/DAT8/master/data/u.user\"\n",
        "download(URL, \"u.user\")"
      ],
      "metadata": {
        "colab": {
          "base_uri": "https://localhost:8080/"
        },
        "id": "0ZmvATdg7ADO",
        "outputId": "b08f63c1-784d-4a62-ac91-0d933471dc9a"
      },
      "execution_count": 3,
      "outputs": [
        {
          "output_type": "execute_result",
          "data": {
            "text/plain": [
              "\"u.user\""
            ]
          },
          "metadata": {},
          "execution_count": 3
        }
      ]
    },
    {
      "cell_type": "markdown",
      "source": [
        "# Step 3. Assign it to a variable called users."
      ],
      "metadata": {
        "id": "T_5kX7Zl7CG2"
      }
    },
    {
      "cell_type": "code",
      "source": [
        "users = CSV.read(\"u.user\", delim = \"|\", DataFrame)"
      ],
      "metadata": {
        "colab": {
          "base_uri": "https://localhost:8080/",
          "height": 753
        },
        "id": "lryTNGiU648j",
        "outputId": "cfadabb6-9751-42e1-8fc7-eb00a83bd484"
      },
      "execution_count": 4,
      "outputs": [
        {
          "output_type": "execute_result",
          "data": {
            "text/latex": "\\begin{tabular}{r|ccccc}\n\t& user\\_id & age & gender & occupation & zip\\_code\\\\\n\t\\hline\n\t& Int64 & Int64 & String1 & String15 & String7\\\\\n\t\\hline\n\t1 & 1 & 24 & M & technician & 85711 \\\\\n\t2 & 2 & 53 & F & other & 94043 \\\\\n\t3 & 3 & 23 & M & writer & 32067 \\\\\n\t4 & 4 & 24 & M & technician & 43537 \\\\\n\t5 & 5 & 33 & F & other & 15213 \\\\\n\t6 & 6 & 42 & M & executive & 98101 \\\\\n\t7 & 7 & 57 & M & administrator & 91344 \\\\\n\t8 & 8 & 36 & M & administrator & 05201 \\\\\n\t9 & 9 & 29 & M & student & 01002 \\\\\n\t10 & 10 & 53 & M & lawyer & 90703 \\\\\n\t11 & 11 & 39 & F & other & 30329 \\\\\n\t12 & 12 & 28 & F & other & 06405 \\\\\n\t13 & 13 & 47 & M & educator & 29206 \\\\\n\t14 & 14 & 45 & M & scientist & 55106 \\\\\n\t15 & 15 & 49 & F & educator & 97301 \\\\\n\t16 & 16 & 21 & M & entertainment & 10309 \\\\\n\t17 & 17 & 30 & M & programmer & 06355 \\\\\n\t18 & 18 & 35 & F & other & 37212 \\\\\n\t19 & 19 & 40 & M & librarian & 02138 \\\\\n\t20 & 20 & 42 & F & homemaker & 95660 \\\\\n\t21 & 21 & 26 & M & writer & 30068 \\\\\n\t22 & 22 & 25 & M & writer & 40206 \\\\\n\t23 & 23 & 30 & F & artist & 48197 \\\\\n\t24 & 24 & 21 & F & artist & 94533 \\\\\n\t25 & 25 & 39 & M & engineer & 55107 \\\\\n\t26 & 26 & 49 & M & engineer & 21044 \\\\\n\t27 & 27 & 40 & F & librarian & 30030 \\\\\n\t28 & 28 & 32 & M & writer & 55369 \\\\\n\t29 & 29 & 41 & M & programmer & 94043 \\\\\n\t30 & 30 & 7 & M & student & 55436 \\\\\n\t$\\dots$ & $\\dots$ & $\\dots$ & $\\dots$ & $\\dots$ & $\\dots$ \\\\\n\\end{tabular}\n",
            "text/html": [
              "<div class=\"data-frame\"><p>943 rows × 5 columns</p><table class=\"data-frame\"><thead><tr><th></th><th>user_id</th><th>age</th><th>gender</th><th>occupation</th><th>zip_code</th></tr><tr><th></th><th title=\"Int64\">Int64</th><th title=\"Int64\">Int64</th><th title=\"String1\">String1</th><th title=\"String15\">String15</th><th title=\"String7\">String7</th></tr></thead><tbody><tr><th>1</th><td>1</td><td>24</td><td>M</td><td>technician</td><td>85711</td></tr><tr><th>2</th><td>2</td><td>53</td><td>F</td><td>other</td><td>94043</td></tr><tr><th>3</th><td>3</td><td>23</td><td>M</td><td>writer</td><td>32067</td></tr><tr><th>4</th><td>4</td><td>24</td><td>M</td><td>technician</td><td>43537</td></tr><tr><th>5</th><td>5</td><td>33</td><td>F</td><td>other</td><td>15213</td></tr><tr><th>6</th><td>6</td><td>42</td><td>M</td><td>executive</td><td>98101</td></tr><tr><th>7</th><td>7</td><td>57</td><td>M</td><td>administrator</td><td>91344</td></tr><tr><th>8</th><td>8</td><td>36</td><td>M</td><td>administrator</td><td>05201</td></tr><tr><th>9</th><td>9</td><td>29</td><td>M</td><td>student</td><td>01002</td></tr><tr><th>10</th><td>10</td><td>53</td><td>M</td><td>lawyer</td><td>90703</td></tr><tr><th>11</th><td>11</td><td>39</td><td>F</td><td>other</td><td>30329</td></tr><tr><th>12</th><td>12</td><td>28</td><td>F</td><td>other</td><td>06405</td></tr><tr><th>13</th><td>13</td><td>47</td><td>M</td><td>educator</td><td>29206</td></tr><tr><th>14</th><td>14</td><td>45</td><td>M</td><td>scientist</td><td>55106</td></tr><tr><th>15</th><td>15</td><td>49</td><td>F</td><td>educator</td><td>97301</td></tr><tr><th>16</th><td>16</td><td>21</td><td>M</td><td>entertainment</td><td>10309</td></tr><tr><th>17</th><td>17</td><td>30</td><td>M</td><td>programmer</td><td>06355</td></tr><tr><th>18</th><td>18</td><td>35</td><td>F</td><td>other</td><td>37212</td></tr><tr><th>19</th><td>19</td><td>40</td><td>M</td><td>librarian</td><td>02138</td></tr><tr><th>20</th><td>20</td><td>42</td><td>F</td><td>homemaker</td><td>95660</td></tr><tr><th>21</th><td>21</td><td>26</td><td>M</td><td>writer</td><td>30068</td></tr><tr><th>22</th><td>22</td><td>25</td><td>M</td><td>writer</td><td>40206</td></tr><tr><th>23</th><td>23</td><td>30</td><td>F</td><td>artist</td><td>48197</td></tr><tr><th>24</th><td>24</td><td>21</td><td>F</td><td>artist</td><td>94533</td></tr><tr><th>25</th><td>25</td><td>39</td><td>M</td><td>engineer</td><td>55107</td></tr><tr><th>26</th><td>26</td><td>49</td><td>M</td><td>engineer</td><td>21044</td></tr><tr><th>27</th><td>27</td><td>40</td><td>F</td><td>librarian</td><td>30030</td></tr><tr><th>28</th><td>28</td><td>32</td><td>M</td><td>writer</td><td>55369</td></tr><tr><th>29</th><td>29</td><td>41</td><td>M</td><td>programmer</td><td>94043</td></tr><tr><th>30</th><td>30</td><td>7</td><td>M</td><td>student</td><td>55436</td></tr><tr><th>&vellip;</th><td>&vellip;</td><td>&vellip;</td><td>&vellip;</td><td>&vellip;</td><td>&vellip;</td></tr></tbody></table></div>"
            ],
            "text/plain": [
              "\u001b[1m943×5 DataFrame\u001b[0m\n",
              "\u001b[1m Row \u001b[0m│\u001b[1m user_id \u001b[0m\u001b[1m age   \u001b[0m\u001b[1m gender  \u001b[0m\u001b[1m occupation    \u001b[0m\u001b[1m zip_code \u001b[0m\n",
              "\u001b[1m     \u001b[0m│\u001b[90m Int64   \u001b[0m\u001b[90m Int64 \u001b[0m\u001b[90m String1 \u001b[0m\u001b[90m String15      \u001b[0m\u001b[90m String7  \u001b[0m\n",
              "─────┼──────────────────────────────────────────────────\n",
              "   1 │       1     24  M        technician     85711\n",
              "   2 │       2     53  F        other          94043\n",
              "   3 │       3     23  M        writer         32067\n",
              "   4 │       4     24  M        technician     43537\n",
              "   5 │       5     33  F        other          15213\n",
              "   6 │       6     42  M        executive      98101\n",
              "   7 │       7     57  M        administrator  91344\n",
              "   8 │       8     36  M        administrator  05201\n",
              "   9 │       9     29  M        student        01002\n",
              "  10 │      10     53  M        lawyer         90703\n",
              "  11 │      11     39  F        other          30329\n",
              "  ⋮  │    ⋮       ⋮       ⋮           ⋮           ⋮\n",
              " 934 │     934     61  M        engineer       22902\n",
              " 935 │     935     42  M        doctor         66221\n",
              " 936 │     936     24  M        other          32789\n",
              " 937 │     937     48  M        educator       98072\n",
              " 938 │     938     38  F        technician     55038\n",
              " 939 │     939     26  F        student        33319\n",
              " 940 │     940     32  M        administrator  02215\n",
              " 941 │     941     20  M        student        97229\n",
              " 942 │     942     48  F        librarian      78209\n",
              " 943 │     943     22  M        student        77841\n",
              "\u001b[36m                                        922 rows omitted\u001b[0m"
            ]
          },
          "metadata": {},
          "execution_count": 4
        }
      ]
    },
    {
      "cell_type": "markdown",
      "source": [
        "# Step 4. Discover what is the mean age per occupation"
      ],
      "metadata": {
        "id": "-dOSUgMg7qgu"
      }
    },
    {
      "cell_type": "code",
      "source": [
        "@pipe users |> groupby(_, :occupation) |> (_, :age => mean)"
      ],
      "metadata": {
        "colab": {
          "base_uri": "https://localhost:8080/"
        },
        "id": "vATsQbzX7E1t",
        "outputId": "fec713a8-2e6e-4a9a-f75e-ff97ddf16d05"
      },
      "execution_count": 5,
      "outputs": [
        {
          "output_type": "execute_result",
          "data": {
            "text/plain": [
              "(GroupedDataFrame with 21 groups based on key: occupation\n",
              "First Group (27 rows): occupation = \"technician\"\n",
              "\u001b[1m Row \u001b[0m│\u001b[1m user_id \u001b[0m\u001b[1m age   \u001b[0m\u001b[1m gender  \u001b[0m\u001b[1m occupation \u001b[0m\u001b[1m zip_code \u001b[0m\n",
              "\u001b[1m     \u001b[0m│\u001b[90m Int64   \u001b[0m\u001b[90m Int64 \u001b[0m\u001b[90m String1 \u001b[0m\u001b[90m String15   \u001b[0m\u001b[90m String7  \u001b[0m\n",
              "─────┼───────────────────────────────────────────────\n",
              "   1 │       1     24  M        technician  85711\n",
              "   2 │       4     24  M        technician  43537\n",
              "   3 │      44     26  M        technician  46260\n",
              "   4 │      77     30  M        technician  29379\n",
              "   5 │     143     42  M        technician  08832\n",
              "   6 │     197     55  M        technician  75094\n",
              "   7 │     244     28  M        technician  80525\n",
              "   8 │     294     34  M        technician  92110\n",
              "   9 │     311     32  M        technician  73071\n",
              "  10 │     325     48  M        technician  02139\n",
              "  11 │     441     50  M        technician  55013\n",
              "  ⋮  │    ⋮       ⋮       ⋮         ⋮          ⋮\n",
              "  17 │     715     21  M        technician  91206\n",
              "  18 │     717     24  M        technician  84105\n",
              "  19 │     718     42  M        technician  64118\n",
              "  20 │     738     35  M        technician  95403\n",
              "  21 │     739     35  M        technician  73162\n",
              "  22 │     790     27  M        technician  80913\n",
              "  23 │     812     22  M        technician  76234\n",
              "  24 │     832     24  M        technician  77042\n",
              "  25 │     850     34  M        technician  78390\n",
              "  26 │     889     24  M        technician  78704\n",
              "  27 │     938     38  F        technician  55038\n",
              "\u001b[36m                                       5 rows omitted\u001b[0m\n",
              "⋮\n",
              "Last Group (7 rows): occupation = \"doctor\"\n",
              "\u001b[1m Row \u001b[0m│\u001b[1m user_id \u001b[0m\u001b[1m age   \u001b[0m\u001b[1m gender  \u001b[0m\u001b[1m occupation \u001b[0m\u001b[1m zip_code \u001b[0m\n",
              "\u001b[1m     \u001b[0m│\u001b[90m Int64   \u001b[0m\u001b[90m Int64 \u001b[0m\u001b[90m String1 \u001b[0m\u001b[90m String15   \u001b[0m\u001b[90m String7  \u001b[0m\n",
              "─────┼───────────────────────────────────────────────\n",
              "   1 │     138     46  M        doctor      53211\n",
              "   2 │     251     28  M        doctor      85032\n",
              "   3 │     299     29  M        doctor      63108\n",
              "   4 │     427     51  M        doctor      85258\n",
              "   5 │     841     45  M        doctor      47401\n",
              "   6 │     845     64  M        doctor      97405\n",
              "   7 │     935     42  M        doctor      66221, :age => Statistics.mean)"
            ]
          },
          "metadata": {},
          "execution_count": 5
        }
      ]
    },
    {
      "cell_type": "markdown",
      "source": [
        "# Step 5. Discover the Male ratio per occupation and sort it from the most to the least"
      ],
      "metadata": {
        "id": "3jHNszamWsaY"
      }
    },
    {
      "cell_type": "code",
      "source": [
        "convert_num(x) = x == \"M\" ? 1 : 0\n",
        "users[!,:gender_num] = convert_num.(users.gender)\n",
        "users"
      ],
      "metadata": {
        "colab": {
          "base_uri": "https://localhost:8080/",
          "height": 753
        },
        "id": "8NDU1u__71vg",
        "outputId": "663ed14c-261e-4ed5-e4d8-bae58be30798"
      },
      "execution_count": 6,
      "outputs": [
        {
          "output_type": "execute_result",
          "data": {
            "text/latex": "\\begin{tabular}{r|cccccc}\n\t& user\\_id & age & gender & occupation & zip\\_code & gender\\_num\\\\\n\t\\hline\n\t& Int64 & Int64 & String1 & String15 & String7 & Int64\\\\\n\t\\hline\n\t1 & 1 & 24 & M & technician & 85711 & 1 \\\\\n\t2 & 2 & 53 & F & other & 94043 & 0 \\\\\n\t3 & 3 & 23 & M & writer & 32067 & 1 \\\\\n\t4 & 4 & 24 & M & technician & 43537 & 1 \\\\\n\t5 & 5 & 33 & F & other & 15213 & 0 \\\\\n\t6 & 6 & 42 & M & executive & 98101 & 1 \\\\\n\t7 & 7 & 57 & M & administrator & 91344 & 1 \\\\\n\t8 & 8 & 36 & M & administrator & 05201 & 1 \\\\\n\t9 & 9 & 29 & M & student & 01002 & 1 \\\\\n\t10 & 10 & 53 & M & lawyer & 90703 & 1 \\\\\n\t11 & 11 & 39 & F & other & 30329 & 0 \\\\\n\t12 & 12 & 28 & F & other & 06405 & 0 \\\\\n\t13 & 13 & 47 & M & educator & 29206 & 1 \\\\\n\t14 & 14 & 45 & M & scientist & 55106 & 1 \\\\\n\t15 & 15 & 49 & F & educator & 97301 & 0 \\\\\n\t16 & 16 & 21 & M & entertainment & 10309 & 1 \\\\\n\t17 & 17 & 30 & M & programmer & 06355 & 1 \\\\\n\t18 & 18 & 35 & F & other & 37212 & 0 \\\\\n\t19 & 19 & 40 & M & librarian & 02138 & 1 \\\\\n\t20 & 20 & 42 & F & homemaker & 95660 & 0 \\\\\n\t21 & 21 & 26 & M & writer & 30068 & 1 \\\\\n\t22 & 22 & 25 & M & writer & 40206 & 1 \\\\\n\t23 & 23 & 30 & F & artist & 48197 & 0 \\\\\n\t24 & 24 & 21 & F & artist & 94533 & 0 \\\\\n\t25 & 25 & 39 & M & engineer & 55107 & 1 \\\\\n\t26 & 26 & 49 & M & engineer & 21044 & 1 \\\\\n\t27 & 27 & 40 & F & librarian & 30030 & 0 \\\\\n\t28 & 28 & 32 & M & writer & 55369 & 1 \\\\\n\t29 & 29 & 41 & M & programmer & 94043 & 1 \\\\\n\t30 & 30 & 7 & M & student & 55436 & 1 \\\\\n\t$\\dots$ & $\\dots$ & $\\dots$ & $\\dots$ & $\\dots$ & $\\dots$ & $\\dots$ \\\\\n\\end{tabular}\n",
            "text/html": [
              "<div class=\"data-frame\"><p>943 rows × 6 columns</p><table class=\"data-frame\"><thead><tr><th></th><th>user_id</th><th>age</th><th>gender</th><th>occupation</th><th>zip_code</th><th>gender_num</th></tr><tr><th></th><th title=\"Int64\">Int64</th><th title=\"Int64\">Int64</th><th title=\"String1\">String1</th><th title=\"String15\">String15</th><th title=\"String7\">String7</th><th title=\"Int64\">Int64</th></tr></thead><tbody><tr><th>1</th><td>1</td><td>24</td><td>M</td><td>technician</td><td>85711</td><td>1</td></tr><tr><th>2</th><td>2</td><td>53</td><td>F</td><td>other</td><td>94043</td><td>0</td></tr><tr><th>3</th><td>3</td><td>23</td><td>M</td><td>writer</td><td>32067</td><td>1</td></tr><tr><th>4</th><td>4</td><td>24</td><td>M</td><td>technician</td><td>43537</td><td>1</td></tr><tr><th>5</th><td>5</td><td>33</td><td>F</td><td>other</td><td>15213</td><td>0</td></tr><tr><th>6</th><td>6</td><td>42</td><td>M</td><td>executive</td><td>98101</td><td>1</td></tr><tr><th>7</th><td>7</td><td>57</td><td>M</td><td>administrator</td><td>91344</td><td>1</td></tr><tr><th>8</th><td>8</td><td>36</td><td>M</td><td>administrator</td><td>05201</td><td>1</td></tr><tr><th>9</th><td>9</td><td>29</td><td>M</td><td>student</td><td>01002</td><td>1</td></tr><tr><th>10</th><td>10</td><td>53</td><td>M</td><td>lawyer</td><td>90703</td><td>1</td></tr><tr><th>11</th><td>11</td><td>39</td><td>F</td><td>other</td><td>30329</td><td>0</td></tr><tr><th>12</th><td>12</td><td>28</td><td>F</td><td>other</td><td>06405</td><td>0</td></tr><tr><th>13</th><td>13</td><td>47</td><td>M</td><td>educator</td><td>29206</td><td>1</td></tr><tr><th>14</th><td>14</td><td>45</td><td>M</td><td>scientist</td><td>55106</td><td>1</td></tr><tr><th>15</th><td>15</td><td>49</td><td>F</td><td>educator</td><td>97301</td><td>0</td></tr><tr><th>16</th><td>16</td><td>21</td><td>M</td><td>entertainment</td><td>10309</td><td>1</td></tr><tr><th>17</th><td>17</td><td>30</td><td>M</td><td>programmer</td><td>06355</td><td>1</td></tr><tr><th>18</th><td>18</td><td>35</td><td>F</td><td>other</td><td>37212</td><td>0</td></tr><tr><th>19</th><td>19</td><td>40</td><td>M</td><td>librarian</td><td>02138</td><td>1</td></tr><tr><th>20</th><td>20</td><td>42</td><td>F</td><td>homemaker</td><td>95660</td><td>0</td></tr><tr><th>21</th><td>21</td><td>26</td><td>M</td><td>writer</td><td>30068</td><td>1</td></tr><tr><th>22</th><td>22</td><td>25</td><td>M</td><td>writer</td><td>40206</td><td>1</td></tr><tr><th>23</th><td>23</td><td>30</td><td>F</td><td>artist</td><td>48197</td><td>0</td></tr><tr><th>24</th><td>24</td><td>21</td><td>F</td><td>artist</td><td>94533</td><td>0</td></tr><tr><th>25</th><td>25</td><td>39</td><td>M</td><td>engineer</td><td>55107</td><td>1</td></tr><tr><th>26</th><td>26</td><td>49</td><td>M</td><td>engineer</td><td>21044</td><td>1</td></tr><tr><th>27</th><td>27</td><td>40</td><td>F</td><td>librarian</td><td>30030</td><td>0</td></tr><tr><th>28</th><td>28</td><td>32</td><td>M</td><td>writer</td><td>55369</td><td>1</td></tr><tr><th>29</th><td>29</td><td>41</td><td>M</td><td>programmer</td><td>94043</td><td>1</td></tr><tr><th>30</th><td>30</td><td>7</td><td>M</td><td>student</td><td>55436</td><td>1</td></tr><tr><th>&vellip;</th><td>&vellip;</td><td>&vellip;</td><td>&vellip;</td><td>&vellip;</td><td>&vellip;</td><td>&vellip;</td></tr></tbody></table></div>"
            ],
            "text/plain": [
              "\u001b[1m943×6 DataFrame\u001b[0m\n",
              "\u001b[1m Row \u001b[0m│\u001b[1m user_id \u001b[0m\u001b[1m age   \u001b[0m\u001b[1m gender  \u001b[0m\u001b[1m occupation    \u001b[0m\u001b[1m zip_code \u001b[0m\u001b[1m gender_num \u001b[0m\n",
              "\u001b[1m     \u001b[0m│\u001b[90m Int64   \u001b[0m\u001b[90m Int64 \u001b[0m\u001b[90m String1 \u001b[0m\u001b[90m String15      \u001b[0m\u001b[90m String7  \u001b[0m\u001b[90m Int64      \u001b[0m\n",
              "─────┼──────────────────────────────────────────────────────────────\n",
              "   1 │       1     24  M        technician     85711              1\n",
              "   2 │       2     53  F        other          94043              0\n",
              "   3 │       3     23  M        writer         32067              1\n",
              "   4 │       4     24  M        technician     43537              1\n",
              "   5 │       5     33  F        other          15213              0\n",
              "   6 │       6     42  M        executive      98101              1\n",
              "   7 │       7     57  M        administrator  91344              1\n",
              "   8 │       8     36  M        administrator  05201              1\n",
              "   9 │       9     29  M        student        01002              1\n",
              "  10 │      10     53  M        lawyer         90703              1\n",
              "  11 │      11     39  F        other          30329              0\n",
              "  ⋮  │    ⋮       ⋮       ⋮           ⋮           ⋮          ⋮\n",
              " 934 │     934     61  M        engineer       22902              1\n",
              " 935 │     935     42  M        doctor         66221              1\n",
              " 936 │     936     24  M        other          32789              1\n",
              " 937 │     937     48  M        educator       98072              1\n",
              " 938 │     938     38  F        technician     55038              0\n",
              " 939 │     939     26  F        student        33319              0\n",
              " 940 │     940     32  M        administrator  02215              1\n",
              " 941 │     941     20  M        student        97229              1\n",
              " 942 │     942     48  F        librarian      78209              0\n",
              " 943 │     943     22  M        student        77841              1\n",
              "\u001b[36m                                                    922 rows omitted\u001b[0m"
            ]
          },
          "metadata": {},
          "execution_count": 6
        }
      ]
    },
    {
      "cell_type": "code",
      "source": [
        "male_ratio = @pipe users |> groupby(_, :occupation) |> combine(_, :gender_num => (x -> sum(x) / length(x)) => :male_ratio)\n",
        "sort(male_ratio, (:male_ratio),rev=true)"
      ],
      "metadata": {
        "id": "z02zL_xd_dXD",
        "colab": {
          "base_uri": "https://localhost:8080/",
          "height": 540
        },
        "outputId": "49da9bd0-1ad8-42fc-baa2-f4f00839fe7e"
      },
      "execution_count": 22,
      "outputs": [
        {
          "output_type": "execute_result",
          "data": {
            "text/latex": "\\begin{tabular}{r|cc}\n\t& occupation & male\\_ratio\\\\\n\t\\hline\n\t& String15 & Float64\\\\\n\t\\hline\n\t1 & doctor & 1.0 \\\\\n\t2 & engineer & 0.970149 \\\\\n\t3 & technician & 0.962963 \\\\\n\t4 & retired & 0.928571 \\\\\n\t5 & programmer & 0.909091 \\\\\n\t6 & executive & 0.90625 \\\\\n\t7 & scientist & 0.903226 \\\\\n\t8 & entertainment & 0.888889 \\\\\n\t9 & lawyer & 0.833333 \\\\\n\t10 & salesman & 0.75 \\\\\n\t11 & educator & 0.726316 \\\\\n\t12 & student & 0.693878 \\\\\n\t13 & other & 0.657143 \\\\\n\t14 & marketing & 0.615385 \\\\\n\t15 & writer & 0.577778 \\\\\n\t16 & none & 0.555556 \\\\\n\t17 & administrator & 0.544304 \\\\\n\t18 & artist & 0.535714 \\\\\n\t19 & librarian & 0.431373 \\\\\n\t20 & healthcare & 0.3125 \\\\\n\t21 & homemaker & 0.142857 \\\\\n\\end{tabular}\n",
            "text/html": [
              "<div class=\"data-frame\"><p>21 rows × 2 columns</p><table class=\"data-frame\"><thead><tr><th></th><th>occupation</th><th>male_ratio</th></tr><tr><th></th><th title=\"String15\">String15</th><th title=\"Float64\">Float64</th></tr></thead><tbody><tr><th>1</th><td>doctor</td><td>1.0</td></tr><tr><th>2</th><td>engineer</td><td>0.970149</td></tr><tr><th>3</th><td>technician</td><td>0.962963</td></tr><tr><th>4</th><td>retired</td><td>0.928571</td></tr><tr><th>5</th><td>programmer</td><td>0.909091</td></tr><tr><th>6</th><td>executive</td><td>0.90625</td></tr><tr><th>7</th><td>scientist</td><td>0.903226</td></tr><tr><th>8</th><td>entertainment</td><td>0.888889</td></tr><tr><th>9</th><td>lawyer</td><td>0.833333</td></tr><tr><th>10</th><td>salesman</td><td>0.75</td></tr><tr><th>11</th><td>educator</td><td>0.726316</td></tr><tr><th>12</th><td>student</td><td>0.693878</td></tr><tr><th>13</th><td>other</td><td>0.657143</td></tr><tr><th>14</th><td>marketing</td><td>0.615385</td></tr><tr><th>15</th><td>writer</td><td>0.577778</td></tr><tr><th>16</th><td>none</td><td>0.555556</td></tr><tr><th>17</th><td>administrator</td><td>0.544304</td></tr><tr><th>18</th><td>artist</td><td>0.535714</td></tr><tr><th>19</th><td>librarian</td><td>0.431373</td></tr><tr><th>20</th><td>healthcare</td><td>0.3125</td></tr><tr><th>21</th><td>homemaker</td><td>0.142857</td></tr></tbody></table></div>"
            ],
            "text/plain": [
              "\u001b[1m21×2 DataFrame\u001b[0m\n",
              "\u001b[1m Row \u001b[0m│\u001b[1m occupation    \u001b[0m\u001b[1m male_ratio \u001b[0m\n",
              "\u001b[1m     \u001b[0m│\u001b[90m String15      \u001b[0m\u001b[90m Float64    \u001b[0m\n",
              "─────┼───────────────────────────\n",
              "   1 │ doctor           1.0\n",
              "   2 │ engineer         0.970149\n",
              "   3 │ technician       0.962963\n",
              "   4 │ retired          0.928571\n",
              "   5 │ programmer       0.909091\n",
              "   6 │ executive        0.90625\n",
              "   7 │ scientist        0.903226\n",
              "   8 │ entertainment    0.888889\n",
              "   9 │ lawyer           0.833333\n",
              "  10 │ salesman         0.75\n",
              "  11 │ educator         0.726316\n",
              "  12 │ student          0.693878\n",
              "  13 │ other            0.657143\n",
              "  14 │ marketing        0.615385\n",
              "  15 │ writer           0.577778\n",
              "  16 │ none             0.555556\n",
              "  17 │ administrator    0.544304\n",
              "  18 │ artist           0.535714\n",
              "  19 │ librarian        0.431373\n",
              "  20 │ healthcare       0.3125\n",
              "  21 │ homemaker        0.142857"
            ]
          },
          "metadata": {},
          "execution_count": 22
        }
      ]
    },
    {
      "cell_type": "markdown",
      "source": [
        "# Step 6. For each occupation, calculate the minimum and maximum ages\n"
      ],
      "metadata": {
        "id": "AsVuVXaVXQ4q"
      }
    },
    {
      "cell_type": "code",
      "source": [
        "@pipe users |> groupby(_, :occupation) |> combine(_, :age => minimum, :age => maximum)"
      ],
      "metadata": {
        "colab": {
          "base_uri": "https://localhost:8080/",
          "height": 540
        },
        "id": "dgn62kw_VZgx",
        "outputId": "347d57b9-cad1-435b-fa7c-2c3568c9dfd2"
      },
      "execution_count": 25,
      "outputs": [
        {
          "output_type": "execute_result",
          "data": {
            "text/latex": "\\begin{tabular}{r|ccc}\n\t& occupation & age\\_minimum & age\\_maximum\\\\\n\t\\hline\n\t& String15 & Int64 & Int64\\\\\n\t\\hline\n\t1 & technician & 21 & 55 \\\\\n\t2 & other & 13 & 64 \\\\\n\t3 & writer & 18 & 60 \\\\\n\t4 & executive & 22 & 69 \\\\\n\t5 & administrator & 21 & 70 \\\\\n\t6 & student & 7 & 42 \\\\\n\t7 & lawyer & 21 & 53 \\\\\n\t8 & educator & 23 & 63 \\\\\n\t9 & scientist & 23 & 55 \\\\\n\t10 & entertainment & 15 & 50 \\\\\n\t11 & programmer & 20 & 63 \\\\\n\t12 & librarian & 23 & 69 \\\\\n\t13 & homemaker & 20 & 50 \\\\\n\t14 & artist & 19 & 48 \\\\\n\t15 & engineer & 22 & 70 \\\\\n\t16 & marketing & 24 & 55 \\\\\n\t17 & none & 11 & 55 \\\\\n\t18 & healthcare & 22 & 62 \\\\\n\t19 & retired & 51 & 73 \\\\\n\t20 & salesman & 18 & 66 \\\\\n\t21 & doctor & 28 & 64 \\\\\n\\end{tabular}\n",
            "text/html": [
              "<div class=\"data-frame\"><p>21 rows × 3 columns</p><table class=\"data-frame\"><thead><tr><th></th><th>occupation</th><th>age_minimum</th><th>age_maximum</th></tr><tr><th></th><th title=\"String15\">String15</th><th title=\"Int64\">Int64</th><th title=\"Int64\">Int64</th></tr></thead><tbody><tr><th>1</th><td>technician</td><td>21</td><td>55</td></tr><tr><th>2</th><td>other</td><td>13</td><td>64</td></tr><tr><th>3</th><td>writer</td><td>18</td><td>60</td></tr><tr><th>4</th><td>executive</td><td>22</td><td>69</td></tr><tr><th>5</th><td>administrator</td><td>21</td><td>70</td></tr><tr><th>6</th><td>student</td><td>7</td><td>42</td></tr><tr><th>7</th><td>lawyer</td><td>21</td><td>53</td></tr><tr><th>8</th><td>educator</td><td>23</td><td>63</td></tr><tr><th>9</th><td>scientist</td><td>23</td><td>55</td></tr><tr><th>10</th><td>entertainment</td><td>15</td><td>50</td></tr><tr><th>11</th><td>programmer</td><td>20</td><td>63</td></tr><tr><th>12</th><td>librarian</td><td>23</td><td>69</td></tr><tr><th>13</th><td>homemaker</td><td>20</td><td>50</td></tr><tr><th>14</th><td>artist</td><td>19</td><td>48</td></tr><tr><th>15</th><td>engineer</td><td>22</td><td>70</td></tr><tr><th>16</th><td>marketing</td><td>24</td><td>55</td></tr><tr><th>17</th><td>none</td><td>11</td><td>55</td></tr><tr><th>18</th><td>healthcare</td><td>22</td><td>62</td></tr><tr><th>19</th><td>retired</td><td>51</td><td>73</td></tr><tr><th>20</th><td>salesman</td><td>18</td><td>66</td></tr><tr><th>21</th><td>doctor</td><td>28</td><td>64</td></tr></tbody></table></div>"
            ],
            "text/plain": [
              "\u001b[1m21×3 DataFrame\u001b[0m\n",
              "\u001b[1m Row \u001b[0m│\u001b[1m occupation    \u001b[0m\u001b[1m age_minimum \u001b[0m\u001b[1m age_maximum \u001b[0m\n",
              "\u001b[1m     \u001b[0m│\u001b[90m String15      \u001b[0m\u001b[90m Int64       \u001b[0m\u001b[90m Int64       \u001b[0m\n",
              "─────┼─────────────────────────────────────────\n",
              "   1 │ technician              21           55\n",
              "   2 │ other                   13           64\n",
              "   3 │ writer                  18           60\n",
              "   4 │ executive               22           69\n",
              "   5 │ administrator           21           70\n",
              "   6 │ student                  7           42\n",
              "   7 │ lawyer                  21           53\n",
              "   8 │ educator                23           63\n",
              "   9 │ scientist               23           55\n",
              "  10 │ entertainment           15           50\n",
              "  11 │ programmer              20           63\n",
              "  12 │ librarian               23           69\n",
              "  13 │ homemaker               20           50\n",
              "  14 │ artist                  19           48\n",
              "  15 │ engineer                22           70\n",
              "  16 │ marketing               24           55\n",
              "  17 │ none                    11           55\n",
              "  18 │ healthcare              22           62\n",
              "  19 │ retired                 51           73\n",
              "  20 │ salesman                18           66\n",
              "  21 │ doctor                  28           64"
            ]
          },
          "metadata": {},
          "execution_count": 25
        }
      ]
    },
    {
      "cell_type": "markdown",
      "source": [
        "# Step 7. For each combination of occupation and gender, calculate the mean age\n"
      ],
      "metadata": {
        "id": "_QaGbGDbXoR9"
      }
    },
    {
      "cell_type": "code",
      "source": [
        "agg = combine(groupby(users, [:occupation, :gender]), :gender => length => :count)\n",
        "transform(groupby(agg, [:occupation]), :count => (x -> x / sum(x) * 100) => :age_percentage)"
      ],
      "metadata": {
        "colab": {
          "base_uri": "https://localhost:8080/",
          "height": 753
        },
        "id": "c98gHh44celq",
        "outputId": "c0489615-f22d-4368-c9b8-7d5e045bf50d"
      },
      "execution_count": 43,
      "outputs": [
        {
          "output_type": "execute_result",
          "data": {
            "text/latex": "\\begin{tabular}{r|cccc}\n\t& occupation & gender & count & age\\_percentage\\\\\n\t\\hline\n\t& String15 & String1 & Int64 & Float64\\\\\n\t\\hline\n\t1 & technician & M & 26 & 96.2963 \\\\\n\t2 & technician & F & 1 & 3.7037 \\\\\n\t3 & other & M & 69 & 65.7143 \\\\\n\t4 & other & F & 36 & 34.2857 \\\\\n\t5 & writer & M & 26 & 57.7778 \\\\\n\t6 & writer & F & 19 & 42.2222 \\\\\n\t7 & executive & M & 29 & 90.625 \\\\\n\t8 & executive & F & 3 & 9.375 \\\\\n\t9 & administrator & M & 43 & 54.4304 \\\\\n\t10 & administrator & F & 36 & 45.5696 \\\\\n\t11 & student & M & 136 & 69.3878 \\\\\n\t12 & student & F & 60 & 30.6122 \\\\\n\t13 & lawyer & M & 10 & 83.3333 \\\\\n\t14 & lawyer & F & 2 & 16.6667 \\\\\n\t15 & educator & M & 69 & 72.6316 \\\\\n\t16 & educator & F & 26 & 27.3684 \\\\\n\t17 & scientist & M & 28 & 90.3226 \\\\\n\t18 & scientist & F & 3 & 9.67742 \\\\\n\t19 & entertainment & M & 16 & 88.8889 \\\\\n\t20 & entertainment & F & 2 & 11.1111 \\\\\n\t21 & programmer & M & 60 & 90.9091 \\\\\n\t22 & programmer & F & 6 & 9.09091 \\\\\n\t23 & librarian & M & 22 & 43.1373 \\\\\n\t24 & librarian & F & 29 & 56.8627 \\\\\n\t25 & homemaker & M & 1 & 14.2857 \\\\\n\t26 & homemaker & F & 6 & 85.7143 \\\\\n\t27 & artist & M & 15 & 53.5714 \\\\\n\t28 & artist & F & 13 & 46.4286 \\\\\n\t29 & engineer & M & 65 & 97.0149 \\\\\n\t30 & engineer & F & 2 & 2.98507 \\\\\n\t$\\dots$ & $\\dots$ & $\\dots$ & $\\dots$ & $\\dots$ \\\\\n\\end{tabular}\n",
            "text/html": [
              "<div class=\"data-frame\"><p>41 rows × 4 columns</p><table class=\"data-frame\"><thead><tr><th></th><th>occupation</th><th>gender</th><th>count</th><th>age_percentage</th></tr><tr><th></th><th title=\"String15\">String15</th><th title=\"String1\">String1</th><th title=\"Int64\">Int64</th><th title=\"Float64\">Float64</th></tr></thead><tbody><tr><th>1</th><td>technician</td><td>M</td><td>26</td><td>96.2963</td></tr><tr><th>2</th><td>technician</td><td>F</td><td>1</td><td>3.7037</td></tr><tr><th>3</th><td>other</td><td>M</td><td>69</td><td>65.7143</td></tr><tr><th>4</th><td>other</td><td>F</td><td>36</td><td>34.2857</td></tr><tr><th>5</th><td>writer</td><td>M</td><td>26</td><td>57.7778</td></tr><tr><th>6</th><td>writer</td><td>F</td><td>19</td><td>42.2222</td></tr><tr><th>7</th><td>executive</td><td>M</td><td>29</td><td>90.625</td></tr><tr><th>8</th><td>executive</td><td>F</td><td>3</td><td>9.375</td></tr><tr><th>9</th><td>administrator</td><td>M</td><td>43</td><td>54.4304</td></tr><tr><th>10</th><td>administrator</td><td>F</td><td>36</td><td>45.5696</td></tr><tr><th>11</th><td>student</td><td>M</td><td>136</td><td>69.3878</td></tr><tr><th>12</th><td>student</td><td>F</td><td>60</td><td>30.6122</td></tr><tr><th>13</th><td>lawyer</td><td>M</td><td>10</td><td>83.3333</td></tr><tr><th>14</th><td>lawyer</td><td>F</td><td>2</td><td>16.6667</td></tr><tr><th>15</th><td>educator</td><td>M</td><td>69</td><td>72.6316</td></tr><tr><th>16</th><td>educator</td><td>F</td><td>26</td><td>27.3684</td></tr><tr><th>17</th><td>scientist</td><td>M</td><td>28</td><td>90.3226</td></tr><tr><th>18</th><td>scientist</td><td>F</td><td>3</td><td>9.67742</td></tr><tr><th>19</th><td>entertainment</td><td>M</td><td>16</td><td>88.8889</td></tr><tr><th>20</th><td>entertainment</td><td>F</td><td>2</td><td>11.1111</td></tr><tr><th>21</th><td>programmer</td><td>M</td><td>60</td><td>90.9091</td></tr><tr><th>22</th><td>programmer</td><td>F</td><td>6</td><td>9.09091</td></tr><tr><th>23</th><td>librarian</td><td>M</td><td>22</td><td>43.1373</td></tr><tr><th>24</th><td>librarian</td><td>F</td><td>29</td><td>56.8627</td></tr><tr><th>25</th><td>homemaker</td><td>M</td><td>1</td><td>14.2857</td></tr><tr><th>26</th><td>homemaker</td><td>F</td><td>6</td><td>85.7143</td></tr><tr><th>27</th><td>artist</td><td>M</td><td>15</td><td>53.5714</td></tr><tr><th>28</th><td>artist</td><td>F</td><td>13</td><td>46.4286</td></tr><tr><th>29</th><td>engineer</td><td>M</td><td>65</td><td>97.0149</td></tr><tr><th>30</th><td>engineer</td><td>F</td><td>2</td><td>2.98507</td></tr><tr><th>&vellip;</th><td>&vellip;</td><td>&vellip;</td><td>&vellip;</td><td>&vellip;</td></tr></tbody></table></div>"
            ],
            "text/plain": [
              "\u001b[1m41×4 DataFrame\u001b[0m\n",
              "\u001b[1m Row \u001b[0m│\u001b[1m occupation    \u001b[0m\u001b[1m gender  \u001b[0m\u001b[1m count \u001b[0m\u001b[1m age_percentage \u001b[0m\n",
              "\u001b[1m     \u001b[0m│\u001b[90m String15      \u001b[0m\u001b[90m String1 \u001b[0m\u001b[90m Int64 \u001b[0m\u001b[90m Float64        \u001b[0m\n",
              "─────┼───────────────────────────────────────────────\n",
              "   1 │ technician     M           26        96.2963\n",
              "   2 │ technician     F            1         3.7037\n",
              "   3 │ other          M           69        65.7143\n",
              "   4 │ other          F           36        34.2857\n",
              "   5 │ writer         M           26        57.7778\n",
              "   6 │ writer         F           19        42.2222\n",
              "   7 │ executive      M           29        90.625\n",
              "   8 │ executive      F            3         9.375\n",
              "   9 │ administrator  M           43        54.4304\n",
              "  10 │ administrator  F           36        45.5696\n",
              "  11 │ student        M          136        69.3878\n",
              "  ⋮  │       ⋮           ⋮       ⋮          ⋮\n",
              "  32 │ marketing      F           10        38.4615\n",
              "  33 │ none           M            5        55.5556\n",
              "  34 │ none           F            4        44.4444\n",
              "  35 │ healthcare     M            5        31.25\n",
              "  36 │ healthcare     F           11        68.75\n",
              "  37 │ retired        M           13        92.8571\n",
              "  38 │ retired        F            1         7.14286\n",
              "  39 │ salesman       M            9        75.0\n",
              "  40 │ salesman       F            3        25.0\n",
              "  41 │ doctor         M            7       100.0\n",
              "\u001b[36m                                      20 rows omitted\u001b[0m"
            ]
          },
          "metadata": {},
          "execution_count": 43
        }
      ]
    }
  ]
}