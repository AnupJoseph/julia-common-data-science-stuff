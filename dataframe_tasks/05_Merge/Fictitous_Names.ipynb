{
  "nbformat": 4,
  "nbformat_minor": 0,
  "metadata": {
    "colab": {
      "name": "05_Merge_Fictitous_Names.ipynb",
      "provenance": [],
      "collapsed_sections": []
    },
    "kernelspec": {
      "display_name": "Julia",
      "language": "julia",
      "name": "julia"
    },
    "language_info": {
      "file_extension": ".jl",
      "mimetype": "application/julia",
      "name": "julia"
    }
  },
  "cells": [
    {
      "cell_type": "markdown",
      "metadata": {
        "id": "f_1dr-2W5iSU"
      },
      "source": [
        "# Getting Started with Julia in Colab/Jupyter\n",
        "You can either run this notebook in Google Colab, or using Jupyter on your own machine."
      ]
    },
    {
      "cell_type": "markdown",
      "metadata": {
        "id": "6ew60wXrZM0W"
      },
      "source": [
        "## Running on Google Colab\n",
        "1. Work on a copy of this notebook: _File_ > _Save a copy in Drive_ (you will need a Google account). Alternatively, you can download the notebook using _File_ > _Download .ipynb_, then upload it to [Colab](https://colab.research.google.com/).\n",
        "2. Execute the following cell (click on it and press Ctrl+Enter) to install Julia, IJulia (the Jupyter kernel for Julia) and other packages. You can update `JULIA_VERSION` and the other parameters, if you know what you're doing. Installation takes 2-3 minutes.\n",
        "3. Reload this page (press Ctrl+R, or ⌘+R, or the F5 key) and continue to the _Checking the Installation_ section.\n",
        "\n",
        "* _Note_: If your Colab Runtime gets reset (e.g., due to inactivity), repeat steps 2 and 3."
      ]
    },
    {
      "cell_type": "code",
      "metadata": {
        "id": "GIeFXS0F0zww",
        "colab": {
          "base_uri": "https://localhost:8080/"
        },
        "outputId": "65999e19-8281-4b1e-f1a1-339f6e0a8800"
      },
      "source": [
        "%%shell\n",
        "set -e\n",
        "\n",
        "#---------------------------------------------------#\n",
        "JULIA_VERSION=\"1.6.0\" # any version ≥ 0.7.0\n",
        "JULIA_PACKAGES=\"IJulia DataFrames CSV\"\n",
        "JULIA_PACKAGES_IF_GPU=\"CUDA\"\n",
        "JULIA_NUM_THREADS=4\n",
        "#---------------------------------------------------#\n",
        "\n",
        "if [ -n \"$COLAB_GPU\" ] && [ -z `which julia` ]; then\n",
        "  # Install Julia\n",
        "  JULIA_VER=`cut -d '.' -f -2 <<< \"$JULIA_VERSION\"`\n",
        "  echo \"Installing Julia $JULIA_VERSION on the current Colab Runtime...\"\n",
        "  BASE_URL=\"https://julialang-s3.julialang.org/bin/linux/x64\"\n",
        "  URL=\"$BASE_URL/$JULIA_VER/julia-$JULIA_VERSION-linux-x86_64.tar.gz\"\n",
        "  wget -nv $URL -O /tmp/julia.tar.gz # -nv means \"not verbose\"\n",
        "  tar -x -f /tmp/julia.tar.gz -C /usr/local --strip-components 1\n",
        "  rm /tmp/julia.tar.gz\n",
        "\n",
        "  # Install Packages\n",
        "  if [ \"$COLAB_GPU\" = \"1\" ]; then\n",
        "      JULIA_PACKAGES=\"$JULIA_PACKAGES $JULIA_PACKAGES_IF_GPU\"\n",
        "  fi\n",
        "  for PKG in `echo $JULIA_PACKAGES`; do\n",
        "    echo \"Installing Julia package $PKG...\"\n",
        "    julia -e 'using Pkg; pkg\"add '$PKG'; precompile;\"' &> /dev/null\n",
        "  done\n",
        "\n",
        "  # Install kernel and rename it to \"julia\"\n",
        "  echo \"Installing IJulia kernel...\"\n",
        "  julia -e 'using IJulia; IJulia.installkernel(\"julia\", env=Dict(\n",
        "      \"JULIA_NUM_THREADS\"=>\"'\"$JULIA_NUM_THREADS\"'\"))'\n",
        "  KERNEL_DIR=`julia -e \"using IJulia; print(IJulia.kerneldir())\"`\n",
        "  KERNEL_NAME=`ls -d \"$KERNEL_DIR\"/julia*`\n",
        "  mv -f $KERNEL_NAME \"$KERNEL_DIR\"/julia  \n",
        "\n",
        "  echo ''\n",
        "  echo \"Successfully installed `julia -v`!\"\n",
        "  echo \"Please reload this page (press Ctrl+R, ⌘+R, or the F5 key) then\"\n",
        "  echo \"jump to the 'Checking the Installation' section.\"\n",
        "fi"
      ],
      "execution_count": null,
      "outputs": [
        {
          "output_type": "stream",
          "name": "stdout",
          "text": [
            "Installing Julia 1.6.0 on the current Colab Runtime...\n",
            "2022-02-17 12:24:09 URL:https://storage.googleapis.com/julialang2/bin/linux/x64/1.6/julia-1.6.0-linux-x86_64.tar.gz [112838927/112838927] -> \"/tmp/julia.tar.gz\" [1]\n",
            "Installing Julia package IJulia...\n",
            "Installing Julia package DataFrames...\n",
            "Installing Julia package CSV...\n",
            "Installing IJulia kernel...\n",
            "\u001b[36m\u001b[1m[ \u001b[22m\u001b[39m\u001b[36m\u001b[1mInfo: \u001b[22m\u001b[39mInstalling julia kernelspec in /root/.local/share/jupyter/kernels/julia-1.6\n",
            "\n",
            "Successfully installed julia version 1.6.0!\n",
            "Please reload this page (press Ctrl+R, ⌘+R, or the F5 key) then\n",
            "jump to the 'Checking the Installation' section.\n"
          ]
        },
        {
          "output_type": "execute_result",
          "data": {
            "text/plain": [
              ""
            ]
          },
          "metadata": {},
          "execution_count": 1
        }
      ]
    },
    {
      "cell_type": "markdown",
      "metadata": {
        "id": "-OS3Ac017T1i"
      },
      "source": [
        "## Checking the Installation\n",
        "The `versioninfo()` function should print your Julia version and some other info about the system (if you ever ask for help or file an issue about Julia, you should always provide this information)."
      ]
    },
    {
      "cell_type": "code",
      "metadata": {
        "id": "EEzvvzCl1i0F",
        "colab": {
          "base_uri": "https://localhost:8080/"
        },
        "outputId": "47f5e0af-2b62-4d56-960a-f261802ae84b"
      },
      "source": [
        "versioninfo()"
      ],
      "execution_count": null,
      "outputs": [
        {
          "output_type": "stream",
          "name": "stdout",
          "text": [
            "Julia Version 1.6.0\n",
            "Commit f9720dc2eb (2021-03-24 12:55 UTC)\n",
            "Platform Info:\n",
            "  OS: Linux (x86_64-pc-linux-gnu)\n",
            "  CPU: Intel(R) Xeon(R) CPU @ 2.00GHz\n",
            "  WORD_SIZE: 64\n",
            "  LIBM: libopenlibm\n",
            "  LLVM: libLLVM-11.0.1 (ORCJIT, skylake-avx512)\n",
            "Environment:\n",
            "  JULIA_NUM_THREADS = 4\n"
          ]
        }
      ]
    },
    {
      "cell_type": "markdown",
      "source": [
        "# Step 1. Import the necessary libraries"
      ],
      "metadata": {
        "id": "NTUDsOBko-jC"
      }
    },
    {
      "cell_type": "code",
      "source": [
        "using DataFrames\n",
        "using Statistics"
      ],
      "metadata": {
        "id": "ooDbe7UAo6tC"
      },
      "execution_count": null,
      "outputs": []
    },
    {
      "cell_type": "markdown",
      "source": [
        "\n",
        "# Step 2. Create the 3 DataFrames based on the following raw data"
      ],
      "metadata": {
        "id": "Mw6t5zbvpCj6"
      }
    },
    {
      "cell_type": "code",
      "source": [
        "raw_data_1 = Dict(:subject_id => [\"1\", \"2\", \"3\", \"4\", \"5\"],\n",
        "    :first_name => [\"Alex\", \"Amy\", \"Allen\", \"Alice\", \"Ayoung\"],\n",
        "    :last_name => [\"Anderson\", \"Ackerman\", \"Ali\", \"Aoni\", \"Atiches\"])\n",
        "\n",
        "raw_data_2 = Dict(:subject_id => [\"4\", \"5\", \"6\", \"7\", \"8\"],\n",
        "    :first_name => [\"Billy\", \"Brian\", \"Bran\", \"Bryce\", \"Betty\"],\n",
        "    :last_name => [\"Bonder\", \"Black\", \"Balwner\", \"Brice\", \"Btisan\"])\n",
        "\n",
        "raw_data_3 = Dict(\n",
        "    :subject_id => [\"1\", \"2\", \"3\", \"4\", \"5\", \"7\", \"8\", \"9\", \"10\", \"11\"],\n",
        "    :test_id => [51, 15, 15, 61, 16, 14, 15, 1, 61, 16])"
      ],
      "metadata": {
        "id": "G8GD9dydo6gb",
        "colab": {
          "base_uri": "https://localhost:8080/"
        },
        "outputId": "9d67c5e9-b180-415d-aa4a-d31f624283f2"
      },
      "execution_count": null,
      "outputs": [
        {
          "output_type": "execute_result",
          "data": {
            "text/plain": [
              "Dict{Symbol, Vector{T} where T} with 2 entries:\n",
              "  :subject_id => [\"1\", \"2\", \"3\", \"4\", \"5\", \"7\", \"8\", \"9\", \"10\", \"11\"]\n",
              "  :test_id    => [51, 15, 15, 61, 16, 14, 15, 1, 61, 16]"
            ]
          },
          "metadata": {},
          "execution_count": 18
        }
      ]
    },
    {
      "cell_type": "markdown",
      "source": [
        "# Step 3. Assign each to a variable called data1, data2, data3"
      ],
      "metadata": {
        "id": "09k9aVkppIUP"
      }
    },
    {
      "cell_type": "code",
      "source": [
        "data1 = DataFrame(; raw_data_1...)\n",
        "data2 = DataFrame(; raw_data_2...)\n",
        "data3 = DataFrame(; raw_data_3...)\n",
        "show(data1)"
      ],
      "metadata": {
        "id": "WsNiH8y_o6dY",
        "colab": {
          "base_uri": "https://localhost:8080/"
        },
        "outputId": "080efc94-8c99-471a-f07d-c25bf3040a80"
      },
      "execution_count": null,
      "outputs": [
        {
          "output_type": "stream",
          "name": "stdout",
          "text": [
            "\u001b[1m5×3 DataFrame\u001b[0m\n",
            "\u001b[1m Row \u001b[0m│\u001b[1m subject_id \u001b[0m\u001b[1m last_name \u001b[0m\u001b[1m first_name \u001b[0m\n",
            "\u001b[1m     \u001b[0m│\u001b[90m String     \u001b[0m\u001b[90m String    \u001b[0m\u001b[90m String     \u001b[0m\n",
            "─────┼───────────────────────────────────\n",
            "   1 │ 1           Anderson   Alex\n",
            "   2 │ 2           Ackerman   Amy\n",
            "   3 │ 3           Ali        Allen\n",
            "   4 │ 4           Aoni       Alice\n",
            "   5 │ 5           Atiches    Ayoung"
          ]
        }
      ]
    },
    {
      "cell_type": "markdown",
      "source": [
        "# Step 4. Join the two dataframes along rows and assign all_data"
      ],
      "metadata": {
        "id": "tuHAMEhhrdR4"
      }
    },
    {
      "cell_type": "code",
      "source": [
        "all_data = vcat(data1, data2)"
      ],
      "metadata": {
        "colab": {
          "base_uri": "https://localhost:8080/",
          "height": 305
        },
        "id": "-4Tvhe2wq88t",
        "outputId": "d5d2ae78-22db-4840-d2e1-6f48c8e94b1e"
      },
      "execution_count": null,
      "outputs": [
        {
          "output_type": "execute_result",
          "data": {
            "text/latex": "\\begin{tabular}{r|ccc}\n\t& subject\\_id & last\\_name & first\\_name\\\\\n\t\\hline\n\t& String & String & String\\\\\n\t\\hline\n\t1 & 1 & Anderson & Alex \\\\\n\t2 & 2 & Ackerman & Amy \\\\\n\t3 & 3 & Ali & Allen \\\\\n\t4 & 4 & Aoni & Alice \\\\\n\t5 & 5 & Atiches & Ayoung \\\\\n\t6 & 4 & Bonder & Billy \\\\\n\t7 & 5 & Black & Brian \\\\\n\t8 & 6 & Balwner & Bran \\\\\n\t9 & 7 & Brice & Bryce \\\\\n\t10 & 8 & Btisan & Betty \\\\\n\\end{tabular}\n",
            "text/html": [
              "<div class=\"data-frame\"><p>10 rows × 3 columns</p><table class=\"data-frame\"><thead><tr><th></th><th>subject_id</th><th>last_name</th><th>first_name</th></tr><tr><th></th><th title=\"String\">String</th><th title=\"String\">String</th><th title=\"String\">String</th></tr></thead><tbody><tr><th>1</th><td>1</td><td>Anderson</td><td>Alex</td></tr><tr><th>2</th><td>2</td><td>Ackerman</td><td>Amy</td></tr><tr><th>3</th><td>3</td><td>Ali</td><td>Allen</td></tr><tr><th>4</th><td>4</td><td>Aoni</td><td>Alice</td></tr><tr><th>5</th><td>5</td><td>Atiches</td><td>Ayoung</td></tr><tr><th>6</th><td>4</td><td>Bonder</td><td>Billy</td></tr><tr><th>7</th><td>5</td><td>Black</td><td>Brian</td></tr><tr><th>8</th><td>6</td><td>Balwner</td><td>Bran</td></tr><tr><th>9</th><td>7</td><td>Brice</td><td>Bryce</td></tr><tr><th>10</th><td>8</td><td>Btisan</td><td>Betty</td></tr></tbody></table></div>"
            ],
            "text/plain": [
              "\u001b[1m10×3 DataFrame\u001b[0m\n",
              "\u001b[1m Row \u001b[0m│\u001b[1m subject_id \u001b[0m\u001b[1m last_name \u001b[0m\u001b[1m first_name \u001b[0m\n",
              "\u001b[1m     \u001b[0m│\u001b[90m String     \u001b[0m\u001b[90m String    \u001b[0m\u001b[90m String     \u001b[0m\n",
              "─────┼───────────────────────────────────\n",
              "   1 │ 1           Anderson   Alex\n",
              "   2 │ 2           Ackerman   Amy\n",
              "   3 │ 3           Ali        Allen\n",
              "   4 │ 4           Aoni       Alice\n",
              "   5 │ 5           Atiches    Ayoung\n",
              "   6 │ 4           Bonder     Billy\n",
              "   7 │ 5           Black      Brian\n",
              "   8 │ 6           Balwner    Bran\n",
              "   9 │ 7           Brice      Bryce\n",
              "  10 │ 8           Btisan     Betty"
            ]
          },
          "metadata": {},
          "execution_count": 13
        }
      ]
    },
    {
      "cell_type": "markdown",
      "source": [
        "# Step 5. Join the two dataframes along columns and assing to all_data_col"
      ],
      "metadata": {
        "id": "K0-DVgjbrw2P"
      }
    },
    {
      "cell_type": "code",
      "source": [
        "all_data_col = hcat(data1, data2, makeunique = true)"
      ],
      "metadata": {
        "colab": {
          "base_uri": "https://localhost:8080/",
          "height": 198
        },
        "id": "u-6UnFqvrSyd",
        "outputId": "6adb7122-6438-41cf-c4c0-8d1c13e98f1b"
      },
      "execution_count": null,
      "outputs": [
        {
          "output_type": "execute_result",
          "data": {
            "text/latex": "\\begin{tabular}{r|cccccc}\n\t& subject\\_id & last\\_name & first\\_name & subject\\_id\\_1 & last\\_name\\_1 & first\\_name\\_1\\\\\n\t\\hline\n\t& String & String & String & String & String & String\\\\\n\t\\hline\n\t1 & 1 & Anderson & Alex & 4 & Bonder & Billy \\\\\n\t2 & 2 & Ackerman & Amy & 5 & Black & Brian \\\\\n\t3 & 3 & Ali & Allen & 6 & Balwner & Bran \\\\\n\t4 & 4 & Aoni & Alice & 7 & Brice & Bryce \\\\\n\t5 & 5 & Atiches & Ayoung & 8 & Btisan & Betty \\\\\n\\end{tabular}\n",
            "text/html": [
              "<div class=\"data-frame\"><p>5 rows × 6 columns</p><table class=\"data-frame\"><thead><tr><th></th><th>subject_id</th><th>last_name</th><th>first_name</th><th>subject_id_1</th><th>last_name_1</th><th>first_name_1</th></tr><tr><th></th><th title=\"String\">String</th><th title=\"String\">String</th><th title=\"String\">String</th><th title=\"String\">String</th><th title=\"String\">String</th><th title=\"String\">String</th></tr></thead><tbody><tr><th>1</th><td>1</td><td>Anderson</td><td>Alex</td><td>4</td><td>Bonder</td><td>Billy</td></tr><tr><th>2</th><td>2</td><td>Ackerman</td><td>Amy</td><td>5</td><td>Black</td><td>Brian</td></tr><tr><th>3</th><td>3</td><td>Ali</td><td>Allen</td><td>6</td><td>Balwner</td><td>Bran</td></tr><tr><th>4</th><td>4</td><td>Aoni</td><td>Alice</td><td>7</td><td>Brice</td><td>Bryce</td></tr><tr><th>5</th><td>5</td><td>Atiches</td><td>Ayoung</td><td>8</td><td>Btisan</td><td>Betty</td></tr></tbody></table></div>"
            ],
            "text/plain": [
              "\u001b[1m5×6 DataFrame\u001b[0m\n",
              "\u001b[1m Row \u001b[0m│\u001b[1m subject_id \u001b[0m\u001b[1m last_name \u001b[0m\u001b[1m first_name \u001b[0m\u001b[1m subject_id_1 \u001b[0m\u001b[1m last_name_1 \u001b[0m\u001b[1m first_nam\u001b[0m ⋯\n",
              "\u001b[1m     \u001b[0m│\u001b[90m String     \u001b[0m\u001b[90m String    \u001b[0m\u001b[90m String     \u001b[0m\u001b[90m String       \u001b[0m\u001b[90m String      \u001b[0m\u001b[90m String   \u001b[0m ⋯\n",
              "─────┼──────────────────────────────────────────────────────────────────────────\n",
              "   1 │ 1           Anderson   Alex        4             Bonder       Billy     ⋯\n",
              "   2 │ 2           Ackerman   Amy         5             Black        Brian\n",
              "   3 │ 3           Ali        Allen       6             Balwner      Bran\n",
              "   4 │ 4           Aoni       Alice       7             Brice        Bryce\n",
              "   5 │ 5           Atiches    Ayoung      8             Btisan       Betty     ⋯\n",
              "\u001b[36m                                                                1 column omitted\u001b[0m"
            ]
          },
          "metadata": {},
          "execution_count": 15
        }
      ]
    },
    {
      "cell_type": "markdown",
      "source": [
        "# Step 6. Print data3"
      ],
      "metadata": {
        "id": "mQfhP5IfsHLV"
      }
    },
    {
      "cell_type": "code",
      "source": [
        "show(data3)"
      ],
      "metadata": {
        "colab": {
          "base_uri": "https://localhost:8080/"
        },
        "id": "hLF0v1NMrxO9",
        "outputId": "40e7a4ca-625d-4f3f-b250-a4f07ca60332"
      },
      "execution_count": null,
      "outputs": [
        {
          "output_type": "stream",
          "name": "stdout",
          "text": [
            "\u001b[1m10×2 DataFrame\u001b[0m\n",
            "\u001b[1m Row \u001b[0m│\u001b[1m test_id \u001b[0m\u001b[1m subject_i \u001b[0m\n",
            "\u001b[1m     \u001b[0m│\u001b[90m Int64   \u001b[0m\u001b[90m String    \u001b[0m\n",
            "─────┼────────────────────\n",
            "   1 │      51  1\n",
            "   2 │      15  2\n",
            "   3 │      15  3\n",
            "   4 │      61  4\n",
            "   5 │      16  5\n",
            "   6 │      14  7\n",
            "   7 │      15  8\n",
            "   8 │       1  9\n",
            "   9 │      61  10\n",
            "  10 │      16  11"
          ]
        }
      ]
    },
    {
      "cell_type": "markdown",
      "source": [
        "# Step 7. Merge all_data and data3 along the subject_id value\n"
      ],
      "metadata": {
        "id": "_wiMJ_ICsx1m"
      }
    },
    {
      "cell_type": "code",
      "source": [
        "innerjoin(all_data, data3, on = :subject_id)"
      ],
      "metadata": {
        "colab": {
          "base_uri": "https://localhost:8080/",
          "height": 283
        },
        "id": "vm8iqV5wsYV2",
        "outputId": "1125751d-14fa-4cb8-bf09-9b528c006fca"
      },
      "execution_count": null,
      "outputs": [
        {
          "output_type": "execute_result",
          "data": {
            "text/latex": "\\begin{tabular}{r|cccc}\n\t& subject\\_id & last\\_name & first\\_name & test\\_id\\\\\n\t\\hline\n\t& String & String & String & Int64\\\\\n\t\\hline\n\t1 & 1 & Anderson & Alex & 51 \\\\\n\t2 & 2 & Ackerman & Amy & 15 \\\\\n\t3 & 3 & Ali & Allen & 15 \\\\\n\t4 & 4 & Aoni & Alice & 61 \\\\\n\t5 & 4 & Bonder & Billy & 61 \\\\\n\t6 & 5 & Atiches & Ayoung & 16 \\\\\n\t7 & 5 & Black & Brian & 16 \\\\\n\t8 & 7 & Brice & Bryce & 14 \\\\\n\t9 & 8 & Btisan & Betty & 15 \\\\\n\\end{tabular}\n",
            "text/html": [
              "<div class=\"data-frame\"><p>9 rows × 4 columns</p><table class=\"data-frame\"><thead><tr><th></th><th>subject_id</th><th>last_name</th><th>first_name</th><th>test_id</th></tr><tr><th></th><th title=\"String\">String</th><th title=\"String\">String</th><th title=\"String\">String</th><th title=\"Int64\">Int64</th></tr></thead><tbody><tr><th>1</th><td>1</td><td>Anderson</td><td>Alex</td><td>51</td></tr><tr><th>2</th><td>2</td><td>Ackerman</td><td>Amy</td><td>15</td></tr><tr><th>3</th><td>3</td><td>Ali</td><td>Allen</td><td>15</td></tr><tr><th>4</th><td>4</td><td>Aoni</td><td>Alice</td><td>61</td></tr><tr><th>5</th><td>4</td><td>Bonder</td><td>Billy</td><td>61</td></tr><tr><th>6</th><td>5</td><td>Atiches</td><td>Ayoung</td><td>16</td></tr><tr><th>7</th><td>5</td><td>Black</td><td>Brian</td><td>16</td></tr><tr><th>8</th><td>7</td><td>Brice</td><td>Bryce</td><td>14</td></tr><tr><th>9</th><td>8</td><td>Btisan</td><td>Betty</td><td>15</td></tr></tbody></table></div>"
            ],
            "text/plain": [
              "\u001b[1m9×4 DataFrame\u001b[0m\n",
              "\u001b[1m Row \u001b[0m│\u001b[1m subject_id \u001b[0m\u001b[1m last_name \u001b[0m\u001b[1m first_name \u001b[0m\u001b[1m test_id \u001b[0m\n",
              "\u001b[1m     \u001b[0m│\u001b[90m String     \u001b[0m\u001b[90m String    \u001b[0m\u001b[90m String     \u001b[0m\u001b[90m Int64   \u001b[0m\n",
              "─────┼────────────────────────────────────────────\n",
              "   1 │ 1           Anderson   Alex             51\n",
              "   2 │ 2           Ackerman   Amy              15\n",
              "   3 │ 3           Ali        Allen            15\n",
              "   4 │ 4           Aoni       Alice            61\n",
              "   5 │ 4           Bonder     Billy            61\n",
              "   6 │ 5           Atiches    Ayoung           16\n",
              "   7 │ 5           Black      Brian            16\n",
              "   8 │ 7           Brice      Bryce            14\n",
              "   9 │ 8           Btisan     Betty            15"
            ]
          },
          "metadata": {},
          "execution_count": 23
        }
      ]
    },
    {
      "cell_type": "markdown",
      "source": [
        "# Step 8. Merge only the data that has the same 'subject_id' on both data1 and data2"
      ],
      "metadata": {
        "id": "I2q781h9tKyD"
      }
    },
    {
      "cell_type": "code",
      "source": [
        "innerjoin(data1, data2, on = :subject_id, makeunique = true)"
      ],
      "metadata": {
        "colab": {
          "base_uri": "https://localhost:8080/",
          "height": 134
        },
        "id": "YY8nCnLDsuDP",
        "outputId": "fd27cdd9-53eb-480f-f8f2-2e55dd57210c"
      },
      "execution_count": null,
      "outputs": [
        {
          "output_type": "execute_result",
          "data": {
            "text/latex": "\\begin{tabular}{r|ccccc}\n\t& subject\\_id & last\\_name & first\\_name & last\\_name\\_1 & first\\_name\\_1\\\\\n\t\\hline\n\t& String & String & String & String & String\\\\\n\t\\hline\n\t1 & 4 & Aoni & Alice & Bonder & Billy \\\\\n\t2 & 5 & Atiches & Ayoung & Black & Brian \\\\\n\\end{tabular}\n",
            "text/html": [
              "<div class=\"data-frame\"><p>2 rows × 5 columns</p><table class=\"data-frame\"><thead><tr><th></th><th>subject_id</th><th>last_name</th><th>first_name</th><th>last_name_1</th><th>first_name_1</th></tr><tr><th></th><th title=\"String\">String</th><th title=\"String\">String</th><th title=\"String\">String</th><th title=\"String\">String</th><th title=\"String\">String</th></tr></thead><tbody><tr><th>1</th><td>4</td><td>Aoni</td><td>Alice</td><td>Bonder</td><td>Billy</td></tr><tr><th>2</th><td>5</td><td>Atiches</td><td>Ayoung</td><td>Black</td><td>Brian</td></tr></tbody></table></div>"
            ],
            "text/plain": [
              "\u001b[1m2×5 DataFrame\u001b[0m\n",
              "\u001b[1m Row \u001b[0m│\u001b[1m subject_id \u001b[0m\u001b[1m last_name \u001b[0m\u001b[1m first_name \u001b[0m\u001b[1m last_name_1 \u001b[0m\u001b[1m first_name_1 \u001b[0m\n",
              "\u001b[1m     \u001b[0m│\u001b[90m String     \u001b[0m\u001b[90m String    \u001b[0m\u001b[90m String     \u001b[0m\u001b[90m String      \u001b[0m\u001b[90m String       \u001b[0m\n",
              "─────┼──────────────────────────────────────────────────────────────\n",
              "   1 │ 4           Aoni       Alice       Bonder       Billy\n",
              "   2 │ 5           Atiches    Ayoung      Black        Brian"
            ]
          },
          "metadata": {},
          "execution_count": 25
        }
      ]
    },
    {
      "cell_type": "markdown",
      "source": [
        "# Step 9. Merge all values in data1 and data2, with matching records from both sides where available."
      ],
      "metadata": {
        "id": "rgKxnx4ktedO"
      }
    },
    {
      "cell_type": "code",
      "source": [
        "outerjoin(data1, data2, on = :subject_id, makeunique = true)"
      ],
      "metadata": {
        "colab": {
          "base_uri": "https://localhost:8080/",
          "height": 262
        },
        "id": "T_NtNb_1s_Yk",
        "outputId": "ee25114c-8c37-4ad5-d680-1a2d18ea64b3"
      },
      "execution_count": null,
      "outputs": [
        {
          "output_type": "execute_result",
          "data": {
            "text/latex": "\\begin{tabular}{r|ccccc}\n\t& subject\\_id & last\\_name & first\\_name & last\\_name\\_1 & first\\_name\\_1\\\\\n\t\\hline\n\t& String & String? & String? & String? & String?\\\\\n\t\\hline\n\t1 & 4 & Aoni & Alice & Bonder & Billy \\\\\n\t2 & 5 & Atiches & Ayoung & Black & Brian \\\\\n\t3 & 1 & Anderson & Alex & \\emph{missing} & \\emph{missing} \\\\\n\t4 & 2 & Ackerman & Amy & \\emph{missing} & \\emph{missing} \\\\\n\t5 & 3 & Ali & Allen & \\emph{missing} & \\emph{missing} \\\\\n\t6 & 6 & \\emph{missing} & \\emph{missing} & Balwner & Bran \\\\\n\t7 & 7 & \\emph{missing} & \\emph{missing} & Brice & Bryce \\\\\n\t8 & 8 & \\emph{missing} & \\emph{missing} & Btisan & Betty \\\\\n\\end{tabular}\n",
            "text/html": [
              "<div class=\"data-frame\"><p>8 rows × 5 columns</p><table class=\"data-frame\"><thead><tr><th></th><th>subject_id</th><th>last_name</th><th>first_name</th><th>last_name_1</th><th>first_name_1</th></tr><tr><th></th><th title=\"String\">String</th><th title=\"Union{Missing, String}\">String?</th><th title=\"Union{Missing, String}\">String?</th><th title=\"Union{Missing, String}\">String?</th><th title=\"Union{Missing, String}\">String?</th></tr></thead><tbody><tr><th>1</th><td>4</td><td>Aoni</td><td>Alice</td><td>Bonder</td><td>Billy</td></tr><tr><th>2</th><td>5</td><td>Atiches</td><td>Ayoung</td><td>Black</td><td>Brian</td></tr><tr><th>3</th><td>1</td><td>Anderson</td><td>Alex</td><td><em>missing</em></td><td><em>missing</em></td></tr><tr><th>4</th><td>2</td><td>Ackerman</td><td>Amy</td><td><em>missing</em></td><td><em>missing</em></td></tr><tr><th>5</th><td>3</td><td>Ali</td><td>Allen</td><td><em>missing</em></td><td><em>missing</em></td></tr><tr><th>6</th><td>6</td><td><em>missing</em></td><td><em>missing</em></td><td>Balwner</td><td>Bran</td></tr><tr><th>7</th><td>7</td><td><em>missing</em></td><td><em>missing</em></td><td>Brice</td><td>Bryce</td></tr><tr><th>8</th><td>8</td><td><em>missing</em></td><td><em>missing</em></td><td>Btisan</td><td>Betty</td></tr></tbody></table></div>"
            ],
            "text/plain": [
              "\u001b[1m8×5 DataFrame\u001b[0m\n",
              "\u001b[1m Row \u001b[0m│\u001b[1m subject_id \u001b[0m\u001b[1m last_name \u001b[0m\u001b[1m first_name \u001b[0m\u001b[1m last_name_1 \u001b[0m\u001b[1m first_name_1 \u001b[0m\n",
              "\u001b[1m     \u001b[0m│\u001b[90m String     \u001b[0m\u001b[90m String?   \u001b[0m\u001b[90m String?    \u001b[0m\u001b[90m String?     \u001b[0m\u001b[90m String?      \u001b[0m\n",
              "─────┼──────────────────────────────────────────────────────────────\n",
              "   1 │ 4           Aoni       Alice       Bonder       Billy\n",
              "   2 │ 5           Atiches    Ayoung      Black        Brian\n",
              "   3 │ 1           Anderson   Alex       \u001b[90m missing     \u001b[0m\u001b[90m missing      \u001b[0m\n",
              "   4 │ 2           Ackerman   Amy        \u001b[90m missing     \u001b[0m\u001b[90m missing      \u001b[0m\n",
              "   5 │ 3           Ali        Allen      \u001b[90m missing     \u001b[0m\u001b[90m missing      \u001b[0m\n",
              "   6 │ 6          \u001b[90m missing   \u001b[0m\u001b[90m missing    \u001b[0m Balwner      Bran\n",
              "   7 │ 7          \u001b[90m missing   \u001b[0m\u001b[90m missing    \u001b[0m Brice        Bryce\n",
              "   8 │ 8          \u001b[90m missing   \u001b[0m\u001b[90m missing    \u001b[0m Btisan       Betty"
            ]
          },
          "metadata": {},
          "execution_count": 27
        }
      ]
    }
  ]
}