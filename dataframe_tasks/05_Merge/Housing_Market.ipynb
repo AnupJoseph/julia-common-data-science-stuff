{
  "nbformat": 4,
  "nbformat_minor": 0,
  "metadata": {
    "colab": {
      "name": "05_Merge_Housing_Market.ipynb",
      "provenance": [],
      "collapsed_sections": []
    },
    "kernelspec": {
      "display_name": "Julia",
      "language": "julia",
      "name": "julia"
    },
    "language_info": {
      "file_extension": ".jl",
      "mimetype": "application/julia",
      "name": "julia"
    }
  },
  "cells": [
    {
      "cell_type": "markdown",
      "metadata": {
        "id": "f_1dr-2W5iSU"
      },
      "source": [
        "# Getting Started with Julia in Colab/Jupyter\n",
        "You can either run this notebook in Google Colab, or using Jupyter on your own machine."
      ]
    },
    {
      "cell_type": "markdown",
      "metadata": {
        "id": "6ew60wXrZM0W"
      },
      "source": [
        "## Running on Google Colab\n",
        "1. Work on a copy of this notebook: _File_ > _Save a copy in Drive_ (you will need a Google account). Alternatively, you can download the notebook using _File_ > _Download .ipynb_, then upload it to [Colab](https://colab.research.google.com/).\n",
        "2. Execute the following cell (click on it and press Ctrl+Enter) to install Julia, IJulia (the Jupyter kernel for Julia) and other packages. You can update `JULIA_VERSION` and the other parameters, if you know what you're doing. Installation takes 2-3 minutes.\n",
        "3. Reload this page (press Ctrl+R, or ⌘+R, or the F5 key) and continue to the _Checking the Installation_ section.\n",
        "\n",
        "* _Note_: If your Colab Runtime gets reset (e.g., due to inactivity), repeat steps 2 and 3."
      ]
    },
    {
      "cell_type": "code",
      "metadata": {
        "id": "GIeFXS0F0zww",
        "colab": {
          "base_uri": "https://localhost:8080/"
        },
        "outputId": "3b21967f-2145-4412-979c-94072818416d"
      },
      "source": [
        "%%shell\n",
        "set -e\n",
        "\n",
        "#---------------------------------------------------#\n",
        "JULIA_VERSION=\"1.6.0\" # any version ≥ 0.7.0\n",
        "JULIA_PACKAGES=\"IJulia DataFrames CSV Pipe\"\n",
        "JULIA_PACKAGES_IF_GPU=\"CUDA\"\n",
        "JULIA_NUM_THREADS=4\n",
        "#---------------------------------------------------#\n",
        "\n",
        "if [ -n \"$COLAB_GPU\" ] && [ -z `which julia` ]; then\n",
        "  # Install Julia\n",
        "  JULIA_VER=`cut -d '.' -f -2 <<< \"$JULIA_VERSION\"`\n",
        "  echo \"Installing Julia $JULIA_VERSION on the current Colab Runtime...\"\n",
        "  BASE_URL=\"https://julialang-s3.julialang.org/bin/linux/x64\"\n",
        "  URL=\"$BASE_URL/$JULIA_VER/julia-$JULIA_VERSION-linux-x86_64.tar.gz\"\n",
        "  wget -nv $URL -O /tmp/julia.tar.gz # -nv means \"not verbose\"\n",
        "  tar -x -f /tmp/julia.tar.gz -C /usr/local --strip-components 1\n",
        "  rm /tmp/julia.tar.gz\n",
        "\n",
        "  # Install Packages\n",
        "  if [ \"$COLAB_GPU\" = \"1\" ]; then\n",
        "      JULIA_PACKAGES=\"$JULIA_PACKAGES $JULIA_PACKAGES_IF_GPU\"\n",
        "  fi\n",
        "  for PKG in `echo $JULIA_PACKAGES`; do\n",
        "    echo \"Installing Julia package $PKG...\"\n",
        "    julia -e 'using Pkg; pkg\"add '$PKG'; precompile;\"' &> /dev/null\n",
        "  done\n",
        "\n",
        "  # Install kernel and rename it to \"julia\"\n",
        "  echo \"Installing IJulia kernel...\"\n",
        "  julia -e 'using IJulia; IJulia.installkernel(\"julia\", env=Dict(\n",
        "      \"JULIA_NUM_THREADS\"=>\"'\"$JULIA_NUM_THREADS\"'\"))'\n",
        "  KERNEL_DIR=`julia -e \"using IJulia; print(IJulia.kerneldir())\"`\n",
        "  KERNEL_NAME=`ls -d \"$KERNEL_DIR\"/julia*`\n",
        "  mv -f $KERNEL_NAME \"$KERNEL_DIR\"/julia  \n",
        "\n",
        "  echo ''\n",
        "  echo \"Successfully installed `julia -v`!\"\n",
        "  echo \"Please reload this page (press Ctrl+R, ⌘+R, or the F5 key) then\"\n",
        "  echo \"jump to the 'Checking the Installation' section.\"\n",
        "fi"
      ],
      "execution_count": null,
      "outputs": [
        {
          "output_type": "stream",
          "name": "stdout",
          "text": [
            "Installing Julia 1.6.0 on the current Colab Runtime...\n",
            "2022-02-19 13:26:29 URL:https://storage.googleapis.com/julialang2/bin/linux/x64/1.6/julia-1.6.0-linux-x86_64.tar.gz [112838927/112838927] -> \"/tmp/julia.tar.gz\" [1]\n",
            "Installing Julia package IJulia...\n",
            "Installing Julia package BenchmarkTools...\n",
            "Installing Julia package PyCall...\n",
            "Installing Julia package PyPlot...\n",
            "Installing IJulia kernel...\n"
          ]
        }
      ]
    },
    {
      "cell_type": "markdown",
      "metadata": {
        "id": "-OS3Ac017T1i"
      },
      "source": [
        "## Checking the Installation\n",
        "The `versioninfo()` function should print your Julia version and some other info about the system (if you ever ask for help or file an issue about Julia, you should always provide this information)."
      ]
    },
    {
      "cell_type": "code",
      "metadata": {
        "id": "EEzvvzCl1i0F",
        "colab": {
          "base_uri": "https://localhost:8080/"
        },
        "outputId": "47f5e0af-2b62-4d56-960a-f261802ae84b"
      },
      "source": [
        "versioninfo()"
      ],
      "execution_count": null,
      "outputs": [
        {
          "output_type": "stream",
          "name": "stdout",
          "text": [
            "Julia Version 1.6.0\n",
            "Commit f9720dc2eb (2021-03-24 12:55 UTC)\n",
            "Platform Info:\n",
            "  OS: Linux (x86_64-pc-linux-gnu)\n",
            "  CPU: Intel(R) Xeon(R) CPU @ 2.00GHz\n",
            "  WORD_SIZE: 64\n",
            "  LIBM: libopenlibm\n",
            "  LLVM: libLLVM-11.0.1 (ORCJIT, skylake-avx512)\n",
            "Environment:\n",
            "  JULIA_NUM_THREADS = 4\n"
          ]
        }
      ]
    },
    {
      "cell_type": "markdown",
      "source": [
        "# Imports"
      ],
      "metadata": {
        "id": "dlwibbpVKYRx"
      }
    },
    {
      "cell_type": "code",
      "source": [
        "using DataFrames\n",
        "using CSV\n",
        "using Pipe"
      ],
      "metadata": {
        "id": "54Nl1JLKKcqJ"
      },
      "execution_count": 5,
      "outputs": []
    },
    {
      "cell_type": "markdown",
      "source": [
        "# Step 2. Create 3 differents Series, each of length 100, as follows:\n",
        "1. The first a random number from 1 to 4\n",
        "2. The second a random number from 1 to 3\n",
        "3. The third a random number from 10,000 to 30,000"
      ],
      "metadata": {
        "id": "7pjMV79jLu5a"
      }
    },
    {
      "cell_type": "code",
      "source": [
        "s1 = rand(1:4, 100)\n",
        "s2 = rand(1:3, 100)\n",
        "s3 = rand(10000:30000, 100)"
      ],
      "metadata": {
        "colab": {
          "base_uri": "https://localhost:8080/"
        },
        "id": "-ySNAqi5LIIU",
        "outputId": "24f51bb3-7e7a-451d-c7ca-2219759e88f7"
      },
      "execution_count": 6,
      "outputs": [
        {
          "output_type": "execute_result",
          "data": {
            "text/plain": [
              "100-element Vector{Int64}:\n",
              " 25880\n",
              " 29966\n",
              " 19328\n",
              " 14825\n",
              " 12303\n",
              " 20468\n",
              " 12303\n",
              " 28648\n",
              " 11781\n",
              " 12833\n",
              " 26018\n",
              " 18920\n",
              " 10977\n",
              "     ⋮\n",
              " 22262\n",
              " 10686\n",
              " 19465\n",
              " 26111\n",
              " 27378\n",
              " 24084\n",
              " 15634\n",
              " 23391\n",
              " 23542\n",
              " 14515\n",
              " 16015\n",
              " 11832"
            ]
          },
          "metadata": {},
          "execution_count": 6
        }
      ]
    },
    {
      "cell_type": "markdown",
      "source": [
        "# Step 3. Let's create a DataFrame by joinning the Series by column"
      ],
      "metadata": {
        "id": "9OtG3ajIM9tl"
      }
    },
    {
      "cell_type": "code",
      "source": [
        "house_mkt = DataFrame((bedrs = s1, bathrs = s2, price_sqr_meter = s3))"
      ],
      "metadata": {
        "colab": {
          "base_uri": "https://localhost:8080/",
          "height": 753
        },
        "id": "PauhW4bgMgAM",
        "outputId": "ff60a497-9b4f-4573-9a90-381bdf3aa95c"
      },
      "execution_count": 10,
      "outputs": [
        {
          "output_type": "execute_result",
          "data": {
            "text/latex": "\\begin{tabular}{r|ccc}\n\t& bedrs & bathrs & price\\_sqr\\_meter\\\\\n\t\\hline\n\t& Int64 & Int64 & Int64\\\\\n\t\\hline\n\t1 & 2 & 3 & 25880 \\\\\n\t2 & 2 & 1 & 29966 \\\\\n\t3 & 2 & 3 & 19328 \\\\\n\t4 & 4 & 2 & 14825 \\\\\n\t5 & 1 & 1 & 12303 \\\\\n\t6 & 4 & 1 & 20468 \\\\\n\t7 & 1 & 1 & 12303 \\\\\n\t8 & 4 & 3 & 28648 \\\\\n\t9 & 3 & 3 & 11781 \\\\\n\t10 & 4 & 2 & 12833 \\\\\n\t11 & 2 & 2 & 26018 \\\\\n\t12 & 1 & 3 & 18920 \\\\\n\t13 & 2 & 1 & 10977 \\\\\n\t14 & 3 & 3 & 27486 \\\\\n\t15 & 3 & 3 & 12966 \\\\\n\t16 & 1 & 2 & 12117 \\\\\n\t17 & 2 & 1 & 10446 \\\\\n\t18 & 3 & 1 & 28980 \\\\\n\t19 & 2 & 3 & 28857 \\\\\n\t20 & 1 & 2 & 29771 \\\\\n\t21 & 3 & 2 & 20949 \\\\\n\t22 & 1 & 3 & 20399 \\\\\n\t23 & 1 & 1 & 18490 \\\\\n\t24 & 4 & 3 & 11410 \\\\\n\t25 & 4 & 3 & 12699 \\\\\n\t26 & 1 & 3 & 28506 \\\\\n\t27 & 1 & 1 & 29341 \\\\\n\t28 & 1 & 3 & 10847 \\\\\n\t29 & 3 & 3 & 23674 \\\\\n\t30 & 1 & 3 & 27400 \\\\\n\t$\\dots$ & $\\dots$ & $\\dots$ & $\\dots$ \\\\\n\\end{tabular}\n",
            "text/html": [
              "<div class=\"data-frame\"><p>100 rows × 3 columns</p><table class=\"data-frame\"><thead><tr><th></th><th>bedrs</th><th>bathrs</th><th>price_sqr_meter</th></tr><tr><th></th><th title=\"Int64\">Int64</th><th title=\"Int64\">Int64</th><th title=\"Int64\">Int64</th></tr></thead><tbody><tr><th>1</th><td>2</td><td>3</td><td>25880</td></tr><tr><th>2</th><td>2</td><td>1</td><td>29966</td></tr><tr><th>3</th><td>2</td><td>3</td><td>19328</td></tr><tr><th>4</th><td>4</td><td>2</td><td>14825</td></tr><tr><th>5</th><td>1</td><td>1</td><td>12303</td></tr><tr><th>6</th><td>4</td><td>1</td><td>20468</td></tr><tr><th>7</th><td>1</td><td>1</td><td>12303</td></tr><tr><th>8</th><td>4</td><td>3</td><td>28648</td></tr><tr><th>9</th><td>3</td><td>3</td><td>11781</td></tr><tr><th>10</th><td>4</td><td>2</td><td>12833</td></tr><tr><th>11</th><td>2</td><td>2</td><td>26018</td></tr><tr><th>12</th><td>1</td><td>3</td><td>18920</td></tr><tr><th>13</th><td>2</td><td>1</td><td>10977</td></tr><tr><th>14</th><td>3</td><td>3</td><td>27486</td></tr><tr><th>15</th><td>3</td><td>3</td><td>12966</td></tr><tr><th>16</th><td>1</td><td>2</td><td>12117</td></tr><tr><th>17</th><td>2</td><td>1</td><td>10446</td></tr><tr><th>18</th><td>3</td><td>1</td><td>28980</td></tr><tr><th>19</th><td>2</td><td>3</td><td>28857</td></tr><tr><th>20</th><td>1</td><td>2</td><td>29771</td></tr><tr><th>21</th><td>3</td><td>2</td><td>20949</td></tr><tr><th>22</th><td>1</td><td>3</td><td>20399</td></tr><tr><th>23</th><td>1</td><td>1</td><td>18490</td></tr><tr><th>24</th><td>4</td><td>3</td><td>11410</td></tr><tr><th>25</th><td>4</td><td>3</td><td>12699</td></tr><tr><th>26</th><td>1</td><td>3</td><td>28506</td></tr><tr><th>27</th><td>1</td><td>1</td><td>29341</td></tr><tr><th>28</th><td>1</td><td>3</td><td>10847</td></tr><tr><th>29</th><td>3</td><td>3</td><td>23674</td></tr><tr><th>30</th><td>1</td><td>3</td><td>27400</td></tr><tr><th>&vellip;</th><td>&vellip;</td><td>&vellip;</td><td>&vellip;</td></tr></tbody></table></div>"
            ],
            "text/plain": [
              "\u001b[1m100×3 DataFrame\u001b[0m\n",
              "\u001b[1m Row \u001b[0m│\u001b[1m bedrs \u001b[0m\u001b[1m bathrs \u001b[0m\u001b[1m price_sqr_meter \u001b[0m\n",
              "\u001b[1m     \u001b[0m│\u001b[90m Int64 \u001b[0m\u001b[90m Int64  \u001b[0m\u001b[90m Int64           \u001b[0m\n",
              "─────┼────────────────────────────────\n",
              "   1 │     2       3            25880\n",
              "   2 │     2       1            29966\n",
              "   3 │     2       3            19328\n",
              "   4 │     4       2            14825\n",
              "   5 │     1       1            12303\n",
              "   6 │     4       1            20468\n",
              "   7 │     1       1            12303\n",
              "   8 │     4       3            28648\n",
              "   9 │     3       3            11781\n",
              "  10 │     4       2            12833\n",
              "  11 │     2       2            26018\n",
              "  ⋮  │   ⋮      ⋮            ⋮\n",
              "  91 │     3       2            19465\n",
              "  92 │     3       3            26111\n",
              "  93 │     4       1            27378\n",
              "  94 │     3       2            24084\n",
              "  95 │     1       2            15634\n",
              "  96 │     3       1            23391\n",
              "  97 │     4       2            23542\n",
              "  98 │     3       1            14515\n",
              "  99 │     4       1            16015\n",
              " 100 │     1       1            11832\n",
              "\u001b[36m                       79 rows omitted\u001b[0m"
            ]
          },
          "metadata": {},
          "execution_count": 10
        }
      ]
    },
    {
      "cell_type": "code",
      "source": [
        "big_cols = DataFrame((bigcolumn = vcat(s1, s2, s3)))"
      ],
      "metadata": {
        "colab": {
          "base_uri": "https://localhost:8080/",
          "height": 753
        },
        "id": "YJ-9PbeFM_MV",
        "outputId": "33a7271a-3e05-4012-fe55-cf828fbbca6c"
      },
      "execution_count": 19,
      "outputs": [
        {
          "output_type": "execute_result",
          "data": {
            "text/latex": "\\begin{tabular}{r|c}\n\t& bigcolumn\\\\\n\t\\hline\n\t& Int64\\\\\n\t\\hline\n\t1 & 2 \\\\\n\t2 & 2 \\\\\n\t3 & 2 \\\\\n\t4 & 4 \\\\\n\t5 & 1 \\\\\n\t6 & 4 \\\\\n\t7 & 1 \\\\\n\t8 & 4 \\\\\n\t9 & 3 \\\\\n\t10 & 4 \\\\\n\t11 & 2 \\\\\n\t12 & 1 \\\\\n\t13 & 2 \\\\\n\t14 & 3 \\\\\n\t15 & 3 \\\\\n\t16 & 1 \\\\\n\t17 & 2 \\\\\n\t18 & 3 \\\\\n\t19 & 2 \\\\\n\t20 & 1 \\\\\n\t21 & 3 \\\\\n\t22 & 1 \\\\\n\t23 & 1 \\\\\n\t24 & 4 \\\\\n\t25 & 4 \\\\\n\t26 & 1 \\\\\n\t27 & 1 \\\\\n\t28 & 1 \\\\\n\t29 & 3 \\\\\n\t30 & 1 \\\\\n\t$\\dots$ & $\\dots$ \\\\\n\\end{tabular}\n",
            "text/html": [
              "<div class=\"data-frame\"><p>300 rows × 1 columns</p><table class=\"data-frame\"><thead><tr><th></th><th>bigcolumn</th></tr><tr><th></th><th title=\"Int64\">Int64</th></tr></thead><tbody><tr><th>1</th><td>2</td></tr><tr><th>2</th><td>2</td></tr><tr><th>3</th><td>2</td></tr><tr><th>4</th><td>4</td></tr><tr><th>5</th><td>1</td></tr><tr><th>6</th><td>4</td></tr><tr><th>7</th><td>1</td></tr><tr><th>8</th><td>4</td></tr><tr><th>9</th><td>3</td></tr><tr><th>10</th><td>4</td></tr><tr><th>11</th><td>2</td></tr><tr><th>12</th><td>1</td></tr><tr><th>13</th><td>2</td></tr><tr><th>14</th><td>3</td></tr><tr><th>15</th><td>3</td></tr><tr><th>16</th><td>1</td></tr><tr><th>17</th><td>2</td></tr><tr><th>18</th><td>3</td></tr><tr><th>19</th><td>2</td></tr><tr><th>20</th><td>1</td></tr><tr><th>21</th><td>3</td></tr><tr><th>22</th><td>1</td></tr><tr><th>23</th><td>1</td></tr><tr><th>24</th><td>4</td></tr><tr><th>25</th><td>4</td></tr><tr><th>26</th><td>1</td></tr><tr><th>27</th><td>1</td></tr><tr><th>28</th><td>1</td></tr><tr><th>29</th><td>3</td></tr><tr><th>30</th><td>1</td></tr><tr><th>&vellip;</th><td>&vellip;</td></tr></tbody></table></div>"
            ],
            "text/plain": [
              "\u001b[1m300×1 DataFrame\u001b[0m\n",
              "\u001b[1m Row \u001b[0m│\u001b[1m bigcolumn \u001b[0m\n",
              "\u001b[1m     \u001b[0m│\u001b[90m Int64     \u001b[0m\n",
              "─────┼───────────\n",
              "   1 │         2\n",
              "   2 │         2\n",
              "   3 │         2\n",
              "   4 │         4\n",
              "   5 │         1\n",
              "   6 │         4\n",
              "   7 │         1\n",
              "   8 │         4\n",
              "   9 │         3\n",
              "  10 │         4\n",
              "  11 │         2\n",
              "  ⋮  │     ⋮\n",
              " 291 │     19465\n",
              " 292 │     26111\n",
              " 293 │     27378\n",
              " 294 │     24084\n",
              " 295 │     15634\n",
              " 296 │     23391\n",
              " 297 │     23542\n",
              " 298 │     14515\n",
              " 299 │     16015\n",
              " 300 │     11832\n",
              "\u001b[36m 279 rows omitted\u001b[0m"
            ]
          },
          "metadata": {},
          "execution_count": 19
        }
      ]
    },
    {
      "cell_type": "code",
      "source": [
        "size(big_cols)"
      ],
      "metadata": {
        "colab": {
          "base_uri": "https://localhost:8080/"
        },
        "id": "RRiOBfk0OHR1",
        "outputId": "6cc7936d-65c9-41ac-8d2e-269cf9c16edd"
      },
      "execution_count": 21,
      "outputs": [
        {
          "output_type": "execute_result",
          "data": {
            "text/plain": [
              "(300, 1)"
            ]
          },
          "metadata": {},
          "execution_count": 21
        }
      ]
    },
    {
      "cell_type": "code",
      "source": [
        "# Step 6. Oops, it seems it is going only until index 99. Is it true?\n",
        "# Step 7. Reindex the DataFrame so it goes from 0 to 299\n",
        "# These problems actually don't exist in DataFrames.jl "
      ],
      "metadata": {
        "id": "AMiUQJ8qO3My"
      },
      "execution_count": 22,
      "outputs": []
    }
  ]
}