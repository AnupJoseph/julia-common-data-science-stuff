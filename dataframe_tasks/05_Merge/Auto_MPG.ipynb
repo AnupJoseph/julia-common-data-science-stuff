{
  "nbformat": 4,
  "nbformat_minor": 0,
  "metadata": {
    "colab": {
      "name": "05_Merge_Auto_MPG.ipynb",
      "provenance": [],
      "collapsed_sections": []
    },
    "kernelspec": {
      "display_name": "Julia",
      "language": "julia",
      "name": "julia"
    },
    "language_info": {
      "file_extension": ".jl",
      "mimetype": "application/julia",
      "name": "julia"
    }
  },
  "cells": [
    {
      "cell_type": "markdown",
      "metadata": {
        "id": "f_1dr-2W5iSU"
      },
      "source": [
        "# Getting Started with Julia in Colab/Jupyter\n",
        "You can either run this notebook in Google Colab, or using Jupyter on your own machine."
      ]
    },
    {
      "cell_type": "markdown",
      "metadata": {
        "id": "6ew60wXrZM0W"
      },
      "source": [
        "## Running on Google Colab\n",
        "1. Work on a copy of this notebook: _File_ > _Save a copy in Drive_ (you will need a Google account). Alternatively, you can download the notebook using _File_ > _Download .ipynb_, then upload it to [Colab](https://colab.research.google.com/).\n",
        "2. Execute the following cell (click on it and press Ctrl+Enter) to install Julia, IJulia (the Jupyter kernel for Julia) and other packages. You can update `JULIA_VERSION` and the other parameters, if you know what you're doing. Installation takes 2-3 minutes.\n",
        "3. Reload this page (press Ctrl+R, or ⌘+R, or the F5 key) and continue to the _Checking the Installation_ section.\n",
        "\n",
        "* _Note_: If your Colab Runtime gets reset (e.g., due to inactivity), repeat steps 2 and 3."
      ]
    },
    {
      "cell_type": "code",
      "metadata": {
        "id": "GIeFXS0F0zww",
        "colab": {
          "base_uri": "https://localhost:8080/"
        },
        "outputId": "f3c34bfa-c693-44af-e7b4-a4d4b3e3ea55"
      },
      "source": [
        "%%shell\n",
        "set -e\n",
        "\n",
        "#---------------------------------------------------#\n",
        "JULIA_VERSION=\"1.6.0\" # any version ≥ 0.7.0\n",
        "JULIA_PACKAGES=\"IJulia DataFrames CSV Pipe\"\n",
        "JULIA_PACKAGES_IF_GPU=\"CUDA\"\n",
        "JULIA_NUM_THREADS=4\n",
        "#---------------------------------------------------#\n",
        "\n",
        "if [ -n \"$COLAB_GPU\" ] && [ -z `which julia` ]; then\n",
        "  # Install Julia\n",
        "  JULIA_VER=`cut -d '.' -f -2 <<< \"$JULIA_VERSION\"`\n",
        "  echo \"Installing Julia $JULIA_VERSION on the current Colab Runtime...\"\n",
        "  BASE_URL=\"https://julialang-s3.julialang.org/bin/linux/x64\"\n",
        "  URL=\"$BASE_URL/$JULIA_VER/julia-$JULIA_VERSION-linux-x86_64.tar.gz\"\n",
        "  wget -nv $URL -O /tmp/julia.tar.gz # -nv means \"not verbose\"\n",
        "  tar -x -f /tmp/julia.tar.gz -C /usr/local --strip-components 1\n",
        "  rm /tmp/julia.tar.gz\n",
        "\n",
        "  # Install Packages\n",
        "  if [ \"$COLAB_GPU\" = \"1\" ]; then\n",
        "      JULIA_PACKAGES=\"$JULIA_PACKAGES $JULIA_PACKAGES_IF_GPU\"\n",
        "  fi\n",
        "  for PKG in `echo $JULIA_PACKAGES`; do\n",
        "    echo \"Installing Julia package $PKG...\"\n",
        "    julia -e 'using Pkg; pkg\"add '$PKG'; precompile;\"' &> /dev/null\n",
        "  done\n",
        "\n",
        "  # Install kernel and rename it to \"julia\"\n",
        "  echo \"Installing IJulia kernel...\"\n",
        "  julia -e 'using IJulia; IJulia.installkernel(\"julia\", env=Dict(\n",
        "      \"JULIA_NUM_THREADS\"=>\"'\"$JULIA_NUM_THREADS\"'\"))'\n",
        "  KERNEL_DIR=`julia -e \"using IJulia; print(IJulia.kerneldir())\"`\n",
        "  KERNEL_NAME=`ls -d \"$KERNEL_DIR\"/julia*`\n",
        "  mv -f $KERNEL_NAME \"$KERNEL_DIR\"/julia  \n",
        "\n",
        "  echo ''\n",
        "  echo \"Successfully installed `julia -v`!\"\n",
        "  echo \"Please reload this page (press Ctrl+R, ⌘+R, or the F5 key) then\"\n",
        "  echo \"jump to the 'Checking the Installation' section.\"\n",
        "fi"
      ],
      "execution_count": null,
      "outputs": [
        {
          "output_type": "stream",
          "name": "stdout",
          "text": [
            "Installing Julia 1.6.0 on the current Colab Runtime...\n",
            "2022-02-06 11:45:02 URL:https://storage.googleapis.com/julialang2/bin/linux/x64/1.6/julia-1.6.0-linux-x86_64.tar.gz [112838927/112838927] -> \"/tmp/julia.tar.gz\" [1]\n",
            "Installing Julia package IJulia...\n",
            "Installing Julia package DataFrames...\n"
          ]
        }
      ]
    },
    {
      "cell_type": "markdown",
      "metadata": {
        "id": "-OS3Ac017T1i"
      },
      "source": [
        "## Checking the Installation\n",
        "The `versioninfo()` function should print your Julia version and some other info about the system (if you ever ask for help or file an issue about Julia, you should always provide this information)."
      ]
    },
    {
      "cell_type": "code",
      "metadata": {
        "id": "EEzvvzCl1i0F",
        "colab": {
          "base_uri": "https://localhost:8080/"
        },
        "outputId": "0b5c2525-7a8d-4a32-ec9b-70d7cf864d71"
      },
      "source": [
        "versioninfo()"
      ],
      "execution_count": 1,
      "outputs": [
        {
          "output_type": "stream",
          "name": "stdout",
          "text": [
            "Julia Version 1.6.0\n",
            "Commit f9720dc2eb (2021-03-24 12:55 UTC)\n",
            "Platform Info:\n",
            "  OS: Linux (x86_64-pc-linux-gnu)\n",
            "  CPU: Intel(R) Xeon(R) CPU @ 2.20GHz\n",
            "  WORD_SIZE: 64\n",
            "  LIBM: libopenlibm\n",
            "  LLVM: libLLVM-11.0.1 (ORCJIT, broadwell)\n",
            "Environment:\n",
            "  JULIA_NUM_THREADS = 4\n"
          ]
        }
      ]
    },
    {
      "cell_type": "markdown",
      "source": [
        "# Imports"
      ],
      "metadata": {
        "id": "aT7drO403K0t"
      }
    },
    {
      "cell_type": "code",
      "source": [
        "using DataFrames\n",
        "using CSV\n",
        "using Pipe"
      ],
      "metadata": {
        "id": "aXhQI4An3JT3"
      },
      "execution_count": 2,
      "outputs": []
    },
    {
      "cell_type": "markdown",
      "source": [
        "# Step 2. Import the first dataset [cars1](https://raw.githubusercontent.com/guipsamora/pandas_exercises/master/05_Merge/Auto_MPG/cars1.csv) and [cars2](https://raw.githubusercontent.com/guipsamora/pandas_exercises/master/05_Merge/Auto_MPG/cars2.csv).\n"
      ],
      "metadata": {
        "id": "tWPGsOXP3N35"
      }
    },
    {
      "cell_type": "code",
      "source": [
        "download(\"https://raw.githubusercontent.com/guipsamora/pandas_exercises/master/05_Merge/Auto_MPG/cars1.csv\", \"cars1.csv\")\n",
        "download(\"https://raw.githubusercontent.com/guipsamora/pandas_exercises/master/05_Merge/Auto_MPG/cars2.csv\", \"cars2.csv\")"
      ],
      "metadata": {
        "colab": {
          "base_uri": "https://localhost:8080/"
        },
        "id": "syjCnR9L3Frv",
        "outputId": "8c4f8732-cf6f-45a1-ba13-38b3a206f9d2"
      },
      "execution_count": 3,
      "outputs": [
        {
          "output_type": "execute_result",
          "data": {
            "text/plain": [
              "\"cars2.csv\""
            ]
          },
          "metadata": {},
          "execution_count": 3
        }
      ]
    },
    {
      "cell_type": "markdown",
      "source": [
        "# Step 3. Assign each to a to a variable called cars1 and cars2"
      ],
      "metadata": {
        "id": "55y5katc3Rm2"
      }
    },
    {
      "cell_type": "code",
      "source": [
        "cars1 = CSV.read(\"cars1.csv\", DataFrame)\n",
        "cars2 = CSV.read(\"cars2.csv\", DataFrame)"
      ],
      "metadata": {
        "id": "EhaQDQ7V3O11"
      },
      "execution_count": null,
      "outputs": []
    },
    {
      "cell_type": "code",
      "source": [
        "show(cars1,allcols=true)"
      ],
      "metadata": {
        "colab": {
          "base_uri": "https://localhost:8080/"
        },
        "id": "E8n5uGAB3j-C",
        "outputId": "d79fd6cb-d483-4a7b-9747-773ebb85ea4a"
      },
      "execution_count": 11,
      "outputs": [
        {
          "output_type": "stream",
          "name": "stdout",
          "text": [
            "\u001b[1m198×14 DataFrame\u001b[0m\n",
            "\u001b[1m Row \u001b[0m│\u001b[1m mpg     \u001b[0m\u001b[1m cylinders \u001b[0m\u001b[1m displacement \u001b[0m\u001b[1m horsepower \u001b[0m\u001b[1m weight \u001b[0m\u001b[1m acceleration \u001b[0m\u001b[1m model \u001b[0m\u001b[1m origin \u001b[0m\u001b[1m car                               \u001b[0m\u001b[1m Column10 \u001b[0m\u001b[1m Column11 \u001b[0m\u001b[1m Column12 \u001b[0m\u001b[1m Column13 \u001b[0m\u001b[1m Column14 \u001b[0m\n",
            "\u001b[1m     \u001b[0m│\u001b[90m Float64 \u001b[0m\u001b[90m Int64     \u001b[0m\u001b[90m Int64        \u001b[0m\u001b[90m String3    \u001b[0m\u001b[90m Int64  \u001b[0m\u001b[90m Float64      \u001b[0m\u001b[90m Int64 \u001b[0m\u001b[90m Int64  \u001b[0m\u001b[90m String                            \u001b[0m\u001b[90m Missing  \u001b[0m\u001b[90m Missing  \u001b[0m\u001b[90m Missing  \u001b[0m\u001b[90m Missing  \u001b[0m\u001b[90m Missing  \u001b[0m\n",
            "─────┼────────────────────────────────────────────────────────────────────────────────────────────────────────────────────────────────────────────────────────────────────────\n",
            "   1 │    18.0          8           307  130           3504          12.0     70       1  chevrolet chevelle malibu         \u001b[90m  missing \u001b[0m\u001b[90m  missing \u001b[0m\u001b[90m  missing \u001b[0m\u001b[90m  missing \u001b[0m\u001b[90m  missing \u001b[0m\n",
            "   2 │    15.0          8           350  165           3693          11.5     70       1  buick skylark 320                 \u001b[90m  missing \u001b[0m\u001b[90m  missing \u001b[0m\u001b[90m  missing \u001b[0m\u001b[90m  missing \u001b[0m\u001b[90m  missing \u001b[0m\n",
            "   3 │    18.0          8           318  150           3436          11.0     70       1  plymouth satellite                \u001b[90m  missing \u001b[0m\u001b[90m  missing \u001b[0m\u001b[90m  missing \u001b[0m\u001b[90m  missing \u001b[0m\u001b[90m  missing \u001b[0m\n",
            "   4 │    16.0          8           304  150           3433          12.0     70       1  amc rebel sst                     \u001b[90m  missing \u001b[0m\u001b[90m  missing \u001b[0m\u001b[90m  missing \u001b[0m\u001b[90m  missing \u001b[0m\u001b[90m  missing \u001b[0m\n",
            "   5 │    17.0          8           302  140           3449          10.5     70       1  ford torino                       \u001b[90m  missing \u001b[0m\u001b[90m  missing \u001b[0m\u001b[90m  missing \u001b[0m\u001b[90m  missing \u001b[0m\u001b[90m  missing \u001b[0m\n",
            "   6 │    15.0          8           429  198           4341          10.0     70       1  ford galaxie 500                  \u001b[90m  missing \u001b[0m\u001b[90m  missing \u001b[0m\u001b[90m  missing \u001b[0m\u001b[90m  missing \u001b[0m\u001b[90m  missing \u001b[0m\n",
            "   7 │    14.0          8           454  220           4354           9.0     70       1  chevrolet impala                  \u001b[90m  missing \u001b[0m\u001b[90m  missing \u001b[0m\u001b[90m  missing \u001b[0m\u001b[90m  missing \u001b[0m\u001b[90m  missing \u001b[0m\n",
            "   8 │    14.0          8           440  215           4312           8.5     70       1  plymouth fury iii                 \u001b[90m  missing \u001b[0m\u001b[90m  missing \u001b[0m\u001b[90m  missing \u001b[0m\u001b[90m  missing \u001b[0m\u001b[90m  missing \u001b[0m\n",
            "   9 │    14.0          8           455  225           4425          10.0     70       1  pontiac catalina                  \u001b[90m  missing \u001b[0m\u001b[90m  missing \u001b[0m\u001b[90m  missing \u001b[0m\u001b[90m  missing \u001b[0m\u001b[90m  missing \u001b[0m\n",
            "  10 │    15.0          8           390  190           3850           8.5     70       1  amc ambassador dpl                \u001b[90m  missing \u001b[0m\u001b[90m  missing \u001b[0m\u001b[90m  missing \u001b[0m\u001b[90m  missing \u001b[0m\u001b[90m  missing \u001b[0m\n",
            "  11 │    15.0          8           383  170           3563          10.0     70       1  dodge challenger se               \u001b[90m  missing \u001b[0m\u001b[90m  missing \u001b[0m\u001b[90m  missing \u001b[0m\u001b[90m  missing \u001b[0m\u001b[90m  missing \u001b[0m\n",
            "  ⋮  │    ⋮         ⋮           ⋮            ⋮         ⋮          ⋮          ⋮      ⋮                     ⋮                     ⋮         ⋮         ⋮         ⋮         ⋮\n",
            " 189 │    16.0          8           318  150           4190          13.0     76       1  dodge coronet brougham            \u001b[90m  missing \u001b[0m\u001b[90m  missing \u001b[0m\u001b[90m  missing \u001b[0m\u001b[90m  missing \u001b[0m\u001b[90m  missing \u001b[0m\n",
            " 190 │    15.5          8           304  120           3962          13.9     76       1  amc matador                       \u001b[90m  missing \u001b[0m\u001b[90m  missing \u001b[0m\u001b[90m  missing \u001b[0m\u001b[90m  missing \u001b[0m\u001b[90m  missing \u001b[0m\n",
            " 191 │    14.5          8           351  152           4215          12.8     76       1  ford gran torino                  \u001b[90m  missing \u001b[0m\u001b[90m  missing \u001b[0m\u001b[90m  missing \u001b[0m\u001b[90m  missing \u001b[0m\u001b[90m  missing \u001b[0m\n",
            " 192 │    22.0          6           225  100           3233          15.4     76       1  plymouth valiant                  \u001b[90m  missing \u001b[0m\u001b[90m  missing \u001b[0m\u001b[90m  missing \u001b[0m\u001b[90m  missing \u001b[0m\u001b[90m  missing \u001b[0m\n",
            " 193 │    22.0          6           250  105           3353          14.5     76       1  chevrolet nova                    \u001b[90m  missing \u001b[0m\u001b[90m  missing \u001b[0m\u001b[90m  missing \u001b[0m\u001b[90m  missing \u001b[0m\u001b[90m  missing \u001b[0m\n",
            " 194 │    24.0          6           200  81            3012          17.6     76       1  ford maverick                     \u001b[90m  missing \u001b[0m\u001b[90m  missing \u001b[0m\u001b[90m  missing \u001b[0m\u001b[90m  missing \u001b[0m\u001b[90m  missing \u001b[0m\n",
            " 195 │    22.5          6           232  90            3085          17.6     76       1  amc hornet                        \u001b[90m  missing \u001b[0m\u001b[90m  missing \u001b[0m\u001b[90m  missing \u001b[0m\u001b[90m  missing \u001b[0m\u001b[90m  missing \u001b[0m\n",
            " 196 │    29.0          4            85  52            2035          22.2     76       1  chevrolet chevette                \u001b[90m  missing \u001b[0m\u001b[90m  missing \u001b[0m\u001b[90m  missing \u001b[0m\u001b[90m  missing \u001b[0m\u001b[90m  missing \u001b[0m\n",
            " 197 │    24.5          4            98  60            2164          22.1     76       1  chevrolet woody                   \u001b[90m  missing \u001b[0m\u001b[90m  missing \u001b[0m\u001b[90m  missing \u001b[0m\u001b[90m  missing \u001b[0m\u001b[90m  missing \u001b[0m\n",
            " 198 │    29.0          4            90  70            1937          14.2     76       2  vw rabbit                         \u001b[90m  missing \u001b[0m\u001b[90m  missing \u001b[0m\u001b[90m  missing \u001b[0m\u001b[90m  missing \u001b[0m\u001b[90m  missing \u001b[0m\n",
            "\u001b[36m                                                                                                                                                              177 rows omitted\u001b[0m"
          ]
        }
      ]
    },
    {
      "cell_type": "code",
      "source": [
        "show(cars2,allcols=true)"
      ],
      "metadata": {
        "colab": {
          "base_uri": "https://localhost:8080/"
        },
        "id": "eWKnb9NB4QQ9",
        "outputId": "942c14b7-dd39-4fe4-bf90-77141dcb35cb"
      },
      "execution_count": 13,
      "outputs": [
        {
          "output_type": "stream",
          "name": "stdout",
          "text": [
            "\u001b[1m200×9 DataFrame\u001b[0m\n",
            "\u001b[1m Row \u001b[0m│\u001b[1m mpg     \u001b[0m\u001b[1m cylinders \u001b[0m\u001b[1m displacement \u001b[0m\u001b[1m horsepower \u001b[0m\u001b[1m weight \u001b[0m\u001b[1m acceleration \u001b[0m\u001b[1m model \u001b[0m\u001b[1m origin \u001b[0m\u001b[1m car                               \u001b[0m\n",
            "\u001b[1m     \u001b[0m│\u001b[90m Float64 \u001b[0m\u001b[90m Int64     \u001b[0m\u001b[90m Int64        \u001b[0m\u001b[90m String3    \u001b[0m\u001b[90m Int64  \u001b[0m\u001b[90m Float64      \u001b[0m\u001b[90m Int64 \u001b[0m\u001b[90m Int64  \u001b[0m\u001b[90m String                            \u001b[0m\n",
            "─────┼──────────────────────────────────────────────────────────────────────────────────────────────────────────────────────\n",
            "   1 │    33.0          4            91  53            1795          17.4     76       3  honda civic\n",
            "   2 │    20.0          6           225  100           3651          17.7     76       1  dodge aspen se\n",
            "   3 │    18.0          6           250  78            3574          21.0     76       1  ford granada ghia\n",
            "   4 │    18.5          6           250  110           3645          16.2     76       1  pontiac ventura sj\n",
            "   5 │    17.5          6           258  95            3193          17.8     76       1  amc pacer d/l\n",
            "   6 │    29.5          4            97  71            1825          12.2     76       2  volkswagen rabbit\n",
            "   7 │    32.0          4            85  70            1990          17.0     76       3  datsun b-210\n",
            "   8 │    28.0          4            97  75            2155          16.4     76       3  toyota corolla\n",
            "   9 │    26.5          4           140  72            2565          13.6     76       1  ford pinto\n",
            "  10 │    20.0          4           130  102           3150          15.7     76       2  volvo 245\n",
            "  11 │    13.0          8           318  150           3940          13.2     76       1  plymouth volare premier v8\n",
            "  ⋮  │    ⋮         ⋮           ⋮            ⋮         ⋮          ⋮          ⋮      ⋮                     ⋮\n",
            " 191 │    26.0          4           156  92            2585          14.5     82       1  chrysler lebaron medallion\n",
            " 192 │    22.0          6           232  112           2835          14.7     82       1  ford granada l\n",
            " 193 │    32.0          4           144  96            2665          13.9     82       3  toyota celica gt\n",
            " 194 │    36.0          4           135  84            2370          13.0     82       1  dodge charger 2.2\n",
            " 195 │    27.0          4           151  90            2950          17.3     82       1  chevrolet camaro\n",
            " 196 │    27.0          4           140  86            2790          15.6     82       1  ford mustang gl\n",
            " 197 │    44.0          4            97  52            2130          24.6     82       2  vw pickup\n",
            " 198 │    32.0          4           135  84            2295          11.6     82       1  dodge rampage\n",
            " 199 │    28.0          4           120  79            2625          18.6     82       1  ford ranger\n",
            " 200 │    31.0          4           119  82            2720          19.4     82       1  chevy s-10\n",
            "\u001b[36m                                                                                                            179 rows omitted\u001b[0m"
          ]
        }
      ]
    },
    {
      "cell_type": "markdown",
      "source": [
        "# Step 4. Oops, it seems our first dataset has some unnamed blank columns, fix cars1\n"
      ],
      "metadata": {
        "id": "fET17o8m5E5M"
      }
    },
    {
      "cell_type": "code",
      "source": [
        "show(cars1[!, Between(:mpg, :car)],allcols=true)"
      ],
      "metadata": {
        "colab": {
          "base_uri": "https://localhost:8080/"
        },
        "id": "kTzMt8P_5b1q",
        "outputId": "ee195e5e-6540-4c07-927b-0cab387affc6"
      },
      "execution_count": 17,
      "outputs": [
        {
          "output_type": "stream",
          "name": "stdout",
          "text": [
            "\u001b[1m198×9 DataFrame\u001b[0m\n",
            "\u001b[1m Row \u001b[0m│\u001b[1m mpg     \u001b[0m\u001b[1m cylinders \u001b[0m\u001b[1m displacement \u001b[0m\u001b[1m horsepower \u001b[0m\u001b[1m weight \u001b[0m\u001b[1m acceleration \u001b[0m\u001b[1m model \u001b[0m\u001b[1m origin \u001b[0m\u001b[1m car                               \u001b[0m\n",
            "\u001b[1m     \u001b[0m│\u001b[90m Float64 \u001b[0m\u001b[90m Int64     \u001b[0m\u001b[90m Int64        \u001b[0m\u001b[90m String3    \u001b[0m\u001b[90m Int64  \u001b[0m\u001b[90m Float64      \u001b[0m\u001b[90m Int64 \u001b[0m\u001b[90m Int64  \u001b[0m\u001b[90m String                            \u001b[0m\n",
            "─────┼──────────────────────────────────────────────────────────────────────────────────────────────────────────────────────\n",
            "   1 │    18.0          8           307  130           3504          12.0     70       1  chevrolet chevelle malibu\n",
            "   2 │    15.0          8           350  165           3693          11.5     70       1  buick skylark 320\n",
            "   3 │    18.0          8           318  150           3436          11.0     70       1  plymouth satellite\n",
            "   4 │    16.0          8           304  150           3433          12.0     70       1  amc rebel sst\n",
            "   5 │    17.0          8           302  140           3449          10.5     70       1  ford torino\n",
            "   6 │    15.0          8           429  198           4341          10.0     70       1  ford galaxie 500\n",
            "   7 │    14.0          8           454  220           4354           9.0     70       1  chevrolet impala\n",
            "   8 │    14.0          8           440  215           4312           8.5     70       1  plymouth fury iii\n",
            "   9 │    14.0          8           455  225           4425          10.0     70       1  pontiac catalina\n",
            "  10 │    15.0          8           390  190           3850           8.5     70       1  amc ambassador dpl\n",
            "  11 │    15.0          8           383  170           3563          10.0     70       1  dodge challenger se\n",
            "  ⋮  │    ⋮         ⋮           ⋮            ⋮         ⋮          ⋮          ⋮      ⋮                     ⋮\n",
            " 189 │    16.0          8           318  150           4190          13.0     76       1  dodge coronet brougham\n",
            " 190 │    15.5          8           304  120           3962          13.9     76       1  amc matador\n",
            " 191 │    14.5          8           351  152           4215          12.8     76       1  ford gran torino\n",
            " 192 │    22.0          6           225  100           3233          15.4     76       1  plymouth valiant\n",
            " 193 │    22.0          6           250  105           3353          14.5     76       1  chevrolet nova\n",
            " 194 │    24.0          6           200  81            3012          17.6     76       1  ford maverick\n",
            " 195 │    22.5          6           232  90            3085          17.6     76       1  amc hornet\n",
            " 196 │    29.0          4            85  52            2035          22.2     76       1  chevrolet chevette\n",
            " 197 │    24.5          4            98  60            2164          22.1     76       1  chevrolet woody\n",
            " 198 │    29.0          4            90  70            1937          14.2     76       2  vw rabbit\n",
            "\u001b[36m                                                                                                            177 rows omitted\u001b[0m"
          ]
        }
      ]
    },
    {
      "cell_type": "code",
      "source": [
        "# This syntax works as well if you want from the beginand don't know the column name for some reason\n",
        "cars1 = cars1[!, Between(begin, :car)]"
      ],
      "metadata": {
        "colab": {
          "base_uri": "https://localhost:8080/",
          "height": 753
        },
        "id": "bLZtOiYx6TUp",
        "outputId": "62e44513-382a-4f74-afba-d0bab54aff69"
      },
      "execution_count": 18,
      "outputs": [
        {
          "output_type": "execute_result",
          "data": {
            "text/latex": "\\begin{tabular}{r|ccccccccc}\n\t& mpg & cylinders & displacement & horsepower & weight & acceleration & model & origin & \\\\\n\t\\hline\n\t& Float64 & Int64 & Int64 & String3 & Int64 & Float64 & Int64 & Int64 & \\\\\n\t\\hline\n\t1 & 18.0 & 8 & 307 & 130 & 3504 & 12.0 & 70 & 1 & $\\dots$ \\\\\n\t2 & 15.0 & 8 & 350 & 165 & 3693 & 11.5 & 70 & 1 & $\\dots$ \\\\\n\t3 & 18.0 & 8 & 318 & 150 & 3436 & 11.0 & 70 & 1 & $\\dots$ \\\\\n\t4 & 16.0 & 8 & 304 & 150 & 3433 & 12.0 & 70 & 1 & $\\dots$ \\\\\n\t5 & 17.0 & 8 & 302 & 140 & 3449 & 10.5 & 70 & 1 & $\\dots$ \\\\\n\t6 & 15.0 & 8 & 429 & 198 & 4341 & 10.0 & 70 & 1 & $\\dots$ \\\\\n\t7 & 14.0 & 8 & 454 & 220 & 4354 & 9.0 & 70 & 1 & $\\dots$ \\\\\n\t8 & 14.0 & 8 & 440 & 215 & 4312 & 8.5 & 70 & 1 & $\\dots$ \\\\\n\t9 & 14.0 & 8 & 455 & 225 & 4425 & 10.0 & 70 & 1 & $\\dots$ \\\\\n\t10 & 15.0 & 8 & 390 & 190 & 3850 & 8.5 & 70 & 1 & $\\dots$ \\\\\n\t11 & 15.0 & 8 & 383 & 170 & 3563 & 10.0 & 70 & 1 & $\\dots$ \\\\\n\t12 & 14.0 & 8 & 340 & 160 & 3609 & 8.0 & 70 & 1 & $\\dots$ \\\\\n\t13 & 15.0 & 8 & 400 & 150 & 3761 & 9.5 & 70 & 1 & $\\dots$ \\\\\n\t14 & 14.0 & 8 & 455 & 225 & 3086 & 10.0 & 70 & 1 & $\\dots$ \\\\\n\t15 & 24.0 & 4 & 113 & 95 & 2372 & 15.0 & 70 & 3 & $\\dots$ \\\\\n\t16 & 22.0 & 6 & 198 & 95 & 2833 & 15.5 & 70 & 1 & $\\dots$ \\\\\n\t17 & 18.0 & 6 & 199 & 97 & 2774 & 15.5 & 70 & 1 & $\\dots$ \\\\\n\t18 & 21.0 & 6 & 200 & 85 & 2587 & 16.0 & 70 & 1 & $\\dots$ \\\\\n\t19 & 27.0 & 4 & 97 & 88 & 2130 & 14.5 & 70 & 3 & $\\dots$ \\\\\n\t20 & 26.0 & 4 & 97 & 46 & 1835 & 20.5 & 70 & 2 & $\\dots$ \\\\\n\t21 & 25.0 & 4 & 110 & 87 & 2672 & 17.5 & 70 & 2 & $\\dots$ \\\\\n\t22 & 24.0 & 4 & 107 & 90 & 2430 & 14.5 & 70 & 2 & $\\dots$ \\\\\n\t23 & 25.0 & 4 & 104 & 95 & 2375 & 17.5 & 70 & 2 & $\\dots$ \\\\\n\t24 & 26.0 & 4 & 121 & 113 & 2234 & 12.5 & 70 & 2 & $\\dots$ \\\\\n\t25 & 21.0 & 6 & 199 & 90 & 2648 & 15.0 & 70 & 1 & $\\dots$ \\\\\n\t26 & 10.0 & 8 & 360 & 215 & 4615 & 14.0 & 70 & 1 & $\\dots$ \\\\\n\t27 & 10.0 & 8 & 307 & 200 & 4376 & 15.0 & 70 & 1 & $\\dots$ \\\\\n\t28 & 11.0 & 8 & 318 & 210 & 4382 & 13.5 & 70 & 1 & $\\dots$ \\\\\n\t29 & 9.0 & 8 & 304 & 193 & 4732 & 18.5 & 70 & 1 & $\\dots$ \\\\\n\t30 & 27.0 & 4 & 97 & 88 & 2130 & 14.5 & 71 & 3 & $\\dots$ \\\\\n\t$\\dots$ & $\\dots$ & $\\dots$ & $\\dots$ & $\\dots$ & $\\dots$ & $\\dots$ & $\\dots$ & $\\dots$ &  \\\\\n\\end{tabular}\n",
            "text/html": [
              "<div class=\"data-frame\"><p>198 rows × 9 columns (omitted printing of 1 columns)</p><table class=\"data-frame\"><thead><tr><th></th><th>mpg</th><th>cylinders</th><th>displacement</th><th>horsepower</th><th>weight</th><th>acceleration</th><th>model</th><th>origin</th></tr><tr><th></th><th title=\"Float64\">Float64</th><th title=\"Int64\">Int64</th><th title=\"Int64\">Int64</th><th title=\"String3\">String3</th><th title=\"Int64\">Int64</th><th title=\"Float64\">Float64</th><th title=\"Int64\">Int64</th><th title=\"Int64\">Int64</th></tr></thead><tbody><tr><th>1</th><td>18.0</td><td>8</td><td>307</td><td>130</td><td>3504</td><td>12.0</td><td>70</td><td>1</td></tr><tr><th>2</th><td>15.0</td><td>8</td><td>350</td><td>165</td><td>3693</td><td>11.5</td><td>70</td><td>1</td></tr><tr><th>3</th><td>18.0</td><td>8</td><td>318</td><td>150</td><td>3436</td><td>11.0</td><td>70</td><td>1</td></tr><tr><th>4</th><td>16.0</td><td>8</td><td>304</td><td>150</td><td>3433</td><td>12.0</td><td>70</td><td>1</td></tr><tr><th>5</th><td>17.0</td><td>8</td><td>302</td><td>140</td><td>3449</td><td>10.5</td><td>70</td><td>1</td></tr><tr><th>6</th><td>15.0</td><td>8</td><td>429</td><td>198</td><td>4341</td><td>10.0</td><td>70</td><td>1</td></tr><tr><th>7</th><td>14.0</td><td>8</td><td>454</td><td>220</td><td>4354</td><td>9.0</td><td>70</td><td>1</td></tr><tr><th>8</th><td>14.0</td><td>8</td><td>440</td><td>215</td><td>4312</td><td>8.5</td><td>70</td><td>1</td></tr><tr><th>9</th><td>14.0</td><td>8</td><td>455</td><td>225</td><td>4425</td><td>10.0</td><td>70</td><td>1</td></tr><tr><th>10</th><td>15.0</td><td>8</td><td>390</td><td>190</td><td>3850</td><td>8.5</td><td>70</td><td>1</td></tr><tr><th>11</th><td>15.0</td><td>8</td><td>383</td><td>170</td><td>3563</td><td>10.0</td><td>70</td><td>1</td></tr><tr><th>12</th><td>14.0</td><td>8</td><td>340</td><td>160</td><td>3609</td><td>8.0</td><td>70</td><td>1</td></tr><tr><th>13</th><td>15.0</td><td>8</td><td>400</td><td>150</td><td>3761</td><td>9.5</td><td>70</td><td>1</td></tr><tr><th>14</th><td>14.0</td><td>8</td><td>455</td><td>225</td><td>3086</td><td>10.0</td><td>70</td><td>1</td></tr><tr><th>15</th><td>24.0</td><td>4</td><td>113</td><td>95</td><td>2372</td><td>15.0</td><td>70</td><td>3</td></tr><tr><th>16</th><td>22.0</td><td>6</td><td>198</td><td>95</td><td>2833</td><td>15.5</td><td>70</td><td>1</td></tr><tr><th>17</th><td>18.0</td><td>6</td><td>199</td><td>97</td><td>2774</td><td>15.5</td><td>70</td><td>1</td></tr><tr><th>18</th><td>21.0</td><td>6</td><td>200</td><td>85</td><td>2587</td><td>16.0</td><td>70</td><td>1</td></tr><tr><th>19</th><td>27.0</td><td>4</td><td>97</td><td>88</td><td>2130</td><td>14.5</td><td>70</td><td>3</td></tr><tr><th>20</th><td>26.0</td><td>4</td><td>97</td><td>46</td><td>1835</td><td>20.5</td><td>70</td><td>2</td></tr><tr><th>21</th><td>25.0</td><td>4</td><td>110</td><td>87</td><td>2672</td><td>17.5</td><td>70</td><td>2</td></tr><tr><th>22</th><td>24.0</td><td>4</td><td>107</td><td>90</td><td>2430</td><td>14.5</td><td>70</td><td>2</td></tr><tr><th>23</th><td>25.0</td><td>4</td><td>104</td><td>95</td><td>2375</td><td>17.5</td><td>70</td><td>2</td></tr><tr><th>24</th><td>26.0</td><td>4</td><td>121</td><td>113</td><td>2234</td><td>12.5</td><td>70</td><td>2</td></tr><tr><th>25</th><td>21.0</td><td>6</td><td>199</td><td>90</td><td>2648</td><td>15.0</td><td>70</td><td>1</td></tr><tr><th>26</th><td>10.0</td><td>8</td><td>360</td><td>215</td><td>4615</td><td>14.0</td><td>70</td><td>1</td></tr><tr><th>27</th><td>10.0</td><td>8</td><td>307</td><td>200</td><td>4376</td><td>15.0</td><td>70</td><td>1</td></tr><tr><th>28</th><td>11.0</td><td>8</td><td>318</td><td>210</td><td>4382</td><td>13.5</td><td>70</td><td>1</td></tr><tr><th>29</th><td>9.0</td><td>8</td><td>304</td><td>193</td><td>4732</td><td>18.5</td><td>70</td><td>1</td></tr><tr><th>30</th><td>27.0</td><td>4</td><td>97</td><td>88</td><td>2130</td><td>14.5</td><td>71</td><td>3</td></tr><tr><th>&vellip;</th><td>&vellip;</td><td>&vellip;</td><td>&vellip;</td><td>&vellip;</td><td>&vellip;</td><td>&vellip;</td><td>&vellip;</td><td>&vellip;</td></tr></tbody></table></div>"
            ],
            "text/plain": [
              "\u001b[1m198×9 DataFrame\u001b[0m\n",
              "\u001b[1m Row \u001b[0m│\u001b[1m mpg     \u001b[0m\u001b[1m cylinders \u001b[0m\u001b[1m displacement \u001b[0m\u001b[1m horsepower \u001b[0m\u001b[1m weight \u001b[0m\u001b[1m acceleration \u001b[0m\u001b[1m mod\u001b[0m ⋯\n",
              "\u001b[1m     \u001b[0m│\u001b[90m Float64 \u001b[0m\u001b[90m Int64     \u001b[0m\u001b[90m Int64        \u001b[0m\u001b[90m String3    \u001b[0m\u001b[90m Int64  \u001b[0m\u001b[90m Float64      \u001b[0m\u001b[90m Int\u001b[0m ⋯\n",
              "─────┼──────────────────────────────────────────────────────────────────────────\n",
              "   1 │    18.0          8           307  130           3504          12.0      ⋯\n",
              "   2 │    15.0          8           350  165           3693          11.5\n",
              "   3 │    18.0          8           318  150           3436          11.0\n",
              "   4 │    16.0          8           304  150           3433          12.0\n",
              "   5 │    17.0          8           302  140           3449          10.5      ⋯\n",
              "   6 │    15.0          8           429  198           4341          10.0\n",
              "   7 │    14.0          8           454  220           4354           9.0\n",
              "   8 │    14.0          8           440  215           4312           8.5\n",
              "   9 │    14.0          8           455  225           4425          10.0      ⋯\n",
              "  10 │    15.0          8           390  190           3850           8.5\n",
              "  11 │    15.0          8           383  170           3563          10.0\n",
              "  ⋮  │    ⋮         ⋮           ⋮            ⋮         ⋮          ⋮          ⋮ ⋱\n",
              " 189 │    16.0          8           318  150           4190          13.0\n",
              " 190 │    15.5          8           304  120           3962          13.9      ⋯\n",
              " 191 │    14.5          8           351  152           4215          12.8\n",
              " 192 │    22.0          6           225  100           3233          15.4\n",
              " 193 │    22.0          6           250  105           3353          14.5\n",
              " 194 │    24.0          6           200  81            3012          17.6      ⋯\n",
              " 195 │    22.5          6           232  90            3085          17.6\n",
              " 196 │    29.0          4            85  52            2035          22.2\n",
              " 197 │    24.5          4            98  60            2164          22.1\n",
              " 198 │    29.0          4            90  70            1937          14.2      ⋯\n",
              "\u001b[36m                                                  3 columns and 177 rows omitted\u001b[0m"
            ]
          },
          "metadata": {},
          "execution_count": 18
        }
      ]
    },
    {
      "cell_type": "markdown",
      "source": [
        "# Step 5. What is the number of observations in each dataset?\n"
      ],
      "metadata": {
        "id": "Xc4l_UnT61Jm"
      }
    },
    {
      "cell_type": "code",
      "source": [
        "size(cars1)"
      ],
      "metadata": {
        "colab": {
          "base_uri": "https://localhost:8080/"
        },
        "id": "6AALCB_P6qAv",
        "outputId": "409e6c58-bbd9-451e-93f6-468214966f46"
      },
      "execution_count": 19,
      "outputs": [
        {
          "output_type": "execute_result",
          "data": {
            "text/plain": [
              "(198, 9)"
            ]
          },
          "metadata": {},
          "execution_count": 19
        }
      ]
    },
    {
      "cell_type": "code",
      "source": [
        "size(cars2)"
      ],
      "metadata": {
        "colab": {
          "base_uri": "https://localhost:8080/"
        },
        "id": "OhcCrLFc6xYx",
        "outputId": "f86583d3-9d28-48a7-a24d-538aa66a225e"
      },
      "execution_count": 20,
      "outputs": [
        {
          "output_type": "execute_result",
          "data": {
            "text/plain": [
              "(200, 9)"
            ]
          },
          "metadata": {},
          "execution_count": 20
        }
      ]
    },
    {
      "cell_type": "markdown",
      "source": [
        "# Step 6. Join cars1 and cars2 into a single DataFrame called cars\n"
      ],
      "metadata": {
        "id": "dU8zzmMN7Ekl"
      }
    },
    {
      "cell_type": "code",
      "source": [
        "append!(cars1,cars2)"
      ],
      "metadata": {
        "colab": {
          "base_uri": "https://localhost:8080/",
          "height": 753
        },
        "id": "YALLDaEI6ys7",
        "outputId": "6fd37549-1c48-45f6-8f4a-0f492419f8a7"
      },
      "execution_count": 21,
      "outputs": [
        {
          "output_type": "execute_result",
          "data": {
            "text/latex": "\\begin{tabular}{r|ccccccccc}\n\t& mpg & cylinders & displacement & horsepower & weight & acceleration & model & origin & \\\\\n\t\\hline\n\t& Float64 & Int64 & Int64 & String3 & Int64 & Float64 & Int64 & Int64 & \\\\\n\t\\hline\n\t1 & 18.0 & 8 & 307 & 130 & 3504 & 12.0 & 70 & 1 & $\\dots$ \\\\\n\t2 & 15.0 & 8 & 350 & 165 & 3693 & 11.5 & 70 & 1 & $\\dots$ \\\\\n\t3 & 18.0 & 8 & 318 & 150 & 3436 & 11.0 & 70 & 1 & $\\dots$ \\\\\n\t4 & 16.0 & 8 & 304 & 150 & 3433 & 12.0 & 70 & 1 & $\\dots$ \\\\\n\t5 & 17.0 & 8 & 302 & 140 & 3449 & 10.5 & 70 & 1 & $\\dots$ \\\\\n\t6 & 15.0 & 8 & 429 & 198 & 4341 & 10.0 & 70 & 1 & $\\dots$ \\\\\n\t7 & 14.0 & 8 & 454 & 220 & 4354 & 9.0 & 70 & 1 & $\\dots$ \\\\\n\t8 & 14.0 & 8 & 440 & 215 & 4312 & 8.5 & 70 & 1 & $\\dots$ \\\\\n\t9 & 14.0 & 8 & 455 & 225 & 4425 & 10.0 & 70 & 1 & $\\dots$ \\\\\n\t10 & 15.0 & 8 & 390 & 190 & 3850 & 8.5 & 70 & 1 & $\\dots$ \\\\\n\t11 & 15.0 & 8 & 383 & 170 & 3563 & 10.0 & 70 & 1 & $\\dots$ \\\\\n\t12 & 14.0 & 8 & 340 & 160 & 3609 & 8.0 & 70 & 1 & $\\dots$ \\\\\n\t13 & 15.0 & 8 & 400 & 150 & 3761 & 9.5 & 70 & 1 & $\\dots$ \\\\\n\t14 & 14.0 & 8 & 455 & 225 & 3086 & 10.0 & 70 & 1 & $\\dots$ \\\\\n\t15 & 24.0 & 4 & 113 & 95 & 2372 & 15.0 & 70 & 3 & $\\dots$ \\\\\n\t16 & 22.0 & 6 & 198 & 95 & 2833 & 15.5 & 70 & 1 & $\\dots$ \\\\\n\t17 & 18.0 & 6 & 199 & 97 & 2774 & 15.5 & 70 & 1 & $\\dots$ \\\\\n\t18 & 21.0 & 6 & 200 & 85 & 2587 & 16.0 & 70 & 1 & $\\dots$ \\\\\n\t19 & 27.0 & 4 & 97 & 88 & 2130 & 14.5 & 70 & 3 & $\\dots$ \\\\\n\t20 & 26.0 & 4 & 97 & 46 & 1835 & 20.5 & 70 & 2 & $\\dots$ \\\\\n\t21 & 25.0 & 4 & 110 & 87 & 2672 & 17.5 & 70 & 2 & $\\dots$ \\\\\n\t22 & 24.0 & 4 & 107 & 90 & 2430 & 14.5 & 70 & 2 & $\\dots$ \\\\\n\t23 & 25.0 & 4 & 104 & 95 & 2375 & 17.5 & 70 & 2 & $\\dots$ \\\\\n\t24 & 26.0 & 4 & 121 & 113 & 2234 & 12.5 & 70 & 2 & $\\dots$ \\\\\n\t25 & 21.0 & 6 & 199 & 90 & 2648 & 15.0 & 70 & 1 & $\\dots$ \\\\\n\t26 & 10.0 & 8 & 360 & 215 & 4615 & 14.0 & 70 & 1 & $\\dots$ \\\\\n\t27 & 10.0 & 8 & 307 & 200 & 4376 & 15.0 & 70 & 1 & $\\dots$ \\\\\n\t28 & 11.0 & 8 & 318 & 210 & 4382 & 13.5 & 70 & 1 & $\\dots$ \\\\\n\t29 & 9.0 & 8 & 304 & 193 & 4732 & 18.5 & 70 & 1 & $\\dots$ \\\\\n\t30 & 27.0 & 4 & 97 & 88 & 2130 & 14.5 & 71 & 3 & $\\dots$ \\\\\n\t$\\dots$ & $\\dots$ & $\\dots$ & $\\dots$ & $\\dots$ & $\\dots$ & $\\dots$ & $\\dots$ & $\\dots$ &  \\\\\n\\end{tabular}\n",
            "text/html": [
              "<div class=\"data-frame\"><p>398 rows × 9 columns (omitted printing of 1 columns)</p><table class=\"data-frame\"><thead><tr><th></th><th>mpg</th><th>cylinders</th><th>displacement</th><th>horsepower</th><th>weight</th><th>acceleration</th><th>model</th><th>origin</th></tr><tr><th></th><th title=\"Float64\">Float64</th><th title=\"Int64\">Int64</th><th title=\"Int64\">Int64</th><th title=\"String3\">String3</th><th title=\"Int64\">Int64</th><th title=\"Float64\">Float64</th><th title=\"Int64\">Int64</th><th title=\"Int64\">Int64</th></tr></thead><tbody><tr><th>1</th><td>18.0</td><td>8</td><td>307</td><td>130</td><td>3504</td><td>12.0</td><td>70</td><td>1</td></tr><tr><th>2</th><td>15.0</td><td>8</td><td>350</td><td>165</td><td>3693</td><td>11.5</td><td>70</td><td>1</td></tr><tr><th>3</th><td>18.0</td><td>8</td><td>318</td><td>150</td><td>3436</td><td>11.0</td><td>70</td><td>1</td></tr><tr><th>4</th><td>16.0</td><td>8</td><td>304</td><td>150</td><td>3433</td><td>12.0</td><td>70</td><td>1</td></tr><tr><th>5</th><td>17.0</td><td>8</td><td>302</td><td>140</td><td>3449</td><td>10.5</td><td>70</td><td>1</td></tr><tr><th>6</th><td>15.0</td><td>8</td><td>429</td><td>198</td><td>4341</td><td>10.0</td><td>70</td><td>1</td></tr><tr><th>7</th><td>14.0</td><td>8</td><td>454</td><td>220</td><td>4354</td><td>9.0</td><td>70</td><td>1</td></tr><tr><th>8</th><td>14.0</td><td>8</td><td>440</td><td>215</td><td>4312</td><td>8.5</td><td>70</td><td>1</td></tr><tr><th>9</th><td>14.0</td><td>8</td><td>455</td><td>225</td><td>4425</td><td>10.0</td><td>70</td><td>1</td></tr><tr><th>10</th><td>15.0</td><td>8</td><td>390</td><td>190</td><td>3850</td><td>8.5</td><td>70</td><td>1</td></tr><tr><th>11</th><td>15.0</td><td>8</td><td>383</td><td>170</td><td>3563</td><td>10.0</td><td>70</td><td>1</td></tr><tr><th>12</th><td>14.0</td><td>8</td><td>340</td><td>160</td><td>3609</td><td>8.0</td><td>70</td><td>1</td></tr><tr><th>13</th><td>15.0</td><td>8</td><td>400</td><td>150</td><td>3761</td><td>9.5</td><td>70</td><td>1</td></tr><tr><th>14</th><td>14.0</td><td>8</td><td>455</td><td>225</td><td>3086</td><td>10.0</td><td>70</td><td>1</td></tr><tr><th>15</th><td>24.0</td><td>4</td><td>113</td><td>95</td><td>2372</td><td>15.0</td><td>70</td><td>3</td></tr><tr><th>16</th><td>22.0</td><td>6</td><td>198</td><td>95</td><td>2833</td><td>15.5</td><td>70</td><td>1</td></tr><tr><th>17</th><td>18.0</td><td>6</td><td>199</td><td>97</td><td>2774</td><td>15.5</td><td>70</td><td>1</td></tr><tr><th>18</th><td>21.0</td><td>6</td><td>200</td><td>85</td><td>2587</td><td>16.0</td><td>70</td><td>1</td></tr><tr><th>19</th><td>27.0</td><td>4</td><td>97</td><td>88</td><td>2130</td><td>14.5</td><td>70</td><td>3</td></tr><tr><th>20</th><td>26.0</td><td>4</td><td>97</td><td>46</td><td>1835</td><td>20.5</td><td>70</td><td>2</td></tr><tr><th>21</th><td>25.0</td><td>4</td><td>110</td><td>87</td><td>2672</td><td>17.5</td><td>70</td><td>2</td></tr><tr><th>22</th><td>24.0</td><td>4</td><td>107</td><td>90</td><td>2430</td><td>14.5</td><td>70</td><td>2</td></tr><tr><th>23</th><td>25.0</td><td>4</td><td>104</td><td>95</td><td>2375</td><td>17.5</td><td>70</td><td>2</td></tr><tr><th>24</th><td>26.0</td><td>4</td><td>121</td><td>113</td><td>2234</td><td>12.5</td><td>70</td><td>2</td></tr><tr><th>25</th><td>21.0</td><td>6</td><td>199</td><td>90</td><td>2648</td><td>15.0</td><td>70</td><td>1</td></tr><tr><th>26</th><td>10.0</td><td>8</td><td>360</td><td>215</td><td>4615</td><td>14.0</td><td>70</td><td>1</td></tr><tr><th>27</th><td>10.0</td><td>8</td><td>307</td><td>200</td><td>4376</td><td>15.0</td><td>70</td><td>1</td></tr><tr><th>28</th><td>11.0</td><td>8</td><td>318</td><td>210</td><td>4382</td><td>13.5</td><td>70</td><td>1</td></tr><tr><th>29</th><td>9.0</td><td>8</td><td>304</td><td>193</td><td>4732</td><td>18.5</td><td>70</td><td>1</td></tr><tr><th>30</th><td>27.0</td><td>4</td><td>97</td><td>88</td><td>2130</td><td>14.5</td><td>71</td><td>3</td></tr><tr><th>&vellip;</th><td>&vellip;</td><td>&vellip;</td><td>&vellip;</td><td>&vellip;</td><td>&vellip;</td><td>&vellip;</td><td>&vellip;</td><td>&vellip;</td></tr></tbody></table></div>"
            ],
            "text/plain": [
              "\u001b[1m398×9 DataFrame\u001b[0m\n",
              "\u001b[1m Row \u001b[0m│\u001b[1m mpg     \u001b[0m\u001b[1m cylinders \u001b[0m\u001b[1m displacement \u001b[0m\u001b[1m horsepower \u001b[0m\u001b[1m weight \u001b[0m\u001b[1m acceleration \u001b[0m\u001b[1m mod\u001b[0m ⋯\n",
              "\u001b[1m     \u001b[0m│\u001b[90m Float64 \u001b[0m\u001b[90m Int64     \u001b[0m\u001b[90m Int64        \u001b[0m\u001b[90m String3    \u001b[0m\u001b[90m Int64  \u001b[0m\u001b[90m Float64      \u001b[0m\u001b[90m Int\u001b[0m ⋯\n",
              "─────┼──────────────────────────────────────────────────────────────────────────\n",
              "   1 │    18.0          8           307  130           3504          12.0      ⋯\n",
              "   2 │    15.0          8           350  165           3693          11.5\n",
              "   3 │    18.0          8           318  150           3436          11.0\n",
              "   4 │    16.0          8           304  150           3433          12.0\n",
              "   5 │    17.0          8           302  140           3449          10.5      ⋯\n",
              "   6 │    15.0          8           429  198           4341          10.0\n",
              "   7 │    14.0          8           454  220           4354           9.0\n",
              "   8 │    14.0          8           440  215           4312           8.5\n",
              "   9 │    14.0          8           455  225           4425          10.0      ⋯\n",
              "  10 │    15.0          8           390  190           3850           8.5\n",
              "  11 │    15.0          8           383  170           3563          10.0\n",
              "  ⋮  │    ⋮         ⋮           ⋮            ⋮         ⋮          ⋮          ⋮ ⋱\n",
              " 389 │    26.0          4           156  92            2585          14.5\n",
              " 390 │    22.0          6           232  112           2835          14.7      ⋯\n",
              " 391 │    32.0          4           144  96            2665          13.9\n",
              " 392 │    36.0          4           135  84            2370          13.0\n",
              " 393 │    27.0          4           151  90            2950          17.3\n",
              " 394 │    27.0          4           140  86            2790          15.6      ⋯\n",
              " 395 │    44.0          4            97  52            2130          24.6\n",
              " 396 │    32.0          4           135  84            2295          11.6\n",
              " 397 │    28.0          4           120  79            2625          18.6\n",
              " 398 │    31.0          4           119  82            2720          19.4      ⋯\n",
              "\u001b[36m                                                  3 columns and 377 rows omitted\u001b[0m"
            ]
          },
          "metadata": {},
          "execution_count": 21
        }
      ]
    },
    {
      "cell_type": "markdown",
      "source": [
        "# Step 7. Oops, there is a column missing, called owners. Create a random number Series from 15,000 to 73,000.\n"
      ],
      "metadata": {
        "id": "BXjqf6f-79Cg"
      }
    },
    {
      "cell_type": "code",
      "source": [
        "owners = [ceil(i) for i in range(15000, 73000, length = 398)]"
      ],
      "metadata": {
        "colab": {
          "base_uri": "https://localhost:8080/"
        },
        "id": "YJCbjzRh7HGC",
        "outputId": "96930aa3-24fc-4761-e44e-54214c39bbc2"
      },
      "execution_count": 25,
      "outputs": [
        {
          "output_type": "execute_result",
          "data": {
            "text/plain": [
              "398-element Vector{Float64}:\n",
              " 15000.0\n",
              " 15147.0\n",
              " 15293.0\n",
              " 15439.0\n",
              " 15585.0\n",
              " 15731.0\n",
              " 15877.0\n",
              " 16023.0\n",
              " 16169.0\n",
              " 16315.0\n",
              " 16461.0\n",
              " 16608.0\n",
              " 16754.0\n",
              "     ⋮\n",
              " 71393.0\n",
              " 71540.0\n",
              " 71686.0\n",
              " 71832.0\n",
              " 71978.0\n",
              " 72124.0\n",
              " 72270.0\n",
              " 72416.0\n",
              " 72562.0\n",
              " 72708.0\n",
              " 72854.0\n",
              " 73000.0"
            ]
          },
          "metadata": {},
          "execution_count": 25
        }
      ]
    },
    {
      "cell_type": "code",
      "source": [
        "cars1.owners = owners"
      ],
      "metadata": {
        "colab": {
          "base_uri": "https://localhost:8080/"
        },
        "id": "2tgi0Hs-8EKw",
        "outputId": "9454da10-ac05-46fa-e16d-a5a669f625ce"
      },
      "execution_count": 26,
      "outputs": [
        {
          "output_type": "execute_result",
          "data": {
            "text/plain": [
              "398-element Vector{Float64}:\n",
              " 15000.0\n",
              " 15147.0\n",
              " 15293.0\n",
              " 15439.0\n",
              " 15585.0\n",
              " 15731.0\n",
              " 15877.0\n",
              " 16023.0\n",
              " 16169.0\n",
              " 16315.0\n",
              " 16461.0\n",
              " 16608.0\n",
              " 16754.0\n",
              "     ⋮\n",
              " 71393.0\n",
              " 71540.0\n",
              " 71686.0\n",
              " 71832.0\n",
              " 71978.0\n",
              " 72124.0\n",
              " 72270.0\n",
              " 72416.0\n",
              " 72562.0\n",
              " 72708.0\n",
              " 72854.0\n",
              " 73000.0"
            ]
          },
          "metadata": {},
          "execution_count": 26
        }
      ]
    },
    {
      "cell_type": "code",
      "source": [
        "show(cars1,allcols=true)"
      ],
      "metadata": {
        "colab": {
          "base_uri": "https://localhost:8080/"
        },
        "id": "42F5dGFI8evx",
        "outputId": "2bbb2aef-9e70-4003-f8b5-a2d5abebd3cb"
      },
      "execution_count": 27,
      "outputs": [
        {
          "output_type": "stream",
          "name": "stdout",
          "text": [
            "\u001b[1m398×10 DataFrame\u001b[0m\n",
            "\u001b[1m Row \u001b[0m│\u001b[1m mpg     \u001b[0m\u001b[1m cylinders \u001b[0m\u001b[1m displacement \u001b[0m\u001b[1m horsepower \u001b[0m\u001b[1m weight \u001b[0m\u001b[1m acceleration \u001b[0m\u001b[1m model \u001b[0m\u001b[1m origin \u001b[0m\u001b[1m car                               \u001b[0m\u001b[1m owners  \u001b[0m\n",
            "\u001b[1m     \u001b[0m│\u001b[90m Float64 \u001b[0m\u001b[90m Int64     \u001b[0m\u001b[90m Int64        \u001b[0m\u001b[90m String3    \u001b[0m\u001b[90m Int64  \u001b[0m\u001b[90m Float64      \u001b[0m\u001b[90m Int64 \u001b[0m\u001b[90m Int64  \u001b[0m\u001b[90m String                            \u001b[0m\u001b[90m Float64 \u001b[0m\n",
            "─────┼───────────────────────────────────────────────────────────────────────────────────────────────────────────────────────────────\n",
            "   1 │    18.0          8           307  130           3504          12.0     70       1  chevrolet chevelle malibu          15000.0\n",
            "   2 │    15.0          8           350  165           3693          11.5     70       1  buick skylark 320                  15147.0\n",
            "   3 │    18.0          8           318  150           3436          11.0     70       1  plymouth satellite                 15293.0\n",
            "   4 │    16.0          8           304  150           3433          12.0     70       1  amc rebel sst                      15439.0\n",
            "   5 │    17.0          8           302  140           3449          10.5     70       1  ford torino                        15585.0\n",
            "   6 │    15.0          8           429  198           4341          10.0     70       1  ford galaxie 500                   15731.0\n",
            "   7 │    14.0          8           454  220           4354           9.0     70       1  chevrolet impala                   15877.0\n",
            "   8 │    14.0          8           440  215           4312           8.5     70       1  plymouth fury iii                  16023.0\n",
            "   9 │    14.0          8           455  225           4425          10.0     70       1  pontiac catalina                   16169.0\n",
            "  10 │    15.0          8           390  190           3850           8.5     70       1  amc ambassador dpl                 16315.0\n",
            "  11 │    15.0          8           383  170           3563          10.0     70       1  dodge challenger se                16461.0\n",
            "  ⋮  │    ⋮         ⋮           ⋮            ⋮         ⋮          ⋮          ⋮      ⋮                     ⋮                     ⋮\n",
            " 389 │    26.0          4           156  92            2585          14.5     82       1  chrysler lebaron medallion         71686.0\n",
            " 390 │    22.0          6           232  112           2835          14.7     82       1  ford granada l                     71832.0\n",
            " 391 │    32.0          4           144  96            2665          13.9     82       3  toyota celica gt                   71978.0\n",
            " 392 │    36.0          4           135  84            2370          13.0     82       1  dodge charger 2.2                  72124.0\n",
            " 393 │    27.0          4           151  90            2950          17.3     82       1  chevrolet camaro                   72270.0\n",
            " 394 │    27.0          4           140  86            2790          15.6     82       1  ford mustang gl                    72416.0\n",
            " 395 │    44.0          4            97  52            2130          24.6     82       2  vw pickup                          72562.0\n",
            " 396 │    32.0          4           135  84            2295          11.6     82       1  dodge rampage                      72708.0\n",
            " 397 │    28.0          4           120  79            2625          18.6     82       1  ford ranger                        72854.0\n",
            " 398 │    31.0          4           119  82            2720          19.4     82       1  chevy s-10                         73000.0\n",
            "\u001b[36m                                                                                                                     377 rows omitted\u001b[0m"
          ]
        }
      ]
    },
    {
      "cell_type": "code",
      "source": [
        ""
      ],
      "metadata": {
        "id": "LQ6qYpdO8h78"
      },
      "execution_count": null,
      "outputs": []
    }
  ]
}