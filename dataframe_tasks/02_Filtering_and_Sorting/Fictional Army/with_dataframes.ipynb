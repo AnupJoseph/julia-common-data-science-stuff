{
  "nbformat": 4,
  "nbformat_minor": 0,
  "metadata": {
    "colab": {
      "name": "02_Filtering_&_Sorting_Fictional_Army.ipynb",
      "provenance": [],
      "collapsed_sections": []
    },
    "kernelspec": {
      "display_name": "Julia",
      "language": "julia",
      "name": "julia"
    },
    "language_info": {
      "file_extension": ".jl",
      "mimetype": "application/julia",
      "name": "julia"
    }
  },
  "cells": [
    {
      "cell_type": "markdown",
      "metadata": {
        "id": "f_1dr-2W5iSU"
      },
      "source": [
        "# Getting Started with Julia in Colab/Jupyter\n",
        "You can either run this notebook in Google Colab, or using Jupyter on your own machine."
      ]
    },
    {
      "cell_type": "markdown",
      "metadata": {
        "id": "6ew60wXrZM0W"
      },
      "source": [
        "## Running on Google Colab\n",
        "1. Work on a copy of this notebook: _File_ > _Save a copy in Drive_ (you will need a Google account). Alternatively, you can download the notebook using _File_ > _Download .ipynb_, then upload it to [Colab](https://colab.research.google.com/).\n",
        "2. Execute the following cell (click on it and press Ctrl+Enter) to install Julia, IJulia (the Jupyter kernel for Julia) and other packages. You can update `JULIA_VERSION` and the other parameters, if you know what you're doing. Installation takes 2-3 minutes.\n",
        "3. Reload this page (press Ctrl+R, or ⌘+R, or the F5 key) and continue to the _Checking the Installation_ section.\n",
        "\n",
        "* _Note_: If your Colab Runtime gets reset (e.g., due to inactivity), repeat steps 2 and 3."
      ]
    },
    {
      "cell_type": "code",
      "metadata": {
        "id": "GIeFXS0F0zww",
        "colab": {
          "base_uri": "https://localhost:8080/"
        },
        "outputId": "a1190acf-1142-465f-c5f5-9eb3bc390f2f"
      },
      "source": [
        "%%shell\n",
        "set -e\n",
        "\n",
        "#---------------------------------------------------#\n",
        "JULIA_VERSION=\"1.6.0\" # any version ≥ 0.7.0\n",
        "JULIA_PACKAGES=\"IJulia CSV DataFrames Pipe\"\n",
        "JULIA_PACKAGES_IF_GPU=\"CUDA\"\n",
        "JULIA_NUM_THREADS=4\n",
        "#---------------------------------------------------#\n",
        "\n",
        "if [ -n \"$COLAB_GPU\" ] && [ -z `which julia` ]; then\n",
        "  # Install Julia\n",
        "  JULIA_VER=`cut -d '.' -f -2 <<< \"$JULIA_VERSION\"`\n",
        "  echo \"Installing Julia $JULIA_VERSION on the current Colab Runtime...\"\n",
        "  BASE_URL=\"https://julialang-s3.julialang.org/bin/linux/x64\"\n",
        "  URL=\"$BASE_URL/$JULIA_VER/julia-$JULIA_VERSION-linux-x86_64.tar.gz\"\n",
        "  wget -nv $URL -O /tmp/julia.tar.gz # -nv means \"not verbose\"\n",
        "  tar -x -f /tmp/julia.tar.gz -C /usr/local --strip-components 1\n",
        "  rm /tmp/julia.tar.gz\n",
        "\n",
        "  # Install Packages\n",
        "  if [ \"$COLAB_GPU\" = \"1\" ]; then\n",
        "      JULIA_PACKAGES=\"$JULIA_PACKAGES $JULIA_PACKAGES_IF_GPU\"\n",
        "  fi\n",
        "  for PKG in `echo $JULIA_PACKAGES`; do\n",
        "    echo \"Installing Julia package $PKG...\"\n",
        "    julia -e 'using Pkg; pkg\"add '$PKG'; precompile;\"' &> /dev/null\n",
        "  done\n",
        "\n",
        "  # Install kernel and rename it to \"julia\"\n",
        "  echo \"Installing IJulia kernel...\"\n",
        "  julia -e 'using IJulia; IJulia.installkernel(\"julia\", env=Dict(\n",
        "      \"JULIA_NUM_THREADS\"=>\"'\"$JULIA_NUM_THREADS\"'\"))'\n",
        "  KERNEL_DIR=`julia -e \"using IJulia; print(IJulia.kerneldir())\"`\n",
        "  KERNEL_NAME=`ls -d \"$KERNEL_DIR\"/julia*`\n",
        "  mv -f $KERNEL_NAME \"$KERNEL_DIR\"/julia  \n",
        "\n",
        "  echo ''\n",
        "  echo \"Successfully installed `julia -v`!\"\n",
        "  echo \"Please reload this page (press Ctrl+R, ⌘+R, or the F5 key) then\"\n",
        "  echo \"jump to the 'Checking the Installation' section.\"\n",
        "fi"
      ],
      "execution_count": null,
      "outputs": [
        {
          "output_type": "stream",
          "name": "stdout",
          "text": [
            "Installing Julia 1.6.0 on the current Colab Runtime...\n",
            "2022-01-16 12:06:02 URL:https://storage.googleapis.com/julialang2/bin/linux/x64/1.6/julia-1.6.0-linux-x86_64.tar.gz [112838927/112838927] -> \"/tmp/julia.tar.gz\" [1]\n",
            "Installing Julia package IJulia...\n",
            "Installing Julia package CSV...\n",
            "Installing Julia package DataFrames...\n"
          ]
        }
      ]
    },
    {
      "cell_type": "markdown",
      "metadata": {
        "id": "-OS3Ac017T1i"
      },
      "source": [
        "## Checking the Installation\n",
        "The `versioninfo()` function should print your Julia version and some other info about the system (if you ever ask for help or file an issue about Julia, you should always provide this information)."
      ]
    },
    {
      "cell_type": "code",
      "metadata": {
        "id": "EEzvvzCl1i0F",
        "colab": {
          "base_uri": "https://localhost:8080/"
        },
        "outputId": "ce9b89b0-2833-4f44-828d-301a2a2b7dff"
      },
      "source": [
        "versioninfo()"
      ],
      "execution_count": null,
      "outputs": [
        {
          "output_type": "stream",
          "name": "stdout",
          "text": [
            "Julia Version 1.6.0\n",
            "Commit f9720dc2eb (2021-03-24 12:55 UTC)\n",
            "Platform Info:\n",
            "  OS: Linux (x86_64-pc-linux-gnu)\n",
            "  CPU: Intel(R) Xeon(R) CPU @ 2.20GHz\n",
            "  WORD_SIZE: 64\n",
            "  LIBM: libopenlibm\n",
            "  LLVM: libLLVM-11.0.1 (ORCJIT, broadwell)\n",
            "Environment:\n",
            "  JULIA_NUM_THREADS = 4\n"
          ]
        }
      ]
    },
    {
      "cell_type": "markdown",
      "source": [
        "# Step 1. Import the necessary libraries"
      ],
      "metadata": {
        "id": "KBZ3BGnPqtei"
      }
    },
    {
      "cell_type": "code",
      "source": [
        "using DataFrames\n",
        "using CSV\n",
        "using Pipe\n",
        "using Statistics"
      ],
      "metadata": {
        "id": "owMzAJdsqrvW"
      },
      "execution_count": 1,
      "outputs": []
    },
    {
      "cell_type": "markdown",
      "source": [
        "# Step 2. This is the data given as a dictionary"
      ],
      "metadata": {
        "id": "Y6CpwK31ruJy"
      }
    },
    {
      "cell_type": "code",
      "source": [
        "raw_data = Dict{Symbol,Array{Any}}(:regiment => [\"Nighthawks\", \"Nighthawks\", \"Nighthawks\", \"Nighthawks\", \"Dragoons\", \"Dragoons\", \"Dragoons\", \"Dragoons\", \"Scouts\", \"Scouts\", \"Scouts\", \"Scouts\"],\n",
        "    :company => [\"1st\", \"1st\", \"2nd\", \"2nd\", \"1st\", \"1st\", \"2nd\", \"2nd\", \"1st\", \"1st\", \"2nd\", \"2nd\"],\n",
        "    :deaths => [523, 52, 25, 616, 43, 234, 523, 62, 62, 73, 37, 35],\n",
        "    :battles => [5, 42, 2, 2, 4, 7, 8, 3, 4, 7, 8, 9],\n",
        "    :size => [1045, 957, 1099, 1400, 1592, 1006, 987, 849, 973, 1005, 1099, 1523],\n",
        "    :veterans => [1, 5, 62, 26, 73, 37, 949, 48, 48, 435, 63, 345],\n",
        "    :readiness => [1, 2, 3, 3, 2, 1, 2, 3, 2, 1, 2, 3],\n",
        "    :armored => [1, 0, 1, 1, 0, 1, 0, 1, 0, 0, 1, 1],\n",
        "    :deserters => [4, 24, 31, 2, 3, 4, 24, 31, 2, 3, 2, 3],\n",
        "    :origin => [\"Arizona\", \"California\", \"Texas\", \"Florida\", \"Maine\", \"Iowa\", \"Alaska\", \"Washington\",\"Oregon\", \"Wyoming\", \"Louisana\", \"Georgia\"])"
      ],
      "metadata": {
        "colab": {
          "base_uri": "https://localhost:8080/"
        },
        "id": "zuAeoqLJrrg_",
        "outputId": "62a4389d-fb1d-4a4e-e2b8-e4afe30fe6c8"
      },
      "execution_count": 2,
      "outputs": [
        {
          "output_type": "execute_result",
          "data": {
            "text/plain": [
              "Dict{Symbol, Array{Any, N} where N} with 10 entries:\n",
              "  :company   => [\"1st\", \"1st\", \"2nd\", \"2nd\", \"1st\", \"1st\", \"2nd\", \"2nd\", \"1st\",…\n",
              "  :readiness => [1, 2, 3, 3, 2, 1, 2, 3, 2, 1, 2, 3]\n",
              "  :armored   => [1, 0, 1, 1, 0, 1, 0, 1, 0, 0, 1, 1]\n",
              "  :veterans  => [1, 5, 62, 26, 73, 37, 949, 48, 48, 435, 63, 345]\n",
              "  :deaths    => [523, 52, 25, 616, 43, 234, 523, 62, 62, 73, 37, 35]\n",
              "  :origin    => [\"Arizona\", \"California\", \"Texas\", \"Florida\", \"Maine\", \"Iowa\", …\n",
              "  :size      => [1045, 957, 1099, 1400, 1592, 1006, 987, 849, 973, 1005, 1099, …\n",
              "  :deserters => [4, 24, 31, 2, 3, 4, 24, 31, 2, 3, 2, 3]\n",
              "  :regiment  => [\"Nighthawks\", \"Nighthawks\", \"Nighthawks\", \"Nighthawks\", \"Drago…\n",
              "  :battles   => [5, 42, 2, 2, 4, 7, 8, 3, 4, 7, 8, 9]"
            ]
          },
          "metadata": {},
          "execution_count": 2
        }
      ]
    },
    {
      "cell_type": "markdown",
      "source": [
        "# Step 3. Create a dataframe and assign it to a variable called army."
      ],
      "metadata": {
        "id": "jAbB4y_isFyd"
      }
    },
    {
      "cell_type": "code",
      "source": [
        "army = DataFrame(;raw_data...)"
      ],
      "metadata": {
        "colab": {
          "base_uri": "https://localhost:8080/",
          "height": 347
        },
        "id": "vc10iBKsrlLp",
        "outputId": "eea06a12-2da4-4362-b6c0-090896f8ce70"
      },
      "execution_count": 3,
      "outputs": [
        {
          "output_type": "execute_result",
          "data": {
            "text/latex": "\\begin{tabular}{r|cccccccccc}\n\t& company & readiness & armored & veterans & deaths & origin & size & deserters & regiment & \\\\\n\t\\hline\n\t& Any & Any & Any & Any & Any & Any & Any & Any & Any & \\\\\n\t\\hline\n\t1 & 1st & 1 & 1 & 1 & 523 & Arizona & 1045 & 4 & Nighthawks & $\\dots$ \\\\\n\t2 & 1st & 2 & 0 & 5 & 52 & California & 957 & 24 & Nighthawks & $\\dots$ \\\\\n\t3 & 2nd & 3 & 1 & 62 & 25 & Texas & 1099 & 31 & Nighthawks & $\\dots$ \\\\\n\t4 & 2nd & 3 & 1 & 26 & 616 & Florida & 1400 & 2 & Nighthawks & $\\dots$ \\\\\n\t5 & 1st & 2 & 0 & 73 & 43 & Maine & 1592 & 3 & Dragoons & $\\dots$ \\\\\n\t6 & 1st & 1 & 1 & 37 & 234 & Iowa & 1006 & 4 & Dragoons & $\\dots$ \\\\\n\t7 & 2nd & 2 & 0 & 949 & 523 & Alaska & 987 & 24 & Dragoons & $\\dots$ \\\\\n\t8 & 2nd & 3 & 1 & 48 & 62 & Washington & 849 & 31 & Dragoons & $\\dots$ \\\\\n\t9 & 1st & 2 & 0 & 48 & 62 & Oregon & 973 & 2 & Scouts & $\\dots$ \\\\\n\t10 & 1st & 1 & 0 & 435 & 73 & Wyoming & 1005 & 3 & Scouts & $\\dots$ \\\\\n\t11 & 2nd & 2 & 1 & 63 & 37 & Louisana & 1099 & 2 & Scouts & $\\dots$ \\\\\n\t12 & 2nd & 3 & 1 & 345 & 35 & Georgia & 1523 & 3 & Scouts & $\\dots$ \\\\\n\\end{tabular}\n",
            "text/html": [
              "<div class=\"data-frame\"><p>12 rows × 10 columns (omitted printing of 1 columns)</p><table class=\"data-frame\"><thead><tr><th></th><th>company</th><th>readiness</th><th>armored</th><th>veterans</th><th>deaths</th><th>origin</th><th>size</th><th>deserters</th><th>regiment</th></tr><tr><th></th><th title=\"Any\">Any</th><th title=\"Any\">Any</th><th title=\"Any\">Any</th><th title=\"Any\">Any</th><th title=\"Any\">Any</th><th title=\"Any\">Any</th><th title=\"Any\">Any</th><th title=\"Any\">Any</th><th title=\"Any\">Any</th></tr></thead><tbody><tr><th>1</th><td>1st</td><td>1</td><td>1</td><td>1</td><td>523</td><td>Arizona</td><td>1045</td><td>4</td><td>Nighthawks</td></tr><tr><th>2</th><td>1st</td><td>2</td><td>0</td><td>5</td><td>52</td><td>California</td><td>957</td><td>24</td><td>Nighthawks</td></tr><tr><th>3</th><td>2nd</td><td>3</td><td>1</td><td>62</td><td>25</td><td>Texas</td><td>1099</td><td>31</td><td>Nighthawks</td></tr><tr><th>4</th><td>2nd</td><td>3</td><td>1</td><td>26</td><td>616</td><td>Florida</td><td>1400</td><td>2</td><td>Nighthawks</td></tr><tr><th>5</th><td>1st</td><td>2</td><td>0</td><td>73</td><td>43</td><td>Maine</td><td>1592</td><td>3</td><td>Dragoons</td></tr><tr><th>6</th><td>1st</td><td>1</td><td>1</td><td>37</td><td>234</td><td>Iowa</td><td>1006</td><td>4</td><td>Dragoons</td></tr><tr><th>7</th><td>2nd</td><td>2</td><td>0</td><td>949</td><td>523</td><td>Alaska</td><td>987</td><td>24</td><td>Dragoons</td></tr><tr><th>8</th><td>2nd</td><td>3</td><td>1</td><td>48</td><td>62</td><td>Washington</td><td>849</td><td>31</td><td>Dragoons</td></tr><tr><th>9</th><td>1st</td><td>2</td><td>0</td><td>48</td><td>62</td><td>Oregon</td><td>973</td><td>2</td><td>Scouts</td></tr><tr><th>10</th><td>1st</td><td>1</td><td>0</td><td>435</td><td>73</td><td>Wyoming</td><td>1005</td><td>3</td><td>Scouts</td></tr><tr><th>11</th><td>2nd</td><td>2</td><td>1</td><td>63</td><td>37</td><td>Louisana</td><td>1099</td><td>2</td><td>Scouts</td></tr><tr><th>12</th><td>2nd</td><td>3</td><td>1</td><td>345</td><td>35</td><td>Georgia</td><td>1523</td><td>3</td><td>Scouts</td></tr></tbody></table></div>"
            ],
            "text/plain": [
              "\u001b[1m12×10 DataFrame\u001b[0m\n",
              "\u001b[1m Row \u001b[0m│\u001b[1m company \u001b[0m\u001b[1m readiness \u001b[0m\u001b[1m armored \u001b[0m\u001b[1m veterans \u001b[0m\u001b[1m deaths \u001b[0m\u001b[1m origin     \u001b[0m\u001b[1m size \u001b[0m\u001b[1m desert\u001b[0m ⋯\n",
              "\u001b[1m     \u001b[0m│\u001b[90m Any     \u001b[0m\u001b[90m Any       \u001b[0m\u001b[90m Any     \u001b[0m\u001b[90m Any      \u001b[0m\u001b[90m Any    \u001b[0m\u001b[90m Any        \u001b[0m\u001b[90m Any  \u001b[0m\u001b[90m Any   \u001b[0m ⋯\n",
              "─────┼──────────────────────────────────────────────────────────────────────────\n",
              "   1 │ 1st      1          1        1         523     Arizona     1045  4      ⋯\n",
              "   2 │ 1st      2          0        5         52      California  957   24\n",
              "   3 │ 2nd      3          1        62        25      Texas       1099  31\n",
              "   4 │ 2nd      3          1        26        616     Florida     1400  2\n",
              "   5 │ 1st      2          0        73        43      Maine       1592  3      ⋯\n",
              "   6 │ 1st      1          1        37        234     Iowa        1006  4\n",
              "   7 │ 2nd      2          0        949       523     Alaska      987   24\n",
              "   8 │ 2nd      3          1        48        62      Washington  849   31\n",
              "   9 │ 1st      2          0        48        62      Oregon      973   2      ⋯\n",
              "  10 │ 1st      1          0        435       73      Wyoming     1005  3\n",
              "  11 │ 2nd      2          1        63        37      Louisana    1099  2\n",
              "  12 │ 2nd      3          1        345       35      Georgia     1523  3\n",
              "\u001b[36m                                                               3 columns omitted\u001b[0m"
            ]
          },
          "metadata": {},
          "execution_count": 3
        }
      ]
    },
    {
      "cell_type": "markdown",
      "source": [
        "# Step 5. Print only the column veterans"
      ],
      "metadata": {
        "id": "hfuvGdEju2MX"
      }
    },
    {
      "cell_type": "code",
      "source": [
        "army[!,:veterans]"
      ],
      "metadata": {
        "colab": {
          "base_uri": "https://localhost:8080/"
        },
        "id": "MqiJLI9SswmI",
        "outputId": "13a7ce3a-0d40-4945-b8db-32b41e778754"
      },
      "execution_count": 4,
      "outputs": [
        {
          "output_type": "execute_result",
          "data": {
            "text/plain": [
              "12-element Vector{Any}:\n",
              "   1\n",
              "   5\n",
              "  62\n",
              "  26\n",
              "  73\n",
              "  37\n",
              " 949\n",
              "  48\n",
              "  48\n",
              " 435\n",
              "  63\n",
              " 345"
            ]
          },
          "metadata": {},
          "execution_count": 4
        }
      ]
    },
    {
      "cell_type": "markdown",
      "source": [
        "# Step 6. Print the columns 'veterans' and 'deaths'"
      ],
      "metadata": {
        "id": "aTbuOSuAvWPU"
      }
    },
    {
      "cell_type": "code",
      "source": [
        "army[!, [:veterans, :deaths]]"
      ],
      "metadata": {
        "colab": {
          "base_uri": "https://localhost:8080/",
          "height": 347
        },
        "id": "g-HhrO11u2wG",
        "outputId": "f17569fd-b549-4a3c-c920-b4c74bfd1202"
      },
      "execution_count": 5,
      "outputs": [
        {
          "output_type": "execute_result",
          "data": {
            "text/latex": "\\begin{tabular}{r|cc}\n\t& veterans & deaths\\\\\n\t\\hline\n\t& Any & Any\\\\\n\t\\hline\n\t1 & 1 & 523 \\\\\n\t2 & 5 & 52 \\\\\n\t3 & 62 & 25 \\\\\n\t4 & 26 & 616 \\\\\n\t5 & 73 & 43 \\\\\n\t6 & 37 & 234 \\\\\n\t7 & 949 & 523 \\\\\n\t8 & 48 & 62 \\\\\n\t9 & 48 & 62 \\\\\n\t10 & 435 & 73 \\\\\n\t11 & 63 & 37 \\\\\n\t12 & 345 & 35 \\\\\n\\end{tabular}\n",
            "text/html": [
              "<div class=\"data-frame\"><p>12 rows × 2 columns</p><table class=\"data-frame\"><thead><tr><th></th><th>veterans</th><th>deaths</th></tr><tr><th></th><th title=\"Any\">Any</th><th title=\"Any\">Any</th></tr></thead><tbody><tr><th>1</th><td>1</td><td>523</td></tr><tr><th>2</th><td>5</td><td>52</td></tr><tr><th>3</th><td>62</td><td>25</td></tr><tr><th>4</th><td>26</td><td>616</td></tr><tr><th>5</th><td>73</td><td>43</td></tr><tr><th>6</th><td>37</td><td>234</td></tr><tr><th>7</th><td>949</td><td>523</td></tr><tr><th>8</th><td>48</td><td>62</td></tr><tr><th>9</th><td>48</td><td>62</td></tr><tr><th>10</th><td>435</td><td>73</td></tr><tr><th>11</th><td>63</td><td>37</td></tr><tr><th>12</th><td>345</td><td>35</td></tr></tbody></table></div>"
            ],
            "text/plain": [
              "\u001b[1m12×2 DataFrame\u001b[0m\n",
              "\u001b[1m Row \u001b[0m│\u001b[1m veterans \u001b[0m\u001b[1m deaths \u001b[0m\n",
              "\u001b[1m     \u001b[0m│\u001b[90m Any      \u001b[0m\u001b[90m Any    \u001b[0m\n",
              "─────┼──────────────────\n",
              "   1 │ 1         523\n",
              "   2 │ 5         52\n",
              "   3 │ 62        25\n",
              "   4 │ 26        616\n",
              "   5 │ 73        43\n",
              "   6 │ 37        234\n",
              "   7 │ 949       523\n",
              "   8 │ 48        62\n",
              "   9 │ 48        62\n",
              "  10 │ 435       73\n",
              "  11 │ 63        37\n",
              "  12 │ 345       35"
            ]
          },
          "metadata": {},
          "execution_count": 5
        }
      ]
    },
    {
      "cell_type": "markdown",
      "source": [
        "# Step 7. Print the name of all the columns."
      ],
      "metadata": {
        "id": "NYk4uokvvwtS"
      }
    },
    {
      "cell_type": "code",
      "source": [
        "names(army)"
      ],
      "metadata": {
        "colab": {
          "base_uri": "https://localhost:8080/"
        },
        "id": "RwrZDalvvh6x",
        "outputId": "dc1d1b9a-9b30-45d4-c8b6-29ba34e1caf5"
      },
      "execution_count": 6,
      "outputs": [
        {
          "output_type": "execute_result",
          "data": {
            "text/plain": [
              "10-element Vector{String}:\n",
              " \"company\"\n",
              " \"readiness\"\n",
              " \"armored\"\n",
              " \"veterans\"\n",
              " \"deaths\"\n",
              " \"origin\"\n",
              " \"size\"\n",
              " \"deserters\"\n",
              " \"regiment\"\n",
              " \"battles\""
            ]
          },
          "metadata": {},
          "execution_count": 6
        }
      ]
    },
    {
      "cell_type": "markdown",
      "source": [
        "# Step 8. Select the 'deaths', 'size' and 'deserters' columns from Maine and Alaska\n"
      ],
      "metadata": {
        "id": "ue0YkJ1txirD"
      }
    },
    {
      "cell_type": "code",
      "source": [
        "filter(x -> x[:origin] in [\"Maine\", \"Alaska\"], army)[!,[:origin,:deaths,:size,:deserters]]"
      ],
      "metadata": {
        "colab": {
          "base_uri": "https://localhost:8080/",
          "height": 134
        },
        "id": "Dnkl4p-NvyMp",
        "outputId": "6fc11689-f04c-4ae3-b9b2-8dfb58095ee6"
      },
      "execution_count": 7,
      "outputs": [
        {
          "output_type": "execute_result",
          "data": {
            "text/latex": "\\begin{tabular}{r|cccc}\n\t& origin & deaths & size & deserters\\\\\n\t\\hline\n\t& Any & Any & Any & Any\\\\\n\t\\hline\n\t1 & Maine & 43 & 1592 & 3 \\\\\n\t2 & Alaska & 523 & 987 & 24 \\\\\n\\end{tabular}\n",
            "text/html": [
              "<div class=\"data-frame\"><p>2 rows × 4 columns</p><table class=\"data-frame\"><thead><tr><th></th><th>origin</th><th>deaths</th><th>size</th><th>deserters</th></tr><tr><th></th><th title=\"Any\">Any</th><th title=\"Any\">Any</th><th title=\"Any\">Any</th><th title=\"Any\">Any</th></tr></thead><tbody><tr><th>1</th><td>Maine</td><td>43</td><td>1592</td><td>3</td></tr><tr><th>2</th><td>Alaska</td><td>523</td><td>987</td><td>24</td></tr></tbody></table></div>"
            ],
            "text/plain": [
              "\u001b[1m2×4 DataFrame\u001b[0m\n",
              "\u001b[1m Row \u001b[0m│\u001b[1m origin \u001b[0m\u001b[1m deaths \u001b[0m\u001b[1m size \u001b[0m\u001b[1m deserters \u001b[0m\n",
              "\u001b[1m     \u001b[0m│\u001b[90m Any    \u001b[0m\u001b[90m Any    \u001b[0m\u001b[90m Any  \u001b[0m\u001b[90m Any       \u001b[0m\n",
              "─────┼─────────────────────────────────\n",
              "   1 │ Maine   43      1592  3\n",
              "   2 │ Alaska  523     987   24"
            ]
          },
          "metadata": {},
          "execution_count": 7
        }
      ]
    },
    {
      "cell_type": "markdown",
      "source": [
        "# Step 9. Select the rows 3 to 7 and the columns 3 to 6"
      ],
      "metadata": {
        "id": "hyXIdeB-yQDz"
      }
    },
    {
      "cell_type": "code",
      "source": [
        "army[3:7, 3:6]"
      ],
      "metadata": {
        "colab": {
          "base_uri": "https://localhost:8080/",
          "height": 198
        },
        "id": "E1GT4fghxW40",
        "outputId": "2f897a53-f1f6-4217-bb07-e19658fa064d"
      },
      "execution_count": 8,
      "outputs": [
        {
          "output_type": "execute_result",
          "data": {
            "text/latex": "\\begin{tabular}{r|cccc}\n\t& armored & veterans & deaths & origin\\\\\n\t\\hline\n\t& Any & Any & Any & Any\\\\\n\t\\hline\n\t1 & 1 & 62 & 25 & Texas \\\\\n\t2 & 1 & 26 & 616 & Florida \\\\\n\t3 & 0 & 73 & 43 & Maine \\\\\n\t4 & 1 & 37 & 234 & Iowa \\\\\n\t5 & 0 & 949 & 523 & Alaska \\\\\n\\end{tabular}\n",
            "text/html": [
              "<div class=\"data-frame\"><p>5 rows × 4 columns</p><table class=\"data-frame\"><thead><tr><th></th><th>armored</th><th>veterans</th><th>deaths</th><th>origin</th></tr><tr><th></th><th title=\"Any\">Any</th><th title=\"Any\">Any</th><th title=\"Any\">Any</th><th title=\"Any\">Any</th></tr></thead><tbody><tr><th>1</th><td>1</td><td>62</td><td>25</td><td>Texas</td></tr><tr><th>2</th><td>1</td><td>26</td><td>616</td><td>Florida</td></tr><tr><th>3</th><td>0</td><td>73</td><td>43</td><td>Maine</td></tr><tr><th>4</th><td>1</td><td>37</td><td>234</td><td>Iowa</td></tr><tr><th>5</th><td>0</td><td>949</td><td>523</td><td>Alaska</td></tr></tbody></table></div>"
            ],
            "text/plain": [
              "\u001b[1m5×4 DataFrame\u001b[0m\n",
              "\u001b[1m Row \u001b[0m│\u001b[1m armored \u001b[0m\u001b[1m veterans \u001b[0m\u001b[1m deaths \u001b[0m\u001b[1m origin  \u001b[0m\n",
              "\u001b[1m     \u001b[0m│\u001b[90m Any     \u001b[0m\u001b[90m Any      \u001b[0m\u001b[90m Any    \u001b[0m\u001b[90m Any     \u001b[0m\n",
              "─────┼────────────────────────────────────\n",
              "   1 │ 1        62        25      Texas\n",
              "   2 │ 1        26        616     Florida\n",
              "   3 │ 0        73        43      Maine\n",
              "   4 │ 1        37        234     Iowa\n",
              "   5 │ 0        949       523     Alaska"
            ]
          },
          "metadata": {},
          "execution_count": 8
        }
      ]
    },
    {
      "cell_type": "markdown",
      "source": [
        "# Step 10. Select every row after the fourth row and all columns"
      ],
      "metadata": {
        "id": "we464-EWyj8F"
      }
    },
    {
      "cell_type": "code",
      "source": [
        "army[5:end, :]"
      ],
      "metadata": {
        "colab": {
          "base_uri": "https://localhost:8080/",
          "height": 262
        },
        "id": "i3zd4FVwyM9y",
        "outputId": "b03cb1cb-5e9e-4246-b0f6-f8b24e5d8f75"
      },
      "execution_count": 9,
      "outputs": [
        {
          "output_type": "execute_result",
          "data": {
            "text/latex": "\\begin{tabular}{r|cccccccccc}\n\t& company & readiness & armored & veterans & deaths & origin & size & deserters & regiment & \\\\\n\t\\hline\n\t& Any & Any & Any & Any & Any & Any & Any & Any & Any & \\\\\n\t\\hline\n\t1 & 1st & 2 & 0 & 73 & 43 & Maine & 1592 & 3 & Dragoons & $\\dots$ \\\\\n\t2 & 1st & 1 & 1 & 37 & 234 & Iowa & 1006 & 4 & Dragoons & $\\dots$ \\\\\n\t3 & 2nd & 2 & 0 & 949 & 523 & Alaska & 987 & 24 & Dragoons & $\\dots$ \\\\\n\t4 & 2nd & 3 & 1 & 48 & 62 & Washington & 849 & 31 & Dragoons & $\\dots$ \\\\\n\t5 & 1st & 2 & 0 & 48 & 62 & Oregon & 973 & 2 & Scouts & $\\dots$ \\\\\n\t6 & 1st & 1 & 0 & 435 & 73 & Wyoming & 1005 & 3 & Scouts & $\\dots$ \\\\\n\t7 & 2nd & 2 & 1 & 63 & 37 & Louisana & 1099 & 2 & Scouts & $\\dots$ \\\\\n\t8 & 2nd & 3 & 1 & 345 & 35 & Georgia & 1523 & 3 & Scouts & $\\dots$ \\\\\n\\end{tabular}\n",
            "text/html": [
              "<div class=\"data-frame\"><p>8 rows × 10 columns (omitted printing of 1 columns)</p><table class=\"data-frame\"><thead><tr><th></th><th>company</th><th>readiness</th><th>armored</th><th>veterans</th><th>deaths</th><th>origin</th><th>size</th><th>deserters</th><th>regiment</th></tr><tr><th></th><th title=\"Any\">Any</th><th title=\"Any\">Any</th><th title=\"Any\">Any</th><th title=\"Any\">Any</th><th title=\"Any\">Any</th><th title=\"Any\">Any</th><th title=\"Any\">Any</th><th title=\"Any\">Any</th><th title=\"Any\">Any</th></tr></thead><tbody><tr><th>1</th><td>1st</td><td>2</td><td>0</td><td>73</td><td>43</td><td>Maine</td><td>1592</td><td>3</td><td>Dragoons</td></tr><tr><th>2</th><td>1st</td><td>1</td><td>1</td><td>37</td><td>234</td><td>Iowa</td><td>1006</td><td>4</td><td>Dragoons</td></tr><tr><th>3</th><td>2nd</td><td>2</td><td>0</td><td>949</td><td>523</td><td>Alaska</td><td>987</td><td>24</td><td>Dragoons</td></tr><tr><th>4</th><td>2nd</td><td>3</td><td>1</td><td>48</td><td>62</td><td>Washington</td><td>849</td><td>31</td><td>Dragoons</td></tr><tr><th>5</th><td>1st</td><td>2</td><td>0</td><td>48</td><td>62</td><td>Oregon</td><td>973</td><td>2</td><td>Scouts</td></tr><tr><th>6</th><td>1st</td><td>1</td><td>0</td><td>435</td><td>73</td><td>Wyoming</td><td>1005</td><td>3</td><td>Scouts</td></tr><tr><th>7</th><td>2nd</td><td>2</td><td>1</td><td>63</td><td>37</td><td>Louisana</td><td>1099</td><td>2</td><td>Scouts</td></tr><tr><th>8</th><td>2nd</td><td>3</td><td>1</td><td>345</td><td>35</td><td>Georgia</td><td>1523</td><td>3</td><td>Scouts</td></tr></tbody></table></div>"
            ],
            "text/plain": [
              "\u001b[1m8×10 DataFrame\u001b[0m\n",
              "\u001b[1m Row \u001b[0m│\u001b[1m company \u001b[0m\u001b[1m readiness \u001b[0m\u001b[1m armored \u001b[0m\u001b[1m veterans \u001b[0m\u001b[1m deaths \u001b[0m\u001b[1m origin     \u001b[0m\u001b[1m size \u001b[0m\u001b[1m desert\u001b[0m ⋯\n",
              "\u001b[1m     \u001b[0m│\u001b[90m Any     \u001b[0m\u001b[90m Any       \u001b[0m\u001b[90m Any     \u001b[0m\u001b[90m Any      \u001b[0m\u001b[90m Any    \u001b[0m\u001b[90m Any        \u001b[0m\u001b[90m Any  \u001b[0m\u001b[90m Any   \u001b[0m ⋯\n",
              "─────┼──────────────────────────────────────────────────────────────────────────\n",
              "   1 │ 1st      2          0        73        43      Maine       1592  3      ⋯\n",
              "   2 │ 1st      1          1        37        234     Iowa        1006  4\n",
              "   3 │ 2nd      2          0        949       523     Alaska      987   24\n",
              "   4 │ 2nd      3          1        48        62      Washington  849   31\n",
              "   5 │ 1st      2          0        48        62      Oregon      973   2      ⋯\n",
              "   6 │ 1st      1          0        435       73      Wyoming     1005  3\n",
              "   7 │ 2nd      2          1        63        37      Louisana    1099  2\n",
              "   8 │ 2nd      3          1        345       35      Georgia     1523  3\n",
              "\u001b[36m                                                               3 columns omitted\u001b[0m"
            ]
          },
          "metadata": {},
          "execution_count": 9
        }
      ]
    },
    {
      "cell_type": "markdown",
      "source": [
        "# Step 11. Select every row up to the 4th row and all columns"
      ],
      "metadata": {
        "id": "iisQ55TpyxTn"
      }
    },
    {
      "cell_type": "code",
      "source": [
        "army[1:4, :]"
      ],
      "metadata": {
        "colab": {
          "base_uri": "https://localhost:8080/",
          "height": 177
        },
        "id": "P3sB-LSmygi3",
        "outputId": "adc6cad3-1718-4b3b-bfdd-0a1f3488db48"
      },
      "execution_count": 10,
      "outputs": [
        {
          "output_type": "execute_result",
          "data": {
            "text/latex": "\\begin{tabular}{r|cccccccccc}\n\t& company & readiness & armored & veterans & deaths & origin & size & deserters & regiment & \\\\\n\t\\hline\n\t& Any & Any & Any & Any & Any & Any & Any & Any & Any & \\\\\n\t\\hline\n\t1 & 1st & 1 & 1 & 1 & 523 & Arizona & 1045 & 4 & Nighthawks & $\\dots$ \\\\\n\t2 & 1st & 2 & 0 & 5 & 52 & California & 957 & 24 & Nighthawks & $\\dots$ \\\\\n\t3 & 2nd & 3 & 1 & 62 & 25 & Texas & 1099 & 31 & Nighthawks & $\\dots$ \\\\\n\t4 & 2nd & 3 & 1 & 26 & 616 & Florida & 1400 & 2 & Nighthawks & $\\dots$ \\\\\n\\end{tabular}\n",
            "text/html": [
              "<div class=\"data-frame\"><p>4 rows × 10 columns (omitted printing of 1 columns)</p><table class=\"data-frame\"><thead><tr><th></th><th>company</th><th>readiness</th><th>armored</th><th>veterans</th><th>deaths</th><th>origin</th><th>size</th><th>deserters</th><th>regiment</th></tr><tr><th></th><th title=\"Any\">Any</th><th title=\"Any\">Any</th><th title=\"Any\">Any</th><th title=\"Any\">Any</th><th title=\"Any\">Any</th><th title=\"Any\">Any</th><th title=\"Any\">Any</th><th title=\"Any\">Any</th><th title=\"Any\">Any</th></tr></thead><tbody><tr><th>1</th><td>1st</td><td>1</td><td>1</td><td>1</td><td>523</td><td>Arizona</td><td>1045</td><td>4</td><td>Nighthawks</td></tr><tr><th>2</th><td>1st</td><td>2</td><td>0</td><td>5</td><td>52</td><td>California</td><td>957</td><td>24</td><td>Nighthawks</td></tr><tr><th>3</th><td>2nd</td><td>3</td><td>1</td><td>62</td><td>25</td><td>Texas</td><td>1099</td><td>31</td><td>Nighthawks</td></tr><tr><th>4</th><td>2nd</td><td>3</td><td>1</td><td>26</td><td>616</td><td>Florida</td><td>1400</td><td>2</td><td>Nighthawks</td></tr></tbody></table></div>"
            ],
            "text/plain": [
              "\u001b[1m4×10 DataFrame\u001b[0m\n",
              "\u001b[1m Row \u001b[0m│\u001b[1m company \u001b[0m\u001b[1m readiness \u001b[0m\u001b[1m armored \u001b[0m\u001b[1m veterans \u001b[0m\u001b[1m deaths \u001b[0m\u001b[1m origin     \u001b[0m\u001b[1m size \u001b[0m\u001b[1m desert\u001b[0m ⋯\n",
              "\u001b[1m     \u001b[0m│\u001b[90m Any     \u001b[0m\u001b[90m Any       \u001b[0m\u001b[90m Any     \u001b[0m\u001b[90m Any      \u001b[0m\u001b[90m Any    \u001b[0m\u001b[90m Any        \u001b[0m\u001b[90m Any  \u001b[0m\u001b[90m Any   \u001b[0m ⋯\n",
              "─────┼──────────────────────────────────────────────────────────────────────────\n",
              "   1 │ 1st      1          1        1         523     Arizona     1045  4      ⋯\n",
              "   2 │ 1st      2          0        5         52      California  957   24\n",
              "   3 │ 2nd      3          1        62        25      Texas       1099  31\n",
              "   4 │ 2nd      3          1        26        616     Florida     1400  2\n",
              "\u001b[36m                                                               3 columns omitted\u001b[0m"
            ]
          },
          "metadata": {},
          "execution_count": 10
        }
      ]
    },
    {
      "cell_type": "markdown",
      "source": [
        "# Step 12. Select the 3rd column up to the 7th column"
      ],
      "metadata": {
        "id": "6fOm_Pc7zOFo"
      }
    },
    {
      "cell_type": "code",
      "source": [
        "army[!, 3:7]"
      ],
      "metadata": {
        "colab": {
          "base_uri": "https://localhost:8080/",
          "height": 347
        },
        "id": "AXDq7sRxyuRO",
        "outputId": "50e6f1a6-56f8-4d8f-cc99-b96ecea46045"
      },
      "execution_count": 11,
      "outputs": [
        {
          "output_type": "execute_result",
          "data": {
            "text/latex": "\\begin{tabular}{r|ccccc}\n\t& armored & veterans & deaths & origin & size\\\\\n\t\\hline\n\t& Any & Any & Any & Any & Any\\\\\n\t\\hline\n\t1 & 1 & 1 & 523 & Arizona & 1045 \\\\\n\t2 & 0 & 5 & 52 & California & 957 \\\\\n\t3 & 1 & 62 & 25 & Texas & 1099 \\\\\n\t4 & 1 & 26 & 616 & Florida & 1400 \\\\\n\t5 & 0 & 73 & 43 & Maine & 1592 \\\\\n\t6 & 1 & 37 & 234 & Iowa & 1006 \\\\\n\t7 & 0 & 949 & 523 & Alaska & 987 \\\\\n\t8 & 1 & 48 & 62 & Washington & 849 \\\\\n\t9 & 0 & 48 & 62 & Oregon & 973 \\\\\n\t10 & 0 & 435 & 73 & Wyoming & 1005 \\\\\n\t11 & 1 & 63 & 37 & Louisana & 1099 \\\\\n\t12 & 1 & 345 & 35 & Georgia & 1523 \\\\\n\\end{tabular}\n",
            "text/html": [
              "<div class=\"data-frame\"><p>12 rows × 5 columns</p><table class=\"data-frame\"><thead><tr><th></th><th>armored</th><th>veterans</th><th>deaths</th><th>origin</th><th>size</th></tr><tr><th></th><th title=\"Any\">Any</th><th title=\"Any\">Any</th><th title=\"Any\">Any</th><th title=\"Any\">Any</th><th title=\"Any\">Any</th></tr></thead><tbody><tr><th>1</th><td>1</td><td>1</td><td>523</td><td>Arizona</td><td>1045</td></tr><tr><th>2</th><td>0</td><td>5</td><td>52</td><td>California</td><td>957</td></tr><tr><th>3</th><td>1</td><td>62</td><td>25</td><td>Texas</td><td>1099</td></tr><tr><th>4</th><td>1</td><td>26</td><td>616</td><td>Florida</td><td>1400</td></tr><tr><th>5</th><td>0</td><td>73</td><td>43</td><td>Maine</td><td>1592</td></tr><tr><th>6</th><td>1</td><td>37</td><td>234</td><td>Iowa</td><td>1006</td></tr><tr><th>7</th><td>0</td><td>949</td><td>523</td><td>Alaska</td><td>987</td></tr><tr><th>8</th><td>1</td><td>48</td><td>62</td><td>Washington</td><td>849</td></tr><tr><th>9</th><td>0</td><td>48</td><td>62</td><td>Oregon</td><td>973</td></tr><tr><th>10</th><td>0</td><td>435</td><td>73</td><td>Wyoming</td><td>1005</td></tr><tr><th>11</th><td>1</td><td>63</td><td>37</td><td>Louisana</td><td>1099</td></tr><tr><th>12</th><td>1</td><td>345</td><td>35</td><td>Georgia</td><td>1523</td></tr></tbody></table></div>"
            ],
            "text/plain": [
              "\u001b[1m12×5 DataFrame\u001b[0m\n",
              "\u001b[1m Row \u001b[0m│\u001b[1m armored \u001b[0m\u001b[1m veterans \u001b[0m\u001b[1m deaths \u001b[0m\u001b[1m origin     \u001b[0m\u001b[1m size \u001b[0m\n",
              "\u001b[1m     \u001b[0m│\u001b[90m Any     \u001b[0m\u001b[90m Any      \u001b[0m\u001b[90m Any    \u001b[0m\u001b[90m Any        \u001b[0m\u001b[90m Any  \u001b[0m\n",
              "─────┼─────────────────────────────────────────────\n",
              "   1 │ 1        1         523     Arizona     1045\n",
              "   2 │ 0        5         52      California  957\n",
              "   3 │ 1        62        25      Texas       1099\n",
              "   4 │ 1        26        616     Florida     1400\n",
              "   5 │ 0        73        43      Maine       1592\n",
              "   6 │ 1        37        234     Iowa        1006\n",
              "   7 │ 0        949       523     Alaska      987\n",
              "   8 │ 1        48        62      Washington  849\n",
              "   9 │ 0        48        62      Oregon      973\n",
              "  10 │ 0        435       73      Wyoming     1005\n",
              "  11 │ 1        63        37      Louisana    1099\n",
              "  12 │ 1        345       35      Georgia     1523"
            ]
          },
          "metadata": {},
          "execution_count": 11
        }
      ]
    },
    {
      "cell_type": "markdown",
      "source": [
        "# Step 13. Select rows where df.deaths is greater than 50"
      ],
      "metadata": {
        "id": "UX0751qY0Oo8"
      }
    },
    {
      "cell_type": "code",
      "source": [
        "filter(x -> x.deaths > 50, army)"
      ],
      "metadata": {
        "colab": {
          "base_uri": "https://localhost:8080/",
          "height": 262
        },
        "id": "qCxI5pdmzOkH",
        "outputId": "7037fd06-b85c-439d-dbe1-0d690dea6912"
      },
      "execution_count": 12,
      "outputs": [
        {
          "output_type": "execute_result",
          "data": {
            "text/latex": "\\begin{tabular}{r|cccccccccc}\n\t& company & readiness & armored & veterans & deaths & origin & size & deserters & regiment & \\\\\n\t\\hline\n\t& Any & Any & Any & Any & Any & Any & Any & Any & Any & \\\\\n\t\\hline\n\t1 & 1st & 1 & 1 & 1 & 523 & Arizona & 1045 & 4 & Nighthawks & $\\dots$ \\\\\n\t2 & 1st & 2 & 0 & 5 & 52 & California & 957 & 24 & Nighthawks & $\\dots$ \\\\\n\t3 & 2nd & 3 & 1 & 26 & 616 & Florida & 1400 & 2 & Nighthawks & $\\dots$ \\\\\n\t4 & 1st & 1 & 1 & 37 & 234 & Iowa & 1006 & 4 & Dragoons & $\\dots$ \\\\\n\t5 & 2nd & 2 & 0 & 949 & 523 & Alaska & 987 & 24 & Dragoons & $\\dots$ \\\\\n\t6 & 2nd & 3 & 1 & 48 & 62 & Washington & 849 & 31 & Dragoons & $\\dots$ \\\\\n\t7 & 1st & 2 & 0 & 48 & 62 & Oregon & 973 & 2 & Scouts & $\\dots$ \\\\\n\t8 & 1st & 1 & 0 & 435 & 73 & Wyoming & 1005 & 3 & Scouts & $\\dots$ \\\\\n\\end{tabular}\n",
            "text/html": [
              "<div class=\"data-frame\"><p>8 rows × 10 columns (omitted printing of 1 columns)</p><table class=\"data-frame\"><thead><tr><th></th><th>company</th><th>readiness</th><th>armored</th><th>veterans</th><th>deaths</th><th>origin</th><th>size</th><th>deserters</th><th>regiment</th></tr><tr><th></th><th title=\"Any\">Any</th><th title=\"Any\">Any</th><th title=\"Any\">Any</th><th title=\"Any\">Any</th><th title=\"Any\">Any</th><th title=\"Any\">Any</th><th title=\"Any\">Any</th><th title=\"Any\">Any</th><th title=\"Any\">Any</th></tr></thead><tbody><tr><th>1</th><td>1st</td><td>1</td><td>1</td><td>1</td><td>523</td><td>Arizona</td><td>1045</td><td>4</td><td>Nighthawks</td></tr><tr><th>2</th><td>1st</td><td>2</td><td>0</td><td>5</td><td>52</td><td>California</td><td>957</td><td>24</td><td>Nighthawks</td></tr><tr><th>3</th><td>2nd</td><td>3</td><td>1</td><td>26</td><td>616</td><td>Florida</td><td>1400</td><td>2</td><td>Nighthawks</td></tr><tr><th>4</th><td>1st</td><td>1</td><td>1</td><td>37</td><td>234</td><td>Iowa</td><td>1006</td><td>4</td><td>Dragoons</td></tr><tr><th>5</th><td>2nd</td><td>2</td><td>0</td><td>949</td><td>523</td><td>Alaska</td><td>987</td><td>24</td><td>Dragoons</td></tr><tr><th>6</th><td>2nd</td><td>3</td><td>1</td><td>48</td><td>62</td><td>Washington</td><td>849</td><td>31</td><td>Dragoons</td></tr><tr><th>7</th><td>1st</td><td>2</td><td>0</td><td>48</td><td>62</td><td>Oregon</td><td>973</td><td>2</td><td>Scouts</td></tr><tr><th>8</th><td>1st</td><td>1</td><td>0</td><td>435</td><td>73</td><td>Wyoming</td><td>1005</td><td>3</td><td>Scouts</td></tr></tbody></table></div>"
            ],
            "text/plain": [
              "\u001b[1m8×10 DataFrame\u001b[0m\n",
              "\u001b[1m Row \u001b[0m│\u001b[1m company \u001b[0m\u001b[1m readiness \u001b[0m\u001b[1m armored \u001b[0m\u001b[1m veterans \u001b[0m\u001b[1m deaths \u001b[0m\u001b[1m origin     \u001b[0m\u001b[1m size \u001b[0m\u001b[1m desert\u001b[0m ⋯\n",
              "\u001b[1m     \u001b[0m│\u001b[90m Any     \u001b[0m\u001b[90m Any       \u001b[0m\u001b[90m Any     \u001b[0m\u001b[90m Any      \u001b[0m\u001b[90m Any    \u001b[0m\u001b[90m Any        \u001b[0m\u001b[90m Any  \u001b[0m\u001b[90m Any   \u001b[0m ⋯\n",
              "─────┼──────────────────────────────────────────────────────────────────────────\n",
              "   1 │ 1st      1          1        1         523     Arizona     1045  4      ⋯\n",
              "   2 │ 1st      2          0        5         52      California  957   24\n",
              "   3 │ 2nd      3          1        26        616     Florida     1400  2\n",
              "   4 │ 1st      1          1        37        234     Iowa        1006  4\n",
              "   5 │ 2nd      2          0        949       523     Alaska      987   24     ⋯\n",
              "   6 │ 2nd      3          1        48        62      Washington  849   31\n",
              "   7 │ 1st      2          0        48        62      Oregon      973   2\n",
              "   8 │ 1st      1          0        435       73      Wyoming     1005  3\n",
              "\u001b[36m                                                               3 columns omitted\u001b[0m"
            ]
          },
          "metadata": {},
          "execution_count": 12
        }
      ]
    },
    {
      "cell_type": "markdown",
      "source": [
        "# Step 14. Select rows where df.deaths is greater than 500 or less than 50"
      ],
      "metadata": {
        "id": "gNAWS73pK5a3"
      }
    },
    {
      "cell_type": "code",
      "source": [
        "filter(x -> 50<x.deaths<500,army)"
      ],
      "metadata": {
        "id": "BijNlyu60eq9",
        "colab": {
          "base_uri": "https://localhost:8080/",
          "height": 198
        },
        "outputId": "55ead97e-a848-49be-ce67-193f5a9c9244"
      },
      "execution_count": 13,
      "outputs": [
        {
          "output_type": "execute_result",
          "data": {
            "text/latex": "\\begin{tabular}{r|cccccccccc}\n\t& company & readiness & armored & veterans & deaths & origin & size & deserters & regiment & \\\\\n\t\\hline\n\t& Any & Any & Any & Any & Any & Any & Any & Any & Any & \\\\\n\t\\hline\n\t1 & 1st & 2 & 0 & 5 & 52 & California & 957 & 24 & Nighthawks & $\\dots$ \\\\\n\t2 & 1st & 1 & 1 & 37 & 234 & Iowa & 1006 & 4 & Dragoons & $\\dots$ \\\\\n\t3 & 2nd & 3 & 1 & 48 & 62 & Washington & 849 & 31 & Dragoons & $\\dots$ \\\\\n\t4 & 1st & 2 & 0 & 48 & 62 & Oregon & 973 & 2 & Scouts & $\\dots$ \\\\\n\t5 & 1st & 1 & 0 & 435 & 73 & Wyoming & 1005 & 3 & Scouts & $\\dots$ \\\\\n\\end{tabular}\n",
            "text/html": [
              "<div class=\"data-frame\"><p>5 rows × 10 columns (omitted printing of 1 columns)</p><table class=\"data-frame\"><thead><tr><th></th><th>company</th><th>readiness</th><th>armored</th><th>veterans</th><th>deaths</th><th>origin</th><th>size</th><th>deserters</th><th>regiment</th></tr><tr><th></th><th title=\"Any\">Any</th><th title=\"Any\">Any</th><th title=\"Any\">Any</th><th title=\"Any\">Any</th><th title=\"Any\">Any</th><th title=\"Any\">Any</th><th title=\"Any\">Any</th><th title=\"Any\">Any</th><th title=\"Any\">Any</th></tr></thead><tbody><tr><th>1</th><td>1st</td><td>2</td><td>0</td><td>5</td><td>52</td><td>California</td><td>957</td><td>24</td><td>Nighthawks</td></tr><tr><th>2</th><td>1st</td><td>1</td><td>1</td><td>37</td><td>234</td><td>Iowa</td><td>1006</td><td>4</td><td>Dragoons</td></tr><tr><th>3</th><td>2nd</td><td>3</td><td>1</td><td>48</td><td>62</td><td>Washington</td><td>849</td><td>31</td><td>Dragoons</td></tr><tr><th>4</th><td>1st</td><td>2</td><td>0</td><td>48</td><td>62</td><td>Oregon</td><td>973</td><td>2</td><td>Scouts</td></tr><tr><th>5</th><td>1st</td><td>1</td><td>0</td><td>435</td><td>73</td><td>Wyoming</td><td>1005</td><td>3</td><td>Scouts</td></tr></tbody></table></div>"
            ],
            "text/plain": [
              "\u001b[1m5×10 DataFrame\u001b[0m\n",
              "\u001b[1m Row \u001b[0m│\u001b[1m company \u001b[0m\u001b[1m readiness \u001b[0m\u001b[1m armored \u001b[0m\u001b[1m veterans \u001b[0m\u001b[1m deaths \u001b[0m\u001b[1m origin     \u001b[0m\u001b[1m size \u001b[0m\u001b[1m desert\u001b[0m ⋯\n",
              "\u001b[1m     \u001b[0m│\u001b[90m Any     \u001b[0m\u001b[90m Any       \u001b[0m\u001b[90m Any     \u001b[0m\u001b[90m Any      \u001b[0m\u001b[90m Any    \u001b[0m\u001b[90m Any        \u001b[0m\u001b[90m Any  \u001b[0m\u001b[90m Any   \u001b[0m ⋯\n",
              "─────┼──────────────────────────────────────────────────────────────────────────\n",
              "   1 │ 1st      2          0        5         52      California  957   24     ⋯\n",
              "   2 │ 1st      1          1        37        234     Iowa        1006  4\n",
              "   3 │ 2nd      3          1        48        62      Washington  849   31\n",
              "   4 │ 1st      2          0        48        62      Oregon      973   2\n",
              "   5 │ 1st      1          0        435       73      Wyoming     1005  3      ⋯\n",
              "\u001b[36m                                                               3 columns omitted\u001b[0m"
            ]
          },
          "metadata": {},
          "execution_count": 13
        }
      ]
    },
    {
      "cell_type": "markdown",
      "source": [
        "# Step 15. Select all the regiments not named \"Dragoons\""
      ],
      "metadata": {
        "id": "0NarieN7LmrY"
      }
    },
    {
      "cell_type": "code",
      "source": [
        "filter(x -> x.regiment != \"Dragoons\", army)"
      ],
      "metadata": {
        "colab": {
          "base_uri": "https://localhost:8080/",
          "height": 262
        },
        "id": "xAPjdtGoK1JS",
        "outputId": "3bb9ab68-f104-4e25-9ce0-bc492af496b5"
      },
      "execution_count": 14,
      "outputs": [
        {
          "output_type": "execute_result",
          "data": {
            "text/latex": "\\begin{tabular}{r|cccccccccc}\n\t& company & readiness & armored & veterans & deaths & origin & size & deserters & regiment & \\\\\n\t\\hline\n\t& Any & Any & Any & Any & Any & Any & Any & Any & Any & \\\\\n\t\\hline\n\t1 & 1st & 1 & 1 & 1 & 523 & Arizona & 1045 & 4 & Nighthawks & $\\dots$ \\\\\n\t2 & 1st & 2 & 0 & 5 & 52 & California & 957 & 24 & Nighthawks & $\\dots$ \\\\\n\t3 & 2nd & 3 & 1 & 62 & 25 & Texas & 1099 & 31 & Nighthawks & $\\dots$ \\\\\n\t4 & 2nd & 3 & 1 & 26 & 616 & Florida & 1400 & 2 & Nighthawks & $\\dots$ \\\\\n\t5 & 1st & 2 & 0 & 48 & 62 & Oregon & 973 & 2 & Scouts & $\\dots$ \\\\\n\t6 & 1st & 1 & 0 & 435 & 73 & Wyoming & 1005 & 3 & Scouts & $\\dots$ \\\\\n\t7 & 2nd & 2 & 1 & 63 & 37 & Louisana & 1099 & 2 & Scouts & $\\dots$ \\\\\n\t8 & 2nd & 3 & 1 & 345 & 35 & Georgia & 1523 & 3 & Scouts & $\\dots$ \\\\\n\\end{tabular}\n",
            "text/html": [
              "<div class=\"data-frame\"><p>8 rows × 10 columns (omitted printing of 1 columns)</p><table class=\"data-frame\"><thead><tr><th></th><th>company</th><th>readiness</th><th>armored</th><th>veterans</th><th>deaths</th><th>origin</th><th>size</th><th>deserters</th><th>regiment</th></tr><tr><th></th><th title=\"Any\">Any</th><th title=\"Any\">Any</th><th title=\"Any\">Any</th><th title=\"Any\">Any</th><th title=\"Any\">Any</th><th title=\"Any\">Any</th><th title=\"Any\">Any</th><th title=\"Any\">Any</th><th title=\"Any\">Any</th></tr></thead><tbody><tr><th>1</th><td>1st</td><td>1</td><td>1</td><td>1</td><td>523</td><td>Arizona</td><td>1045</td><td>4</td><td>Nighthawks</td></tr><tr><th>2</th><td>1st</td><td>2</td><td>0</td><td>5</td><td>52</td><td>California</td><td>957</td><td>24</td><td>Nighthawks</td></tr><tr><th>3</th><td>2nd</td><td>3</td><td>1</td><td>62</td><td>25</td><td>Texas</td><td>1099</td><td>31</td><td>Nighthawks</td></tr><tr><th>4</th><td>2nd</td><td>3</td><td>1</td><td>26</td><td>616</td><td>Florida</td><td>1400</td><td>2</td><td>Nighthawks</td></tr><tr><th>5</th><td>1st</td><td>2</td><td>0</td><td>48</td><td>62</td><td>Oregon</td><td>973</td><td>2</td><td>Scouts</td></tr><tr><th>6</th><td>1st</td><td>1</td><td>0</td><td>435</td><td>73</td><td>Wyoming</td><td>1005</td><td>3</td><td>Scouts</td></tr><tr><th>7</th><td>2nd</td><td>2</td><td>1</td><td>63</td><td>37</td><td>Louisana</td><td>1099</td><td>2</td><td>Scouts</td></tr><tr><th>8</th><td>2nd</td><td>3</td><td>1</td><td>345</td><td>35</td><td>Georgia</td><td>1523</td><td>3</td><td>Scouts</td></tr></tbody></table></div>"
            ],
            "text/plain": [
              "\u001b[1m8×10 DataFrame\u001b[0m\n",
              "\u001b[1m Row \u001b[0m│\u001b[1m company \u001b[0m\u001b[1m readiness \u001b[0m\u001b[1m armored \u001b[0m\u001b[1m veterans \u001b[0m\u001b[1m deaths \u001b[0m\u001b[1m origin     \u001b[0m\u001b[1m size \u001b[0m\u001b[1m desert\u001b[0m ⋯\n",
              "\u001b[1m     \u001b[0m│\u001b[90m Any     \u001b[0m\u001b[90m Any       \u001b[0m\u001b[90m Any     \u001b[0m\u001b[90m Any      \u001b[0m\u001b[90m Any    \u001b[0m\u001b[90m Any        \u001b[0m\u001b[90m Any  \u001b[0m\u001b[90m Any   \u001b[0m ⋯\n",
              "─────┼──────────────────────────────────────────────────────────────────────────\n",
              "   1 │ 1st      1          1        1         523     Arizona     1045  4      ⋯\n",
              "   2 │ 1st      2          0        5         52      California  957   24\n",
              "   3 │ 2nd      3          1        62        25      Texas       1099  31\n",
              "   4 │ 2nd      3          1        26        616     Florida     1400  2\n",
              "   5 │ 1st      2          0        48        62      Oregon      973   2      ⋯\n",
              "   6 │ 1st      1          0        435       73      Wyoming     1005  3\n",
              "   7 │ 2nd      2          1        63        37      Louisana    1099  2\n",
              "   8 │ 2nd      3          1        345       35      Georgia     1523  3\n",
              "\u001b[36m                                                               3 columns omitted\u001b[0m"
            ]
          },
          "metadata": {},
          "execution_count": 14
        }
      ]
    },
    {
      "cell_type": "markdown",
      "source": [
        "# Step 16. Select the rows called Texas and Arizona"
      ],
      "metadata": {
        "id": "mVnN2MYQMRLt"
      }
    },
    {
      "cell_type": "code",
      "source": [
        "filter(x -> x[:origin] in [\"Texas\", \"Arizona\"], army)"
      ],
      "metadata": {
        "colab": {
          "base_uri": "https://localhost:8080/",
          "height": 134
        },
        "id": "tkOddfgZLj9d",
        "outputId": "f974e196-b8e4-4472-a09d-0dff1b6ccb92"
      },
      "execution_count": 15,
      "outputs": [
        {
          "output_type": "execute_result",
          "data": {
            "text/latex": "\\begin{tabular}{r|cccccccccc}\n\t& company & readiness & armored & veterans & deaths & origin & size & deserters & regiment & \\\\\n\t\\hline\n\t& Any & Any & Any & Any & Any & Any & Any & Any & Any & \\\\\n\t\\hline\n\t1 & 1st & 1 & 1 & 1 & 523 & Arizona & 1045 & 4 & Nighthawks & $\\dots$ \\\\\n\t2 & 2nd & 3 & 1 & 62 & 25 & Texas & 1099 & 31 & Nighthawks & $\\dots$ \\\\\n\\end{tabular}\n",
            "text/html": [
              "<div class=\"data-frame\"><p>2 rows × 10 columns (omitted printing of 1 columns)</p><table class=\"data-frame\"><thead><tr><th></th><th>company</th><th>readiness</th><th>armored</th><th>veterans</th><th>deaths</th><th>origin</th><th>size</th><th>deserters</th><th>regiment</th></tr><tr><th></th><th title=\"Any\">Any</th><th title=\"Any\">Any</th><th title=\"Any\">Any</th><th title=\"Any\">Any</th><th title=\"Any\">Any</th><th title=\"Any\">Any</th><th title=\"Any\">Any</th><th title=\"Any\">Any</th><th title=\"Any\">Any</th></tr></thead><tbody><tr><th>1</th><td>1st</td><td>1</td><td>1</td><td>1</td><td>523</td><td>Arizona</td><td>1045</td><td>4</td><td>Nighthawks</td></tr><tr><th>2</th><td>2nd</td><td>3</td><td>1</td><td>62</td><td>25</td><td>Texas</td><td>1099</td><td>31</td><td>Nighthawks</td></tr></tbody></table></div>"
            ],
            "text/plain": [
              "\u001b[1m2×10 DataFrame\u001b[0m\n",
              "\u001b[1m Row \u001b[0m│\u001b[1m company \u001b[0m\u001b[1m readiness \u001b[0m\u001b[1m armored \u001b[0m\u001b[1m veterans \u001b[0m\u001b[1m deaths \u001b[0m\u001b[1m origin  \u001b[0m\u001b[1m size \u001b[0m\u001b[1m deserters\u001b[0m ⋯\n",
              "\u001b[1m     \u001b[0m│\u001b[90m Any     \u001b[0m\u001b[90m Any       \u001b[0m\u001b[90m Any     \u001b[0m\u001b[90m Any      \u001b[0m\u001b[90m Any    \u001b[0m\u001b[90m Any     \u001b[0m\u001b[90m Any  \u001b[0m\u001b[90m Any      \u001b[0m ⋯\n",
              "─────┼──────────────────────────────────────────────────────────────────────────\n",
              "   1 │ 1st      1          1        1         523     Arizona  1045  4         ⋯\n",
              "   2 │ 2nd      3          1        62        25      Texas    1099  31\n",
              "\u001b[36m                                                               2 columns omitted\u001b[0m"
            ]
          },
          "metadata": {},
          "execution_count": 15
        }
      ]
    },
    {
      "cell_type": "markdown",
      "source": [
        "# Step 17. Select the third cell in the row named Arizona"
      ],
      "metadata": {
        "id": "0rAKosC2yt8G"
      }
    },
    {
      "cell_type": "code",
      "source": [
        "filter(x->x[:origin] == \"Arizona\",army)[!,3]"
      ],
      "metadata": {
        "id": "Bk_IKE3XL-iP",
        "colab": {
          "base_uri": "https://localhost:8080/"
        },
        "outputId": "69cba43d-8775-4c5d-e171-2bc0edc4cf1e"
      },
      "execution_count": 18,
      "outputs": [
        {
          "output_type": "execute_result",
          "data": {
            "text/plain": [
              "1-element Vector{Any}:\n",
              " 1"
            ]
          },
          "metadata": {},
          "execution_count": 18
        }
      ]
    },
    {
      "cell_type": "markdown",
      "source": [
        "# Step 18. Select the third cell down in the column named deaths"
      ],
      "metadata": {
        "id": "6IpJG_ue0Hdk"
      }
    },
    {
      "cell_type": "code",
      "source": [
        "army[!,:deaths][3]"
      ],
      "metadata": {
        "colab": {
          "base_uri": "https://localhost:8080/"
        },
        "id": "5_CtlEj-yvqd",
        "outputId": "70aafbc4-9196-40c6-d512-cc8b387077b9"
      },
      "execution_count": 19,
      "outputs": [
        {
          "output_type": "execute_result",
          "data": {
            "text/plain": [
              "25"
            ]
          },
          "metadata": {},
          "execution_count": 19
        }
      ]
    }
  ]
}