{
  "nbformat": 4,
  "nbformat_minor": 0,
  "metadata": {
    "colab": {
      "name": "02_Filtering_&_Sorting_Chipotle.ipynb",
      "provenance": [],
      "collapsed_sections": []
    },
    "kernelspec": {
      "display_name": "Julia",
      "language": "julia",
      "name": "julia"
    },
    "language_info": {
      "file_extension": ".jl",
      "mimetype": "application/julia",
      "name": "julia"
    }
  },
  "cells": [
    {
      "cell_type": "markdown",
      "metadata": {
        "id": "f_1dr-2W5iSU"
      },
      "source": [
        "# Getting Started with Julia in Colab/Jupyter\n",
        "You can either run this notebook in Google Colab, or using Jupyter on your own machine."
      ]
    },
    {
      "cell_type": "markdown",
      "metadata": {
        "id": "6ew60wXrZM0W"
      },
      "source": [
        "## Running on Google Colab\n",
        "1. Work on a copy of this notebook: _File_ > _Save a copy in Drive_ (you will need a Google account). Alternatively, you can download the notebook using _File_ > _Download .ipynb_, then upload it to [Colab](https://colab.research.google.com/).\n",
        "2. Execute the following cell (click on it and press Ctrl+Enter) to install Julia, IJulia (the Jupyter kernel for Julia) and other packages. You can update `JULIA_VERSION` and the other parameters, if you know what you're doing. Installation takes 2-3 minutes.\n",
        "3. Reload this page (press Ctrl+R, or ⌘+R, or the F5 key) and continue to the _Checking the Installation_ section.\n",
        "\n",
        "* _Note_: If your Colab Runtime gets reset (e.g., due to inactivity), repeat steps 2 and 3."
      ]
    },
    {
      "cell_type": "code",
      "metadata": {
        "id": "GIeFXS0F0zww",
        "colab": {
          "base_uri": "https://localhost:8080/"
        },
        "outputId": "b5d42b15-5f05-4e2a-deb1-4bc450612c34"
      },
      "source": [
        "%%shell\n",
        "set -e\n",
        "\n",
        "#---------------------------------------------------#\n",
        "JULIA_VERSION=\"1.6.0\" # any version ≥ 0.7.0\n",
        "JULIA_PACKAGES=\"IJulia DataFrames CSV Pipe\"\n",
        "JULIA_PACKAGES_IF_GPU=\"CUDA\"\n",
        "JULIA_NUM_THREADS=4\n",
        "#---------------------------------------------------#\n",
        "\n",
        "if [ -n \"$COLAB_GPU\" ] && [ -z `which julia` ]; then\n",
        "  # Install Julia\n",
        "  JULIA_VER=`cut -d '.' -f -2 <<< \"$JULIA_VERSION\"`\n",
        "  echo \"Installing Julia $JULIA_VERSION on the current Colab Runtime...\"\n",
        "  BASE_URL=\"https://julialang-s3.julialang.org/bin/linux/x64\"\n",
        "  URL=\"$BASE_URL/$JULIA_VER/julia-$JULIA_VERSION-linux-x86_64.tar.gz\"\n",
        "  wget -nv $URL -O /tmp/julia.tar.gz # -nv means \"not verbose\"\n",
        "  tar -x -f /tmp/julia.tar.gz -C /usr/local --strip-components 1\n",
        "  rm /tmp/julia.tar.gz\n",
        "\n",
        "  # Install Packages\n",
        "  if [ \"$COLAB_GPU\" = \"1\" ]; then\n",
        "      JULIA_PACKAGES=\"$JULIA_PACKAGES $JULIA_PACKAGES_IF_GPU\"\n",
        "  fi\n",
        "  for PKG in `echo $JULIA_PACKAGES`; do\n",
        "    echo \"Installing Julia package $PKG...\"\n",
        "    julia -e 'using Pkg; pkg\"add '$PKG'; precompile;\"' &> /dev/null\n",
        "  done\n",
        "\n",
        "  # Install kernel and rename it to \"julia\"\n",
        "  echo \"Installing IJulia kernel...\"\n",
        "  julia -e 'using IJulia; IJulia.installkernel(\"julia\", env=Dict(\n",
        "      \"JULIA_NUM_THREADS\"=>\"'\"$JULIA_NUM_THREADS\"'\"))'\n",
        "  KERNEL_DIR=`julia -e \"using IJulia; print(IJulia.kerneldir())\"`\n",
        "  KERNEL_NAME=`ls -d \"$KERNEL_DIR\"/julia*`\n",
        "  mv -f $KERNEL_NAME \"$KERNEL_DIR\"/julia  \n",
        "\n",
        "  echo ''\n",
        "  echo \"Successfully installed `julia -v`!\"\n",
        "  echo \"Please reload this page (press Ctrl+R, ⌘+R, or the F5 key) then\"\n",
        "  echo \"jump to the 'Checking the Installation' section.\"\n",
        "fi"
      ],
      "execution_count": null,
      "outputs": [
        {
          "output_type": "stream",
          "name": "stdout",
          "text": [
            "Installing Julia 1.6.0 on the current Colab Runtime...\n",
            "2022-01-09 12:01:53 URL:https://storage.googleapis.com/julialang2/bin/linux/x64/1.6/julia-1.6.0-linux-x86_64.tar.gz [112838927/112838927] -> \"/tmp/julia.tar.gz\" [1]\n",
            "Installing Julia package IJulia...\n",
            "Installing Julia package DataFrames...\n",
            "Installing Julia package CSV...\n",
            "Installing Julia package Pipe...\n",
            "Installing IJulia kernel...\n"
          ]
        }
      ]
    },
    {
      "cell_type": "markdown",
      "metadata": {
        "id": "-OS3Ac017T1i"
      },
      "source": [
        "## Checking the Installation\n",
        "The `versioninfo()` function should print your Julia version and some other info about the system (if you ever ask for help or file an issue about Julia, you should always provide this information)."
      ]
    },
    {
      "cell_type": "code",
      "metadata": {
        "id": "EEzvvzCl1i0F",
        "colab": {
          "base_uri": "https://localhost:8080/"
        },
        "outputId": "2249c7a8-5540-4fd3-96fc-647ac880b811"
      },
      "source": [
        "versioninfo()"
      ],
      "execution_count": 1,
      "outputs": [
        {
          "output_type": "stream",
          "name": "stdout",
          "text": [
            "Julia Version 1.6.0\n",
            "Commit f9720dc2eb (2021-03-24 12:55 UTC)\n",
            "Platform Info:\n",
            "  OS: Linux (x86_64-pc-linux-gnu)\n",
            "  CPU: Intel(R) Xeon(R) CPU @ 2.20GHz\n",
            "  WORD_SIZE: 64\n",
            "  LIBM: libopenlibm\n",
            "  LLVM: libLLVM-11.0.1 (ORCJIT, broadwell)\n",
            "Environment:\n",
            "  JULIA_NUM_THREADS = 4\n"
          ]
        }
      ]
    },
    {
      "cell_type": "markdown",
      "source": [
        "# Step 1. Import the necessary libraries"
      ],
      "metadata": {
        "id": "OIkcAHVkcqzv"
      }
    },
    {
      "cell_type": "code",
      "source": [
        "using DataFrames\n",
        "using CSV\n",
        "using Pipe\n",
        "\n",
        "ENV[\"column\"] = 20"
      ],
      "metadata": {
        "colab": {
          "base_uri": "https://localhost:8080/"
        },
        "id": "3Q_6XTfDcmyJ",
        "outputId": "58e77305-747f-4e4d-e41a-f0647d48333e"
      },
      "execution_count": 2,
      "outputs": [
        {
          "output_type": "execute_result",
          "data": {
            "text/plain": [
              "20"
            ]
          },
          "metadata": {},
          "execution_count": 2
        }
      ]
    },
    {
      "cell_type": "markdown",
      "source": [
        "# Step 2. Import the dataset from this [address](https://raw.githubusercontent.com/justmarkham/DAT8/master/data/chipotle.tsv).\n"
      ],
      "metadata": {
        "id": "KaciktNpdvu7"
      }
    },
    {
      "cell_type": "code",
      "source": [
        "URL = \"https://raw.githubusercontent.com/justmarkham/DAT8/master/data/chipotle.tsv\"\n",
        "download(URL, \"chipotle.tsv\")"
      ],
      "metadata": {
        "colab": {
          "base_uri": "https://localhost:8080/"
        },
        "id": "2xW7QEBodtoZ",
        "outputId": "0f8b3d0b-1dff-405e-b89b-68dde7b9e84d"
      },
      "execution_count": 3,
      "outputs": [
        {
          "output_type": "execute_result",
          "data": {
            "text/plain": [
              "\"chipotle.tsv\""
            ]
          },
          "metadata": {},
          "execution_count": 3
        }
      ]
    },
    {
      "cell_type": "markdown",
      "source": [
        "# Step 3. Assign it to a variable called chipo.\n"
      ],
      "metadata": {
        "id": "xj1XbdTZdy9t"
      }
    },
    {
      "cell_type": "code",
      "source": [
        "chipo = CSV.read(\"chipotle.tsv\", DataFrame, delim = \"\\t\")"
      ],
      "metadata": {
        "colab": {
          "base_uri": "https://localhost:8080/",
          "height": 753
        },
        "id": "J4W3C5JpdxCD",
        "outputId": "24774c70-4229-437e-c926-8f51c2350b20"
      },
      "execution_count": 4,
      "outputs": [
        {
          "output_type": "execute_result",
          "data": {
            "text/latex": "\\begin{tabular}{r|ccccc}\n\t& order\\_id & quantity & item\\_name & choice\\_description & \\\\\n\t\\hline\n\t& Int64 & Int64 & String & String & \\\\\n\t\\hline\n\t1 & 1 & 1 & Chips and Fresh Tomato Salsa & NULL & $\\dots$ \\\\\n\t2 & 1 & 1 & Izze & [Clementine] & $\\dots$ \\\\\n\t3 & 1 & 1 & Nantucket Nectar & [Apple] & $\\dots$ \\\\\n\t4 & 1 & 1 & Chips and Tomatillo-Green Chili Salsa & NULL & $\\dots$ \\\\\n\t5 & 2 & 2 & Chicken Bowl & [Tomatillo-Red Chili Salsa (Hot), [Black Beans, Rice, Cheese, Sour Cream]] & $\\dots$ \\\\\n\t6 & 3 & 1 & Chicken Bowl & [Fresh Tomato Salsa (Mild), [Rice, Cheese, Sour Cream, Guacamole, Lettuce]] & $\\dots$ \\\\\n\t7 & 3 & 1 & Side of Chips & NULL & $\\dots$ \\\\\n\t8 & 4 & 1 & Steak Burrito & [Tomatillo Red Chili Salsa, [Fajita Vegetables, Black Beans, Pinto Beans, Cheese, Sour Cream, Guacamole, Lettuce]] & $\\dots$ \\\\\n\t9 & 4 & 1 & Steak Soft Tacos & [Tomatillo Green Chili Salsa, [Pinto Beans, Cheese, Sour Cream, Lettuce]] & $\\dots$ \\\\\n\t10 & 5 & 1 & Steak Burrito & [Fresh Tomato Salsa, [Rice, Black Beans, Pinto Beans, Cheese, Sour Cream, Lettuce]] & $\\dots$ \\\\\n\t11 & 5 & 1 & Chips and Guacamole & NULL & $\\dots$ \\\\\n\t12 & 6 & 1 & Chicken Crispy Tacos & [Roasted Chili Corn Salsa, [Fajita Vegetables, Rice, Black Beans, Cheese, Sour Cream]] & $\\dots$ \\\\\n\t13 & 6 & 1 & Chicken Soft Tacos & [Roasted Chili Corn Salsa, [Rice, Black Beans, Cheese, Sour Cream]] & $\\dots$ \\\\\n\t14 & 7 & 1 & Chicken Bowl & [Fresh Tomato Salsa, [Fajita Vegetables, Rice, Cheese, Sour Cream, Guacamole]] & $\\dots$ \\\\\n\t15 & 7 & 1 & Chips and Guacamole & NULL & $\\dots$ \\\\\n\t16 & 8 & 1 & Chips and Tomatillo-Green Chili Salsa & NULL & $\\dots$ \\\\\n\t17 & 8 & 1 & Chicken Burrito & [Tomatillo-Green Chili Salsa (Medium), [Pinto Beans, Cheese, Sour Cream]] & $\\dots$ \\\\\n\t18 & 9 & 1 & Chicken Burrito & [Fresh Tomato Salsa (Mild), [Black Beans, Rice, Cheese, Sour Cream, Lettuce]] & $\\dots$ \\\\\n\t19 & 9 & 2 & Canned Soda & [Sprite] & $\\dots$ \\\\\n\t20 & 10 & 1 & Chicken Bowl & [Tomatillo Red Chili Salsa, [Fajita Vegetables, Black Beans, Sour Cream, Cheese, Lettuce]] & $\\dots$ \\\\\n\t21 & 10 & 1 & Chips and Guacamole & NULL & $\\dots$ \\\\\n\t22 & 11 & 1 & Barbacoa Burrito & [[Fresh Tomato Salsa (Mild), Tomatillo-Green Chili Salsa (Medium), Tomatillo-Red Chili Salsa (Hot)], [Rice, Cheese, Sour Cream, Lettuce]] & $\\dots$ \\\\\n\t23 & 11 & 1 & Nantucket Nectar & [Pomegranate Cherry] & $\\dots$ \\\\\n\t24 & 12 & 1 & Chicken Burrito & [[Tomatillo-Green Chili Salsa (Medium), Tomatillo-Red Chili Salsa (Hot)], [Pinto Beans, Rice, Cheese, Sour Cream, Guacamole, Lettuce]] & $\\dots$ \\\\\n\t25 & 12 & 1 & Izze & [Grapefruit] & $\\dots$ \\\\\n\t26 & 13 & 1 & Chips and Fresh Tomato Salsa & NULL & $\\dots$ \\\\\n\t27 & 13 & 1 & Chicken Bowl & [Roasted Chili Corn Salsa (Medium), [Pinto Beans, Rice, Fajita Veggies, Cheese, Sour Cream, Lettuce]] & $\\dots$ \\\\\n\t28 & 14 & 1 & Carnitas Burrito & [[Tomatillo-Green Chili Salsa (Medium), Roasted Chili Corn Salsa (Medium)], [Black Beans, Rice, Sour Cream, Lettuce]] & $\\dots$ \\\\\n\t29 & 14 & 1 & Canned Soda & [Dr. Pepper] & $\\dots$ \\\\\n\t30 & 15 & 1 & Chicken Burrito & [Tomatillo-Green Chili Salsa (Medium), [Pinto Beans, Rice, Cheese, Sour Cream]] & $\\dots$ \\\\\n\t$\\dots$ & $\\dots$ & $\\dots$ & $\\dots$ & $\\dots$ &  \\\\\n\\end{tabular}\n",
            "text/html": [
              "<div class=\"data-frame\"><p>4,622 rows × 5 columns (omitted printing of 1 columns)</p><table class=\"data-frame\"><thead><tr><th></th><th>order_id</th><th>quantity</th><th>item_name</th><th>choice_description</th></tr><tr><th></th><th title=\"Int64\">Int64</th><th title=\"Int64\">Int64</th><th title=\"String\">String</th><th title=\"String\">String</th></tr></thead><tbody><tr><th>1</th><td>1</td><td>1</td><td>Chips and Fresh Tomato Salsa</td><td>NULL</td></tr><tr><th>2</th><td>1</td><td>1</td><td>Izze</td><td>[Clementine]</td></tr><tr><th>3</th><td>1</td><td>1</td><td>Nantucket Nectar</td><td>[Apple]</td></tr><tr><th>4</th><td>1</td><td>1</td><td>Chips and Tomatillo-Green Chili Salsa</td><td>NULL</td></tr><tr><th>5</th><td>2</td><td>2</td><td>Chicken Bowl</td><td>[Tomatillo-Red Chili Salsa (Hot), [Black Beans, Rice, Cheese, Sour Cream]]</td></tr><tr><th>6</th><td>3</td><td>1</td><td>Chicken Bowl</td><td>[Fresh Tomato Salsa (Mild), [Rice, Cheese, Sour Cream, Guacamole, Lettuce]]</td></tr><tr><th>7</th><td>3</td><td>1</td><td>Side of Chips</td><td>NULL</td></tr><tr><th>8</th><td>4</td><td>1</td><td>Steak Burrito</td><td>[Tomatillo Red Chili Salsa, [Fajita Vegetables, Black Beans, Pinto Beans, Cheese, Sour Cream, Guacamole, Lettuce]]</td></tr><tr><th>9</th><td>4</td><td>1</td><td>Steak Soft Tacos</td><td>[Tomatillo Green Chili Salsa, [Pinto Beans, Cheese, Sour Cream, Lettuce]]</td></tr><tr><th>10</th><td>5</td><td>1</td><td>Steak Burrito</td><td>[Fresh Tomato Salsa, [Rice, Black Beans, Pinto Beans, Cheese, Sour Cream, Lettuce]]</td></tr><tr><th>11</th><td>5</td><td>1</td><td>Chips and Guacamole</td><td>NULL</td></tr><tr><th>12</th><td>6</td><td>1</td><td>Chicken Crispy Tacos</td><td>[Roasted Chili Corn Salsa, [Fajita Vegetables, Rice, Black Beans, Cheese, Sour Cream]]</td></tr><tr><th>13</th><td>6</td><td>1</td><td>Chicken Soft Tacos</td><td>[Roasted Chili Corn Salsa, [Rice, Black Beans, Cheese, Sour Cream]]</td></tr><tr><th>14</th><td>7</td><td>1</td><td>Chicken Bowl</td><td>[Fresh Tomato Salsa, [Fajita Vegetables, Rice, Cheese, Sour Cream, Guacamole]]</td></tr><tr><th>15</th><td>7</td><td>1</td><td>Chips and Guacamole</td><td>NULL</td></tr><tr><th>16</th><td>8</td><td>1</td><td>Chips and Tomatillo-Green Chili Salsa</td><td>NULL</td></tr><tr><th>17</th><td>8</td><td>1</td><td>Chicken Burrito</td><td>[Tomatillo-Green Chili Salsa (Medium), [Pinto Beans, Cheese, Sour Cream]]</td></tr><tr><th>18</th><td>9</td><td>1</td><td>Chicken Burrito</td><td>[Fresh Tomato Salsa (Mild), [Black Beans, Rice, Cheese, Sour Cream, Lettuce]]</td></tr><tr><th>19</th><td>9</td><td>2</td><td>Canned Soda</td><td>[Sprite]</td></tr><tr><th>20</th><td>10</td><td>1</td><td>Chicken Bowl</td><td>[Tomatillo Red Chili Salsa, [Fajita Vegetables, Black Beans, Sour Cream, Cheese, Lettuce]]</td></tr><tr><th>21</th><td>10</td><td>1</td><td>Chips and Guacamole</td><td>NULL</td></tr><tr><th>22</th><td>11</td><td>1</td><td>Barbacoa Burrito</td><td>[[Fresh Tomato Salsa (Mild), Tomatillo-Green Chili Salsa (Medium), Tomatillo-Red Chili Salsa (Hot)], [Rice, Cheese, Sour Cream, Lettuce]]</td></tr><tr><th>23</th><td>11</td><td>1</td><td>Nantucket Nectar</td><td>[Pomegranate Cherry]</td></tr><tr><th>24</th><td>12</td><td>1</td><td>Chicken Burrito</td><td>[[Tomatillo-Green Chili Salsa (Medium), Tomatillo-Red Chili Salsa (Hot)], [Pinto Beans, Rice, Cheese, Sour Cream, Guacamole, Lettuce]]</td></tr><tr><th>25</th><td>12</td><td>1</td><td>Izze</td><td>[Grapefruit]</td></tr><tr><th>26</th><td>13</td><td>1</td><td>Chips and Fresh Tomato Salsa</td><td>NULL</td></tr><tr><th>27</th><td>13</td><td>1</td><td>Chicken Bowl</td><td>[Roasted Chili Corn Salsa (Medium), [Pinto Beans, Rice, Fajita Veggies, Cheese, Sour Cream, Lettuce]]</td></tr><tr><th>28</th><td>14</td><td>1</td><td>Carnitas Burrito</td><td>[[Tomatillo-Green Chili Salsa (Medium), Roasted Chili Corn Salsa (Medium)], [Black Beans, Rice, Sour Cream, Lettuce]]</td></tr><tr><th>29</th><td>14</td><td>1</td><td>Canned Soda</td><td>[Dr. Pepper]</td></tr><tr><th>30</th><td>15</td><td>1</td><td>Chicken Burrito</td><td>[Tomatillo-Green Chili Salsa (Medium), [Pinto Beans, Rice, Cheese, Sour Cream]]</td></tr><tr><th>&vellip;</th><td>&vellip;</td><td>&vellip;</td><td>&vellip;</td><td>&vellip;</td></tr></tbody></table></div>"
            ],
            "text/plain": [
              "\u001b[1m4622×5 DataFrame\u001b[0m\n",
              "\u001b[1m  Row \u001b[0m│\u001b[1m order_id \u001b[0m\u001b[1m quantity \u001b[0m\u001b[1m item_name                         \u001b[0m\u001b[1m choice_descript\u001b[0m ⋯\n",
              "\u001b[1m      \u001b[0m│\u001b[90m Int64    \u001b[0m\u001b[90m Int64    \u001b[0m\u001b[90m String                            \u001b[0m\u001b[90m String         \u001b[0m ⋯\n",
              "──────┼─────────────────────────────────────────────────────────────────────────\n",
              "    1 │        1         1  Chips and Fresh Tomato Salsa       NULL            ⋯\n",
              "    2 │        1         1  Izze                               [Clementine]\n",
              "    3 │        1         1  Nantucket Nectar                   [Apple]\n",
              "    4 │        1         1  Chips and Tomatillo-Green Chili …  NULL\n",
              "    5 │        2         2  Chicken Bowl                       [Tomatillo-Red  ⋯\n",
              "    6 │        3         1  Chicken Bowl                       [Fresh Tomato S\n",
              "    7 │        3         1  Side of Chips                      NULL\n",
              "    8 │        4         1  Steak Burrito                      [Tomatillo Red\n",
              "    9 │        4         1  Steak Soft Tacos                   [Tomatillo Gree ⋯\n",
              "   10 │        5         1  Steak Burrito                      [Fresh Tomato S\n",
              "   11 │        5         1  Chips and Guacamole                NULL\n",
              "  ⋮   │    ⋮         ⋮                      ⋮                                  ⋱\n",
              " 4613 │     1831         1  Carnitas Bowl                      [Fresh Tomato S\n",
              " 4614 │     1831         1  Chips                              NULL            ⋯\n",
              " 4615 │     1831         1  Bottled Water                      NULL\n",
              " 4616 │     1832         1  Chicken Soft Tacos                 [Fresh Tomato S\n",
              " 4617 │     1832         1  Chips and Guacamole                NULL\n",
              " 4618 │     1833         1  Steak Burrito                      [Fresh Tomato S ⋯\n",
              " 4619 │     1833         1  Steak Burrito                      [Fresh Tomato S\n",
              " 4620 │     1834         1  Chicken Salad Bowl                 [Fresh Tomato S\n",
              " 4621 │     1834         1  Chicken Salad Bowl                 [Fresh Tomato S\n",
              " 4622 │     1834         1  Chicken Salad Bowl                 [Fresh Tomato S ⋯\n",
              "\u001b[36m                                                 2 columns and 4601 rows omitted\u001b[0m"
            ]
          },
          "metadata": {},
          "execution_count": 4
        }
      ]
    },
    {
      "cell_type": "markdown",
      "source": [
        "# Step 4. How many products cost more than $10.00?\n"
      ],
      "metadata": {
        "id": "Cux15zJUflPB"
      }
    },
    {
      "cell_type": "code",
      "source": [
        "# Clean the $ before the price\n",
        "transform!(chipo, :item_price => ByRow(x -> parse(Float32, x[2:end])) => :item_price)"
      ],
      "metadata": {
        "colab": {
          "base_uri": "https://localhost:8080/",
          "height": 753
        },
        "id": "hASVDCSDeZG1",
        "outputId": "f922b052-d8af-4be6-ca88-9efbf963a6ee"
      },
      "execution_count": 5,
      "outputs": [
        {
          "output_type": "execute_result",
          "data": {
            "text/latex": "\\begin{tabular}{r|ccccc}\n\t& order\\_id & quantity & item\\_name & choice\\_description & \\\\\n\t\\hline\n\t& Int64 & Int64 & String & String & \\\\\n\t\\hline\n\t1 & 1 & 1 & Chips and Fresh Tomato Salsa & NULL & $\\dots$ \\\\\n\t2 & 1 & 1 & Izze & [Clementine] & $\\dots$ \\\\\n\t3 & 1 & 1 & Nantucket Nectar & [Apple] & $\\dots$ \\\\\n\t4 & 1 & 1 & Chips and Tomatillo-Green Chili Salsa & NULL & $\\dots$ \\\\\n\t5 & 2 & 2 & Chicken Bowl & [Tomatillo-Red Chili Salsa (Hot), [Black Beans, Rice, Cheese, Sour Cream]] & $\\dots$ \\\\\n\t6 & 3 & 1 & Chicken Bowl & [Fresh Tomato Salsa (Mild), [Rice, Cheese, Sour Cream, Guacamole, Lettuce]] & $\\dots$ \\\\\n\t7 & 3 & 1 & Side of Chips & NULL & $\\dots$ \\\\\n\t8 & 4 & 1 & Steak Burrito & [Tomatillo Red Chili Salsa, [Fajita Vegetables, Black Beans, Pinto Beans, Cheese, Sour Cream, Guacamole, Lettuce]] & $\\dots$ \\\\\n\t9 & 4 & 1 & Steak Soft Tacos & [Tomatillo Green Chili Salsa, [Pinto Beans, Cheese, Sour Cream, Lettuce]] & $\\dots$ \\\\\n\t10 & 5 & 1 & Steak Burrito & [Fresh Tomato Salsa, [Rice, Black Beans, Pinto Beans, Cheese, Sour Cream, Lettuce]] & $\\dots$ \\\\\n\t11 & 5 & 1 & Chips and Guacamole & NULL & $\\dots$ \\\\\n\t12 & 6 & 1 & Chicken Crispy Tacos & [Roasted Chili Corn Salsa, [Fajita Vegetables, Rice, Black Beans, Cheese, Sour Cream]] & $\\dots$ \\\\\n\t13 & 6 & 1 & Chicken Soft Tacos & [Roasted Chili Corn Salsa, [Rice, Black Beans, Cheese, Sour Cream]] & $\\dots$ \\\\\n\t14 & 7 & 1 & Chicken Bowl & [Fresh Tomato Salsa, [Fajita Vegetables, Rice, Cheese, Sour Cream, Guacamole]] & $\\dots$ \\\\\n\t15 & 7 & 1 & Chips and Guacamole & NULL & $\\dots$ \\\\\n\t16 & 8 & 1 & Chips and Tomatillo-Green Chili Salsa & NULL & $\\dots$ \\\\\n\t17 & 8 & 1 & Chicken Burrito & [Tomatillo-Green Chili Salsa (Medium), [Pinto Beans, Cheese, Sour Cream]] & $\\dots$ \\\\\n\t18 & 9 & 1 & Chicken Burrito & [Fresh Tomato Salsa (Mild), [Black Beans, Rice, Cheese, Sour Cream, Lettuce]] & $\\dots$ \\\\\n\t19 & 9 & 2 & Canned Soda & [Sprite] & $\\dots$ \\\\\n\t20 & 10 & 1 & Chicken Bowl & [Tomatillo Red Chili Salsa, [Fajita Vegetables, Black Beans, Sour Cream, Cheese, Lettuce]] & $\\dots$ \\\\\n\t21 & 10 & 1 & Chips and Guacamole & NULL & $\\dots$ \\\\\n\t22 & 11 & 1 & Barbacoa Burrito & [[Fresh Tomato Salsa (Mild), Tomatillo-Green Chili Salsa (Medium), Tomatillo-Red Chili Salsa (Hot)], [Rice, Cheese, Sour Cream, Lettuce]] & $\\dots$ \\\\\n\t23 & 11 & 1 & Nantucket Nectar & [Pomegranate Cherry] & $\\dots$ \\\\\n\t24 & 12 & 1 & Chicken Burrito & [[Tomatillo-Green Chili Salsa (Medium), Tomatillo-Red Chili Salsa (Hot)], [Pinto Beans, Rice, Cheese, Sour Cream, Guacamole, Lettuce]] & $\\dots$ \\\\\n\t25 & 12 & 1 & Izze & [Grapefruit] & $\\dots$ \\\\\n\t26 & 13 & 1 & Chips and Fresh Tomato Salsa & NULL & $\\dots$ \\\\\n\t27 & 13 & 1 & Chicken Bowl & [Roasted Chili Corn Salsa (Medium), [Pinto Beans, Rice, Fajita Veggies, Cheese, Sour Cream, Lettuce]] & $\\dots$ \\\\\n\t28 & 14 & 1 & Carnitas Burrito & [[Tomatillo-Green Chili Salsa (Medium), Roasted Chili Corn Salsa (Medium)], [Black Beans, Rice, Sour Cream, Lettuce]] & $\\dots$ \\\\\n\t29 & 14 & 1 & Canned Soda & [Dr. Pepper] & $\\dots$ \\\\\n\t30 & 15 & 1 & Chicken Burrito & [Tomatillo-Green Chili Salsa (Medium), [Pinto Beans, Rice, Cheese, Sour Cream]] & $\\dots$ \\\\\n\t$\\dots$ & $\\dots$ & $\\dots$ & $\\dots$ & $\\dots$ &  \\\\\n\\end{tabular}\n",
            "text/html": [
              "<div class=\"data-frame\"><p>4,622 rows × 5 columns (omitted printing of 1 columns)</p><table class=\"data-frame\"><thead><tr><th></th><th>order_id</th><th>quantity</th><th>item_name</th><th>choice_description</th></tr><tr><th></th><th title=\"Int64\">Int64</th><th title=\"Int64\">Int64</th><th title=\"String\">String</th><th title=\"String\">String</th></tr></thead><tbody><tr><th>1</th><td>1</td><td>1</td><td>Chips and Fresh Tomato Salsa</td><td>NULL</td></tr><tr><th>2</th><td>1</td><td>1</td><td>Izze</td><td>[Clementine]</td></tr><tr><th>3</th><td>1</td><td>1</td><td>Nantucket Nectar</td><td>[Apple]</td></tr><tr><th>4</th><td>1</td><td>1</td><td>Chips and Tomatillo-Green Chili Salsa</td><td>NULL</td></tr><tr><th>5</th><td>2</td><td>2</td><td>Chicken Bowl</td><td>[Tomatillo-Red Chili Salsa (Hot), [Black Beans, Rice, Cheese, Sour Cream]]</td></tr><tr><th>6</th><td>3</td><td>1</td><td>Chicken Bowl</td><td>[Fresh Tomato Salsa (Mild), [Rice, Cheese, Sour Cream, Guacamole, Lettuce]]</td></tr><tr><th>7</th><td>3</td><td>1</td><td>Side of Chips</td><td>NULL</td></tr><tr><th>8</th><td>4</td><td>1</td><td>Steak Burrito</td><td>[Tomatillo Red Chili Salsa, [Fajita Vegetables, Black Beans, Pinto Beans, Cheese, Sour Cream, Guacamole, Lettuce]]</td></tr><tr><th>9</th><td>4</td><td>1</td><td>Steak Soft Tacos</td><td>[Tomatillo Green Chili Salsa, [Pinto Beans, Cheese, Sour Cream, Lettuce]]</td></tr><tr><th>10</th><td>5</td><td>1</td><td>Steak Burrito</td><td>[Fresh Tomato Salsa, [Rice, Black Beans, Pinto Beans, Cheese, Sour Cream, Lettuce]]</td></tr><tr><th>11</th><td>5</td><td>1</td><td>Chips and Guacamole</td><td>NULL</td></tr><tr><th>12</th><td>6</td><td>1</td><td>Chicken Crispy Tacos</td><td>[Roasted Chili Corn Salsa, [Fajita Vegetables, Rice, Black Beans, Cheese, Sour Cream]]</td></tr><tr><th>13</th><td>6</td><td>1</td><td>Chicken Soft Tacos</td><td>[Roasted Chili Corn Salsa, [Rice, Black Beans, Cheese, Sour Cream]]</td></tr><tr><th>14</th><td>7</td><td>1</td><td>Chicken Bowl</td><td>[Fresh Tomato Salsa, [Fajita Vegetables, Rice, Cheese, Sour Cream, Guacamole]]</td></tr><tr><th>15</th><td>7</td><td>1</td><td>Chips and Guacamole</td><td>NULL</td></tr><tr><th>16</th><td>8</td><td>1</td><td>Chips and Tomatillo-Green Chili Salsa</td><td>NULL</td></tr><tr><th>17</th><td>8</td><td>1</td><td>Chicken Burrito</td><td>[Tomatillo-Green Chili Salsa (Medium), [Pinto Beans, Cheese, Sour Cream]]</td></tr><tr><th>18</th><td>9</td><td>1</td><td>Chicken Burrito</td><td>[Fresh Tomato Salsa (Mild), [Black Beans, Rice, Cheese, Sour Cream, Lettuce]]</td></tr><tr><th>19</th><td>9</td><td>2</td><td>Canned Soda</td><td>[Sprite]</td></tr><tr><th>20</th><td>10</td><td>1</td><td>Chicken Bowl</td><td>[Tomatillo Red Chili Salsa, [Fajita Vegetables, Black Beans, Sour Cream, Cheese, Lettuce]]</td></tr><tr><th>21</th><td>10</td><td>1</td><td>Chips and Guacamole</td><td>NULL</td></tr><tr><th>22</th><td>11</td><td>1</td><td>Barbacoa Burrito</td><td>[[Fresh Tomato Salsa (Mild), Tomatillo-Green Chili Salsa (Medium), Tomatillo-Red Chili Salsa (Hot)], [Rice, Cheese, Sour Cream, Lettuce]]</td></tr><tr><th>23</th><td>11</td><td>1</td><td>Nantucket Nectar</td><td>[Pomegranate Cherry]</td></tr><tr><th>24</th><td>12</td><td>1</td><td>Chicken Burrito</td><td>[[Tomatillo-Green Chili Salsa (Medium), Tomatillo-Red Chili Salsa (Hot)], [Pinto Beans, Rice, Cheese, Sour Cream, Guacamole, Lettuce]]</td></tr><tr><th>25</th><td>12</td><td>1</td><td>Izze</td><td>[Grapefruit]</td></tr><tr><th>26</th><td>13</td><td>1</td><td>Chips and Fresh Tomato Salsa</td><td>NULL</td></tr><tr><th>27</th><td>13</td><td>1</td><td>Chicken Bowl</td><td>[Roasted Chili Corn Salsa (Medium), [Pinto Beans, Rice, Fajita Veggies, Cheese, Sour Cream, Lettuce]]</td></tr><tr><th>28</th><td>14</td><td>1</td><td>Carnitas Burrito</td><td>[[Tomatillo-Green Chili Salsa (Medium), Roasted Chili Corn Salsa (Medium)], [Black Beans, Rice, Sour Cream, Lettuce]]</td></tr><tr><th>29</th><td>14</td><td>1</td><td>Canned Soda</td><td>[Dr. Pepper]</td></tr><tr><th>30</th><td>15</td><td>1</td><td>Chicken Burrito</td><td>[Tomatillo-Green Chili Salsa (Medium), [Pinto Beans, Rice, Cheese, Sour Cream]]</td></tr><tr><th>&vellip;</th><td>&vellip;</td><td>&vellip;</td><td>&vellip;</td><td>&vellip;</td></tr></tbody></table></div>"
            ],
            "text/plain": [
              "\u001b[1m4622×5 DataFrame\u001b[0m\n",
              "\u001b[1m  Row \u001b[0m│\u001b[1m order_id \u001b[0m\u001b[1m quantity \u001b[0m\u001b[1m item_name                         \u001b[0m\u001b[1m choice_descript\u001b[0m ⋯\n",
              "\u001b[1m      \u001b[0m│\u001b[90m Int64    \u001b[0m\u001b[90m Int64    \u001b[0m\u001b[90m String                            \u001b[0m\u001b[90m String         \u001b[0m ⋯\n",
              "──────┼─────────────────────────────────────────────────────────────────────────\n",
              "    1 │        1         1  Chips and Fresh Tomato Salsa       NULL            ⋯\n",
              "    2 │        1         1  Izze                               [Clementine]\n",
              "    3 │        1         1  Nantucket Nectar                   [Apple]\n",
              "    4 │        1         1  Chips and Tomatillo-Green Chili …  NULL\n",
              "    5 │        2         2  Chicken Bowl                       [Tomatillo-Red  ⋯\n",
              "    6 │        3         1  Chicken Bowl                       [Fresh Tomato S\n",
              "    7 │        3         1  Side of Chips                      NULL\n",
              "    8 │        4         1  Steak Burrito                      [Tomatillo Red\n",
              "    9 │        4         1  Steak Soft Tacos                   [Tomatillo Gree ⋯\n",
              "   10 │        5         1  Steak Burrito                      [Fresh Tomato S\n",
              "   11 │        5         1  Chips and Guacamole                NULL\n",
              "  ⋮   │    ⋮         ⋮                      ⋮                                  ⋱\n",
              " 4613 │     1831         1  Carnitas Bowl                      [Fresh Tomato S\n",
              " 4614 │     1831         1  Chips                              NULL            ⋯\n",
              " 4615 │     1831         1  Bottled Water                      NULL\n",
              " 4616 │     1832         1  Chicken Soft Tacos                 [Fresh Tomato S\n",
              " 4617 │     1832         1  Chips and Guacamole                NULL\n",
              " 4618 │     1833         1  Steak Burrito                      [Fresh Tomato S ⋯\n",
              " 4619 │     1833         1  Steak Burrito                      [Fresh Tomato S\n",
              " 4620 │     1834         1  Chicken Salad Bowl                 [Fresh Tomato S\n",
              " 4621 │     1834         1  Chicken Salad Bowl                 [Fresh Tomato S\n",
              " 4622 │     1834         1  Chicken Salad Bowl                 [Fresh Tomato S ⋯\n",
              "\u001b[36m                                                 2 columns and 4601 rows omitted\u001b[0m"
            ]
          },
          "metadata": {},
          "execution_count": 5
        }
      ]
    },
    {
      "cell_type": "code",
      "source": [
        "greater_than10 = filter([:quantity, :item_price] => (x, y) -> x == 1 && y > 10, chipo)\n",
        "unique(greater_than10[!,:item_name])"
      ],
      "metadata": {
        "colab": {
          "base_uri": "https://localhost:8080/"
        },
        "id": "2MiqjKCxiKfu",
        "outputId": "ff47e27b-182c-4aa8-feea-a16388b2eea5"
      },
      "execution_count": 6,
      "outputs": [
        {
          "output_type": "execute_result",
          "data": {
            "text/plain": [
              "25-element Vector{String}:\n",
              " \"Chicken Bowl\"\n",
              " \"Steak Burrito\"\n",
              " \"Chicken Burrito\"\n",
              " \"Barbacoa Bowl\"\n",
              " \"Veggie Burrito\"\n",
              " \"Veggie Bowl\"\n",
              " \"Chicken Soft Tacos\"\n",
              " \"Steak Bowl\"\n",
              " \"Carnitas Burrito\"\n",
              " \"Carnitas Bowl\"\n",
              " \"Barbacoa Burrito\"\n",
              " \"Barbacoa Crispy Tacos\"\n",
              " \"Veggie Salad Bowl\"\n",
              " \"Chicken Salad\"\n",
              " \"Chicken Crispy Tacos\"\n",
              " \"Steak Salad Bowl\"\n",
              " \"Veggie Soft Tacos\"\n",
              " \"Barbacoa Soft Tacos\"\n",
              " \"Carnitas Crispy Tacos\"\n",
              " \"Carnitas Salad Bowl\"\n",
              " \"Chicken Salad Bowl\"\n",
              " \"Barbacoa Salad Bowl\"\n",
              " \"Steak Soft Tacos\"\n",
              " \"Carnitas Soft Tacos\"\n",
              " \"Steak Crispy Tacos\""
            ]
          },
          "metadata": {},
          "execution_count": 6
        }
      ]
    },
    {
      "cell_type": "markdown",
      "source": [
        "# Step 5. What is the price of each item?\n",
        "print a data frame with only two columns item_name and item_price"
      ],
      "metadata": {
        "id": "iKqEOZB-nAp0"
      }
    },
    {
      "cell_type": "code",
      "source": [
        "items = chipo[chipo.quantity .== 1, [:item_name, :item_price]]\n",
        "unique(items,1)"
      ],
      "metadata": {
        "colab": {
          "base_uri": "https://localhost:8080/",
          "height": 753
        },
        "id": "-E6nV8jWvfSZ",
        "outputId": "030222be-6d38-48f3-cb66-33735f145247"
      },
      "execution_count": 15,
      "outputs": [
        {
          "output_type": "execute_result",
          "data": {
            "text/latex": "\\begin{tabular}{r|cc}\n\t& item\\_name & item\\_price\\\\\n\t\\hline\n\t& String & Float32\\\\\n\t\\hline\n\t1 & Chips and Fresh Tomato Salsa & 2.39 \\\\\n\t2 & Izze & 3.39 \\\\\n\t3 & Nantucket Nectar & 3.39 \\\\\n\t4 & Chips and Tomatillo-Green Chili Salsa & 2.39 \\\\\n\t5 & Chicken Bowl & 10.98 \\\\\n\t6 & Side of Chips & 1.69 \\\\\n\t7 & Steak Burrito & 11.75 \\\\\n\t8 & Steak Soft Tacos & 9.25 \\\\\n\t9 & Chips and Guacamole & 4.45 \\\\\n\t10 & Chicken Crispy Tacos & 8.75 \\\\\n\t11 & Chicken Soft Tacos & 8.75 \\\\\n\t12 & Chicken Burrito & 8.49 \\\\\n\t13 & Barbacoa Burrito & 8.99 \\\\\n\t14 & Carnitas Burrito & 8.99 \\\\\n\t15 & Canned Soda & 1.09 \\\\\n\t16 & Carnitas Bowl & 8.99 \\\\\n\t17 & Bottled Water & 1.09 \\\\\n\t18 & Chips and Tomatillo Green Chili Salsa & 2.95 \\\\\n\t19 & Barbacoa Bowl & 11.75 \\\\\n\t20 & Chips & 2.15 \\\\\n\t21 & Chicken Salad Bowl & 8.75 \\\\\n\t22 & Steak Bowl & 8.99 \\\\\n\t23 & Barbacoa Soft Tacos & 9.25 \\\\\n\t24 & Veggie Burrito & 11.25 \\\\\n\t25 & Veggie Bowl & 11.25 \\\\\n\t26 & Steak Crispy Tacos & 9.25 \\\\\n\t27 & Chips and Tomatillo Red Chili Salsa & 2.95 \\\\\n\t28 & Barbacoa Crispy Tacos & 11.75 \\\\\n\t29 & Veggie Salad Bowl & 11.25 \\\\\n\t30 & Chips and Roasted Chili-Corn Salsa & 2.39 \\\\\n\t$\\dots$ & $\\dots$ & $\\dots$ \\\\\n\\end{tabular}\n",
            "text/html": [
              "<div class=\"data-frame\"><p>50 rows × 2 columns</p><table class=\"data-frame\"><thead><tr><th></th><th>item_name</th><th>item_price</th></tr><tr><th></th><th title=\"String\">String</th><th title=\"Float32\">Float32</th></tr></thead><tbody><tr><th>1</th><td>Chips and Fresh Tomato Salsa</td><td>2.39</td></tr><tr><th>2</th><td>Izze</td><td>3.39</td></tr><tr><th>3</th><td>Nantucket Nectar</td><td>3.39</td></tr><tr><th>4</th><td>Chips and Tomatillo-Green Chili Salsa</td><td>2.39</td></tr><tr><th>5</th><td>Chicken Bowl</td><td>10.98</td></tr><tr><th>6</th><td>Side of Chips</td><td>1.69</td></tr><tr><th>7</th><td>Steak Burrito</td><td>11.75</td></tr><tr><th>8</th><td>Steak Soft Tacos</td><td>9.25</td></tr><tr><th>9</th><td>Chips and Guacamole</td><td>4.45</td></tr><tr><th>10</th><td>Chicken Crispy Tacos</td><td>8.75</td></tr><tr><th>11</th><td>Chicken Soft Tacos</td><td>8.75</td></tr><tr><th>12</th><td>Chicken Burrito</td><td>8.49</td></tr><tr><th>13</th><td>Barbacoa Burrito</td><td>8.99</td></tr><tr><th>14</th><td>Carnitas Burrito</td><td>8.99</td></tr><tr><th>15</th><td>Canned Soda</td><td>1.09</td></tr><tr><th>16</th><td>Carnitas Bowl</td><td>8.99</td></tr><tr><th>17</th><td>Bottled Water</td><td>1.09</td></tr><tr><th>18</th><td>Chips and Tomatillo Green Chili Salsa</td><td>2.95</td></tr><tr><th>19</th><td>Barbacoa Bowl</td><td>11.75</td></tr><tr><th>20</th><td>Chips</td><td>2.15</td></tr><tr><th>21</th><td>Chicken Salad Bowl</td><td>8.75</td></tr><tr><th>22</th><td>Steak Bowl</td><td>8.99</td></tr><tr><th>23</th><td>Barbacoa Soft Tacos</td><td>9.25</td></tr><tr><th>24</th><td>Veggie Burrito</td><td>11.25</td></tr><tr><th>25</th><td>Veggie Bowl</td><td>11.25</td></tr><tr><th>26</th><td>Steak Crispy Tacos</td><td>9.25</td></tr><tr><th>27</th><td>Chips and Tomatillo Red Chili Salsa</td><td>2.95</td></tr><tr><th>28</th><td>Barbacoa Crispy Tacos</td><td>11.75</td></tr><tr><th>29</th><td>Veggie Salad Bowl</td><td>11.25</td></tr><tr><th>30</th><td>Chips and Roasted Chili-Corn Salsa</td><td>2.39</td></tr><tr><th>&vellip;</th><td>&vellip;</td><td>&vellip;</td></tr></tbody></table></div>"
            ],
            "text/plain": [
              "\u001b[1m50×2 DataFrame\u001b[0m\n",
              "\u001b[1m Row \u001b[0m│\u001b[1m item_name                         \u001b[0m\u001b[1m item_price \u001b[0m\n",
              "\u001b[1m     \u001b[0m│\u001b[90m String                            \u001b[0m\u001b[90m Float32    \u001b[0m\n",
              "─────┼───────────────────────────────────────────────\n",
              "   1 │ Chips and Fresh Tomato Salsa             2.39\n",
              "   2 │ Izze                                     3.39\n",
              "   3 │ Nantucket Nectar                         3.39\n",
              "   4 │ Chips and Tomatillo-Green Chili …        2.39\n",
              "   5 │ Chicken Bowl                            10.98\n",
              "   6 │ Side of Chips                            1.69\n",
              "   7 │ Steak Burrito                           11.75\n",
              "   8 │ Steak Soft Tacos                         9.25\n",
              "   9 │ Chips and Guacamole                      4.45\n",
              "  10 │ Chicken Crispy Tacos                     8.75\n",
              "  11 │ Chicken Soft Tacos                       8.75\n",
              "  ⋮  │                 ⋮                      ⋮\n",
              "  41 │ Steak Salad                              8.99\n",
              "  42 │ Bowl                                     7.4\n",
              "  43 │ Chips and Mild Fresh Tomato Salsa        3.0\n",
              "  44 │ Veggie Soft Tacos                       11.25\n",
              "  45 │ Carnitas Salad Bowl                     11.89\n",
              "  46 │ Barbacoa Salad Bowl                     11.89\n",
              "  47 │ Salad                                    7.4\n",
              "  48 │ Veggie Crispy Tacos                      8.49\n",
              "  49 │ Veggie Salad                             8.49\n",
              "  50 │ Carnitas Salad                           8.99\n",
              "\u001b[36m                                      29 rows omitted\u001b[0m"
            ]
          },
          "metadata": {},
          "execution_count": 15
        }
      ]
    },
    {
      "cell_type": "markdown",
      "source": [
        "# Step 6. Sort by the name of the item"
      ],
      "metadata": {
        "id": "PyOW8HOb0ZOh"
      }
    },
    {
      "cell_type": "code",
      "source": [
        "sort(chipo,:item_name)"
      ],
      "metadata": {
        "colab": {
          "base_uri": "https://localhost:8080/",
          "height": 753
        },
        "id": "AXtiSQQAygiO",
        "outputId": "2e01de0a-2ed8-4eb7-89a8-3c1f5031be2e"
      },
      "execution_count": 17,
      "outputs": [
        {
          "output_type": "execute_result",
          "data": {
            "text/latex": "\\begin{tabular}{r|ccccc}\n\t& order\\_id & quantity & item\\_name & choice\\_description & item\\_price\\\\\n\t\\hline\n\t& Int64 & Int64 & String & String & Float32\\\\\n\t\\hline\n\t1 & 129 & 1 & 6 Pack Soft Drink & [Sprite] & 6.49 \\\\\n\t2 & 148 & 1 & 6 Pack Soft Drink & [Diet Coke] & 6.49 \\\\\n\t3 & 154 & 1 & 6 Pack Soft Drink & [Coke] & 6.49 \\\\\n\t4 & 168 & 1 & 6 Pack Soft Drink & [Diet Coke] & 6.49 \\\\\n\t5 & 182 & 1 & 6 Pack Soft Drink & [Diet Coke] & 6.49 \\\\\n\t6 & 230 & 1 & 6 Pack Soft Drink & [Diet Coke] & 6.49 \\\\\n\t7 & 264 & 1 & 6 Pack Soft Drink & [Diet Coke] & 6.49 \\\\\n\t8 & 298 & 1 & 6 Pack Soft Drink & [Nestea] & 6.49 \\\\\n\t9 & 306 & 1 & 6 Pack Soft Drink & [Coke] & 6.49 \\\\\n\t10 & 363 & 1 & 6 Pack Soft Drink & [Coke] & 6.49 \\\\\n\t11 & 422 & 1 & 6 Pack Soft Drink & [Sprite] & 6.49 \\\\\n\t12 & 432 & 1 & 6 Pack Soft Drink & [Coke] & 6.49 \\\\\n\t13 & 465 & 1 & 6 Pack Soft Drink & [Coke] & 6.49 \\\\\n\t14 & 481 & 1 & 6 Pack Soft Drink & [Coke] & 6.49 \\\\\n\t15 & 511 & 1 & 6 Pack Soft Drink & [Coke] & 6.49 \\\\\n\t16 & 520 & 1 & 6 Pack Soft Drink & [Sprite] & 6.49 \\\\\n\t17 & 566 & 1 & 6 Pack Soft Drink & [Diet Coke] & 6.49 \\\\\n\t18 & 708 & 1 & 6 Pack Soft Drink & [Coke] & 6.49 \\\\\n\t19 & 709 & 1 & 6 Pack Soft Drink & [Diet Coke] & 6.49 \\\\\n\t20 & 749 & 1 & 6 Pack Soft Drink & [Coke] & 6.49 \\\\\n\t21 & 754 & 1 & 6 Pack Soft Drink & [Diet Coke] & 6.49 \\\\\n\t22 & 774 & 1 & 6 Pack Soft Drink & [Diet Coke] & 6.49 \\\\\n\t23 & 776 & 1 & 6 Pack Soft Drink & [Coke] & 6.49 \\\\\n\t24 & 784 & 1 & 6 Pack Soft Drink & [Diet Coke] & 6.49 \\\\\n\t25 & 798 & 1 & 6 Pack Soft Drink & [Diet Coke] & 6.49 \\\\\n\t26 & 849 & 1 & 6 Pack Soft Drink & [Coke] & 6.49 \\\\\n\t27 & 899 & 1 & 6 Pack Soft Drink & [Coke] & 6.49 \\\\\n\t28 & 945 & 1 & 6 Pack Soft Drink & [Sprite] & 6.49 \\\\\n\t29 & 949 & 1 & 6 Pack Soft Drink & [Coke] & 6.49 \\\\\n\t30 & 1076 & 1 & 6 Pack Soft Drink & [Coke] & 6.49 \\\\\n\t$\\dots$ & $\\dots$ & $\\dots$ & $\\dots$ & $\\dots$ & $\\dots$ \\\\\n\\end{tabular}\n",
            "text/html": [
              "<div class=\"data-frame\"><p>4,622 rows × 5 columns</p><table class=\"data-frame\"><thead><tr><th></th><th>order_id</th><th>quantity</th><th>item_name</th><th>choice_description</th><th>item_price</th></tr><tr><th></th><th title=\"Int64\">Int64</th><th title=\"Int64\">Int64</th><th title=\"String\">String</th><th title=\"String\">String</th><th title=\"Float32\">Float32</th></tr></thead><tbody><tr><th>1</th><td>129</td><td>1</td><td>6 Pack Soft Drink</td><td>[Sprite]</td><td>6.49</td></tr><tr><th>2</th><td>148</td><td>1</td><td>6 Pack Soft Drink</td><td>[Diet Coke]</td><td>6.49</td></tr><tr><th>3</th><td>154</td><td>1</td><td>6 Pack Soft Drink</td><td>[Coke]</td><td>6.49</td></tr><tr><th>4</th><td>168</td><td>1</td><td>6 Pack Soft Drink</td><td>[Diet Coke]</td><td>6.49</td></tr><tr><th>5</th><td>182</td><td>1</td><td>6 Pack Soft Drink</td><td>[Diet Coke]</td><td>6.49</td></tr><tr><th>6</th><td>230</td><td>1</td><td>6 Pack Soft Drink</td><td>[Diet Coke]</td><td>6.49</td></tr><tr><th>7</th><td>264</td><td>1</td><td>6 Pack Soft Drink</td><td>[Diet Coke]</td><td>6.49</td></tr><tr><th>8</th><td>298</td><td>1</td><td>6 Pack Soft Drink</td><td>[Nestea]</td><td>6.49</td></tr><tr><th>9</th><td>306</td><td>1</td><td>6 Pack Soft Drink</td><td>[Coke]</td><td>6.49</td></tr><tr><th>10</th><td>363</td><td>1</td><td>6 Pack Soft Drink</td><td>[Coke]</td><td>6.49</td></tr><tr><th>11</th><td>422</td><td>1</td><td>6 Pack Soft Drink</td><td>[Sprite]</td><td>6.49</td></tr><tr><th>12</th><td>432</td><td>1</td><td>6 Pack Soft Drink</td><td>[Coke]</td><td>6.49</td></tr><tr><th>13</th><td>465</td><td>1</td><td>6 Pack Soft Drink</td><td>[Coke]</td><td>6.49</td></tr><tr><th>14</th><td>481</td><td>1</td><td>6 Pack Soft Drink</td><td>[Coke]</td><td>6.49</td></tr><tr><th>15</th><td>511</td><td>1</td><td>6 Pack Soft Drink</td><td>[Coke]</td><td>6.49</td></tr><tr><th>16</th><td>520</td><td>1</td><td>6 Pack Soft Drink</td><td>[Sprite]</td><td>6.49</td></tr><tr><th>17</th><td>566</td><td>1</td><td>6 Pack Soft Drink</td><td>[Diet Coke]</td><td>6.49</td></tr><tr><th>18</th><td>708</td><td>1</td><td>6 Pack Soft Drink</td><td>[Coke]</td><td>6.49</td></tr><tr><th>19</th><td>709</td><td>1</td><td>6 Pack Soft Drink</td><td>[Diet Coke]</td><td>6.49</td></tr><tr><th>20</th><td>749</td><td>1</td><td>6 Pack Soft Drink</td><td>[Coke]</td><td>6.49</td></tr><tr><th>21</th><td>754</td><td>1</td><td>6 Pack Soft Drink</td><td>[Diet Coke]</td><td>6.49</td></tr><tr><th>22</th><td>774</td><td>1</td><td>6 Pack Soft Drink</td><td>[Diet Coke]</td><td>6.49</td></tr><tr><th>23</th><td>776</td><td>1</td><td>6 Pack Soft Drink</td><td>[Coke]</td><td>6.49</td></tr><tr><th>24</th><td>784</td><td>1</td><td>6 Pack Soft Drink</td><td>[Diet Coke]</td><td>6.49</td></tr><tr><th>25</th><td>798</td><td>1</td><td>6 Pack Soft Drink</td><td>[Diet Coke]</td><td>6.49</td></tr><tr><th>26</th><td>849</td><td>1</td><td>6 Pack Soft Drink</td><td>[Coke]</td><td>6.49</td></tr><tr><th>27</th><td>899</td><td>1</td><td>6 Pack Soft Drink</td><td>[Coke]</td><td>6.49</td></tr><tr><th>28</th><td>945</td><td>1</td><td>6 Pack Soft Drink</td><td>[Sprite]</td><td>6.49</td></tr><tr><th>29</th><td>949</td><td>1</td><td>6 Pack Soft Drink</td><td>[Coke]</td><td>6.49</td></tr><tr><th>30</th><td>1076</td><td>1</td><td>6 Pack Soft Drink</td><td>[Coke]</td><td>6.49</td></tr><tr><th>&vellip;</th><td>&vellip;</td><td>&vellip;</td><td>&vellip;</td><td>&vellip;</td><td>&vellip;</td></tr></tbody></table></div>"
            ],
            "text/plain": [
              "\u001b[1m4622×5 DataFrame\u001b[0m\n",
              "\u001b[1m  Row \u001b[0m│\u001b[1m order_id \u001b[0m\u001b[1m quantity \u001b[0m\u001b[1m item_name         \u001b[0m\u001b[1m choice_description             \u001b[0m ⋯\n",
              "\u001b[1m      \u001b[0m│\u001b[90m Int64    \u001b[0m\u001b[90m Int64    \u001b[0m\u001b[90m String            \u001b[0m\u001b[90m String                         \u001b[0m ⋯\n",
              "──────┼─────────────────────────────────────────────────────────────────────────\n",
              "    1 │      129         1  6 Pack Soft Drink  [Sprite]                        ⋯\n",
              "    2 │      148         1  6 Pack Soft Drink  [Diet Coke]\n",
              "    3 │      154         1  6 Pack Soft Drink  [Coke]\n",
              "    4 │      168         1  6 Pack Soft Drink  [Diet Coke]\n",
              "    5 │      182         1  6 Pack Soft Drink  [Diet Coke]                     ⋯\n",
              "    6 │      230         1  6 Pack Soft Drink  [Diet Coke]\n",
              "    7 │      264         1  6 Pack Soft Drink  [Diet Coke]\n",
              "    8 │      298         1  6 Pack Soft Drink  [Nestea]\n",
              "    9 │      306         1  6 Pack Soft Drink  [Coke]                          ⋯\n",
              "   10 │      363         1  6 Pack Soft Drink  [Coke]\n",
              "   11 │      422         1  6 Pack Soft Drink  [Sprite]\n",
              "  ⋮   │    ⋮         ⋮              ⋮                          ⋮               ⋱\n",
              " 4613 │     1700         1  Veggie Salad Bowl  [Fresh Tomato Salsa, [Fajita Ve\n",
              " 4614 │     1805         1  Veggie Salad Bowl  [Tomatillo Green Chili Salsa, [ ⋯\n",
              " 4615 │     1818         1  Veggie Salad Bowl  [Fresh Tomato Salsa, [Fajita Ve\n",
              " 4616 │      304         1  Veggie Soft Tacos  [Tomatillo Red Chili Salsa, [Fa\n",
              " 4617 │      322         1  Veggie Soft Tacos  [Fresh Tomato Salsa, [Black Bea\n",
              " 4618 │      567         1  Veggie Soft Tacos  [Fresh Tomato Salsa (Mild), [Pi ⋯\n",
              " 4619 │      688         1  Veggie Soft Tacos  [Fresh Tomato Salsa, [Fajita Ve\n",
              " 4620 │      948         1  Veggie Soft Tacos  [Roasted Chili Corn Salsa, [Faj\n",
              " 4621 │     1132         1  Veggie Soft Tacos  [Roasted Chili Corn Salsa (Medi\n",
              " 4622 │     1559         2  Veggie Soft Tacos  [Fresh Tomato Salsa (Mild), [Bl ⋯\n",
              "\u001b[36m                                                 2 columns and 4601 rows omitted\u001b[0m"
            ]
          },
          "metadata": {},
          "execution_count": 17
        }
      ]
    },
    {
      "cell_type": "markdown",
      "source": [
        "# Step 7. What was the quantity of the most expensive item ordered?\n"
      ],
      "metadata": {
        "id": "GFLRS_bI1mkI"
      }
    },
    {
      "cell_type": "code",
      "source": [
        "sort(chipo, :item_price, rev = true)[1,[:item_name,:quantity]]"
      ],
      "metadata": {
        "colab": {
          "base_uri": "https://localhost:8080/",
          "height": 112
        },
        "id": "GccaVHIG0IaN",
        "outputId": "4b5d5dcf-5e56-4f6e-f643-1328a927223b"
      },
      "execution_count": 26,
      "outputs": [
        {
          "output_type": "execute_result",
          "data": {
            "text/latex": "\\begin{tabular}{r|cc}\n\t& item\\_name & quantity\\\\\n\t\\hline\n\t& String & Int64\\\\\n\t\\hline\n\t1 & Chips and Fresh Tomato Salsa & 15 \\\\\n\\end{tabular}\n",
            "text/html": [
              "<p>DataFrameRow (2 columns)</p><div class=\"data-frame\"><table class=\"data-frame\"><thead><tr><th></th><th>item_name</th><th>quantity</th></tr><tr><th></th><th title=\"String\">String</th><th title=\"Int64\">Int64</th></tr></thead><tbody><tr><th>1</th><td>Chips and Fresh Tomato Salsa</td><td>15</td></tr></tbody></table></div>"
            ],
            "text/plain": [
              "\u001b[1mDataFrameRow\u001b[0m\n",
              "\u001b[1m Row \u001b[0m│\u001b[1m item_name                    \u001b[0m\u001b[1m quantity \u001b[0m\n",
              "\u001b[1m     \u001b[0m│\u001b[90m String                       \u001b[0m\u001b[90m Int64    \u001b[0m\n",
              "─────┼────────────────────────────────────────\n",
              "   1 │ Chips and Fresh Tomato Salsa        15"
            ]
          },
          "metadata": {},
          "execution_count": 26
        }
      ]
    },
    {
      "cell_type": "markdown",
      "source": [
        "# Step 8. How many times was a Veggie Salad Bowl ordered?\n"
      ],
      "metadata": {
        "id": "klWCvHHJ2aom"
      }
    },
    {
      "cell_type": "code",
      "source": [
        "salad_orders = chipo[chipo.item_name.==\"Veggie Salad Bowl\", :]\n",
        "nrow(salad_orders)"
      ],
      "metadata": {
        "colab": {
          "base_uri": "https://localhost:8080/"
        },
        "id": "nG4lEfgq2MCe",
        "outputId": "b1826d9b-d39b-48a7-f81c-573ffbdbddf7"
      },
      "execution_count": 32,
      "outputs": [
        {
          "output_type": "execute_result",
          "data": {
            "text/plain": [
              "18"
            ]
          },
          "metadata": {},
          "execution_count": 32
        }
      ]
    },
    {
      "cell_type": "markdown",
      "source": [
        "# Step 9. How many times did someone order more than one Canned Soda?"
      ],
      "metadata": {
        "id": "_B240mG83_zT"
      }
    },
    {
      "cell_type": "code",
      "source": [
        "soda_orders = chipo[(chipo.item_name.==\"Canned Soda\").&(chipo.quantity.>1), :]\n",
        "nrow(soda_orders)"
      ],
      "metadata": {
        "colab": {
          "base_uri": "https://localhost:8080/"
        },
        "id": "mPK1x2et2bUr",
        "outputId": "e368608c-f7a6-4ac3-e0d1-5aa5e43a9abc"
      },
      "execution_count": 40,
      "outputs": [
        {
          "output_type": "execute_result",
          "data": {
            "text/plain": [
              "20"
            ]
          },
          "metadata": {},
          "execution_count": 40
        }
      ]
    }
  ]
}