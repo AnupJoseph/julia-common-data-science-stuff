{
  "nbformat": 4,
  "nbformat_minor": 0,
  "metadata": {
    "colab": {
      "name": "02_Filtering_&_Sorting_Euro12.ipynb",
      "provenance": [],
      "collapsed_sections": []
    },
    "kernelspec": {
      "display_name": "Julia",
      "language": "julia",
      "name": "julia"
    },
    "language_info": {
      "file_extension": ".jl",
      "mimetype": "application/julia",
      "name": "julia"
    }
  },
  "cells": [
    {
      "cell_type": "markdown",
      "metadata": {
        "id": "f_1dr-2W5iSU"
      },
      "source": [
        "# Getting Started with Julia in Colab/Jupyter\n",
        "You can either run this notebook in Google Colab, or using Jupyter on your own machine."
      ]
    },
    {
      "cell_type": "markdown",
      "metadata": {
        "id": "6ew60wXrZM0W"
      },
      "source": [
        "## Running on Google Colab\n",
        "1. Work on a copy of this notebook: _File_ > _Save a copy in Drive_ (you will need a Google account). Alternatively, you can download the notebook using _File_ > _Download .ipynb_, then upload it to [Colab](https://colab.research.google.com/).\n",
        "2. Execute the following cell (click on it and press Ctrl+Enter) to install Julia, IJulia (the Jupyter kernel for Julia) and other packages. You can update `JULIA_VERSION` and the other parameters, if you know what you're doing. Installation takes 2-3 minutes.\n",
        "3. Reload this page (press Ctrl+R, or ⌘+R, or the F5 key) and continue to the _Checking the Installation_ section.\n",
        "\n",
        "* _Note_: If your Colab Runtime gets reset (e.g., due to inactivity), repeat steps 2 and 3."
      ]
    },
    {
      "cell_type": "code",
      "metadata": {
        "id": "GIeFXS0F0zww",
        "colab": {
          "base_uri": "https://localhost:8080/"
        },
        "outputId": "436f7521-ba67-4238-e9ed-11930f33aafc"
      },
      "source": [
        "%%shell\n",
        "set -e\n",
        "\n",
        "#---------------------------------------------------#\n",
        "JULIA_VERSION=\"1.6.0\" # any version ≥ 0.7.0\n",
        "JULIA_PACKAGES=\"IJulia DataFrames Pipe CSV\"\n",
        "JULIA_PACKAGES_IF_GPU=\"CUDA\"\n",
        "JULIA_NUM_THREADS=4\n",
        "#---------------------------------------------------#\n",
        "\n",
        "if [ -n \"$COLAB_GPU\" ] && [ -z `which julia` ]; then\n",
        "  # Install Julia\n",
        "  JULIA_VER=`cut -d '.' -f -2 <<< \"$JULIA_VERSION\"`\n",
        "  echo \"Installing Julia $JULIA_VERSION on the current Colab Runtime...\"\n",
        "  BASE_URL=\"https://julialang-s3.julialang.org/bin/linux/x64\"\n",
        "  URL=\"$BASE_URL/$JULIA_VER/julia-$JULIA_VERSION-linux-x86_64.tar.gz\"\n",
        "  wget -nv $URL -O /tmp/julia.tar.gz # -nv means \"not verbose\"\n",
        "  tar -x -f /tmp/julia.tar.gz -C /usr/local --strip-components 1\n",
        "  rm /tmp/julia.tar.gz\n",
        "\n",
        "  # Install Packages\n",
        "  if [ \"$COLAB_GPU\" = \"1\" ]; then\n",
        "      JULIA_PACKAGES=\"$JULIA_PACKAGES $JULIA_PACKAGES_IF_GPU\"\n",
        "  fi\n",
        "  for PKG in `echo $JULIA_PACKAGES`; do\n",
        "    echo \"Installing Julia package $PKG...\"\n",
        "    julia -e 'using Pkg; pkg\"add '$PKG'; precompile;\"' &> /dev/null\n",
        "  done\n",
        "\n",
        "  # Install kernel and rename it to \"julia\"\n",
        "  echo \"Installing IJulia kernel...\"\n",
        "  julia -e 'using IJulia; IJulia.installkernel(\"julia\", env=Dict(\n",
        "      \"JULIA_NUM_THREADS\"=>\"'\"$JULIA_NUM_THREADS\"'\"))'\n",
        "  KERNEL_DIR=`julia -e \"using IJulia; print(IJulia.kerneldir())\"`\n",
        "  KERNEL_NAME=`ls -d \"$KERNEL_DIR\"/julia*`\n",
        "  mv -f $KERNEL_NAME \"$KERNEL_DIR\"/julia  \n",
        "\n",
        "  echo ''\n",
        "  echo \"Successfully installed `julia -v`!\"\n",
        "  echo \"Please reload this page (press Ctrl+R, ⌘+R, or the F5 key) then\"\n",
        "  echo \"jump to the 'Checking the Installation' section.\"\n",
        "fi"
      ],
      "execution_count": null,
      "outputs": [
        {
          "output_type": "stream",
          "name": "stdout",
          "text": [
            "Installing Julia 1.6.0 on the current Colab Runtime...\n",
            "2022-01-11 10:38:28 URL:https://storage.googleapis.com/julialang2/bin/linux/x64/1.6/julia-1.6.0-linux-x86_64.tar.gz [112838927/112838927] -> \"/tmp/julia.tar.gz\" [1]\n",
            "Installing Julia package IJulia...\n",
            "Installing Julia package DataFrames...\n",
            "Installing Julia package Pipe...\n",
            "Installing Julia package CSV...\n"
          ]
        }
      ]
    },
    {
      "cell_type": "markdown",
      "metadata": {
        "id": "-OS3Ac017T1i"
      },
      "source": [
        "## Checking the Installation\n",
        "The `versioninfo()` function should print your Julia version and some other info about the system (if you ever ask for help or file an issue about Julia, you should always provide this information)."
      ]
    },
    {
      "cell_type": "code",
      "metadata": {
        "id": "EEzvvzCl1i0F",
        "colab": {
          "base_uri": "https://localhost:8080/"
        },
        "outputId": "bb30cc3c-9c21-46ec-b342-fe5580bd457a"
      },
      "source": [
        "versioninfo()"
      ],
      "execution_count": 1,
      "outputs": [
        {
          "output_type": "stream",
          "name": "stdout",
          "text": [
            "Julia Version 1.6.0\n",
            "Commit f9720dc2eb (2021-03-24 12:55 UTC)\n",
            "Platform Info:\n",
            "  OS: Linux (x86_64-pc-linux-gnu)\n",
            "  CPU: Intel(R) Xeon(R) CPU @ 2.20GHz\n",
            "  WORD_SIZE: 64\n",
            "  LIBM: libopenlibm\n",
            "  LLVM: libLLVM-11.0.1 (ORCJIT, broadwell)\n",
            "Environment:\n",
            "  JULIA_NUM_THREADS = 4\n"
          ]
        }
      ]
    },
    {
      "cell_type": "markdown",
      "source": [
        "# Step 1. Import the necessary libraries"
      ],
      "metadata": {
        "id": "iy-qkQnMtfC1"
      }
    },
    {
      "cell_type": "code",
      "source": [
        "using DataFrames\n",
        "using CSV\n",
        "using Pipe\n",
        "using Statistics"
      ],
      "metadata": {
        "id": "3CstWQrBtcyJ"
      },
      "execution_count": 2,
      "outputs": []
    },
    {
      "cell_type": "markdown",
      "source": [
        "# Step 2. Import the dataset from this [address](https://raw.githubusercontent.com/guipsamora/pandas_exercises/master/02_Filtering_%26_Sorting/Euro12/Euro_2012_stats_TEAM.csv).\n"
      ],
      "metadata": {
        "id": "hkqRyHgOtkeU"
      }
    },
    {
      "cell_type": "code",
      "source": [
        "URL = \"https://raw.githubusercontent.com/guipsamora/pandas_exercises/master/02_Filtering_%26_Sorting/Euro12/Euro_2012_stats_TEAM.csv\"\n",
        "download(URL, \"euro_stats.csv\")"
      ],
      "metadata": {
        "colab": {
          "base_uri": "https://localhost:8080/"
        },
        "id": "riY8kDWftgWm",
        "outputId": "32c30ec0-098d-475a-d74c-a74c2ea1d432"
      },
      "execution_count": 3,
      "outputs": [
        {
          "output_type": "execute_result",
          "data": {
            "text/plain": [
              "\"euro_stats.csv\""
            ]
          },
          "metadata": {},
          "execution_count": 3
        }
      ]
    },
    {
      "cell_type": "markdown",
      "source": [
        "# Step 3. Assign it to a variable called euro12.\n"
      ],
      "metadata": {
        "id": "OaD0K3Rrto74"
      }
    },
    {
      "cell_type": "code",
      "source": [
        "euro12 = CSV.read(\"euro_stats.csv\", DataFrame)"
      ],
      "metadata": {
        "colab": {
          "base_uri": "https://localhost:8080/",
          "height": 433
        },
        "id": "mua6_OOTtlhR",
        "outputId": "eb719106-cd30-43db-f6d6-820b72d9cb70"
      },
      "execution_count": 4,
      "outputs": [
        {
          "output_type": "execute_result",
          "data": {
            "text/latex": "\\begin{tabular}{r|cccccc}\n\t& Team & Goals & Shots on target & Shots off target & Shooting Accuracy & \\\\\n\t\\hline\n\t& String31 & Int64 & Int64 & Int64 & String7 & \\\\\n\t\\hline\n\t1 & Croatia & 4 & 13 & 12 & 51.9\\% & $\\dots$ \\\\\n\t2 & Czech Republic & 4 & 13 & 18 & 41.9\\% & $\\dots$ \\\\\n\t3 & Denmark & 4 & 10 & 10 & 50.0\\% & $\\dots$ \\\\\n\t4 & England & 5 & 11 & 18 & 50.0\\% & $\\dots$ \\\\\n\t5 & France & 3 & 22 & 24 & 37.9\\% & $\\dots$ \\\\\n\t6 & Germany & 10 & 32 & 32 & 47.8\\% & $\\dots$ \\\\\n\t7 & Greece & 5 & 8 & 18 & 30.7\\% & $\\dots$ \\\\\n\t8 & Italy & 6 & 34 & 45 & 43.0\\% & $\\dots$ \\\\\n\t9 & Netherlands & 2 & 12 & 36 & 25.0\\% & $\\dots$ \\\\\n\t10 & Poland & 2 & 15 & 23 & 39.4\\% & $\\dots$ \\\\\n\t11 & Portugal & 6 & 22 & 42 & 34.3\\% & $\\dots$ \\\\\n\t12 & Republic of Ireland & 1 & 7 & 12 & 36.8\\% & $\\dots$ \\\\\n\t13 & Russia & 5 & 9 & 31 & 22.5\\% & $\\dots$ \\\\\n\t14 & Spain & 12 & 42 & 33 & 55.9\\% & $\\dots$ \\\\\n\t15 & Sweden & 5 & 17 & 19 & 47.2\\% & $\\dots$ \\\\\n\t16 & Ukraine & 2 & 7 & 26 & 21.2\\% & $\\dots$ \\\\\n\\end{tabular}\n",
            "text/html": [
              "<div class=\"data-frame\"><p>16 rows × 35 columns (omitted printing of 30 columns)</p><table class=\"data-frame\"><thead><tr><th></th><th>Team</th><th>Goals</th><th>Shots on target</th><th>Shots off target</th><th>Shooting Accuracy</th></tr><tr><th></th><th title=\"String31\">String31</th><th title=\"Int64\">Int64</th><th title=\"Int64\">Int64</th><th title=\"Int64\">Int64</th><th title=\"String7\">String7</th></tr></thead><tbody><tr><th>1</th><td>Croatia</td><td>4</td><td>13</td><td>12</td><td>51.9%</td></tr><tr><th>2</th><td>Czech Republic</td><td>4</td><td>13</td><td>18</td><td>41.9%</td></tr><tr><th>3</th><td>Denmark</td><td>4</td><td>10</td><td>10</td><td>50.0%</td></tr><tr><th>4</th><td>England</td><td>5</td><td>11</td><td>18</td><td>50.0%</td></tr><tr><th>5</th><td>France</td><td>3</td><td>22</td><td>24</td><td>37.9%</td></tr><tr><th>6</th><td>Germany</td><td>10</td><td>32</td><td>32</td><td>47.8%</td></tr><tr><th>7</th><td>Greece</td><td>5</td><td>8</td><td>18</td><td>30.7%</td></tr><tr><th>8</th><td>Italy</td><td>6</td><td>34</td><td>45</td><td>43.0%</td></tr><tr><th>9</th><td>Netherlands</td><td>2</td><td>12</td><td>36</td><td>25.0%</td></tr><tr><th>10</th><td>Poland</td><td>2</td><td>15</td><td>23</td><td>39.4%</td></tr><tr><th>11</th><td>Portugal</td><td>6</td><td>22</td><td>42</td><td>34.3%</td></tr><tr><th>12</th><td>Republic of Ireland</td><td>1</td><td>7</td><td>12</td><td>36.8%</td></tr><tr><th>13</th><td>Russia</td><td>5</td><td>9</td><td>31</td><td>22.5%</td></tr><tr><th>14</th><td>Spain</td><td>12</td><td>42</td><td>33</td><td>55.9%</td></tr><tr><th>15</th><td>Sweden</td><td>5</td><td>17</td><td>19</td><td>47.2%</td></tr><tr><th>16</th><td>Ukraine</td><td>2</td><td>7</td><td>26</td><td>21.2%</td></tr></tbody></table></div>"
            ],
            "text/plain": [
              "\u001b[1m16×35 DataFrame\u001b[0m\n",
              "\u001b[1m Row \u001b[0m│\u001b[1m Team                \u001b[0m\u001b[1m Goals \u001b[0m\u001b[1m Shots on target \u001b[0m\u001b[1m Shots off target \u001b[0m\u001b[1m Shooting\u001b[0m ⋯\n",
              "\u001b[1m     \u001b[0m│\u001b[90m String31            \u001b[0m\u001b[90m Int64 \u001b[0m\u001b[90m Int64           \u001b[0m\u001b[90m Int64            \u001b[0m\u001b[90m String7 \u001b[0m ⋯\n",
              "─────┼──────────────────────────────────────────────────────────────────────────\n",
              "   1 │ Croatia                  4               13                12  51.9%    ⋯\n",
              "   2 │ Czech Republic           4               13                18  41.9%\n",
              "   3 │ Denmark                  4               10                10  50.0%\n",
              "   4 │ England                  5               11                18  50.0%\n",
              "   5 │ France                   3               22                24  37.9%    ⋯\n",
              "   6 │ Germany                 10               32                32  47.8%\n",
              "   7 │ Greece                   5                8                18  30.7%\n",
              "   8 │ Italy                    6               34                45  43.0%\n",
              "   9 │ Netherlands              2               12                36  25.0%    ⋯\n",
              "  10 │ Poland                   2               15                23  39.4%\n",
              "  11 │ Portugal                 6               22                42  34.3%\n",
              "  12 │ Republic of Ireland      1                7                12  36.8%\n",
              "  13 │ Russia                   5                9                31  22.5%    ⋯\n",
              "  14 │ Spain                   12               42                33  55.9%\n",
              "  15 │ Sweden                   5               17                19  47.2%\n",
              "  16 │ Ukraine                  2                7                26  21.2%\n",
              "\u001b[36m                                                              31 columns omitted\u001b[0m"
            ]
          },
          "metadata": {},
          "execution_count": 4
        }
      ]
    },
    {
      "cell_type": "markdown",
      "source": [
        "# Step 4. Select only the Goal column."
      ],
      "metadata": {
        "id": "2YmsxuOwuAlb"
      }
    },
    {
      "cell_type": "code",
      "source": [
        "euro12.Goals"
      ],
      "metadata": {
        "colab": {
          "base_uri": "https://localhost:8080/"
        },
        "id": "t0wHoMIFtpq2",
        "outputId": "44fb67a8-6c3a-4e9e-d412-86bb496828cd"
      },
      "execution_count": 5,
      "outputs": [
        {
          "output_type": "execute_result",
          "data": {
            "text/plain": [
              "16-element Vector{Int64}:\n",
              "  4\n",
              "  4\n",
              "  4\n",
              "  5\n",
              "  3\n",
              " 10\n",
              "  5\n",
              "  6\n",
              "  2\n",
              "  2\n",
              "  6\n",
              "  1\n",
              "  5\n",
              " 12\n",
              "  5\n",
              "  2"
            ]
          },
          "metadata": {},
          "execution_count": 5
        }
      ]
    },
    {
      "cell_type": "markdown",
      "source": [
        "# Step 5. How many team participated in the Euro2012?\n"
      ],
      "metadata": {
        "id": "_9rnse7OudIm"
      }
    },
    {
      "cell_type": "code",
      "source": [
        "nrow(euro12)"
      ],
      "metadata": {
        "colab": {
          "base_uri": "https://localhost:8080/"
        },
        "id": "aTQ_HfyXuCDL",
        "outputId": "668512e6-dfd7-489c-f26e-5af7e4587a9b"
      },
      "execution_count": 6,
      "outputs": [
        {
          "output_type": "execute_result",
          "data": {
            "text/plain": [
              "16"
            ]
          },
          "metadata": {},
          "execution_count": 6
        }
      ]
    },
    {
      "cell_type": "markdown",
      "source": [
        "# Step 6. What is the number of columns in the dataset?\n"
      ],
      "metadata": {
        "id": "XfpI2W5XvADI"
      }
    },
    {
      "cell_type": "code",
      "source": [
        "n_cols = ncol(euro12)"
      ],
      "metadata": {
        "colab": {
          "base_uri": "https://localhost:8080/"
        },
        "id": "ubipbJLcuecx",
        "outputId": "7dd39d7a-f2fb-44dd-c28e-268a316d0515"
      },
      "execution_count": 7,
      "outputs": [
        {
          "output_type": "execute_result",
          "data": {
            "text/plain": [
              "35"
            ]
          },
          "metadata": {},
          "execution_count": 7
        }
      ]
    },
    {
      "cell_type": "markdown",
      "source": [
        "\n",
        "# Step 7. View only the columns Team, Yellow Cards and Red Cards and assign them to a dataframe called discipline"
      ],
      "metadata": {
        "id": "vIjQsx5LwMhh"
      }
    },
    {
      "cell_type": "code",
      "source": [
        "discipline = euro12[!, [\"Team\", \"Yellow Cards\", \"Red Cards\"]]"
      ],
      "metadata": {
        "colab": {
          "base_uri": "https://localhost:8080/",
          "height": 433
        },
        "id": "T3fanrDKvBHr",
        "outputId": "86d458fc-1b0c-4e3c-f88a-f1390c42f25b"
      },
      "execution_count": 8,
      "outputs": [
        {
          "output_type": "execute_result",
          "data": {
            "text/latex": "\\begin{tabular}{r|ccc}\n\t& Team & Yellow Cards & Red Cards\\\\\n\t\\hline\n\t& String31 & Int64 & Int64\\\\\n\t\\hline\n\t1 & Croatia & 9 & 0 \\\\\n\t2 & Czech Republic & 7 & 0 \\\\\n\t3 & Denmark & 4 & 0 \\\\\n\t4 & England & 5 & 0 \\\\\n\t5 & France & 6 & 0 \\\\\n\t6 & Germany & 4 & 0 \\\\\n\t7 & Greece & 9 & 1 \\\\\n\t8 & Italy & 16 & 0 \\\\\n\t9 & Netherlands & 5 & 0 \\\\\n\t10 & Poland & 7 & 1 \\\\\n\t11 & Portugal & 12 & 0 \\\\\n\t12 & Republic of Ireland & 6 & 1 \\\\\n\t13 & Russia & 6 & 0 \\\\\n\t14 & Spain & 11 & 0 \\\\\n\t15 & Sweden & 7 & 0 \\\\\n\t16 & Ukraine & 5 & 0 \\\\\n\\end{tabular}\n",
            "text/html": [
              "<div class=\"data-frame\"><p>16 rows × 3 columns</p><table class=\"data-frame\"><thead><tr><th></th><th>Team</th><th>Yellow Cards</th><th>Red Cards</th></tr><tr><th></th><th title=\"String31\">String31</th><th title=\"Int64\">Int64</th><th title=\"Int64\">Int64</th></tr></thead><tbody><tr><th>1</th><td>Croatia</td><td>9</td><td>0</td></tr><tr><th>2</th><td>Czech Republic</td><td>7</td><td>0</td></tr><tr><th>3</th><td>Denmark</td><td>4</td><td>0</td></tr><tr><th>4</th><td>England</td><td>5</td><td>0</td></tr><tr><th>5</th><td>France</td><td>6</td><td>0</td></tr><tr><th>6</th><td>Germany</td><td>4</td><td>0</td></tr><tr><th>7</th><td>Greece</td><td>9</td><td>1</td></tr><tr><th>8</th><td>Italy</td><td>16</td><td>0</td></tr><tr><th>9</th><td>Netherlands</td><td>5</td><td>0</td></tr><tr><th>10</th><td>Poland</td><td>7</td><td>1</td></tr><tr><th>11</th><td>Portugal</td><td>12</td><td>0</td></tr><tr><th>12</th><td>Republic of Ireland</td><td>6</td><td>1</td></tr><tr><th>13</th><td>Russia</td><td>6</td><td>0</td></tr><tr><th>14</th><td>Spain</td><td>11</td><td>0</td></tr><tr><th>15</th><td>Sweden</td><td>7</td><td>0</td></tr><tr><th>16</th><td>Ukraine</td><td>5</td><td>0</td></tr></tbody></table></div>"
            ],
            "text/plain": [
              "\u001b[1m16×3 DataFrame\u001b[0m\n",
              "\u001b[1m Row \u001b[0m│\u001b[1m Team                \u001b[0m\u001b[1m Yellow Cards \u001b[0m\u001b[1m Red Cards \u001b[0m\n",
              "\u001b[1m     \u001b[0m│\u001b[90m String31            \u001b[0m\u001b[90m Int64        \u001b[0m\u001b[90m Int64     \u001b[0m\n",
              "─────┼──────────────────────────────────────────────\n",
              "   1 │ Croatia                         9          0\n",
              "   2 │ Czech Republic                  7          0\n",
              "   3 │ Denmark                         4          0\n",
              "   4 │ England                         5          0\n",
              "   5 │ France                          6          0\n",
              "   6 │ Germany                         4          0\n",
              "   7 │ Greece                          9          1\n",
              "   8 │ Italy                          16          0\n",
              "   9 │ Netherlands                     5          0\n",
              "  10 │ Poland                          7          1\n",
              "  11 │ Portugal                       12          0\n",
              "  12 │ Republic of Ireland             6          1\n",
              "  13 │ Russia                          6          0\n",
              "  14 │ Spain                          11          0\n",
              "  15 │ Sweden                          7          0\n",
              "  16 │ Ukraine                         5          0"
            ]
          },
          "metadata": {},
          "execution_count": 8
        }
      ]
    },
    {
      "cell_type": "markdown",
      "source": [
        "# Step 8. Sort the teams by Red Cards, then to Yellow Cards"
      ],
      "metadata": {
        "id": "wXtwmbbHwr7u"
      }
    },
    {
      "cell_type": "code",
      "source": [
        "sort(discipline, [order(\"Red Cards\",rev=true), \"Yellow Cards\"])"
      ],
      "metadata": {
        "colab": {
          "base_uri": "https://localhost:8080/",
          "height": 433
        },
        "id": "6RpklEiXwacO",
        "outputId": "f77095c1-435e-4a19-eb1f-70a82fab8fee"
      },
      "execution_count": 9,
      "outputs": [
        {
          "output_type": "execute_result",
          "data": {
            "text/latex": "\\begin{tabular}{r|ccc}\n\t& Team & Yellow Cards & Red Cards\\\\\n\t\\hline\n\t& String31 & Int64 & Int64\\\\\n\t\\hline\n\t1 & Republic of Ireland & 6 & 1 \\\\\n\t2 & Poland & 7 & 1 \\\\\n\t3 & Greece & 9 & 1 \\\\\n\t4 & Denmark & 4 & 0 \\\\\n\t5 & Germany & 4 & 0 \\\\\n\t6 & England & 5 & 0 \\\\\n\t7 & Netherlands & 5 & 0 \\\\\n\t8 & Ukraine & 5 & 0 \\\\\n\t9 & France & 6 & 0 \\\\\n\t10 & Russia & 6 & 0 \\\\\n\t11 & Czech Republic & 7 & 0 \\\\\n\t12 & Sweden & 7 & 0 \\\\\n\t13 & Croatia & 9 & 0 \\\\\n\t14 & Spain & 11 & 0 \\\\\n\t15 & Portugal & 12 & 0 \\\\\n\t16 & Italy & 16 & 0 \\\\\n\\end{tabular}\n",
            "text/html": [
              "<div class=\"data-frame\"><p>16 rows × 3 columns</p><table class=\"data-frame\"><thead><tr><th></th><th>Team</th><th>Yellow Cards</th><th>Red Cards</th></tr><tr><th></th><th title=\"String31\">String31</th><th title=\"Int64\">Int64</th><th title=\"Int64\">Int64</th></tr></thead><tbody><tr><th>1</th><td>Republic of Ireland</td><td>6</td><td>1</td></tr><tr><th>2</th><td>Poland</td><td>7</td><td>1</td></tr><tr><th>3</th><td>Greece</td><td>9</td><td>1</td></tr><tr><th>4</th><td>Denmark</td><td>4</td><td>0</td></tr><tr><th>5</th><td>Germany</td><td>4</td><td>0</td></tr><tr><th>6</th><td>England</td><td>5</td><td>0</td></tr><tr><th>7</th><td>Netherlands</td><td>5</td><td>0</td></tr><tr><th>8</th><td>Ukraine</td><td>5</td><td>0</td></tr><tr><th>9</th><td>France</td><td>6</td><td>0</td></tr><tr><th>10</th><td>Russia</td><td>6</td><td>0</td></tr><tr><th>11</th><td>Czech Republic</td><td>7</td><td>0</td></tr><tr><th>12</th><td>Sweden</td><td>7</td><td>0</td></tr><tr><th>13</th><td>Croatia</td><td>9</td><td>0</td></tr><tr><th>14</th><td>Spain</td><td>11</td><td>0</td></tr><tr><th>15</th><td>Portugal</td><td>12</td><td>0</td></tr><tr><th>16</th><td>Italy</td><td>16</td><td>0</td></tr></tbody></table></div>"
            ],
            "text/plain": [
              "\u001b[1m16×3 DataFrame\u001b[0m\n",
              "\u001b[1m Row \u001b[0m│\u001b[1m Team                \u001b[0m\u001b[1m Yellow Cards \u001b[0m\u001b[1m Red Cards \u001b[0m\n",
              "\u001b[1m     \u001b[0m│\u001b[90m String31            \u001b[0m\u001b[90m Int64        \u001b[0m\u001b[90m Int64     \u001b[0m\n",
              "─────┼──────────────────────────────────────────────\n",
              "   1 │ Republic of Ireland             6          1\n",
              "   2 │ Poland                          7          1\n",
              "   3 │ Greece                          9          1\n",
              "   4 │ Denmark                         4          0\n",
              "   5 │ Germany                         4          0\n",
              "   6 │ England                         5          0\n",
              "   7 │ Netherlands                     5          0\n",
              "   8 │ Ukraine                         5          0\n",
              "   9 │ France                          6          0\n",
              "  10 │ Russia                          6          0\n",
              "  11 │ Czech Republic                  7          0\n",
              "  12 │ Sweden                          7          0\n",
              "  13 │ Croatia                         9          0\n",
              "  14 │ Spain                          11          0\n",
              "  15 │ Portugal                       12          0\n",
              "  16 │ Italy                          16          0"
            ]
          },
          "metadata": {},
          "execution_count": 9
        }
      ]
    },
    {
      "cell_type": "code",
      "source": [
        "? sort"
      ],
      "metadata": {
        "colab": {
          "base_uri": "https://localhost:8080/",
          "height": 1000
        },
        "id": "2FLcga92ws4V",
        "outputId": "7a5715fe-4b52-4658-c85b-b09dd4c9548a"
      },
      "execution_count": 10,
      "outputs": [
        {
          "output_type": "stream",
          "name": "stdout",
          "text": [
            "search: \u001b[0m\u001b[1ms\u001b[22m\u001b[0m\u001b[1mo\u001b[22m\u001b[0m\u001b[1mr\u001b[22m\u001b[0m\u001b[1mt\u001b[22m \u001b[0m\u001b[1ms\u001b[22m\u001b[0m\u001b[1mo\u001b[22m\u001b[0m\u001b[1mr\u001b[22m\u001b[0m\u001b[1mt\u001b[22m! \u001b[0m\u001b[1ms\u001b[22m\u001b[0m\u001b[1mo\u001b[22m\u001b[0m\u001b[1mr\u001b[22m\u001b[0m\u001b[1mt\u001b[22mperm \u001b[0m\u001b[1ms\u001b[22m\u001b[0m\u001b[1mo\u001b[22m\u001b[0m\u001b[1mr\u001b[22m\u001b[0m\u001b[1mt\u001b[22mperm! \u001b[0m\u001b[1ms\u001b[22m\u001b[0m\u001b[1mo\u001b[22m\u001b[0m\u001b[1mr\u001b[22m\u001b[0m\u001b[1mt\u001b[22mslices in\u001b[0m\u001b[1ms\u001b[22m\u001b[0m\u001b[1mo\u001b[22m\u001b[0m\u001b[1mr\u001b[22m\u001b[0m\u001b[1mt\u001b[22med C\u001b[0m\u001b[1ms\u001b[22mh\u001b[0m\u001b[1mo\u001b[22m\u001b[0m\u001b[1mr\u001b[22m\u001b[0m\u001b[1mt\u001b[22m i\u001b[0m\u001b[1ms\u001b[22ms\u001b[0m\u001b[1mo\u001b[22m\u001b[0m\u001b[1mr\u001b[22m\u001b[0m\u001b[1mt\u001b[22med\n",
            "\n"
          ]
        },
        {
          "output_type": "execute_result",
          "data": {
            "text/latex": "\\begin{verbatim}\nsort(v; alg::Algorithm=defalg(v), lt=isless, by=identity, rev::Bool=false, order::Ordering=Forward)\n\\end{verbatim}\nVariant of \\href{@ref}{\\texttt{sort!}} that returns a sorted copy of \\texttt{v} leaving \\texttt{v} itself unmodified.\n\n\\section{Examples}\n\\begin{verbatim}\njulia> v = [3, 1, 2];\n\njulia> sort(v)\n3-element Vector{Int64}:\n 1\n 2\n 3\n\njulia> v\n3-element Vector{Int64}:\n 3\n 1\n 2\n\\end{verbatim}\n\\rule{\\textwidth}{1pt}\n\\begin{verbatim}\nsort(A; dims::Integer, alg::Algorithm=DEFAULT_UNSTABLE, lt=isless, by=identity, rev::Bool=false, order::Ordering=Forward)\n\\end{verbatim}\nSort a multidimensional array \\texttt{A} along the given dimension. See \\href{@ref}{\\texttt{sort!}} for a description of possible keyword arguments.\n\nTo sort slices of an array, refer to \\href{@ref}{\\texttt{sortslices}}.\n\n\\section{Examples}\n\\begin{verbatim}\njulia> A = [4 3; 1 2]\n2×2 Matrix{Int64}:\n 4  3\n 1  2\n\njulia> sort(A, dims = 1)\n2×2 Matrix{Int64}:\n 1  2\n 4  3\n\njulia> sort(A, dims = 2)\n2×2 Matrix{Int64}:\n 3  4\n 1  2\n\\end{verbatim}\n\\rule{\\textwidth}{1pt}\n\\begin{verbatim}\nsort(df::AbstractDataFrame, cols=All();\n     alg::Union{Algorithm, Nothing}=nothing,\n     lt::Union{Function, AbstractVector{<:Function}}=isless,\n     by::Union{Function, AbstractVector{<:Function}}=identity,\n     rev::Union{Bool, AbstractVector{Bool}}=false,\n     order::Union{Ordering, AbstractVector{<:Ordering}}=Forward,\n     view::Bool=false)\n\\end{verbatim}\nReturn a data frame containing the rows in \\texttt{df} sorted by column(s) \\texttt{cols}. Sorting on multiple columns is done lexicographically.\n\n\\texttt{cols} can be any column selector (\\texttt{Symbol}, string or integer; \\texttt{:}, \\texttt{Cols}, \\texttt{All}, \\texttt{Between}, \\texttt{Not}, a regular expression, or a vector of \\texttt{Symbol}s, strings or integers). If \\texttt{cols} selects no columns, sort \\texttt{df} on all columns (this behaviour is deprecated and will change in future versions).\n\nIf \\texttt{rev} is \\texttt{true}, reverse sorting is performed. To enable reverse sorting only for some columns, pass \\texttt{order(c, rev=true)} in \\texttt{cols}, with \\texttt{c} the corresponding column index (see example below).\n\nThe \\texttt{by} keyword allows providing a function that will be applied to each cell before comparison; the \\texttt{lt} keyword allows providing a custom \"less than\" function. If both \\texttt{by} and \\texttt{lt} are specified, the \\texttt{lt} function is applied to the result of the \\texttt{by} function.\n\nAll the keyword arguments can be either a single value, which is applied to all columns, or a vector of length equal to the number of columns that the operation is performed on. In such a case each entry is used for the column in the corresponding position in \\texttt{cols}.\n\nIf \\texttt{alg} is \\texttt{nothing} (the default), the most appropriate algorithm is chosen automatically among \\texttt{TimSort}, \\texttt{MergeSort} and \\texttt{RadixSort} depending on the type of the sorting columns and on the number of rows in \\texttt{df}.\n\nIf \\texttt{view=false} a freshly allocated \\texttt{DataFrame} is returned. If \\texttt{view=true} then a \\texttt{SubDataFrame} view into \\texttt{df} is returned.\n\n\\section{Examples}\n\\begin{verbatim}\njulia> df = DataFrame(x=[3, 1, 2, 1], y=[\"b\", \"c\", \"a\", \"b\"])\n4×2 DataFrame\n Row │ x      y\n     │ Int64  String\n─────┼───────────────\n   1 │     3  b\n   2 │     1  c\n   3 │     2  a\n   4 │     1  b\n\njulia> sort(df, :x)\n4×2 DataFrame\n Row │ x      y\n     │ Int64  String\n─────┼───────────────\n   1 │     1  c\n   2 │     1  b\n   3 │     2  a\n   4 │     3  b\n\njulia> sort(df, [:x, :y])\n4×2 DataFrame\n Row │ x      y\n     │ Int64  String\n─────┼───────────────\n   1 │     1  b\n   2 │     1  c\n   3 │     2  a\n   4 │     3  b\n\njulia> sort(df, [:x, :y], rev=true)\n4×2 DataFrame\n Row │ x      y\n     │ Int64  String\n─────┼───────────────\n   1 │     3  b\n   2 │     2  a\n   3 │     1  c\n   4 │     1  b\n\njulia> sort(df, [:x, order(:y, rev=true)])\n4×2 DataFrame\n Row │ x      y\n     │ Int64  String\n─────┼───────────────\n   1 │     1  c\n   2 │     1  b\n   3 │     2  a\n   4 │     3  b\n\\end{verbatim}\n",
            "text/markdown": "```\nsort(v; alg::Algorithm=defalg(v), lt=isless, by=identity, rev::Bool=false, order::Ordering=Forward)\n```\n\nVariant of [`sort!`](@ref) that returns a sorted copy of `v` leaving `v` itself unmodified.\n\n# Examples\n\n```jldoctest\njulia> v = [3, 1, 2];\n\njulia> sort(v)\n3-element Vector{Int64}:\n 1\n 2\n 3\n\njulia> v\n3-element Vector{Int64}:\n 3\n 1\n 2\n```\n\n---\n\n```\nsort(A; dims::Integer, alg::Algorithm=DEFAULT_UNSTABLE, lt=isless, by=identity, rev::Bool=false, order::Ordering=Forward)\n```\n\nSort a multidimensional array `A` along the given dimension. See [`sort!`](@ref) for a description of possible keyword arguments.\n\nTo sort slices of an array, refer to [`sortslices`](@ref).\n\n# Examples\n\n```jldoctest\njulia> A = [4 3; 1 2]\n2×2 Matrix{Int64}:\n 4  3\n 1  2\n\njulia> sort(A, dims = 1)\n2×2 Matrix{Int64}:\n 1  2\n 4  3\n\njulia> sort(A, dims = 2)\n2×2 Matrix{Int64}:\n 3  4\n 1  2\n```\n\n---\n\n```\nsort(df::AbstractDataFrame, cols=All();\n     alg::Union{Algorithm, Nothing}=nothing,\n     lt::Union{Function, AbstractVector{<:Function}}=isless,\n     by::Union{Function, AbstractVector{<:Function}}=identity,\n     rev::Union{Bool, AbstractVector{Bool}}=false,\n     order::Union{Ordering, AbstractVector{<:Ordering}}=Forward,\n     view::Bool=false)\n```\n\nReturn a data frame containing the rows in `df` sorted by column(s) `cols`. Sorting on multiple columns is done lexicographically.\n\n`cols` can be any column selector (`Symbol`, string or integer; `:`, `Cols`, `All`, `Between`, `Not`, a regular expression, or a vector of `Symbol`s, strings or integers). If `cols` selects no columns, sort `df` on all columns (this behaviour is deprecated and will change in future versions).\n\nIf `rev` is `true`, reverse sorting is performed. To enable reverse sorting only for some columns, pass `order(c, rev=true)` in `cols`, with `c` the corresponding column index (see example below).\n\nThe `by` keyword allows providing a function that will be applied to each cell before comparison; the `lt` keyword allows providing a custom \"less than\" function. If both `by` and `lt` are specified, the `lt` function is applied to the result of the `by` function.\n\nAll the keyword arguments can be either a single value, which is applied to all columns, or a vector of length equal to the number of columns that the operation is performed on. In such a case each entry is used for the column in the corresponding position in `cols`.\n\nIf `alg` is `nothing` (the default), the most appropriate algorithm is chosen automatically among `TimSort`, `MergeSort` and `RadixSort` depending on the type of the sorting columns and on the number of rows in `df`.\n\nIf `view=false` a freshly allocated `DataFrame` is returned. If `view=true` then a `SubDataFrame` view into `df` is returned.\n\n# Examples\n\n```jldoctest\njulia> df = DataFrame(x=[3, 1, 2, 1], y=[\"b\", \"c\", \"a\", \"b\"])\n4×2 DataFrame\n Row │ x      y\n     │ Int64  String\n─────┼───────────────\n   1 │     3  b\n   2 │     1  c\n   3 │     2  a\n   4 │     1  b\n\njulia> sort(df, :x)\n4×2 DataFrame\n Row │ x      y\n     │ Int64  String\n─────┼───────────────\n   1 │     1  c\n   2 │     1  b\n   3 │     2  a\n   4 │     3  b\n\njulia> sort(df, [:x, :y])\n4×2 DataFrame\n Row │ x      y\n     │ Int64  String\n─────┼───────────────\n   1 │     1  b\n   2 │     1  c\n   3 │     2  a\n   4 │     3  b\n\njulia> sort(df, [:x, :y], rev=true)\n4×2 DataFrame\n Row │ x      y\n     │ Int64  String\n─────┼───────────────\n   1 │     3  b\n   2 │     2  a\n   3 │     1  c\n   4 │     1  b\n\njulia> sort(df, [:x, order(:y, rev=true)])\n4×2 DataFrame\n Row │ x      y\n     │ Int64  String\n─────┼───────────────\n   1 │     1  c\n   2 │     1  b\n   3 │     2  a\n   4 │     3  b\n```\n",
            "text/plain": [
              "\u001b[36m  sort(v; alg::Algorithm=defalg(v), lt=isless, by=identity, rev::Bool=false, order::Ordering=Forward)\u001b[39m\n",
              "\n",
              "  Variant of \u001b[36msort!\u001b[39m that returns a sorted copy of \u001b[36mv\u001b[39m leaving \u001b[36mv\u001b[39m itself\n",
              "  unmodified.\n",
              "\n",
              "\u001b[1m  Examples\u001b[22m\n",
              "\u001b[1m  ≡≡≡≡≡≡≡≡≡≡\u001b[22m\n",
              "\n",
              "\u001b[36m  julia> v = [3, 1, 2];\u001b[39m\n",
              "\u001b[36m  \u001b[39m\n",
              "\u001b[36m  julia> sort(v)\u001b[39m\n",
              "\u001b[36m  3-element Vector{Int64}:\u001b[39m\n",
              "\u001b[36m   1\u001b[39m\n",
              "\u001b[36m   2\u001b[39m\n",
              "\u001b[36m   3\u001b[39m\n",
              "\u001b[36m  \u001b[39m\n",
              "\u001b[36m  julia> v\u001b[39m\n",
              "\u001b[36m  3-element Vector{Int64}:\u001b[39m\n",
              "\u001b[36m   3\u001b[39m\n",
              "\u001b[36m   1\u001b[39m\n",
              "\u001b[36m   2\u001b[39m\n",
              "\n",
              "  ────────────────────────────────────────────────────────────────────────────\n",
              "\n",
              "\u001b[36m  sort(A; dims::Integer, alg::Algorithm=DEFAULT_UNSTABLE, lt=isless, by=identity, rev::Bool=false, order::Ordering=Forward)\u001b[39m\n",
              "\n",
              "  Sort a multidimensional array \u001b[36mA\u001b[39m along the given dimension. See \u001b[36msort!\u001b[39m for a\n",
              "  description of possible keyword arguments.\n",
              "\n",
              "  To sort slices of an array, refer to \u001b[36msortslices\u001b[39m.\n",
              "\n",
              "\u001b[1m  Examples\u001b[22m\n",
              "\u001b[1m  ≡≡≡≡≡≡≡≡≡≡\u001b[22m\n",
              "\n",
              "\u001b[36m  julia> A = [4 3; 1 2]\u001b[39m\n",
              "\u001b[36m  2×2 Matrix{Int64}:\u001b[39m\n",
              "\u001b[36m   4  3\u001b[39m\n",
              "\u001b[36m   1  2\u001b[39m\n",
              "\u001b[36m  \u001b[39m\n",
              "\u001b[36m  julia> sort(A, dims = 1)\u001b[39m\n",
              "\u001b[36m  2×2 Matrix{Int64}:\u001b[39m\n",
              "\u001b[36m   1  2\u001b[39m\n",
              "\u001b[36m   4  3\u001b[39m\n",
              "\u001b[36m  \u001b[39m\n",
              "\u001b[36m  julia> sort(A, dims = 2)\u001b[39m\n",
              "\u001b[36m  2×2 Matrix{Int64}:\u001b[39m\n",
              "\u001b[36m   3  4\u001b[39m\n",
              "\u001b[36m   1  2\u001b[39m\n",
              "\n",
              "  ────────────────────────────────────────────────────────────────────────────\n",
              "\n",
              "\u001b[36m  sort(df::AbstractDataFrame, cols=All();\u001b[39m\n",
              "\u001b[36m       alg::Union{Algorithm, Nothing}=nothing,\u001b[39m\n",
              "\u001b[36m       lt::Union{Function, AbstractVector{<:Function}}=isless,\u001b[39m\n",
              "\u001b[36m       by::Union{Function, AbstractVector{<:Function}}=identity,\u001b[39m\n",
              "\u001b[36m       rev::Union{Bool, AbstractVector{Bool}}=false,\u001b[39m\n",
              "\u001b[36m       order::Union{Ordering, AbstractVector{<:Ordering}}=Forward,\u001b[39m\n",
              "\u001b[36m       view::Bool=false)\u001b[39m\n",
              "\n",
              "  Return a data frame containing the rows in \u001b[36mdf\u001b[39m sorted by column(s) \u001b[36mcols\u001b[39m.\n",
              "  Sorting on multiple columns is done lexicographically.\n",
              "\n",
              "  \u001b[36mcols\u001b[39m can be any column selector (\u001b[36mSymbol\u001b[39m, string or integer; \u001b[36m:\u001b[39m, \u001b[36mCols\u001b[39m, \u001b[36mAll\u001b[39m,\n",
              "  \u001b[36mBetween\u001b[39m, \u001b[36mNot\u001b[39m, a regular expression, or a vector of \u001b[36mSymbol\u001b[39ms, strings or\n",
              "  integers). If \u001b[36mcols\u001b[39m selects no columns, sort \u001b[36mdf\u001b[39m on all columns (this\n",
              "  behaviour is deprecated and will change in future versions).\n",
              "\n",
              "  If \u001b[36mrev\u001b[39m is \u001b[36mtrue\u001b[39m, reverse sorting is performed. To enable reverse sorting only\n",
              "  for some columns, pass \u001b[36morder(c, rev=true)\u001b[39m in \u001b[36mcols\u001b[39m, with \u001b[36mc\u001b[39m the corresponding\n",
              "  column index (see example below).\n",
              "\n",
              "  The \u001b[36mby\u001b[39m keyword allows providing a function that will be applied to each cell\n",
              "  before comparison; the \u001b[36mlt\u001b[39m keyword allows providing a custom \"less than\"\n",
              "  function. If both \u001b[36mby\u001b[39m and \u001b[36mlt\u001b[39m are specified, the \u001b[36mlt\u001b[39m function is applied to the\n",
              "  result of the \u001b[36mby\u001b[39m function.\n",
              "\n",
              "  All the keyword arguments can be either a single value, which is applied to\n",
              "  all columns, or a vector of length equal to the number of columns that the\n",
              "  operation is performed on. In such a case each entry is used for the column\n",
              "  in the corresponding position in \u001b[36mcols\u001b[39m.\n",
              "\n",
              "  If \u001b[36malg\u001b[39m is \u001b[36mnothing\u001b[39m (the default), the most appropriate algorithm is chosen\n",
              "  automatically among \u001b[36mTimSort\u001b[39m, \u001b[36mMergeSort\u001b[39m and \u001b[36mRadixSort\u001b[39m depending on the type\n",
              "  of the sorting columns and on the number of rows in \u001b[36mdf\u001b[39m.\n",
              "\n",
              "  If \u001b[36mview=false\u001b[39m a freshly allocated \u001b[36mDataFrame\u001b[39m is returned. If \u001b[36mview=true\u001b[39m then a\n",
              "  \u001b[36mSubDataFrame\u001b[39m view into \u001b[36mdf\u001b[39m is returned.\n",
              "\n",
              "\u001b[1m  Examples\u001b[22m\n",
              "\u001b[1m  ≡≡≡≡≡≡≡≡≡≡\u001b[22m\n",
              "\n",
              "\u001b[36m  julia> df = DataFrame(x=[3, 1, 2, 1], y=[\"b\", \"c\", \"a\", \"b\"])\u001b[39m\n",
              "\u001b[36m  4×2 DataFrame\u001b[39m\n",
              "\u001b[36m   Row │ x      y\u001b[39m\n",
              "\u001b[36m       │ Int64  String\u001b[39m\n",
              "\u001b[36m  ─────┼───────────────\u001b[39m\n",
              "\u001b[36m     1 │     3  b\u001b[39m\n",
              "\u001b[36m     2 │     1  c\u001b[39m\n",
              "\u001b[36m     3 │     2  a\u001b[39m\n",
              "\u001b[36m     4 │     1  b\u001b[39m\n",
              "\u001b[36m  \u001b[39m\n",
              "\u001b[36m  julia> sort(df, :x)\u001b[39m\n",
              "\u001b[36m  4×2 DataFrame\u001b[39m\n",
              "\u001b[36m   Row │ x      y\u001b[39m\n",
              "\u001b[36m       │ Int64  String\u001b[39m\n",
              "\u001b[36m  ─────┼───────────────\u001b[39m\n",
              "\u001b[36m     1 │     1  c\u001b[39m\n",
              "\u001b[36m     2 │     1  b\u001b[39m\n",
              "\u001b[36m     3 │     2  a\u001b[39m\n",
              "\u001b[36m     4 │     3  b\u001b[39m\n",
              "\u001b[36m  \u001b[39m\n",
              "\u001b[36m  julia> sort(df, [:x, :y])\u001b[39m\n",
              "\u001b[36m  4×2 DataFrame\u001b[39m\n",
              "\u001b[36m   Row │ x      y\u001b[39m\n",
              "\u001b[36m       │ Int64  String\u001b[39m\n",
              "\u001b[36m  ─────┼───────────────\u001b[39m\n",
              "\u001b[36m     1 │     1  b\u001b[39m\n",
              "\u001b[36m     2 │     1  c\u001b[39m\n",
              "\u001b[36m     3 │     2  a\u001b[39m\n",
              "\u001b[36m     4 │     3  b\u001b[39m\n",
              "\u001b[36m  \u001b[39m\n",
              "\u001b[36m  julia> sort(df, [:x, :y], rev=true)\u001b[39m\n",
              "\u001b[36m  4×2 DataFrame\u001b[39m\n",
              "\u001b[36m   Row │ x      y\u001b[39m\n",
              "\u001b[36m       │ Int64  String\u001b[39m\n",
              "\u001b[36m  ─────┼───────────────\u001b[39m\n",
              "\u001b[36m     1 │     3  b\u001b[39m\n",
              "\u001b[36m     2 │     2  a\u001b[39m\n",
              "\u001b[36m     3 │     1  c\u001b[39m\n",
              "\u001b[36m     4 │     1  b\u001b[39m\n",
              "\u001b[36m  \u001b[39m\n",
              "\u001b[36m  julia> sort(df, [:x, order(:y, rev=true)])\u001b[39m\n",
              "\u001b[36m  4×2 DataFrame\u001b[39m\n",
              "\u001b[36m   Row │ x      y\u001b[39m\n",
              "\u001b[36m       │ Int64  String\u001b[39m\n",
              "\u001b[36m  ─────┼───────────────\u001b[39m\n",
              "\u001b[36m     1 │     1  c\u001b[39m\n",
              "\u001b[36m     2 │     1  b\u001b[39m\n",
              "\u001b[36m     3 │     2  a\u001b[39m\n",
              "\u001b[36m     4 │     3  b\u001b[39m"
            ]
          },
          "metadata": {},
          "execution_count": 10
        }
      ]
    },
    {
      "cell_type": "markdown",
      "source": [
        "# Step 9. Calculate the mean Yellow Cards given per Team\n"
      ],
      "metadata": {
        "id": "yjgXo01Exr7K"
      }
    },
    {
      "cell_type": "code",
      "source": [
        "mean(discipline[!,\"Yellow Cards\"])"
      ],
      "metadata": {
        "colab": {
          "base_uri": "https://localhost:8080/"
        },
        "id": "hCncEkyTw52T",
        "outputId": "0e959937-8f17-44ad-b403-67f862e65d3b"
      },
      "execution_count": 11,
      "outputs": [
        {
          "output_type": "execute_result",
          "data": {
            "text/plain": [
              "7.4375"
            ]
          },
          "metadata": {},
          "execution_count": 11
        }
      ]
    },
    {
      "cell_type": "markdown",
      "source": [
        "# Step 10. Filter teams that scored more than 6 goals"
      ],
      "metadata": {
        "id": "tLsyTSk_xuHP"
      }
    },
    {
      "cell_type": "code",
      "source": [
        "euro12[euro12.Goals .> 6,:]"
      ],
      "metadata": {
        "colab": {
          "base_uri": "https://localhost:8080/",
          "height": 134
        },
        "id": "H4MZr2FPxQn_",
        "outputId": "5cb1885a-a396-4f1c-9114-c03de28cc290"
      },
      "execution_count": 12,
      "outputs": [
        {
          "output_type": "execute_result",
          "data": {
            "text/latex": "\\begin{tabular}{r|ccccccc}\n\t& Team & Goals & Shots on target & Shots off target & Shooting Accuracy & \\% Goals-to-shots & \\\\\n\t\\hline\n\t& String31 & Int64 & Int64 & Int64 & String7 & String7 & \\\\\n\t\\hline\n\t1 & Germany & 10 & 32 & 32 & 47.8\\% & 15.6\\% & $\\dots$ \\\\\n\t2 & Spain & 12 & 42 & 33 & 55.9\\% & 16.0\\% & $\\dots$ \\\\\n\\end{tabular}\n",
            "text/html": [
              "<div class=\"data-frame\"><p>2 rows × 35 columns (omitted printing of 29 columns)</p><table class=\"data-frame\"><thead><tr><th></th><th>Team</th><th>Goals</th><th>Shots on target</th><th>Shots off target</th><th>Shooting Accuracy</th><th>% Goals-to-shots</th></tr><tr><th></th><th title=\"String31\">String31</th><th title=\"Int64\">Int64</th><th title=\"Int64\">Int64</th><th title=\"Int64\">Int64</th><th title=\"String7\">String7</th><th title=\"String7\">String7</th></tr></thead><tbody><tr><th>1</th><td>Germany</td><td>10</td><td>32</td><td>32</td><td>47.8%</td><td>15.6%</td></tr><tr><th>2</th><td>Spain</td><td>12</td><td>42</td><td>33</td><td>55.9%</td><td>16.0%</td></tr></tbody></table></div>"
            ],
            "text/plain": [
              "\u001b[1m2×35 DataFrame\u001b[0m\n",
              "\u001b[1m Row \u001b[0m│\u001b[1m Team     \u001b[0m\u001b[1m Goals \u001b[0m\u001b[1m Shots on target \u001b[0m\u001b[1m Shots off target \u001b[0m\u001b[1m Shooting Accuracy \u001b[0m\u001b[1m \u001b[0m ⋯\n",
              "\u001b[1m     \u001b[0m│\u001b[90m String31 \u001b[0m\u001b[90m Int64 \u001b[0m\u001b[90m Int64           \u001b[0m\u001b[90m Int64            \u001b[0m\u001b[90m String7           \u001b[0m\u001b[90m \u001b[0m ⋯\n",
              "─────┼──────────────────────────────────────────────────────────────────────────\n",
              "   1 │ Germany      10               32                32  47.8%               ⋯\n",
              "   2 │ Spain        12               42                33  55.9%\n",
              "\u001b[36m                                                              30 columns omitted\u001b[0m"
            ]
          },
          "metadata": {},
          "execution_count": 12
        }
      ]
    },
    {
      "cell_type": "markdown",
      "source": [
        "# Step 11. Select the teams that start with G"
      ],
      "metadata": {
        "id": "zDx9q_1ryGZX"
      }
    },
    {
      "cell_type": "code",
      "source": [
        "euro12[startswith.(euro12[!,:Team], \"G\"), :]"
      ],
      "metadata": {
        "colab": {
          "base_uri": "https://localhost:8080/",
          "height": 134
        },
        "id": "6HTVheR1xvGK",
        "outputId": "efa3ea71-86db-4fff-c125-b3e041035f94"
      },
      "execution_count": 13,
      "outputs": [
        {
          "output_type": "execute_result",
          "data": {
            "text/latex": "\\begin{tabular}{r|ccccccc}\n\t& Team & Goals & Shots on target & Shots off target & Shooting Accuracy & \\% Goals-to-shots & \\\\\n\t\\hline\n\t& String31 & Int64 & Int64 & Int64 & String7 & String7 & \\\\\n\t\\hline\n\t1 & Germany & 10 & 32 & 32 & 47.8\\% & 15.6\\% & $\\dots$ \\\\\n\t2 & Greece & 5 & 8 & 18 & 30.7\\% & 19.2\\% & $\\dots$ \\\\\n\\end{tabular}\n",
            "text/html": [
              "<div class=\"data-frame\"><p>2 rows × 35 columns (omitted printing of 29 columns)</p><table class=\"data-frame\"><thead><tr><th></th><th>Team</th><th>Goals</th><th>Shots on target</th><th>Shots off target</th><th>Shooting Accuracy</th><th>% Goals-to-shots</th></tr><tr><th></th><th title=\"String31\">String31</th><th title=\"Int64\">Int64</th><th title=\"Int64\">Int64</th><th title=\"Int64\">Int64</th><th title=\"String7\">String7</th><th title=\"String7\">String7</th></tr></thead><tbody><tr><th>1</th><td>Germany</td><td>10</td><td>32</td><td>32</td><td>47.8%</td><td>15.6%</td></tr><tr><th>2</th><td>Greece</td><td>5</td><td>8</td><td>18</td><td>30.7%</td><td>19.2%</td></tr></tbody></table></div>"
            ],
            "text/plain": [
              "\u001b[1m2×35 DataFrame\u001b[0m\n",
              "\u001b[1m Row \u001b[0m│\u001b[1m Team     \u001b[0m\u001b[1m Goals \u001b[0m\u001b[1m Shots on target \u001b[0m\u001b[1m Shots off target \u001b[0m\u001b[1m Shooting Accuracy \u001b[0m\u001b[1m \u001b[0m ⋯\n",
              "\u001b[1m     \u001b[0m│\u001b[90m String31 \u001b[0m\u001b[90m Int64 \u001b[0m\u001b[90m Int64           \u001b[0m\u001b[90m Int64            \u001b[0m\u001b[90m String7           \u001b[0m\u001b[90m \u001b[0m ⋯\n",
              "─────┼──────────────────────────────────────────────────────────────────────────\n",
              "   1 │ Germany      10               32                32  47.8%               ⋯\n",
              "   2 │ Greece        5                8                18  30.7%\n",
              "\u001b[36m                                                              30 columns omitted\u001b[0m"
            ]
          },
          "metadata": {},
          "execution_count": 13
        }
      ]
    },
    {
      "cell_type": "markdown",
      "source": [
        "# Step 12. Select the first 7 columns"
      ],
      "metadata": {
        "id": "I8EMUcfGyrgm"
      }
    },
    {
      "cell_type": "code",
      "source": [
        "euro12[!, 1:7]"
      ],
      "metadata": {
        "colab": {
          "base_uri": "https://localhost:8080/",
          "height": 433
        },
        "id": "pmS8PVDiyHR1",
        "outputId": "3d5f20fe-0a50-462f-a249-9d7e31eced08"
      },
      "execution_count": 14,
      "outputs": [
        {
          "output_type": "execute_result",
          "data": {
            "text/latex": "\\begin{tabular}{r|cccccc}\n\t& Team & Goals & Shots on target & Shots off target & Shooting Accuracy & \\\\\n\t\\hline\n\t& String31 & Int64 & Int64 & Int64 & String7 & \\\\\n\t\\hline\n\t1 & Croatia & 4 & 13 & 12 & 51.9\\% & $\\dots$ \\\\\n\t2 & Czech Republic & 4 & 13 & 18 & 41.9\\% & $\\dots$ \\\\\n\t3 & Denmark & 4 & 10 & 10 & 50.0\\% & $\\dots$ \\\\\n\t4 & England & 5 & 11 & 18 & 50.0\\% & $\\dots$ \\\\\n\t5 & France & 3 & 22 & 24 & 37.9\\% & $\\dots$ \\\\\n\t6 & Germany & 10 & 32 & 32 & 47.8\\% & $\\dots$ \\\\\n\t7 & Greece & 5 & 8 & 18 & 30.7\\% & $\\dots$ \\\\\n\t8 & Italy & 6 & 34 & 45 & 43.0\\% & $\\dots$ \\\\\n\t9 & Netherlands & 2 & 12 & 36 & 25.0\\% & $\\dots$ \\\\\n\t10 & Poland & 2 & 15 & 23 & 39.4\\% & $\\dots$ \\\\\n\t11 & Portugal & 6 & 22 & 42 & 34.3\\% & $\\dots$ \\\\\n\t12 & Republic of Ireland & 1 & 7 & 12 & 36.8\\% & $\\dots$ \\\\\n\t13 & Russia & 5 & 9 & 31 & 22.5\\% & $\\dots$ \\\\\n\t14 & Spain & 12 & 42 & 33 & 55.9\\% & $\\dots$ \\\\\n\t15 & Sweden & 5 & 17 & 19 & 47.2\\% & $\\dots$ \\\\\n\t16 & Ukraine & 2 & 7 & 26 & 21.2\\% & $\\dots$ \\\\\n\\end{tabular}\n",
            "text/html": [
              "<div class=\"data-frame\"><p>16 rows × 7 columns (omitted printing of 2 columns)</p><table class=\"data-frame\"><thead><tr><th></th><th>Team</th><th>Goals</th><th>Shots on target</th><th>Shots off target</th><th>Shooting Accuracy</th></tr><tr><th></th><th title=\"String31\">String31</th><th title=\"Int64\">Int64</th><th title=\"Int64\">Int64</th><th title=\"Int64\">Int64</th><th title=\"String7\">String7</th></tr></thead><tbody><tr><th>1</th><td>Croatia</td><td>4</td><td>13</td><td>12</td><td>51.9%</td></tr><tr><th>2</th><td>Czech Republic</td><td>4</td><td>13</td><td>18</td><td>41.9%</td></tr><tr><th>3</th><td>Denmark</td><td>4</td><td>10</td><td>10</td><td>50.0%</td></tr><tr><th>4</th><td>England</td><td>5</td><td>11</td><td>18</td><td>50.0%</td></tr><tr><th>5</th><td>France</td><td>3</td><td>22</td><td>24</td><td>37.9%</td></tr><tr><th>6</th><td>Germany</td><td>10</td><td>32</td><td>32</td><td>47.8%</td></tr><tr><th>7</th><td>Greece</td><td>5</td><td>8</td><td>18</td><td>30.7%</td></tr><tr><th>8</th><td>Italy</td><td>6</td><td>34</td><td>45</td><td>43.0%</td></tr><tr><th>9</th><td>Netherlands</td><td>2</td><td>12</td><td>36</td><td>25.0%</td></tr><tr><th>10</th><td>Poland</td><td>2</td><td>15</td><td>23</td><td>39.4%</td></tr><tr><th>11</th><td>Portugal</td><td>6</td><td>22</td><td>42</td><td>34.3%</td></tr><tr><th>12</th><td>Republic of Ireland</td><td>1</td><td>7</td><td>12</td><td>36.8%</td></tr><tr><th>13</th><td>Russia</td><td>5</td><td>9</td><td>31</td><td>22.5%</td></tr><tr><th>14</th><td>Spain</td><td>12</td><td>42</td><td>33</td><td>55.9%</td></tr><tr><th>15</th><td>Sweden</td><td>5</td><td>17</td><td>19</td><td>47.2%</td></tr><tr><th>16</th><td>Ukraine</td><td>2</td><td>7</td><td>26</td><td>21.2%</td></tr></tbody></table></div>"
            ],
            "text/plain": [
              "\u001b[1m16×7 DataFrame\u001b[0m\n",
              "\u001b[1m Row \u001b[0m│\u001b[1m Team                \u001b[0m\u001b[1m Goals \u001b[0m\u001b[1m Shots on target \u001b[0m\u001b[1m Shots off target \u001b[0m\u001b[1m Shooting\u001b[0m ⋯\n",
              "\u001b[1m     \u001b[0m│\u001b[90m String31            \u001b[0m\u001b[90m Int64 \u001b[0m\u001b[90m Int64           \u001b[0m\u001b[90m Int64            \u001b[0m\u001b[90m String7 \u001b[0m ⋯\n",
              "─────┼──────────────────────────────────────────────────────────────────────────\n",
              "   1 │ Croatia                  4               13                12  51.9%    ⋯\n",
              "   2 │ Czech Republic           4               13                18  41.9%\n",
              "   3 │ Denmark                  4               10                10  50.0%\n",
              "   4 │ England                  5               11                18  50.0%\n",
              "   5 │ France                   3               22                24  37.9%    ⋯\n",
              "   6 │ Germany                 10               32                32  47.8%\n",
              "   7 │ Greece                   5                8                18  30.7%\n",
              "   8 │ Italy                    6               34                45  43.0%\n",
              "   9 │ Netherlands              2               12                36  25.0%    ⋯\n",
              "  10 │ Poland                   2               15                23  39.4%\n",
              "  11 │ Portugal                 6               22                42  34.3%\n",
              "  12 │ Republic of Ireland      1                7                12  36.8%\n",
              "  13 │ Russia                   5                9                31  22.5%    ⋯\n",
              "  14 │ Spain                   12               42                33  55.9%\n",
              "  15 │ Sweden                   5               17                19  47.2%\n",
              "  16 │ Ukraine                  2                7                26  21.2%\n",
              "\u001b[36m                                                               3 columns omitted\u001b[0m"
            ]
          },
          "metadata": {},
          "execution_count": 14
        }
      ]
    },
    {
      "cell_type": "markdown",
      "source": [
        "# Step 13. Select all columns except the last 3."
      ],
      "metadata": {
        "id": "b3mJLsrdzpY9"
      }
    },
    {
      "cell_type": "code",
      "source": [
        "euro12[!, 1:end-3]"
      ],
      "metadata": {
        "colab": {
          "base_uri": "https://localhost:8080/",
          "height": 433
        },
        "id": "b3IcSlpkypL4",
        "outputId": "25ec7a80-d808-45bd-cacf-bc793ebc282a"
      },
      "execution_count": 15,
      "outputs": [
        {
          "output_type": "execute_result",
          "data": {
            "text/latex": "\\begin{tabular}{r|cccccc}\n\t& Team & Goals & Shots on target & Shots off target & Shooting Accuracy & \\\\\n\t\\hline\n\t& String31 & Int64 & Int64 & Int64 & String7 & \\\\\n\t\\hline\n\t1 & Croatia & 4 & 13 & 12 & 51.9\\% & $\\dots$ \\\\\n\t2 & Czech Republic & 4 & 13 & 18 & 41.9\\% & $\\dots$ \\\\\n\t3 & Denmark & 4 & 10 & 10 & 50.0\\% & $\\dots$ \\\\\n\t4 & England & 5 & 11 & 18 & 50.0\\% & $\\dots$ \\\\\n\t5 & France & 3 & 22 & 24 & 37.9\\% & $\\dots$ \\\\\n\t6 & Germany & 10 & 32 & 32 & 47.8\\% & $\\dots$ \\\\\n\t7 & Greece & 5 & 8 & 18 & 30.7\\% & $\\dots$ \\\\\n\t8 & Italy & 6 & 34 & 45 & 43.0\\% & $\\dots$ \\\\\n\t9 & Netherlands & 2 & 12 & 36 & 25.0\\% & $\\dots$ \\\\\n\t10 & Poland & 2 & 15 & 23 & 39.4\\% & $\\dots$ \\\\\n\t11 & Portugal & 6 & 22 & 42 & 34.3\\% & $\\dots$ \\\\\n\t12 & Republic of Ireland & 1 & 7 & 12 & 36.8\\% & $\\dots$ \\\\\n\t13 & Russia & 5 & 9 & 31 & 22.5\\% & $\\dots$ \\\\\n\t14 & Spain & 12 & 42 & 33 & 55.9\\% & $\\dots$ \\\\\n\t15 & Sweden & 5 & 17 & 19 & 47.2\\% & $\\dots$ \\\\\n\t16 & Ukraine & 2 & 7 & 26 & 21.2\\% & $\\dots$ \\\\\n\\end{tabular}\n",
            "text/html": [
              "<div class=\"data-frame\"><p>16 rows × 32 columns (omitted printing of 27 columns)</p><table class=\"data-frame\"><thead><tr><th></th><th>Team</th><th>Goals</th><th>Shots on target</th><th>Shots off target</th><th>Shooting Accuracy</th></tr><tr><th></th><th title=\"String31\">String31</th><th title=\"Int64\">Int64</th><th title=\"Int64\">Int64</th><th title=\"Int64\">Int64</th><th title=\"String7\">String7</th></tr></thead><tbody><tr><th>1</th><td>Croatia</td><td>4</td><td>13</td><td>12</td><td>51.9%</td></tr><tr><th>2</th><td>Czech Republic</td><td>4</td><td>13</td><td>18</td><td>41.9%</td></tr><tr><th>3</th><td>Denmark</td><td>4</td><td>10</td><td>10</td><td>50.0%</td></tr><tr><th>4</th><td>England</td><td>5</td><td>11</td><td>18</td><td>50.0%</td></tr><tr><th>5</th><td>France</td><td>3</td><td>22</td><td>24</td><td>37.9%</td></tr><tr><th>6</th><td>Germany</td><td>10</td><td>32</td><td>32</td><td>47.8%</td></tr><tr><th>7</th><td>Greece</td><td>5</td><td>8</td><td>18</td><td>30.7%</td></tr><tr><th>8</th><td>Italy</td><td>6</td><td>34</td><td>45</td><td>43.0%</td></tr><tr><th>9</th><td>Netherlands</td><td>2</td><td>12</td><td>36</td><td>25.0%</td></tr><tr><th>10</th><td>Poland</td><td>2</td><td>15</td><td>23</td><td>39.4%</td></tr><tr><th>11</th><td>Portugal</td><td>6</td><td>22</td><td>42</td><td>34.3%</td></tr><tr><th>12</th><td>Republic of Ireland</td><td>1</td><td>7</td><td>12</td><td>36.8%</td></tr><tr><th>13</th><td>Russia</td><td>5</td><td>9</td><td>31</td><td>22.5%</td></tr><tr><th>14</th><td>Spain</td><td>12</td><td>42</td><td>33</td><td>55.9%</td></tr><tr><th>15</th><td>Sweden</td><td>5</td><td>17</td><td>19</td><td>47.2%</td></tr><tr><th>16</th><td>Ukraine</td><td>2</td><td>7</td><td>26</td><td>21.2%</td></tr></tbody></table></div>"
            ],
            "text/plain": [
              "\u001b[1m16×32 DataFrame\u001b[0m\n",
              "\u001b[1m Row \u001b[0m│\u001b[1m Team                \u001b[0m\u001b[1m Goals \u001b[0m\u001b[1m Shots on target \u001b[0m\u001b[1m Shots off target \u001b[0m\u001b[1m Shooting\u001b[0m ⋯\n",
              "\u001b[1m     \u001b[0m│\u001b[90m String31            \u001b[0m\u001b[90m Int64 \u001b[0m\u001b[90m Int64           \u001b[0m\u001b[90m Int64            \u001b[0m\u001b[90m String7 \u001b[0m ⋯\n",
              "─────┼──────────────────────────────────────────────────────────────────────────\n",
              "   1 │ Croatia                  4               13                12  51.9%    ⋯\n",
              "   2 │ Czech Republic           4               13                18  41.9%\n",
              "   3 │ Denmark                  4               10                10  50.0%\n",
              "   4 │ England                  5               11                18  50.0%\n",
              "   5 │ France                   3               22                24  37.9%    ⋯\n",
              "   6 │ Germany                 10               32                32  47.8%\n",
              "   7 │ Greece                   5                8                18  30.7%\n",
              "   8 │ Italy                    6               34                45  43.0%\n",
              "   9 │ Netherlands              2               12                36  25.0%    ⋯\n",
              "  10 │ Poland                   2               15                23  39.4%\n",
              "  11 │ Portugal                 6               22                42  34.3%\n",
              "  12 │ Republic of Ireland      1                7                12  36.8%\n",
              "  13 │ Russia                   5                9                31  22.5%    ⋯\n",
              "  14 │ Spain                   12               42                33  55.9%\n",
              "  15 │ Sweden                   5               17                19  47.2%\n",
              "  16 │ Ukraine                  2                7                26  21.2%\n",
              "\u001b[36m                                                              28 columns omitted\u001b[0m"
            ]
          },
          "metadata": {},
          "execution_count": 15
        }
      ]
    },
    {
      "cell_type": "markdown",
      "source": [
        "# Step 14. Present only the Shooting Accuracy from England, Italy and Russia\n"
      ],
      "metadata": {
        "id": "zD5uUHeIuw8o"
      }
    },
    {
      "cell_type": "code",
      "source": [
        "country_eq(x) =   in(x, [\"England\", \"Italy\", \"Russia\"])"
      ],
      "metadata": {
        "colab": {
          "base_uri": "https://localhost:8080/"
        },
        "id": "b9GyxZ5oz_gR",
        "outputId": "74c50134-62e4-4b22-8d17-32519c0c5447"
      },
      "execution_count": 42,
      "outputs": [
        {
          "output_type": "execute_result",
          "data": {
            "text/plain": [
              "country_eq (generic function with 1 method)"
            ]
          },
          "metadata": {},
          "execution_count": 42
        }
      ]
    },
    {
      "cell_type": "code",
      "source": [
        "filter(x->country_eq.(x[:Team]) ,euro12)[!,[\"Team\",\"Shooting Accuracy\"]]"
      ],
      "metadata": {
        "colab": {
          "base_uri": "https://localhost:8080/",
          "height": 155
        },
        "id": "VfX4hnvYxeYS",
        "outputId": "eaa759d0-e808-4cba-a0ac-c2007379411b"
      },
      "execution_count": 45,
      "outputs": [
        {
          "output_type": "execute_result",
          "data": {
            "text/latex": "\\begin{tabular}{r|cc}\n\t& Team & Shooting Accuracy\\\\\n\t\\hline\n\t& String31 & String7\\\\\n\t\\hline\n\t1 & England & 50.0\\% \\\\\n\t2 & Italy & 43.0\\% \\\\\n\t3 & Russia & 22.5\\% \\\\\n\\end{tabular}\n",
            "text/html": [
              "<div class=\"data-frame\"><p>3 rows × 2 columns</p><table class=\"data-frame\"><thead><tr><th></th><th>Team</th><th>Shooting Accuracy</th></tr><tr><th></th><th title=\"String31\">String31</th><th title=\"String7\">String7</th></tr></thead><tbody><tr><th>1</th><td>England</td><td>50.0%</td></tr><tr><th>2</th><td>Italy</td><td>43.0%</td></tr><tr><th>3</th><td>Russia</td><td>22.5%</td></tr></tbody></table></div>"
            ],
            "text/plain": [
              "\u001b[1m3×2 DataFrame\u001b[0m\n",
              "\u001b[1m Row \u001b[0m│\u001b[1m Team     \u001b[0m\u001b[1m Shooting Accuracy \u001b[0m\n",
              "\u001b[1m     \u001b[0m│\u001b[90m String31 \u001b[0m\u001b[90m String7           \u001b[0m\n",
              "─────┼─────────────────────────────\n",
              "   1 │ England   50.0%\n",
              "   2 │ Italy     43.0%\n",
              "   3 │ Russia    22.5%"
            ]
          },
          "metadata": {},
          "execution_count": 45
        }
      ]
    }
  ]
}