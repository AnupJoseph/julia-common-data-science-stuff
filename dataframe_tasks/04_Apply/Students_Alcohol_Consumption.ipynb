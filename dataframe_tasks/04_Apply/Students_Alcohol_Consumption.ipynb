{
  "nbformat": 4,
  "nbformat_minor": 0,
  "metadata": {
    "colab": {
      "name": "04_Apply_Students_Alcohol_Consumption.ipynb",
      "provenance": [],
      "collapsed_sections": []
    },
    "kernelspec": {
      "display_name": "Julia",
      "language": "julia",
      "name": "julia"
    },
    "language_info": {
      "file_extension": ".jl",
      "mimetype": "application/julia",
      "name": "julia"
    }
  },
  "cells": [
    {
      "cell_type": "markdown",
      "metadata": {
        "id": "f_1dr-2W5iSU"
      },
      "source": [
        "# Getting Started with Julia in Colab/Jupyter\n",
        "You can either run this notebook in Google Colab, or using Jupyter on your own machine."
      ]
    },
    {
      "cell_type": "markdown",
      "metadata": {
        "id": "6ew60wXrZM0W"
      },
      "source": [
        "## Running on Google Colab\n",
        "1. Work on a copy of this notebook: _File_ > _Save a copy in Drive_ (you will need a Google account). Alternatively, you can download the notebook using _File_ > _Download .ipynb_, then upload it to [Colab](https://colab.research.google.com/).\n",
        "2. Execute the following cell (click on it and press Ctrl+Enter) to install Julia, IJulia (the Jupyter kernel for Julia) and other packages. You can update `JULIA_VERSION` and the other parameters, if you know what you're doing. Installation takes 2-3 minutes.\n",
        "3. Reload this page (press Ctrl+R, or ⌘+R, or the F5 key) and continue to the _Checking the Installation_ section.\n",
        "\n",
        "* _Note_: If your Colab Runtime gets reset (e.g., due to inactivity), repeat steps 2 and 3."
      ]
    },
    {
      "cell_type": "code",
      "metadata": {
        "id": "GIeFXS0F0zww",
        "colab": {
          "base_uri": "https://localhost:8080/"
        },
        "outputId": "1029444c-5778-4a31-a010-920ed829e26f"
      },
      "source": [
        "%%shell\n",
        "set -e\n",
        "\n",
        "#---------------------------------------------------#\n",
        "JULIA_VERSION=\"1.6.0\" # any version ≥ 0.7.0\n",
        "JULIA_PACKAGES=\"IJulia DataFrames CSV Pipe DataFramesMeta\"\n",
        "JULIA_PACKAGES_IF_GPU=\"CUDA\"\n",
        "JULIA_NUM_THREADS=4\n",
        "#---------------------------------------------------#\n",
        "\n",
        "if [ -n \"$COLAB_GPU\" ] && [ -z `which julia` ]; then\n",
        "  # Install Julia\n",
        "  JULIA_VER=`cut -d '.' -f -2 <<< \"$JULIA_VERSION\"`\n",
        "  echo \"Installing Julia $JULIA_VERSION on the current Colab Runtime...\"\n",
        "  BASE_URL=\"https://julialang-s3.julialang.org/bin/linux/x64\"\n",
        "  URL=\"$BASE_URL/$JULIA_VER/julia-$JULIA_VERSION-linux-x86_64.tar.gz\"\n",
        "  wget -nv $URL -O /tmp/julia.tar.gz # -nv means \"not verbose\"\n",
        "  tar -x -f /tmp/julia.tar.gz -C /usr/local --strip-components 1\n",
        "  rm /tmp/julia.tar.gz\n",
        "\n",
        "  # Install Packages\n",
        "  if [ \"$COLAB_GPU\" = \"1\" ]; then\n",
        "      JULIA_PACKAGES=\"$JULIA_PACKAGES $JULIA_PACKAGES_IF_GPU\"\n",
        "  fi\n",
        "  for PKG in `echo $JULIA_PACKAGES`; do\n",
        "    echo \"Installing Julia package $PKG...\"\n",
        "    julia -e 'using Pkg; pkg\"add '$PKG'; precompile;\"' &> /dev/null\n",
        "  done\n",
        "\n",
        "  # Install kernel and rename it to \"julia\"\n",
        "  echo \"Installing IJulia kernel...\"\n",
        "  julia -e 'using IJulia; IJulia.installkernel(\"julia\", env=Dict(\n",
        "      \"JULIA_NUM_THREADS\"=>\"'\"$JULIA_NUM_THREADS\"'\"))'\n",
        "  KERNEL_DIR=`julia -e \"using IJulia; print(IJulia.kerneldir())\"`\n",
        "  KERNEL_NAME=`ls -d \"$KERNEL_DIR\"/julia*`\n",
        "  mv -f $KERNEL_NAME \"$KERNEL_DIR\"/julia  \n",
        "\n",
        "  echo ''\n",
        "  echo \"Successfully installed `julia -v`!\"\n",
        "  echo \"Please reload this page (press Ctrl+R, ⌘+R, or the F5 key) then\"\n",
        "  echo \"jump to the 'Checking the Installation' section.\"\n",
        "fi"
      ],
      "execution_count": null,
      "outputs": [
        {
          "output_type": "stream",
          "name": "stdout",
          "text": [
            "Installing Julia 1.6.0 on the current Colab Runtime...\n",
            "2022-01-29 12:03:41 URL:https://storage.googleapis.com/julialang2/bin/linux/x64/1.6/julia-1.6.0-linux-x86_64.tar.gz [112838927/112838927] -> \"/tmp/julia.tar.gz\" [1]\n",
            "Installing Julia package IJulia...\n",
            "Installing Julia package DataFrames...\n",
            "Installing Julia package CSV...\n",
            "Installing Julia package Pipe...\n",
            "Installing Julia package DataFramesMeta...\n",
            "Installing IJulia kernel...\n",
            "\u001b[36m\u001b[1m[ \u001b[22m\u001b[39m\u001b[36m\u001b[1mInfo: \u001b[22m\u001b[39mInstalling julia kernelspec in /root/.local/share/jupyter/kernels/julia-1.6\n",
            "\n",
            "Successfully installed julia version 1.6.0!\n",
            "Please reload this page (press Ctrl+R, ⌘+R, or the F5 key) then\n",
            "jump to the 'Checking the Installation' section.\n"
          ]
        },
        {
          "output_type": "execute_result",
          "data": {
            "text/plain": [
              ""
            ]
          },
          "metadata": {},
          "execution_count": 1
        }
      ]
    },
    {
      "cell_type": "markdown",
      "metadata": {
        "id": "-OS3Ac017T1i"
      },
      "source": [
        "## Checking the Installation\n",
        "The `versioninfo()` function should print your Julia version and some other info about the system (if you ever ask for help or file an issue about Julia, you should always provide this information)."
      ]
    },
    {
      "cell_type": "code",
      "metadata": {
        "id": "EEzvvzCl1i0F",
        "colab": {
          "base_uri": "https://localhost:8080/"
        },
        "outputId": "40c47f58-9bf3-4932-9613-c21f3b3ba8fd"
      },
      "source": [
        "versioninfo()"
      ],
      "execution_count": 1,
      "outputs": [
        {
          "output_type": "stream",
          "name": "stdout",
          "text": [
            "Julia Version 1.6.0\n",
            "Commit f9720dc2eb (2021-03-24 12:55 UTC)\n",
            "Platform Info:\n",
            "  OS: Linux (x86_64-pc-linux-gnu)\n",
            "  CPU: Intel(R) Xeon(R) CPU @ 2.20GHz\n",
            "  WORD_SIZE: 64\n",
            "  LIBM: libopenlibm\n",
            "  LLVM: libLLVM-11.0.1 (ORCJIT, broadwell)\n",
            "Environment:\n",
            "  JULIA_NUM_THREADS = 4\n"
          ]
        }
      ]
    },
    {
      "cell_type": "markdown",
      "source": [
        "# Step 1. Import the necessary libraries"
      ],
      "metadata": {
        "id": "9hkzUyzjuvAW"
      }
    },
    {
      "cell_type": "code",
      "source": [
        "using DataFrames\n",
        "using CSV\n",
        "using Pipe\n",
        "using DataFramesMeta"
      ],
      "metadata": {
        "id": "CdM_w6sCup7x"
      },
      "execution_count": 2,
      "outputs": []
    },
    {
      "cell_type": "markdown",
      "source": [
        "# Step 2. Import the dataset from this [address](https://raw.githubusercontent.com/guipsamora/pandas_exercises/master/04_Apply/Students_Alcohol_Consumption/student-mat.csv).\n"
      ],
      "metadata": {
        "id": "DukmYZeAuz7L"
      }
    },
    {
      "cell_type": "code",
      "source": [
        "URL = \"https://raw.githubusercontent.com/guipsamora/pandas_exercises/master/04_Apply/Students_Alcohol_Consumption/student-mat.csv\"\n",
        "download(URL,\"student-mat.csv\")"
      ],
      "metadata": {
        "colab": {
          "base_uri": "https://localhost:8080/"
        },
        "id": "dOrSp1kGuwZT",
        "outputId": "8ee2dd2e-7835-4faa-8fdb-d5e06cf5ec1f"
      },
      "execution_count": 3,
      "outputs": [
        {
          "output_type": "execute_result",
          "data": {
            "text/plain": [
              "\"student-mat.csv\""
            ]
          },
          "metadata": {},
          "execution_count": 3
        }
      ]
    },
    {
      "cell_type": "markdown",
      "source": [
        "# Step 3. Assign it to a variable called df."
      ],
      "metadata": {
        "id": "acZyr2FtvNOE"
      }
    },
    {
      "cell_type": "code",
      "source": [
        "df = CSV.read(\"student-mat.csv\", DataFrame)"
      ],
      "metadata": {
        "colab": {
          "base_uri": "https://localhost:8080/",
          "height": 753
        },
        "id": "xq4UvMyRu1F4",
        "outputId": "04e4f6db-14a3-4506-e178-48d628448acc"
      },
      "execution_count": 4,
      "outputs": [
        {
          "output_type": "execute_result",
          "data": {
            "text/latex": "\\begin{tabular}{r|ccccccccccc}\n\t& school & sex & age & address & famsize & Pstatus & Medu & Fedu & Mjob & Fjob & \\\\\n\t\\hline\n\t& String3 & String1 & Int64 & String1 & String3 & String1 & Int64 & Int64 & String15 & String15 & \\\\\n\t\\hline\n\t1 & GP & F & 18 & U & GT3 & A & 4 & 4 & at\\_home & teacher & $\\dots$ \\\\\n\t2 & GP & F & 17 & U & GT3 & T & 1 & 1 & at\\_home & other & $\\dots$ \\\\\n\t3 & GP & F & 15 & U & LE3 & T & 1 & 1 & at\\_home & other & $\\dots$ \\\\\n\t4 & GP & F & 15 & U & GT3 & T & 4 & 2 & health & services & $\\dots$ \\\\\n\t5 & GP & F & 16 & U & GT3 & T & 3 & 3 & other & other & $\\dots$ \\\\\n\t6 & GP & M & 16 & U & LE3 & T & 4 & 3 & services & other & $\\dots$ \\\\\n\t7 & GP & M & 16 & U & LE3 & T & 2 & 2 & other & other & $\\dots$ \\\\\n\t8 & GP & F & 17 & U & GT3 & A & 4 & 4 & other & teacher & $\\dots$ \\\\\n\t9 & GP & M & 15 & U & LE3 & A & 3 & 2 & services & other & $\\dots$ \\\\\n\t10 & GP & M & 15 & U & GT3 & T & 3 & 4 & other & other & $\\dots$ \\\\\n\t11 & GP & F & 15 & U & GT3 & T & 4 & 4 & teacher & health & $\\dots$ \\\\\n\t12 & GP & F & 15 & U & GT3 & T & 2 & 1 & services & other & $\\dots$ \\\\\n\t13 & GP & M & 15 & U & LE3 & T & 4 & 4 & health & services & $\\dots$ \\\\\n\t14 & GP & M & 15 & U & GT3 & T & 4 & 3 & teacher & other & $\\dots$ \\\\\n\t15 & GP & M & 15 & U & GT3 & A & 2 & 2 & other & other & $\\dots$ \\\\\n\t16 & GP & F & 16 & U & GT3 & T & 4 & 4 & health & other & $\\dots$ \\\\\n\t17 & GP & F & 16 & U & GT3 & T & 4 & 4 & services & services & $\\dots$ \\\\\n\t18 & GP & F & 16 & U & GT3 & T & 3 & 3 & other & other & $\\dots$ \\\\\n\t19 & GP & M & 17 & U & GT3 & T & 3 & 2 & services & services & $\\dots$ \\\\\n\t20 & GP & M & 16 & U & LE3 & T & 4 & 3 & health & other & $\\dots$ \\\\\n\t21 & GP & M & 15 & U & GT3 & T & 4 & 3 & teacher & other & $\\dots$ \\\\\n\t22 & GP & M & 15 & U & GT3 & T & 4 & 4 & health & health & $\\dots$ \\\\\n\t23 & GP & M & 16 & U & LE3 & T & 4 & 2 & teacher & other & $\\dots$ \\\\\n\t24 & GP & M & 16 & U & LE3 & T & 2 & 2 & other & other & $\\dots$ \\\\\n\t25 & GP & F & 15 & R & GT3 & T & 2 & 4 & services & health & $\\dots$ \\\\\n\t26 & GP & F & 16 & U & GT3 & T & 2 & 2 & services & services & $\\dots$ \\\\\n\t27 & GP & M & 15 & U & GT3 & T & 2 & 2 & other & other & $\\dots$ \\\\\n\t28 & GP & M & 15 & U & GT3 & T & 4 & 2 & health & services & $\\dots$ \\\\\n\t29 & GP & M & 16 & U & LE3 & A & 3 & 4 & services & other & $\\dots$ \\\\\n\t30 & GP & M & 16 & U & GT3 & T & 4 & 4 & teacher & teacher & $\\dots$ \\\\\n\t$\\dots$ & $\\dots$ & $\\dots$ & $\\dots$ & $\\dots$ & $\\dots$ & $\\dots$ & $\\dots$ & $\\dots$ & $\\dots$ & $\\dots$ &  \\\\\n\\end{tabular}\n",
            "text/html": [
              "<div class=\"data-frame\"><p>395 rows × 33 columns (omitted printing of 23 columns)</p><table class=\"data-frame\"><thead><tr><th></th><th>school</th><th>sex</th><th>age</th><th>address</th><th>famsize</th><th>Pstatus</th><th>Medu</th><th>Fedu</th><th>Mjob</th><th>Fjob</th></tr><tr><th></th><th title=\"String3\">String3</th><th title=\"String1\">String1</th><th title=\"Int64\">Int64</th><th title=\"String1\">String1</th><th title=\"String3\">String3</th><th title=\"String1\">String1</th><th title=\"Int64\">Int64</th><th title=\"Int64\">Int64</th><th title=\"String15\">String15</th><th title=\"String15\">String15</th></tr></thead><tbody><tr><th>1</th><td>GP</td><td>F</td><td>18</td><td>U</td><td>GT3</td><td>A</td><td>4</td><td>4</td><td>at_home</td><td>teacher</td></tr><tr><th>2</th><td>GP</td><td>F</td><td>17</td><td>U</td><td>GT3</td><td>T</td><td>1</td><td>1</td><td>at_home</td><td>other</td></tr><tr><th>3</th><td>GP</td><td>F</td><td>15</td><td>U</td><td>LE3</td><td>T</td><td>1</td><td>1</td><td>at_home</td><td>other</td></tr><tr><th>4</th><td>GP</td><td>F</td><td>15</td><td>U</td><td>GT3</td><td>T</td><td>4</td><td>2</td><td>health</td><td>services</td></tr><tr><th>5</th><td>GP</td><td>F</td><td>16</td><td>U</td><td>GT3</td><td>T</td><td>3</td><td>3</td><td>other</td><td>other</td></tr><tr><th>6</th><td>GP</td><td>M</td><td>16</td><td>U</td><td>LE3</td><td>T</td><td>4</td><td>3</td><td>services</td><td>other</td></tr><tr><th>7</th><td>GP</td><td>M</td><td>16</td><td>U</td><td>LE3</td><td>T</td><td>2</td><td>2</td><td>other</td><td>other</td></tr><tr><th>8</th><td>GP</td><td>F</td><td>17</td><td>U</td><td>GT3</td><td>A</td><td>4</td><td>4</td><td>other</td><td>teacher</td></tr><tr><th>9</th><td>GP</td><td>M</td><td>15</td><td>U</td><td>LE3</td><td>A</td><td>3</td><td>2</td><td>services</td><td>other</td></tr><tr><th>10</th><td>GP</td><td>M</td><td>15</td><td>U</td><td>GT3</td><td>T</td><td>3</td><td>4</td><td>other</td><td>other</td></tr><tr><th>11</th><td>GP</td><td>F</td><td>15</td><td>U</td><td>GT3</td><td>T</td><td>4</td><td>4</td><td>teacher</td><td>health</td></tr><tr><th>12</th><td>GP</td><td>F</td><td>15</td><td>U</td><td>GT3</td><td>T</td><td>2</td><td>1</td><td>services</td><td>other</td></tr><tr><th>13</th><td>GP</td><td>M</td><td>15</td><td>U</td><td>LE3</td><td>T</td><td>4</td><td>4</td><td>health</td><td>services</td></tr><tr><th>14</th><td>GP</td><td>M</td><td>15</td><td>U</td><td>GT3</td><td>T</td><td>4</td><td>3</td><td>teacher</td><td>other</td></tr><tr><th>15</th><td>GP</td><td>M</td><td>15</td><td>U</td><td>GT3</td><td>A</td><td>2</td><td>2</td><td>other</td><td>other</td></tr><tr><th>16</th><td>GP</td><td>F</td><td>16</td><td>U</td><td>GT3</td><td>T</td><td>4</td><td>4</td><td>health</td><td>other</td></tr><tr><th>17</th><td>GP</td><td>F</td><td>16</td><td>U</td><td>GT3</td><td>T</td><td>4</td><td>4</td><td>services</td><td>services</td></tr><tr><th>18</th><td>GP</td><td>F</td><td>16</td><td>U</td><td>GT3</td><td>T</td><td>3</td><td>3</td><td>other</td><td>other</td></tr><tr><th>19</th><td>GP</td><td>M</td><td>17</td><td>U</td><td>GT3</td><td>T</td><td>3</td><td>2</td><td>services</td><td>services</td></tr><tr><th>20</th><td>GP</td><td>M</td><td>16</td><td>U</td><td>LE3</td><td>T</td><td>4</td><td>3</td><td>health</td><td>other</td></tr><tr><th>21</th><td>GP</td><td>M</td><td>15</td><td>U</td><td>GT3</td><td>T</td><td>4</td><td>3</td><td>teacher</td><td>other</td></tr><tr><th>22</th><td>GP</td><td>M</td><td>15</td><td>U</td><td>GT3</td><td>T</td><td>4</td><td>4</td><td>health</td><td>health</td></tr><tr><th>23</th><td>GP</td><td>M</td><td>16</td><td>U</td><td>LE3</td><td>T</td><td>4</td><td>2</td><td>teacher</td><td>other</td></tr><tr><th>24</th><td>GP</td><td>M</td><td>16</td><td>U</td><td>LE3</td><td>T</td><td>2</td><td>2</td><td>other</td><td>other</td></tr><tr><th>25</th><td>GP</td><td>F</td><td>15</td><td>R</td><td>GT3</td><td>T</td><td>2</td><td>4</td><td>services</td><td>health</td></tr><tr><th>26</th><td>GP</td><td>F</td><td>16</td><td>U</td><td>GT3</td><td>T</td><td>2</td><td>2</td><td>services</td><td>services</td></tr><tr><th>27</th><td>GP</td><td>M</td><td>15</td><td>U</td><td>GT3</td><td>T</td><td>2</td><td>2</td><td>other</td><td>other</td></tr><tr><th>28</th><td>GP</td><td>M</td><td>15</td><td>U</td><td>GT3</td><td>T</td><td>4</td><td>2</td><td>health</td><td>services</td></tr><tr><th>29</th><td>GP</td><td>M</td><td>16</td><td>U</td><td>LE3</td><td>A</td><td>3</td><td>4</td><td>services</td><td>other</td></tr><tr><th>30</th><td>GP</td><td>M</td><td>16</td><td>U</td><td>GT3</td><td>T</td><td>4</td><td>4</td><td>teacher</td><td>teacher</td></tr><tr><th>&vellip;</th><td>&vellip;</td><td>&vellip;</td><td>&vellip;</td><td>&vellip;</td><td>&vellip;</td><td>&vellip;</td><td>&vellip;</td><td>&vellip;</td><td>&vellip;</td><td>&vellip;</td></tr></tbody></table></div>"
            ],
            "text/plain": [
              "\u001b[1m395×33 DataFrame\u001b[0m\n",
              "\u001b[1m Row \u001b[0m│\u001b[1m school  \u001b[0m\u001b[1m sex     \u001b[0m\u001b[1m age   \u001b[0m\u001b[1m address \u001b[0m\u001b[1m famsize \u001b[0m\u001b[1m Pstatus \u001b[0m\u001b[1m Medu  \u001b[0m\u001b[1m Fedu  \u001b[0m\u001b[1m Mjob \u001b[0m ⋯\n",
              "\u001b[1m     \u001b[0m│\u001b[90m String3 \u001b[0m\u001b[90m String1 \u001b[0m\u001b[90m Int64 \u001b[0m\u001b[90m String1 \u001b[0m\u001b[90m String3 \u001b[0m\u001b[90m String1 \u001b[0m\u001b[90m Int64 \u001b[0m\u001b[90m Int64 \u001b[0m\u001b[90m Strin\u001b[0m ⋯\n",
              "─────┼──────────────────────────────────────────────────────────────────────────\n",
              "   1 │ GP       F           18  U        GT3      A            4      4  at_ho ⋯\n",
              "   2 │ GP       F           17  U        GT3      T            1      1  at_ho\n",
              "   3 │ GP       F           15  U        LE3      T            1      1  at_ho\n",
              "   4 │ GP       F           15  U        GT3      T            4      2  healt\n",
              "   5 │ GP       F           16  U        GT3      T            3      3  other ⋯\n",
              "   6 │ GP       M           16  U        LE3      T            4      3  servi\n",
              "   7 │ GP       M           16  U        LE3      T            2      2  other\n",
              "   8 │ GP       F           17  U        GT3      A            4      4  other\n",
              "   9 │ GP       M           15  U        LE3      A            3      2  servi ⋯\n",
              "  10 │ GP       M           15  U        GT3      T            3      4  other\n",
              "  11 │ GP       F           15  U        GT3      T            4      4  teach\n",
              "  ⋮  │    ⋮        ⋮       ⋮       ⋮        ⋮        ⋮       ⋮      ⋮       ⋮  ⋱\n",
              " 386 │ MS       F           18  R        GT3      T            2      2  at_ho\n",
              " 387 │ MS       F           18  R        GT3      T            4      4  teach ⋯\n",
              " 388 │ MS       F           19  R        GT3      T            2      3  servi\n",
              " 389 │ MS       F           18  U        LE3      T            3      1  teach\n",
              " 390 │ MS       F           18  U        GT3      T            1      1  other\n",
              " 391 │ MS       M           20  U        LE3      A            2      2  servi ⋯\n",
              " 392 │ MS       M           17  U        LE3      T            3      1  servi\n",
              " 393 │ MS       M           21  R        GT3      T            1      1  other\n",
              " 394 │ MS       M           18  R        LE3      T            3      2  servi\n",
              " 395 │ MS       M           19  U        LE3      T            1      1  other ⋯\n",
              "\u001b[36m                                                 25 columns and 374 rows omitted\u001b[0m"
            ]
          },
          "metadata": {},
          "execution_count": 4
        }
      ]
    },
    {
      "cell_type": "markdown",
      "source": [
        "# Step 4. For the purpose of this exercise slice the dataframe from 'school' until the 'guardian' column\n"
      ],
      "metadata": {
        "id": "Pz0e54RkyrNU"
      }
    },
    {
      "cell_type": "code",
      "source": [
        "stud_alcohol = select(df, Between(\"school\", \"guardian\"))"
      ],
      "metadata": {
        "colab": {
          "base_uri": "https://localhost:8080/",
          "height": 753
        },
        "id": "yNUc2CkzwzVS",
        "outputId": "77379d51-1ad1-4f26-d083-24b3ba486c41"
      },
      "execution_count": 11,
      "outputs": [
        {
          "output_type": "execute_result",
          "data": {
            "text/latex": "\\begin{tabular}{r|ccccccccccc}\n\t& school & sex & age & address & famsize & Pstatus & Medu & Fedu & Mjob & Fjob & \\\\\n\t\\hline\n\t& String3 & String1 & Int64 & String1 & String3 & String1 & Int64 & Int64 & String15 & String15 & \\\\\n\t\\hline\n\t1 & GP & F & 18 & U & GT3 & A & 4 & 4 & at\\_home & teacher & $\\dots$ \\\\\n\t2 & GP & F & 17 & U & GT3 & T & 1 & 1 & at\\_home & other & $\\dots$ \\\\\n\t3 & GP & F & 15 & U & LE3 & T & 1 & 1 & at\\_home & other & $\\dots$ \\\\\n\t4 & GP & F & 15 & U & GT3 & T & 4 & 2 & health & services & $\\dots$ \\\\\n\t5 & GP & F & 16 & U & GT3 & T & 3 & 3 & other & other & $\\dots$ \\\\\n\t6 & GP & M & 16 & U & LE3 & T & 4 & 3 & services & other & $\\dots$ \\\\\n\t7 & GP & M & 16 & U & LE3 & T & 2 & 2 & other & other & $\\dots$ \\\\\n\t8 & GP & F & 17 & U & GT3 & A & 4 & 4 & other & teacher & $\\dots$ \\\\\n\t9 & GP & M & 15 & U & LE3 & A & 3 & 2 & services & other & $\\dots$ \\\\\n\t10 & GP & M & 15 & U & GT3 & T & 3 & 4 & other & other & $\\dots$ \\\\\n\t11 & GP & F & 15 & U & GT3 & T & 4 & 4 & teacher & health & $\\dots$ \\\\\n\t12 & GP & F & 15 & U & GT3 & T & 2 & 1 & services & other & $\\dots$ \\\\\n\t13 & GP & M & 15 & U & LE3 & T & 4 & 4 & health & services & $\\dots$ \\\\\n\t14 & GP & M & 15 & U & GT3 & T & 4 & 3 & teacher & other & $\\dots$ \\\\\n\t15 & GP & M & 15 & U & GT3 & A & 2 & 2 & other & other & $\\dots$ \\\\\n\t16 & GP & F & 16 & U & GT3 & T & 4 & 4 & health & other & $\\dots$ \\\\\n\t17 & GP & F & 16 & U & GT3 & T & 4 & 4 & services & services & $\\dots$ \\\\\n\t18 & GP & F & 16 & U & GT3 & T & 3 & 3 & other & other & $\\dots$ \\\\\n\t19 & GP & M & 17 & U & GT3 & T & 3 & 2 & services & services & $\\dots$ \\\\\n\t20 & GP & M & 16 & U & LE3 & T & 4 & 3 & health & other & $\\dots$ \\\\\n\t21 & GP & M & 15 & U & GT3 & T & 4 & 3 & teacher & other & $\\dots$ \\\\\n\t22 & GP & M & 15 & U & GT3 & T & 4 & 4 & health & health & $\\dots$ \\\\\n\t23 & GP & M & 16 & U & LE3 & T & 4 & 2 & teacher & other & $\\dots$ \\\\\n\t24 & GP & M & 16 & U & LE3 & T & 2 & 2 & other & other & $\\dots$ \\\\\n\t25 & GP & F & 15 & R & GT3 & T & 2 & 4 & services & health & $\\dots$ \\\\\n\t26 & GP & F & 16 & U & GT3 & T & 2 & 2 & services & services & $\\dots$ \\\\\n\t27 & GP & M & 15 & U & GT3 & T & 2 & 2 & other & other & $\\dots$ \\\\\n\t28 & GP & M & 15 & U & GT3 & T & 4 & 2 & health & services & $\\dots$ \\\\\n\t29 & GP & M & 16 & U & LE3 & A & 3 & 4 & services & other & $\\dots$ \\\\\n\t30 & GP & M & 16 & U & GT3 & T & 4 & 4 & teacher & teacher & $\\dots$ \\\\\n\t$\\dots$ & $\\dots$ & $\\dots$ & $\\dots$ & $\\dots$ & $\\dots$ & $\\dots$ & $\\dots$ & $\\dots$ & $\\dots$ & $\\dots$ &  \\\\\n\\end{tabular}\n",
            "text/html": [
              "<div class=\"data-frame\"><p>395 rows × 12 columns (omitted printing of 2 columns)</p><table class=\"data-frame\"><thead><tr><th></th><th>school</th><th>sex</th><th>age</th><th>address</th><th>famsize</th><th>Pstatus</th><th>Medu</th><th>Fedu</th><th>Mjob</th><th>Fjob</th></tr><tr><th></th><th title=\"String3\">String3</th><th title=\"String1\">String1</th><th title=\"Int64\">Int64</th><th title=\"String1\">String1</th><th title=\"String3\">String3</th><th title=\"String1\">String1</th><th title=\"Int64\">Int64</th><th title=\"Int64\">Int64</th><th title=\"String15\">String15</th><th title=\"String15\">String15</th></tr></thead><tbody><tr><th>1</th><td>GP</td><td>F</td><td>18</td><td>U</td><td>GT3</td><td>A</td><td>4</td><td>4</td><td>at_home</td><td>teacher</td></tr><tr><th>2</th><td>GP</td><td>F</td><td>17</td><td>U</td><td>GT3</td><td>T</td><td>1</td><td>1</td><td>at_home</td><td>other</td></tr><tr><th>3</th><td>GP</td><td>F</td><td>15</td><td>U</td><td>LE3</td><td>T</td><td>1</td><td>1</td><td>at_home</td><td>other</td></tr><tr><th>4</th><td>GP</td><td>F</td><td>15</td><td>U</td><td>GT3</td><td>T</td><td>4</td><td>2</td><td>health</td><td>services</td></tr><tr><th>5</th><td>GP</td><td>F</td><td>16</td><td>U</td><td>GT3</td><td>T</td><td>3</td><td>3</td><td>other</td><td>other</td></tr><tr><th>6</th><td>GP</td><td>M</td><td>16</td><td>U</td><td>LE3</td><td>T</td><td>4</td><td>3</td><td>services</td><td>other</td></tr><tr><th>7</th><td>GP</td><td>M</td><td>16</td><td>U</td><td>LE3</td><td>T</td><td>2</td><td>2</td><td>other</td><td>other</td></tr><tr><th>8</th><td>GP</td><td>F</td><td>17</td><td>U</td><td>GT3</td><td>A</td><td>4</td><td>4</td><td>other</td><td>teacher</td></tr><tr><th>9</th><td>GP</td><td>M</td><td>15</td><td>U</td><td>LE3</td><td>A</td><td>3</td><td>2</td><td>services</td><td>other</td></tr><tr><th>10</th><td>GP</td><td>M</td><td>15</td><td>U</td><td>GT3</td><td>T</td><td>3</td><td>4</td><td>other</td><td>other</td></tr><tr><th>11</th><td>GP</td><td>F</td><td>15</td><td>U</td><td>GT3</td><td>T</td><td>4</td><td>4</td><td>teacher</td><td>health</td></tr><tr><th>12</th><td>GP</td><td>F</td><td>15</td><td>U</td><td>GT3</td><td>T</td><td>2</td><td>1</td><td>services</td><td>other</td></tr><tr><th>13</th><td>GP</td><td>M</td><td>15</td><td>U</td><td>LE3</td><td>T</td><td>4</td><td>4</td><td>health</td><td>services</td></tr><tr><th>14</th><td>GP</td><td>M</td><td>15</td><td>U</td><td>GT3</td><td>T</td><td>4</td><td>3</td><td>teacher</td><td>other</td></tr><tr><th>15</th><td>GP</td><td>M</td><td>15</td><td>U</td><td>GT3</td><td>A</td><td>2</td><td>2</td><td>other</td><td>other</td></tr><tr><th>16</th><td>GP</td><td>F</td><td>16</td><td>U</td><td>GT3</td><td>T</td><td>4</td><td>4</td><td>health</td><td>other</td></tr><tr><th>17</th><td>GP</td><td>F</td><td>16</td><td>U</td><td>GT3</td><td>T</td><td>4</td><td>4</td><td>services</td><td>services</td></tr><tr><th>18</th><td>GP</td><td>F</td><td>16</td><td>U</td><td>GT3</td><td>T</td><td>3</td><td>3</td><td>other</td><td>other</td></tr><tr><th>19</th><td>GP</td><td>M</td><td>17</td><td>U</td><td>GT3</td><td>T</td><td>3</td><td>2</td><td>services</td><td>services</td></tr><tr><th>20</th><td>GP</td><td>M</td><td>16</td><td>U</td><td>LE3</td><td>T</td><td>4</td><td>3</td><td>health</td><td>other</td></tr><tr><th>21</th><td>GP</td><td>M</td><td>15</td><td>U</td><td>GT3</td><td>T</td><td>4</td><td>3</td><td>teacher</td><td>other</td></tr><tr><th>22</th><td>GP</td><td>M</td><td>15</td><td>U</td><td>GT3</td><td>T</td><td>4</td><td>4</td><td>health</td><td>health</td></tr><tr><th>23</th><td>GP</td><td>M</td><td>16</td><td>U</td><td>LE3</td><td>T</td><td>4</td><td>2</td><td>teacher</td><td>other</td></tr><tr><th>24</th><td>GP</td><td>M</td><td>16</td><td>U</td><td>LE3</td><td>T</td><td>2</td><td>2</td><td>other</td><td>other</td></tr><tr><th>25</th><td>GP</td><td>F</td><td>15</td><td>R</td><td>GT3</td><td>T</td><td>2</td><td>4</td><td>services</td><td>health</td></tr><tr><th>26</th><td>GP</td><td>F</td><td>16</td><td>U</td><td>GT3</td><td>T</td><td>2</td><td>2</td><td>services</td><td>services</td></tr><tr><th>27</th><td>GP</td><td>M</td><td>15</td><td>U</td><td>GT3</td><td>T</td><td>2</td><td>2</td><td>other</td><td>other</td></tr><tr><th>28</th><td>GP</td><td>M</td><td>15</td><td>U</td><td>GT3</td><td>T</td><td>4</td><td>2</td><td>health</td><td>services</td></tr><tr><th>29</th><td>GP</td><td>M</td><td>16</td><td>U</td><td>LE3</td><td>A</td><td>3</td><td>4</td><td>services</td><td>other</td></tr><tr><th>30</th><td>GP</td><td>M</td><td>16</td><td>U</td><td>GT3</td><td>T</td><td>4</td><td>4</td><td>teacher</td><td>teacher</td></tr><tr><th>&vellip;</th><td>&vellip;</td><td>&vellip;</td><td>&vellip;</td><td>&vellip;</td><td>&vellip;</td><td>&vellip;</td><td>&vellip;</td><td>&vellip;</td><td>&vellip;</td><td>&vellip;</td></tr></tbody></table></div>"
            ],
            "text/plain": [
              "\u001b[1m395×12 DataFrame\u001b[0m\n",
              "\u001b[1m Row \u001b[0m│\u001b[1m school  \u001b[0m\u001b[1m sex     \u001b[0m\u001b[1m age   \u001b[0m\u001b[1m address \u001b[0m\u001b[1m famsize \u001b[0m\u001b[1m Pstatus \u001b[0m\u001b[1m Medu  \u001b[0m\u001b[1m Fedu  \u001b[0m\u001b[1m Mjob \u001b[0m ⋯\n",
              "\u001b[1m     \u001b[0m│\u001b[90m String3 \u001b[0m\u001b[90m String1 \u001b[0m\u001b[90m Int64 \u001b[0m\u001b[90m String1 \u001b[0m\u001b[90m String3 \u001b[0m\u001b[90m String1 \u001b[0m\u001b[90m Int64 \u001b[0m\u001b[90m Int64 \u001b[0m\u001b[90m Strin\u001b[0m ⋯\n",
              "─────┼──────────────────────────────────────────────────────────────────────────\n",
              "   1 │ GP       F           18  U        GT3      A            4      4  at_ho ⋯\n",
              "   2 │ GP       F           17  U        GT3      T            1      1  at_ho\n",
              "   3 │ GP       F           15  U        LE3      T            1      1  at_ho\n",
              "   4 │ GP       F           15  U        GT3      T            4      2  healt\n",
              "   5 │ GP       F           16  U        GT3      T            3      3  other ⋯\n",
              "   6 │ GP       M           16  U        LE3      T            4      3  servi\n",
              "   7 │ GP       M           16  U        LE3      T            2      2  other\n",
              "   8 │ GP       F           17  U        GT3      A            4      4  other\n",
              "   9 │ GP       M           15  U        LE3      A            3      2  servi ⋯\n",
              "  10 │ GP       M           15  U        GT3      T            3      4  other\n",
              "  11 │ GP       F           15  U        GT3      T            4      4  teach\n",
              "  ⋮  │    ⋮        ⋮       ⋮       ⋮        ⋮        ⋮       ⋮      ⋮       ⋮  ⋱\n",
              " 386 │ MS       F           18  R        GT3      T            2      2  at_ho\n",
              " 387 │ MS       F           18  R        GT3      T            4      4  teach ⋯\n",
              " 388 │ MS       F           19  R        GT3      T            2      3  servi\n",
              " 389 │ MS       F           18  U        LE3      T            3      1  teach\n",
              " 390 │ MS       F           18  U        GT3      T            1      1  other\n",
              " 391 │ MS       M           20  U        LE3      A            2      2  servi ⋯\n",
              " 392 │ MS       M           17  U        LE3      T            3      1  servi\n",
              " 393 │ MS       M           21  R        GT3      T            1      1  other\n",
              " 394 │ MS       M           18  R        LE3      T            3      2  servi\n",
              " 395 │ MS       M           19  U        LE3      T            1      1  other ⋯\n",
              "\u001b[36m                                                  4 columns and 374 rows omitted\u001b[0m"
            ]
          },
          "metadata": {},
          "execution_count": 11
        }
      ]
    },
    {
      "cell_type": "markdown",
      "source": [
        "# Step 5. Create a lambda function that will capitalize strings."
      ],
      "metadata": {
        "id": "9dquPGahzaMT"
      }
    },
    {
      "cell_type": "code",
      "source": [
        "# Julia has an inbuilt function to do this so we won't make it\n",
        "uppercasefirst(\"school\")"
      ],
      "metadata": {
        "colab": {
          "base_uri": "https://localhost:8080/"
        },
        "id": "B39qhR8PyGdP",
        "outputId": "1c9be5e3-1ccd-488b-e48e-bd0ca4f077d6"
      },
      "execution_count": 12,
      "outputs": [
        {
          "output_type": "execute_result",
          "data": {
            "text/plain": [
              "\"School\""
            ]
          },
          "metadata": {},
          "execution_count": 12
        }
      ]
    },
    {
      "cell_type": "markdown",
      "source": [
        "# Step 6. Capitalize both Mjob and Fjob"
      ],
      "metadata": {
        "id": "M3sOk8czz6CZ"
      }
    },
    {
      "cell_type": "code",
      "source": [
        "stud_alcohol[!, :Mjob] = uppercasefirst.(stud_alcohol.Mjob)\n",
        "stud_alcohol[!, :Fjob] = uppercasefirst.(stud_alcohol.Fjob)"
      ],
      "metadata": {
        "id": "YP97us-CzbOo"
      },
      "execution_count": null,
      "outputs": []
    },
    {
      "cell_type": "code",
      "source": [
        "first(stud_alcohol,5)"
      ],
      "metadata": {
        "colab": {
          "base_uri": "https://localhost:8080/",
          "height": 198
        },
        "id": "e5EG_LQjz6n5",
        "outputId": "c5f73f2d-84c8-4313-afd3-ad334e2c1e63"
      },
      "execution_count": 17,
      "outputs": [
        {
          "output_type": "execute_result",
          "data": {
            "text/latex": "\\begin{tabular}{r|ccccccccccc}\n\t& school & sex & age & address & famsize & Pstatus & Medu & Fedu & Mjob & Fjob & \\\\\n\t\\hline\n\t& String3 & String1 & Int64 & String1 & String3 & String1 & Int64 & Int64 & String & String & \\\\\n\t\\hline\n\t1 & GP & F & 18 & U & GT3 & A & 4 & 4 & At\\_home & Teacher & $\\dots$ \\\\\n\t2 & GP & F & 17 & U & GT3 & T & 1 & 1 & At\\_home & Other & $\\dots$ \\\\\n\t3 & GP & F & 15 & U & LE3 & T & 1 & 1 & At\\_home & Other & $\\dots$ \\\\\n\t4 & GP & F & 15 & U & GT3 & T & 4 & 2 & Health & Services & $\\dots$ \\\\\n\t5 & GP & F & 16 & U & GT3 & T & 3 & 3 & Other & Other & $\\dots$ \\\\\n\\end{tabular}\n",
            "text/html": [
              "<div class=\"data-frame\"><p>5 rows × 12 columns (omitted printing of 2 columns)</p><table class=\"data-frame\"><thead><tr><th></th><th>school</th><th>sex</th><th>age</th><th>address</th><th>famsize</th><th>Pstatus</th><th>Medu</th><th>Fedu</th><th>Mjob</th><th>Fjob</th></tr><tr><th></th><th title=\"String3\">String3</th><th title=\"String1\">String1</th><th title=\"Int64\">Int64</th><th title=\"String1\">String1</th><th title=\"String3\">String3</th><th title=\"String1\">String1</th><th title=\"Int64\">Int64</th><th title=\"Int64\">Int64</th><th title=\"String\">String</th><th title=\"String\">String</th></tr></thead><tbody><tr><th>1</th><td>GP</td><td>F</td><td>18</td><td>U</td><td>GT3</td><td>A</td><td>4</td><td>4</td><td>At_home</td><td>Teacher</td></tr><tr><th>2</th><td>GP</td><td>F</td><td>17</td><td>U</td><td>GT3</td><td>T</td><td>1</td><td>1</td><td>At_home</td><td>Other</td></tr><tr><th>3</th><td>GP</td><td>F</td><td>15</td><td>U</td><td>LE3</td><td>T</td><td>1</td><td>1</td><td>At_home</td><td>Other</td></tr><tr><th>4</th><td>GP</td><td>F</td><td>15</td><td>U</td><td>GT3</td><td>T</td><td>4</td><td>2</td><td>Health</td><td>Services</td></tr><tr><th>5</th><td>GP</td><td>F</td><td>16</td><td>U</td><td>GT3</td><td>T</td><td>3</td><td>3</td><td>Other</td><td>Other</td></tr></tbody></table></div>"
            ],
            "text/plain": [
              "\u001b[1m5×12 DataFrame\u001b[0m\n",
              "\u001b[1m Row \u001b[0m│\u001b[1m school  \u001b[0m\u001b[1m sex     \u001b[0m\u001b[1m age   \u001b[0m\u001b[1m address \u001b[0m\u001b[1m famsize \u001b[0m\u001b[1m Pstatus \u001b[0m\u001b[1m Medu  \u001b[0m\u001b[1m Fedu  \u001b[0m\u001b[1m Mjob \u001b[0m ⋯\n",
              "\u001b[1m     \u001b[0m│\u001b[90m String3 \u001b[0m\u001b[90m String1 \u001b[0m\u001b[90m Int64 \u001b[0m\u001b[90m String1 \u001b[0m\u001b[90m String3 \u001b[0m\u001b[90m String1 \u001b[0m\u001b[90m Int64 \u001b[0m\u001b[90m Int64 \u001b[0m\u001b[90m Strin\u001b[0m ⋯\n",
              "─────┼──────────────────────────────────────────────────────────────────────────\n",
              "   1 │ GP       F           18  U        GT3      A            4      4  At_ho ⋯\n",
              "   2 │ GP       F           17  U        GT3      T            1      1  At_ho\n",
              "   3 │ GP       F           15  U        LE3      T            1      1  At_ho\n",
              "   4 │ GP       F           15  U        GT3      T            4      2  Healt\n",
              "   5 │ GP       F           16  U        GT3      T            3      3  Other ⋯\n",
              "\u001b[36m                                                               4 columns omitted\u001b[0m"
            ]
          },
          "metadata": {},
          "execution_count": 17
        }
      ]
    },
    {
      "cell_type": "markdown",
      "source": [
        "# Step 7. Print the last elements of the data set."
      ],
      "metadata": {
        "id": "D1RIb6-Y0sO1"
      }
    },
    {
      "cell_type": "code",
      "source": [
        "last(stud_alcohol, 5)"
      ],
      "metadata": {
        "colab": {
          "base_uri": "https://localhost:8080/",
          "height": 198
        },
        "id": "MID3haKf0M4d",
        "outputId": "2f156778-3c12-4920-db03-fc01039cbc6d"
      },
      "execution_count": 18,
      "outputs": [
        {
          "output_type": "execute_result",
          "data": {
            "text/latex": "\\begin{tabular}{r|ccccccccccc}\n\t& school & sex & age & address & famsize & Pstatus & Medu & Fedu & Mjob & Fjob & \\\\\n\t\\hline\n\t& String3 & String1 & Int64 & String1 & String3 & String1 & Int64 & Int64 & String & String & \\\\\n\t\\hline\n\t1 & MS & M & 20 & U & LE3 & A & 2 & 2 & Services & Services & $\\dots$ \\\\\n\t2 & MS & M & 17 & U & LE3 & T & 3 & 1 & Services & Services & $\\dots$ \\\\\n\t3 & MS & M & 21 & R & GT3 & T & 1 & 1 & Other & Other & $\\dots$ \\\\\n\t4 & MS & M & 18 & R & LE3 & T & 3 & 2 & Services & Other & $\\dots$ \\\\\n\t5 & MS & M & 19 & U & LE3 & T & 1 & 1 & Other & At\\_home & $\\dots$ \\\\\n\\end{tabular}\n",
            "text/html": [
              "<div class=\"data-frame\"><p>5 rows × 12 columns (omitted printing of 2 columns)</p><table class=\"data-frame\"><thead><tr><th></th><th>school</th><th>sex</th><th>age</th><th>address</th><th>famsize</th><th>Pstatus</th><th>Medu</th><th>Fedu</th><th>Mjob</th><th>Fjob</th></tr><tr><th></th><th title=\"String3\">String3</th><th title=\"String1\">String1</th><th title=\"Int64\">Int64</th><th title=\"String1\">String1</th><th title=\"String3\">String3</th><th title=\"String1\">String1</th><th title=\"Int64\">Int64</th><th title=\"Int64\">Int64</th><th title=\"String\">String</th><th title=\"String\">String</th></tr></thead><tbody><tr><th>1</th><td>MS</td><td>M</td><td>20</td><td>U</td><td>LE3</td><td>A</td><td>2</td><td>2</td><td>Services</td><td>Services</td></tr><tr><th>2</th><td>MS</td><td>M</td><td>17</td><td>U</td><td>LE3</td><td>T</td><td>3</td><td>1</td><td>Services</td><td>Services</td></tr><tr><th>3</th><td>MS</td><td>M</td><td>21</td><td>R</td><td>GT3</td><td>T</td><td>1</td><td>1</td><td>Other</td><td>Other</td></tr><tr><th>4</th><td>MS</td><td>M</td><td>18</td><td>R</td><td>LE3</td><td>T</td><td>3</td><td>2</td><td>Services</td><td>Other</td></tr><tr><th>5</th><td>MS</td><td>M</td><td>19</td><td>U</td><td>LE3</td><td>T</td><td>1</td><td>1</td><td>Other</td><td>At_home</td></tr></tbody></table></div>"
            ],
            "text/plain": [
              "\u001b[1m5×12 DataFrame\u001b[0m\n",
              "\u001b[1m Row \u001b[0m│\u001b[1m school  \u001b[0m\u001b[1m sex     \u001b[0m\u001b[1m age   \u001b[0m\u001b[1m address \u001b[0m\u001b[1m famsize \u001b[0m\u001b[1m Pstatus \u001b[0m\u001b[1m Medu  \u001b[0m\u001b[1m Fedu  \u001b[0m\u001b[1m Mjob \u001b[0m ⋯\n",
              "\u001b[1m     \u001b[0m│\u001b[90m String3 \u001b[0m\u001b[90m String1 \u001b[0m\u001b[90m Int64 \u001b[0m\u001b[90m String1 \u001b[0m\u001b[90m String3 \u001b[0m\u001b[90m String1 \u001b[0m\u001b[90m Int64 \u001b[0m\u001b[90m Int64 \u001b[0m\u001b[90m Strin\u001b[0m ⋯\n",
              "─────┼──────────────────────────────────────────────────────────────────────────\n",
              "   1 │ MS       M           20  U        LE3      A            2      2  Servi ⋯\n",
              "   2 │ MS       M           17  U        LE3      T            3      1  Servi\n",
              "   3 │ MS       M           21  R        GT3      T            1      1  Other\n",
              "   4 │ MS       M           18  R        LE3      T            3      2  Servi\n",
              "   5 │ MS       M           19  U        LE3      T            1      1  Other ⋯\n",
              "\u001b[36m                                                               4 columns omitted\u001b[0m"
            ]
          },
          "metadata": {},
          "execution_count": 18
        }
      ]
    },
    {
      "cell_type": "markdown",
      "source": [
        "# Step 9. Create a function called majority that returns a boolean value to a new column called legal_drinker (Consider majority as older than 17 years old)"
      ],
      "metadata": {
        "id": "t2hCOvUK1Ww0"
      }
    },
    {
      "cell_type": "code",
      "source": [
        "majority(x) = x > 17\n",
        "stud_alcohol[!, :legal_drinker] = majority.(stud_alcohol.age)"
      ],
      "metadata": {
        "id": "_FadvLaf0qMY"
      },
      "execution_count": null,
      "outputs": []
    },
    {
      "cell_type": "code",
      "source": [
        "stud_alcohol"
      ],
      "metadata": {
        "colab": {
          "base_uri": "https://localhost:8080/",
          "height": 753
        },
        "id": "MTUQC2tQ1YQo",
        "outputId": "a7b61f2a-5f11-4bf4-90f1-4b8e8d61cdfe"
      },
      "execution_count": 22,
      "outputs": [
        {
          "output_type": "execute_result",
          "data": {
            "text/latex": "\\begin{tabular}{r|ccccccccccc}\n\t& school & sex & age & address & famsize & Pstatus & Medu & Fedu & Mjob & Fjob & \\\\\n\t\\hline\n\t& String3 & String1 & Int64 & String1 & String3 & String1 & Int64 & Int64 & String & String & \\\\\n\t\\hline\n\t1 & GP & F & 18 & U & GT3 & A & 4 & 4 & At\\_home & Teacher & $\\dots$ \\\\\n\t2 & GP & F & 17 & U & GT3 & T & 1 & 1 & At\\_home & Other & $\\dots$ \\\\\n\t3 & GP & F & 15 & U & LE3 & T & 1 & 1 & At\\_home & Other & $\\dots$ \\\\\n\t4 & GP & F & 15 & U & GT3 & T & 4 & 2 & Health & Services & $\\dots$ \\\\\n\t5 & GP & F & 16 & U & GT3 & T & 3 & 3 & Other & Other & $\\dots$ \\\\\n\t6 & GP & M & 16 & U & LE3 & T & 4 & 3 & Services & Other & $\\dots$ \\\\\n\t7 & GP & M & 16 & U & LE3 & T & 2 & 2 & Other & Other & $\\dots$ \\\\\n\t8 & GP & F & 17 & U & GT3 & A & 4 & 4 & Other & Teacher & $\\dots$ \\\\\n\t9 & GP & M & 15 & U & LE3 & A & 3 & 2 & Services & Other & $\\dots$ \\\\\n\t10 & GP & M & 15 & U & GT3 & T & 3 & 4 & Other & Other & $\\dots$ \\\\\n\t11 & GP & F & 15 & U & GT3 & T & 4 & 4 & Teacher & Health & $\\dots$ \\\\\n\t12 & GP & F & 15 & U & GT3 & T & 2 & 1 & Services & Other & $\\dots$ \\\\\n\t13 & GP & M & 15 & U & LE3 & T & 4 & 4 & Health & Services & $\\dots$ \\\\\n\t14 & GP & M & 15 & U & GT3 & T & 4 & 3 & Teacher & Other & $\\dots$ \\\\\n\t15 & GP & M & 15 & U & GT3 & A & 2 & 2 & Other & Other & $\\dots$ \\\\\n\t16 & GP & F & 16 & U & GT3 & T & 4 & 4 & Health & Other & $\\dots$ \\\\\n\t17 & GP & F & 16 & U & GT3 & T & 4 & 4 & Services & Services & $\\dots$ \\\\\n\t18 & GP & F & 16 & U & GT3 & T & 3 & 3 & Other & Other & $\\dots$ \\\\\n\t19 & GP & M & 17 & U & GT3 & T & 3 & 2 & Services & Services & $\\dots$ \\\\\n\t20 & GP & M & 16 & U & LE3 & T & 4 & 3 & Health & Other & $\\dots$ \\\\\n\t21 & GP & M & 15 & U & GT3 & T & 4 & 3 & Teacher & Other & $\\dots$ \\\\\n\t22 & GP & M & 15 & U & GT3 & T & 4 & 4 & Health & Health & $\\dots$ \\\\\n\t23 & GP & M & 16 & U & LE3 & T & 4 & 2 & Teacher & Other & $\\dots$ \\\\\n\t24 & GP & M & 16 & U & LE3 & T & 2 & 2 & Other & Other & $\\dots$ \\\\\n\t25 & GP & F & 15 & R & GT3 & T & 2 & 4 & Services & Health & $\\dots$ \\\\\n\t26 & GP & F & 16 & U & GT3 & T & 2 & 2 & Services & Services & $\\dots$ \\\\\n\t27 & GP & M & 15 & U & GT3 & T & 2 & 2 & Other & Other & $\\dots$ \\\\\n\t28 & GP & M & 15 & U & GT3 & T & 4 & 2 & Health & Services & $\\dots$ \\\\\n\t29 & GP & M & 16 & U & LE3 & A & 3 & 4 & Services & Other & $\\dots$ \\\\\n\t30 & GP & M & 16 & U & GT3 & T & 4 & 4 & Teacher & Teacher & $\\dots$ \\\\\n\t$\\dots$ & $\\dots$ & $\\dots$ & $\\dots$ & $\\dots$ & $\\dots$ & $\\dots$ & $\\dots$ & $\\dots$ & $\\dots$ & $\\dots$ &  \\\\\n\\end{tabular}\n",
            "text/html": [
              "<div class=\"data-frame\"><p>395 rows × 13 columns (omitted printing of 3 columns)</p><table class=\"data-frame\"><thead><tr><th></th><th>school</th><th>sex</th><th>age</th><th>address</th><th>famsize</th><th>Pstatus</th><th>Medu</th><th>Fedu</th><th>Mjob</th><th>Fjob</th></tr><tr><th></th><th title=\"String3\">String3</th><th title=\"String1\">String1</th><th title=\"Int64\">Int64</th><th title=\"String1\">String1</th><th title=\"String3\">String3</th><th title=\"String1\">String1</th><th title=\"Int64\">Int64</th><th title=\"Int64\">Int64</th><th title=\"String\">String</th><th title=\"String\">String</th></tr></thead><tbody><tr><th>1</th><td>GP</td><td>F</td><td>18</td><td>U</td><td>GT3</td><td>A</td><td>4</td><td>4</td><td>At_home</td><td>Teacher</td></tr><tr><th>2</th><td>GP</td><td>F</td><td>17</td><td>U</td><td>GT3</td><td>T</td><td>1</td><td>1</td><td>At_home</td><td>Other</td></tr><tr><th>3</th><td>GP</td><td>F</td><td>15</td><td>U</td><td>LE3</td><td>T</td><td>1</td><td>1</td><td>At_home</td><td>Other</td></tr><tr><th>4</th><td>GP</td><td>F</td><td>15</td><td>U</td><td>GT3</td><td>T</td><td>4</td><td>2</td><td>Health</td><td>Services</td></tr><tr><th>5</th><td>GP</td><td>F</td><td>16</td><td>U</td><td>GT3</td><td>T</td><td>3</td><td>3</td><td>Other</td><td>Other</td></tr><tr><th>6</th><td>GP</td><td>M</td><td>16</td><td>U</td><td>LE3</td><td>T</td><td>4</td><td>3</td><td>Services</td><td>Other</td></tr><tr><th>7</th><td>GP</td><td>M</td><td>16</td><td>U</td><td>LE3</td><td>T</td><td>2</td><td>2</td><td>Other</td><td>Other</td></tr><tr><th>8</th><td>GP</td><td>F</td><td>17</td><td>U</td><td>GT3</td><td>A</td><td>4</td><td>4</td><td>Other</td><td>Teacher</td></tr><tr><th>9</th><td>GP</td><td>M</td><td>15</td><td>U</td><td>LE3</td><td>A</td><td>3</td><td>2</td><td>Services</td><td>Other</td></tr><tr><th>10</th><td>GP</td><td>M</td><td>15</td><td>U</td><td>GT3</td><td>T</td><td>3</td><td>4</td><td>Other</td><td>Other</td></tr><tr><th>11</th><td>GP</td><td>F</td><td>15</td><td>U</td><td>GT3</td><td>T</td><td>4</td><td>4</td><td>Teacher</td><td>Health</td></tr><tr><th>12</th><td>GP</td><td>F</td><td>15</td><td>U</td><td>GT3</td><td>T</td><td>2</td><td>1</td><td>Services</td><td>Other</td></tr><tr><th>13</th><td>GP</td><td>M</td><td>15</td><td>U</td><td>LE3</td><td>T</td><td>4</td><td>4</td><td>Health</td><td>Services</td></tr><tr><th>14</th><td>GP</td><td>M</td><td>15</td><td>U</td><td>GT3</td><td>T</td><td>4</td><td>3</td><td>Teacher</td><td>Other</td></tr><tr><th>15</th><td>GP</td><td>M</td><td>15</td><td>U</td><td>GT3</td><td>A</td><td>2</td><td>2</td><td>Other</td><td>Other</td></tr><tr><th>16</th><td>GP</td><td>F</td><td>16</td><td>U</td><td>GT3</td><td>T</td><td>4</td><td>4</td><td>Health</td><td>Other</td></tr><tr><th>17</th><td>GP</td><td>F</td><td>16</td><td>U</td><td>GT3</td><td>T</td><td>4</td><td>4</td><td>Services</td><td>Services</td></tr><tr><th>18</th><td>GP</td><td>F</td><td>16</td><td>U</td><td>GT3</td><td>T</td><td>3</td><td>3</td><td>Other</td><td>Other</td></tr><tr><th>19</th><td>GP</td><td>M</td><td>17</td><td>U</td><td>GT3</td><td>T</td><td>3</td><td>2</td><td>Services</td><td>Services</td></tr><tr><th>20</th><td>GP</td><td>M</td><td>16</td><td>U</td><td>LE3</td><td>T</td><td>4</td><td>3</td><td>Health</td><td>Other</td></tr><tr><th>21</th><td>GP</td><td>M</td><td>15</td><td>U</td><td>GT3</td><td>T</td><td>4</td><td>3</td><td>Teacher</td><td>Other</td></tr><tr><th>22</th><td>GP</td><td>M</td><td>15</td><td>U</td><td>GT3</td><td>T</td><td>4</td><td>4</td><td>Health</td><td>Health</td></tr><tr><th>23</th><td>GP</td><td>M</td><td>16</td><td>U</td><td>LE3</td><td>T</td><td>4</td><td>2</td><td>Teacher</td><td>Other</td></tr><tr><th>24</th><td>GP</td><td>M</td><td>16</td><td>U</td><td>LE3</td><td>T</td><td>2</td><td>2</td><td>Other</td><td>Other</td></tr><tr><th>25</th><td>GP</td><td>F</td><td>15</td><td>R</td><td>GT3</td><td>T</td><td>2</td><td>4</td><td>Services</td><td>Health</td></tr><tr><th>26</th><td>GP</td><td>F</td><td>16</td><td>U</td><td>GT3</td><td>T</td><td>2</td><td>2</td><td>Services</td><td>Services</td></tr><tr><th>27</th><td>GP</td><td>M</td><td>15</td><td>U</td><td>GT3</td><td>T</td><td>2</td><td>2</td><td>Other</td><td>Other</td></tr><tr><th>28</th><td>GP</td><td>M</td><td>15</td><td>U</td><td>GT3</td><td>T</td><td>4</td><td>2</td><td>Health</td><td>Services</td></tr><tr><th>29</th><td>GP</td><td>M</td><td>16</td><td>U</td><td>LE3</td><td>A</td><td>3</td><td>4</td><td>Services</td><td>Other</td></tr><tr><th>30</th><td>GP</td><td>M</td><td>16</td><td>U</td><td>GT3</td><td>T</td><td>4</td><td>4</td><td>Teacher</td><td>Teacher</td></tr><tr><th>&vellip;</th><td>&vellip;</td><td>&vellip;</td><td>&vellip;</td><td>&vellip;</td><td>&vellip;</td><td>&vellip;</td><td>&vellip;</td><td>&vellip;</td><td>&vellip;</td><td>&vellip;</td></tr></tbody></table></div>"
            ],
            "text/plain": [
              "\u001b[1m395×13 DataFrame\u001b[0m\n",
              "\u001b[1m Row \u001b[0m│\u001b[1m school  \u001b[0m\u001b[1m sex     \u001b[0m\u001b[1m age   \u001b[0m\u001b[1m address \u001b[0m\u001b[1m famsize \u001b[0m\u001b[1m Pstatus \u001b[0m\u001b[1m Medu  \u001b[0m\u001b[1m Fedu  \u001b[0m\u001b[1m Mjob \u001b[0m ⋯\n",
              "\u001b[1m     \u001b[0m│\u001b[90m String3 \u001b[0m\u001b[90m String1 \u001b[0m\u001b[90m Int64 \u001b[0m\u001b[90m String1 \u001b[0m\u001b[90m String3 \u001b[0m\u001b[90m String1 \u001b[0m\u001b[90m Int64 \u001b[0m\u001b[90m Int64 \u001b[0m\u001b[90m Strin\u001b[0m ⋯\n",
              "─────┼──────────────────────────────────────────────────────────────────────────\n",
              "   1 │ GP       F           18  U        GT3      A            4      4  At_ho ⋯\n",
              "   2 │ GP       F           17  U        GT3      T            1      1  At_ho\n",
              "   3 │ GP       F           15  U        LE3      T            1      1  At_ho\n",
              "   4 │ GP       F           15  U        GT3      T            4      2  Healt\n",
              "   5 │ GP       F           16  U        GT3      T            3      3  Other ⋯\n",
              "   6 │ GP       M           16  U        LE3      T            4      3  Servi\n",
              "   7 │ GP       M           16  U        LE3      T            2      2  Other\n",
              "   8 │ GP       F           17  U        GT3      A            4      4  Other\n",
              "   9 │ GP       M           15  U        LE3      A            3      2  Servi ⋯\n",
              "  10 │ GP       M           15  U        GT3      T            3      4  Other\n",
              "  11 │ GP       F           15  U        GT3      T            4      4  Teach\n",
              "  ⋮  │    ⋮        ⋮       ⋮       ⋮        ⋮        ⋮       ⋮      ⋮       ⋮  ⋱\n",
              " 386 │ MS       F           18  R        GT3      T            2      2  At_ho\n",
              " 387 │ MS       F           18  R        GT3      T            4      4  Teach ⋯\n",
              " 388 │ MS       F           19  R        GT3      T            2      3  Servi\n",
              " 389 │ MS       F           18  U        LE3      T            3      1  Teach\n",
              " 390 │ MS       F           18  U        GT3      T            1      1  Other\n",
              " 391 │ MS       M           20  U        LE3      A            2      2  Servi ⋯\n",
              " 392 │ MS       M           17  U        LE3      T            3      1  Servi\n",
              " 393 │ MS       M           21  R        GT3      T            1      1  Other\n",
              " 394 │ MS       M           18  R        LE3      T            3      2  Servi\n",
              " 395 │ MS       M           19  U        LE3      T            1      1  Other ⋯\n",
              "\u001b[36m                                                  5 columns and 374 rows omitted\u001b[0m"
            ]
          },
          "metadata": {},
          "execution_count": 22
        }
      ]
    },
    {
      "cell_type": "markdown",
      "source": [
        "# Step 10. Multiply every number of the dataset by 10."
      ],
      "metadata": {
        "id": "VabLOFA_3S_O"
      }
    },
    {
      "cell_type": "code",
      "source": [
        "by10(x) = 10x\n",
        "stud_alcohol[!, names(stud_alcohol, Number)] = by10.(stud_alcohol[!, names(stud_alcohol, Number)])"
      ],
      "metadata": {
        "colab": {
          "base_uri": "https://localhost:8080/",
          "height": 753
        },
        "id": "lzD_25UD2ODu",
        "outputId": "8c9c4b5a-cec1-4dee-e916-ab40a09c172e"
      },
      "execution_count": 26,
      "outputs": [
        {
          "output_type": "execute_result",
          "data": {
            "text/latex": "\\begin{tabular}{r|cccc}\n\t& age & Medu & Fedu & legal\\_drinker\\\\\n\t\\hline\n\t& Int64 & Int64 & Int64 & Int64\\\\\n\t\\hline\n\t1 & 180 & 40 & 40 & 10 \\\\\n\t2 & 170 & 10 & 10 & 0 \\\\\n\t3 & 150 & 10 & 10 & 0 \\\\\n\t4 & 150 & 40 & 20 & 0 \\\\\n\t5 & 160 & 30 & 30 & 0 \\\\\n\t6 & 160 & 40 & 30 & 0 \\\\\n\t7 & 160 & 20 & 20 & 0 \\\\\n\t8 & 170 & 40 & 40 & 0 \\\\\n\t9 & 150 & 30 & 20 & 0 \\\\\n\t10 & 150 & 30 & 40 & 0 \\\\\n\t11 & 150 & 40 & 40 & 0 \\\\\n\t12 & 150 & 20 & 10 & 0 \\\\\n\t13 & 150 & 40 & 40 & 0 \\\\\n\t14 & 150 & 40 & 30 & 0 \\\\\n\t15 & 150 & 20 & 20 & 0 \\\\\n\t16 & 160 & 40 & 40 & 0 \\\\\n\t17 & 160 & 40 & 40 & 0 \\\\\n\t18 & 160 & 30 & 30 & 0 \\\\\n\t19 & 170 & 30 & 20 & 0 \\\\\n\t20 & 160 & 40 & 30 & 0 \\\\\n\t21 & 150 & 40 & 30 & 0 \\\\\n\t22 & 150 & 40 & 40 & 0 \\\\\n\t23 & 160 & 40 & 20 & 0 \\\\\n\t24 & 160 & 20 & 20 & 0 \\\\\n\t25 & 150 & 20 & 40 & 0 \\\\\n\t26 & 160 & 20 & 20 & 0 \\\\\n\t27 & 150 & 20 & 20 & 0 \\\\\n\t28 & 150 & 40 & 20 & 0 \\\\\n\t29 & 160 & 30 & 40 & 0 \\\\\n\t30 & 160 & 40 & 40 & 0 \\\\\n\t$\\dots$ & $\\dots$ & $\\dots$ & $\\dots$ & $\\dots$ \\\\\n\\end{tabular}\n",
            "text/html": [
              "<div class=\"data-frame\"><p>395 rows × 4 columns</p><table class=\"data-frame\"><thead><tr><th></th><th>age</th><th>Medu</th><th>Fedu</th><th>legal_drinker</th></tr><tr><th></th><th title=\"Int64\">Int64</th><th title=\"Int64\">Int64</th><th title=\"Int64\">Int64</th><th title=\"Int64\">Int64</th></tr></thead><tbody><tr><th>1</th><td>180</td><td>40</td><td>40</td><td>10</td></tr><tr><th>2</th><td>170</td><td>10</td><td>10</td><td>0</td></tr><tr><th>3</th><td>150</td><td>10</td><td>10</td><td>0</td></tr><tr><th>4</th><td>150</td><td>40</td><td>20</td><td>0</td></tr><tr><th>5</th><td>160</td><td>30</td><td>30</td><td>0</td></tr><tr><th>6</th><td>160</td><td>40</td><td>30</td><td>0</td></tr><tr><th>7</th><td>160</td><td>20</td><td>20</td><td>0</td></tr><tr><th>8</th><td>170</td><td>40</td><td>40</td><td>0</td></tr><tr><th>9</th><td>150</td><td>30</td><td>20</td><td>0</td></tr><tr><th>10</th><td>150</td><td>30</td><td>40</td><td>0</td></tr><tr><th>11</th><td>150</td><td>40</td><td>40</td><td>0</td></tr><tr><th>12</th><td>150</td><td>20</td><td>10</td><td>0</td></tr><tr><th>13</th><td>150</td><td>40</td><td>40</td><td>0</td></tr><tr><th>14</th><td>150</td><td>40</td><td>30</td><td>0</td></tr><tr><th>15</th><td>150</td><td>20</td><td>20</td><td>0</td></tr><tr><th>16</th><td>160</td><td>40</td><td>40</td><td>0</td></tr><tr><th>17</th><td>160</td><td>40</td><td>40</td><td>0</td></tr><tr><th>18</th><td>160</td><td>30</td><td>30</td><td>0</td></tr><tr><th>19</th><td>170</td><td>30</td><td>20</td><td>0</td></tr><tr><th>20</th><td>160</td><td>40</td><td>30</td><td>0</td></tr><tr><th>21</th><td>150</td><td>40</td><td>30</td><td>0</td></tr><tr><th>22</th><td>150</td><td>40</td><td>40</td><td>0</td></tr><tr><th>23</th><td>160</td><td>40</td><td>20</td><td>0</td></tr><tr><th>24</th><td>160</td><td>20</td><td>20</td><td>0</td></tr><tr><th>25</th><td>150</td><td>20</td><td>40</td><td>0</td></tr><tr><th>26</th><td>160</td><td>20</td><td>20</td><td>0</td></tr><tr><th>27</th><td>150</td><td>20</td><td>20</td><td>0</td></tr><tr><th>28</th><td>150</td><td>40</td><td>20</td><td>0</td></tr><tr><th>29</th><td>160</td><td>30</td><td>40</td><td>0</td></tr><tr><th>30</th><td>160</td><td>40</td><td>40</td><td>0</td></tr><tr><th>&vellip;</th><td>&vellip;</td><td>&vellip;</td><td>&vellip;</td><td>&vellip;</td></tr></tbody></table></div>"
            ],
            "text/plain": [
              "\u001b[1m395×4 DataFrame\u001b[0m\n",
              "\u001b[1m Row \u001b[0m│\u001b[1m age   \u001b[0m\u001b[1m Medu  \u001b[0m\u001b[1m Fedu  \u001b[0m\u001b[1m legal_drinker \u001b[0m\n",
              "\u001b[1m     \u001b[0m│\u001b[90m Int64 \u001b[0m\u001b[90m Int64 \u001b[0m\u001b[90m Int64 \u001b[0m\u001b[90m Int64         \u001b[0m\n",
              "─────┼────────────────────────────────────\n",
              "   1 │   180     40     40             10\n",
              "   2 │   170     10     10              0\n",
              "   3 │   150     10     10              0\n",
              "   4 │   150     40     20              0\n",
              "   5 │   160     30     30              0\n",
              "   6 │   160     40     30              0\n",
              "   7 │   160     20     20              0\n",
              "   8 │   170     40     40              0\n",
              "   9 │   150     30     20              0\n",
              "  10 │   150     30     40              0\n",
              "  11 │   150     40     40              0\n",
              "  ⋮  │   ⋮      ⋮      ⋮          ⋮\n",
              " 386 │   180     20     20             10\n",
              " 387 │   180     40     40             10\n",
              " 388 │   190     20     30             10\n",
              " 389 │   180     30     10             10\n",
              " 390 │   180     10     10             10\n",
              " 391 │   200     20     20             10\n",
              " 392 │   170     30     10              0\n",
              " 393 │   210     10     10             10\n",
              " 394 │   180     30     20             10\n",
              " 395 │   190     10     10             10\n",
              "\u001b[36m                          374 rows omitted\u001b[0m"
            ]
          },
          "metadata": {},
          "execution_count": 26
        }
      ]
    },
    {
      "cell_type": "code",
      "source": [
        "stud_alcohol"
      ],
      "metadata": {
        "colab": {
          "base_uri": "https://localhost:8080/",
          "height": 753
        },
        "id": "yvnMT0FL20-r",
        "outputId": "1e935b98-1260-4788-a600-cbc16e15fc3c"
      },
      "execution_count": 27,
      "outputs": [
        {
          "output_type": "execute_result",
          "data": {
            "text/latex": "\\begin{tabular}{r|ccccccccccc}\n\t& school & sex & age & address & famsize & Pstatus & Medu & Fedu & Mjob & Fjob & \\\\\n\t\\hline\n\t& String3 & String1 & Int64 & String1 & String3 & String1 & Int64 & Int64 & String & String & \\\\\n\t\\hline\n\t1 & GP & F & 180 & U & GT3 & A & 40 & 40 & At\\_home & Teacher & $\\dots$ \\\\\n\t2 & GP & F & 170 & U & GT3 & T & 10 & 10 & At\\_home & Other & $\\dots$ \\\\\n\t3 & GP & F & 150 & U & LE3 & T & 10 & 10 & At\\_home & Other & $\\dots$ \\\\\n\t4 & GP & F & 150 & U & GT3 & T & 40 & 20 & Health & Services & $\\dots$ \\\\\n\t5 & GP & F & 160 & U & GT3 & T & 30 & 30 & Other & Other & $\\dots$ \\\\\n\t6 & GP & M & 160 & U & LE3 & T & 40 & 30 & Services & Other & $\\dots$ \\\\\n\t7 & GP & M & 160 & U & LE3 & T & 20 & 20 & Other & Other & $\\dots$ \\\\\n\t8 & GP & F & 170 & U & GT3 & A & 40 & 40 & Other & Teacher & $\\dots$ \\\\\n\t9 & GP & M & 150 & U & LE3 & A & 30 & 20 & Services & Other & $\\dots$ \\\\\n\t10 & GP & M & 150 & U & GT3 & T & 30 & 40 & Other & Other & $\\dots$ \\\\\n\t11 & GP & F & 150 & U & GT3 & T & 40 & 40 & Teacher & Health & $\\dots$ \\\\\n\t12 & GP & F & 150 & U & GT3 & T & 20 & 10 & Services & Other & $\\dots$ \\\\\n\t13 & GP & M & 150 & U & LE3 & T & 40 & 40 & Health & Services & $\\dots$ \\\\\n\t14 & GP & M & 150 & U & GT3 & T & 40 & 30 & Teacher & Other & $\\dots$ \\\\\n\t15 & GP & M & 150 & U & GT3 & A & 20 & 20 & Other & Other & $\\dots$ \\\\\n\t16 & GP & F & 160 & U & GT3 & T & 40 & 40 & Health & Other & $\\dots$ \\\\\n\t17 & GP & F & 160 & U & GT3 & T & 40 & 40 & Services & Services & $\\dots$ \\\\\n\t18 & GP & F & 160 & U & GT3 & T & 30 & 30 & Other & Other & $\\dots$ \\\\\n\t19 & GP & M & 170 & U & GT3 & T & 30 & 20 & Services & Services & $\\dots$ \\\\\n\t20 & GP & M & 160 & U & LE3 & T & 40 & 30 & Health & Other & $\\dots$ \\\\\n\t21 & GP & M & 150 & U & GT3 & T & 40 & 30 & Teacher & Other & $\\dots$ \\\\\n\t22 & GP & M & 150 & U & GT3 & T & 40 & 40 & Health & Health & $\\dots$ \\\\\n\t23 & GP & M & 160 & U & LE3 & T & 40 & 20 & Teacher & Other & $\\dots$ \\\\\n\t24 & GP & M & 160 & U & LE3 & T & 20 & 20 & Other & Other & $\\dots$ \\\\\n\t25 & GP & F & 150 & R & GT3 & T & 20 & 40 & Services & Health & $\\dots$ \\\\\n\t26 & GP & F & 160 & U & GT3 & T & 20 & 20 & Services & Services & $\\dots$ \\\\\n\t27 & GP & M & 150 & U & GT3 & T & 20 & 20 & Other & Other & $\\dots$ \\\\\n\t28 & GP & M & 150 & U & GT3 & T & 40 & 20 & Health & Services & $\\dots$ \\\\\n\t29 & GP & M & 160 & U & LE3 & A & 30 & 40 & Services & Other & $\\dots$ \\\\\n\t30 & GP & M & 160 & U & GT3 & T & 40 & 40 & Teacher & Teacher & $\\dots$ \\\\\n\t$\\dots$ & $\\dots$ & $\\dots$ & $\\dots$ & $\\dots$ & $\\dots$ & $\\dots$ & $\\dots$ & $\\dots$ & $\\dots$ & $\\dots$ &  \\\\\n\\end{tabular}\n",
            "text/html": [
              "<div class=\"data-frame\"><p>395 rows × 13 columns (omitted printing of 3 columns)</p><table class=\"data-frame\"><thead><tr><th></th><th>school</th><th>sex</th><th>age</th><th>address</th><th>famsize</th><th>Pstatus</th><th>Medu</th><th>Fedu</th><th>Mjob</th><th>Fjob</th></tr><tr><th></th><th title=\"String3\">String3</th><th title=\"String1\">String1</th><th title=\"Int64\">Int64</th><th title=\"String1\">String1</th><th title=\"String3\">String3</th><th title=\"String1\">String1</th><th title=\"Int64\">Int64</th><th title=\"Int64\">Int64</th><th title=\"String\">String</th><th title=\"String\">String</th></tr></thead><tbody><tr><th>1</th><td>GP</td><td>F</td><td>180</td><td>U</td><td>GT3</td><td>A</td><td>40</td><td>40</td><td>At_home</td><td>Teacher</td></tr><tr><th>2</th><td>GP</td><td>F</td><td>170</td><td>U</td><td>GT3</td><td>T</td><td>10</td><td>10</td><td>At_home</td><td>Other</td></tr><tr><th>3</th><td>GP</td><td>F</td><td>150</td><td>U</td><td>LE3</td><td>T</td><td>10</td><td>10</td><td>At_home</td><td>Other</td></tr><tr><th>4</th><td>GP</td><td>F</td><td>150</td><td>U</td><td>GT3</td><td>T</td><td>40</td><td>20</td><td>Health</td><td>Services</td></tr><tr><th>5</th><td>GP</td><td>F</td><td>160</td><td>U</td><td>GT3</td><td>T</td><td>30</td><td>30</td><td>Other</td><td>Other</td></tr><tr><th>6</th><td>GP</td><td>M</td><td>160</td><td>U</td><td>LE3</td><td>T</td><td>40</td><td>30</td><td>Services</td><td>Other</td></tr><tr><th>7</th><td>GP</td><td>M</td><td>160</td><td>U</td><td>LE3</td><td>T</td><td>20</td><td>20</td><td>Other</td><td>Other</td></tr><tr><th>8</th><td>GP</td><td>F</td><td>170</td><td>U</td><td>GT3</td><td>A</td><td>40</td><td>40</td><td>Other</td><td>Teacher</td></tr><tr><th>9</th><td>GP</td><td>M</td><td>150</td><td>U</td><td>LE3</td><td>A</td><td>30</td><td>20</td><td>Services</td><td>Other</td></tr><tr><th>10</th><td>GP</td><td>M</td><td>150</td><td>U</td><td>GT3</td><td>T</td><td>30</td><td>40</td><td>Other</td><td>Other</td></tr><tr><th>11</th><td>GP</td><td>F</td><td>150</td><td>U</td><td>GT3</td><td>T</td><td>40</td><td>40</td><td>Teacher</td><td>Health</td></tr><tr><th>12</th><td>GP</td><td>F</td><td>150</td><td>U</td><td>GT3</td><td>T</td><td>20</td><td>10</td><td>Services</td><td>Other</td></tr><tr><th>13</th><td>GP</td><td>M</td><td>150</td><td>U</td><td>LE3</td><td>T</td><td>40</td><td>40</td><td>Health</td><td>Services</td></tr><tr><th>14</th><td>GP</td><td>M</td><td>150</td><td>U</td><td>GT3</td><td>T</td><td>40</td><td>30</td><td>Teacher</td><td>Other</td></tr><tr><th>15</th><td>GP</td><td>M</td><td>150</td><td>U</td><td>GT3</td><td>A</td><td>20</td><td>20</td><td>Other</td><td>Other</td></tr><tr><th>16</th><td>GP</td><td>F</td><td>160</td><td>U</td><td>GT3</td><td>T</td><td>40</td><td>40</td><td>Health</td><td>Other</td></tr><tr><th>17</th><td>GP</td><td>F</td><td>160</td><td>U</td><td>GT3</td><td>T</td><td>40</td><td>40</td><td>Services</td><td>Services</td></tr><tr><th>18</th><td>GP</td><td>F</td><td>160</td><td>U</td><td>GT3</td><td>T</td><td>30</td><td>30</td><td>Other</td><td>Other</td></tr><tr><th>19</th><td>GP</td><td>M</td><td>170</td><td>U</td><td>GT3</td><td>T</td><td>30</td><td>20</td><td>Services</td><td>Services</td></tr><tr><th>20</th><td>GP</td><td>M</td><td>160</td><td>U</td><td>LE3</td><td>T</td><td>40</td><td>30</td><td>Health</td><td>Other</td></tr><tr><th>21</th><td>GP</td><td>M</td><td>150</td><td>U</td><td>GT3</td><td>T</td><td>40</td><td>30</td><td>Teacher</td><td>Other</td></tr><tr><th>22</th><td>GP</td><td>M</td><td>150</td><td>U</td><td>GT3</td><td>T</td><td>40</td><td>40</td><td>Health</td><td>Health</td></tr><tr><th>23</th><td>GP</td><td>M</td><td>160</td><td>U</td><td>LE3</td><td>T</td><td>40</td><td>20</td><td>Teacher</td><td>Other</td></tr><tr><th>24</th><td>GP</td><td>M</td><td>160</td><td>U</td><td>LE3</td><td>T</td><td>20</td><td>20</td><td>Other</td><td>Other</td></tr><tr><th>25</th><td>GP</td><td>F</td><td>150</td><td>R</td><td>GT3</td><td>T</td><td>20</td><td>40</td><td>Services</td><td>Health</td></tr><tr><th>26</th><td>GP</td><td>F</td><td>160</td><td>U</td><td>GT3</td><td>T</td><td>20</td><td>20</td><td>Services</td><td>Services</td></tr><tr><th>27</th><td>GP</td><td>M</td><td>150</td><td>U</td><td>GT3</td><td>T</td><td>20</td><td>20</td><td>Other</td><td>Other</td></tr><tr><th>28</th><td>GP</td><td>M</td><td>150</td><td>U</td><td>GT3</td><td>T</td><td>40</td><td>20</td><td>Health</td><td>Services</td></tr><tr><th>29</th><td>GP</td><td>M</td><td>160</td><td>U</td><td>LE3</td><td>A</td><td>30</td><td>40</td><td>Services</td><td>Other</td></tr><tr><th>30</th><td>GP</td><td>M</td><td>160</td><td>U</td><td>GT3</td><td>T</td><td>40</td><td>40</td><td>Teacher</td><td>Teacher</td></tr><tr><th>&vellip;</th><td>&vellip;</td><td>&vellip;</td><td>&vellip;</td><td>&vellip;</td><td>&vellip;</td><td>&vellip;</td><td>&vellip;</td><td>&vellip;</td><td>&vellip;</td><td>&vellip;</td></tr></tbody></table></div>"
            ],
            "text/plain": [
              "\u001b[1m395×13 DataFrame\u001b[0m\n",
              "\u001b[1m Row \u001b[0m│\u001b[1m school  \u001b[0m\u001b[1m sex     \u001b[0m\u001b[1m age   \u001b[0m\u001b[1m address \u001b[0m\u001b[1m famsize \u001b[0m\u001b[1m Pstatus \u001b[0m\u001b[1m Medu  \u001b[0m\u001b[1m Fedu  \u001b[0m\u001b[1m Mjob \u001b[0m ⋯\n",
              "\u001b[1m     \u001b[0m│\u001b[90m String3 \u001b[0m\u001b[90m String1 \u001b[0m\u001b[90m Int64 \u001b[0m\u001b[90m String1 \u001b[0m\u001b[90m String3 \u001b[0m\u001b[90m String1 \u001b[0m\u001b[90m Int64 \u001b[0m\u001b[90m Int64 \u001b[0m\u001b[90m Strin\u001b[0m ⋯\n",
              "─────┼──────────────────────────────────────────────────────────────────────────\n",
              "   1 │ GP       F          180  U        GT3      A           40     40  At_ho ⋯\n",
              "   2 │ GP       F          170  U        GT3      T           10     10  At_ho\n",
              "   3 │ GP       F          150  U        LE3      T           10     10  At_ho\n",
              "   4 │ GP       F          150  U        GT3      T           40     20  Healt\n",
              "   5 │ GP       F          160  U        GT3      T           30     30  Other ⋯\n",
              "   6 │ GP       M          160  U        LE3      T           40     30  Servi\n",
              "   7 │ GP       M          160  U        LE3      T           20     20  Other\n",
              "   8 │ GP       F          170  U        GT3      A           40     40  Other\n",
              "   9 │ GP       M          150  U        LE3      A           30     20  Servi ⋯\n",
              "  10 │ GP       M          150  U        GT3      T           30     40  Other\n",
              "  11 │ GP       F          150  U        GT3      T           40     40  Teach\n",
              "  ⋮  │    ⋮        ⋮       ⋮       ⋮        ⋮        ⋮       ⋮      ⋮       ⋮  ⋱\n",
              " 386 │ MS       F          180  R        GT3      T           20     20  At_ho\n",
              " 387 │ MS       F          180  R        GT3      T           40     40  Teach ⋯\n",
              " 388 │ MS       F          190  R        GT3      T           20     30  Servi\n",
              " 389 │ MS       F          180  U        LE3      T           30     10  Teach\n",
              " 390 │ MS       F          180  U        GT3      T           10     10  Other\n",
              " 391 │ MS       M          200  U        LE3      A           20     20  Servi ⋯\n",
              " 392 │ MS       M          170  U        LE3      T           30     10  Servi\n",
              " 393 │ MS       M          210  R        GT3      T           10     10  Other\n",
              " 394 │ MS       M          180  R        LE3      T           30     20  Servi\n",
              " 395 │ MS       M          190  U        LE3      T           10     10  Other ⋯\n",
              "\u001b[36m                                                  5 columns and 374 rows omitted\u001b[0m"
            ]
          },
          "metadata": {},
          "execution_count": 27
        }
      ]
    }
  ]
}