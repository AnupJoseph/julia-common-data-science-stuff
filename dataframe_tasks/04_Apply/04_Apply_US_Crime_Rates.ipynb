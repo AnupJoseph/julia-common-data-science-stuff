{
  "nbformat": 4,
  "nbformat_minor": 0,
  "metadata": {
    "colab": {
      "name": "04_Apply_US_Crime_Rates.ipynb",
      "provenance": [],
      "collapsed_sections": []
    },
    "kernelspec": {
      "display_name": "Julia",
      "language": "julia",
      "name": "julia"
    },
    "language_info": {
      "file_extension": ".jl",
      "mimetype": "application/julia",
      "name": "julia"
    }
  },
  "cells": [
    {
      "cell_type": "markdown",
      "metadata": {
        "id": "f_1dr-2W5iSU"
      },
      "source": [
        "# Getting Started with Julia in Colab/Jupyter\n",
        "You can either run this notebook in Google Colab, or using Jupyter on your own machine."
      ]
    },
    {
      "cell_type": "markdown",
      "metadata": {
        "id": "6ew60wXrZM0W"
      },
      "source": [
        "## Running on Google Colab\n",
        "1. Work on a copy of this notebook: _File_ > _Save a copy in Drive_ (you will need a Google account). Alternatively, you can download the notebook using _File_ > _Download .ipynb_, then upload it to [Colab](https://colab.research.google.com/).\n",
        "2. Execute the following cell (click on it and press Ctrl+Enter) to install Julia, IJulia (the Jupyter kernel for Julia) and other packages. You can update `JULIA_VERSION` and the other parameters, if you know what you're doing. Installation takes 2-3 minutes.\n",
        "3. Reload this page (press Ctrl+R, or ⌘+R, or the F5 key) and continue to the _Checking the Installation_ section.\n",
        "\n",
        "* _Note_: If your Colab Runtime gets reset (e.g., due to inactivity), repeat steps 2 and 3."
      ]
    },
    {
      "cell_type": "code",
      "metadata": {
        "id": "GIeFXS0F0zww",
        "colab": {
          "base_uri": "https://localhost:8080/"
        },
        "outputId": "689e17d3-9fc5-45c5-f4ed-22fabf89200b"
      },
      "source": [
        "%%shell\n",
        "set -e\n",
        "\n",
        "#---------------------------------------------------#\n",
        "JULIA_VERSION=\"1.6.0\" # any version ≥ 0.7.0\n",
        "JULIA_PACKAGES=\"IJulia DataFrames CSV Pipe DataFramesMeta\"\n",
        "JULIA_PACKAGES_IF_GPU=\"CUDA\"\n",
        "JULIA_NUM_THREADS=4\n",
        "#---------------------------------------------------#\n",
        "\n",
        "if [ -n \"$COLAB_GPU\" ] && [ -z `which julia` ]; then\n",
        "  # Install Julia\n",
        "  JULIA_VER=`cut -d '.' -f -2 <<< \"$JULIA_VERSION\"`\n",
        "  echo \"Installing Julia $JULIA_VERSION on the current Colab Runtime...\"\n",
        "  BASE_URL=\"https://julialang-s3.julialang.org/bin/linux/x64\"\n",
        "  URL=\"$BASE_URL/$JULIA_VER/julia-$JULIA_VERSION-linux-x86_64.tar.gz\"\n",
        "  wget -nv $URL -O /tmp/julia.tar.gz # -nv means \"not verbose\"\n",
        "  tar -x -f /tmp/julia.tar.gz -C /usr/local --strip-components 1\n",
        "  rm /tmp/julia.tar.gz\n",
        "\n",
        "  # Install Packages\n",
        "  if [ \"$COLAB_GPU\" = \"1\" ]; then\n",
        "      JULIA_PACKAGES=\"$JULIA_PACKAGES $JULIA_PACKAGES_IF_GPU\"\n",
        "  fi\n",
        "  for PKG in `echo $JULIA_PACKAGES`; do\n",
        "    echo \"Installing Julia package $PKG...\"\n",
        "    julia -e 'using Pkg; pkg\"add '$PKG'; precompile;\"' &> /dev/null\n",
        "  done\n",
        "\n",
        "  # Install kernel and rename it to \"julia\"\n",
        "  echo \"Installing IJulia kernel...\"\n",
        "  julia -e 'using IJulia; IJulia.installkernel(\"julia\", env=Dict(\n",
        "      \"JULIA_NUM_THREADS\"=>\"'\"$JULIA_NUM_THREADS\"'\"))'\n",
        "  KERNEL_DIR=`julia -e \"using IJulia; print(IJulia.kerneldir())\"`\n",
        "  KERNEL_NAME=`ls -d \"$KERNEL_DIR\"/julia*`\n",
        "  mv -f $KERNEL_NAME \"$KERNEL_DIR\"/julia  \n",
        "\n",
        "  echo ''\n",
        "  echo \"Successfully installed `julia -v`!\"\n",
        "  echo \"Please reload this page (press Ctrl+R, ⌘+R, or the F5 key) then\"\n",
        "  echo \"jump to the 'Checking the Installation' section.\"\n",
        "fi"
      ],
      "execution_count": null,
      "outputs": [
        {
          "metadata": {
            "tags": null
          },
          "name": "stdout",
          "output_type": "stream",
          "text": [
            "Installing Julia 1.6.0 on the current Colab Runtime...\n",
            "2022-02-05 11:33:54 URL:https://storage.googleapis.com/julialang2/bin/linux/x64/1.6/julia-1.6.0-linux-x86_64.tar.gz [112838927/112838927] -> \"/tmp/julia.tar.gz\" [1]\n",
            "Installing Julia package IJulia...\n",
            "Installing Julia package DataFrames...\n",
            "Installing Julia package CSV...\n",
            "Installing Julia package Pipe...\n",
            "Installing Julia package DataFramesMeta...\n"
          ]
        }
      ]
    },
    {
      "cell_type": "markdown",
      "metadata": {
        "id": "-OS3Ac017T1i"
      },
      "source": [
        "## Checking the Installation\n",
        "The `versioninfo()` function should print your Julia version and some other info about the system (if you ever ask for help or file an issue about Julia, you should always provide this information)."
      ]
    },
    {
      "cell_type": "code",
      "metadata": {
        "id": "EEzvvzCl1i0F",
        "colab": {
          "base_uri": "https://localhost:8080/"
        },
        "outputId": "a91787c9-b82c-434f-a91b-1dc35a8317ee"
      },
      "source": [
        "versioninfo()"
      ],
      "execution_count": 1,
      "outputs": [
        {
          "output_type": "stream",
          "name": "stdout",
          "text": [
            "Julia Version 1.6.0\n",
            "Commit f9720dc2eb (2021-03-24 12:55 UTC)\n",
            "Platform Info:\n",
            "  OS: Linux (x86_64-pc-linux-gnu)\n",
            "  CPU: Intel(R) Xeon(R) CPU @ 2.20GHz\n",
            "  WORD_SIZE: 64\n",
            "  LIBM: libopenlibm\n",
            "  LLVM: libLLVM-11.0.1 (ORCJIT, broadwell)\n",
            "Environment:\n",
            "  JULIA_NUM_THREADS = 4\n"
          ]
        }
      ]
    },
    {
      "cell_type": "markdown",
      "source": [
        "# Step 1. Import the necessary libraries"
      ],
      "metadata": {
        "id": "X7Q_s5dFPqhp"
      }
    },
    {
      "cell_type": "code",
      "source": [
        "using DataFrames\n",
        "using CSV\n",
        "using Pipe\n",
        "using DataFramesMeta\n",
        "using Dates"
      ],
      "metadata": {
        "id": "KK15Kx_MPoqz"
      },
      "execution_count": 2,
      "outputs": []
    },
    {
      "cell_type": "markdown",
      "source": [
        "# Step 2. Import the dataset from this [address](https://raw.githubusercontent.com/guipsamora/pandas_exercises/master/04_Apply/US_Crime_Rates/US_Crime_Rates_1960_2014.csv)."
      ],
      "metadata": {
        "id": "6N6aInVGPsUD"
      }
    },
    {
      "cell_type": "code",
      "source": [
        "URL = \"https://raw.githubusercontent.com/guipsamora/pandas_exercises/master/04_Apply/US_Crime_Rates/US_Crime_Rates_1960_2014.csv\"\n",
        "download(URL, \"US_Crime_Rates_1960_2014.csv\")"
      ],
      "metadata": {
        "colab": {
          "base_uri": "https://localhost:8080/"
        },
        "id": "u2_0op-2Pu_3",
        "outputId": "fd9cfd3b-efb3-4d83-c0bd-78bf91b29ed1"
      },
      "execution_count": 3,
      "outputs": [
        {
          "output_type": "execute_result",
          "data": {
            "text/plain": [
              "\"US_Crime_Rates_1960_2014.csv\""
            ]
          },
          "metadata": {},
          "execution_count": 3
        }
      ]
    },
    {
      "cell_type": "markdown",
      "source": [
        "# Step 3. Assign it to a variable called crime."
      ],
      "metadata": {
        "id": "XPRUqdu3PxUq"
      }
    },
    {
      "cell_type": "code",
      "source": [
        "crime = CSV.read(\"US_Crime_Rates_1960_2014.csv\", DataFrame)"
      ],
      "metadata": {
        "colab": {
          "base_uri": "https://localhost:8080/",
          "height": 753
        },
        "id": "fyB7DNscPwzY",
        "outputId": "74abca7f-ad93-44df-8341-00a51a22c7ce"
      },
      "execution_count": 4,
      "outputs": [
        {
          "output_type": "execute_result",
          "data": {
            "text/latex": "\\begin{tabular}{r|ccccccccc}\n\t& Year & Population & Total & Violent & Property & Murder & Forcible\\_Rape & Robbery & \\\\\n\t\\hline\n\t& Int64 & Int64 & Int64 & Int64 & Int64 & Int64 & Int64 & Int64 & \\\\\n\t\\hline\n\t1 & 1960 & 179323175 & 3384200 & 288460 & 3095700 & 9110 & 17190 & 107840 & $\\dots$ \\\\\n\t2 & 1961 & 182992000 & 3488000 & 289390 & 3198600 & 8740 & 17220 & 106670 & $\\dots$ \\\\\n\t3 & 1962 & 185771000 & 3752200 & 301510 & 3450700 & 8530 & 17550 & 110860 & $\\dots$ \\\\\n\t4 & 1963 & 188483000 & 4109500 & 316970 & 3792500 & 8640 & 17650 & 116470 & $\\dots$ \\\\\n\t5 & 1964 & 191141000 & 4564600 & 364220 & 4200400 & 9360 & 21420 & 130390 & $\\dots$ \\\\\n\t6 & 1965 & 193526000 & 4739400 & 387390 & 4352000 & 9960 & 23410 & 138690 & $\\dots$ \\\\\n\t7 & 1966 & 195576000 & 5223500 & 430180 & 4793300 & 11040 & 25820 & 157990 & $\\dots$ \\\\\n\t8 & 1967 & 197457000 & 5903400 & 499930 & 5403500 & 12240 & 27620 & 202910 & $\\dots$ \\\\\n\t9 & 1968 & 199399000 & 6720200 & 595010 & 6125200 & 13800 & 31670 & 262840 & $\\dots$ \\\\\n\t10 & 1969 & 201385000 & 7410900 & 661870 & 6749000 & 14760 & 37170 & 298850 & $\\dots$ \\\\\n\t11 & 1970 & 203235298 & 8098000 & 738820 & 7359200 & 16000 & 37990 & 349860 & $\\dots$ \\\\\n\t12 & 1971 & 206212000 & 8588200 & 816500 & 7771700 & 17780 & 42260 & 387700 & $\\dots$ \\\\\n\t13 & 1972 & 208230000 & 8248800 & 834900 & 7413900 & 18670 & 46850 & 376290 & $\\dots$ \\\\\n\t14 & 1973 & 209851000 & 8718100 & 875910 & 7842200 & 19640 & 51400 & 384220 & $\\dots$ \\\\\n\t15 & 1974 & 211392000 & 10253400 & 974720 & 9278700 & 20710 & 55400 & 442400 & $\\dots$ \\\\\n\t16 & 1975 & 213124000 & 11292400 & 1039710 & 10252700 & 20510 & 56090 & 470500 & $\\dots$ \\\\\n\t17 & 1976 & 214659000 & 11349700 & 1004210 & 10345500 & 18780 & 57080 & 427810 & $\\dots$ \\\\\n\t18 & 1977 & 216332000 & 10984500 & 1029580 & 9955000 & 19120 & 63500 & 412610 & $\\dots$ \\\\\n\t19 & 1978 & 218059000 & 11209000 & 1085550 & 10123400 & 19560 & 67610 & 426930 & $\\dots$ \\\\\n\t20 & 1979 & 220099000 & 12249500 & 1208030 & 11041500 & 21460 & 76390 & 480700 & $\\dots$ \\\\\n\t21 & 1980 & 225349264 & 13408300 & 1344520 & 12063700 & 23040 & 82990 & 565840 & $\\dots$ \\\\\n\t22 & 1981 & 229146000 & 13423800 & 1361820 & 12061900 & 22520 & 82500 & 592910 & $\\dots$ \\\\\n\t23 & 1982 & 231534000 & 12974400 & 1322390 & 11652000 & 21010 & 78770 & 553130 & $\\dots$ \\\\\n\t24 & 1983 & 233981000 & 12108600 & 1258090 & 10850500 & 19310 & 78920 & 506570 & $\\dots$ \\\\\n\t25 & 1984 & 236158000 & 11881800 & 1273280 & 10608500 & 18690 & 84230 & 485010 & $\\dots$ \\\\\n\t26 & 1985 & 238740000 & 12431400 & 1328800 & 11102600 & 18980 & 88670 & 497870 & $\\dots$ \\\\\n\t27 & 1986 & 240132887 & 13211869 & 1489169 & 11722700 & 20613 & 91459 & 542775 & $\\dots$ \\\\\n\t28 & 1987 & 242282918 & 13508700 & 1483999 & 12024700 & 20096 & 91110 & 517704 & $\\dots$ \\\\\n\t29 & 1988 & 245807000 & 13923100 & 1566220 & 12356900 & 20680 & 92490 & 542970 & $\\dots$ \\\\\n\t30 & 1989 & 248239000 & 14251400 & 1646040 & 12605400 & 21500 & 94500 & 578330 & $\\dots$ \\\\\n\t$\\dots$ & $\\dots$ & $\\dots$ & $\\dots$ & $\\dots$ & $\\dots$ & $\\dots$ & $\\dots$ & $\\dots$ &  \\\\\n\\end{tabular}\n",
            "text/html": [
              "<div class=\"data-frame\"><p>55 rows × 12 columns (omitted printing of 4 columns)</p><table class=\"data-frame\"><thead><tr><th></th><th>Year</th><th>Population</th><th>Total</th><th>Violent</th><th>Property</th><th>Murder</th><th>Forcible_Rape</th><th>Robbery</th></tr><tr><th></th><th title=\"Int64\">Int64</th><th title=\"Int64\">Int64</th><th title=\"Int64\">Int64</th><th title=\"Int64\">Int64</th><th title=\"Int64\">Int64</th><th title=\"Int64\">Int64</th><th title=\"Int64\">Int64</th><th title=\"Int64\">Int64</th></tr></thead><tbody><tr><th>1</th><td>1960</td><td>179323175</td><td>3384200</td><td>288460</td><td>3095700</td><td>9110</td><td>17190</td><td>107840</td></tr><tr><th>2</th><td>1961</td><td>182992000</td><td>3488000</td><td>289390</td><td>3198600</td><td>8740</td><td>17220</td><td>106670</td></tr><tr><th>3</th><td>1962</td><td>185771000</td><td>3752200</td><td>301510</td><td>3450700</td><td>8530</td><td>17550</td><td>110860</td></tr><tr><th>4</th><td>1963</td><td>188483000</td><td>4109500</td><td>316970</td><td>3792500</td><td>8640</td><td>17650</td><td>116470</td></tr><tr><th>5</th><td>1964</td><td>191141000</td><td>4564600</td><td>364220</td><td>4200400</td><td>9360</td><td>21420</td><td>130390</td></tr><tr><th>6</th><td>1965</td><td>193526000</td><td>4739400</td><td>387390</td><td>4352000</td><td>9960</td><td>23410</td><td>138690</td></tr><tr><th>7</th><td>1966</td><td>195576000</td><td>5223500</td><td>430180</td><td>4793300</td><td>11040</td><td>25820</td><td>157990</td></tr><tr><th>8</th><td>1967</td><td>197457000</td><td>5903400</td><td>499930</td><td>5403500</td><td>12240</td><td>27620</td><td>202910</td></tr><tr><th>9</th><td>1968</td><td>199399000</td><td>6720200</td><td>595010</td><td>6125200</td><td>13800</td><td>31670</td><td>262840</td></tr><tr><th>10</th><td>1969</td><td>201385000</td><td>7410900</td><td>661870</td><td>6749000</td><td>14760</td><td>37170</td><td>298850</td></tr><tr><th>11</th><td>1970</td><td>203235298</td><td>8098000</td><td>738820</td><td>7359200</td><td>16000</td><td>37990</td><td>349860</td></tr><tr><th>12</th><td>1971</td><td>206212000</td><td>8588200</td><td>816500</td><td>7771700</td><td>17780</td><td>42260</td><td>387700</td></tr><tr><th>13</th><td>1972</td><td>208230000</td><td>8248800</td><td>834900</td><td>7413900</td><td>18670</td><td>46850</td><td>376290</td></tr><tr><th>14</th><td>1973</td><td>209851000</td><td>8718100</td><td>875910</td><td>7842200</td><td>19640</td><td>51400</td><td>384220</td></tr><tr><th>15</th><td>1974</td><td>211392000</td><td>10253400</td><td>974720</td><td>9278700</td><td>20710</td><td>55400</td><td>442400</td></tr><tr><th>16</th><td>1975</td><td>213124000</td><td>11292400</td><td>1039710</td><td>10252700</td><td>20510</td><td>56090</td><td>470500</td></tr><tr><th>17</th><td>1976</td><td>214659000</td><td>11349700</td><td>1004210</td><td>10345500</td><td>18780</td><td>57080</td><td>427810</td></tr><tr><th>18</th><td>1977</td><td>216332000</td><td>10984500</td><td>1029580</td><td>9955000</td><td>19120</td><td>63500</td><td>412610</td></tr><tr><th>19</th><td>1978</td><td>218059000</td><td>11209000</td><td>1085550</td><td>10123400</td><td>19560</td><td>67610</td><td>426930</td></tr><tr><th>20</th><td>1979</td><td>220099000</td><td>12249500</td><td>1208030</td><td>11041500</td><td>21460</td><td>76390</td><td>480700</td></tr><tr><th>21</th><td>1980</td><td>225349264</td><td>13408300</td><td>1344520</td><td>12063700</td><td>23040</td><td>82990</td><td>565840</td></tr><tr><th>22</th><td>1981</td><td>229146000</td><td>13423800</td><td>1361820</td><td>12061900</td><td>22520</td><td>82500</td><td>592910</td></tr><tr><th>23</th><td>1982</td><td>231534000</td><td>12974400</td><td>1322390</td><td>11652000</td><td>21010</td><td>78770</td><td>553130</td></tr><tr><th>24</th><td>1983</td><td>233981000</td><td>12108600</td><td>1258090</td><td>10850500</td><td>19310</td><td>78920</td><td>506570</td></tr><tr><th>25</th><td>1984</td><td>236158000</td><td>11881800</td><td>1273280</td><td>10608500</td><td>18690</td><td>84230</td><td>485010</td></tr><tr><th>26</th><td>1985</td><td>238740000</td><td>12431400</td><td>1328800</td><td>11102600</td><td>18980</td><td>88670</td><td>497870</td></tr><tr><th>27</th><td>1986</td><td>240132887</td><td>13211869</td><td>1489169</td><td>11722700</td><td>20613</td><td>91459</td><td>542775</td></tr><tr><th>28</th><td>1987</td><td>242282918</td><td>13508700</td><td>1483999</td><td>12024700</td><td>20096</td><td>91110</td><td>517704</td></tr><tr><th>29</th><td>1988</td><td>245807000</td><td>13923100</td><td>1566220</td><td>12356900</td><td>20680</td><td>92490</td><td>542970</td></tr><tr><th>30</th><td>1989</td><td>248239000</td><td>14251400</td><td>1646040</td><td>12605400</td><td>21500</td><td>94500</td><td>578330</td></tr><tr><th>&vellip;</th><td>&vellip;</td><td>&vellip;</td><td>&vellip;</td><td>&vellip;</td><td>&vellip;</td><td>&vellip;</td><td>&vellip;</td><td>&vellip;</td></tr></tbody></table></div>"
            ],
            "text/plain": [
              "\u001b[1m55×12 DataFrame\u001b[0m\n",
              "\u001b[1m Row \u001b[0m│\u001b[1m Year  \u001b[0m\u001b[1m Population \u001b[0m\u001b[1m Total    \u001b[0m\u001b[1m Violent \u001b[0m\u001b[1m Property \u001b[0m\u001b[1m Murder \u001b[0m\u001b[1m Forcible_Rape \u001b[0m\u001b[1m \u001b[0m ⋯\n",
              "\u001b[1m     \u001b[0m│\u001b[90m Int64 \u001b[0m\u001b[90m Int64      \u001b[0m\u001b[90m Int64    \u001b[0m\u001b[90m Int64   \u001b[0m\u001b[90m Int64    \u001b[0m\u001b[90m Int64  \u001b[0m\u001b[90m Int64         \u001b[0m\u001b[90m \u001b[0m ⋯\n",
              "─────┼──────────────────────────────────────────────────────────────────────────\n",
              "   1 │  1960   179323175   3384200   288460   3095700    9110          17190   ⋯\n",
              "   2 │  1961   182992000   3488000   289390   3198600    8740          17220\n",
              "   3 │  1962   185771000   3752200   301510   3450700    8530          17550\n",
              "   4 │  1963   188483000   4109500   316970   3792500    8640          17650\n",
              "   5 │  1964   191141000   4564600   364220   4200400    9360          21420   ⋯\n",
              "   6 │  1965   193526000   4739400   387390   4352000    9960          23410\n",
              "   7 │  1966   195576000   5223500   430180   4793300   11040          25820\n",
              "   8 │  1967   197457000   5903400   499930   5403500   12240          27620\n",
              "   9 │  1968   199399000   6720200   595010   6125200   13800          31670   ⋯\n",
              "  10 │  1969   201385000   7410900   661870   6749000   14760          37170\n",
              "  11 │  1970   203235298   8098000   738820   7359200   16000          37990\n",
              "  ⋮  │   ⋮        ⋮          ⋮         ⋮        ⋮        ⋮           ⋮         ⋱\n",
              "  46 │  2005   296507061  11565499  1390745  10174754   16740          94347\n",
              "  47 │  2006   299398484  11401511  1418043   9983568   17030          92757   ⋯\n",
              "  48 │  2007   301621157  11251828  1408337   9843481   16929          90427\n",
              "  49 │  2008   304374846  11160543  1392628   9767915   16442          90479\n",
              "  50 │  2009   307006550  10762956  1325896   9337060   15399          89241\n",
              "  51 │  2010   309330219  10363873  1251248   9112625   14772          85593   ⋯\n",
              "  52 │  2011   311587816  10258774  1206031   9052743   14661          84175\n",
              "  53 │  2012   313873685  10219059  1217067   9001992   14866          85141\n",
              "  54 │  2013   316497531   9850445  1199684   8650761   14319          82109\n",
              "  55 │  2014   318857056   9475816  1197987   8277829   14249          84041   ⋯\n",
              "\u001b[36m                                                   5 columns and 34 rows omitted\u001b[0m"
            ]
          },
          "metadata": {},
          "execution_count": 4
        }
      ]
    },
    {
      "cell_type": "markdown",
      "source": [
        "# Step 4. What is the type of the columns?"
      ],
      "metadata": {
        "id": "6vDeIA3pQZN5"
      }
    },
    {
      "cell_type": "code",
      "source": [
        "eltype.(eachcol(crime))"
      ],
      "metadata": {
        "colab": {
          "base_uri": "https://localhost:8080/"
        },
        "id": "Gd_r-B3aP1JN",
        "outputId": "2d5b0a71-0e35-49a6-a741-11a2a03254b0"
      },
      "execution_count": 5,
      "outputs": [
        {
          "output_type": "execute_result",
          "data": {
            "text/plain": [
              "12-element Vector{DataType}:\n",
              " Int64\n",
              " Int64\n",
              " Int64\n",
              " Int64\n",
              " Int64\n",
              " Int64\n",
              " Int64\n",
              " Int64\n",
              " Int64\n",
              " Int64\n",
              " Int64\n",
              " Int64"
            ]
          },
          "metadata": {},
          "execution_count": 5
        }
      ]
    },
    {
      "cell_type": "markdown",
      "source": [
        "# Step 5. Convert the type of the column Year to datetime64"
      ],
      "metadata": {
        "id": "3IFVM81JStI3"
      }
    },
    {
      "cell_type": "code",
      "source": [
        "crime.Year = Date.(crime.Year)"
      ],
      "metadata": {
        "colab": {
          "base_uri": "https://localhost:8080/"
        },
        "id": "r5eF-F23QZz7",
        "outputId": "d2c0cb44-35bd-43d3-ae11-d4b087c167ea"
      },
      "execution_count": 6,
      "outputs": [
        {
          "output_type": "execute_result",
          "data": {
            "text/plain": [
              "55-element Vector{Date}:\n",
              " 1960-01-01\n",
              " 1961-01-01\n",
              " 1962-01-01\n",
              " 1963-01-01\n",
              " 1964-01-01\n",
              " 1965-01-01\n",
              " 1966-01-01\n",
              " 1967-01-01\n",
              " 1968-01-01\n",
              " 1969-01-01\n",
              " 1970-01-01\n",
              " 1971-01-01\n",
              " 1972-01-01\n",
              " ⋮\n",
              " 2003-01-01\n",
              " 2004-01-01\n",
              " 2005-01-01\n",
              " 2006-01-01\n",
              " 2007-01-01\n",
              " 2008-01-01\n",
              " 2009-01-01\n",
              " 2010-01-01\n",
              " 2011-01-01\n",
              " 2012-01-01\n",
              " 2013-01-01\n",
              " 2014-01-01"
            ]
          },
          "metadata": {},
          "execution_count": 6
        }
      ]
    },
    {
      "cell_type": "code",
      "source": [
        "eltype.(eachcol(crime))"
      ],
      "metadata": {
        "colab": {
          "base_uri": "https://localhost:8080/"
        },
        "id": "VztgFUb5t4yn",
        "outputId": "de76f78b-316d-4e47-cf07-20487447b4ac"
      },
      "execution_count": 10,
      "outputs": [
        {
          "output_type": "execute_result",
          "data": {
            "text/plain": [
              "11-element Vector{DataType}:\n",
              " Date\n",
              " Int64\n",
              " Int64\n",
              " Int64\n",
              " Int64\n",
              " Int64\n",
              " Int64\n",
              " Int64\n",
              " Int64\n",
              " Int64\n",
              " Int64"
            ]
          },
          "metadata": {},
          "execution_count": 10
        }
      ]
    },
    {
      "cell_type": "markdown",
      "source": [
        "# Step 6. Set the Year column as the index of the dataframe"
      ],
      "metadata": {
        "id": "VDR0hOc8UuRq"
      }
    },
    {
      "cell_type": "code",
      "source": [
        "# This doesn't have much meaning in DataFrames.jl"
      ],
      "metadata": {
        "id": "yuP3K-JISt84"
      },
      "execution_count": 7,
      "outputs": []
    },
    {
      "cell_type": "markdown",
      "source": [
        "# Step 7. Delete the Total column"
      ],
      "metadata": {
        "id": "akfHswdjVH16"
      }
    },
    {
      "cell_type": "code",
      "source": [
        "select!(crime, Not(:Total)) # This is a supremely weird way to delte columns"
      ],
      "metadata": {
        "colab": {
          "base_uri": "https://localhost:8080/",
          "height": 753
        },
        "id": "o6bH0YBZUvJi",
        "outputId": "4a1d6362-2e17-459f-c847-59e91211968f"
      },
      "execution_count": 8,
      "outputs": [
        {
          "output_type": "execute_result",
          "data": {
            "text/latex": "\\begin{tabular}{r|ccccccccc}\n\t& Year & Population & Violent & Property & Murder & Forcible\\_Rape & Robbery & Aggravated\\_assault & \\\\\n\t\\hline\n\t& Date & Int64 & Int64 & Int64 & Int64 & Int64 & Int64 & Int64 & \\\\\n\t\\hline\n\t1 & 1960-01-01 & 179323175 & 288460 & 3095700 & 9110 & 17190 & 107840 & 154320 & $\\dots$ \\\\\n\t2 & 1961-01-01 & 182992000 & 289390 & 3198600 & 8740 & 17220 & 106670 & 156760 & $\\dots$ \\\\\n\t3 & 1962-01-01 & 185771000 & 301510 & 3450700 & 8530 & 17550 & 110860 & 164570 & $\\dots$ \\\\\n\t4 & 1963-01-01 & 188483000 & 316970 & 3792500 & 8640 & 17650 & 116470 & 174210 & $\\dots$ \\\\\n\t5 & 1964-01-01 & 191141000 & 364220 & 4200400 & 9360 & 21420 & 130390 & 203050 & $\\dots$ \\\\\n\t6 & 1965-01-01 & 193526000 & 387390 & 4352000 & 9960 & 23410 & 138690 & 215330 & $\\dots$ \\\\\n\t7 & 1966-01-01 & 195576000 & 430180 & 4793300 & 11040 & 25820 & 157990 & 235330 & $\\dots$ \\\\\n\t8 & 1967-01-01 & 197457000 & 499930 & 5403500 & 12240 & 27620 & 202910 & 257160 & $\\dots$ \\\\\n\t9 & 1968-01-01 & 199399000 & 595010 & 6125200 & 13800 & 31670 & 262840 & 286700 & $\\dots$ \\\\\n\t10 & 1969-01-01 & 201385000 & 661870 & 6749000 & 14760 & 37170 & 298850 & 311090 & $\\dots$ \\\\\n\t11 & 1970-01-01 & 203235298 & 738820 & 7359200 & 16000 & 37990 & 349860 & 334970 & $\\dots$ \\\\\n\t12 & 1971-01-01 & 206212000 & 816500 & 7771700 & 17780 & 42260 & 387700 & 368760 & $\\dots$ \\\\\n\t13 & 1972-01-01 & 208230000 & 834900 & 7413900 & 18670 & 46850 & 376290 & 393090 & $\\dots$ \\\\\n\t14 & 1973-01-01 & 209851000 & 875910 & 7842200 & 19640 & 51400 & 384220 & 420650 & $\\dots$ \\\\\n\t15 & 1974-01-01 & 211392000 & 974720 & 9278700 & 20710 & 55400 & 442400 & 456210 & $\\dots$ \\\\\n\t16 & 1975-01-01 & 213124000 & 1039710 & 10252700 & 20510 & 56090 & 470500 & 492620 & $\\dots$ \\\\\n\t17 & 1976-01-01 & 214659000 & 1004210 & 10345500 & 18780 & 57080 & 427810 & 500530 & $\\dots$ \\\\\n\t18 & 1977-01-01 & 216332000 & 1029580 & 9955000 & 19120 & 63500 & 412610 & 534350 & $\\dots$ \\\\\n\t19 & 1978-01-01 & 218059000 & 1085550 & 10123400 & 19560 & 67610 & 426930 & 571460 & $\\dots$ \\\\\n\t20 & 1979-01-01 & 220099000 & 1208030 & 11041500 & 21460 & 76390 & 480700 & 629480 & $\\dots$ \\\\\n\t21 & 1980-01-01 & 225349264 & 1344520 & 12063700 & 23040 & 82990 & 565840 & 672650 & $\\dots$ \\\\\n\t22 & 1981-01-01 & 229146000 & 1361820 & 12061900 & 22520 & 82500 & 592910 & 663900 & $\\dots$ \\\\\n\t23 & 1982-01-01 & 231534000 & 1322390 & 11652000 & 21010 & 78770 & 553130 & 669480 & $\\dots$ \\\\\n\t24 & 1983-01-01 & 233981000 & 1258090 & 10850500 & 19310 & 78920 & 506570 & 653290 & $\\dots$ \\\\\n\t25 & 1984-01-01 & 236158000 & 1273280 & 10608500 & 18690 & 84230 & 485010 & 685350 & $\\dots$ \\\\\n\t26 & 1985-01-01 & 238740000 & 1328800 & 11102600 & 18980 & 88670 & 497870 & 723250 & $\\dots$ \\\\\n\t27 & 1986-01-01 & 240132887 & 1489169 & 11722700 & 20613 & 91459 & 542775 & 834322 & $\\dots$ \\\\\n\t28 & 1987-01-01 & 242282918 & 1483999 & 12024700 & 20096 & 91110 & 517704 & 855088 & $\\dots$ \\\\\n\t29 & 1988-01-01 & 245807000 & 1566220 & 12356900 & 20680 & 92490 & 542970 & 910090 & $\\dots$ \\\\\n\t30 & 1989-01-01 & 248239000 & 1646040 & 12605400 & 21500 & 94500 & 578330 & 951710 & $\\dots$ \\\\\n\t$\\dots$ & $\\dots$ & $\\dots$ & $\\dots$ & $\\dots$ & $\\dots$ & $\\dots$ & $\\dots$ & $\\dots$ &  \\\\\n\\end{tabular}\n",
            "text/html": [
              "<div class=\"data-frame\"><p>55 rows × 11 columns (omitted printing of 3 columns)</p><table class=\"data-frame\"><thead><tr><th></th><th>Year</th><th>Population</th><th>Violent</th><th>Property</th><th>Murder</th><th>Forcible_Rape</th><th>Robbery</th><th>Aggravated_assault</th></tr><tr><th></th><th title=\"Date\">Date</th><th title=\"Int64\">Int64</th><th title=\"Int64\">Int64</th><th title=\"Int64\">Int64</th><th title=\"Int64\">Int64</th><th title=\"Int64\">Int64</th><th title=\"Int64\">Int64</th><th title=\"Int64\">Int64</th></tr></thead><tbody><tr><th>1</th><td>1960-01-01</td><td>179323175</td><td>288460</td><td>3095700</td><td>9110</td><td>17190</td><td>107840</td><td>154320</td></tr><tr><th>2</th><td>1961-01-01</td><td>182992000</td><td>289390</td><td>3198600</td><td>8740</td><td>17220</td><td>106670</td><td>156760</td></tr><tr><th>3</th><td>1962-01-01</td><td>185771000</td><td>301510</td><td>3450700</td><td>8530</td><td>17550</td><td>110860</td><td>164570</td></tr><tr><th>4</th><td>1963-01-01</td><td>188483000</td><td>316970</td><td>3792500</td><td>8640</td><td>17650</td><td>116470</td><td>174210</td></tr><tr><th>5</th><td>1964-01-01</td><td>191141000</td><td>364220</td><td>4200400</td><td>9360</td><td>21420</td><td>130390</td><td>203050</td></tr><tr><th>6</th><td>1965-01-01</td><td>193526000</td><td>387390</td><td>4352000</td><td>9960</td><td>23410</td><td>138690</td><td>215330</td></tr><tr><th>7</th><td>1966-01-01</td><td>195576000</td><td>430180</td><td>4793300</td><td>11040</td><td>25820</td><td>157990</td><td>235330</td></tr><tr><th>8</th><td>1967-01-01</td><td>197457000</td><td>499930</td><td>5403500</td><td>12240</td><td>27620</td><td>202910</td><td>257160</td></tr><tr><th>9</th><td>1968-01-01</td><td>199399000</td><td>595010</td><td>6125200</td><td>13800</td><td>31670</td><td>262840</td><td>286700</td></tr><tr><th>10</th><td>1969-01-01</td><td>201385000</td><td>661870</td><td>6749000</td><td>14760</td><td>37170</td><td>298850</td><td>311090</td></tr><tr><th>11</th><td>1970-01-01</td><td>203235298</td><td>738820</td><td>7359200</td><td>16000</td><td>37990</td><td>349860</td><td>334970</td></tr><tr><th>12</th><td>1971-01-01</td><td>206212000</td><td>816500</td><td>7771700</td><td>17780</td><td>42260</td><td>387700</td><td>368760</td></tr><tr><th>13</th><td>1972-01-01</td><td>208230000</td><td>834900</td><td>7413900</td><td>18670</td><td>46850</td><td>376290</td><td>393090</td></tr><tr><th>14</th><td>1973-01-01</td><td>209851000</td><td>875910</td><td>7842200</td><td>19640</td><td>51400</td><td>384220</td><td>420650</td></tr><tr><th>15</th><td>1974-01-01</td><td>211392000</td><td>974720</td><td>9278700</td><td>20710</td><td>55400</td><td>442400</td><td>456210</td></tr><tr><th>16</th><td>1975-01-01</td><td>213124000</td><td>1039710</td><td>10252700</td><td>20510</td><td>56090</td><td>470500</td><td>492620</td></tr><tr><th>17</th><td>1976-01-01</td><td>214659000</td><td>1004210</td><td>10345500</td><td>18780</td><td>57080</td><td>427810</td><td>500530</td></tr><tr><th>18</th><td>1977-01-01</td><td>216332000</td><td>1029580</td><td>9955000</td><td>19120</td><td>63500</td><td>412610</td><td>534350</td></tr><tr><th>19</th><td>1978-01-01</td><td>218059000</td><td>1085550</td><td>10123400</td><td>19560</td><td>67610</td><td>426930</td><td>571460</td></tr><tr><th>20</th><td>1979-01-01</td><td>220099000</td><td>1208030</td><td>11041500</td><td>21460</td><td>76390</td><td>480700</td><td>629480</td></tr><tr><th>21</th><td>1980-01-01</td><td>225349264</td><td>1344520</td><td>12063700</td><td>23040</td><td>82990</td><td>565840</td><td>672650</td></tr><tr><th>22</th><td>1981-01-01</td><td>229146000</td><td>1361820</td><td>12061900</td><td>22520</td><td>82500</td><td>592910</td><td>663900</td></tr><tr><th>23</th><td>1982-01-01</td><td>231534000</td><td>1322390</td><td>11652000</td><td>21010</td><td>78770</td><td>553130</td><td>669480</td></tr><tr><th>24</th><td>1983-01-01</td><td>233981000</td><td>1258090</td><td>10850500</td><td>19310</td><td>78920</td><td>506570</td><td>653290</td></tr><tr><th>25</th><td>1984-01-01</td><td>236158000</td><td>1273280</td><td>10608500</td><td>18690</td><td>84230</td><td>485010</td><td>685350</td></tr><tr><th>26</th><td>1985-01-01</td><td>238740000</td><td>1328800</td><td>11102600</td><td>18980</td><td>88670</td><td>497870</td><td>723250</td></tr><tr><th>27</th><td>1986-01-01</td><td>240132887</td><td>1489169</td><td>11722700</td><td>20613</td><td>91459</td><td>542775</td><td>834322</td></tr><tr><th>28</th><td>1987-01-01</td><td>242282918</td><td>1483999</td><td>12024700</td><td>20096</td><td>91110</td><td>517704</td><td>855088</td></tr><tr><th>29</th><td>1988-01-01</td><td>245807000</td><td>1566220</td><td>12356900</td><td>20680</td><td>92490</td><td>542970</td><td>910090</td></tr><tr><th>30</th><td>1989-01-01</td><td>248239000</td><td>1646040</td><td>12605400</td><td>21500</td><td>94500</td><td>578330</td><td>951710</td></tr><tr><th>&vellip;</th><td>&vellip;</td><td>&vellip;</td><td>&vellip;</td><td>&vellip;</td><td>&vellip;</td><td>&vellip;</td><td>&vellip;</td><td>&vellip;</td></tr></tbody></table></div>"
            ],
            "text/plain": [
              "\u001b[1m55×11 DataFrame\u001b[0m\n",
              "\u001b[1m Row \u001b[0m│\u001b[1m Year       \u001b[0m\u001b[1m Population \u001b[0m\u001b[1m Violent \u001b[0m\u001b[1m Property \u001b[0m\u001b[1m Murder \u001b[0m\u001b[1m Forcible_Rape \u001b[0m\u001b[1m Robbe\u001b[0m ⋯\n",
              "\u001b[1m     \u001b[0m│\u001b[90m Date       \u001b[0m\u001b[90m Int64      \u001b[0m\u001b[90m Int64   \u001b[0m\u001b[90m Int64    \u001b[0m\u001b[90m Int64  \u001b[0m\u001b[90m Int64         \u001b[0m\u001b[90m Int64\u001b[0m ⋯\n",
              "─────┼──────────────────────────────────────────────────────────────────────────\n",
              "   1 │ 1960-01-01   179323175   288460   3095700    9110          17190   1078 ⋯\n",
              "   2 │ 1961-01-01   182992000   289390   3198600    8740          17220   1066\n",
              "   3 │ 1962-01-01   185771000   301510   3450700    8530          17550   1108\n",
              "   4 │ 1963-01-01   188483000   316970   3792500    8640          17650   1164\n",
              "   5 │ 1964-01-01   191141000   364220   4200400    9360          21420   1303 ⋯\n",
              "   6 │ 1965-01-01   193526000   387390   4352000    9960          23410   1386\n",
              "   7 │ 1966-01-01   195576000   430180   4793300   11040          25820   1579\n",
              "   8 │ 1967-01-01   197457000   499930   5403500   12240          27620   2029\n",
              "   9 │ 1968-01-01   199399000   595010   6125200   13800          31670   2628 ⋯\n",
              "  10 │ 1969-01-01   201385000   661870   6749000   14760          37170   2988\n",
              "  11 │ 1970-01-01   203235298   738820   7359200   16000          37990   3498\n",
              "  ⋮  │     ⋮           ⋮          ⋮        ⋮        ⋮           ⋮           ⋮  ⋱\n",
              "  46 │ 2005-01-01   296507061  1390745  10174754   16740          94347   4174\n",
              "  47 │ 2006-01-01   299398484  1418043   9983568   17030          92757   4474 ⋯\n",
              "  48 │ 2007-01-01   301621157  1408337   9843481   16929          90427   4451\n",
              "  49 │ 2008-01-01   304374846  1392628   9767915   16442          90479   4435\n",
              "  50 │ 2009-01-01   307006550  1325896   9337060   15399          89241   4087\n",
              "  51 │ 2010-01-01   309330219  1251248   9112625   14772          85593   3690 ⋯\n",
              "  52 │ 2011-01-01   311587816  1206031   9052743   14661          84175   3547\n",
              "  53 │ 2012-01-01   313873685  1217067   9001992   14866          85141   3550\n",
              "  54 │ 2013-01-01   316497531  1199684   8650761   14319          82109   3450\n",
              "  55 │ 2014-01-01   318857056  1197987   8277829   14249          84041   3258 ⋯\n",
              "\u001b[36m                                                   5 columns and 34 rows omitted\u001b[0m"
            ]
          },
          "metadata": {},
          "execution_count": 8
        }
      ]
    },
    {
      "cell_type": "markdown",
      "source": [
        "# Step 8. Group the year by decades and sum the values"
      ],
      "metadata": {
        "id": "i7AH-WgAuWTJ"
      }
    },
    {
      "cell_type": "code",
      "source": [
        "# Honestly can think of any good approach at the moment. will add something better later"
      ],
      "metadata": {
        "id": "2WbcS4NZuUPP"
      },
      "execution_count": null,
      "outputs": []
    }
  ]
}